{
  "cells": [
    {
      "cell_type": "markdown",
      "metadata": {},
      "source": [
        "---\n",
        "jupyter: python3\n",
        "---\n",
        "\n",
        "# Optimization {#sec-optimization}\n",
        "\n",
        "$~$\n",
        "\n",
        "In this appendix,\n",
        "\n",
        "* We discuss using `scipy`'s optimization module `optimize` for nonlinear optimization problems,\n",
        "\n",
        "* and we will briefly explore using the convex optimization library `cvxopt` for linear optimization problems with linear constraints. This library also has powerful solvers for quadratic programming problems. For more information, see the project’s web site [http://cvxopt.org](http://cvxopt.org)\n",
        "\n",
        "## Importing modules"
      ],
      "id": "8bfe6898"
    },
    {
      "cell_type": "code",
      "metadata": {},
      "source": [
        "import numpy as np\n",
        "import sympy\n",
        "sympy.init_printing()\n",
        "\n",
        "from scipy import optimize\n",
        "import cvxopt\n",
        "\n",
        "import matplotlib as mpl\n",
        "import matplotlib.pyplot as plt\n",
        "\n",
        "from IPython.display import display\n",
        "\n",
        "print(\"cvxopt: \", cvxopt.__version__)"
      ],
      "id": "f3876812",
      "execution_count": null,
      "outputs": []
    },
    {
      "cell_type": "markdown",
      "metadata": {},
      "source": [
        "## Classification of optimization problems\n",
        "\n",
        "\n",
        "A general optimization problem considered here can be formulated as a minimization problem, \n",
        "$\\min_x f(x)$, subject to sets of $m$ equality constraints $g(x)=0$ and $p$ inequality constraints $h(x) \\leq 0$\n",
        "\n",
        "Depending on the properties of the objective function $f(x)$ and the equality and inequality constraints $g(x)$ and $h(x)$, this formulation includes a rich variety of problems\n",
        "\n",
        "* univariate(one dimensional) or multivariate(multidimensional)\n",
        "* linear programming problem or nonlinear programming problem\n",
        "* unconstrained, or constrained(equality and inequality constraints require different approaches)\n",
        "* convex or non-convex\n",
        "* continuous(smooth) or discontinuous\n",
        "\n",
        "## Univariate optimization\n",
        "\n",
        "Minimize the area of a cylinder with unit volume. Here, suitable variables are the radius  and height  of the cylinder, and the objective function is\n",
        "\n",
        "$$ f(r,h) = 2\\pi r^2 + 2\\pi rh$$\n",
        "\n",
        "subject to the equality constraint\n",
        "\n",
        "$$ g(r,h) = \\pi r^2h -1 = 0 $$"
      ],
      "id": "890b6b6c"
    },
    {
      "cell_type": "code",
      "metadata": {},
      "source": [
        "r, h = sympy.symbols(\"r, h\")\n",
        "Area = 2 *sympy.pi *r**2 + 2 *sympy.pi *r *h \n",
        "Volume = sympy.pi *r**2 *h"
      ],
      "id": "32c5c3bb",
      "execution_count": null,
      "outputs": []
    },
    {
      "cell_type": "code",
      "metadata": {},
      "source": [
        "h_r = sympy.solve(Volume -1)[0]\n",
        "h_r"
      ],
      "id": "1883d06c",
      "execution_count": null,
      "outputs": []
    },
    {
      "cell_type": "code",
      "metadata": {},
      "source": [
        "Area_r = Area.subs(h_r)\n",
        "Area_r"
      ],
      "id": "d061268d",
      "execution_count": null,
      "outputs": []
    },
    {
      "cell_type": "code",
      "metadata": {},
      "source": [
        "# f'(r_sol) = 0\n",
        "rsol = sympy.solve(Area_r.diff(r))[0]\n",
        "rsol"
      ],
      "id": "cfe33136",
      "execution_count": null,
      "outputs": []
    },
    {
      "cell_type": "code",
      "metadata": {},
      "source": [
        "_.evalf()"
      ],
      "id": "b7e6aa06",
      "execution_count": null,
      "outputs": []
    },
    {
      "cell_type": "code",
      "metadata": {},
      "source": [
        "# f''(r_sol) > 0\n",
        "Area_r.diff(r, 2).subs(r, rsol)"
      ],
      "id": "a9083749",
      "execution_count": null,
      "outputs": []
    },
    {
      "cell_type": "code",
      "metadata": {},
      "source": [
        "Area_r.subs(r, rsol)"
      ],
      "id": "4e188868",
      "execution_count": null,
      "outputs": []
    },
    {
      "cell_type": "code",
      "metadata": {},
      "source": [
        "# Minimum Area\n",
        "_.evalf()"
      ],
      "id": "e60b84af",
      "execution_count": null,
      "outputs": []
    },
    {
      "cell_type": "markdown",
      "metadata": {},
      "source": [
        "---"
      ],
      "id": "a492de9b"
    },
    {
      "cell_type": "code",
      "metadata": {},
      "source": [
        "def f(r):\n",
        "  return 2 *np.pi *r**2 + 2 /r"
      ],
      "id": "7e4704a9",
      "execution_count": null,
      "outputs": []
    },
    {
      "cell_type": "code",
      "metadata": {},
      "source": [
        "r_min = optimize.brent(f, brack=(0.1, 4))\n",
        "r_min"
      ],
      "id": "3219e779",
      "execution_count": null,
      "outputs": []
    },
    {
      "cell_type": "code",
      "metadata": {},
      "source": [
        "f(r_min)"
      ],
      "id": "03b85176",
      "execution_count": null,
      "outputs": []
    },
    {
      "cell_type": "markdown",
      "metadata": {},
      "source": [
        "---"
      ],
      "id": "ee9ee64d"
    },
    {
      "cell_type": "code",
      "metadata": {},
      "source": [
        "optimize.minimize_scalar(f, bracket=(0.1, 4))"
      ],
      "id": "77814755",
      "execution_count": null,
      "outputs": []
    },
    {
      "cell_type": "markdown",
      "metadata": {},
      "source": [
        "---"
      ],
      "id": "514e4210"
    },
    {
      "cell_type": "code",
      "metadata": {},
      "source": [
        "r = np.linspace(1.e-2, 2, 100)\n",
        "\n",
        "fig, ax = plt.subplots(figsize=(6, 4))\n",
        "\n",
        "ax.plot(r, f(r), lw=2, color='b')\n",
        "ax.plot(r_min, f(r_min), 'ro', markersize=12)\n",
        "ax.set_title(r\"$f(r) = 2\\pi r^2 +2/r$\", fontsize=12)\n",
        "\n",
        "ax.tick_params(axis='x', pad=7)\n",
        "ax.set_xlabel(r\"$r$\", fontsize=14)\n",
        "ax.set_ylabel(r\"$A$\", fontsize=14)\n",
        "ax.set_xticks([0, 0.5, 1, 1.5, 2])\n",
        "ax.set_xlim(0, 2)\n",
        "ax.set_ylim(0, 30)\n",
        "ax.tick_params(which='both', direction='in')"
      ],
      "id": "b1b58c68",
      "execution_count": null,
      "outputs": []
    },
    {
      "cell_type": "markdown",
      "metadata": {},
      "source": [
        "## Unconstrained multivariate optimization\n",
        "\n",
        "We consider the following problem:\n",
        "\n",
        "$$\\min_x f(x)$$\n",
        "\n",
        "where the objective function is\n",
        "\n",
        "$$ f(x) = (x_1 -1)^4 +5(x_2-1)^2 -2x_1 x_2 $$"
      ],
      "id": "9cc1e11f"
    },
    {
      "cell_type": "code",
      "metadata": {},
      "source": [
        "x1, x2 = sympy.symbols(\"x_1, x_2\")\n",
        "\n",
        "f_sym = (x1 -1)**4 +5 *(x2 -1)**2 -2 *x1 *x2\n",
        "fprime_sym = [f_sym.diff(x_) for x_ in (x1, x2)]\n",
        "fhess_sym = [[f_sym.diff(x1_, x2_) \n",
        "              for x1_ in (x1, x2)] \n",
        "              for x2_ in (x1, x2)]"
      ],
      "id": "e2ad3555",
      "execution_count": null,
      "outputs": []
    },
    {
      "cell_type": "code",
      "metadata": {},
      "source": [
        "sympy.Matrix(fprime_sym)"
      ],
      "id": "2cb9207c",
      "execution_count": null,
      "outputs": []
    },
    {
      "cell_type": "code",
      "metadata": {},
      "source": [
        "sympy.Matrix(fhess_sym)"
      ],
      "id": "4548039c",
      "execution_count": null,
      "outputs": []
    },
    {
      "cell_type": "code",
      "metadata": {},
      "source": [
        "f_lmbda = sympy.lambdify((x1, x2), f_sym, 'numpy')\n",
        "fprime_lmbda = sympy.lambdify((x1, x2), fprime_sym, 'numpy')\n",
        "fhess_lmbda = sympy.lambdify((x1, x2), fhess_sym, 'numpy')"
      ],
      "id": "d1f6eef1",
      "execution_count": null,
      "outputs": []
    },
    {
      "cell_type": "code",
      "metadata": {},
      "source": [
        "def func_XY_X_Y(f):\n",
        "    \"\"\"\n",
        "    Wrapper for f(X) -> f(X[0], X[1])\n",
        "    \"\"\"\n",
        "    return lambda X: np.array(f(X[0], X[1]))"
      ],
      "id": "f8df5e98",
      "execution_count": null,
      "outputs": []
    },
    {
      "cell_type": "code",
      "metadata": {},
      "source": [
        "f = func_XY_X_Y(f_lmbda)\n",
        "fprime = func_XY_X_Y(fprime_lmbda)\n",
        "fhess = func_XY_X_Y(fhess_lmbda)"
      ],
      "id": "495069aa",
      "execution_count": null,
      "outputs": []
    },
    {
      "cell_type": "markdown",
      "metadata": {},
      "source": [
        "* In `scipy`, Newton conjugate gradient method is implemented in the function `optimize.fmin_ncg`. This function takes the following arguments: a python function for the objective function, a starting point, a python function for evaluating the gradient, and (optionally) a python function for evaluating the Hessian"
      ],
      "id": "9b7d5680"
    },
    {
      "cell_type": "code",
      "metadata": {},
      "source": [
        "x_opt = optimize.fmin_ncg(f, (0.0, 0.0), fprime=fprime, fhess=fhess)"
      ],
      "id": "1be4d81a",
      "execution_count": null,
      "outputs": []
    },
    {
      "cell_type": "code",
      "metadata": {},
      "source": [
        "x_opt"
      ],
      "id": "856bccae",
      "execution_count": null,
      "outputs": []
    },
    {
      "cell_type": "code",
      "metadata": {},
      "source": [
        "x_ = y_ = np.linspace(-1, 4, 100)\n",
        "X, Y = np.meshgrid(x_, y_)\n",
        "\n",
        "fig, ax = plt.subplots(figsize=(7, 4))\n",
        "\n",
        "c = ax.contour(X, Y, f_lmbda(X, Y), 50)\n",
        "ax.plot(x_opt[0], x_opt[1], 'ro', markersize=10)\n",
        "ax.set_xlabel(r\"$x_1$\", fontsize=12)\n",
        "ax.set_ylabel(r\"$x_2$\", fontsize=12)\n",
        "ax.tick_params(which='both', direction='in')\n",
        "plt.colorbar(c, ax=ax, ticks=[0, 25, 50, 75, 100])"
      ],
      "id": "ee850984",
      "execution_count": null,
      "outputs": []
    },
    {
      "cell_type": "markdown",
      "metadata": {},
      "source": [
        "* Methods that approximate the Hessian are known as *quasi-Newton methods*, and there are also alternative iterative methods that completely avoid using the Hessian\n",
        "\n",
        "* Two popular methods are the BFGS and the conjugate-gradient methods, which are implemented in `scipy` as the functions `optimize.fmin_bfgs` (the quasi-Newton method of Broyden, Fletcher, Goldfarb, and Shanno) and `optimize.fmin_cg` (the conjugate-gradient method of Polak and Ribiere)"
      ],
      "id": "5c252c0f"
    },
    {
      "cell_type": "code",
      "metadata": {},
      "source": [
        "x_opt = optimize.fmin_bfgs(f, (0, 0), fprime=fprime)\n",
        "x_opt"
      ],
      "id": "cc45ca3a",
      "execution_count": null,
      "outputs": []
    },
    {
      "cell_type": "code",
      "metadata": {},
      "source": [
        "x_opt = optimize.fmin_cg(f, (0, 0), fprime=fprime)\n",
        "x_opt"
      ],
      "id": "05a98e9d",
      "execution_count": null,
      "outputs": []
    },
    {
      "cell_type": "markdown",
      "metadata": {},
      "source": [
        "---"
      ],
      "id": "3733aa08"
    },
    {
      "cell_type": "code",
      "metadata": {},
      "source": [
        "x_opt = optimize.fmin_bfgs(f, (0, 0))\n",
        "x_opt"
      ],
      "id": "fe9b6fe8",
      "execution_count": null,
      "outputs": []
    },
    {
      "cell_type": "code",
      "metadata": {},
      "source": [
        "x_opt = optimize.fmin_cg(f, (0, 0))\n",
        "x_opt"
      ],
      "id": "408baecd",
      "execution_count": null,
      "outputs": []
    },
    {
      "cell_type": "markdown",
      "metadata": {},
      "source": [
        "### Brute force search for a global minimum\n",
        "\n",
        "* The methods for multivariate optimization that we have discussed so far all converge to a local minimum in general. For problems with many local minima, this can easily lead to a situation when the solver easily gets stuck in a local minimum, even if a global minimum exists\n",
        "\n",
        "* Although there is no complete and general solution to this problem, a practical approach that can partially alleviate this problem is to use a brute force search over a coordinate grid to find a suitable starting point for an iterative solver. At least this gives a systematic approach to find a global minimum within given coordinate ranges\n",
        "\n",
        "* In `scipy`, the function `optimize.brute` can carry out such a systematic search\n",
        "\n",
        "To illustrate this method, consider the problem of minimizing the function\n",
        "\n",
        "$$4 \\sin\\pi x + 6\\sin \\pi y +(x -1)^2 +(y -1)^2$$\n",
        "\n",
        "which has a large number of local minima"
      ],
      "id": "740af1f5"
    },
    {
      "cell_type": "code",
      "metadata": {},
      "source": [
        "def f(X):\n",
        "  x, y = X\n",
        "  return 4*np.sin(np.pi *x) +6*np.sin(np.pi *y) +(x -1)**2 +(y -1)**2"
      ],
      "id": "cb8ed838",
      "execution_count": null,
      "outputs": []
    },
    {
      "cell_type": "code",
      "metadata": {},
      "source": [
        "x_start = optimize.brute(f, (slice(-3, 5, 0.5), slice(-3, 5, 0.5)), finish=None); \n",
        "print(f'{x_start = },', f'{f(x_start) = }')"
      ],
      "id": "7bf0df98",
      "execution_count": null,
      "outputs": []
    },
    {
      "cell_type": "code",
      "metadata": {},
      "source": [
        "x_opt = optimize.fmin_bfgs(f, x_start)\n",
        "print(f'{x_opt = },', f'{f(x_opt) = }')"
      ],
      "id": "0325747b",
      "execution_count": null,
      "outputs": []
    },
    {
      "cell_type": "markdown",
      "metadata": {},
      "source": [
        "---"
      ],
      "id": "3079161a"
    },
    {
      "cell_type": "code",
      "metadata": {},
      "source": [
        "result = optimize.minimize(f, x_start, method='BFGS')\n",
        "result"
      ],
      "id": "801d0196",
      "execution_count": null,
      "outputs": []
    },
    {
      "cell_type": "code",
      "metadata": {},
      "source": [
        "result.x"
      ],
      "id": "da32e351",
      "execution_count": null,
      "outputs": []
    },
    {
      "cell_type": "code",
      "metadata": {},
      "source": [
        "result.fun"
      ],
      "id": "d8a1c0e0",
      "execution_count": null,
      "outputs": []
    },
    {
      "cell_type": "code",
      "metadata": {},
      "source": [
        "def func_X_Y_to_XY(f, X, Y):\n",
        "  s = np.shape(X)\n",
        "  return f(np.vstack([X.ravel(), Y.ravel()])).reshape(*s)\n",
        "\n",
        "x_ = y_ = np.linspace(-3, 5, 100)\n",
        "X, Y = np.meshgrid(x_, y_)\n",
        "\n",
        "fig, ax = plt.subplots(figsize=(6, 4))\n",
        "\n",
        "c = ax.contour(X, Y, func_X_Y_to_XY(f, X, Y), 25)\n",
        "ax.plot(x_opt[0], x_opt[1], 'ro', markersize=8)\n",
        "ax.set_xlabel(r\"$x$\", fontsize=12)\n",
        "ax.set_ylabel(r\"$y$\", fontsize=12)\n",
        "plt.colorbar(c, ax=ax)\n",
        "ax.tick_params(which='both', direction='in')"
      ],
      "id": "223e265a",
      "execution_count": null,
      "outputs": []
    },
    {
      "cell_type": "markdown",
      "metadata": {},
      "source": [
        "## Noninear least square problems\n",
        "\n",
        "* In general, a least square problem can be viewed as an optimization problem with the objective function \n",
        "$g(\\boldsymbol{\\beta}) = \\sum_{i=0}^m r_i^2(\\boldsymbol{\\beta})$, with the residuals $r_i(\\boldsymbol{\\beta}) = y_i -f(x_i, \\boldsymbol{\\beta})$ for a set of $m$ obervations $(x_i, y_i)$. Here $\\boldsymbol{\\beta}$ is a vector with unknown parameters that specifies the function $f(x, \\boldsymbol{\\beta})$. If this problem is nonlinear in the parameters $\\boldsymbol{\\beta}$, it is known as a nonlinear least square problem\n",
        "\n",
        "* In `scipy`, the function `optimize.leastsq` provides a nonlinear least square solver that uses the Levenberg-Marquardt method. To illustrate how this function can be used, consider a nonlinear model on the form $f(x,\\boldsymbol{\\beta})=\\beta_1 +\\beta_2 \\exp \\left( -\\beta_3 x^2 \\right)$ and a set of observations $(x_i, y_i)$\n",
        "\n",
        "* Simulate the observations:"
      ],
      "id": "747af164"
    },
    {
      "cell_type": "code",
      "metadata": {},
      "source": [
        "beta = (0.25, 0.75, 0.5)\n",
        "def f(x, b0, b1, b2):\n",
        "  return b0 +b1 *np.exp(-b2 *x**2)"
      ],
      "id": "7f9e6a8e",
      "execution_count": null,
      "outputs": []
    },
    {
      "cell_type": "code",
      "metadata": {},
      "source": [
        "xdata = np.linspace(0, 5, 50)\n",
        "y = f(xdata, *beta)\n",
        "ydata = y +0.05 *np.random.randn(len(xdata))"
      ],
      "id": "dd0c3d55",
      "execution_count": null,
      "outputs": []
    },
    {
      "cell_type": "markdown",
      "metadata": {},
      "source": [
        "* The first step is to define a function for the residuals given the data and the model function, which is specified in terms of the yet-to-be determined model parameters "
      ],
      "id": "522c9633"
    },
    {
      "cell_type": "code",
      "metadata": {},
      "source": [
        "def g(beta):\n",
        "  return ydata -f(xdata, *beta)"
      ],
      "id": "d094febc",
      "execution_count": null,
      "outputs": []
    },
    {
      "cell_type": "markdown",
      "metadata": {},
      "source": [
        "* Next we define an initial guess for the parameter vector and let the `optimize.leastsq` function solve for the best least square fit for the parameter vector:"
      ],
      "id": "e61919f5"
    },
    {
      "cell_type": "code",
      "metadata": {},
      "source": [
        "beta_start = (1, 1, 1)\n",
        "beta_opt, beta_cov = optimize.leastsq(g, beta_start)"
      ],
      "id": "0b9b339e",
      "execution_count": null,
      "outputs": []
    },
    {
      "cell_type": "code",
      "metadata": {},
      "source": [
        "beta_opt"
      ],
      "id": "ac79df4e",
      "execution_count": null,
      "outputs": []
    },
    {
      "cell_type": "markdown",
      "metadata": {},
      "source": [
        "---"
      ],
      "id": "3bea7942"
    },
    {
      "cell_type": "code",
      "metadata": {},
      "source": [
        "fig, ax = plt.subplots(figsize=(7, 4))\n",
        "\n",
        "ax.scatter(xdata, ydata)\n",
        "ax.plot(xdata, y, 'r', lw=2)\n",
        "ax.plot(xdata, f(xdata, *beta_opt), 'b', lw=2)\n",
        "ax.set_xlim(0, 5)\n",
        "ax.set_xlabel(r\"$x$\", fontsize=14)\n",
        "ax.set_ylabel(r\"$f(x, \\boldsymbol{\\beta})$\", fontsize=14)\n",
        "ax.tick_params(which='both', direction='in')"
      ],
      "id": "b9c4b952",
      "execution_count": null,
      "outputs": []
    },
    {
      "cell_type": "code",
      "metadata": {},
      "source": [
        "beta_opt, beta_cov = optimize.curve_fit(f, xdata, ydata)\n",
        "beta_opt  # a convenience wrapper around optimize.leastsq"
      ],
      "id": "aecc739a",
      "execution_count": null,
      "outputs": []
    },
    {
      "cell_type": "markdown",
      "metadata": {},
      "source": [
        "## Constrained optimization\n",
        "\n",
        "* A simple form of constrained optimization is the optimization where the coordinate variables are subject to some bounds. These constraints are simple because they only restrict the range of the coordinate without dependencies on the other variables\n",
        "\n",
        "* This type of problem can be solved using the L-BFGS-B method in `scipy`, which is a variant of the BFGS method. This solver is available through the function `optimize.fmin_l_bgfs_b` or via `optimize.minimize` with the method argument set to 'L-BFGS-B'. To define the coordinate boundaries, the `bounds` keyword argument must be used, and its value should be a list of tuples that contain the minimum and maximum value of each constrained variable\n",
        "\n",
        "* Consider minimizing the objective function\n",
        "\n",
        "  $$ f(x) = (x_1 -1)^2 +(x_2 -1)^2 $$\n",
        "\n",
        "  subject to the constraints\n",
        "\n",
        "  $$ 2 \\leq x_1 \\leq 3 \\;\\text{ and } \\; 0 \\leq x_2 \\leq 2 $$"
      ],
      "id": "8f5955ac"
    },
    {
      "cell_type": "code",
      "metadata": {},
      "source": [
        "def f(X):\n",
        "  x_1, x_2 = X\n",
        "  return (x_1 -1)**2 +(x_2 -1)**2"
      ],
      "id": "9158d989",
      "execution_count": null,
      "outputs": []
    },
    {
      "cell_type": "code",
      "metadata": {},
      "source": [
        "x_opt = optimize.minimize(f, (1, 1), method='BFGS').x\n",
        "x_opt"
      ],
      "id": "4ba70aa7",
      "execution_count": null,
      "outputs": []
    },
    {
      "cell_type": "code",
      "metadata": {},
      "source": [
        "bnd_x1, bnd_x2 = (2, 3), (0, 2)\n",
        "x_cons_opt = optimize.minimize(f, (1, 1), \n",
        "                      method='L-BFGS-B', bounds=[bnd_x1, bnd_x2]).x\n",
        "x_cons_opt"
      ],
      "id": "f19023c9",
      "execution_count": null,
      "outputs": []
    },
    {
      "cell_type": "code",
      "metadata": {},
      "source": [
        "x_ = y_ = np.linspace(-1, 3, 100)\n",
        "X, Y = np.meshgrid(x_, y_)\n",
        "\n",
        "fig, ax = plt.subplots(figsize=(7, 4))\n",
        "\n",
        "c = ax.contour(X, Y, func_X_Y_to_XY(f, X, Y), 50)\n",
        "ax.plot(x_opt[0], x_opt[1], 'b*', markersize=10)\n",
        "ax.plot(x_cons_opt[0], x_cons_opt[1], 'ro', markersize=10)\n",
        "bound_rect = plt.Rectangle((bnd_x1[0], bnd_x2[0]), \n",
        "                           bnd_x1[1] - bnd_x1[0], bnd_x2[1] - bnd_x2[0],\n",
        "                           facecolor=\"grey\")\n",
        "ax.add_patch(bound_rect)\n",
        "ax.tick_params(axis='x', pad=7)\n",
        "ax.set_xlabel(r\"$x_1$\", fontsize=12)\n",
        "ax.set_ylabel(r\"$x_2$\", fontsize=12)\n",
        "plt.colorbar(c, ax=ax)\n",
        "ax.tick_params(which='both', direction='in')"
      ],
      "id": "cd35ac42",
      "execution_count": null,
      "outputs": []
    },
    {
      "cell_type": "markdown",
      "metadata": {},
      "source": [
        "---\n",
        "\n",
        "* Constraints that are defined by equalities or inequalities that include more than one variable are more complicated to deal with. However, using the Lagrange multipliers, it is possible to convert a constrained optimization problem to an unconstrained problem by introducing additional variables\n",
        "\n",
        "* For example, consider the optimization problem $\\min_x f(x)$ subject to the equality constraint $g(x)=0$. In an unconstrained optimization problem the gradient of $f(x)$ vanish at the optimal points, $\\nabla f(x)=0$. It can be shown that the corresponding condition for constrained problems is that the negative gradient lies in the space supported by the constraint normal, $-\\nabla f(x) = \\lambda J_g^T(x)$. Here $J_g(x)$ is the Jacobian matrix of the constraint function $g(x)$ and $\\lambda$ is the vector of Lagrange multipliers (new variables). This condition is the gradient of the function $L(x,\\lambda) = f(x) +\\lambda^T g(x)$, which is known as the Lagrangian function. Therefore, if both $f(x)$ and $g(x)$ have continuous and smooth, a stationary point $(x_0, \\lambda)$ of the $L(x,\\lambda)$ corresponds to an optimum of the original constrained optimization problem, $x_0$\n",
        "\n",
        "* Consider the problem of maximizing the volume of a rectangle with sides of length $x_0$, $x_1$ and $x_2$, subject to the constraint that the total surface area should be unity:\n",
        "\n",
        "  $$ g(x) = 2x_1 x_2 +2 x_0x_2 +2 x_1 x_0 -1 = 0 $$ \n",
        "\n",
        "* To solve this optimization problem using Lagrange multipliers, we form the Lagrangian $L(x) = f(x) +\\lambda g(x)$, and seek the stationary points for $L(x) = 0$"
      ],
      "id": "d3364350"
    },
    {
      "cell_type": "code",
      "metadata": {},
      "source": [
        "x = x0, x1, x2, l = sympy.symbols(\"x_0, x_1, x_2, lambda\")\n",
        "f = x0 *x1 *x2\n",
        "g = 2 *(x0 *x1 +x1 *x2 +x2 *x0) -1\n",
        "L = f +l *g"
      ],
      "id": "a418ea1f",
      "execution_count": null,
      "outputs": []
    },
    {
      "cell_type": "code",
      "metadata": {},
      "source": [
        "grad_L = [sympy.diff(L, x_) for x_ in x]\n",
        "sols = sympy.solve(grad_L)\n",
        "display(sols[0])\n",
        "display(sols[1])"
      ],
      "id": "eae3a544",
      "execution_count": null,
      "outputs": []
    },
    {
      "cell_type": "code",
      "metadata": {},
      "source": [
        "g.subs(sols[0])"
      ],
      "id": "ce380b31",
      "execution_count": null,
      "outputs": []
    },
    {
      "cell_type": "code",
      "metadata": {},
      "source": [
        "f.subs(sols[0])"
      ],
      "id": "9e7c2a1f",
      "execution_count": null,
      "outputs": []
    },
    {
      "cell_type": "markdown",
      "metadata": {},
      "source": [
        "---\n",
        "\n",
        "* There exists various numerical methods of applying this approach. One example is the method known as sequential least squares programming, abbreviated as SLSQP, which is available in the `scipy` as the `optimize.fmin_slsqp` function and via `optimize.minimize` with `method='SLSQP'`\n",
        "\n",
        "* The `optimize.minimize` function takes the keyword argument `constraints`, which should be a list of dictionaries that each specifies a constraint. The allowed keys (values) in this dictionary are type (`'eq'` or `'ineq'`), `fun` (constraint function), `jac` (Jacobian of the constraint function)"
      ],
      "id": "8564c4c8"
    },
    {
      "cell_type": "code",
      "metadata": {},
      "source": [
        "def f(X):\n",
        "  return -X[0] *X[1] *X[2]\n",
        "\n",
        "def g(X):\n",
        "  return 2 *(X[0] *X[1] +X[1] *X[2] +X[2] *X[0]) -1"
      ],
      "id": "4d6e7740",
      "execution_count": null,
      "outputs": []
    },
    {
      "cell_type": "code",
      "metadata": {},
      "source": [
        "constraints = [dict(type='eq', fun=g)]\n",
        "x_cons_opt = optimize.minimize(f, [0.5, 1, 1.5], \n",
        "                      method='SLSQP', constraints=constraints)\n",
        "x_cons_opt"
      ],
      "id": "94979de1",
      "execution_count": null,
      "outputs": []
    },
    {
      "cell_type": "markdown",
      "metadata": {},
      "source": [
        "---\n",
        "\n",
        "* To solve problems with inequality constraints, all we need to do is to set `type='ineq'` in the constraint dictionary and provide the corresponding inequality function. To demonstrate minimization of a nonlinear objective function with a nonlinear inequality constraint, we return to the quadratic problem considered previously, but in this case with inequality constraint\n",
        "\n",
        "  $$ g(x) = x_1 -1.75 -(x_0 -0.75)^4 \\geq 0 $$"
      ],
      "id": "7d2eccfb"
    },
    {
      "cell_type": "code",
      "metadata": {},
      "source": [
        "def f(X):\n",
        "  return (X[0] -1)**2 + (X[1] -1)**2\n",
        "\n",
        "def g(X):\n",
        "  return X[1] -1.75 -(X[0] -0.75)**4"
      ],
      "id": "1d906582",
      "execution_count": null,
      "outputs": []
    },
    {
      "cell_type": "code",
      "metadata": {},
      "source": [
        "x_opt = optimize.minimize(f, (0, 0), method='BFGS').x\n",
        "\n",
        "constraints = [dict(type='ineq', fun=g)]\n",
        "x_cons_opt = optimize.minimize(f, (0, 0), \n",
        "                      method='SLSQP', constraints=constraints).x\n",
        "x_cons_opt"
      ],
      "id": "9f17ae3d",
      "execution_count": null,
      "outputs": []
    },
    {
      "cell_type": "code",
      "metadata": {},
      "source": [
        "x_ = y_ = np.linspace(-1, 3, 100)\n",
        "X, Y = np.meshgrid(x_, y_)\n",
        "\n",
        "fig, ax = plt.subplots(figsize=(7, 4))\n",
        "\n",
        "c = ax.contour(X, Y, func_X_Y_to_XY(f, X, Y), 50)\n",
        "ax.plot(x_opt[0], x_opt[1], 'bo', markersize=10)\n",
        "\n",
        "ax.plot(x_, 1.75 +(x_ -0.75)**4, 'k-', lw=2)\n",
        "ax.fill_between(x_, 1.75 +(x_ -0.75)**4, 3, color=\"grey\")\n",
        "ax.plot(x_cons_opt[0], x_cons_opt[1], 'ro', markersize=10)\n",
        "\n",
        "ax.set_ylim(-1, 3)\n",
        "ax.set_xlabel(r\"$x_0$\", fontsize=12)\n",
        "ax.set_ylabel(r\"$x_1$\", fontsize=12)\n",
        "plt.colorbar(c, ax=ax)\n",
        "ax.tick_params(which='both', direction='in')"
      ],
      "id": "3de2d775",
      "execution_count": null,
      "outputs": []
    },
    {
      "cell_type": "markdown",
      "metadata": {},
      "source": [
        "* For optimization problems with only inequality constraints, `scipy` provides an alternative solver using the constrained optimization by linear approximation (COBYLA) method. This solver is accessible either through `optimize.fmin_cobyla` or `optimize.minimize` with `method='COBYLA'`. The previous example could just as well have been solved with this solver, by replacing `method='SLSQP`' with `method='COBYLA'`\n",
        "\n",
        "## Linear programming\n",
        "\n",
        "* The solution to linear optimization problem must necessarily lie on a constraint boundary, so it is sufficient to search the vertices of the intersections of the linear constraints functions. This can be done efficiently in practice. A popular algorithm for this type of problems is known as simplex, which systematically moves from one vertix to another until the optimal vertix has been reached\n",
        "\n",
        "* There are also more recent interior point methods that efficiently solve linear programming problems. With these methods, linear programming problems with thousands of variables and constraints are readily solvable\n",
        "\n",
        "* Linear programming problems are typically written in the so-called standard form:\n",
        "\n",
        "  $$ \\min_x \\mathbf{c}^T \\mathbf{x} $$\n",
        "\n",
        "  where\n",
        "\n",
        "  $$ \\mathbf{Ax} \\leq \\mathbf{b} \\; \\text{ and } \\; \\mathbf{x} \\geq \\mathbf{0}$$\n",
        "\n",
        "  Here $\\mathbf{c}$ and $\\mathbf{x}$ are vectors of length $n$, and $\\mathbf{A}$ is a $m \\times n$ matrix and $\\mathbf{b}$ a $m$-vector\n",
        "\n",
        "* Consider the problem of minimizing the function\n",
        "\n",
        "  $$ f(\\mathbf{x}) = -x_0 +2x_1 -3x_2 $$\n",
        "\n",
        "  subject to the three inequality constraints\n",
        "\n",
        "  $$ x_0 +x_1 \\leq 1, -x_0 +3x_1 \\leq 2, \\; \\text{ and } \\; -x_1 +x_2 \\leq 3$$\n",
        "\n",
        "  On the standard form\n",
        "\n",
        "  $$\n",
        "    \\mathbf{c} = \n",
        "    \\begin{pmatrix}\n",
        "    -1 \\\\ \\phantom{-}2 \\\\ -3\n",
        "    \\end{pmatrix}, \\;\\;\n",
        "    \\mathbf{A} =\n",
        "    \\begin{pmatrix}\n",
        "    \\phantom{-}1 & \\phantom{-}1 & \\phantom{-}0 \\;\\\\ \n",
        "    -1 & \\phantom{-}3 & \\phantom{-}0 \\;\\\\ \n",
        "    \\phantom{-}0 & -1 & \\phantom{-}1 \\;\n",
        "    \\end{pmatrix}, \\;\\;\n",
        "    \\mathbf{b} =\n",
        "    \\begin{pmatrix}\n",
        "    1 \\\\ 2 \\\\ 3 \n",
        "    \\end{pmatrix}\n",
        "  $$\n",
        "\n",
        "  To solve this problem, here we use the `cvxopt` library, which provides the linear programming solver with the `cvxopt.solvers.lp` function"
      ],
      "id": "ef9c030f"
    },
    {
      "cell_type": "code",
      "metadata": {},
      "source": [
        "c = cvxopt.matrix([-1.0, 2.0, -3.0])\n",
        "A = cvxopt.matrix([[ 1.0, 1.0, 0.0],\n",
        "                   [-1.0, 3.0, 0.0],\n",
        "                   [ 0.0, -1.0, 1.0]])\n",
        "b = cvxopt.matrix([1.0, 2.0, 3.0])"
      ],
      "id": "820a53a2",
      "execution_count": null,
      "outputs": []
    },
    {
      "cell_type": "code",
      "metadata": {},
      "source": [
        "sol = cvxopt.solvers.lp(c, A, b)"
      ],
      "id": "83e134c8",
      "execution_count": null,
      "outputs": []
    },
    {
      "cell_type": "code",
      "metadata": {},
      "source": [
        "x = np.array(sol['x'])\n",
        "x"
      ],
      "id": "f2bcda30",
      "execution_count": null,
      "outputs": []
    },
    {
      "cell_type": "code",
      "metadata": {},
      "source": [
        "sol['primal objective']"
      ],
      "id": "05de0b87",
      "execution_count": null,
      "outputs": []
    },
    {
      "cell_type": "markdown",
      "metadata": {},
      "source": [
        "## Quadratic programming\n",
        "\n",
        "* Quadratic programming problems are typically written in the so-called standard form:\n",
        "\n",
        "  $$ \\min_\\mathbf{x} \\frac{1}{2} \\mathbf{x}^T \\mathbf{Q} \\mathbf{x} +\\mathbf{p}^T \\mathbf{x} $$\n",
        "\n",
        "  subject to\n",
        "\n",
        "  $$ \\mathbf{Gx} \\leq \\mathbf{h} \\; \\text{ and } \\; \\mathbf{Ax} = \\mathbf{b} $$\n",
        "\n",
        "  Quadratic programs can be solved via the `cvxopt.solvers.qp()` function\n",
        "\n",
        "* As an example, consider the following QP:\n",
        "\n",
        "  $$ \\min_{x_1, x_2} 2x_1^2 +x_2^2 + x_1 x_2 +x_1 +x_2$$\n",
        "\n",
        "  subject to\n",
        "\n",
        "  $$ x_1 \\geq 0,\\, x_2 \\geq 0 \\; \\text{ and } \\; x_1 + x_2 =1$$"
      ],
      "id": "2744db8c"
    },
    {
      "cell_type": "code",
      "metadata": {},
      "source": [
        "Q = 2*cvxopt.matrix([[2, 0.5], [0.5, 1]])\n",
        "p = cvxopt.matrix([1.0, 1.0])\n",
        "G = cvxopt.matrix([[-1.0, 0.0], [0.0,-1.0]])\n",
        "h = cvxopt.matrix([0.0, 0.0])\n",
        "A = cvxopt.matrix([1.0, 1.0], (1, 2))\n",
        "b = cvxopt.matrix(1.0)\n",
        "sol = cvxopt.solvers.qp(Q, p, G, h, A, b)"
      ],
      "id": "7e77651b",
      "execution_count": null,
      "outputs": []
    },
    {
      "cell_type": "code",
      "metadata": {},
      "source": [
        "x = np.array(sol['x'])\n",
        "x"
      ],
      "id": "a66432b6",
      "execution_count": null,
      "outputs": []
    },
    {
      "cell_type": "code",
      "metadata": {},
      "source": [
        "sol['primal objective']"
      ],
      "id": "d3d6f309",
      "execution_count": null,
      "outputs": []
    }
  ],
  "metadata": {
    "kernelspec": {
      "name": "python3",
      "language": "python",
      "display_name": "Python 3 (ipykernel)",
      "path": "/opt/miniconda3/share/jupyter/kernels/python3"
    }
  },
  "nbformat": 4,
  "nbformat_minor": 5
}