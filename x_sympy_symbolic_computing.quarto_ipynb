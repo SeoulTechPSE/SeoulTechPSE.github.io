{
  "cells": [
    {
      "cell_type": "markdown",
      "metadata": {},
      "source": [
        "---\n",
        "jupyter: python3\n",
        "---\n",
        "\n",
        "# Sympy: Symbolic Computing {#sec-sympy}\n",
        "\n",
        "$~$\n",
        "\n",
        "[![](https://www.sympy.org/static/images/logo.png)](https://docs.sympy.org/latest/index.html)\n",
        "\n",
        "$~$\n",
        "\n",
        "## Importing sympy"
      ],
      "id": "e608a1f8"
    },
    {
      "cell_type": "code",
      "metadata": {},
      "source": [
        "import sympy\n",
        "from sympy import I, pi, oo\n",
        "sympy.init_printing()\n",
        "\n",
        "from IPython.display import display\n",
        "\n",
        "print(\"sympy: \", sympy.__version__)"
      ],
      "id": "a8d12b67",
      "execution_count": null,
      "outputs": []
    },
    {
      "cell_type": "markdown",
      "metadata": {},
      "source": [
        "## Symbols"
      ],
      "id": "bac777c4"
    },
    {
      "cell_type": "code",
      "metadata": {},
      "source": [
        "x = sympy.Symbol('x')\n",
        "print(x.is_real)"
      ],
      "id": "8ae92cfd",
      "execution_count": null,
      "outputs": []
    },
    {
      "cell_type": "code",
      "metadata": {},
      "source": [
        "y = sympy.Symbol('y', real=True)\n",
        "y.is_real"
      ],
      "id": "c9f94e66",
      "execution_count": null,
      "outputs": []
    },
    {
      "cell_type": "code",
      "metadata": {},
      "source": [
        "z = sympy.Symbol('z', complex=True)\n",
        "z.is_complex"
      ],
      "id": "1e71ae54",
      "execution_count": null,
      "outputs": []
    },
    {
      "cell_type": "code",
      "metadata": {},
      "source": [
        "print(z.is_real)"
      ],
      "id": "1bdc00a6",
      "execution_count": null,
      "outputs": []
    },
    {
      "cell_type": "markdown",
      "metadata": {},
      "source": [
        "---"
      ],
      "id": "4eccd779"
    },
    {
      "cell_type": "code",
      "metadata": {},
      "source": [
        "x = sympy.Symbol('x')\n",
        "y = sympy.Symbol('y', positive=True)\n",
        "z = sympy.Symbol('z', negative=True)"
      ],
      "id": "74d0135b",
      "execution_count": null,
      "outputs": []
    },
    {
      "cell_type": "code",
      "metadata": {},
      "source": [
        "sympy.sqrt(x**2)"
      ],
      "id": "5df97da2",
      "execution_count": null,
      "outputs": []
    },
    {
      "cell_type": "code",
      "metadata": {},
      "source": [
        "sympy.sqrt(y**2)"
      ],
      "id": "ef3fe950",
      "execution_count": null,
      "outputs": []
    },
    {
      "cell_type": "code",
      "metadata": {},
      "source": [
        "sympy.sqrt(z**2)"
      ],
      "id": "9f43ac3e",
      "execution_count": null,
      "outputs": []
    },
    {
      "cell_type": "markdown",
      "metadata": {},
      "source": [
        "---"
      ],
      "id": "bc63ae75"
    },
    {
      "cell_type": "code",
      "metadata": {},
      "source": [
        "n1 = sympy.Symbol('n')\n",
        "n2 = sympy.Symbol('n', integer=True)\n",
        "n3 = sympy.Symbol('n', odd=True)\n",
        "n4 = sympy.Symbol('n', even=True)"
      ],
      "id": "7ce11c4a",
      "execution_count": null,
      "outputs": []
    },
    {
      "cell_type": "code",
      "metadata": {},
      "source": [
        "sympy.cos(n1*pi)"
      ],
      "id": "da02db44",
      "execution_count": null,
      "outputs": []
    },
    {
      "cell_type": "code",
      "metadata": {},
      "source": [
        "sympy.cos(n2*pi)"
      ],
      "id": "b6d1b07a",
      "execution_count": null,
      "outputs": []
    },
    {
      "cell_type": "code",
      "metadata": {},
      "source": [
        "sympy.cos(n3*pi)"
      ],
      "id": "0777ad4a",
      "execution_count": null,
      "outputs": []
    },
    {
      "cell_type": "code",
      "metadata": {},
      "source": [
        "sympy.cos(n4*pi)"
      ],
      "id": "6e83c409",
      "execution_count": null,
      "outputs": []
    },
    {
      "cell_type": "markdown",
      "metadata": {},
      "source": [
        "---"
      ],
      "id": "ca1df9d6"
    },
    {
      "cell_type": "code",
      "metadata": {},
      "source": [
        "a, b, c = sympy.symbols('a, b, c', negative=True)"
      ],
      "id": "11a516b1",
      "execution_count": null,
      "outputs": []
    },
    {
      "cell_type": "code",
      "metadata": {},
      "source": [
        "d, e, f = sympy.symbols('d, e, f', positive=True)"
      ],
      "id": "59bb4d1c",
      "execution_count": null,
      "outputs": []
    },
    {
      "cell_type": "markdown",
      "metadata": {},
      "source": [
        "## Numbers\n",
        "\n",
        "* We cannot directly use the built-in Python objects for integers, `int`, and floating-point numbers, `float`, and so on. Instead, `sympy` provides the classes `sympy.Integer` and `sympy.Float` for representing integers and floating-point numbers within the `sympy` framework\n",
        "\n",
        "* This distinction is important to be aware of when working with `sympy`, but fortunately we rarely\n",
        "need to concern ourselves with creating objects of type `sympy.Integer` and `sympy.Float` to representing\n",
        "specific numbers, $~$since `sympy` automatically promotes Python numbers to instances of these classes when they occur in `sympy` expressions"
      ],
      "id": "9518cdaf"
    },
    {
      "cell_type": "code",
      "metadata": {},
      "source": [
        "i = sympy.Integer(18)\n",
        "type(i)"
      ],
      "id": "e8139a81",
      "execution_count": null,
      "outputs": []
    },
    {
      "cell_type": "code",
      "metadata": {},
      "source": [
        "i.is_Integer, i.is_real, i.is_odd, i.is_even"
      ],
      "id": "916f1a69",
      "execution_count": null,
      "outputs": []
    },
    {
      "cell_type": "code",
      "metadata": {},
      "source": [
        "f = sympy.Float(2.3)\n",
        "type(f)"
      ],
      "id": "53fc857d",
      "execution_count": null,
      "outputs": []
    },
    {
      "cell_type": "code",
      "metadata": {},
      "source": [
        "f.is_Float, f.is_real, f.is_complex"
      ],
      "id": "4727f667",
      "execution_count": null,
      "outputs": []
    },
    {
      "cell_type": "markdown",
      "metadata": {},
      "source": [
        "---"
      ],
      "id": "64e173ea"
    },
    {
      "cell_type": "code",
      "metadata": {},
      "source": [
        "i, f = sympy.sympify(19), sympy.sympify(2.3)\n",
        "type(i), type(f)"
      ],
      "id": "c2023c47",
      "execution_count": null,
      "outputs": []
    },
    {
      "cell_type": "markdown",
      "metadata": {},
      "source": [
        "### Integer \n",
        "\n",
        "* While the `Symbol` with `integer=True` represents some integer, $\\,$the `Integer` instance represents a\n",
        "specific integer\n",
        "\n",
        "* For both cases, $\\,$the `is_integer` attribute is `True`, $\\,$but there is also an attribute `is_Integer`\n",
        "(note the capital `I`), $\\,$which is only `True` for `Integer` instances"
      ],
      "id": "afe72641"
    },
    {
      "cell_type": "code",
      "metadata": {},
      "source": [
        "n = sympy.Symbol('n', integer=True)\n",
        "n.is_integer, n.is_Integer, n.is_positive, n.is_Symbol"
      ],
      "id": "4384883c",
      "execution_count": null,
      "outputs": []
    },
    {
      "cell_type": "code",
      "metadata": {},
      "source": [
        "i = sympy.Integer(19)\n",
        "i.is_integer, i.is_Integer, i.is_positive, i.is_Symbol"
      ],
      "id": "807a3eb3",
      "execution_count": null,
      "outputs": []
    },
    {
      "cell_type": "code",
      "metadata": {},
      "source": [
        "sympy.Integer('19' *20)"
      ],
      "id": "6ae9ccb9",
      "execution_count": null,
      "outputs": []
    },
    {
      "cell_type": "code",
      "metadata": {},
      "source": [
        "sympy.Integer('12_345_678'), sympy.Integer(12_345_678)"
      ],
      "id": "858fecfe",
      "execution_count": null,
      "outputs": []
    },
    {
      "cell_type": "code",
      "metadata": {},
      "source": [
        "# great common division, leat common multiple\n",
        "sympy.igcd(36, 15), sympy.ilcm(7, 34)"
      ],
      "id": "224e443b",
      "execution_count": null,
      "outputs": []
    },
    {
      "cell_type": "markdown",
      "metadata": {},
      "source": [
        "* Integers in `sympy` are <font color='red'>**arbitrary precision**</font>, $\\,$meaning that they have <font color='blue'>no fixed lower and upper bounds</font>,\n",
        "$\\,$which is the case when representing integers with a specific bit-size, as, for example, in `numpy`"
      ],
      "id": "26cc2465"
    },
    {
      "cell_type": "code",
      "metadata": {},
      "source": [
        "i = sympy.Integer(19)\n",
        "i**100"
      ],
      "id": "7e9354e0",
      "execution_count": null,
      "outputs": []
    },
    {
      "cell_type": "code",
      "metadata": {},
      "source": [
        "sympy.factorial(100)"
      ],
      "id": "6ef62e4a",
      "execution_count": null,
      "outputs": []
    },
    {
      "cell_type": "markdown",
      "metadata": {},
      "source": [
        "### Float\n",
        "\n",
        "* Like `Integer`, $\\,$`Float` is <font color='red'>**arbitrary precision**</font>, $\\,$in contrast to Python’s built-in `float` type and the `float` types in `numpy`. $\\,$This means that any `Float` can represent a `float` with arbitrary number of decimals\n",
        "\n",
        "* When a `Float` instance is created using its constructor, $\\,$there are two arguments: the first argument is **a Python `float` or a string representing a floating-point number**, and the second (optional) argument is the **precision** (number of significant decimal digits) of the `Float` object"
      ],
      "id": "7eb6c041"
    },
    {
      "cell_type": "code",
      "metadata": {},
      "source": [
        "# create a string representation with 25 decimals\n",
        "f'{0.3:.25f}'  "
      ],
      "id": "c3cfa553",
      "execution_count": null,
      "outputs": []
    },
    {
      "cell_type": "code",
      "metadata": {},
      "source": [
        "sympy.Float(0.3, 25) "
      ],
      "id": "59f76d64",
      "execution_count": null,
      "outputs": []
    },
    {
      "cell_type": "code",
      "metadata": {},
      "source": [
        "sympy.Float('0.3', 25)"
      ],
      "id": "9d3aba40",
      "execution_count": null,
      "outputs": []
    },
    {
      "cell_type": "code",
      "metadata": {},
      "source": [
        "sympy.Float('123 456 789.123_456', '')"
      ],
      "id": "f88ad7b2",
      "execution_count": null,
      "outputs": []
    },
    {
      "cell_type": "markdown",
      "metadata": {},
      "source": [
        "### Rational"
      ],
      "id": "e443d280"
    },
    {
      "cell_type": "code",
      "metadata": {},
      "source": [
        "r0 = sympy.Rational(11, 13)\n",
        "r0"
      ],
      "id": "0c49ed7b",
      "execution_count": null,
      "outputs": []
    },
    {
      "cell_type": "code",
      "metadata": {},
      "source": [
        "r0.p, r0.q"
      ],
      "id": "6b5cbdcd",
      "execution_count": null,
      "outputs": []
    },
    {
      "cell_type": "code",
      "metadata": {},
      "source": [
        "r1 = sympy.Rational(2, 3)\n",
        "r2 = sympy.Rational(4, 5)"
      ],
      "id": "e007efc0",
      "execution_count": null,
      "outputs": []
    },
    {
      "cell_type": "code",
      "metadata": {},
      "source": [
        "r1 * r2"
      ],
      "id": "b6408d47",
      "execution_count": null,
      "outputs": []
    },
    {
      "cell_type": "code",
      "metadata": {},
      "source": [
        "r1 / r2"
      ],
      "id": "384db7b4",
      "execution_count": null,
      "outputs": []
    },
    {
      "cell_type": "code",
      "metadata": {},
      "source": [
        "sympy.Rational(0.2), sympy.Rational('0.2')"
      ],
      "id": "e7c948fa",
      "execution_count": null,
      "outputs": []
    },
    {
      "cell_type": "markdown",
      "metadata": {},
      "source": [
        "### Constants and special symbols\n",
        "\n",
        "$\\displaystyle \\gamma = \\lim_{n \\to \\infty} \\left( \\sum_{k=1}^n \\frac{1}{k} -\\ln n\\right)$"
      ],
      "id": "b25d475a"
    },
    {
      "cell_type": "code",
      "metadata": {},
      "source": [
        "sympy.pi, sympy.E, sympy.EulerGamma, sympy.I, sympy.oo"
      ],
      "id": "dd7595c1",
      "execution_count": null,
      "outputs": []
    },
    {
      "cell_type": "markdown",
      "metadata": {},
      "source": [
        "### Functions"
      ],
      "id": "d8dda0d6"
    },
    {
      "cell_type": "code",
      "metadata": {},
      "source": [
        "x, y, z = sympy.symbols('x, y, z')"
      ],
      "id": "69bb24d3",
      "execution_count": null,
      "outputs": []
    },
    {
      "cell_type": "code",
      "metadata": {},
      "source": [
        "f = sympy.Function('f')\n",
        "type(f)"
      ],
      "id": "aee06dbc",
      "execution_count": null,
      "outputs": []
    },
    {
      "cell_type": "code",
      "metadata": {},
      "source": [
        "f(x)"
      ],
      "id": "81047225",
      "execution_count": null,
      "outputs": []
    },
    {
      "cell_type": "code",
      "metadata": {},
      "source": [
        "g = sympy.Function('g')(x, y, z)\n",
        "g"
      ],
      "id": "76c99678",
      "execution_count": null,
      "outputs": []
    },
    {
      "cell_type": "code",
      "metadata": {},
      "source": [
        "g.free_symbols"
      ],
      "id": "bf1eb40d",
      "execution_count": null,
      "outputs": []
    },
    {
      "cell_type": "markdown",
      "metadata": {},
      "source": [
        "---"
      ],
      "id": "ced57fd7"
    },
    {
      "cell_type": "code",
      "metadata": {},
      "source": [
        "sympy.sin"
      ],
      "id": "206c7eef",
      "execution_count": null,
      "outputs": []
    },
    {
      "cell_type": "code",
      "metadata": {},
      "source": [
        "sympy.sin(x)"
      ],
      "id": "18262855",
      "execution_count": null,
      "outputs": []
    },
    {
      "cell_type": "code",
      "metadata": {},
      "source": [
        "sympy.sin(pi *1.5)"
      ],
      "id": "d02537e7",
      "execution_count": null,
      "outputs": []
    },
    {
      "cell_type": "code",
      "metadata": {},
      "source": [
        "n = sympy.Symbol('n', integer=True)\n",
        "sympy.sin(pi * n)"
      ],
      "id": "a842ba27",
      "execution_count": null,
      "outputs": []
    },
    {
      "cell_type": "code",
      "metadata": {},
      "source": [
        "h = sympy.Lambda(x, x**2)\n",
        "h"
      ],
      "id": "84386090",
      "execution_count": null,
      "outputs": []
    },
    {
      "cell_type": "code",
      "metadata": {},
      "source": [
        "h(5)"
      ],
      "id": "52ed680d",
      "execution_count": null,
      "outputs": []
    },
    {
      "cell_type": "code",
      "metadata": {},
      "source": [
        "h(1 + x)"
      ],
      "id": "c6b8dc87",
      "execution_count": null,
      "outputs": []
    },
    {
      "cell_type": "markdown",
      "metadata": {},
      "source": [
        "## Expressions"
      ],
      "id": "ab45f8ba"
    },
    {
      "cell_type": "code",
      "metadata": {},
      "source": [
        "x = sympy.Symbol('x')\n",
        "\n",
        "expr = 1 +2*x**2 +3*x**3\n",
        "expr"
      ],
      "id": "81b286bb",
      "execution_count": null,
      "outputs": []
    },
    {
      "cell_type": "code",
      "metadata": {},
      "source": [
        "expr.args"
      ],
      "id": "183c57ff",
      "execution_count": null,
      "outputs": []
    },
    {
      "cell_type": "code",
      "metadata": {},
      "source": [
        "expr.args[2]"
      ],
      "id": "315bf129",
      "execution_count": null,
      "outputs": []
    },
    {
      "cell_type": "code",
      "metadata": {},
      "source": [
        "expr.args[2].args"
      ],
      "id": "8793d3b2",
      "execution_count": null,
      "outputs": []
    },
    {
      "cell_type": "code",
      "metadata": {},
      "source": [
        "expr.args[2].args[1]"
      ],
      "id": "b041b05f",
      "execution_count": null,
      "outputs": []
    },
    {
      "cell_type": "code",
      "metadata": {},
      "source": [
        "expr.args[2].args[1].args"
      ],
      "id": "aa61fd46",
      "execution_count": null,
      "outputs": []
    },
    {
      "cell_type": "code",
      "metadata": {},
      "source": [
        "expr.args[2].args[1].args[1]"
      ],
      "id": "628d72b4",
      "execution_count": null,
      "outputs": []
    },
    {
      "cell_type": "code",
      "metadata": {},
      "source": [
        "expr.args[2].args[1].args[1].args"
      ],
      "id": "d78e12ee",
      "execution_count": null,
      "outputs": []
    },
    {
      "cell_type": "markdown",
      "metadata": {},
      "source": [
        "## Manipulating expressions\n",
        "\n",
        "### Simplication"
      ],
      "id": "accf78cb"
    },
    {
      "cell_type": "code",
      "metadata": {},
      "source": [
        "expr = 2 * (x**2 - x) - x * (x + 1)\n",
        "expr"
      ],
      "id": "476c692a",
      "execution_count": null,
      "outputs": []
    },
    {
      "cell_type": "code",
      "metadata": {},
      "source": [
        "sympy.simplify(expr)"
      ],
      "id": "3e3edcb5",
      "execution_count": null,
      "outputs": []
    },
    {
      "cell_type": "code",
      "metadata": {},
      "source": [
        "expr.simplify()"
      ],
      "id": "11c21948",
      "execution_count": null,
      "outputs": []
    },
    {
      "cell_type": "code",
      "metadata": {},
      "source": [
        "expr"
      ],
      "id": "ad3fa296",
      "execution_count": null,
      "outputs": []
    },
    {
      "cell_type": "markdown",
      "metadata": {},
      "source": [
        "---"
      ],
      "id": "ae8d528d"
    },
    {
      "cell_type": "code",
      "metadata": {},
      "source": [
        "expr = 2 * sympy.cos(x) * sympy.sin(x)\n",
        "expr"
      ],
      "id": "cbe55b5b",
      "execution_count": null,
      "outputs": []
    },
    {
      "cell_type": "code",
      "metadata": {},
      "source": [
        "sympy.simplify(expr)"
      ],
      "id": "096ef542",
      "execution_count": null,
      "outputs": []
    },
    {
      "cell_type": "code",
      "metadata": {},
      "source": [
        "expr = sympy.exp(x) * sympy.exp(y)\n",
        "expr"
      ],
      "id": "912421bf",
      "execution_count": null,
      "outputs": []
    },
    {
      "cell_type": "code",
      "metadata": {},
      "source": [
        "sympy.simplify(expr)"
      ],
      "id": "42cf48b1",
      "execution_count": null,
      "outputs": []
    },
    {
      "cell_type": "markdown",
      "metadata": {},
      "source": [
        "### Expand"
      ],
      "id": "f8d2141d"
    },
    {
      "cell_type": "code",
      "metadata": {},
      "source": [
        "expr = (x + 1) * (x + 2)\n",
        "expr"
      ],
      "id": "4a7f03bc",
      "execution_count": null,
      "outputs": []
    },
    {
      "cell_type": "code",
      "metadata": {},
      "source": [
        "expr.expand()"
      ],
      "id": "ec6f2a3a",
      "execution_count": null,
      "outputs": []
    },
    {
      "cell_type": "markdown",
      "metadata": {},
      "source": [
        "---"
      ],
      "id": "58cf314d"
    },
    {
      "cell_type": "code",
      "metadata": {},
      "source": [
        "sympy.sin(x + y).expand(trig=True)"
      ],
      "id": "a7c90f80",
      "execution_count": null,
      "outputs": []
    },
    {
      "cell_type": "code",
      "metadata": {},
      "source": [
        "a, b = sympy.symbols('a, b', positive=True)\n",
        "sympy.log(a * b).expand(log=True)"
      ],
      "id": "f46747fe",
      "execution_count": null,
      "outputs": []
    },
    {
      "cell_type": "code",
      "metadata": {},
      "source": [
        "sympy.exp(I*a + b).expand(complex=True)"
      ],
      "id": "d7076c4c",
      "execution_count": null,
      "outputs": []
    },
    {
      "cell_type": "code",
      "metadata": {},
      "source": [
        "sympy.expand((a * b)**x, power_base=True)"
      ],
      "id": "5344bea4",
      "execution_count": null,
      "outputs": []
    },
    {
      "cell_type": "code",
      "metadata": {},
      "source": [
        "sympy.exp(I*(a -b)*x).expand(power_exp=True)"
      ],
      "id": "5657c0a6",
      "execution_count": null,
      "outputs": []
    },
    {
      "cell_type": "markdown",
      "metadata": {},
      "source": [
        "### Factor, collect and combine"
      ],
      "id": "8ac5aa76"
    },
    {
      "cell_type": "code",
      "metadata": {},
      "source": [
        "sympy.factor(x**2 - 1)"
      ],
      "id": "2d81fa48",
      "execution_count": null,
      "outputs": []
    },
    {
      "cell_type": "code",
      "metadata": {},
      "source": [
        "sympy.factor(x *sympy.cos(y) + x *sympy.sin(z))"
      ],
      "id": "77c22c81",
      "execution_count": null,
      "outputs": []
    },
    {
      "cell_type": "markdown",
      "metadata": {},
      "source": [
        "---"
      ],
      "id": "8d6e7ef9"
    },
    {
      "cell_type": "code",
      "metadata": {},
      "source": [
        "expr = x + y + x * y * z\n",
        "expr"
      ],
      "id": "2ba58deb",
      "execution_count": null,
      "outputs": []
    },
    {
      "cell_type": "code",
      "metadata": {},
      "source": [
        "expr.collect(x)"
      ],
      "id": "48d110af",
      "execution_count": null,
      "outputs": []
    },
    {
      "cell_type": "code",
      "metadata": {},
      "source": [
        "expr.collect(y)"
      ],
      "id": "883f72e9",
      "execution_count": null,
      "outputs": []
    },
    {
      "cell_type": "markdown",
      "metadata": {},
      "source": [
        "---"
      ],
      "id": "48ce1e29"
    },
    {
      "cell_type": "code",
      "metadata": {},
      "source": [
        "expr = sympy.cos(x + y) + sympy.sin(x - y)"
      ],
      "id": "4902bd91",
      "execution_count": null,
      "outputs": []
    },
    {
      "cell_type": "code",
      "metadata": {},
      "source": [
        "expr1 = expr.expand(trig=True)\n",
        "expr1"
      ],
      "id": "fb6116ac",
      "execution_count": null,
      "outputs": []
    },
    {
      "cell_type": "code",
      "metadata": {},
      "source": [
        "expr2 = expr1.collect([sympy.cos(x), sympy.sin(x)])\n",
        "expr2"
      ],
      "id": "4b141ef0",
      "execution_count": null,
      "outputs": []
    },
    {
      "cell_type": "code",
      "metadata": {},
      "source": [
        "expr3 = expr2.collect(sympy.cos(y) - sympy.sin(y))\n",
        "expr3"
      ],
      "id": "1f9d86c2",
      "execution_count": null,
      "outputs": []
    },
    {
      "cell_type": "markdown",
      "metadata": {},
      "source": [
        "---"
      ],
      "id": "035bf754"
    },
    {
      "cell_type": "code",
      "metadata": {},
      "source": [
        "sympy.logcombine(sympy.log(a) - sympy.log(b))"
      ],
      "id": "3673671b",
      "execution_count": null,
      "outputs": []
    },
    {
      "cell_type": "markdown",
      "metadata": {},
      "source": [
        "### Apart, together and cancel"
      ],
      "id": "71667250"
    },
    {
      "cell_type": "code",
      "metadata": {},
      "source": [
        "expr1 = 1/(x**2 + 3*x + 2)\n",
        "expr1"
      ],
      "id": "7fecce64",
      "execution_count": null,
      "outputs": []
    },
    {
      "cell_type": "code",
      "metadata": {},
      "source": [
        "sympy.apart(expr1, x)"
      ],
      "id": "c28ca836",
      "execution_count": null,
      "outputs": []
    },
    {
      "cell_type": "code",
      "metadata": {},
      "source": [
        "expr2 = 1 / (y * x + y) + 1 / (1+x)\n",
        "expr2"
      ],
      "id": "0f493c24",
      "execution_count": null,
      "outputs": []
    },
    {
      "cell_type": "code",
      "metadata": {},
      "source": [
        "sympy.together(expr2)"
      ],
      "id": "0fe8b466",
      "execution_count": null,
      "outputs": []
    },
    {
      "cell_type": "code",
      "metadata": {},
      "source": [
        "expr3 = y / (y * x + y)\n",
        "expr3"
      ],
      "id": "6696eab6",
      "execution_count": null,
      "outputs": []
    },
    {
      "cell_type": "code",
      "metadata": {},
      "source": [
        "sympy.cancel(expr3)"
      ],
      "id": "4aa86991",
      "execution_count": null,
      "outputs": []
    },
    {
      "cell_type": "markdown",
      "metadata": {},
      "source": [
        "### Substitutions"
      ],
      "id": "5a2200cf"
    },
    {
      "cell_type": "code",
      "metadata": {},
      "source": [
        "(x + y).subs(x, y)"
      ],
      "id": "ab6e3896",
      "execution_count": null,
      "outputs": []
    },
    {
      "cell_type": "code",
      "metadata": {},
      "source": [
        "sympy.sin(x * sympy.exp(x)).subs(x, y)"
      ],
      "id": "834edd1a",
      "execution_count": null,
      "outputs": []
    },
    {
      "cell_type": "code",
      "metadata": {},
      "source": [
        "sympy.sin(x * z).subs({z: sympy.exp(y), x: y, sympy.sin: sympy.cos})"
      ],
      "id": "94d2d2f1",
      "execution_count": null,
      "outputs": []
    },
    {
      "cell_type": "code",
      "metadata": {},
      "source": [
        "expr = x * y + z**2 *x\n",
        "expr"
      ],
      "id": "31a03345",
      "execution_count": null,
      "outputs": []
    },
    {
      "cell_type": "code",
      "metadata": {},
      "source": [
        "values = {x: 1.25, y: 0.4, z: 3.2}\n",
        "expr.subs(values)"
      ],
      "id": "3f250e9a",
      "execution_count": null,
      "outputs": []
    },
    {
      "cell_type": "markdown",
      "metadata": {},
      "source": [
        "### Numerical evaluation"
      ],
      "id": "e099c629"
    },
    {
      "cell_type": "code",
      "metadata": {},
      "source": [
        "sympy.N(1 + pi)"
      ],
      "id": "fb9c446c",
      "execution_count": null,
      "outputs": []
    },
    {
      "cell_type": "code",
      "metadata": {},
      "source": [
        "sympy.N(1 + pi, 50)"
      ],
      "id": "74e546dc",
      "execution_count": null,
      "outputs": []
    },
    {
      "cell_type": "markdown",
      "metadata": {},
      "source": [
        "---"
      ],
      "id": "622c727b"
    },
    {
      "cell_type": "code",
      "metadata": {},
      "source": [
        "(x + 1/pi).evalf(10)"
      ],
      "id": "31c10518",
      "execution_count": null,
      "outputs": []
    },
    {
      "cell_type": "markdown",
      "metadata": {},
      "source": [
        "---"
      ],
      "id": "91017b13"
    },
    {
      "cell_type": "code",
      "metadata": {},
      "source": [
        "expr = sympy.sin(pi * x * sympy.exp(x))\n",
        "expr"
      ],
      "id": "cc10d1ac",
      "execution_count": null,
      "outputs": []
    },
    {
      "cell_type": "code",
      "metadata": {},
      "source": [
        "[expr.subs(x, i).evalf(3) for i in range(0, 10)]  # rather slow"
      ],
      "id": "f4f63812",
      "execution_count": null,
      "outputs": []
    },
    {
      "cell_type": "markdown",
      "metadata": {},
      "source": [
        "---"
      ],
      "id": "8ff26686"
    },
    {
      "cell_type": "code",
      "metadata": {},
      "source": [
        "expr_func = sympy.lambdify(x, expr)\n",
        "expr_func(1.0)"
      ],
      "id": "c0a3cea3",
      "execution_count": null,
      "outputs": []
    },
    {
      "cell_type": "markdown",
      "metadata": {},
      "source": [
        "---"
      ],
      "id": "bb5ce80e"
    },
    {
      "cell_type": "code",
      "metadata": {},
      "source": [
        "import numpy as np\n",
        "\n",
        "xvalues = np.arange(0, 10)\n",
        "\n",
        "expr_func = sympy.lambdify(x, expr, 'numpy')\n",
        "expr_func(xvalues)  # efficient method"
      ],
      "id": "fa69794e",
      "execution_count": null,
      "outputs": []
    },
    {
      "cell_type": "markdown",
      "metadata": {},
      "source": [
        "## Calculus\n",
        "\n",
        "### Derivatives"
      ],
      "id": "73365846"
    },
    {
      "cell_type": "code",
      "metadata": {},
      "source": [
        "f = sympy.Function('f')(x)\n",
        "sympy.diff(f, x)  # equivalent to f.diff(x)"
      ],
      "id": "916607ce",
      "execution_count": null,
      "outputs": []
    },
    {
      "cell_type": "code",
      "metadata": {},
      "source": [
        "sympy.diff(f, x, x)"
      ],
      "id": "22631326",
      "execution_count": null,
      "outputs": []
    },
    {
      "cell_type": "code",
      "metadata": {},
      "source": [
        "sympy.diff(f, x, 3)  # equivalent to sympy.diff(f, x, x, x)"
      ],
      "id": "650a5770",
      "execution_count": null,
      "outputs": []
    },
    {
      "cell_type": "markdown",
      "metadata": {},
      "source": [
        "---"
      ],
      "id": "c1f6ce92"
    },
    {
      "cell_type": "code",
      "metadata": {},
      "source": [
        "g = sympy.Function('g')(x, y)\n",
        "g.diff(x, y) # equivalent to sympy.diff(g, x, y)"
      ],
      "id": "303220a2",
      "execution_count": null,
      "outputs": []
    },
    {
      "cell_type": "code",
      "metadata": {},
      "source": [
        "g.diff(x, 3, y, 2) # equivalent to sympy.diff(g, x, x, x, y, y)"
      ],
      "id": "ed1764bb",
      "execution_count": null,
      "outputs": []
    },
    {
      "cell_type": "markdown",
      "metadata": {},
      "source": [
        "---"
      ],
      "id": "c9c9b23d"
    },
    {
      "cell_type": "code",
      "metadata": {},
      "source": [
        "expr = x**4 + x**3 + x**2 + x + 1\n",
        "expr"
      ],
      "id": "57e4f3ca",
      "execution_count": null,
      "outputs": []
    },
    {
      "cell_type": "code",
      "metadata": {},
      "source": [
        "expr.diff(x)"
      ],
      "id": "bc9bdeb6",
      "execution_count": null,
      "outputs": []
    },
    {
      "cell_type": "code",
      "metadata": {},
      "source": [
        "expr.diff(x, x)"
      ],
      "id": "05fc1fcb",
      "execution_count": null,
      "outputs": []
    },
    {
      "cell_type": "markdown",
      "metadata": {},
      "source": [
        "---"
      ],
      "id": "b4d94cd0"
    },
    {
      "cell_type": "code",
      "metadata": {},
      "source": [
        "expr = (x + 1)**3 * y ** 2 * (z - 1)\n",
        "expr"
      ],
      "id": "adede2ad",
      "execution_count": null,
      "outputs": []
    },
    {
      "cell_type": "code",
      "metadata": {},
      "source": [
        "expr.diff(x, y, z)"
      ],
      "id": "00165566",
      "execution_count": null,
      "outputs": []
    },
    {
      "cell_type": "markdown",
      "metadata": {},
      "source": [
        "---"
      ],
      "id": "44021356"
    },
    {
      "cell_type": "code",
      "metadata": {},
      "source": [
        "expr = sympy.sin(x * y) * sympy.cos(x / 2)\n",
        "expr"
      ],
      "id": "b0ceabb1",
      "execution_count": null,
      "outputs": []
    },
    {
      "cell_type": "code",
      "metadata": {},
      "source": [
        "expr.diff(x)"
      ],
      "id": "d85ad64a",
      "execution_count": null,
      "outputs": []
    },
    {
      "cell_type": "markdown",
      "metadata": {},
      "source": [
        "---"
      ],
      "id": "1fd7db31"
    },
    {
      "cell_type": "code",
      "metadata": {},
      "source": [
        "expr = sympy.functions.special.polynomials.hermite(x, 0)\n",
        "expr"
      ],
      "id": "c410c4d6",
      "execution_count": null,
      "outputs": []
    },
    {
      "cell_type": "code",
      "metadata": {},
      "source": [
        "expr.diff(x)"
      ],
      "id": "bdb5af3e",
      "execution_count": null,
      "outputs": []
    },
    {
      "cell_type": "markdown",
      "metadata": {},
      "source": [
        "---"
      ],
      "id": "04579cf1"
    },
    {
      "cell_type": "code",
      "metadata": {},
      "source": [
        "d = sympy.Derivative(sympy.exp(sympy.cos(x)), x)\n",
        "d"
      ],
      "id": "6233b743",
      "execution_count": null,
      "outputs": []
    },
    {
      "cell_type": "code",
      "metadata": {},
      "source": [
        "d.doit()"
      ],
      "id": "7ba18ef4",
      "execution_count": null,
      "outputs": []
    },
    {
      "cell_type": "markdown",
      "metadata": {},
      "source": [
        "### Integrals"
      ],
      "id": "f2c344f3"
    },
    {
      "cell_type": "code",
      "metadata": {},
      "source": [
        "a, b, x, y = sympy.symbols('a, b, x, y')\n",
        "f = sympy.Function('f')(x)\n",
        "sympy.integrate(f)"
      ],
      "id": "c393b394",
      "execution_count": null,
      "outputs": []
    },
    {
      "cell_type": "code",
      "metadata": {},
      "source": [
        "sympy.integrate(f, (x, a, b))"
      ],
      "id": "d7c8ccbf",
      "execution_count": null,
      "outputs": []
    },
    {
      "cell_type": "markdown",
      "metadata": {},
      "source": [
        "---"
      ],
      "id": "daf2ca99"
    },
    {
      "cell_type": "code",
      "metadata": {},
      "source": [
        "sympy.integrate(sympy.sin(x))"
      ],
      "id": "9f2b4758",
      "execution_count": null,
      "outputs": []
    },
    {
      "cell_type": "code",
      "metadata": {},
      "source": [
        "sympy.integrate(sympy.sin(x), (x, a, b))"
      ],
      "id": "58d35e44",
      "execution_count": null,
      "outputs": []
    },
    {
      "cell_type": "code",
      "metadata": {},
      "source": [
        "sympy.integrate(sympy.exp(-x**2), (x, 0, oo))"
      ],
      "id": "82efea57",
      "execution_count": null,
      "outputs": []
    },
    {
      "cell_type": "code",
      "metadata": {},
      "source": [
        "a, b, c = sympy.symbols('a, b, c', positive=True)\n",
        "sympy.integrate(a * sympy.exp(-((x -b)/c)**2), (x, -oo, oo))"
      ],
      "id": "1ef63192",
      "execution_count": null,
      "outputs": []
    },
    {
      "cell_type": "code",
      "metadata": {},
      "source": [
        "sympy.integrate(sympy.sin(x * sympy.cos(x))) # No analytic integration"
      ],
      "id": "9d148e21",
      "execution_count": null,
      "outputs": []
    },
    {
      "cell_type": "markdown",
      "metadata": {},
      "source": [
        "---"
      ],
      "id": "58029f4d"
    },
    {
      "cell_type": "code",
      "metadata": {},
      "source": [
        "expr = sympy.sin(x*sympy.exp(y))\n",
        "expr"
      ],
      "id": "cbeb29a6",
      "execution_count": null,
      "outputs": []
    },
    {
      "cell_type": "code",
      "metadata": {},
      "source": [
        "sympy.integrate(expr, x)"
      ],
      "id": "275c152a",
      "execution_count": null,
      "outputs": []
    },
    {
      "cell_type": "markdown",
      "metadata": {},
      "source": [
        "---"
      ],
      "id": "3263b674"
    },
    {
      "cell_type": "code",
      "metadata": {},
      "source": [
        "expr = (x + y)**2\n",
        "expr"
      ],
      "id": "9ee663ef",
      "execution_count": null,
      "outputs": []
    },
    {
      "cell_type": "code",
      "metadata": {},
      "source": [
        "sympy.integrate(expr, x)"
      ],
      "id": "24a13859",
      "execution_count": null,
      "outputs": []
    },
    {
      "cell_type": "code",
      "metadata": {},
      "source": [
        "sympy.integrate(expr, x, y)"
      ],
      "id": "d94d51d9",
      "execution_count": null,
      "outputs": []
    },
    {
      "cell_type": "code",
      "metadata": {},
      "source": [
        "sympy.integrate(expr, (x, 0, 1), (y, 0, 1))"
      ],
      "id": "30ec4afb",
      "execution_count": null,
      "outputs": []
    },
    {
      "cell_type": "markdown",
      "metadata": {},
      "source": [
        "### Series"
      ],
      "id": "fecee59d"
    },
    {
      "cell_type": "code",
      "metadata": {},
      "source": [
        "sympy.limit(sympy.sin(x) / x, x, 0)"
      ],
      "id": "6c40fee6",
      "execution_count": null,
      "outputs": []
    },
    {
      "cell_type": "markdown",
      "metadata": {},
      "source": [
        "---"
      ],
      "id": "b35db1e8"
    },
    {
      "cell_type": "code",
      "metadata": {},
      "source": [
        "x, h = sympy.symbols('x, h')\n",
        "f = sympy.Function('f')\n",
        "diff_limit = (f(x + h) - f(x)) / h"
      ],
      "id": "5ccd0ae0",
      "execution_count": null,
      "outputs": []
    },
    {
      "cell_type": "code",
      "metadata": {},
      "source": [
        "sympy.limit(diff_limit.subs(f, sympy.cos), h, 0)"
      ],
      "id": "73489fed",
      "execution_count": null,
      "outputs": []
    },
    {
      "cell_type": "code",
      "metadata": {},
      "source": [
        "sympy.limit(diff_limit.subs(f, sympy.sin), h, 0)"
      ],
      "id": "f9aeb4aa",
      "execution_count": null,
      "outputs": []
    },
    {
      "cell_type": "code",
      "metadata": {},
      "source": [
        "expr = (x**2 - 3*x) / (2*x - 2)\n",
        "expr"
      ],
      "id": "2b0d6c4d",
      "execution_count": null,
      "outputs": []
    },
    {
      "cell_type": "code",
      "metadata": {},
      "source": [
        "p = sympy.limit(expr/x, x, sympy.oo)"
      ],
      "id": "525f7e60",
      "execution_count": null,
      "outputs": []
    },
    {
      "cell_type": "code",
      "metadata": {},
      "source": [
        "q = sympy.limit(expr - p*x, x, sympy.oo)"
      ],
      "id": "9fe20835",
      "execution_count": null,
      "outputs": []
    },
    {
      "cell_type": "code",
      "metadata": {},
      "source": [
        "p, q"
      ],
      "id": "3a94c45e",
      "execution_count": null,
      "outputs": []
    },
    {
      "cell_type": "markdown",
      "metadata": {},
      "source": [
        "### Sums and products"
      ],
      "id": "f264bedf"
    },
    {
      "cell_type": "code",
      "metadata": {},
      "source": [
        "n = sympy.symbols('n', integer=True)\n",
        "x = sympy.Sum(1/(n**2), (n, 1, oo))\n",
        "x"
      ],
      "id": "7cabfe01",
      "execution_count": null,
      "outputs": []
    },
    {
      "cell_type": "code",
      "metadata": {},
      "source": [
        "x.doit()"
      ],
      "id": "600fd8e5",
      "execution_count": null,
      "outputs": []
    },
    {
      "cell_type": "code",
      "metadata": {},
      "source": [
        "x = sympy.Product(n, (n, 1, 7))\n",
        "x"
      ],
      "id": "bd532f44",
      "execution_count": null,
      "outputs": []
    },
    {
      "cell_type": "code",
      "metadata": {},
      "source": [
        "x.doit()"
      ],
      "id": "b2a49f9b",
      "execution_count": null,
      "outputs": []
    },
    {
      "cell_type": "markdown",
      "metadata": {},
      "source": [
        "---"
      ],
      "id": "78bd21dc"
    },
    {
      "cell_type": "code",
      "metadata": {},
      "source": [
        "x = sympy.Symbol('x')\n",
        "sympy.Sum((x)**n/(sympy.factorial(n)), (n, 1, oo)).doit().simplify()"
      ],
      "id": "43f92f23",
      "execution_count": null,
      "outputs": []
    },
    {
      "cell_type": "markdown",
      "metadata": {},
      "source": [
        "## Equations"
      ],
      "id": "de3c21f6"
    },
    {
      "cell_type": "code",
      "metadata": {},
      "source": [
        "x = sympy.Symbol('x')\n",
        "sympy.solve(x**2 +2*x -3)"
      ],
      "id": "93a0f98e",
      "execution_count": null,
      "outputs": []
    },
    {
      "cell_type": "code",
      "metadata": {},
      "source": [
        "a, b, c = sympy.symbols('a, b, c')\n",
        "sympy.solve(a *x**2 +b *x +c, x)"
      ],
      "id": "87f5dce5",
      "execution_count": null,
      "outputs": []
    },
    {
      "cell_type": "code",
      "metadata": {},
      "source": [
        "sympy.solve(sympy.sin(x) - sympy.cos(x), x)"
      ],
      "id": "751ca5c7",
      "execution_count": null,
      "outputs": []
    },
    {
      "cell_type": "markdown",
      "metadata": {},
      "source": [
        "---"
      ],
      "id": "073b3d06"
    },
    {
      "cell_type": "code",
      "metadata": {},
      "source": [
        "sympy.solve(sympy.exp(x) + 2 *x, x)"
      ],
      "id": "5d8438e5",
      "execution_count": null,
      "outputs": []
    },
    {
      "cell_type": "markdown",
      "metadata": {},
      "source": [
        "The value of `LambertW` function $W(z)$ is such that $z = W(z)\\exp(W(z))$ for any complex number $z$"
      ],
      "id": "b1ec72a6"
    },
    {
      "cell_type": "code",
      "metadata": {},
      "source": [
        "-sympy.LambertW(1/2)"
      ],
      "id": "02dea6a9",
      "execution_count": null,
      "outputs": []
    },
    {
      "cell_type": "markdown",
      "metadata": {},
      "source": [
        "---"
      ],
      "id": "0300bfc7"
    },
    {
      "cell_type": "code",
      "metadata": {},
      "source": [
        "sols = sympy.solve(x**5 - x**2 + 1, x)\n",
        "for i in range(5):\n",
        "    display(sols[i])"
      ],
      "id": "cd192ac4",
      "execution_count": null,
      "outputs": []
    },
    {
      "cell_type": "code",
      "metadata": {},
      "source": [
        "#sympy.solve(sympy.tan(x) + x, x)"
      ],
      "id": "54100038",
      "execution_count": null,
      "outputs": []
    },
    {
      "cell_type": "markdown",
      "metadata": {},
      "source": [
        "`NotImplementedError: multiple generators [x, tan(x)]`\n",
        "`No algorithms are implemented to solve equation x + tan(x)`\n",
        "\n",
        "---"
      ],
      "id": "5bc7d1cd"
    },
    {
      "cell_type": "code",
      "metadata": {},
      "source": [
        "eq1 = x +2 *y -1 \n",
        "eq2 = x -y +1"
      ],
      "id": "f7dd25d7",
      "execution_count": null,
      "outputs": []
    },
    {
      "cell_type": "code",
      "metadata": {},
      "source": [
        "sympy.solve([eq1, eq2], [x, y], dict=True)"
      ],
      "id": "3efee478",
      "execution_count": null,
      "outputs": []
    },
    {
      "cell_type": "code",
      "metadata": {},
      "source": [
        "eq1 = x**2 -y\n",
        "eq2 = y**2 -x"
      ],
      "id": "d597d02a",
      "execution_count": null,
      "outputs": []
    },
    {
      "cell_type": "code",
      "metadata": {},
      "source": [
        "sols = sympy.solve([eq1, eq2], [x, y], dict=True)\n",
        "for i in range(4):\n",
        "    display(sols[i])"
      ],
      "id": "d40971d8",
      "execution_count": null,
      "outputs": []
    },
    {
      "cell_type": "code",
      "metadata": {},
      "source": [
        "[eq1.subs(sol).simplify() == 0 and \n",
        " eq2.subs(sol).simplify() == 0 for sol in sols]"
      ],
      "id": "738033f7",
      "execution_count": null,
      "outputs": []
    },
    {
      "cell_type": "markdown",
      "metadata": {},
      "source": [
        "## Linear algebra"
      ],
      "id": "43f97e51"
    },
    {
      "cell_type": "code",
      "metadata": {},
      "source": [
        "sympy.Matrix([1, 2])"
      ],
      "id": "fc7dbc25",
      "execution_count": null,
      "outputs": []
    },
    {
      "cell_type": "code",
      "metadata": {},
      "source": [
        "sympy.Matrix([[1, 2]])"
      ],
      "id": "b06e662b",
      "execution_count": null,
      "outputs": []
    },
    {
      "cell_type": "code",
      "metadata": {},
      "source": [
        "sympy.Matrix([[1, 2], [3, 4]])"
      ],
      "id": "6bbdbd5f",
      "execution_count": null,
      "outputs": []
    },
    {
      "cell_type": "code",
      "metadata": {},
      "source": [
        "sympy.Matrix(3, 4, lambda m, n: 10 * m + n)"
      ],
      "id": "0a9d711b",
      "execution_count": null,
      "outputs": []
    },
    {
      "cell_type": "markdown",
      "metadata": {},
      "source": [
        "---"
      ],
      "id": "d56f6386"
    },
    {
      "cell_type": "code",
      "metadata": {},
      "source": [
        "a, b, c, d = sympy.symbols('a, b, c, d')\n",
        "\n",
        "M = sympy.Matrix([[a, b], [c, d]])\n",
        "M"
      ],
      "id": "169245c3",
      "execution_count": null,
      "outputs": []
    },
    {
      "cell_type": "code",
      "metadata": {},
      "source": [
        "M * M  # Matrix multiplication"
      ],
      "id": "41a3bded",
      "execution_count": null,
      "outputs": []
    },
    {
      "cell_type": "code",
      "metadata": {},
      "source": [
        "x = sympy.Matrix(sympy.symbols('x_1, x_2'))\n",
        "x"
      ],
      "id": "0417f28d",
      "execution_count": null,
      "outputs": []
    },
    {
      "cell_type": "code",
      "metadata": {},
      "source": [
        "M * x"
      ],
      "id": "b873867c",
      "execution_count": null,
      "outputs": []
    },
    {
      "cell_type": "markdown",
      "metadata": {},
      "source": [
        "---"
      ],
      "id": "01eb35cc"
    },
    {
      "cell_type": "code",
      "metadata": {},
      "source": [
        "p, q = sympy.symbols('p, q')\n",
        "M = sympy.Matrix([[1, p], [q, 1]])\n",
        "M"
      ],
      "id": "e51c9751",
      "execution_count": null,
      "outputs": []
    },
    {
      "cell_type": "code",
      "metadata": {},
      "source": [
        "b = sympy.Matrix(sympy.symbols('b_1, b_2'))\n",
        "b"
      ],
      "id": "b226222f",
      "execution_count": null,
      "outputs": []
    },
    {
      "cell_type": "code",
      "metadata": {},
      "source": [
        "x = M.LUsolve(b)\n",
        "x"
      ],
      "id": "aea618ac",
      "execution_count": null,
      "outputs": []
    },
    {
      "cell_type": "code",
      "metadata": {},
      "source": [
        "x = M.inv() *b\n",
        "x"
      ],
      "id": "29c7cc4e",
      "execution_count": null,
      "outputs": []
    },
    {
      "cell_type": "markdown",
      "metadata": {},
      "source": [
        "## ODE"
      ],
      "id": "3bcd7dfc"
    },
    {
      "cell_type": "code",
      "metadata": {},
      "source": [
        "x = sympy.Symbol('x')\n",
        "f = sympy.Function('f')"
      ],
      "id": "2af0f418",
      "execution_count": null,
      "outputs": []
    },
    {
      "cell_type": "code",
      "metadata": {},
      "source": [
        "sympy.dsolve(sympy.Derivative(f(x), x, x) +9 *f(x), f(x))"
      ],
      "id": "893b68ef",
      "execution_count": null,
      "outputs": []
    },
    {
      "cell_type": "code",
      "metadata": {},
      "source": [
        "eq = (sympy.sin(x) *sympy.cos(f(x)) \n",
        "    + sympy.cos(x) *sympy.sin(f(x)) *f(x).diff(x))\n",
        "eq"
      ],
      "id": "98afd72d",
      "execution_count": null,
      "outputs": []
    },
    {
      "cell_type": "code",
      "metadata": {},
      "source": [
        "sympy.dsolve(eq, hint='1st_exact')"
      ],
      "id": "18798824",
      "execution_count": null,
      "outputs": []
    },
    {
      "cell_type": "markdown",
      "metadata": {},
      "source": [
        "---"
      ],
      "id": "8a1fb2d8"
    },
    {
      "cell_type": "code",
      "metadata": {},
      "source": [
        "t = sympy.Symbol('t')\n",
        "x, y = sympy.Function('x'), sympy.Function('y')\n",
        "\n",
        "eq = (sympy.Eq(sympy.Derivative(x(t),t), 12 *t *x(t) + 8 *y(t)),\n",
        "      sympy.Eq(sympy.Derivative(y(t),t), 21 *x(t) + 7 *t *y(t)))\n",
        "eq"
      ],
      "id": "e9be6155",
      "execution_count": null,
      "outputs": []
    },
    {
      "cell_type": "code",
      "metadata": {},
      "source": [
        "sols = sympy.dsolve(eq)\n",
        "for i in [0, 1]:\n",
        "    display(sols[i])"
      ],
      "id": "82f2f7bb",
      "execution_count": null,
      "outputs": []
    },
    {
      "cell_type": "markdown",
      "metadata": {},
      "source": [
        "---"
      ],
      "id": "4ef7b144"
    },
    {
      "cell_type": "code",
      "metadata": {},
      "source": [
        "eq = (sympy.Eq(sympy.Derivative(x(t),t), x(t) *y(t) *sympy.sin(t)), \n",
        "      sympy.Eq(sympy.Derivative(y(t),t), y(t)**2 *sympy.sin(t)))\n",
        "eq"
      ],
      "id": "19d8cbf9",
      "execution_count": null,
      "outputs": []
    },
    {
      "cell_type": "code",
      "metadata": {},
      "source": [
        "sympy.dsolve(eq)"
      ],
      "id": "0f3daa7f",
      "execution_count": null,
      "outputs": []
    },
    {
      "cell_type": "markdown",
      "metadata": {},
      "source": [
        "## Plot"
      ],
      "id": "c92f5611"
    },
    {
      "cell_type": "code",
      "metadata": {},
      "source": [
        "# | fig-align: center\n",
        "from sympy.plotting import plot\n",
        "\n",
        "x = sympy.symbols('x')\n",
        "p1 = plot(x**2, (x - 1) * x * (x + 1), (x, -1.2, 1.2))"
      ],
      "id": "750ce8e1",
      "execution_count": null,
      "outputs": []
    },
    {
      "cell_type": "code",
      "metadata": {},
      "source": [
        "# | fig-align: center\n",
        "from sympy.plotting import plot_parametric\n",
        "\n",
        "u = sympy.symbols('u')\n",
        "p2 = plot_parametric((sympy.cos(u), sympy.sin(u)), \n",
        "                     (u, sympy.cos(u)), (u, -3, 3))"
      ],
      "id": "10119202",
      "execution_count": null,
      "outputs": []
    },
    {
      "cell_type": "code",
      "metadata": {},
      "source": [
        "# | fig-align: center\n",
        "expr1 = (u, sympy.cos(2 *pi *u)/2 + 1/2)\n",
        "expr2 = (u, sympy.sin(2 *pi *u)/2 + 1/2)\n",
        "\n",
        "p3 = plot_parametric(expr1, expr2, (u, 0, 1), line_color='blue')"
      ],
      "id": "c3af9011",
      "execution_count": null,
      "outputs": []
    },
    {
      "cell_type": "code",
      "metadata": {},
      "source": [
        "# | fig-align: center\n",
        "p3[0].line_color = 'red'\n",
        "p3.show()"
      ],
      "id": "bd3efe70",
      "execution_count": null,
      "outputs": []
    },
    {
      "cell_type": "code",
      "metadata": {},
      "source": [
        "# | fig-align: center\n",
        "from sympy.plotting import plot3d\n",
        "\n",
        "x, y = sympy.symbols('x y')\n",
        "p4 = plot3d((x**2 + y**2, (x, -5, 5), (y, -5, 5)),\n",
        "    (x*y, (x, -3, 3), (y, -3, 3)))"
      ],
      "id": "f1903e6f",
      "execution_count": null,
      "outputs": []
    },
    {
      "cell_type": "code",
      "metadata": {},
      "source": [
        "# | fig-align: center\n",
        "from sympy.plotting import plot3d_parametric_line\n",
        "\n",
        "u = sympy.symbols('u')\n",
        "p5 = plot3d_parametric_line(sympy.cos(u), sympy.sin(u), u, (u, -5, 5))"
      ],
      "id": "497c9d83",
      "execution_count": null,
      "outputs": []
    },
    {
      "cell_type": "code",
      "metadata": {},
      "source": [
        "# | fig-align: center\n",
        "from sympy.plotting import plot3d_parametric_surface\n",
        "\n",
        "u, v = sympy.symbols('u v')\n",
        "p6 = plot3d_parametric_surface(sympy.cos(u + v), \n",
        "    sympy.sin(u - v), u - v, (u, -5, 5), (v, -5, 5))"
      ],
      "id": "a59ebbbc",
      "execution_count": null,
      "outputs": []
    },
    {
      "cell_type": "code",
      "metadata": {},
      "source": [
        "# | fig-align: center\n",
        "from sympy import plot_implicit, Eq, And\n",
        "\n",
        "p7 = plot_implicit(\n",
        "    Eq(x**2 + y**2, 3), (x, -3, 3), (y, -3, 3))"
      ],
      "id": "e143964d",
      "execution_count": null,
      "outputs": []
    },
    {
      "cell_type": "code",
      "metadata": {},
      "source": [
        "# | fig-align: center\n",
        "p8 = plot_implicit(And(y > x, y > -x))"
      ],
      "id": "be0c869d",
      "execution_count": null,
      "outputs": []
    },
    {
      "cell_type": "code",
      "metadata": {},
      "source": [
        "# | fig-align: center\n",
        "from sympy.plotting import PlotGrid\n",
        "\n",
        "p9 = PlotGrid(2, 1, p1, p2)"
      ],
      "id": "5a4649b1",
      "execution_count": null,
      "outputs": []
    }
  ],
  "metadata": {
    "kernelspec": {
      "name": "python3",
      "language": "python",
      "display_name": "Python 3 (ipykernel)",
      "path": "/opt/miniconda3/share/jupyter/kernels/python3"
    }
  },
  "nbformat": 4,
  "nbformat_minor": 5
}