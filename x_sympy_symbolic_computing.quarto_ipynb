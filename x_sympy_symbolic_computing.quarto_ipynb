{
  "cells": [
    {
      "cell_type": "markdown",
      "metadata": {},
      "source": [
        "---\n",
        "jupyter: python3\n",
        "---\n",
        "\n",
        "# Sympy: Symbolic Computing {#sec-sympy}\n",
        "\n",
        "$~$\n",
        "\n",
        "[![](https://www.sympy.org/static/images/logo.png)](https://docs.sympy.org/latest/index.html)\n",
        "\n",
        "$~$\n",
        "\n",
        "## Importing sympy"
      ],
      "id": "4ee45c44"
    },
    {
      "cell_type": "code",
      "metadata": {},
      "source": [
        "import sympy\n",
        "from sympy import I, pi, oo\n",
        "sympy.init_printing()\n",
        "\n",
        "from IPython.display import display\n",
        "\n",
        "print(\"sympy: \", sympy.__version__)"
      ],
      "id": "50f20293",
      "execution_count": null,
      "outputs": []
    },
    {
      "cell_type": "markdown",
      "metadata": {},
      "source": [
        "## Symbols"
      ],
      "id": "cd1b10c8"
    },
    {
      "cell_type": "code",
      "metadata": {},
      "source": [
        "x = sympy.Symbol('x')\n",
        "print(x.is_real)"
      ],
      "id": "66865923",
      "execution_count": null,
      "outputs": []
    },
    {
      "cell_type": "code",
      "metadata": {},
      "source": [
        "y = sympy.Symbol('y', real=True)\n",
        "y.is_real"
      ],
      "id": "a5daeb70",
      "execution_count": null,
      "outputs": []
    },
    {
      "cell_type": "code",
      "metadata": {},
      "source": [
        "z = sympy.Symbol('z', complex=True)\n",
        "z.is_complex"
      ],
      "id": "b31cdd87",
      "execution_count": null,
      "outputs": []
    },
    {
      "cell_type": "code",
      "metadata": {},
      "source": [
        "print(z.is_real)"
      ],
      "id": "f9732dfc",
      "execution_count": null,
      "outputs": []
    },
    {
      "cell_type": "markdown",
      "metadata": {},
      "source": [
        "---"
      ],
      "id": "f1a4d437"
    },
    {
      "cell_type": "code",
      "metadata": {},
      "source": [
        "x = sympy.Symbol('x')\n",
        "y = sympy.Symbol('y', positive=True)\n",
        "z = sympy.Symbol('z', negative=True)"
      ],
      "id": "c30c00c3",
      "execution_count": null,
      "outputs": []
    },
    {
      "cell_type": "code",
      "metadata": {},
      "source": [
        "sympy.sqrt(x**2)"
      ],
      "id": "fd5a9aef",
      "execution_count": null,
      "outputs": []
    },
    {
      "cell_type": "code",
      "metadata": {},
      "source": [
        "sympy.sqrt(y**2)"
      ],
      "id": "86d612d9",
      "execution_count": null,
      "outputs": []
    },
    {
      "cell_type": "code",
      "metadata": {},
      "source": [
        "sympy.sqrt(z**2)"
      ],
      "id": "9b754b17",
      "execution_count": null,
      "outputs": []
    },
    {
      "cell_type": "markdown",
      "metadata": {},
      "source": [
        "---"
      ],
      "id": "9e3d4de9"
    },
    {
      "cell_type": "code",
      "metadata": {},
      "source": [
        "n1 = sympy.Symbol('n')\n",
        "n2 = sympy.Symbol('n', integer=True)\n",
        "n3 = sympy.Symbol('n', odd=True)\n",
        "n4 = sympy.Symbol('n', even=True)"
      ],
      "id": "c5c7552a",
      "execution_count": null,
      "outputs": []
    },
    {
      "cell_type": "code",
      "metadata": {},
      "source": [
        "sympy.cos(n1*pi)"
      ],
      "id": "b0174826",
      "execution_count": null,
      "outputs": []
    },
    {
      "cell_type": "code",
      "metadata": {},
      "source": [
        "sympy.cos(n2*pi)"
      ],
      "id": "aad74659",
      "execution_count": null,
      "outputs": []
    },
    {
      "cell_type": "code",
      "metadata": {},
      "source": [
        "sympy.cos(n3*pi)"
      ],
      "id": "6ee0a6fd",
      "execution_count": null,
      "outputs": []
    },
    {
      "cell_type": "code",
      "metadata": {},
      "source": [
        "sympy.cos(n4*pi)"
      ],
      "id": "a6322a9b",
      "execution_count": null,
      "outputs": []
    },
    {
      "cell_type": "markdown",
      "metadata": {},
      "source": [
        "---"
      ],
      "id": "32b46ab9"
    },
    {
      "cell_type": "code",
      "metadata": {},
      "source": [
        "a, b, c = sympy.symbols('a, b, c', negative=True)"
      ],
      "id": "c2c7666d",
      "execution_count": null,
      "outputs": []
    },
    {
      "cell_type": "code",
      "metadata": {},
      "source": [
        "d, e, f = sympy.symbols('d, e, f', positive=True)"
      ],
      "id": "0ec991d7",
      "execution_count": null,
      "outputs": []
    },
    {
      "cell_type": "markdown",
      "metadata": {},
      "source": [
        "## Numbers\n",
        "\n",
        "* We cannot directly use the built-in Python objects for integers, `int`, and floating-point numbers, `float`, and so on. Instead, `sympy` provides the classes `sympy.Integer` and `sympy.Float` for representing integers and floating-point numbers within the `sympy` framework\n",
        "\n",
        "* This distinction is important to be aware of when working with `sympy`, but fortunately we rarely\n",
        "need to concern ourselves with creating objects of type `sympy.Integer` and `sympy.Float` to representing\n",
        "specific numbers, $~$since `sympy` automatically promotes Python numbers to instances of these classes when they occur in `sympy` expressions"
      ],
      "id": "e47edb1e"
    },
    {
      "cell_type": "code",
      "metadata": {},
      "source": [
        "i = sympy.Integer(18)\n",
        "type(i)"
      ],
      "id": "23b88cff",
      "execution_count": null,
      "outputs": []
    },
    {
      "cell_type": "code",
      "metadata": {},
      "source": [
        "i.is_Integer, i.is_real, i.is_odd, i.is_even"
      ],
      "id": "6b056d37",
      "execution_count": null,
      "outputs": []
    },
    {
      "cell_type": "code",
      "metadata": {},
      "source": [
        "f = sympy.Float(2.3)\n",
        "type(f)"
      ],
      "id": "bb21e3a9",
      "execution_count": null,
      "outputs": []
    },
    {
      "cell_type": "code",
      "metadata": {},
      "source": [
        "f.is_Float, f.is_real, f.is_complex"
      ],
      "id": "44a5f395",
      "execution_count": null,
      "outputs": []
    },
    {
      "cell_type": "markdown",
      "metadata": {},
      "source": [
        "---"
      ],
      "id": "1b9f02ee"
    },
    {
      "cell_type": "code",
      "metadata": {},
      "source": [
        "i, f = sympy.sympify(19), sympy.sympify(2.3)\n",
        "type(i), type(f)"
      ],
      "id": "03293c05",
      "execution_count": null,
      "outputs": []
    },
    {
      "cell_type": "markdown",
      "metadata": {},
      "source": [
        "### Integer \n",
        "\n",
        "* While the `Symbol` with `integer=True` represents some integer, $\\,$the `Integer` instance represents a\n",
        "specific integer\n",
        "\n",
        "* For both cases, $\\,$the `is_integer` attribute is `True`, $\\,$but there is also an attribute `is_Integer`\n",
        "(note the capital `I`), $\\,$which is only `True` for `Integer` instances"
      ],
      "id": "7893d150"
    },
    {
      "cell_type": "code",
      "metadata": {},
      "source": [
        "n = sympy.Symbol('n', integer=True)\n",
        "n.is_integer, n.is_Integer, n.is_positive, n.is_Symbol"
      ],
      "id": "8e227569",
      "execution_count": null,
      "outputs": []
    },
    {
      "cell_type": "code",
      "metadata": {},
      "source": [
        "i = sympy.Integer(19)\n",
        "i.is_integer, i.is_Integer, i.is_positive, i.is_Symbol"
      ],
      "id": "7667cc02",
      "execution_count": null,
      "outputs": []
    },
    {
      "cell_type": "code",
      "metadata": {},
      "source": [
        "sympy.Integer('19' *20)"
      ],
      "id": "4e4524b2",
      "execution_count": null,
      "outputs": []
    },
    {
      "cell_type": "code",
      "metadata": {},
      "source": [
        "sympy.Integer('12_345_678'), sympy.Integer(12_345_678)"
      ],
      "id": "62e5e663",
      "execution_count": null,
      "outputs": []
    },
    {
      "cell_type": "code",
      "metadata": {},
      "source": [
        "# great common division, leat common multiple\n",
        "sympy.igcd(36, 15), sympy.ilcm(7, 34)"
      ],
      "id": "3348a3c5",
      "execution_count": null,
      "outputs": []
    },
    {
      "cell_type": "markdown",
      "metadata": {},
      "source": [
        "* Integers in `sympy` are <font color='red'>**arbitrary precision**</font>, $\\,$meaning that they have <font color='blue'>no fixed lower and upper bounds</font>,\n",
        "$\\,$which is the case when representing integers with a specific bit-size, as, for example, in `numpy`"
      ],
      "id": "177f3951"
    },
    {
      "cell_type": "code",
      "metadata": {},
      "source": [
        "i = sympy.Integer(19)\n",
        "i**100"
      ],
      "id": "22cca586",
      "execution_count": null,
      "outputs": []
    },
    {
      "cell_type": "code",
      "metadata": {},
      "source": [
        "sympy.factorial(100)"
      ],
      "id": "c6b1232b",
      "execution_count": null,
      "outputs": []
    },
    {
      "cell_type": "markdown",
      "metadata": {},
      "source": [
        "### Float\n",
        "\n",
        "* Like `Integer`, $\\,$`Float` is <font color='red'>**arbitrary precision**</font>, $\\,$in contrast to Python’s built-in `float` type and the `float` types in `numpy`. $\\,$This means that any `Float` can represent a `float` with arbitrary number of decimals\n",
        "\n",
        "* When a `Float` instance is created using its constructor, $\\,$there are two arguments: the first argument is **a Python `float` or a string representing a floating-point number**, and the second (optional) argument is the **precision** (number of significant decimal digits) of the `Float` object"
      ],
      "id": "a7516f68"
    },
    {
      "cell_type": "code",
      "metadata": {},
      "source": [
        "# create a string representation with 25 decimals\n",
        "f'{0.3:.25f}'  "
      ],
      "id": "dc4d4b6c",
      "execution_count": null,
      "outputs": []
    },
    {
      "cell_type": "code",
      "metadata": {},
      "source": [
        "sympy.Float(0.3, 25) "
      ],
      "id": "52ca64a0",
      "execution_count": null,
      "outputs": []
    },
    {
      "cell_type": "code",
      "metadata": {},
      "source": [
        "sympy.Float('0.3', 25)"
      ],
      "id": "414c5d40",
      "execution_count": null,
      "outputs": []
    },
    {
      "cell_type": "code",
      "metadata": {},
      "source": [
        "sympy.Float('123 456 789.123_456', '')"
      ],
      "id": "868c6227",
      "execution_count": null,
      "outputs": []
    },
    {
      "cell_type": "markdown",
      "metadata": {},
      "source": [
        "### Rational"
      ],
      "id": "6921b996"
    },
    {
      "cell_type": "code",
      "metadata": {},
      "source": [
        "r0 = sympy.Rational(11, 13)\n",
        "r0"
      ],
      "id": "89be3b55",
      "execution_count": null,
      "outputs": []
    },
    {
      "cell_type": "code",
      "metadata": {},
      "source": [
        "r0.p, r0.q"
      ],
      "id": "ec19a9f7",
      "execution_count": null,
      "outputs": []
    },
    {
      "cell_type": "code",
      "metadata": {},
      "source": [
        "r1 = sympy.Rational(2, 3)\n",
        "r2 = sympy.Rational(4, 5)"
      ],
      "id": "528b62e8",
      "execution_count": null,
      "outputs": []
    },
    {
      "cell_type": "code",
      "metadata": {},
      "source": [
        "r1 * r2"
      ],
      "id": "1a6e9ae7",
      "execution_count": null,
      "outputs": []
    },
    {
      "cell_type": "code",
      "metadata": {},
      "source": [
        "r1 / r2"
      ],
      "id": "0b600b94",
      "execution_count": null,
      "outputs": []
    },
    {
      "cell_type": "code",
      "metadata": {},
      "source": [
        "sympy.Rational(0.2), sympy.Rational('0.2')"
      ],
      "id": "82a78035",
      "execution_count": null,
      "outputs": []
    },
    {
      "cell_type": "markdown",
      "metadata": {},
      "source": [
        "### Constants and special symbols\n",
        "\n",
        "$\\displaystyle \\gamma = \\lim_{n \\to \\infty} \\left( \\sum_{k=1}^n \\frac{1}{k} -\\ln n\\right)$"
      ],
      "id": "25b7c728"
    },
    {
      "cell_type": "code",
      "metadata": {},
      "source": [
        "sympy.pi, sympy.E, sympy.EulerGamma, sympy.I, sympy.oo"
      ],
      "id": "c7e58e4b",
      "execution_count": null,
      "outputs": []
    },
    {
      "cell_type": "markdown",
      "metadata": {},
      "source": [
        "### Functions"
      ],
      "id": "032ffd48"
    },
    {
      "cell_type": "code",
      "metadata": {},
      "source": [
        "x, y, z = sympy.symbols('x, y, z')"
      ],
      "id": "0d3db9d9",
      "execution_count": null,
      "outputs": []
    },
    {
      "cell_type": "code",
      "metadata": {},
      "source": [
        "f = sympy.Function('f')\n",
        "type(f)"
      ],
      "id": "bf136266",
      "execution_count": null,
      "outputs": []
    },
    {
      "cell_type": "code",
      "metadata": {},
      "source": [
        "f(x)"
      ],
      "id": "8987b292",
      "execution_count": null,
      "outputs": []
    },
    {
      "cell_type": "code",
      "metadata": {},
      "source": [
        "g = sympy.Function('g')(x, y, z)\n",
        "g"
      ],
      "id": "5b961636",
      "execution_count": null,
      "outputs": []
    },
    {
      "cell_type": "code",
      "metadata": {},
      "source": [
        "g.free_symbols"
      ],
      "id": "1e547e17",
      "execution_count": null,
      "outputs": []
    },
    {
      "cell_type": "markdown",
      "metadata": {},
      "source": [
        "---"
      ],
      "id": "56e919d9"
    },
    {
      "cell_type": "code",
      "metadata": {},
      "source": [
        "sympy.sin"
      ],
      "id": "4728c1b6",
      "execution_count": null,
      "outputs": []
    },
    {
      "cell_type": "code",
      "metadata": {},
      "source": [
        "sympy.sin(x)"
      ],
      "id": "bea4bbc1",
      "execution_count": null,
      "outputs": []
    },
    {
      "cell_type": "code",
      "metadata": {},
      "source": [
        "sympy.sin(pi *1.5)"
      ],
      "id": "b2d26995",
      "execution_count": null,
      "outputs": []
    },
    {
      "cell_type": "code",
      "metadata": {},
      "source": [
        "n = sympy.Symbol('n', integer=True)\n",
        "sympy.sin(pi * n)"
      ],
      "id": "dce572ce",
      "execution_count": null,
      "outputs": []
    },
    {
      "cell_type": "code",
      "metadata": {},
      "source": [
        "h = sympy.Lambda(x, x**2)\n",
        "h"
      ],
      "id": "324c97d1",
      "execution_count": null,
      "outputs": []
    },
    {
      "cell_type": "code",
      "metadata": {},
      "source": [
        "h(5)"
      ],
      "id": "71835914",
      "execution_count": null,
      "outputs": []
    },
    {
      "cell_type": "code",
      "metadata": {},
      "source": [
        "h(1 + x)"
      ],
      "id": "9d070844",
      "execution_count": null,
      "outputs": []
    },
    {
      "cell_type": "markdown",
      "metadata": {},
      "source": [
        "## Expressions"
      ],
      "id": "046353c3"
    },
    {
      "cell_type": "code",
      "metadata": {},
      "source": [
        "x = sympy.Symbol('x')\n",
        "\n",
        "expr = 1 +2*x**2 +3*x**3\n",
        "expr"
      ],
      "id": "39ae89b4",
      "execution_count": null,
      "outputs": []
    },
    {
      "cell_type": "code",
      "metadata": {},
      "source": [
        "expr.args"
      ],
      "id": "7dacb6f1",
      "execution_count": null,
      "outputs": []
    },
    {
      "cell_type": "code",
      "metadata": {},
      "source": [
        "expr.args[2]"
      ],
      "id": "776b2030",
      "execution_count": null,
      "outputs": []
    },
    {
      "cell_type": "code",
      "metadata": {},
      "source": [
        "expr.args[2].args"
      ],
      "id": "9448351e",
      "execution_count": null,
      "outputs": []
    },
    {
      "cell_type": "code",
      "metadata": {},
      "source": [
        "expr.args[2].args[1]"
      ],
      "id": "037a3ba1",
      "execution_count": null,
      "outputs": []
    },
    {
      "cell_type": "code",
      "metadata": {},
      "source": [
        "expr.args[2].args[1].args"
      ],
      "id": "63d49649",
      "execution_count": null,
      "outputs": []
    },
    {
      "cell_type": "code",
      "metadata": {},
      "source": [
        "expr.args[2].args[1].args[1]"
      ],
      "id": "08012ded",
      "execution_count": null,
      "outputs": []
    },
    {
      "cell_type": "code",
      "metadata": {},
      "source": [
        "expr.args[2].args[1].args[1].args"
      ],
      "id": "bd1c3a0f",
      "execution_count": null,
      "outputs": []
    },
    {
      "cell_type": "markdown",
      "metadata": {},
      "source": [
        "## Manipulating expressions\n",
        "\n",
        "### Simplication"
      ],
      "id": "0aa67b42"
    },
    {
      "cell_type": "code",
      "metadata": {},
      "source": [
        "expr = 2 * (x**2 - x) - x * (x + 1)\n",
        "expr"
      ],
      "id": "6baeeb63",
      "execution_count": null,
      "outputs": []
    },
    {
      "cell_type": "code",
      "metadata": {},
      "source": [
        "sympy.simplify(expr)"
      ],
      "id": "b58a13ae",
      "execution_count": null,
      "outputs": []
    },
    {
      "cell_type": "code",
      "metadata": {},
      "source": [
        "expr.simplify()"
      ],
      "id": "a10e4064",
      "execution_count": null,
      "outputs": []
    },
    {
      "cell_type": "code",
      "metadata": {},
      "source": [
        "expr"
      ],
      "id": "289b6b4f",
      "execution_count": null,
      "outputs": []
    },
    {
      "cell_type": "markdown",
      "metadata": {},
      "source": [
        "---"
      ],
      "id": "71265527"
    },
    {
      "cell_type": "code",
      "metadata": {},
      "source": [
        "expr = 2 * sympy.cos(x) * sympy.sin(x)\n",
        "expr"
      ],
      "id": "aa307746",
      "execution_count": null,
      "outputs": []
    },
    {
      "cell_type": "code",
      "metadata": {},
      "source": [
        "sympy.simplify(expr)"
      ],
      "id": "a64d0879",
      "execution_count": null,
      "outputs": []
    },
    {
      "cell_type": "code",
      "metadata": {},
      "source": [
        "expr = sympy.exp(x) * sympy.exp(y)\n",
        "expr"
      ],
      "id": "aeea71e5",
      "execution_count": null,
      "outputs": []
    },
    {
      "cell_type": "code",
      "metadata": {},
      "source": [
        "sympy.simplify(expr)"
      ],
      "id": "1a811cbd",
      "execution_count": null,
      "outputs": []
    },
    {
      "cell_type": "markdown",
      "metadata": {},
      "source": [
        "### Expand"
      ],
      "id": "a0a66e75"
    },
    {
      "cell_type": "code",
      "metadata": {},
      "source": [
        "expr = (x + 1) * (x + 2)\n",
        "expr"
      ],
      "id": "6011afae",
      "execution_count": null,
      "outputs": []
    },
    {
      "cell_type": "code",
      "metadata": {},
      "source": [
        "expr.expand()"
      ],
      "id": "487de59d",
      "execution_count": null,
      "outputs": []
    },
    {
      "cell_type": "markdown",
      "metadata": {},
      "source": [
        "---"
      ],
      "id": "6d12301f"
    },
    {
      "cell_type": "code",
      "metadata": {},
      "source": [
        "sympy.sin(x + y).expand(trig=True)"
      ],
      "id": "ed0a52c4",
      "execution_count": null,
      "outputs": []
    },
    {
      "cell_type": "code",
      "metadata": {},
      "source": [
        "a, b = sympy.symbols('a, b', positive=True)\n",
        "sympy.log(a * b).expand(log=True)"
      ],
      "id": "244ee27b",
      "execution_count": null,
      "outputs": []
    },
    {
      "cell_type": "code",
      "metadata": {},
      "source": [
        "sympy.exp(I*a + b).expand(complex=True)"
      ],
      "id": "1dd0c0e6",
      "execution_count": null,
      "outputs": []
    },
    {
      "cell_type": "code",
      "metadata": {},
      "source": [
        "sympy.expand((a * b)**x, power_base=True)"
      ],
      "id": "1cc78e44",
      "execution_count": null,
      "outputs": []
    },
    {
      "cell_type": "code",
      "metadata": {},
      "source": [
        "sympy.exp(I*(a -b)*x).expand(power_exp=True)"
      ],
      "id": "4ab7f6cb",
      "execution_count": null,
      "outputs": []
    },
    {
      "cell_type": "markdown",
      "metadata": {},
      "source": [
        "### Factor, collect and combine"
      ],
      "id": "20fbc2e0"
    },
    {
      "cell_type": "code",
      "metadata": {},
      "source": [
        "sympy.factor(x**2 - 1)"
      ],
      "id": "8a6a5a47",
      "execution_count": null,
      "outputs": []
    },
    {
      "cell_type": "code",
      "metadata": {},
      "source": [
        "sympy.factor(x *sympy.cos(y) + x *sympy.sin(z))"
      ],
      "id": "572edd81",
      "execution_count": null,
      "outputs": []
    },
    {
      "cell_type": "markdown",
      "metadata": {},
      "source": [
        "---"
      ],
      "id": "ace43b15"
    },
    {
      "cell_type": "code",
      "metadata": {},
      "source": [
        "expr = x + y + x * y * z\n",
        "expr"
      ],
      "id": "07090434",
      "execution_count": null,
      "outputs": []
    },
    {
      "cell_type": "code",
      "metadata": {},
      "source": [
        "expr.collect(x)"
      ],
      "id": "56d0332e",
      "execution_count": null,
      "outputs": []
    },
    {
      "cell_type": "code",
      "metadata": {},
      "source": [
        "expr.collect(y)"
      ],
      "id": "93d0c7fb",
      "execution_count": null,
      "outputs": []
    },
    {
      "cell_type": "markdown",
      "metadata": {},
      "source": [
        "---"
      ],
      "id": "e289207b"
    },
    {
      "cell_type": "code",
      "metadata": {},
      "source": [
        "expr = sympy.cos(x + y) + sympy.sin(x - y)"
      ],
      "id": "434c3161",
      "execution_count": null,
      "outputs": []
    },
    {
      "cell_type": "code",
      "metadata": {},
      "source": [
        "expr1 = expr.expand(trig=True)\n",
        "expr1"
      ],
      "id": "a9ebdd59",
      "execution_count": null,
      "outputs": []
    },
    {
      "cell_type": "code",
      "metadata": {},
      "source": [
        "expr2 = expr1.collect([sympy.cos(x), sympy.sin(x)])\n",
        "expr2"
      ],
      "id": "dd9f2738",
      "execution_count": null,
      "outputs": []
    },
    {
      "cell_type": "code",
      "metadata": {},
      "source": [
        "expr3 = expr2.collect(sympy.cos(y) - sympy.sin(y))\n",
        "expr3"
      ],
      "id": "ea81b43f",
      "execution_count": null,
      "outputs": []
    },
    {
      "cell_type": "markdown",
      "metadata": {},
      "source": [
        "---"
      ],
      "id": "791e521d"
    },
    {
      "cell_type": "code",
      "metadata": {},
      "source": [
        "sympy.logcombine(sympy.log(a) - sympy.log(b))"
      ],
      "id": "1b5ac3a7",
      "execution_count": null,
      "outputs": []
    },
    {
      "cell_type": "markdown",
      "metadata": {},
      "source": [
        "### Apart, together and cancel"
      ],
      "id": "1777e2af"
    },
    {
      "cell_type": "code",
      "metadata": {},
      "source": [
        "expr1 = 1/(x**2 + 3*x + 2)\n",
        "expr1"
      ],
      "id": "bb1800b1",
      "execution_count": null,
      "outputs": []
    },
    {
      "cell_type": "code",
      "metadata": {},
      "source": [
        "sympy.apart(expr1, x)"
      ],
      "id": "a3785ae3",
      "execution_count": null,
      "outputs": []
    },
    {
      "cell_type": "code",
      "metadata": {},
      "source": [
        "expr2 = 1 / (y * x + y) + 1 / (1+x)\n",
        "expr2"
      ],
      "id": "4ddb44c4",
      "execution_count": null,
      "outputs": []
    },
    {
      "cell_type": "code",
      "metadata": {},
      "source": [
        "sympy.together(expr2)"
      ],
      "id": "642ee160",
      "execution_count": null,
      "outputs": []
    },
    {
      "cell_type": "code",
      "metadata": {},
      "source": [
        "expr3 = y / (y * x + y)\n",
        "expr3"
      ],
      "id": "80cc28b8",
      "execution_count": null,
      "outputs": []
    },
    {
      "cell_type": "code",
      "metadata": {},
      "source": [
        "sympy.cancel(expr3)"
      ],
      "id": "06563bac",
      "execution_count": null,
      "outputs": []
    },
    {
      "cell_type": "markdown",
      "metadata": {},
      "source": [
        "### Substitutions"
      ],
      "id": "1290de74"
    },
    {
      "cell_type": "code",
      "metadata": {},
      "source": [
        "(x + y).subs(x, y)"
      ],
      "id": "702b8be4",
      "execution_count": null,
      "outputs": []
    },
    {
      "cell_type": "code",
      "metadata": {},
      "source": [
        "sympy.sin(x * sympy.exp(x)).subs(x, y)"
      ],
      "id": "e29dc814",
      "execution_count": null,
      "outputs": []
    },
    {
      "cell_type": "code",
      "metadata": {},
      "source": [
        "sympy.sin(x * z).subs({z: sympy.exp(y), x: y, sympy.sin: sympy.cos})"
      ],
      "id": "04e65f04",
      "execution_count": null,
      "outputs": []
    },
    {
      "cell_type": "code",
      "metadata": {},
      "source": [
        "expr = x * y + z**2 *x\n",
        "expr"
      ],
      "id": "087d7f01",
      "execution_count": null,
      "outputs": []
    },
    {
      "cell_type": "code",
      "metadata": {},
      "source": [
        "values = {x: 1.25, y: 0.4, z: 3.2}\n",
        "expr.subs(values)"
      ],
      "id": "84a7a2a5",
      "execution_count": null,
      "outputs": []
    },
    {
      "cell_type": "markdown",
      "metadata": {},
      "source": [
        "### Numerical evaluation"
      ],
      "id": "105839ee"
    },
    {
      "cell_type": "code",
      "metadata": {},
      "source": [
        "sympy.N(1 + pi)"
      ],
      "id": "de61b109",
      "execution_count": null,
      "outputs": []
    },
    {
      "cell_type": "code",
      "metadata": {},
      "source": [
        "sympy.N(1 + pi, 50)"
      ],
      "id": "4133f4ca",
      "execution_count": null,
      "outputs": []
    },
    {
      "cell_type": "markdown",
      "metadata": {},
      "source": [
        "---"
      ],
      "id": "a240c561"
    },
    {
      "cell_type": "code",
      "metadata": {},
      "source": [
        "(x + 1/pi).evalf(10)"
      ],
      "id": "688f13f6",
      "execution_count": null,
      "outputs": []
    },
    {
      "cell_type": "markdown",
      "metadata": {},
      "source": [
        "---"
      ],
      "id": "2be73787"
    },
    {
      "cell_type": "code",
      "metadata": {},
      "source": [
        "expr = sympy.sin(pi * x * sympy.exp(x))\n",
        "expr"
      ],
      "id": "b51bd8e9",
      "execution_count": null,
      "outputs": []
    },
    {
      "cell_type": "code",
      "metadata": {},
      "source": [
        "[expr.subs(x, i).evalf(3) for i in range(0, 10)]  # rather slow"
      ],
      "id": "d0bcb190",
      "execution_count": null,
      "outputs": []
    },
    {
      "cell_type": "markdown",
      "metadata": {},
      "source": [
        "---"
      ],
      "id": "0b0a7a0f"
    },
    {
      "cell_type": "code",
      "metadata": {},
      "source": [
        "expr_func = sympy.lambdify(x, expr)\n",
        "expr_func(1.0)"
      ],
      "id": "f4d0f55d",
      "execution_count": null,
      "outputs": []
    },
    {
      "cell_type": "markdown",
      "metadata": {},
      "source": [
        "---"
      ],
      "id": "97cc7683"
    },
    {
      "cell_type": "code",
      "metadata": {},
      "source": [
        "import numpy as np\n",
        "\n",
        "xvalues = np.arange(0, 10)\n",
        "\n",
        "expr_func = sympy.lambdify(x, expr, 'numpy')\n",
        "expr_func(xvalues)  # efficient method"
      ],
      "id": "19495d77",
      "execution_count": null,
      "outputs": []
    },
    {
      "cell_type": "markdown",
      "metadata": {},
      "source": [
        "## Calculus\n",
        "\n",
        "### Derivatives"
      ],
      "id": "dac72e07"
    },
    {
      "cell_type": "code",
      "metadata": {},
      "source": [
        "f = sympy.Function('f')(x)\n",
        "sympy.diff(f, x)  # equivalent to f.diff(x)"
      ],
      "id": "76482be4",
      "execution_count": null,
      "outputs": []
    },
    {
      "cell_type": "code",
      "metadata": {},
      "source": [
        "sympy.diff(f, x, x)"
      ],
      "id": "98c00dbc",
      "execution_count": null,
      "outputs": []
    },
    {
      "cell_type": "code",
      "metadata": {},
      "source": [
        "sympy.diff(f, x, 3)  # equivalent to sympy.diff(f, x, x, x)"
      ],
      "id": "3b9c096a",
      "execution_count": null,
      "outputs": []
    },
    {
      "cell_type": "markdown",
      "metadata": {},
      "source": [
        "---"
      ],
      "id": "c931afcf"
    },
    {
      "cell_type": "code",
      "metadata": {},
      "source": [
        "g = sympy.Function('g')(x, y)\n",
        "g.diff(x, y) # equivalent to sympy.diff(g, x, y)"
      ],
      "id": "4edc7614",
      "execution_count": null,
      "outputs": []
    },
    {
      "cell_type": "code",
      "metadata": {},
      "source": [
        "g.diff(x, 3, y, 2) # equivalent to sympy.diff(g, x, x, x, y, y)"
      ],
      "id": "3cf08a99",
      "execution_count": null,
      "outputs": []
    },
    {
      "cell_type": "markdown",
      "metadata": {},
      "source": [
        "---"
      ],
      "id": "fbe5a075"
    },
    {
      "cell_type": "code",
      "metadata": {},
      "source": [
        "expr = x**4 + x**3 + x**2 + x + 1\n",
        "expr"
      ],
      "id": "617b0d13",
      "execution_count": null,
      "outputs": []
    },
    {
      "cell_type": "code",
      "metadata": {},
      "source": [
        "expr.diff(x)"
      ],
      "id": "de9e7080",
      "execution_count": null,
      "outputs": []
    },
    {
      "cell_type": "code",
      "metadata": {},
      "source": [
        "expr.diff(x, x)"
      ],
      "id": "fbf32831",
      "execution_count": null,
      "outputs": []
    },
    {
      "cell_type": "markdown",
      "metadata": {},
      "source": [
        "---"
      ],
      "id": "8eb161c6"
    },
    {
      "cell_type": "code",
      "metadata": {},
      "source": [
        "expr = (x + 1)**3 * y ** 2 * (z - 1)\n",
        "expr"
      ],
      "id": "2f9ff30c",
      "execution_count": null,
      "outputs": []
    },
    {
      "cell_type": "code",
      "metadata": {},
      "source": [
        "expr.diff(x, y, z)"
      ],
      "id": "ab46e8a8",
      "execution_count": null,
      "outputs": []
    },
    {
      "cell_type": "markdown",
      "metadata": {},
      "source": [
        "---"
      ],
      "id": "7bf6ac4f"
    },
    {
      "cell_type": "code",
      "metadata": {},
      "source": [
        "expr = sympy.sin(x * y) * sympy.cos(x / 2)\n",
        "expr"
      ],
      "id": "dde0d80e",
      "execution_count": null,
      "outputs": []
    },
    {
      "cell_type": "code",
      "metadata": {},
      "source": [
        "expr.diff(x)"
      ],
      "id": "e09d97ff",
      "execution_count": null,
      "outputs": []
    },
    {
      "cell_type": "markdown",
      "metadata": {},
      "source": [
        "---"
      ],
      "id": "0e2d2bbd"
    },
    {
      "cell_type": "code",
      "metadata": {},
      "source": [
        "expr = sympy.functions.special.polynomials.hermite(x, 0)\n",
        "expr"
      ],
      "id": "c82adc6e",
      "execution_count": null,
      "outputs": []
    },
    {
      "cell_type": "code",
      "metadata": {},
      "source": [
        "expr.diff(x)"
      ],
      "id": "e3de0771",
      "execution_count": null,
      "outputs": []
    },
    {
      "cell_type": "markdown",
      "metadata": {},
      "source": [
        "---"
      ],
      "id": "618bdd6e"
    },
    {
      "cell_type": "code",
      "metadata": {},
      "source": [
        "d = sympy.Derivative(sympy.exp(sympy.cos(x)), x)\n",
        "d"
      ],
      "id": "4f277fdb",
      "execution_count": null,
      "outputs": []
    },
    {
      "cell_type": "code",
      "metadata": {},
      "source": [
        "d.doit()"
      ],
      "id": "ed9ffb7e",
      "execution_count": null,
      "outputs": []
    },
    {
      "cell_type": "markdown",
      "metadata": {},
      "source": [
        "### Integrals"
      ],
      "id": "da6c0f1a"
    },
    {
      "cell_type": "code",
      "metadata": {},
      "source": [
        "a, b, x, y = sympy.symbols('a, b, x, y')\n",
        "f = sympy.Function('f')(x)\n",
        "sympy.integrate(f)"
      ],
      "id": "0c83d472",
      "execution_count": null,
      "outputs": []
    },
    {
      "cell_type": "code",
      "metadata": {},
      "source": [
        "sympy.integrate(f, (x, a, b))"
      ],
      "id": "5572d24f",
      "execution_count": null,
      "outputs": []
    },
    {
      "cell_type": "markdown",
      "metadata": {},
      "source": [
        "---"
      ],
      "id": "46cadc25"
    },
    {
      "cell_type": "code",
      "metadata": {},
      "source": [
        "sympy.integrate(sympy.sin(x))"
      ],
      "id": "908319b7",
      "execution_count": null,
      "outputs": []
    },
    {
      "cell_type": "code",
      "metadata": {},
      "source": [
        "sympy.integrate(sympy.sin(x), (x, a, b))"
      ],
      "id": "a74cafd6",
      "execution_count": null,
      "outputs": []
    },
    {
      "cell_type": "code",
      "metadata": {},
      "source": [
        "sympy.integrate(sympy.exp(-x**2), (x, 0, oo))"
      ],
      "id": "5d4f0a60",
      "execution_count": null,
      "outputs": []
    },
    {
      "cell_type": "code",
      "metadata": {},
      "source": [
        "a, b, c = sympy.symbols('a, b, c', positive=True)\n",
        "sympy.integrate(a * sympy.exp(-((x -b)/c)**2), (x, -oo, oo))"
      ],
      "id": "38c38f2e",
      "execution_count": null,
      "outputs": []
    },
    {
      "cell_type": "code",
      "metadata": {},
      "source": [
        "sympy.integrate(sympy.sin(x * sympy.cos(x))) # No analytic integration"
      ],
      "id": "e4cfaeca",
      "execution_count": null,
      "outputs": []
    },
    {
      "cell_type": "markdown",
      "metadata": {},
      "source": [
        "---"
      ],
      "id": "8ffbba7f"
    },
    {
      "cell_type": "code",
      "metadata": {},
      "source": [
        "expr = sympy.sin(x*sympy.exp(y))\n",
        "expr"
      ],
      "id": "5dd3289d",
      "execution_count": null,
      "outputs": []
    },
    {
      "cell_type": "code",
      "metadata": {},
      "source": [
        "sympy.integrate(expr, x)"
      ],
      "id": "b571c894",
      "execution_count": null,
      "outputs": []
    },
    {
      "cell_type": "markdown",
      "metadata": {},
      "source": [
        "---"
      ],
      "id": "cd2b8b27"
    },
    {
      "cell_type": "code",
      "metadata": {},
      "source": [
        "expr = (x + y)**2\n",
        "expr"
      ],
      "id": "6b25c3fb",
      "execution_count": null,
      "outputs": []
    },
    {
      "cell_type": "code",
      "metadata": {},
      "source": [
        "sympy.integrate(expr, x)"
      ],
      "id": "b2a5b3c8",
      "execution_count": null,
      "outputs": []
    },
    {
      "cell_type": "code",
      "metadata": {},
      "source": [
        "sympy.integrate(expr, x, y)"
      ],
      "id": "ae9236ee",
      "execution_count": null,
      "outputs": []
    },
    {
      "cell_type": "code",
      "metadata": {},
      "source": [
        "sympy.integrate(expr, (x, 0, 1), (y, 0, 1))"
      ],
      "id": "3bf8a6d9",
      "execution_count": null,
      "outputs": []
    },
    {
      "cell_type": "markdown",
      "metadata": {},
      "source": [
        "### Series"
      ],
      "id": "d6e1269e"
    },
    {
      "cell_type": "code",
      "metadata": {},
      "source": [
        "sympy.limit(sympy.sin(x) / x, x, 0)"
      ],
      "id": "005577be",
      "execution_count": null,
      "outputs": []
    },
    {
      "cell_type": "markdown",
      "metadata": {},
      "source": [
        "---"
      ],
      "id": "8e764963"
    },
    {
      "cell_type": "code",
      "metadata": {},
      "source": [
        "x, h = sympy.symbols('x, h')\n",
        "f = sympy.Function('f')\n",
        "diff_limit = (f(x + h) - f(x)) / h"
      ],
      "id": "eaf58144",
      "execution_count": null,
      "outputs": []
    },
    {
      "cell_type": "code",
      "metadata": {},
      "source": [
        "sympy.limit(diff_limit.subs(f, sympy.cos), h, 0)"
      ],
      "id": "cd021489",
      "execution_count": null,
      "outputs": []
    },
    {
      "cell_type": "code",
      "metadata": {},
      "source": [
        "sympy.limit(diff_limit.subs(f, sympy.sin), h, 0)"
      ],
      "id": "b6e831b4",
      "execution_count": null,
      "outputs": []
    },
    {
      "cell_type": "code",
      "metadata": {},
      "source": [
        "expr = (x**2 - 3*x) / (2*x - 2)\n",
        "expr"
      ],
      "id": "ad431e69",
      "execution_count": null,
      "outputs": []
    },
    {
      "cell_type": "code",
      "metadata": {},
      "source": [
        "p = sympy.limit(expr/x, x, sympy.oo)"
      ],
      "id": "4d3ca477",
      "execution_count": null,
      "outputs": []
    },
    {
      "cell_type": "code",
      "metadata": {},
      "source": [
        "q = sympy.limit(expr - p*x, x, sympy.oo)"
      ],
      "id": "5d0de76f",
      "execution_count": null,
      "outputs": []
    },
    {
      "cell_type": "code",
      "metadata": {},
      "source": [
        "p, q"
      ],
      "id": "f2f7985b",
      "execution_count": null,
      "outputs": []
    },
    {
      "cell_type": "markdown",
      "metadata": {},
      "source": [
        "### Sums and products"
      ],
      "id": "aec638df"
    },
    {
      "cell_type": "code",
      "metadata": {},
      "source": [
        "n = sympy.symbols('n', integer=True)\n",
        "x = sympy.Sum(1/(n**2), (n, 1, oo))\n",
        "x"
      ],
      "id": "e7d18510",
      "execution_count": null,
      "outputs": []
    },
    {
      "cell_type": "code",
      "metadata": {},
      "source": [
        "x.doit()"
      ],
      "id": "38fb01e1",
      "execution_count": null,
      "outputs": []
    },
    {
      "cell_type": "code",
      "metadata": {},
      "source": [
        "x = sympy.Product(n, (n, 1, 7))\n",
        "x"
      ],
      "id": "40f31667",
      "execution_count": null,
      "outputs": []
    },
    {
      "cell_type": "code",
      "metadata": {},
      "source": [
        "x.doit()"
      ],
      "id": "2709ae3f",
      "execution_count": null,
      "outputs": []
    },
    {
      "cell_type": "markdown",
      "metadata": {},
      "source": [
        "---"
      ],
      "id": "58452080"
    },
    {
      "cell_type": "code",
      "metadata": {},
      "source": [
        "x = sympy.Symbol('x')\n",
        "sympy.Sum((x)**n/(sympy.factorial(n)), (n, 1, oo)).doit().simplify()"
      ],
      "id": "ac1c9fae",
      "execution_count": null,
      "outputs": []
    },
    {
      "cell_type": "markdown",
      "metadata": {},
      "source": [
        "## Equations"
      ],
      "id": "0c9fd5af"
    },
    {
      "cell_type": "code",
      "metadata": {},
      "source": [
        "x = sympy.Symbol('x')\n",
        "sympy.solve(x**2 +2*x -3)"
      ],
      "id": "843e6ab6",
      "execution_count": null,
      "outputs": []
    },
    {
      "cell_type": "code",
      "metadata": {},
      "source": [
        "a, b, c = sympy.symbols('a, b, c')\n",
        "sympy.solve(a *x**2 +b *x +c, x)"
      ],
      "id": "809aa496",
      "execution_count": null,
      "outputs": []
    },
    {
      "cell_type": "code",
      "metadata": {},
      "source": [
        "sympy.solve(sympy.sin(x) - sympy.cos(x), x)"
      ],
      "id": "cd7d2a3d",
      "execution_count": null,
      "outputs": []
    },
    {
      "cell_type": "markdown",
      "metadata": {},
      "source": [
        "---"
      ],
      "id": "53bcaf93"
    },
    {
      "cell_type": "code",
      "metadata": {},
      "source": [
        "sympy.solve(sympy.exp(x) + 2 *x, x)"
      ],
      "id": "f32cba5c",
      "execution_count": null,
      "outputs": []
    },
    {
      "cell_type": "markdown",
      "metadata": {},
      "source": [
        "The value of `LambertW` function $W(z)$ is such that $z = W(z)\\exp(W(z))$ for any complex number $z$"
      ],
      "id": "7eb20104"
    },
    {
      "cell_type": "code",
      "metadata": {},
      "source": [
        "-sympy.LambertW(1/2)"
      ],
      "id": "c19c9f88",
      "execution_count": null,
      "outputs": []
    },
    {
      "cell_type": "markdown",
      "metadata": {},
      "source": [
        "---"
      ],
      "id": "a1da8497"
    },
    {
      "cell_type": "code",
      "metadata": {},
      "source": [
        "sols = sympy.solve(x**5 - x**2 + 1, x)\n",
        "for i in range(5):\n",
        "    display(sols[i])"
      ],
      "id": "2abf1065",
      "execution_count": null,
      "outputs": []
    },
    {
      "cell_type": "code",
      "metadata": {},
      "source": [
        "#sympy.solve(sympy.tan(x) + x, x)"
      ],
      "id": "850b82a4",
      "execution_count": null,
      "outputs": []
    },
    {
      "cell_type": "markdown",
      "metadata": {},
      "source": [
        "`NotImplementedError: multiple generators [x, tan(x)]`\n",
        "`No algorithms are implemented to solve equation x + tan(x)`\n",
        "\n",
        "---"
      ],
      "id": "199359b3"
    },
    {
      "cell_type": "code",
      "metadata": {},
      "source": [
        "eq1 = x +2 *y -1 \n",
        "eq2 = x -y +1"
      ],
      "id": "25a89ae1",
      "execution_count": null,
      "outputs": []
    },
    {
      "cell_type": "code",
      "metadata": {},
      "source": [
        "sympy.solve([eq1, eq2], [x, y], dict=True)"
      ],
      "id": "e8e206f1",
      "execution_count": null,
      "outputs": []
    },
    {
      "cell_type": "code",
      "metadata": {},
      "source": [
        "eq1 = x**2 -y\n",
        "eq2 = y**2 -x"
      ],
      "id": "390f1810",
      "execution_count": null,
      "outputs": []
    },
    {
      "cell_type": "code",
      "metadata": {},
      "source": [
        "sols = sympy.solve([eq1, eq2], [x, y], dict=True)\n",
        "for i in range(4):\n",
        "    display(sols[i])"
      ],
      "id": "8b0b2834",
      "execution_count": null,
      "outputs": []
    },
    {
      "cell_type": "code",
      "metadata": {},
      "source": [
        "[eq1.subs(sol).simplify() == 0 and \n",
        " eq2.subs(sol).simplify() == 0 for sol in sols]"
      ],
      "id": "4a841381",
      "execution_count": null,
      "outputs": []
    },
    {
      "cell_type": "markdown",
      "metadata": {},
      "source": [
        "## Linear algebra"
      ],
      "id": "150f2552"
    },
    {
      "cell_type": "code",
      "metadata": {},
      "source": [
        "sympy.Matrix([1, 2])"
      ],
      "id": "51954a09",
      "execution_count": null,
      "outputs": []
    },
    {
      "cell_type": "code",
      "metadata": {},
      "source": [
        "sympy.Matrix([[1, 2]])"
      ],
      "id": "8768bd5c",
      "execution_count": null,
      "outputs": []
    },
    {
      "cell_type": "code",
      "metadata": {},
      "source": [
        "sympy.Matrix([[1, 2], [3, 4]])"
      ],
      "id": "dfb95266",
      "execution_count": null,
      "outputs": []
    },
    {
      "cell_type": "code",
      "metadata": {},
      "source": [
        "sympy.Matrix(3, 4, lambda m, n: 10 * m + n)"
      ],
      "id": "ce9c127c",
      "execution_count": null,
      "outputs": []
    },
    {
      "cell_type": "markdown",
      "metadata": {},
      "source": [
        "---"
      ],
      "id": "9af8b937"
    },
    {
      "cell_type": "code",
      "metadata": {},
      "source": [
        "a, b, c, d = sympy.symbols('a, b, c, d')\n",
        "\n",
        "M = sympy.Matrix([[a, b], [c, d]])\n",
        "M"
      ],
      "id": "7b298359",
      "execution_count": null,
      "outputs": []
    },
    {
      "cell_type": "code",
      "metadata": {},
      "source": [
        "M * M  # Matrix multiplication"
      ],
      "id": "b6efce1d",
      "execution_count": null,
      "outputs": []
    },
    {
      "cell_type": "code",
      "metadata": {},
      "source": [
        "x = sympy.Matrix(sympy.symbols('x_1, x_2'))\n",
        "x"
      ],
      "id": "46bf1f85",
      "execution_count": null,
      "outputs": []
    },
    {
      "cell_type": "code",
      "metadata": {},
      "source": [
        "M * x"
      ],
      "id": "adc8d5a6",
      "execution_count": null,
      "outputs": []
    },
    {
      "cell_type": "markdown",
      "metadata": {},
      "source": [
        "---"
      ],
      "id": "f001b8bd"
    },
    {
      "cell_type": "code",
      "metadata": {},
      "source": [
        "p, q = sympy.symbols('p, q')\n",
        "M = sympy.Matrix([[1, p], [q, 1]])\n",
        "M"
      ],
      "id": "043525e3",
      "execution_count": null,
      "outputs": []
    },
    {
      "cell_type": "code",
      "metadata": {},
      "source": [
        "b = sympy.Matrix(sympy.symbols('b_1, b_2'))\n",
        "b"
      ],
      "id": "a4d3d0b7",
      "execution_count": null,
      "outputs": []
    },
    {
      "cell_type": "code",
      "metadata": {},
      "source": [
        "x = M.LUsolve(b)\n",
        "x"
      ],
      "id": "b3b3cf66",
      "execution_count": null,
      "outputs": []
    },
    {
      "cell_type": "code",
      "metadata": {},
      "source": [
        "x = M.inv() *b\n",
        "x"
      ],
      "id": "034ac391",
      "execution_count": null,
      "outputs": []
    },
    {
      "cell_type": "markdown",
      "metadata": {},
      "source": [
        "## ODE"
      ],
      "id": "bc9402b5"
    },
    {
      "cell_type": "code",
      "metadata": {},
      "source": [
        "x = sympy.Symbol('x')\n",
        "f = sympy.Function('f')"
      ],
      "id": "832c6adf",
      "execution_count": null,
      "outputs": []
    },
    {
      "cell_type": "code",
      "metadata": {},
      "source": [
        "sympy.dsolve(sympy.Derivative(f(x), x, x) +9 *f(x), f(x))"
      ],
      "id": "3439299e",
      "execution_count": null,
      "outputs": []
    },
    {
      "cell_type": "code",
      "metadata": {},
      "source": [
        "eq = (sympy.sin(x) *sympy.cos(f(x)) \n",
        "    + sympy.cos(x) *sympy.sin(f(x)) *f(x).diff(x))\n",
        "eq"
      ],
      "id": "0e3e4dad",
      "execution_count": null,
      "outputs": []
    },
    {
      "cell_type": "code",
      "metadata": {},
      "source": [
        "sympy.dsolve(eq, hint='1st_exact')"
      ],
      "id": "e732f74b",
      "execution_count": null,
      "outputs": []
    },
    {
      "cell_type": "markdown",
      "metadata": {},
      "source": [
        "---"
      ],
      "id": "9218b366"
    },
    {
      "cell_type": "code",
      "metadata": {},
      "source": [
        "t = sympy.Symbol('t')\n",
        "x, y = sympy.Function('x'), sympy.Function('y')\n",
        "\n",
        "eq = (sympy.Eq(sympy.Derivative(x(t),t), 12 *t *x(t) + 8 *y(t)),\n",
        "      sympy.Eq(sympy.Derivative(y(t),t), 21 *x(t) + 7 *t *y(t)))\n",
        "eq"
      ],
      "id": "8ca3473f",
      "execution_count": null,
      "outputs": []
    },
    {
      "cell_type": "code",
      "metadata": {},
      "source": [
        "sols = sympy.dsolve(eq)\n",
        "for i in [0, 1]:\n",
        "    display(sols[i])"
      ],
      "id": "8a820f75",
      "execution_count": null,
      "outputs": []
    },
    {
      "cell_type": "markdown",
      "metadata": {},
      "source": [
        "---"
      ],
      "id": "fcd42d34"
    },
    {
      "cell_type": "code",
      "metadata": {},
      "source": [
        "eq = (sympy.Eq(sympy.Derivative(x(t),t), x(t) *y(t) *sympy.sin(t)), \n",
        "      sympy.Eq(sympy.Derivative(y(t),t), y(t)**2 *sympy.sin(t)))\n",
        "eq"
      ],
      "id": "b626f215",
      "execution_count": null,
      "outputs": []
    },
    {
      "cell_type": "code",
      "metadata": {},
      "source": [
        "sympy.dsolve(eq)"
      ],
      "id": "ded697c3",
      "execution_count": null,
      "outputs": []
    },
    {
      "cell_type": "markdown",
      "metadata": {},
      "source": [
        "## Plot"
      ],
      "id": "07a1d999"
    },
    {
      "cell_type": "code",
      "metadata": {},
      "source": [
        "# | fig-align: center\n",
        "from sympy.plotting import plot\n",
        "\n",
        "x = sympy.symbols('x')\n",
        "p1 = plot(x**2, (x - 1) * x * (x + 1), (x, -1.2, 1.2))"
      ],
      "id": "01a4cd67",
      "execution_count": null,
      "outputs": []
    },
    {
      "cell_type": "code",
      "metadata": {},
      "source": [
        "# | fig-align: center\n",
        "from sympy.plotting import plot_parametric\n",
        "\n",
        "u = sympy.symbols('u')\n",
        "p2 = plot_parametric((sympy.cos(u), sympy.sin(u)), \n",
        "                     (u, sympy.cos(u)), (u, -3, 3))"
      ],
      "id": "73877227",
      "execution_count": null,
      "outputs": []
    },
    {
      "cell_type": "code",
      "metadata": {},
      "source": [
        "# | fig-align: center\n",
        "expr1 = (u, sympy.cos(2 *pi *u)/2 + 1/2)\n",
        "expr2 = (u, sympy.sin(2 *pi *u)/2 + 1/2)\n",
        "\n",
        "p3 = plot_parametric(expr1, expr2, (u, 0, 1), line_color='blue')"
      ],
      "id": "89228270",
      "execution_count": null,
      "outputs": []
    },
    {
      "cell_type": "code",
      "metadata": {},
      "source": [
        "# | fig-align: center\n",
        "p3[0].line_color = 'red'\n",
        "p3.show()"
      ],
      "id": "9c4c55ba",
      "execution_count": null,
      "outputs": []
    },
    {
      "cell_type": "code",
      "metadata": {},
      "source": [
        "# | fig-align: center\n",
        "from sympy.plotting import plot3d\n",
        "\n",
        "x, y = sympy.symbols('x y')\n",
        "p4 = plot3d((x**2 + y**2, (x, -5, 5), (y, -5, 5)),\n",
        "    (x*y, (x, -3, 3), (y, -3, 3)))"
      ],
      "id": "9dcb459d",
      "execution_count": null,
      "outputs": []
    },
    {
      "cell_type": "code",
      "metadata": {},
      "source": [
        "# | fig-align: center\n",
        "from sympy.plotting import plot3d_parametric_line\n",
        "\n",
        "u = sympy.symbols('u')\n",
        "p5 = plot3d_parametric_line(sympy.cos(u), sympy.sin(u), u, (u, -5, 5))"
      ],
      "id": "253ebaf5",
      "execution_count": null,
      "outputs": []
    },
    {
      "cell_type": "code",
      "metadata": {},
      "source": [
        "# | fig-align: center\n",
        "from sympy.plotting import plot3d_parametric_surface\n",
        "\n",
        "u, v = sympy.symbols('u v')\n",
        "p6 = plot3d_parametric_surface(sympy.cos(u + v), \n",
        "    sympy.sin(u - v), u - v, (u, -5, 5), (v, -5, 5))"
      ],
      "id": "cdc34cb4",
      "execution_count": null,
      "outputs": []
    },
    {
      "cell_type": "code",
      "metadata": {},
      "source": [
        "# | fig-align: center\n",
        "from sympy import plot_implicit, Eq, And\n",
        "\n",
        "p7 = plot_implicit(\n",
        "    Eq(x**2 + y**2, 3), (x, -3, 3), (y, -3, 3))"
      ],
      "id": "038de688",
      "execution_count": null,
      "outputs": []
    },
    {
      "cell_type": "code",
      "metadata": {},
      "source": [
        "# | fig-align: center\n",
        "p8 = plot_implicit(And(y > x, y > -x))"
      ],
      "id": "93efa8ed",
      "execution_count": null,
      "outputs": []
    },
    {
      "cell_type": "code",
      "metadata": {},
      "source": [
        "# | fig-align: center\n",
        "from sympy.plotting import PlotGrid\n",
        "\n",
        "p9 = PlotGrid(2, 1, p1, p2)"
      ],
      "id": "b8e3cfc7",
      "execution_count": null,
      "outputs": []
    }
  ],
  "metadata": {
    "kernelspec": {
      "name": "python3",
      "language": "python",
      "display_name": "Python 3 (ipykernel)",
      "path": "/opt/miniconda3/share/jupyter/kernels/python3"
    }
  },
  "nbformat": 4,
  "nbformat_minor": 5
}