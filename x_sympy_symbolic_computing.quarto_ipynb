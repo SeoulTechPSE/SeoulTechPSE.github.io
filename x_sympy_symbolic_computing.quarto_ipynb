{
  "cells": [
    {
      "cell_type": "markdown",
      "metadata": {},
      "source": [
        "---\n",
        "jupyter: python3\n",
        "---\n",
        "\n",
        "# Sympy: Symbolic Computing {#sec-sympy}\n",
        "\n",
        "$~$\n",
        "\n",
        "[![](https://www.sympy.org/static/images/logo.png)](https://docs.sympy.org/latest/index.html)\n",
        "\n",
        "$~$\n",
        "\n",
        "## Importing sympy"
      ],
      "id": "3dc324e2"
    },
    {
      "cell_type": "code",
      "metadata": {},
      "source": [
        "import sympy\n",
        "from sympy import I, pi, oo\n",
        "sympy.init_printing()\n",
        "\n",
        "from IPython.display import display\n",
        "\n",
        "print(\"sympy: \", sympy.__version__)"
      ],
      "id": "0a2fd5b6",
      "execution_count": null,
      "outputs": []
    },
    {
      "cell_type": "markdown",
      "metadata": {},
      "source": [
        "## Symbols"
      ],
      "id": "f4745b21"
    },
    {
      "cell_type": "code",
      "metadata": {},
      "source": [
        "x = sympy.Symbol('x')\n",
        "print(x.is_real)"
      ],
      "id": "0abfbb86",
      "execution_count": null,
      "outputs": []
    },
    {
      "cell_type": "code",
      "metadata": {},
      "source": [
        "y = sympy.Symbol('y', real=True)\n",
        "y.is_real"
      ],
      "id": "ff3ccaf5",
      "execution_count": null,
      "outputs": []
    },
    {
      "cell_type": "code",
      "metadata": {},
      "source": [
        "z = sympy.Symbol('z', complex=True)\n",
        "z.is_complex"
      ],
      "id": "b166ed67",
      "execution_count": null,
      "outputs": []
    },
    {
      "cell_type": "code",
      "metadata": {},
      "source": [
        "print(z.is_real)"
      ],
      "id": "68c5096f",
      "execution_count": null,
      "outputs": []
    },
    {
      "cell_type": "markdown",
      "metadata": {},
      "source": [
        "---"
      ],
      "id": "2fd627aa"
    },
    {
      "cell_type": "code",
      "metadata": {},
      "source": [
        "x = sympy.Symbol('x')\n",
        "y = sympy.Symbol('y', positive=True)\n",
        "z = sympy.Symbol('z', negative=True)"
      ],
      "id": "0eefaec7",
      "execution_count": null,
      "outputs": []
    },
    {
      "cell_type": "code",
      "metadata": {},
      "source": [
        "sympy.sqrt(x**2)"
      ],
      "id": "bae7a97e",
      "execution_count": null,
      "outputs": []
    },
    {
      "cell_type": "code",
      "metadata": {},
      "source": [
        "sympy.sqrt(y**2)"
      ],
      "id": "3debf4b9",
      "execution_count": null,
      "outputs": []
    },
    {
      "cell_type": "code",
      "metadata": {},
      "source": [
        "sympy.sqrt(z**2)"
      ],
      "id": "938cdea1",
      "execution_count": null,
      "outputs": []
    },
    {
      "cell_type": "markdown",
      "metadata": {},
      "source": [
        "---"
      ],
      "id": "c0379d04"
    },
    {
      "cell_type": "code",
      "metadata": {},
      "source": [
        "n1 = sympy.Symbol('n')\n",
        "n2 = sympy.Symbol('n', integer=True)\n",
        "n3 = sympy.Symbol('n', odd=True)\n",
        "n4 = sympy.Symbol('n', even=True)"
      ],
      "id": "733f9b39",
      "execution_count": null,
      "outputs": []
    },
    {
      "cell_type": "code",
      "metadata": {},
      "source": [
        "sympy.cos(n1*pi)"
      ],
      "id": "5c57bc1c",
      "execution_count": null,
      "outputs": []
    },
    {
      "cell_type": "code",
      "metadata": {},
      "source": [
        "sympy.cos(n2*pi)"
      ],
      "id": "c4794905",
      "execution_count": null,
      "outputs": []
    },
    {
      "cell_type": "code",
      "metadata": {},
      "source": [
        "sympy.cos(n3*pi)"
      ],
      "id": "a1c15656",
      "execution_count": null,
      "outputs": []
    },
    {
      "cell_type": "code",
      "metadata": {},
      "source": [
        "sympy.cos(n4*pi)"
      ],
      "id": "7f37cb03",
      "execution_count": null,
      "outputs": []
    },
    {
      "cell_type": "markdown",
      "metadata": {},
      "source": [
        "---"
      ],
      "id": "a209ab1e"
    },
    {
      "cell_type": "code",
      "metadata": {},
      "source": [
        "a, b, c = sympy.symbols('a, b, c', negative=True)"
      ],
      "id": "ac44041b",
      "execution_count": null,
      "outputs": []
    },
    {
      "cell_type": "code",
      "metadata": {},
      "source": [
        "d, e, f = sympy.symbols('d, e, f', positive=True)"
      ],
      "id": "685e7ece",
      "execution_count": null,
      "outputs": []
    },
    {
      "cell_type": "markdown",
      "metadata": {},
      "source": [
        "## Numbers\n",
        "\n",
        "* We cannot directly use the built-in Python objects for integers, `int`, and floating-point numbers, `float`, and so on. Instead, `sympy` provides the classes `sympy.Integer` and `sympy.Float` for representing integers and floating-point numbers within the `sympy` framework\n",
        "\n",
        "* This distinction is important to be aware of when working with `sympy`, but fortunately we rarely\n",
        "need to concern ourselves with creating objects of type `sympy.Integer` and `sympy.Float` to representing\n",
        "specific numbers, $~$since `sympy` automatically promotes Python numbers to instances of these classes when they occur in `sympy` expressions"
      ],
      "id": "da3c78ab"
    },
    {
      "cell_type": "code",
      "metadata": {},
      "source": [
        "i = sympy.Integer(18)\n",
        "type(i)"
      ],
      "id": "44407958",
      "execution_count": null,
      "outputs": []
    },
    {
      "cell_type": "code",
      "metadata": {},
      "source": [
        "i.is_Integer, i.is_real, i.is_odd, i.is_even"
      ],
      "id": "25f316e6",
      "execution_count": null,
      "outputs": []
    },
    {
      "cell_type": "code",
      "metadata": {},
      "source": [
        "f = sympy.Float(2.3)\n",
        "type(f)"
      ],
      "id": "e65d1fed",
      "execution_count": null,
      "outputs": []
    },
    {
      "cell_type": "code",
      "metadata": {},
      "source": [
        "f.is_Float, f.is_real, f.is_complex"
      ],
      "id": "af46d4fa",
      "execution_count": null,
      "outputs": []
    },
    {
      "cell_type": "markdown",
      "metadata": {},
      "source": [
        "---"
      ],
      "id": "eb59e0a7"
    },
    {
      "cell_type": "code",
      "metadata": {},
      "source": [
        "i, f = sympy.sympify(19), sympy.sympify(2.3)\n",
        "type(i), type(f)"
      ],
      "id": "64ebfc0f",
      "execution_count": null,
      "outputs": []
    },
    {
      "cell_type": "markdown",
      "metadata": {},
      "source": [
        "### Integer \n",
        "\n",
        "* While the `Symbol` with `integer=True` represents some integer, $\\,$the `Integer` instance represents a\n",
        "specific integer\n",
        "\n",
        "* For both cases, $\\,$the `is_integer` attribute is `True`, $\\,$but there is also an attribute `is_Integer`\n",
        "(note the capital `I`), $\\,$which is only `True` for `Integer` instances"
      ],
      "id": "da332700"
    },
    {
      "cell_type": "code",
      "metadata": {},
      "source": [
        "n = sympy.Symbol('n', integer=True)\n",
        "n.is_integer, n.is_Integer, n.is_positive, n.is_Symbol"
      ],
      "id": "baaf2ebf",
      "execution_count": null,
      "outputs": []
    },
    {
      "cell_type": "code",
      "metadata": {},
      "source": [
        "i = sympy.Integer(19)\n",
        "i.is_integer, i.is_Integer, i.is_positive, i.is_Symbol"
      ],
      "id": "fdb1ea6c",
      "execution_count": null,
      "outputs": []
    },
    {
      "cell_type": "code",
      "metadata": {},
      "source": [
        "sympy.Integer('19' *20)"
      ],
      "id": "0db81eec",
      "execution_count": null,
      "outputs": []
    },
    {
      "cell_type": "code",
      "metadata": {},
      "source": [
        "sympy.Integer('12_345_678'), sympy.Integer(12_345_678)"
      ],
      "id": "41719fbf",
      "execution_count": null,
      "outputs": []
    },
    {
      "cell_type": "code",
      "metadata": {},
      "source": [
        "# great common division, leat common multiple\n",
        "sympy.igcd(36, 15), sympy.ilcm(7, 34)"
      ],
      "id": "59c0cec7",
      "execution_count": null,
      "outputs": []
    },
    {
      "cell_type": "markdown",
      "metadata": {},
      "source": [
        "* Integers in `sympy` are <font color='red'>**arbitrary precision**</font>, $\\,$meaning that they have <font color='blue'>no fixed lower and upper bounds</font>,\n",
        "$\\,$which is the case when representing integers with a specific bit-size, as, for example, in `numpy`"
      ],
      "id": "49aacd8f"
    },
    {
      "cell_type": "code",
      "metadata": {},
      "source": [
        "i = sympy.Integer(19)\n",
        "i**100"
      ],
      "id": "690a17f0",
      "execution_count": null,
      "outputs": []
    },
    {
      "cell_type": "code",
      "metadata": {},
      "source": [
        "sympy.factorial(100)"
      ],
      "id": "2d9b6533",
      "execution_count": null,
      "outputs": []
    },
    {
      "cell_type": "markdown",
      "metadata": {},
      "source": [
        "### Float\n",
        "\n",
        "* Like `Integer`, $\\,$`Float` is <font color='red'>**arbitrary precision**</font>, $\\,$in contrast to Python’s built-in `float` type and the `float` types in `numpy`. $\\,$This means that any `Float` can represent a `float` with arbitrary number of decimals\n",
        "\n",
        "* When a `Float` instance is created using its constructor, $\\,$there are two arguments: the first argument is **a Python `float` or a string representing a floating-point number**, and the second (optional) argument is the **precision** (number of significant decimal digits) of the `Float` object"
      ],
      "id": "1862ceb1"
    },
    {
      "cell_type": "code",
      "metadata": {},
      "source": [
        "# create a string representation with 25 decimals\n",
        "f'{0.3:.25f}'  "
      ],
      "id": "53ab8012",
      "execution_count": null,
      "outputs": []
    },
    {
      "cell_type": "code",
      "metadata": {},
      "source": [
        "sympy.Float(0.3, 25) "
      ],
      "id": "3220de6c",
      "execution_count": null,
      "outputs": []
    },
    {
      "cell_type": "code",
      "metadata": {},
      "source": [
        "sympy.Float('0.3', 25)"
      ],
      "id": "c7421a40",
      "execution_count": null,
      "outputs": []
    },
    {
      "cell_type": "code",
      "metadata": {},
      "source": [
        "sympy.Float('123 456 789.123_456', '')"
      ],
      "id": "55ae00c3",
      "execution_count": null,
      "outputs": []
    },
    {
      "cell_type": "markdown",
      "metadata": {},
      "source": [
        "### Rational"
      ],
      "id": "e8fcff3a"
    },
    {
      "cell_type": "code",
      "metadata": {},
      "source": [
        "r0 = sympy.Rational(11, 13)\n",
        "r0"
      ],
      "id": "694918c9",
      "execution_count": null,
      "outputs": []
    },
    {
      "cell_type": "code",
      "metadata": {},
      "source": [
        "r0.p, r0.q"
      ],
      "id": "b21cf5cb",
      "execution_count": null,
      "outputs": []
    },
    {
      "cell_type": "code",
      "metadata": {},
      "source": [
        "r1 = sympy.Rational(2, 3)\n",
        "r2 = sympy.Rational(4, 5)"
      ],
      "id": "6207261b",
      "execution_count": null,
      "outputs": []
    },
    {
      "cell_type": "code",
      "metadata": {},
      "source": [
        "r1 * r2"
      ],
      "id": "a170f0e1",
      "execution_count": null,
      "outputs": []
    },
    {
      "cell_type": "code",
      "metadata": {},
      "source": [
        "r1 / r2"
      ],
      "id": "7f1ce827",
      "execution_count": null,
      "outputs": []
    },
    {
      "cell_type": "code",
      "metadata": {},
      "source": [
        "sympy.Rational(0.2), sympy.Rational('0.2')"
      ],
      "id": "88d9decd",
      "execution_count": null,
      "outputs": []
    },
    {
      "cell_type": "markdown",
      "metadata": {},
      "source": [
        "### Constants and special symbols\n",
        "\n",
        "$\\displaystyle \\gamma = \\lim_{n \\to \\infty} \\left( \\sum_{k=1}^n \\frac{1}{k} -\\ln n\\right)$"
      ],
      "id": "4e0da8f1"
    },
    {
      "cell_type": "code",
      "metadata": {},
      "source": [
        "sympy.pi, sympy.E, sympy.EulerGamma, sympy.I, sympy.oo"
      ],
      "id": "2c1b8dd8",
      "execution_count": null,
      "outputs": []
    },
    {
      "cell_type": "markdown",
      "metadata": {},
      "source": [
        "### Functions"
      ],
      "id": "0704f4b9"
    },
    {
      "cell_type": "code",
      "metadata": {},
      "source": [
        "x, y, z = sympy.symbols('x, y, z')"
      ],
      "id": "5c80e9ba",
      "execution_count": null,
      "outputs": []
    },
    {
      "cell_type": "code",
      "metadata": {},
      "source": [
        "f = sympy.Function('f')\n",
        "type(f)"
      ],
      "id": "a0579e7d",
      "execution_count": null,
      "outputs": []
    },
    {
      "cell_type": "code",
      "metadata": {},
      "source": [
        "f(x)"
      ],
      "id": "19ae041a",
      "execution_count": null,
      "outputs": []
    },
    {
      "cell_type": "code",
      "metadata": {},
      "source": [
        "g = sympy.Function('g')(x, y, z)\n",
        "g"
      ],
      "id": "c34bf2c6",
      "execution_count": null,
      "outputs": []
    },
    {
      "cell_type": "code",
      "metadata": {},
      "source": [
        "g.free_symbols"
      ],
      "id": "1ea1ef56",
      "execution_count": null,
      "outputs": []
    },
    {
      "cell_type": "markdown",
      "metadata": {},
      "source": [
        "---"
      ],
      "id": "0f276e0e"
    },
    {
      "cell_type": "code",
      "metadata": {},
      "source": [
        "sympy.sin"
      ],
      "id": "d9be54e1",
      "execution_count": null,
      "outputs": []
    },
    {
      "cell_type": "code",
      "metadata": {},
      "source": [
        "sympy.sin(x)"
      ],
      "id": "9cf0c494",
      "execution_count": null,
      "outputs": []
    },
    {
      "cell_type": "code",
      "metadata": {},
      "source": [
        "sympy.sin(pi *1.5)"
      ],
      "id": "59e0fe32",
      "execution_count": null,
      "outputs": []
    },
    {
      "cell_type": "code",
      "metadata": {},
      "source": [
        "n = sympy.Symbol('n', integer=True)\n",
        "sympy.sin(pi * n)"
      ],
      "id": "78202ca8",
      "execution_count": null,
      "outputs": []
    },
    {
      "cell_type": "code",
      "metadata": {},
      "source": [
        "h = sympy.Lambda(x, x**2)\n",
        "h"
      ],
      "id": "284502b6",
      "execution_count": null,
      "outputs": []
    },
    {
      "cell_type": "code",
      "metadata": {},
      "source": [
        "h(5)"
      ],
      "id": "72a3fed9",
      "execution_count": null,
      "outputs": []
    },
    {
      "cell_type": "code",
      "metadata": {},
      "source": [
        "h(1 + x)"
      ],
      "id": "e064bde6",
      "execution_count": null,
      "outputs": []
    },
    {
      "cell_type": "markdown",
      "metadata": {},
      "source": [
        "## Expressions"
      ],
      "id": "9d154a44"
    },
    {
      "cell_type": "code",
      "metadata": {},
      "source": [
        "x = sympy.Symbol('x')\n",
        "\n",
        "expr = 1 +2*x**2 +3*x**3\n",
        "expr"
      ],
      "id": "e3033110",
      "execution_count": null,
      "outputs": []
    },
    {
      "cell_type": "code",
      "metadata": {},
      "source": [
        "expr.args"
      ],
      "id": "c9f6256c",
      "execution_count": null,
      "outputs": []
    },
    {
      "cell_type": "code",
      "metadata": {},
      "source": [
        "expr.args[2]"
      ],
      "id": "1d3c2719",
      "execution_count": null,
      "outputs": []
    },
    {
      "cell_type": "code",
      "metadata": {},
      "source": [
        "expr.args[2].args"
      ],
      "id": "32570831",
      "execution_count": null,
      "outputs": []
    },
    {
      "cell_type": "code",
      "metadata": {},
      "source": [
        "expr.args[2].args[1]"
      ],
      "id": "94428920",
      "execution_count": null,
      "outputs": []
    },
    {
      "cell_type": "code",
      "metadata": {},
      "source": [
        "expr.args[2].args[1].args"
      ],
      "id": "0bc2451f",
      "execution_count": null,
      "outputs": []
    },
    {
      "cell_type": "code",
      "metadata": {},
      "source": [
        "expr.args[2].args[1].args[1]"
      ],
      "id": "33c097bf",
      "execution_count": null,
      "outputs": []
    },
    {
      "cell_type": "code",
      "metadata": {},
      "source": [
        "expr.args[2].args[1].args[1].args"
      ],
      "id": "2941c8bf",
      "execution_count": null,
      "outputs": []
    },
    {
      "cell_type": "markdown",
      "metadata": {},
      "source": [
        "## Manipulating expressions\n",
        "\n",
        "### Simplication"
      ],
      "id": "ef271f32"
    },
    {
      "cell_type": "code",
      "metadata": {},
      "source": [
        "expr = 2 * (x**2 - x) - x * (x + 1)\n",
        "expr"
      ],
      "id": "ae3a1f78",
      "execution_count": null,
      "outputs": []
    },
    {
      "cell_type": "code",
      "metadata": {},
      "source": [
        "sympy.simplify(expr)"
      ],
      "id": "f13d9078",
      "execution_count": null,
      "outputs": []
    },
    {
      "cell_type": "code",
      "metadata": {},
      "source": [
        "expr.simplify()"
      ],
      "id": "8b8fadd0",
      "execution_count": null,
      "outputs": []
    },
    {
      "cell_type": "code",
      "metadata": {},
      "source": [
        "expr"
      ],
      "id": "7e9aebea",
      "execution_count": null,
      "outputs": []
    },
    {
      "cell_type": "markdown",
      "metadata": {},
      "source": [
        "---"
      ],
      "id": "a772156a"
    },
    {
      "cell_type": "code",
      "metadata": {},
      "source": [
        "expr = 2 * sympy.cos(x) * sympy.sin(x)\n",
        "expr"
      ],
      "id": "8a4bea48",
      "execution_count": null,
      "outputs": []
    },
    {
      "cell_type": "code",
      "metadata": {},
      "source": [
        "sympy.simplify(expr)"
      ],
      "id": "e7fa427c",
      "execution_count": null,
      "outputs": []
    },
    {
      "cell_type": "code",
      "metadata": {},
      "source": [
        "expr = sympy.exp(x) * sympy.exp(y)\n",
        "expr"
      ],
      "id": "2e9a3599",
      "execution_count": null,
      "outputs": []
    },
    {
      "cell_type": "code",
      "metadata": {},
      "source": [
        "sympy.simplify(expr)"
      ],
      "id": "7cf75199",
      "execution_count": null,
      "outputs": []
    },
    {
      "cell_type": "markdown",
      "metadata": {},
      "source": [
        "### Expand"
      ],
      "id": "b72ba52b"
    },
    {
      "cell_type": "code",
      "metadata": {},
      "source": [
        "expr = (x + 1) * (x + 2)\n",
        "expr"
      ],
      "id": "b65b1574",
      "execution_count": null,
      "outputs": []
    },
    {
      "cell_type": "code",
      "metadata": {},
      "source": [
        "expr.expand()"
      ],
      "id": "2038789f",
      "execution_count": null,
      "outputs": []
    },
    {
      "cell_type": "markdown",
      "metadata": {},
      "source": [
        "---"
      ],
      "id": "7e9732a4"
    },
    {
      "cell_type": "code",
      "metadata": {},
      "source": [
        "sympy.sin(x + y).expand(trig=True)"
      ],
      "id": "98b91117",
      "execution_count": null,
      "outputs": []
    },
    {
      "cell_type": "code",
      "metadata": {},
      "source": [
        "a, b = sympy.symbols('a, b', positive=True)\n",
        "sympy.log(a * b).expand(log=True)"
      ],
      "id": "68799c77",
      "execution_count": null,
      "outputs": []
    },
    {
      "cell_type": "code",
      "metadata": {},
      "source": [
        "sympy.exp(I*a + b).expand(complex=True)"
      ],
      "id": "b294afaf",
      "execution_count": null,
      "outputs": []
    },
    {
      "cell_type": "code",
      "metadata": {},
      "source": [
        "sympy.expand((a * b)**x, power_base=True)"
      ],
      "id": "2f9ae8c4",
      "execution_count": null,
      "outputs": []
    },
    {
      "cell_type": "code",
      "metadata": {},
      "source": [
        "sympy.exp(I*(a -b)*x).expand(power_exp=True)"
      ],
      "id": "ddf4dbf0",
      "execution_count": null,
      "outputs": []
    },
    {
      "cell_type": "markdown",
      "metadata": {},
      "source": [
        "### Factor, collect and combine"
      ],
      "id": "a464c02c"
    },
    {
      "cell_type": "code",
      "metadata": {},
      "source": [
        "sympy.factor(x**2 - 1)"
      ],
      "id": "e7e96512",
      "execution_count": null,
      "outputs": []
    },
    {
      "cell_type": "code",
      "metadata": {},
      "source": [
        "sympy.factor(x *sympy.cos(y) + x *sympy.sin(z))"
      ],
      "id": "3f38234b",
      "execution_count": null,
      "outputs": []
    },
    {
      "cell_type": "markdown",
      "metadata": {},
      "source": [
        "---"
      ],
      "id": "2dc4996d"
    },
    {
      "cell_type": "code",
      "metadata": {},
      "source": [
        "expr = x + y + x * y * z\n",
        "expr"
      ],
      "id": "cd8aafa0",
      "execution_count": null,
      "outputs": []
    },
    {
      "cell_type": "code",
      "metadata": {},
      "source": [
        "expr.collect(x)"
      ],
      "id": "6d41a11b",
      "execution_count": null,
      "outputs": []
    },
    {
      "cell_type": "code",
      "metadata": {},
      "source": [
        "expr.collect(y)"
      ],
      "id": "5163a35a",
      "execution_count": null,
      "outputs": []
    },
    {
      "cell_type": "markdown",
      "metadata": {},
      "source": [
        "---"
      ],
      "id": "e97d32f5"
    },
    {
      "cell_type": "code",
      "metadata": {},
      "source": [
        "expr = sympy.cos(x + y) + sympy.sin(x - y)"
      ],
      "id": "38adff4b",
      "execution_count": null,
      "outputs": []
    },
    {
      "cell_type": "code",
      "metadata": {},
      "source": [
        "expr1 = expr.expand(trig=True)\n",
        "expr1"
      ],
      "id": "ae0cb918",
      "execution_count": null,
      "outputs": []
    },
    {
      "cell_type": "code",
      "metadata": {},
      "source": [
        "expr2 = expr1.collect([sympy.cos(x), sympy.sin(x)])\n",
        "expr2"
      ],
      "id": "8e79c0fe",
      "execution_count": null,
      "outputs": []
    },
    {
      "cell_type": "code",
      "metadata": {},
      "source": [
        "expr3 = expr2.collect(sympy.cos(y) - sympy.sin(y))\n",
        "expr3"
      ],
      "id": "fa20c6c1",
      "execution_count": null,
      "outputs": []
    },
    {
      "cell_type": "markdown",
      "metadata": {},
      "source": [
        "---"
      ],
      "id": "ee39db75"
    },
    {
      "cell_type": "code",
      "metadata": {},
      "source": [
        "sympy.logcombine(sympy.log(a) - sympy.log(b))"
      ],
      "id": "40452546",
      "execution_count": null,
      "outputs": []
    },
    {
      "cell_type": "markdown",
      "metadata": {},
      "source": [
        "### Apart, together and cancel"
      ],
      "id": "089f817a"
    },
    {
      "cell_type": "code",
      "metadata": {},
      "source": [
        "expr1 = 1/(x**2 + 3*x + 2)\n",
        "expr1"
      ],
      "id": "76609352",
      "execution_count": null,
      "outputs": []
    },
    {
      "cell_type": "code",
      "metadata": {},
      "source": [
        "sympy.apart(expr1, x)"
      ],
      "id": "686837e9",
      "execution_count": null,
      "outputs": []
    },
    {
      "cell_type": "code",
      "metadata": {},
      "source": [
        "expr2 = 1 / (y * x + y) + 1 / (1+x)\n",
        "expr2"
      ],
      "id": "5254113e",
      "execution_count": null,
      "outputs": []
    },
    {
      "cell_type": "code",
      "metadata": {},
      "source": [
        "sympy.together(expr2)"
      ],
      "id": "8d75f767",
      "execution_count": null,
      "outputs": []
    },
    {
      "cell_type": "code",
      "metadata": {},
      "source": [
        "expr3 = y / (y * x + y)\n",
        "expr3"
      ],
      "id": "0a603eb4",
      "execution_count": null,
      "outputs": []
    },
    {
      "cell_type": "code",
      "metadata": {},
      "source": [
        "sympy.cancel(expr3)"
      ],
      "id": "353c2c62",
      "execution_count": null,
      "outputs": []
    },
    {
      "cell_type": "markdown",
      "metadata": {},
      "source": [
        "### Substitutions"
      ],
      "id": "8830bc93"
    },
    {
      "cell_type": "code",
      "metadata": {},
      "source": [
        "(x + y).subs(x, y)"
      ],
      "id": "ec1dff9b",
      "execution_count": null,
      "outputs": []
    },
    {
      "cell_type": "code",
      "metadata": {},
      "source": [
        "sympy.sin(x * sympy.exp(x)).subs(x, y)"
      ],
      "id": "d21c7f1a",
      "execution_count": null,
      "outputs": []
    },
    {
      "cell_type": "code",
      "metadata": {},
      "source": [
        "sympy.sin(x * z).subs({z: sympy.exp(y), x: y, sympy.sin: sympy.cos})"
      ],
      "id": "2f73c3ed",
      "execution_count": null,
      "outputs": []
    },
    {
      "cell_type": "code",
      "metadata": {},
      "source": [
        "expr = x * y + z**2 *x\n",
        "expr"
      ],
      "id": "b8e86853",
      "execution_count": null,
      "outputs": []
    },
    {
      "cell_type": "code",
      "metadata": {},
      "source": [
        "values = {x: 1.25, y: 0.4, z: 3.2}\n",
        "expr.subs(values)"
      ],
      "id": "567b4442",
      "execution_count": null,
      "outputs": []
    },
    {
      "cell_type": "markdown",
      "metadata": {},
      "source": [
        "### Numerical evaluation"
      ],
      "id": "98b0c4ad"
    },
    {
      "cell_type": "code",
      "metadata": {},
      "source": [
        "sympy.N(1 + pi)"
      ],
      "id": "6a09a180",
      "execution_count": null,
      "outputs": []
    },
    {
      "cell_type": "code",
      "metadata": {},
      "source": [
        "sympy.N(1 + pi, 50)"
      ],
      "id": "87655ba5",
      "execution_count": null,
      "outputs": []
    },
    {
      "cell_type": "markdown",
      "metadata": {},
      "source": [
        "---"
      ],
      "id": "b38ce5ad"
    },
    {
      "cell_type": "code",
      "metadata": {},
      "source": [
        "(x + 1/pi).evalf(10)"
      ],
      "id": "32a1ee30",
      "execution_count": null,
      "outputs": []
    },
    {
      "cell_type": "markdown",
      "metadata": {},
      "source": [
        "---"
      ],
      "id": "b25ab58f"
    },
    {
      "cell_type": "code",
      "metadata": {},
      "source": [
        "expr = sympy.sin(pi * x * sympy.exp(x))\n",
        "expr"
      ],
      "id": "00c62283",
      "execution_count": null,
      "outputs": []
    },
    {
      "cell_type": "code",
      "metadata": {},
      "source": [
        "[expr.subs(x, i).evalf(3) for i in range(0, 10)]  # rather slow"
      ],
      "id": "182d0cd6",
      "execution_count": null,
      "outputs": []
    },
    {
      "cell_type": "markdown",
      "metadata": {},
      "source": [
        "---"
      ],
      "id": "f174cbad"
    },
    {
      "cell_type": "code",
      "metadata": {},
      "source": [
        "expr_func = sympy.lambdify(x, expr)\n",
        "expr_func(1.0)"
      ],
      "id": "c1a5b455",
      "execution_count": null,
      "outputs": []
    },
    {
      "cell_type": "markdown",
      "metadata": {},
      "source": [
        "---"
      ],
      "id": "ff64c494"
    },
    {
      "cell_type": "code",
      "metadata": {},
      "source": [
        "import numpy as np\n",
        "\n",
        "xvalues = np.arange(0, 10)\n",
        "\n",
        "expr_func = sympy.lambdify(x, expr, 'numpy')\n",
        "expr_func(xvalues)  # efficient method"
      ],
      "id": "80f8614c",
      "execution_count": null,
      "outputs": []
    },
    {
      "cell_type": "markdown",
      "metadata": {},
      "source": [
        "## Calculus\n",
        "\n",
        "### Derivatives"
      ],
      "id": "8185727d"
    },
    {
      "cell_type": "code",
      "metadata": {},
      "source": [
        "f = sympy.Function('f')(x)\n",
        "sympy.diff(f, x)  # equivalent to f.diff(x)"
      ],
      "id": "a8feb66c",
      "execution_count": null,
      "outputs": []
    },
    {
      "cell_type": "code",
      "metadata": {},
      "source": [
        "sympy.diff(f, x, x)"
      ],
      "id": "31e1b937",
      "execution_count": null,
      "outputs": []
    },
    {
      "cell_type": "code",
      "metadata": {},
      "source": [
        "sympy.diff(f, x, 3)  # equivalent to sympy.diff(f, x, x, x)"
      ],
      "id": "f4a48cbf",
      "execution_count": null,
      "outputs": []
    },
    {
      "cell_type": "markdown",
      "metadata": {},
      "source": [
        "---"
      ],
      "id": "0a9ecf93"
    },
    {
      "cell_type": "code",
      "metadata": {},
      "source": [
        "g = sympy.Function('g')(x, y)\n",
        "g.diff(x, y) # equivalent to sympy.diff(g, x, y)"
      ],
      "id": "2aa2575d",
      "execution_count": null,
      "outputs": []
    },
    {
      "cell_type": "code",
      "metadata": {},
      "source": [
        "g.diff(x, 3, y, 2) # equivalent to sympy.diff(g, x, x, x, y, y)"
      ],
      "id": "1295a31b",
      "execution_count": null,
      "outputs": []
    },
    {
      "cell_type": "markdown",
      "metadata": {},
      "source": [
        "---"
      ],
      "id": "052658b5"
    },
    {
      "cell_type": "code",
      "metadata": {},
      "source": [
        "expr = x**4 + x**3 + x**2 + x + 1\n",
        "expr"
      ],
      "id": "efed8278",
      "execution_count": null,
      "outputs": []
    },
    {
      "cell_type": "code",
      "metadata": {},
      "source": [
        "expr.diff(x)"
      ],
      "id": "9b92dde5",
      "execution_count": null,
      "outputs": []
    },
    {
      "cell_type": "code",
      "metadata": {},
      "source": [
        "expr.diff(x, x)"
      ],
      "id": "014aa4b8",
      "execution_count": null,
      "outputs": []
    },
    {
      "cell_type": "markdown",
      "metadata": {},
      "source": [
        "---"
      ],
      "id": "88c55ffa"
    },
    {
      "cell_type": "code",
      "metadata": {},
      "source": [
        "expr = (x + 1)**3 * y ** 2 * (z - 1)\n",
        "expr"
      ],
      "id": "2960b958",
      "execution_count": null,
      "outputs": []
    },
    {
      "cell_type": "code",
      "metadata": {},
      "source": [
        "expr.diff(x, y, z)"
      ],
      "id": "8ba2d800",
      "execution_count": null,
      "outputs": []
    },
    {
      "cell_type": "markdown",
      "metadata": {},
      "source": [
        "---"
      ],
      "id": "42297eb3"
    },
    {
      "cell_type": "code",
      "metadata": {},
      "source": [
        "expr = sympy.sin(x * y) * sympy.cos(x / 2)\n",
        "expr"
      ],
      "id": "4da3e0a5",
      "execution_count": null,
      "outputs": []
    },
    {
      "cell_type": "code",
      "metadata": {},
      "source": [
        "expr.diff(x)"
      ],
      "id": "ba2e72da",
      "execution_count": null,
      "outputs": []
    },
    {
      "cell_type": "markdown",
      "metadata": {},
      "source": [
        "---"
      ],
      "id": "3c54f74a"
    },
    {
      "cell_type": "code",
      "metadata": {},
      "source": [
        "expr = sympy.functions.special.polynomials.hermite(x, 0)\n",
        "expr"
      ],
      "id": "d0b2abcd",
      "execution_count": null,
      "outputs": []
    },
    {
      "cell_type": "code",
      "metadata": {},
      "source": [
        "expr.diff(x)"
      ],
      "id": "960d0459",
      "execution_count": null,
      "outputs": []
    },
    {
      "cell_type": "markdown",
      "metadata": {},
      "source": [
        "---"
      ],
      "id": "b66ae171"
    },
    {
      "cell_type": "code",
      "metadata": {},
      "source": [
        "d = sympy.Derivative(sympy.exp(sympy.cos(x)), x)\n",
        "d"
      ],
      "id": "4c68dfa3",
      "execution_count": null,
      "outputs": []
    },
    {
      "cell_type": "code",
      "metadata": {},
      "source": [
        "d.doit()"
      ],
      "id": "af4c22bb",
      "execution_count": null,
      "outputs": []
    },
    {
      "cell_type": "markdown",
      "metadata": {},
      "source": [
        "### Integrals"
      ],
      "id": "15b93a6b"
    },
    {
      "cell_type": "code",
      "metadata": {},
      "source": [
        "a, b, x, y = sympy.symbols('a, b, x, y')\n",
        "f = sympy.Function('f')(x)\n",
        "sympy.integrate(f)"
      ],
      "id": "c03c6755",
      "execution_count": null,
      "outputs": []
    },
    {
      "cell_type": "code",
      "metadata": {},
      "source": [
        "sympy.integrate(f, (x, a, b))"
      ],
      "id": "ab814c44",
      "execution_count": null,
      "outputs": []
    },
    {
      "cell_type": "markdown",
      "metadata": {},
      "source": [
        "---"
      ],
      "id": "9c2e5e95"
    },
    {
      "cell_type": "code",
      "metadata": {},
      "source": [
        "sympy.integrate(sympy.sin(x))"
      ],
      "id": "1739282d",
      "execution_count": null,
      "outputs": []
    },
    {
      "cell_type": "code",
      "metadata": {},
      "source": [
        "sympy.integrate(sympy.sin(x), (x, a, b))"
      ],
      "id": "9d0d6993",
      "execution_count": null,
      "outputs": []
    },
    {
      "cell_type": "code",
      "metadata": {},
      "source": [
        "sympy.integrate(sympy.exp(-x**2), (x, 0, oo))"
      ],
      "id": "b7dc55a2",
      "execution_count": null,
      "outputs": []
    },
    {
      "cell_type": "code",
      "metadata": {},
      "source": [
        "a, b, c = sympy.symbols('a, b, c', positive=True)\n",
        "sympy.integrate(a * sympy.exp(-((x -b)/c)**2), (x, -oo, oo))"
      ],
      "id": "c577c984",
      "execution_count": null,
      "outputs": []
    },
    {
      "cell_type": "code",
      "metadata": {},
      "source": [
        "sympy.integrate(sympy.sin(x * sympy.cos(x))) # No analytic integration"
      ],
      "id": "eed90a3e",
      "execution_count": null,
      "outputs": []
    },
    {
      "cell_type": "markdown",
      "metadata": {},
      "source": [
        "---"
      ],
      "id": "c0bb84dc"
    },
    {
      "cell_type": "code",
      "metadata": {},
      "source": [
        "expr = sympy.sin(x*sympy.exp(y))\n",
        "expr"
      ],
      "id": "9b1cf935",
      "execution_count": null,
      "outputs": []
    },
    {
      "cell_type": "code",
      "metadata": {},
      "source": [
        "sympy.integrate(expr, x)"
      ],
      "id": "a17fac1d",
      "execution_count": null,
      "outputs": []
    },
    {
      "cell_type": "markdown",
      "metadata": {},
      "source": [
        "---"
      ],
      "id": "3f7ee50c"
    },
    {
      "cell_type": "code",
      "metadata": {},
      "source": [
        "expr = (x + y)**2\n",
        "expr"
      ],
      "id": "953bde0a",
      "execution_count": null,
      "outputs": []
    },
    {
      "cell_type": "code",
      "metadata": {},
      "source": [
        "sympy.integrate(expr, x)"
      ],
      "id": "f34e0d97",
      "execution_count": null,
      "outputs": []
    },
    {
      "cell_type": "code",
      "metadata": {},
      "source": [
        "sympy.integrate(expr, x, y)"
      ],
      "id": "4a1f9390",
      "execution_count": null,
      "outputs": []
    },
    {
      "cell_type": "code",
      "metadata": {},
      "source": [
        "sympy.integrate(expr, (x, 0, 1), (y, 0, 1))"
      ],
      "id": "f674f8da",
      "execution_count": null,
      "outputs": []
    },
    {
      "cell_type": "markdown",
      "metadata": {},
      "source": [
        "### Series"
      ],
      "id": "bfabad77"
    },
    {
      "cell_type": "code",
      "metadata": {},
      "source": [
        "sympy.limit(sympy.sin(x) / x, x, 0)"
      ],
      "id": "83aca6ce",
      "execution_count": null,
      "outputs": []
    },
    {
      "cell_type": "markdown",
      "metadata": {},
      "source": [
        "---"
      ],
      "id": "69a5ba23"
    },
    {
      "cell_type": "code",
      "metadata": {},
      "source": [
        "x, h = sympy.symbols('x, h')\n",
        "f = sympy.Function('f')\n",
        "diff_limit = (f(x + h) - f(x)) / h"
      ],
      "id": "f1320045",
      "execution_count": null,
      "outputs": []
    },
    {
      "cell_type": "code",
      "metadata": {},
      "source": [
        "sympy.limit(diff_limit.subs(f, sympy.cos), h, 0)"
      ],
      "id": "f0bb697e",
      "execution_count": null,
      "outputs": []
    },
    {
      "cell_type": "code",
      "metadata": {},
      "source": [
        "sympy.limit(diff_limit.subs(f, sympy.sin), h, 0)"
      ],
      "id": "fb0e71fc",
      "execution_count": null,
      "outputs": []
    },
    {
      "cell_type": "code",
      "metadata": {},
      "source": [
        "expr = (x**2 - 3*x) / (2*x - 2)\n",
        "expr"
      ],
      "id": "6600ee4a",
      "execution_count": null,
      "outputs": []
    },
    {
      "cell_type": "code",
      "metadata": {},
      "source": [
        "p = sympy.limit(expr/x, x, sympy.oo)"
      ],
      "id": "342af62b",
      "execution_count": null,
      "outputs": []
    },
    {
      "cell_type": "code",
      "metadata": {},
      "source": [
        "q = sympy.limit(expr - p*x, x, sympy.oo)"
      ],
      "id": "8b4e4b74",
      "execution_count": null,
      "outputs": []
    },
    {
      "cell_type": "code",
      "metadata": {},
      "source": [
        "p, q"
      ],
      "id": "685885b2",
      "execution_count": null,
      "outputs": []
    },
    {
      "cell_type": "markdown",
      "metadata": {},
      "source": [
        "### Sums and products"
      ],
      "id": "4e6ef7fa"
    },
    {
      "cell_type": "code",
      "metadata": {},
      "source": [
        "n = sympy.symbols('n', integer=True)\n",
        "x = sympy.Sum(1/(n**2), (n, 1, oo))\n",
        "x"
      ],
      "id": "ee3a7e2c",
      "execution_count": null,
      "outputs": []
    },
    {
      "cell_type": "code",
      "metadata": {},
      "source": [
        "x.doit()"
      ],
      "id": "49b01d2f",
      "execution_count": null,
      "outputs": []
    },
    {
      "cell_type": "code",
      "metadata": {},
      "source": [
        "x = sympy.Product(n, (n, 1, 7))\n",
        "x"
      ],
      "id": "50d193b3",
      "execution_count": null,
      "outputs": []
    },
    {
      "cell_type": "code",
      "metadata": {},
      "source": [
        "x.doit()"
      ],
      "id": "82978ce1",
      "execution_count": null,
      "outputs": []
    },
    {
      "cell_type": "markdown",
      "metadata": {},
      "source": [
        "---"
      ],
      "id": "2f4da8dd"
    },
    {
      "cell_type": "code",
      "metadata": {},
      "source": [
        "x = sympy.Symbol('x')\n",
        "sympy.Sum((x)**n/(sympy.factorial(n)), (n, 1, oo)).doit().simplify()"
      ],
      "id": "36a1fb5f",
      "execution_count": null,
      "outputs": []
    },
    {
      "cell_type": "markdown",
      "metadata": {},
      "source": [
        "## Equations"
      ],
      "id": "2ad0cc71"
    },
    {
      "cell_type": "code",
      "metadata": {},
      "source": [
        "x = sympy.Symbol('x')\n",
        "sympy.solve(x**2 +2*x -3)"
      ],
      "id": "05b4f3d2",
      "execution_count": null,
      "outputs": []
    },
    {
      "cell_type": "code",
      "metadata": {},
      "source": [
        "a, b, c = sympy.symbols('a, b, c')\n",
        "sympy.solve(a *x**2 +b *x +c, x)"
      ],
      "id": "5b590b44",
      "execution_count": null,
      "outputs": []
    },
    {
      "cell_type": "code",
      "metadata": {},
      "source": [
        "sympy.solve(sympy.sin(x) - sympy.cos(x), x)"
      ],
      "id": "9f9ff20c",
      "execution_count": null,
      "outputs": []
    },
    {
      "cell_type": "markdown",
      "metadata": {},
      "source": [
        "---"
      ],
      "id": "d64873fd"
    },
    {
      "cell_type": "code",
      "metadata": {},
      "source": [
        "sympy.solve(sympy.exp(x) + 2 *x, x)"
      ],
      "id": "31f6468e",
      "execution_count": null,
      "outputs": []
    },
    {
      "cell_type": "markdown",
      "metadata": {},
      "source": [
        "The value of `LambertW` function $W(z)$ is such that $z = W(z)\\exp(W(z))$ for any complex number $z$"
      ],
      "id": "802b8d65"
    },
    {
      "cell_type": "code",
      "metadata": {},
      "source": [
        "-sympy.LambertW(1/2)"
      ],
      "id": "fdd6ec8d",
      "execution_count": null,
      "outputs": []
    },
    {
      "cell_type": "markdown",
      "metadata": {},
      "source": [
        "---"
      ],
      "id": "07da325d"
    },
    {
      "cell_type": "code",
      "metadata": {},
      "source": [
        "sols = sympy.solve(x**5 - x**2 + 1, x)\n",
        "for i in range(5):\n",
        "    display(sols[i])"
      ],
      "id": "da83ada0",
      "execution_count": null,
      "outputs": []
    },
    {
      "cell_type": "code",
      "metadata": {},
      "source": [
        "#sympy.solve(sympy.tan(x) + x, x)"
      ],
      "id": "5bef3fb2",
      "execution_count": null,
      "outputs": []
    },
    {
      "cell_type": "markdown",
      "metadata": {},
      "source": [
        "`NotImplementedError: multiple generators [x, tan(x)]`\n",
        "`No algorithms are implemented to solve equation x + tan(x)`\n",
        "\n",
        "---"
      ],
      "id": "84e1de13"
    },
    {
      "cell_type": "code",
      "metadata": {},
      "source": [
        "eq1 = x +2 *y -1 \n",
        "eq2 = x -y +1"
      ],
      "id": "4f2a678d",
      "execution_count": null,
      "outputs": []
    },
    {
      "cell_type": "code",
      "metadata": {},
      "source": [
        "sympy.solve([eq1, eq2], [x, y], dict=True)"
      ],
      "id": "4ee90d47",
      "execution_count": null,
      "outputs": []
    },
    {
      "cell_type": "code",
      "metadata": {},
      "source": [
        "eq1 = x**2 -y\n",
        "eq2 = y**2 -x"
      ],
      "id": "b2a4270f",
      "execution_count": null,
      "outputs": []
    },
    {
      "cell_type": "code",
      "metadata": {},
      "source": [
        "sols = sympy.solve([eq1, eq2], [x, y], dict=True)\n",
        "for i in range(4):\n",
        "    display(sols[i])"
      ],
      "id": "d76b9c2b",
      "execution_count": null,
      "outputs": []
    },
    {
      "cell_type": "code",
      "metadata": {},
      "source": [
        "[eq1.subs(sol).simplify() == 0 and \n",
        " eq2.subs(sol).simplify() == 0 for sol in sols]"
      ],
      "id": "21540bfa",
      "execution_count": null,
      "outputs": []
    },
    {
      "cell_type": "markdown",
      "metadata": {},
      "source": [
        "## Linear algebra"
      ],
      "id": "279a2dfd"
    },
    {
      "cell_type": "code",
      "metadata": {},
      "source": [
        "sympy.Matrix([1, 2])"
      ],
      "id": "74d99260",
      "execution_count": null,
      "outputs": []
    },
    {
      "cell_type": "code",
      "metadata": {},
      "source": [
        "sympy.Matrix([[1, 2]])"
      ],
      "id": "af207af4",
      "execution_count": null,
      "outputs": []
    },
    {
      "cell_type": "code",
      "metadata": {},
      "source": [
        "sympy.Matrix([[1, 2], [3, 4]])"
      ],
      "id": "cd61f30d",
      "execution_count": null,
      "outputs": []
    },
    {
      "cell_type": "code",
      "metadata": {},
      "source": [
        "sympy.Matrix(3, 4, lambda m, n: 10 * m + n)"
      ],
      "id": "91692648",
      "execution_count": null,
      "outputs": []
    },
    {
      "cell_type": "markdown",
      "metadata": {},
      "source": [
        "---"
      ],
      "id": "aaa4c50e"
    },
    {
      "cell_type": "code",
      "metadata": {},
      "source": [
        "a, b, c, d = sympy.symbols('a, b, c, d')\n",
        "\n",
        "M = sympy.Matrix([[a, b], [c, d]])\n",
        "M"
      ],
      "id": "105f8af1",
      "execution_count": null,
      "outputs": []
    },
    {
      "cell_type": "code",
      "metadata": {},
      "source": [
        "M * M  # Matrix multiplication"
      ],
      "id": "f8262b13",
      "execution_count": null,
      "outputs": []
    },
    {
      "cell_type": "code",
      "metadata": {},
      "source": [
        "x = sympy.Matrix(sympy.symbols('x_1, x_2'))\n",
        "x"
      ],
      "id": "0f7549b7",
      "execution_count": null,
      "outputs": []
    },
    {
      "cell_type": "code",
      "metadata": {},
      "source": [
        "M * x"
      ],
      "id": "ef49876e",
      "execution_count": null,
      "outputs": []
    },
    {
      "cell_type": "markdown",
      "metadata": {},
      "source": [
        "---"
      ],
      "id": "7a297c11"
    },
    {
      "cell_type": "code",
      "metadata": {},
      "source": [
        "p, q = sympy.symbols('p, q')\n",
        "M = sympy.Matrix([[1, p], [q, 1]])\n",
        "M"
      ],
      "id": "dd8e6256",
      "execution_count": null,
      "outputs": []
    },
    {
      "cell_type": "code",
      "metadata": {},
      "source": [
        "b = sympy.Matrix(sympy.symbols('b_1, b_2'))\n",
        "b"
      ],
      "id": "675b2192",
      "execution_count": null,
      "outputs": []
    },
    {
      "cell_type": "code",
      "metadata": {},
      "source": [
        "x = M.LUsolve(b)\n",
        "x"
      ],
      "id": "abbeb571",
      "execution_count": null,
      "outputs": []
    },
    {
      "cell_type": "code",
      "metadata": {},
      "source": [
        "x = M.inv() *b\n",
        "x"
      ],
      "id": "35b20a25",
      "execution_count": null,
      "outputs": []
    },
    {
      "cell_type": "markdown",
      "metadata": {},
      "source": [
        "## ODE"
      ],
      "id": "bd3e9acc"
    },
    {
      "cell_type": "code",
      "metadata": {},
      "source": [
        "x = sympy.Symbol('x')\n",
        "f = sympy.Function('f')"
      ],
      "id": "88f3486d",
      "execution_count": null,
      "outputs": []
    },
    {
      "cell_type": "code",
      "metadata": {},
      "source": [
        "sympy.dsolve(sympy.Derivative(f(x), x, x) +9 *f(x), f(x))"
      ],
      "id": "e80b58a7",
      "execution_count": null,
      "outputs": []
    },
    {
      "cell_type": "code",
      "metadata": {},
      "source": [
        "eq = (sympy.sin(x) *sympy.cos(f(x)) \n",
        "    + sympy.cos(x) *sympy.sin(f(x)) *f(x).diff(x))\n",
        "eq"
      ],
      "id": "2175e71f",
      "execution_count": null,
      "outputs": []
    },
    {
      "cell_type": "code",
      "metadata": {},
      "source": [
        "sympy.dsolve(eq, hint='1st_exact')"
      ],
      "id": "4fba8bc1",
      "execution_count": null,
      "outputs": []
    },
    {
      "cell_type": "markdown",
      "metadata": {},
      "source": [
        "---"
      ],
      "id": "52f62628"
    },
    {
      "cell_type": "code",
      "metadata": {},
      "source": [
        "t = sympy.Symbol('t')\n",
        "x, y = sympy.Function('x'), sympy.Function('y')\n",
        "\n",
        "eq = (sympy.Eq(sympy.Derivative(x(t),t), 12 *t *x(t) + 8 *y(t)),\n",
        "      sympy.Eq(sympy.Derivative(y(t),t), 21 *x(t) + 7 *t *y(t)))\n",
        "eq"
      ],
      "id": "da31094f",
      "execution_count": null,
      "outputs": []
    },
    {
      "cell_type": "code",
      "metadata": {},
      "source": [
        "sols = sympy.dsolve(eq)\n",
        "for i in [0, 1]:\n",
        "    display(sols[i])"
      ],
      "id": "f1e73ad6",
      "execution_count": null,
      "outputs": []
    },
    {
      "cell_type": "markdown",
      "metadata": {},
      "source": [
        "---"
      ],
      "id": "b0687ac6"
    },
    {
      "cell_type": "code",
      "metadata": {},
      "source": [
        "eq = (sympy.Eq(sympy.Derivative(x(t),t), x(t) *y(t) *sympy.sin(t)), \n",
        "      sympy.Eq(sympy.Derivative(y(t),t), y(t)**2 *sympy.sin(t)))\n",
        "eq"
      ],
      "id": "74ca4acc",
      "execution_count": null,
      "outputs": []
    },
    {
      "cell_type": "code",
      "metadata": {},
      "source": [
        "sympy.dsolve(eq)"
      ],
      "id": "5e6bd76d",
      "execution_count": null,
      "outputs": []
    },
    {
      "cell_type": "markdown",
      "metadata": {},
      "source": [
        "## Plot"
      ],
      "id": "f9486a34"
    },
    {
      "cell_type": "code",
      "metadata": {},
      "source": [
        "# | fig-align: center\n",
        "from sympy.plotting import plot\n",
        "\n",
        "x = sympy.symbols('x')\n",
        "p1 = plot(x**2, (x - 1) * x * (x + 1), (x, -1.2, 1.2))"
      ],
      "id": "004f8c50",
      "execution_count": null,
      "outputs": []
    },
    {
      "cell_type": "code",
      "metadata": {},
      "source": [
        "# | fig-align: center\n",
        "from sympy.plotting import plot_parametric\n",
        "\n",
        "u = sympy.symbols('u')\n",
        "p2 = plot_parametric((sympy.cos(u), sympy.sin(u)), \n",
        "                     (u, sympy.cos(u)), (u, -3, 3))"
      ],
      "id": "c04241c0",
      "execution_count": null,
      "outputs": []
    },
    {
      "cell_type": "code",
      "metadata": {},
      "source": [
        "# | fig-align: center\n",
        "expr1 = (u, sympy.cos(2 *pi *u)/2 + 1/2)\n",
        "expr2 = (u, sympy.sin(2 *pi *u)/2 + 1/2)\n",
        "\n",
        "p3 = plot_parametric(expr1, expr2, (u, 0, 1), line_color='blue')"
      ],
      "id": "24869f02",
      "execution_count": null,
      "outputs": []
    },
    {
      "cell_type": "code",
      "metadata": {},
      "source": [
        "# | fig-align: center\n",
        "p3[0].line_color = 'red'\n",
        "p3.show()"
      ],
      "id": "f216d2f5",
      "execution_count": null,
      "outputs": []
    },
    {
      "cell_type": "code",
      "metadata": {},
      "source": [
        "# | fig-align: center\n",
        "from sympy.plotting import plot3d\n",
        "\n",
        "x, y = sympy.symbols('x y')\n",
        "p4 = plot3d((x**2 + y**2, (x, -5, 5), (y, -5, 5)),\n",
        "    (x*y, (x, -3, 3), (y, -3, 3)))"
      ],
      "id": "00c7f437",
      "execution_count": null,
      "outputs": []
    },
    {
      "cell_type": "code",
      "metadata": {},
      "source": [
        "# | fig-align: center\n",
        "from sympy.plotting import plot3d_parametric_line\n",
        "\n",
        "u = sympy.symbols('u')\n",
        "p5 = plot3d_parametric_line(sympy.cos(u), sympy.sin(u), u, (u, -5, 5))"
      ],
      "id": "9eac0af8",
      "execution_count": null,
      "outputs": []
    },
    {
      "cell_type": "code",
      "metadata": {},
      "source": [
        "# | fig-align: center\n",
        "from sympy.plotting import plot3d_parametric_surface\n",
        "\n",
        "u, v = sympy.symbols('u v')\n",
        "p6 = plot3d_parametric_surface(sympy.cos(u + v), \n",
        "    sympy.sin(u - v), u - v, (u, -5, 5), (v, -5, 5))"
      ],
      "id": "da2c995c",
      "execution_count": null,
      "outputs": []
    },
    {
      "cell_type": "code",
      "metadata": {},
      "source": [
        "# | fig-align: center\n",
        "from sympy import plot_implicit, Eq, And\n",
        "\n",
        "p7 = plot_implicit(\n",
        "    Eq(x**2 + y**2, 3), (x, -3, 3), (y, -3, 3))"
      ],
      "id": "56a76084",
      "execution_count": null,
      "outputs": []
    },
    {
      "cell_type": "code",
      "metadata": {},
      "source": [
        "# | fig-align: center\n",
        "p8 = plot_implicit(And(y > x, y > -x))"
      ],
      "id": "bf8fb168",
      "execution_count": null,
      "outputs": []
    },
    {
      "cell_type": "code",
      "metadata": {},
      "source": [
        "# | fig-align: center\n",
        "from sympy.plotting import PlotGrid\n",
        "\n",
        "p9 = PlotGrid(2, 1, p1, p2)"
      ],
      "id": "3f0242a1",
      "execution_count": null,
      "outputs": []
    }
  ],
  "metadata": {
    "kernelspec": {
      "name": "python3",
      "language": "python",
      "display_name": "Python 3 (ipykernel)",
      "path": "/opt/miniconda3/share/jupyter/kernels/python3"
    }
  },
  "nbformat": 4,
  "nbformat_minor": 5
}