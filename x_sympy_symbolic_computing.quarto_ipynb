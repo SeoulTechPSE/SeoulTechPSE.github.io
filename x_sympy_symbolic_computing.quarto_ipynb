{
  "cells": [
    {
      "cell_type": "markdown",
      "metadata": {},
      "source": [
        "---\n",
        "jupyter: python3\n",
        "---\n",
        "\n",
        "# Sympy: Symbolic Computing {#sec-sympy}\n",
        "\n",
        "$~$\n",
        "\n",
        "[![](https://www.sympy.org/static/images/logo.png)](https://docs.sympy.org/latest/index.html)\n",
        "\n",
        "$~$\n",
        "\n",
        "## Importing sympy"
      ],
      "id": "5d815bb1"
    },
    {
      "cell_type": "code",
      "metadata": {},
      "source": [
        "import sympy\n",
        "from sympy import I, pi, oo\n",
        "sympy.init_printing()\n",
        "\n",
        "from IPython.display import display\n",
        "\n",
        "print(\"sympy: \", sympy.__version__)"
      ],
      "id": "64029e95",
      "execution_count": null,
      "outputs": []
    },
    {
      "cell_type": "markdown",
      "metadata": {},
      "source": [
        "## Symbols"
      ],
      "id": "cf7b435f"
    },
    {
      "cell_type": "code",
      "metadata": {},
      "source": [
        "x = sympy.Symbol('x')\n",
        "print(x.is_real)"
      ],
      "id": "6b87d642",
      "execution_count": null,
      "outputs": []
    },
    {
      "cell_type": "code",
      "metadata": {},
      "source": [
        "y = sympy.Symbol('y', real=True)\n",
        "y.is_real"
      ],
      "id": "d486d8d4",
      "execution_count": null,
      "outputs": []
    },
    {
      "cell_type": "code",
      "metadata": {},
      "source": [
        "z = sympy.Symbol('z', complex=True)\n",
        "z.is_complex"
      ],
      "id": "3b10a516",
      "execution_count": null,
      "outputs": []
    },
    {
      "cell_type": "code",
      "metadata": {},
      "source": [
        "print(z.is_real)"
      ],
      "id": "3aabbd70",
      "execution_count": null,
      "outputs": []
    },
    {
      "cell_type": "markdown",
      "metadata": {},
      "source": [
        "---"
      ],
      "id": "a7641188"
    },
    {
      "cell_type": "code",
      "metadata": {},
      "source": [
        "x = sympy.Symbol('x')\n",
        "y = sympy.Symbol('y', positive=True)\n",
        "z = sympy.Symbol('z', negative=True)"
      ],
      "id": "f68712db",
      "execution_count": null,
      "outputs": []
    },
    {
      "cell_type": "code",
      "metadata": {},
      "source": [
        "sympy.sqrt(x**2)"
      ],
      "id": "99e5b3c5",
      "execution_count": null,
      "outputs": []
    },
    {
      "cell_type": "code",
      "metadata": {},
      "source": [
        "sympy.sqrt(y**2)"
      ],
      "id": "3e526dc8",
      "execution_count": null,
      "outputs": []
    },
    {
      "cell_type": "code",
      "metadata": {},
      "source": [
        "sympy.sqrt(z**2)"
      ],
      "id": "256625ff",
      "execution_count": null,
      "outputs": []
    },
    {
      "cell_type": "markdown",
      "metadata": {},
      "source": [
        "---"
      ],
      "id": "cb4c9baf"
    },
    {
      "cell_type": "code",
      "metadata": {},
      "source": [
        "n1 = sympy.Symbol('n')\n",
        "n2 = sympy.Symbol('n', integer=True)\n",
        "n3 = sympy.Symbol('n', odd=True)\n",
        "n4 = sympy.Symbol('n', even=True)"
      ],
      "id": "e448367c",
      "execution_count": null,
      "outputs": []
    },
    {
      "cell_type": "code",
      "metadata": {},
      "source": [
        "sympy.cos(n1*pi)"
      ],
      "id": "c84973f9",
      "execution_count": null,
      "outputs": []
    },
    {
      "cell_type": "code",
      "metadata": {},
      "source": [
        "sympy.cos(n2*pi)"
      ],
      "id": "0cde59a9",
      "execution_count": null,
      "outputs": []
    },
    {
      "cell_type": "code",
      "metadata": {},
      "source": [
        "sympy.cos(n3*pi)"
      ],
      "id": "112a7762",
      "execution_count": null,
      "outputs": []
    },
    {
      "cell_type": "code",
      "metadata": {},
      "source": [
        "sympy.cos(n4*pi)"
      ],
      "id": "f6fbc837",
      "execution_count": null,
      "outputs": []
    },
    {
      "cell_type": "markdown",
      "metadata": {},
      "source": [
        "---"
      ],
      "id": "1f4724d0"
    },
    {
      "cell_type": "code",
      "metadata": {},
      "source": [
        "a, b, c = sympy.symbols('a, b, c', negative=True)"
      ],
      "id": "5807803f",
      "execution_count": null,
      "outputs": []
    },
    {
      "cell_type": "code",
      "metadata": {},
      "source": [
        "d, e, f = sympy.symbols('d, e, f', positive=True)"
      ],
      "id": "174bdd72",
      "execution_count": null,
      "outputs": []
    },
    {
      "cell_type": "markdown",
      "metadata": {},
      "source": [
        "## Numbers\n",
        "\n",
        "* We cannot directly use the built-in Python objects for integers, `int`, and floating-point numbers, `float`, and so on. Instead, `sympy` provides the classes `sympy.Integer` and `sympy.Float` for representing integers and floating-point numbers within the `sympy` framework\n",
        "\n",
        "* This distinction is important to be aware of when working with `sympy`, but fortunately we rarely\n",
        "need to concern ourselves with creating objects of type `sympy.Integer` and `sympy.Float` to representing\n",
        "specific numbers, $~$since `sympy` automatically promotes Python numbers to instances of these classes when they occur in `sympy` expressions"
      ],
      "id": "94971fbb"
    },
    {
      "cell_type": "code",
      "metadata": {},
      "source": [
        "i = sympy.Integer(18)\n",
        "type(i)"
      ],
      "id": "84d47ec8",
      "execution_count": null,
      "outputs": []
    },
    {
      "cell_type": "code",
      "metadata": {},
      "source": [
        "i.is_Integer, i.is_real, i.is_odd, i.is_even"
      ],
      "id": "0552e4c1",
      "execution_count": null,
      "outputs": []
    },
    {
      "cell_type": "code",
      "metadata": {},
      "source": [
        "f = sympy.Float(2.3)\n",
        "type(f)"
      ],
      "id": "f19a1b6f",
      "execution_count": null,
      "outputs": []
    },
    {
      "cell_type": "code",
      "metadata": {},
      "source": [
        "f.is_Float, f.is_real, f.is_complex"
      ],
      "id": "752413a3",
      "execution_count": null,
      "outputs": []
    },
    {
      "cell_type": "markdown",
      "metadata": {},
      "source": [
        "---"
      ],
      "id": "c8346792"
    },
    {
      "cell_type": "code",
      "metadata": {},
      "source": [
        "i, f = sympy.sympify(19), sympy.sympify(2.3)\n",
        "type(i), type(f)"
      ],
      "id": "58898aa3",
      "execution_count": null,
      "outputs": []
    },
    {
      "cell_type": "markdown",
      "metadata": {},
      "source": [
        "### Integer \n",
        "\n",
        "* While the `Symbol` with `integer=True` represents some integer, $\\,$the `Integer` instance represents a\n",
        "specific integer\n",
        "\n",
        "* For both cases, $\\,$the `is_integer` attribute is `True`, $\\,$but there is also an attribute `is_Integer`\n",
        "(note the capital `I`), $\\,$which is only `True` for `Integer` instances"
      ],
      "id": "ec9acf49"
    },
    {
      "cell_type": "code",
      "metadata": {},
      "source": [
        "n = sympy.Symbol('n', integer=True)\n",
        "n.is_integer, n.is_Integer, n.is_positive, n.is_Symbol"
      ],
      "id": "27ce8ecb",
      "execution_count": null,
      "outputs": []
    },
    {
      "cell_type": "code",
      "metadata": {},
      "source": [
        "i = sympy.Integer(19)\n",
        "i.is_integer, i.is_Integer, i.is_positive, i.is_Symbol"
      ],
      "id": "e739ce51",
      "execution_count": null,
      "outputs": []
    },
    {
      "cell_type": "code",
      "metadata": {},
      "source": [
        "sympy.Integer('19' *20)"
      ],
      "id": "b61215f1",
      "execution_count": null,
      "outputs": []
    },
    {
      "cell_type": "code",
      "metadata": {},
      "source": [
        "sympy.Integer('12_345_678'), sympy.Integer(12_345_678)"
      ],
      "id": "03cb1e2c",
      "execution_count": null,
      "outputs": []
    },
    {
      "cell_type": "code",
      "metadata": {},
      "source": [
        "# great common division, leat common multiple\n",
        "sympy.igcd(36, 15), sympy.ilcm(7, 34)"
      ],
      "id": "37348a65",
      "execution_count": null,
      "outputs": []
    },
    {
      "cell_type": "markdown",
      "metadata": {},
      "source": [
        "* Integers in `sympy` are <font color='red'>**arbitrary precision**</font>, $\\,$meaning that they have <font color='blue'>no fixed lower and upper bounds</font>,\n",
        "$\\,$which is the case when representing integers with a specific bit-size, as, for example, in `numpy`"
      ],
      "id": "40446953"
    },
    {
      "cell_type": "code",
      "metadata": {},
      "source": [
        "i = sympy.Integer(19)\n",
        "i**100"
      ],
      "id": "d41ea087",
      "execution_count": null,
      "outputs": []
    },
    {
      "cell_type": "code",
      "metadata": {},
      "source": [
        "sympy.factorial(100)"
      ],
      "id": "5e3db755",
      "execution_count": null,
      "outputs": []
    },
    {
      "cell_type": "markdown",
      "metadata": {},
      "source": [
        "### Float\n",
        "\n",
        "* Like `Integer`, $\\,$`Float` is <font color='red'>**arbitrary precision**</font>, $\\,$in contrast to Python’s built-in `float` type and the `float` types in `numpy`. $\\,$This means that any `Float` can represent a `float` with arbitrary number of decimals\n",
        "\n",
        "* When a `Float` instance is created using its constructor, $\\,$there are two arguments: the first argument is **a Python `float` or a string representing a floating-point number**, and the second (optional) argument is the **precision** (number of significant decimal digits) of the `Float` object"
      ],
      "id": "79e7a186"
    },
    {
      "cell_type": "code",
      "metadata": {},
      "source": [
        "# create a string representation with 25 decimals\n",
        "f'{0.3:.25f}'  "
      ],
      "id": "5ea26ff3",
      "execution_count": null,
      "outputs": []
    },
    {
      "cell_type": "code",
      "metadata": {},
      "source": [
        "sympy.Float(0.3, 25) "
      ],
      "id": "676ed6b1",
      "execution_count": null,
      "outputs": []
    },
    {
      "cell_type": "code",
      "metadata": {},
      "source": [
        "sympy.Float('0.3', 25)"
      ],
      "id": "3500d87e",
      "execution_count": null,
      "outputs": []
    },
    {
      "cell_type": "code",
      "metadata": {},
      "source": [
        "sympy.Float('123 456 789.123_456', '')"
      ],
      "id": "0f77adf5",
      "execution_count": null,
      "outputs": []
    },
    {
      "cell_type": "markdown",
      "metadata": {},
      "source": [
        "### Rational"
      ],
      "id": "4ba0929a"
    },
    {
      "cell_type": "code",
      "metadata": {},
      "source": [
        "r0 = sympy.Rational(11, 13)\n",
        "r0"
      ],
      "id": "2c7aec6b",
      "execution_count": null,
      "outputs": []
    },
    {
      "cell_type": "code",
      "metadata": {},
      "source": [
        "r0.p, r0.q"
      ],
      "id": "dfd779ef",
      "execution_count": null,
      "outputs": []
    },
    {
      "cell_type": "code",
      "metadata": {},
      "source": [
        "r1 = sympy.Rational(2, 3)\n",
        "r2 = sympy.Rational(4, 5)"
      ],
      "id": "02ce0117",
      "execution_count": null,
      "outputs": []
    },
    {
      "cell_type": "code",
      "metadata": {},
      "source": [
        "r1 * r2"
      ],
      "id": "25fe42ef",
      "execution_count": null,
      "outputs": []
    },
    {
      "cell_type": "code",
      "metadata": {},
      "source": [
        "r1 / r2"
      ],
      "id": "8d9d5d58",
      "execution_count": null,
      "outputs": []
    },
    {
      "cell_type": "code",
      "metadata": {},
      "source": [
        "sympy.Rational(0.2), sympy.Rational('0.2')"
      ],
      "id": "b1f179d6",
      "execution_count": null,
      "outputs": []
    },
    {
      "cell_type": "markdown",
      "metadata": {},
      "source": [
        "### Constants and special symbols\n",
        "\n",
        "$\\displaystyle \\gamma = \\lim_{n \\to \\infty} \\left( \\sum_{k=1}^n \\frac{1}{k} -\\ln n\\right)$"
      ],
      "id": "9357ea4e"
    },
    {
      "cell_type": "code",
      "metadata": {},
      "source": [
        "sympy.pi, sympy.E, sympy.EulerGamma, sympy.I, sympy.oo"
      ],
      "id": "2671b242",
      "execution_count": null,
      "outputs": []
    },
    {
      "cell_type": "markdown",
      "metadata": {},
      "source": [
        "### Functions"
      ],
      "id": "236be463"
    },
    {
      "cell_type": "code",
      "metadata": {},
      "source": [
        "x, y, z = sympy.symbols('x, y, z')"
      ],
      "id": "10cf46c7",
      "execution_count": null,
      "outputs": []
    },
    {
      "cell_type": "code",
      "metadata": {},
      "source": [
        "f = sympy.Function('f')\n",
        "type(f)"
      ],
      "id": "05ee8bc4",
      "execution_count": null,
      "outputs": []
    },
    {
      "cell_type": "code",
      "metadata": {},
      "source": [
        "f(x)"
      ],
      "id": "4081bd08",
      "execution_count": null,
      "outputs": []
    },
    {
      "cell_type": "code",
      "metadata": {},
      "source": [
        "g = sympy.Function('g')(x, y, z)\n",
        "g"
      ],
      "id": "216d4f82",
      "execution_count": null,
      "outputs": []
    },
    {
      "cell_type": "code",
      "metadata": {},
      "source": [
        "g.free_symbols"
      ],
      "id": "1cfd72b0",
      "execution_count": null,
      "outputs": []
    },
    {
      "cell_type": "markdown",
      "metadata": {},
      "source": [
        "---"
      ],
      "id": "7cc639dc"
    },
    {
      "cell_type": "code",
      "metadata": {},
      "source": [
        "sympy.sin"
      ],
      "id": "20f1a493",
      "execution_count": null,
      "outputs": []
    },
    {
      "cell_type": "code",
      "metadata": {},
      "source": [
        "sympy.sin(x)"
      ],
      "id": "0683c5a4",
      "execution_count": null,
      "outputs": []
    },
    {
      "cell_type": "code",
      "metadata": {},
      "source": [
        "sympy.sin(pi *1.5)"
      ],
      "id": "cd041e7e",
      "execution_count": null,
      "outputs": []
    },
    {
      "cell_type": "code",
      "metadata": {},
      "source": [
        "n = sympy.Symbol('n', integer=True)\n",
        "sympy.sin(pi * n)"
      ],
      "id": "36ca3b80",
      "execution_count": null,
      "outputs": []
    },
    {
      "cell_type": "code",
      "metadata": {},
      "source": [
        "h = sympy.Lambda(x, x**2)\n",
        "h"
      ],
      "id": "c005aea7",
      "execution_count": null,
      "outputs": []
    },
    {
      "cell_type": "code",
      "metadata": {},
      "source": [
        "h(5)"
      ],
      "id": "3b6a29ed",
      "execution_count": null,
      "outputs": []
    },
    {
      "cell_type": "code",
      "metadata": {},
      "source": [
        "h(1 + x)"
      ],
      "id": "392685e0",
      "execution_count": null,
      "outputs": []
    },
    {
      "cell_type": "markdown",
      "metadata": {},
      "source": [
        "## Expressions"
      ],
      "id": "568cc065"
    },
    {
      "cell_type": "code",
      "metadata": {},
      "source": [
        "x = sympy.Symbol('x')\n",
        "\n",
        "expr = 1 +2*x**2 +3*x**3\n",
        "expr"
      ],
      "id": "42322832",
      "execution_count": null,
      "outputs": []
    },
    {
      "cell_type": "code",
      "metadata": {},
      "source": [
        "expr.args"
      ],
      "id": "83981fb6",
      "execution_count": null,
      "outputs": []
    },
    {
      "cell_type": "code",
      "metadata": {},
      "source": [
        "expr.args[2]"
      ],
      "id": "beba0e50",
      "execution_count": null,
      "outputs": []
    },
    {
      "cell_type": "code",
      "metadata": {},
      "source": [
        "expr.args[2].args"
      ],
      "id": "58ff5bb2",
      "execution_count": null,
      "outputs": []
    },
    {
      "cell_type": "code",
      "metadata": {},
      "source": [
        "expr.args[2].args[1]"
      ],
      "id": "095e5e25",
      "execution_count": null,
      "outputs": []
    },
    {
      "cell_type": "code",
      "metadata": {},
      "source": [
        "expr.args[2].args[1].args"
      ],
      "id": "eb7c310f",
      "execution_count": null,
      "outputs": []
    },
    {
      "cell_type": "code",
      "metadata": {},
      "source": [
        "expr.args[2].args[1].args[1]"
      ],
      "id": "52d926aa",
      "execution_count": null,
      "outputs": []
    },
    {
      "cell_type": "code",
      "metadata": {},
      "source": [
        "expr.args[2].args[1].args[1].args"
      ],
      "id": "858c67af",
      "execution_count": null,
      "outputs": []
    },
    {
      "cell_type": "markdown",
      "metadata": {},
      "source": [
        "## Manipulating expressions\n",
        "\n",
        "### Simplication"
      ],
      "id": "b83fbc89"
    },
    {
      "cell_type": "code",
      "metadata": {},
      "source": [
        "expr = 2 * (x**2 - x) - x * (x + 1)\n",
        "expr"
      ],
      "id": "656a5b59",
      "execution_count": null,
      "outputs": []
    },
    {
      "cell_type": "code",
      "metadata": {},
      "source": [
        "sympy.simplify(expr)"
      ],
      "id": "33fde4fc",
      "execution_count": null,
      "outputs": []
    },
    {
      "cell_type": "code",
      "metadata": {},
      "source": [
        "expr.simplify()"
      ],
      "id": "6f5997ff",
      "execution_count": null,
      "outputs": []
    },
    {
      "cell_type": "code",
      "metadata": {},
      "source": [
        "expr"
      ],
      "id": "56e283c9",
      "execution_count": null,
      "outputs": []
    },
    {
      "cell_type": "markdown",
      "metadata": {},
      "source": [
        "---"
      ],
      "id": "5e8785e6"
    },
    {
      "cell_type": "code",
      "metadata": {},
      "source": [
        "expr = 2 * sympy.cos(x) * sympy.sin(x)\n",
        "expr"
      ],
      "id": "4e9a157c",
      "execution_count": null,
      "outputs": []
    },
    {
      "cell_type": "code",
      "metadata": {},
      "source": [
        "sympy.simplify(expr)"
      ],
      "id": "fd05e6f8",
      "execution_count": null,
      "outputs": []
    },
    {
      "cell_type": "code",
      "metadata": {},
      "source": [
        "expr = sympy.exp(x) * sympy.exp(y)\n",
        "expr"
      ],
      "id": "9fed601a",
      "execution_count": null,
      "outputs": []
    },
    {
      "cell_type": "code",
      "metadata": {},
      "source": [
        "sympy.simplify(expr)"
      ],
      "id": "bff505bf",
      "execution_count": null,
      "outputs": []
    },
    {
      "cell_type": "markdown",
      "metadata": {},
      "source": [
        "### Expand"
      ],
      "id": "dd678539"
    },
    {
      "cell_type": "code",
      "metadata": {},
      "source": [
        "expr = (x + 1) * (x + 2)\n",
        "expr"
      ],
      "id": "7a8f78c7",
      "execution_count": null,
      "outputs": []
    },
    {
      "cell_type": "code",
      "metadata": {},
      "source": [
        "expr.expand()"
      ],
      "id": "83b913d5",
      "execution_count": null,
      "outputs": []
    },
    {
      "cell_type": "markdown",
      "metadata": {},
      "source": [
        "---"
      ],
      "id": "1989c9e0"
    },
    {
      "cell_type": "code",
      "metadata": {},
      "source": [
        "sympy.sin(x + y).expand(trig=True)"
      ],
      "id": "21c3f02b",
      "execution_count": null,
      "outputs": []
    },
    {
      "cell_type": "code",
      "metadata": {},
      "source": [
        "a, b = sympy.symbols('a, b', positive=True)\n",
        "sympy.log(a * b).expand(log=True)"
      ],
      "id": "95f5c22b",
      "execution_count": null,
      "outputs": []
    },
    {
      "cell_type": "code",
      "metadata": {},
      "source": [
        "sympy.exp(I*a + b).expand(complex=True)"
      ],
      "id": "8084e70a",
      "execution_count": null,
      "outputs": []
    },
    {
      "cell_type": "code",
      "metadata": {},
      "source": [
        "sympy.expand((a * b)**x, power_base=True)"
      ],
      "id": "85634008",
      "execution_count": null,
      "outputs": []
    },
    {
      "cell_type": "code",
      "metadata": {},
      "source": [
        "sympy.exp(I*(a -b)*x).expand(power_exp=True)"
      ],
      "id": "117336b2",
      "execution_count": null,
      "outputs": []
    },
    {
      "cell_type": "markdown",
      "metadata": {},
      "source": [
        "### Factor, collect and combine"
      ],
      "id": "efe9bad5"
    },
    {
      "cell_type": "code",
      "metadata": {},
      "source": [
        "sympy.factor(x**2 - 1)"
      ],
      "id": "a15fa60f",
      "execution_count": null,
      "outputs": []
    },
    {
      "cell_type": "code",
      "metadata": {},
      "source": [
        "sympy.factor(x *sympy.cos(y) + x *sympy.sin(z))"
      ],
      "id": "4cba2189",
      "execution_count": null,
      "outputs": []
    },
    {
      "cell_type": "markdown",
      "metadata": {},
      "source": [
        "---"
      ],
      "id": "efd039af"
    },
    {
      "cell_type": "code",
      "metadata": {},
      "source": [
        "expr = x + y + x * y * z\n",
        "expr"
      ],
      "id": "28961681",
      "execution_count": null,
      "outputs": []
    },
    {
      "cell_type": "code",
      "metadata": {},
      "source": [
        "expr.collect(x)"
      ],
      "id": "a46b8865",
      "execution_count": null,
      "outputs": []
    },
    {
      "cell_type": "code",
      "metadata": {},
      "source": [
        "expr.collect(y)"
      ],
      "id": "493fb01a",
      "execution_count": null,
      "outputs": []
    },
    {
      "cell_type": "markdown",
      "metadata": {},
      "source": [
        "---"
      ],
      "id": "41b730db"
    },
    {
      "cell_type": "code",
      "metadata": {},
      "source": [
        "expr = sympy.cos(x + y) + sympy.sin(x - y)"
      ],
      "id": "e42cb940",
      "execution_count": null,
      "outputs": []
    },
    {
      "cell_type": "code",
      "metadata": {},
      "source": [
        "expr1 = expr.expand(trig=True)\n",
        "expr1"
      ],
      "id": "8e534d8b",
      "execution_count": null,
      "outputs": []
    },
    {
      "cell_type": "code",
      "metadata": {},
      "source": [
        "expr2 = expr1.collect([sympy.cos(x), sympy.sin(x)])\n",
        "expr2"
      ],
      "id": "ceadf14f",
      "execution_count": null,
      "outputs": []
    },
    {
      "cell_type": "code",
      "metadata": {},
      "source": [
        "expr3 = expr2.collect(sympy.cos(y) - sympy.sin(y))\n",
        "expr3"
      ],
      "id": "05867e12",
      "execution_count": null,
      "outputs": []
    },
    {
      "cell_type": "markdown",
      "metadata": {},
      "source": [
        "---"
      ],
      "id": "99c1798a"
    },
    {
      "cell_type": "code",
      "metadata": {},
      "source": [
        "sympy.logcombine(sympy.log(a) - sympy.log(b))"
      ],
      "id": "169e6eb5",
      "execution_count": null,
      "outputs": []
    },
    {
      "cell_type": "markdown",
      "metadata": {},
      "source": [
        "### Apart, together and cancel"
      ],
      "id": "50ed18b1"
    },
    {
      "cell_type": "code",
      "metadata": {},
      "source": [
        "expr1 = 1/(x**2 + 3*x + 2)\n",
        "expr1"
      ],
      "id": "79127734",
      "execution_count": null,
      "outputs": []
    },
    {
      "cell_type": "code",
      "metadata": {},
      "source": [
        "sympy.apart(expr1, x)"
      ],
      "id": "971855f7",
      "execution_count": null,
      "outputs": []
    },
    {
      "cell_type": "code",
      "metadata": {},
      "source": [
        "expr2 = 1 / (y * x + y) + 1 / (1+x)\n",
        "expr2"
      ],
      "id": "9f3867cf",
      "execution_count": null,
      "outputs": []
    },
    {
      "cell_type": "code",
      "metadata": {},
      "source": [
        "sympy.together(expr2)"
      ],
      "id": "486269d1",
      "execution_count": null,
      "outputs": []
    },
    {
      "cell_type": "code",
      "metadata": {},
      "source": [
        "expr3 = y / (y * x + y)\n",
        "expr3"
      ],
      "id": "9ff01535",
      "execution_count": null,
      "outputs": []
    },
    {
      "cell_type": "code",
      "metadata": {},
      "source": [
        "sympy.cancel(expr3)"
      ],
      "id": "65ab7b94",
      "execution_count": null,
      "outputs": []
    },
    {
      "cell_type": "markdown",
      "metadata": {},
      "source": [
        "### Substitutions"
      ],
      "id": "ae2900cc"
    },
    {
      "cell_type": "code",
      "metadata": {},
      "source": [
        "(x + y).subs(x, y)"
      ],
      "id": "aab545bd",
      "execution_count": null,
      "outputs": []
    },
    {
      "cell_type": "code",
      "metadata": {},
      "source": [
        "sympy.sin(x * sympy.exp(x)).subs(x, y)"
      ],
      "id": "08636bd1",
      "execution_count": null,
      "outputs": []
    },
    {
      "cell_type": "code",
      "metadata": {},
      "source": [
        "sympy.sin(x * z).subs({z: sympy.exp(y), x: y, sympy.sin: sympy.cos})"
      ],
      "id": "5392dd26",
      "execution_count": null,
      "outputs": []
    },
    {
      "cell_type": "code",
      "metadata": {},
      "source": [
        "expr = x * y + z**2 *x\n",
        "expr"
      ],
      "id": "d99ffcce",
      "execution_count": null,
      "outputs": []
    },
    {
      "cell_type": "code",
      "metadata": {},
      "source": [
        "values = {x: 1.25, y: 0.4, z: 3.2}\n",
        "expr.subs(values)"
      ],
      "id": "2645f9a9",
      "execution_count": null,
      "outputs": []
    },
    {
      "cell_type": "markdown",
      "metadata": {},
      "source": [
        "### Numerical evaluation"
      ],
      "id": "01ef1f7f"
    },
    {
      "cell_type": "code",
      "metadata": {},
      "source": [
        "sympy.N(1 + pi)"
      ],
      "id": "2c36f210",
      "execution_count": null,
      "outputs": []
    },
    {
      "cell_type": "code",
      "metadata": {},
      "source": [
        "sympy.N(1 + pi, 50)"
      ],
      "id": "5cbfa876",
      "execution_count": null,
      "outputs": []
    },
    {
      "cell_type": "markdown",
      "metadata": {},
      "source": [
        "---"
      ],
      "id": "628f754c"
    },
    {
      "cell_type": "code",
      "metadata": {},
      "source": [
        "(x + 1/pi).evalf(10)"
      ],
      "id": "33937ed4",
      "execution_count": null,
      "outputs": []
    },
    {
      "cell_type": "markdown",
      "metadata": {},
      "source": [
        "---"
      ],
      "id": "bb150cf5"
    },
    {
      "cell_type": "code",
      "metadata": {},
      "source": [
        "expr = sympy.sin(pi * x * sympy.exp(x))\n",
        "expr"
      ],
      "id": "c620e1e2",
      "execution_count": null,
      "outputs": []
    },
    {
      "cell_type": "code",
      "metadata": {},
      "source": [
        "[expr.subs(x, i).evalf(3) for i in range(0, 10)]  # rather slow"
      ],
      "id": "4d3a1138",
      "execution_count": null,
      "outputs": []
    },
    {
      "cell_type": "markdown",
      "metadata": {},
      "source": [
        "---"
      ],
      "id": "b9a3a60b"
    },
    {
      "cell_type": "code",
      "metadata": {},
      "source": [
        "expr_func = sympy.lambdify(x, expr)\n",
        "expr_func(1.0)"
      ],
      "id": "d8148209",
      "execution_count": null,
      "outputs": []
    },
    {
      "cell_type": "markdown",
      "metadata": {},
      "source": [
        "---"
      ],
      "id": "db11a9c8"
    },
    {
      "cell_type": "code",
      "metadata": {},
      "source": [
        "import numpy as np\n",
        "\n",
        "xvalues = np.arange(0, 10)\n",
        "\n",
        "expr_func = sympy.lambdify(x, expr, 'numpy')\n",
        "expr_func(xvalues)  # efficient method"
      ],
      "id": "295dda1b",
      "execution_count": null,
      "outputs": []
    },
    {
      "cell_type": "markdown",
      "metadata": {},
      "source": [
        "## Calculus\n",
        "\n",
        "### Derivatives"
      ],
      "id": "e90062f4"
    },
    {
      "cell_type": "code",
      "metadata": {},
      "source": [
        "f = sympy.Function('f')(x)\n",
        "sympy.diff(f, x)  # equivalent to f.diff(x)"
      ],
      "id": "0fc0ba90",
      "execution_count": null,
      "outputs": []
    },
    {
      "cell_type": "code",
      "metadata": {},
      "source": [
        "sympy.diff(f, x, x)"
      ],
      "id": "37e0419d",
      "execution_count": null,
      "outputs": []
    },
    {
      "cell_type": "code",
      "metadata": {},
      "source": [
        "sympy.diff(f, x, 3)  # equivalent to sympy.diff(f, x, x, x)"
      ],
      "id": "37980074",
      "execution_count": null,
      "outputs": []
    },
    {
      "cell_type": "markdown",
      "metadata": {},
      "source": [
        "---"
      ],
      "id": "5d6a477a"
    },
    {
      "cell_type": "code",
      "metadata": {},
      "source": [
        "g = sympy.Function('g')(x, y)\n",
        "g.diff(x, y) # equivalent to sympy.diff(g, x, y)"
      ],
      "id": "cb592068",
      "execution_count": null,
      "outputs": []
    },
    {
      "cell_type": "code",
      "metadata": {},
      "source": [
        "g.diff(x, 3, y, 2) # equivalent to sympy.diff(g, x, x, x, y, y)"
      ],
      "id": "5d22ffff",
      "execution_count": null,
      "outputs": []
    },
    {
      "cell_type": "markdown",
      "metadata": {},
      "source": [
        "---"
      ],
      "id": "500361d6"
    },
    {
      "cell_type": "code",
      "metadata": {},
      "source": [
        "expr = x**4 + x**3 + x**2 + x + 1\n",
        "expr"
      ],
      "id": "e48bec45",
      "execution_count": null,
      "outputs": []
    },
    {
      "cell_type": "code",
      "metadata": {},
      "source": [
        "expr.diff(x)"
      ],
      "id": "c9970c3d",
      "execution_count": null,
      "outputs": []
    },
    {
      "cell_type": "code",
      "metadata": {},
      "source": [
        "expr.diff(x, x)"
      ],
      "id": "631892cd",
      "execution_count": null,
      "outputs": []
    },
    {
      "cell_type": "markdown",
      "metadata": {},
      "source": [
        "---"
      ],
      "id": "680965da"
    },
    {
      "cell_type": "code",
      "metadata": {},
      "source": [
        "expr = (x + 1)**3 * y ** 2 * (z - 1)\n",
        "expr"
      ],
      "id": "e31a7aac",
      "execution_count": null,
      "outputs": []
    },
    {
      "cell_type": "code",
      "metadata": {},
      "source": [
        "expr.diff(x, y, z)"
      ],
      "id": "84739b84",
      "execution_count": null,
      "outputs": []
    },
    {
      "cell_type": "markdown",
      "metadata": {},
      "source": [
        "---"
      ],
      "id": "bbcb53eb"
    },
    {
      "cell_type": "code",
      "metadata": {},
      "source": [
        "expr = sympy.sin(x * y) * sympy.cos(x / 2)\n",
        "expr"
      ],
      "id": "02023c6f",
      "execution_count": null,
      "outputs": []
    },
    {
      "cell_type": "code",
      "metadata": {},
      "source": [
        "expr.diff(x)"
      ],
      "id": "c3dd7add",
      "execution_count": null,
      "outputs": []
    },
    {
      "cell_type": "markdown",
      "metadata": {},
      "source": [
        "---"
      ],
      "id": "c4e82b2f"
    },
    {
      "cell_type": "code",
      "metadata": {},
      "source": [
        "expr = sympy.functions.special.polynomials.hermite(x, 0)\n",
        "expr"
      ],
      "id": "7e41c888",
      "execution_count": null,
      "outputs": []
    },
    {
      "cell_type": "code",
      "metadata": {},
      "source": [
        "expr.diff(x)"
      ],
      "id": "a3d1b8f6",
      "execution_count": null,
      "outputs": []
    },
    {
      "cell_type": "markdown",
      "metadata": {},
      "source": [
        "---"
      ],
      "id": "a202443f"
    },
    {
      "cell_type": "code",
      "metadata": {},
      "source": [
        "d = sympy.Derivative(sympy.exp(sympy.cos(x)), x)\n",
        "d"
      ],
      "id": "2364dee2",
      "execution_count": null,
      "outputs": []
    },
    {
      "cell_type": "code",
      "metadata": {},
      "source": [
        "d.doit()"
      ],
      "id": "6ee3a61a",
      "execution_count": null,
      "outputs": []
    },
    {
      "cell_type": "markdown",
      "metadata": {},
      "source": [
        "### Integrals"
      ],
      "id": "b5939702"
    },
    {
      "cell_type": "code",
      "metadata": {},
      "source": [
        "a, b, x, y = sympy.symbols('a, b, x, y')\n",
        "f = sympy.Function('f')(x)\n",
        "sympy.integrate(f)"
      ],
      "id": "a23aa4b2",
      "execution_count": null,
      "outputs": []
    },
    {
      "cell_type": "code",
      "metadata": {},
      "source": [
        "sympy.integrate(f, (x, a, b))"
      ],
      "id": "2e6a6790",
      "execution_count": null,
      "outputs": []
    },
    {
      "cell_type": "markdown",
      "metadata": {},
      "source": [
        "---"
      ],
      "id": "111f65cb"
    },
    {
      "cell_type": "code",
      "metadata": {},
      "source": [
        "sympy.integrate(sympy.sin(x))"
      ],
      "id": "84ca4f8d",
      "execution_count": null,
      "outputs": []
    },
    {
      "cell_type": "code",
      "metadata": {},
      "source": [
        "sympy.integrate(sympy.sin(x), (x, a, b))"
      ],
      "id": "ca790c06",
      "execution_count": null,
      "outputs": []
    },
    {
      "cell_type": "code",
      "metadata": {},
      "source": [
        "sympy.integrate(sympy.exp(-x**2), (x, 0, oo))"
      ],
      "id": "e1fe80cc",
      "execution_count": null,
      "outputs": []
    },
    {
      "cell_type": "code",
      "metadata": {},
      "source": [
        "a, b, c = sympy.symbols('a, b, c', positive=True)\n",
        "sympy.integrate(a * sympy.exp(-((x -b)/c)**2), (x, -oo, oo))"
      ],
      "id": "264d1892",
      "execution_count": null,
      "outputs": []
    },
    {
      "cell_type": "code",
      "metadata": {},
      "source": [
        "sympy.integrate(sympy.sin(x * sympy.cos(x))) # No analytic integration"
      ],
      "id": "a87aadab",
      "execution_count": null,
      "outputs": []
    },
    {
      "cell_type": "markdown",
      "metadata": {},
      "source": [
        "---"
      ],
      "id": "25d820df"
    },
    {
      "cell_type": "code",
      "metadata": {},
      "source": [
        "expr = sympy.sin(x*sympy.exp(y))\n",
        "expr"
      ],
      "id": "1c5cf536",
      "execution_count": null,
      "outputs": []
    },
    {
      "cell_type": "code",
      "metadata": {},
      "source": [
        "sympy.integrate(expr, x)"
      ],
      "id": "f6dee533",
      "execution_count": null,
      "outputs": []
    },
    {
      "cell_type": "markdown",
      "metadata": {},
      "source": [
        "---"
      ],
      "id": "3fe3eb44"
    },
    {
      "cell_type": "code",
      "metadata": {},
      "source": [
        "expr = (x + y)**2\n",
        "expr"
      ],
      "id": "3744224a",
      "execution_count": null,
      "outputs": []
    },
    {
      "cell_type": "code",
      "metadata": {},
      "source": [
        "sympy.integrate(expr, x)"
      ],
      "id": "877b6608",
      "execution_count": null,
      "outputs": []
    },
    {
      "cell_type": "code",
      "metadata": {},
      "source": [
        "sympy.integrate(expr, x, y)"
      ],
      "id": "71f6b592",
      "execution_count": null,
      "outputs": []
    },
    {
      "cell_type": "code",
      "metadata": {},
      "source": [
        "sympy.integrate(expr, (x, 0, 1), (y, 0, 1))"
      ],
      "id": "6ca1db6a",
      "execution_count": null,
      "outputs": []
    },
    {
      "cell_type": "markdown",
      "metadata": {},
      "source": [
        "### Series"
      ],
      "id": "f5200e60"
    },
    {
      "cell_type": "code",
      "metadata": {},
      "source": [
        "sympy.limit(sympy.sin(x) / x, x, 0)"
      ],
      "id": "53bca2c4",
      "execution_count": null,
      "outputs": []
    },
    {
      "cell_type": "markdown",
      "metadata": {},
      "source": [
        "---"
      ],
      "id": "2a13bbc1"
    },
    {
      "cell_type": "code",
      "metadata": {},
      "source": [
        "x, h = sympy.symbols('x, h')\n",
        "f = sympy.Function('f')\n",
        "diff_limit = (f(x + h) - f(x)) / h"
      ],
      "id": "807480a5",
      "execution_count": null,
      "outputs": []
    },
    {
      "cell_type": "code",
      "metadata": {},
      "source": [
        "sympy.limit(diff_limit.subs(f, sympy.cos), h, 0)"
      ],
      "id": "f5214d80",
      "execution_count": null,
      "outputs": []
    },
    {
      "cell_type": "code",
      "metadata": {},
      "source": [
        "sympy.limit(diff_limit.subs(f, sympy.sin), h, 0)"
      ],
      "id": "1174113b",
      "execution_count": null,
      "outputs": []
    },
    {
      "cell_type": "code",
      "metadata": {},
      "source": [
        "expr = (x**2 - 3*x) / (2*x - 2)\n",
        "expr"
      ],
      "id": "686f2e8a",
      "execution_count": null,
      "outputs": []
    },
    {
      "cell_type": "code",
      "metadata": {},
      "source": [
        "p = sympy.limit(expr/x, x, sympy.oo)"
      ],
      "id": "b3e5ddcb",
      "execution_count": null,
      "outputs": []
    },
    {
      "cell_type": "code",
      "metadata": {},
      "source": [
        "q = sympy.limit(expr - p*x, x, sympy.oo)"
      ],
      "id": "c8edc65c",
      "execution_count": null,
      "outputs": []
    },
    {
      "cell_type": "code",
      "metadata": {},
      "source": [
        "p, q"
      ],
      "id": "86ce81f2",
      "execution_count": null,
      "outputs": []
    },
    {
      "cell_type": "markdown",
      "metadata": {},
      "source": [
        "### Sums and products"
      ],
      "id": "0c94eff8"
    },
    {
      "cell_type": "code",
      "metadata": {},
      "source": [
        "n = sympy.symbols('n', integer=True)\n",
        "x = sympy.Sum(1/(n**2), (n, 1, oo))\n",
        "x"
      ],
      "id": "5d4edf6d",
      "execution_count": null,
      "outputs": []
    },
    {
      "cell_type": "code",
      "metadata": {},
      "source": [
        "x.doit()"
      ],
      "id": "1af8430d",
      "execution_count": null,
      "outputs": []
    },
    {
      "cell_type": "code",
      "metadata": {},
      "source": [
        "x = sympy.Product(n, (n, 1, 7))\n",
        "x"
      ],
      "id": "060603eb",
      "execution_count": null,
      "outputs": []
    },
    {
      "cell_type": "code",
      "metadata": {},
      "source": [
        "x.doit()"
      ],
      "id": "f738c99f",
      "execution_count": null,
      "outputs": []
    },
    {
      "cell_type": "markdown",
      "metadata": {},
      "source": [
        "---"
      ],
      "id": "2dc52764"
    },
    {
      "cell_type": "code",
      "metadata": {},
      "source": [
        "x = sympy.Symbol('x')\n",
        "sympy.Sum((x)**n/(sympy.factorial(n)), (n, 1, oo)).doit().simplify()"
      ],
      "id": "57377d81",
      "execution_count": null,
      "outputs": []
    },
    {
      "cell_type": "markdown",
      "metadata": {},
      "source": [
        "## Equations"
      ],
      "id": "7e8e3b36"
    },
    {
      "cell_type": "code",
      "metadata": {},
      "source": [
        "x = sympy.Symbol('x')\n",
        "sympy.solve(x**2 +2*x -3)"
      ],
      "id": "6a600dfa",
      "execution_count": null,
      "outputs": []
    },
    {
      "cell_type": "code",
      "metadata": {},
      "source": [
        "a, b, c = sympy.symbols('a, b, c')\n",
        "sympy.solve(a *x**2 +b *x +c, x)"
      ],
      "id": "23c8da20",
      "execution_count": null,
      "outputs": []
    },
    {
      "cell_type": "code",
      "metadata": {},
      "source": [
        "sympy.solve(sympy.sin(x) - sympy.cos(x), x)"
      ],
      "id": "b47af3eb",
      "execution_count": null,
      "outputs": []
    },
    {
      "cell_type": "markdown",
      "metadata": {},
      "source": [
        "---"
      ],
      "id": "631543e1"
    },
    {
      "cell_type": "code",
      "metadata": {},
      "source": [
        "sympy.solve(sympy.exp(x) + 2 *x, x)"
      ],
      "id": "271052a6",
      "execution_count": null,
      "outputs": []
    },
    {
      "cell_type": "markdown",
      "metadata": {},
      "source": [
        "The value of `LambertW` function $W(z)$ is such that $z = W(z)\\exp(W(z))$ for any complex number $z$"
      ],
      "id": "3a5f1476"
    },
    {
      "cell_type": "code",
      "metadata": {},
      "source": [
        "-sympy.LambertW(1/2)"
      ],
      "id": "5c70e9b9",
      "execution_count": null,
      "outputs": []
    },
    {
      "cell_type": "markdown",
      "metadata": {},
      "source": [
        "---"
      ],
      "id": "85706e0d"
    },
    {
      "cell_type": "code",
      "metadata": {},
      "source": [
        "sols = sympy.solve(x**5 - x**2 + 1, x)\n",
        "for i in range(5):\n",
        "    display(sols[i])"
      ],
      "id": "1153f7b5",
      "execution_count": null,
      "outputs": []
    },
    {
      "cell_type": "code",
      "metadata": {},
      "source": [
        "#sympy.solve(sympy.tan(x) + x, x)"
      ],
      "id": "01dcb188",
      "execution_count": null,
      "outputs": []
    },
    {
      "cell_type": "markdown",
      "metadata": {},
      "source": [
        "`NotImplementedError: multiple generators [x, tan(x)]`\n",
        "`No algorithms are implemented to solve equation x + tan(x)`\n",
        "\n",
        "---"
      ],
      "id": "30fa6969"
    },
    {
      "cell_type": "code",
      "metadata": {},
      "source": [
        "eq1 = x +2 *y -1 \n",
        "eq2 = x -y +1"
      ],
      "id": "f72e09ca",
      "execution_count": null,
      "outputs": []
    },
    {
      "cell_type": "code",
      "metadata": {},
      "source": [
        "sympy.solve([eq1, eq2], [x, y], dict=True)"
      ],
      "id": "88c5800b",
      "execution_count": null,
      "outputs": []
    },
    {
      "cell_type": "code",
      "metadata": {},
      "source": [
        "eq1 = x**2 -y\n",
        "eq2 = y**2 -x"
      ],
      "id": "7f0e0fe8",
      "execution_count": null,
      "outputs": []
    },
    {
      "cell_type": "code",
      "metadata": {},
      "source": [
        "sols = sympy.solve([eq1, eq2], [x, y], dict=True)\n",
        "for i in range(4):\n",
        "    display(sols[i])"
      ],
      "id": "7339819e",
      "execution_count": null,
      "outputs": []
    },
    {
      "cell_type": "code",
      "metadata": {},
      "source": [
        "[eq1.subs(sol).simplify() == 0 and \n",
        " eq2.subs(sol).simplify() == 0 for sol in sols]"
      ],
      "id": "3e5c0ded",
      "execution_count": null,
      "outputs": []
    },
    {
      "cell_type": "markdown",
      "metadata": {},
      "source": [
        "## Linear algebra"
      ],
      "id": "36ea1ad9"
    },
    {
      "cell_type": "code",
      "metadata": {},
      "source": [
        "sympy.Matrix([1, 2])"
      ],
      "id": "893c938a",
      "execution_count": null,
      "outputs": []
    },
    {
      "cell_type": "code",
      "metadata": {},
      "source": [
        "sympy.Matrix([[1, 2]])"
      ],
      "id": "a728c7a6",
      "execution_count": null,
      "outputs": []
    },
    {
      "cell_type": "code",
      "metadata": {},
      "source": [
        "sympy.Matrix([[1, 2], [3, 4]])"
      ],
      "id": "38619047",
      "execution_count": null,
      "outputs": []
    },
    {
      "cell_type": "code",
      "metadata": {},
      "source": [
        "sympy.Matrix(3, 4, lambda m, n: 10 * m + n)"
      ],
      "id": "c6179d5d",
      "execution_count": null,
      "outputs": []
    },
    {
      "cell_type": "markdown",
      "metadata": {},
      "source": [
        "---"
      ],
      "id": "0d54b0a5"
    },
    {
      "cell_type": "code",
      "metadata": {},
      "source": [
        "a, b, c, d = sympy.symbols('a, b, c, d')\n",
        "\n",
        "M = sympy.Matrix([[a, b], [c, d]])\n",
        "M"
      ],
      "id": "6cb66668",
      "execution_count": null,
      "outputs": []
    },
    {
      "cell_type": "code",
      "metadata": {},
      "source": [
        "M * M  # Matrix multiplication"
      ],
      "id": "0aa3e98a",
      "execution_count": null,
      "outputs": []
    },
    {
      "cell_type": "code",
      "metadata": {},
      "source": [
        "x = sympy.Matrix(sympy.symbols('x_1, x_2'))\n",
        "x"
      ],
      "id": "bc3f8efa",
      "execution_count": null,
      "outputs": []
    },
    {
      "cell_type": "code",
      "metadata": {},
      "source": [
        "M * x"
      ],
      "id": "39b13f80",
      "execution_count": null,
      "outputs": []
    },
    {
      "cell_type": "markdown",
      "metadata": {},
      "source": [
        "---"
      ],
      "id": "c04be203"
    },
    {
      "cell_type": "code",
      "metadata": {},
      "source": [
        "p, q = sympy.symbols('p, q')\n",
        "M = sympy.Matrix([[1, p], [q, 1]])\n",
        "M"
      ],
      "id": "3a7557e9",
      "execution_count": null,
      "outputs": []
    },
    {
      "cell_type": "code",
      "metadata": {},
      "source": [
        "b = sympy.Matrix(sympy.symbols('b_1, b_2'))\n",
        "b"
      ],
      "id": "0f7c260c",
      "execution_count": null,
      "outputs": []
    },
    {
      "cell_type": "code",
      "metadata": {},
      "source": [
        "x = M.LUsolve(b)\n",
        "x"
      ],
      "id": "6cad119d",
      "execution_count": null,
      "outputs": []
    },
    {
      "cell_type": "code",
      "metadata": {},
      "source": [
        "x = M.inv() *b\n",
        "x"
      ],
      "id": "d5bbd04a",
      "execution_count": null,
      "outputs": []
    },
    {
      "cell_type": "markdown",
      "metadata": {},
      "source": [
        "## ODE"
      ],
      "id": "a9304588"
    },
    {
      "cell_type": "code",
      "metadata": {},
      "source": [
        "x = sympy.Symbol('x')\n",
        "f = sympy.Function('f')"
      ],
      "id": "323cab1b",
      "execution_count": null,
      "outputs": []
    },
    {
      "cell_type": "code",
      "metadata": {},
      "source": [
        "sympy.dsolve(sympy.Derivative(f(x), x, x) +9 *f(x), f(x))"
      ],
      "id": "5c67be1e",
      "execution_count": null,
      "outputs": []
    },
    {
      "cell_type": "code",
      "metadata": {},
      "source": [
        "eq = (sympy.sin(x) *sympy.cos(f(x)) \n",
        "    + sympy.cos(x) *sympy.sin(f(x)) *f(x).diff(x))\n",
        "eq"
      ],
      "id": "c930e4b6",
      "execution_count": null,
      "outputs": []
    },
    {
      "cell_type": "code",
      "metadata": {},
      "source": [
        "sympy.dsolve(eq, hint='1st_exact')"
      ],
      "id": "5f1aef7b",
      "execution_count": null,
      "outputs": []
    },
    {
      "cell_type": "markdown",
      "metadata": {},
      "source": [
        "---"
      ],
      "id": "78463dc9"
    },
    {
      "cell_type": "code",
      "metadata": {},
      "source": [
        "t = sympy.Symbol('t')\n",
        "x, y = sympy.Function('x'), sympy.Function('y')\n",
        "\n",
        "eq = (sympy.Eq(sympy.Derivative(x(t),t), 12 *t *x(t) + 8 *y(t)),\n",
        "      sympy.Eq(sympy.Derivative(y(t),t), 21 *x(t) + 7 *t *y(t)))\n",
        "eq"
      ],
      "id": "57d429ab",
      "execution_count": null,
      "outputs": []
    },
    {
      "cell_type": "code",
      "metadata": {},
      "source": [
        "sols = sympy.dsolve(eq)\n",
        "for i in [0, 1]:\n",
        "    display(sols[i])"
      ],
      "id": "d07d6f36",
      "execution_count": null,
      "outputs": []
    },
    {
      "cell_type": "markdown",
      "metadata": {},
      "source": [
        "---"
      ],
      "id": "0c81a2a7"
    },
    {
      "cell_type": "code",
      "metadata": {},
      "source": [
        "eq = (sympy.Eq(sympy.Derivative(x(t),t), x(t) *y(t) *sympy.sin(t)), \n",
        "      sympy.Eq(sympy.Derivative(y(t),t), y(t)**2 *sympy.sin(t)))\n",
        "eq"
      ],
      "id": "4f956d42",
      "execution_count": null,
      "outputs": []
    },
    {
      "cell_type": "code",
      "metadata": {},
      "source": [
        "sympy.dsolve(eq)"
      ],
      "id": "231c44d1",
      "execution_count": null,
      "outputs": []
    },
    {
      "cell_type": "markdown",
      "metadata": {},
      "source": [
        "## Plot"
      ],
      "id": "20d75f68"
    },
    {
      "cell_type": "code",
      "metadata": {},
      "source": [
        "# | fig-align: center\n",
        "from sympy.plotting import plot\n",
        "\n",
        "x = sympy.symbols('x')\n",
        "p1 = plot(x**2, (x - 1) * x * (x + 1), (x, -1.2, 1.2))"
      ],
      "id": "8b2bdbef",
      "execution_count": null,
      "outputs": []
    },
    {
      "cell_type": "code",
      "metadata": {},
      "source": [
        "# | fig-align: center\n",
        "from sympy.plotting import plot_parametric\n",
        "\n",
        "u = sympy.symbols('u')\n",
        "p2 = plot_parametric((sympy.cos(u), sympy.sin(u)), \n",
        "                     (u, sympy.cos(u)), (u, -3, 3))"
      ],
      "id": "9efb8f3d",
      "execution_count": null,
      "outputs": []
    },
    {
      "cell_type": "code",
      "metadata": {},
      "source": [
        "# | fig-align: center\n",
        "expr1 = (u, sympy.cos(2 *pi *u)/2 + 1/2)\n",
        "expr2 = (u, sympy.sin(2 *pi *u)/2 + 1/2)\n",
        "\n",
        "p3 = plot_parametric(expr1, expr2, (u, 0, 1), line_color='blue')"
      ],
      "id": "5f6850a3",
      "execution_count": null,
      "outputs": []
    },
    {
      "cell_type": "code",
      "metadata": {},
      "source": [
        "# | fig-align: center\n",
        "p3[0].line_color = 'red'\n",
        "p3.show()"
      ],
      "id": "2ec2a2f3",
      "execution_count": null,
      "outputs": []
    },
    {
      "cell_type": "code",
      "metadata": {},
      "source": [
        "# | fig-align: center\n",
        "from sympy.plotting import plot3d\n",
        "\n",
        "x, y = sympy.symbols('x y')\n",
        "p4 = plot3d((x**2 + y**2, (x, -5, 5), (y, -5, 5)),\n",
        "    (x*y, (x, -3, 3), (y, -3, 3)))"
      ],
      "id": "66e0256c",
      "execution_count": null,
      "outputs": []
    },
    {
      "cell_type": "code",
      "metadata": {},
      "source": [
        "# | fig-align: center\n",
        "from sympy.plotting import plot3d_parametric_line\n",
        "\n",
        "u = sympy.symbols('u')\n",
        "p5 = plot3d_parametric_line(sympy.cos(u), sympy.sin(u), u, (u, -5, 5))"
      ],
      "id": "7c1306b5",
      "execution_count": null,
      "outputs": []
    },
    {
      "cell_type": "code",
      "metadata": {},
      "source": [
        "# | fig-align: center\n",
        "from sympy.plotting import plot3d_parametric_surface\n",
        "\n",
        "u, v = sympy.symbols('u v')\n",
        "p6 = plot3d_parametric_surface(sympy.cos(u + v), \n",
        "    sympy.sin(u - v), u - v, (u, -5, 5), (v, -5, 5))"
      ],
      "id": "c33a85f9",
      "execution_count": null,
      "outputs": []
    },
    {
      "cell_type": "code",
      "metadata": {},
      "source": [
        "# | fig-align: center\n",
        "from sympy import plot_implicit, Eq, And\n",
        "\n",
        "p7 = plot_implicit(\n",
        "    Eq(x**2 + y**2, 3), (x, -3, 3), (y, -3, 3))"
      ],
      "id": "34dc90e0",
      "execution_count": null,
      "outputs": []
    },
    {
      "cell_type": "code",
      "metadata": {},
      "source": [
        "# | fig-align: center\n",
        "p8 = plot_implicit(And(y > x, y > -x))"
      ],
      "id": "22204df7",
      "execution_count": null,
      "outputs": []
    },
    {
      "cell_type": "code",
      "metadata": {},
      "source": [
        "# | fig-align: center\n",
        "from sympy.plotting import PlotGrid\n",
        "\n",
        "p9 = PlotGrid(2, 1, p1, p2)"
      ],
      "id": "c5ae5db3",
      "execution_count": null,
      "outputs": []
    }
  ],
  "metadata": {
    "kernelspec": {
      "name": "python3",
      "language": "python",
      "display_name": "Python 3 (ipykernel)",
      "path": "/opt/miniconda3/share/jupyter/kernels/python3"
    }
  },
  "nbformat": 4,
  "nbformat_minor": 5
}