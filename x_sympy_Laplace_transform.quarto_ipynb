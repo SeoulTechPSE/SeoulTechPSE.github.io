{
  "cells": [
    {
      "cell_type": "markdown",
      "metadata": {},
      "source": [
        "---\n",
        "jupyter: python3\n",
        "---\n",
        "\n",
        "# Sympy: Laplace Transform {#sec-sympy-Laplace-transform}\n",
        "\n",
        "## Importing sympy"
      ],
      "id": "a9cd9783"
    },
    {
      "cell_type": "code",
      "metadata": {},
      "source": [
        "import sympy\n",
        "from sympy import laplace_transform, inverse_laplace_transform, pi\n",
        "sympy.init_printing()\n",
        "\n",
        "from IPython.display import display\n",
        "\n",
        "print(\"sympy: \", sympy.__version__)"
      ],
      "id": "5373e54b",
      "execution_count": null,
      "outputs": []
    },
    {
      "cell_type": "markdown",
      "metadata": {},
      "source": [
        "* [_laplace_trabsform_expansion.py](_laplace_transform_expansion.py)\n",
        "\n",
        "  * `laplace_tranform_()` is the expanded version of `laplace_transform()`\n",
        "\n",
        "  * `subs_()` is the modified function of `sub()` method\n"
      ],
      "id": "a6d4d47a"
    },
    {
      "cell_type": "code",
      "metadata": {},
      "source": [
        "#| echo: false\n",
        "# Process Systems Lab., SeoulTech\n",
        "# April 15, 2021 Authored by Kee-Youn Yoo\n",
        "# April 4, 2024 Modifed for sympy version 1.12\n",
        "\n",
        "import sympy\n",
        "from sympy import integrate, laplace_transform\n",
        "from functools import reduce\n",
        "\n",
        "def subs_(e, s1, s2):\n",
        "\n",
        "    if isinstance(e, sympy.LaplaceTransform):\n",
        "        s_ = e.args[2]\n",
        "        return e.subs(s_, s).subs(s1, s2).subs(s, s_)\n",
        "\n",
        "    if isinstance(e, (sympy.Add, sympy.Mul, \n",
        "                      sympy.Derivative, sympy.Integral, sympy.Subs)):\n",
        "        tp = type(e)      \n",
        "        return tp(*[subs_(arg, s1, s2) for arg in e.args])\n",
        "\n",
        "    return e\n",
        "\n",
        "\n",
        "def laplace_transform_(*e, **f):\n",
        "    \n",
        "    t_ = e[1]\n",
        "    \n",
        "    if isinstance(e[0], (int, float)):\n",
        "        return laplace_transform(*e, **f)[0]\n",
        "\n",
        "    k = len(e[0].args)\n",
        "    \n",
        "    terms = []\n",
        "    for i in range(k):\n",
        "        if  k == 1:\n",
        "            terms.append(e[0])\n",
        "        else:\n",
        "            if isinstance(e[0], (sympy.Mul, sympy.Derivative, sympy.Integral)):\n",
        "                terms.append(e[0])\n",
        "                break\n",
        "            else:\n",
        "                terms.append(e[0].args[i])\n",
        "    \n",
        "    m = len(terms)\n",
        "    if m == 0:\n",
        "        return laplace_transform(*e, **f)[0]\n",
        "    \n",
        "    Leq = sympy.Float('0')\n",
        "    for i in range(m):\n",
        "\n",
        "        flag = 0\n",
        "        l = len(terms[i].args) \n",
        "        if l == 1:\n",
        "            terms__ = terms[i]\n",
        "        else:\n",
        "            terms__ = sympy.Integer('1')\n",
        "            for j in range(l):\n",
        "                if isinstance(terms[i], (sympy.Derivative, sympy.Integral)):\n",
        "                    terms__ = terms[i]\n",
        "                    break\n",
        "                else: \n",
        "                    if isinstance(terms[i].args[j], sympy.exp):\n",
        "                        a = terms[i].args[j].args[0].args\n",
        "                        if len(a) == 2:\n",
        "                            flag = a[0]\n",
        "                        else:\n",
        "                            flag = a[0] *a[2]                                                         \n",
        "                    else:\n",
        "                        terms__ *= terms[i].args[j]\n",
        "\n",
        "        Leq_ = laplace_transform_expansion(laplace_transform(terms__, e[1], e[2], **f)[0])\n",
        "\n",
        "        if flag != 0: \n",
        "            Leq_ = Leq_.subs(e[2], e[2] -flag)\n",
        "\n",
        "        Leq += Leq_\n",
        "\n",
        "    return Leq.doit()\n",
        "\n",
        "\n",
        "def laplace_transform_expansion(e):\n",
        "    \"\"\"\n",
        "    Evaluate the laplace transforms of derivatives, integrals, and composites of functions\n",
        "    \"\"\"       \n",
        "    \n",
        "    if isinstance(e, sympy.LaplaceTransform):\n",
        "        \n",
        "        ex, t, s = e.args\n",
        "        \n",
        "        # Preliminaries --------------------------\n",
        "\n",
        "        if len(ex.args) == 1: \n",
        "           \n",
        "            c = []\n",
        "            for arg in ex.args[0].args:\n",
        "                if arg != t: c.append(arg)\n",
        "                    \n",
        "            if len(c) == 0:\n",
        "                return e\n",
        "            else:\n",
        "                d = reduce(lambda x, y: x *y, c)\n",
        "                #return (sympy.LaplaceTransform(ex.subs(d *t, t), t, s/d) /d)\n",
        "                return (sympy.LaplaceTransform(ex.subs(d *t, t), t, s))\n",
        "               \n",
        "        if isinstance(ex.args[0], sympy.Pow): \n",
        "            ex = sympy.simplify(ex)\n",
        "            \n",
        "        ex0 = ex.args[0]           \n",
        "        if not isinstance(ex, sympy.Integral):\n",
        "            ex1 = reduce(lambda x, y: x *y, ex.args[1:])\n",
        "           \n",
        "        # -----------------------------------------            \n",
        "      \n",
        "        if isinstance(ex, sympy.Derivative):\n",
        "\n",
        "            n = ex1.args[1]           \n",
        "            return ((s**n) *sympy.LaplaceTransform(ex0, t, s)\n",
        "                    -sum([s**(n -i) *sympy.diff(ex0, t, i -1).subs(t, 0) for i in range(1, n +1)]))\n",
        "        \n",
        "        elif isinstance(ex, sympy.Integral):        \n",
        "            \n",
        "            if len(ex.args[1]) == 3:\n",
        "\n",
        "                tau, t0, t = ex.args[-1]\n",
        "                if t0 != 0: return e                \n",
        "                       \n",
        "                if len(ex0.args) == 2:\n",
        "               \n",
        "                    f, g = ex0.args[0], ex0.args[1]\n",
        "                \n",
        "                    if f.args[0] == tau and g.args[0] == t -tau:           \n",
        "                        return (sympy.LaplaceTransform(f, tau, s).subs(tau, t) \n",
        "                               *sympy.LaplaceTransform(g, t -tau, s)).subs(t -tau, t)\n",
        "                    elif f.args[0] == t -tau and g.args[0] == tau:\n",
        "                        return (sympy.LaplaceTransform(f, t -tau, s).subs(t -tau, t) \n",
        "                               *sympy.LaplaceTransform(g, tau, s)).subs(tau, t)\n",
        "                    else:\n",
        "                        return e\n",
        "                    \n",
        "                else:\n",
        "                    n = len(ex.args) -2\n",
        "                    if n > 0:\n",
        "                        for i in range(n):\n",
        "                            tau_, t0_, t_ = ex.args[i +1]\n",
        "                            ex0 = integrate(ex0, (tau_, 0, t_))\n",
        "                        ex0 = ex0.subs(tau_, t).subs(t_, t)\n",
        "                    else:\n",
        "                        ex0 = ex0.subs(tau, t)\n",
        "                        \n",
        "                    return (laplace_transform_expansion(sympy.LaplaceTransform(ex0, t, s)) /s)\n",
        "            else:\n",
        "                return e\n",
        "\n",
        "        elif isinstance(ex0, sympy.exp):         \n",
        "\n",
        "            c = []\n",
        "            for arg in ex0.args[0].args:\n",
        "                if arg != t: c.append(arg)\n",
        "\n",
        "            d = reduce(lambda x, y: x *y, c)\n",
        "                       \n",
        "            if ex0 == sympy.exp(d *t):\n",
        "                return (laplace_transform_expansion(sympy.LaplaceTransform(ex1, t, s)).subs(s, s -d))\n",
        "            else:\n",
        "                return e                \n",
        "        \n",
        "        elif isinstance(ex0, sympy.Pow) or ex0 == t:  \n",
        "            \n",
        "            if ex0 == t:\n",
        "                n = 1\n",
        "            else:\n",
        "                n = ex0.args[1]\n",
        "                if not n.is_integer: return e\n",
        "                      \n",
        "            c = laplace_transform_expansion(sympy.LaplaceTransform(ex1, t, s))\n",
        "            \n",
        "            if isinstance(c, sympy.Add):\n",
        "                for i in range(len(c.args)):\n",
        "                    for j in range(len(c.args[i].args)):\n",
        "                        if isinstance(c.args[i].args[j], sympy.LaplaceTransform):\n",
        "                            d = c.args[i].args[j].args[-1]\n",
        "            elif isinstance(c, sympy.Mul):\n",
        "                for i in range(len(c.args)):\n",
        "                    if isinstance(c.args[i], sympy.LaplaceTransform):\n",
        "                        d = c.args[i].args[-1]                   \n",
        "            elif isinstance(c, sympy.LaplaceTransform):\n",
        "                d = c.args[-1]\n",
        "            # else:\n",
        "            #     return ((-1)**n *sympy.diff(c, (s, n)))\n",
        "            \n",
        "            #return ((-1)**n *sympy.diff(c.subs(d, s), (s, n)).subs(s, d))\n",
        "            s_ = sympy.Symbol('s')\n",
        "\n",
        "            return (-1)**n *sympy.diff(c.subs(d, s_), (s_, n)).subs(s_, d)\n",
        "\n",
        "        elif isinstance(ex0, (sympy.Derivative, sympy.Integral)):\n",
        "                       \n",
        "            if isinstance(ex1, sympy.exp):\n",
        "                \n",
        "                c = []\n",
        "                for arg in ex1.args[0].args:\n",
        "                    if arg != t: c.append(arg)\n",
        "\n",
        "                d = reduce(lambda x, y: x *y, c)\n",
        "\n",
        "                return (laplace_transform_expansion(sympy.LaplaceTransform(ex0, t, s).subs(s, s -d)))       \n",
        "            \n",
        "        elif isinstance(ex0, sympy.Heaviside):          \n",
        "            \n",
        "            t, m_a = ex0.args[0].args\n",
        "            \n",
        "            if ex1.args[0] == t +m_a:\n",
        "                f = ex1.subs(t +m_a, t)\n",
        "                return (sympy.exp(m_a *s) *sympy.LaplaceTransform(f, t, s))\n",
        "            elif ex1.args[0] == t:\n",
        "                f = ex1.subs(t, t -m_a)\n",
        "                return (sympy.exp(m_a *s) *sympy.LaplaceTransform(f, t, s))\n",
        "            else:\n",
        "                return e\n",
        "        \n",
        "    if isinstance(e, (sympy.Add, sympy.Mul, \n",
        "       sympy.Derivative, sympy.Integral, sympy.Subs)):\n",
        "        tp = type(e)      \n",
        "        return tp(*[laplace_transform_expansion(arg) for arg in e.args])\n",
        "\n",
        "    return e"
      ],
      "id": "d520853e",
      "execution_count": null,
      "outputs": []
    },
    {
      "cell_type": "markdown",
      "metadata": {},
      "source": [
        "## Symbols and Functions"
      ],
      "id": "4052519c"
    },
    {
      "cell_type": "code",
      "metadata": {},
      "source": [
        "a, b = sympy.symbols(\"a, b\", positive=True, constant=True)\n",
        "n, m = sympy.symbols(\"n, m\", positive=True, constant=True, integer=True)\n",
        "\n",
        "t, tau, tau1, tau2 = sympy.symbols(\"t, tau, tau1, tau2\", positive=True)\n",
        "\n",
        "y = sympy.Function(\"y\")\n",
        "f = sympy.Function(\"f\")\n",
        "g = sympy.Function(\"g\")\n",
        "\n",
        "s = sympy.symbols(\"s\")\n",
        "\n",
        "Y = sympy.Function(\"Y\")\n",
        "F = sympy.Function(\"F\")\n",
        "G = sympy.Function(\"G\")\n",
        "\n",
        "Ly = laplace_transform_(y(t), t, s)\n",
        "Lf = laplace_transform_(f(t), t, s)\n",
        "Lg = laplace_transform_(g(t), t, s)"
      ],
      "id": "e56bafce",
      "execution_count": null,
      "outputs": []
    },
    {
      "cell_type": "markdown",
      "metadata": {},
      "source": [
        "## Laplace transform"
      ],
      "id": "0eeaae4c"
    },
    {
      "cell_type": "code",
      "metadata": {},
      "source": [
        "eq = 1\n",
        "Leq = laplace_transform_(eq, t, s)\n",
        "Leq"
      ],
      "id": "f60ebc7e",
      "execution_count": null,
      "outputs": []
    },
    {
      "cell_type": "code",
      "metadata": {},
      "source": [
        "eq = t\n",
        "Leq = laplace_transform_(eq, t, s)\n",
        "Leq"
      ],
      "id": "be2ceca0",
      "execution_count": null,
      "outputs": []
    },
    {
      "cell_type": "code",
      "metadata": {},
      "source": [
        "eq = sympy.exp(-3 *t)\n",
        "Leq = laplace_transform_(eq, t, s)\n",
        "Leq"
      ],
      "id": "81f3440b",
      "execution_count": null,
      "outputs": []
    },
    {
      "cell_type": "code",
      "metadata": {},
      "source": [
        "eq = 2 *sympy.Heaviside(t -3)\n",
        "Leq = laplace_transform_(eq, t, s)\n",
        "Leq"
      ],
      "id": "b18a6ce1",
      "execution_count": null,
      "outputs": []
    },
    {
      "cell_type": "code",
      "metadata": {},
      "source": [
        "eq = sympy.sin(2 *t)**2\n",
        "Leq = laplace_transform_(eq, t, s)\n",
        "Leq"
      ],
      "id": "9f8fb222",
      "execution_count": null,
      "outputs": []
    },
    {
      "cell_type": "markdown",
      "metadata": {},
      "source": [
        "## Inverse Laplace transform"
      ],
      "id": "1c4913af"
    },
    {
      "cell_type": "code",
      "metadata": {},
      "source": [
        "Leq = 1 / s**3\n",
        "eq = inverse_laplace_transform(Leq, s, t)\n",
        "eq"
      ],
      "id": "edd57d7a",
      "execution_count": null,
      "outputs": []
    },
    {
      "cell_type": "code",
      "metadata": {},
      "source": [
        "Leq = (-2 *s +6) / (s**2 + 4)\n",
        "eq = inverse_laplace_transform(Leq, s, t)\n",
        "eq"
      ],
      "id": "064850fe",
      "execution_count": null,
      "outputs": []
    },
    {
      "cell_type": "markdown",
      "metadata": {},
      "source": [
        "## Laplace transform of derivatives"
      ],
      "id": "e5957a20"
    },
    {
      "cell_type": "code",
      "metadata": {},
      "source": [
        "eq = y(t).diff(t, 2) +2 *y(t).diff(t) +10 *y(t)\n",
        "eq"
      ],
      "id": "42797b1b",
      "execution_count": null,
      "outputs": []
    },
    {
      "cell_type": "code",
      "metadata": {},
      "source": [
        "Leq = subs_(laplace_transform_(eq, t, s), Ly, Y(s))\n",
        "Leq"
      ],
      "id": "46a97d23",
      "execution_count": null,
      "outputs": []
    },
    {
      "cell_type": "code",
      "metadata": {},
      "source": [
        "ics = {y(0): 1, y(t).diff(t).subs(t, 0): 1}\n",
        "\n",
        "Leq = Leq.subs(ics)\n",
        "Leq"
      ],
      "id": "3250802b",
      "execution_count": null,
      "outputs": []
    },
    {
      "cell_type": "code",
      "metadata": {},
      "source": [
        "sol = sympy.solve(Leq, Y(s))[0]\n",
        "sol"
      ],
      "id": "9d56057c",
      "execution_count": null,
      "outputs": []
    },
    {
      "cell_type": "markdown",
      "metadata": {},
      "source": [
        "## Laplace transform of integrals"
      ],
      "id": "f743b87d"
    },
    {
      "cell_type": "code",
      "metadata": {},
      "source": [
        "eq = sympy.integrate(g(tau1), (tau1, 0, t)) +sympy.integrate(sympy.integrate(f(tau2), (tau2, 0, tau1)), (tau1, 0, t))\n",
        "eq"
      ],
      "id": "2ccb3d14",
      "execution_count": null,
      "outputs": []
    },
    {
      "cell_type": "code",
      "metadata": {},
      "source": [
        "Leq = subs_(laplace_transform_(eq, t, s), Lf, F(s))\n",
        "Leq = subs_(Leq, Lg, G(s))\n",
        "Leq"
      ],
      "id": "0e3a39d3",
      "execution_count": null,
      "outputs": []
    },
    {
      "cell_type": "markdown",
      "metadata": {},
      "source": [
        "## Convolution"
      ],
      "id": "fa09c729"
    },
    {
      "cell_type": "code",
      "metadata": {},
      "source": [
        "eq = sympy.integrate(f(tau)*g(t -tau), (tau, 0, t)) +sympy.integrate(f(t -tau)*g(tau), (tau, 0, t))\n",
        "eq"
      ],
      "id": "e62c6e76",
      "execution_count": null,
      "outputs": []
    },
    {
      "cell_type": "code",
      "metadata": {},
      "source": [
        "Leq = subs_(laplace_transform_(eq, t, s), Lf, F(s))\n",
        "Leq = subs_(Leq, Lg, G(s))\n",
        "Leq"
      ],
      "id": "6bab8c20",
      "execution_count": null,
      "outputs": []
    },
    {
      "cell_type": "markdown",
      "metadata": {},
      "source": [
        "## First translation theorem"
      ],
      "id": "2212d05a"
    },
    {
      "cell_type": "code",
      "metadata": {},
      "source": [
        "eq = y(t) *sympy.exp(-a *t)\n",
        "eq"
      ],
      "id": "61f55650",
      "execution_count": null,
      "outputs": []
    },
    {
      "cell_type": "code",
      "metadata": {},
      "source": [
        "Leq = subs_(laplace_transform_(eq, t, s), Ly, Y(s))\n",
        "Leq"
      ],
      "id": "e377255b",
      "execution_count": null,
      "outputs": []
    },
    {
      "cell_type": "markdown",
      "metadata": {},
      "source": [
        "## Second translation theorem"
      ],
      "id": "472a1dee"
    },
    {
      "cell_type": "code",
      "metadata": {},
      "source": [
        "eq = f(t -a) *sympy.Heaviside(t -a)\n",
        "eq"
      ],
      "id": "048e020c",
      "execution_count": null,
      "outputs": []
    },
    {
      "cell_type": "code",
      "metadata": {},
      "source": [
        "Leq = subs_(laplace_transform_(eq, t, s), Lf, F(s))\n",
        "Leq"
      ],
      "id": "dd5d8408",
      "execution_count": null,
      "outputs": []
    },
    {
      "cell_type": "code",
      "metadata": {},
      "source": [
        "eq = g(t) *sympy.Heaviside(t -a)\n",
        "eq"
      ],
      "id": "2c4bf677",
      "execution_count": null,
      "outputs": []
    },
    {
      "cell_type": "code",
      "metadata": {},
      "source": [
        "Leq = laplace_transform_(eq, t, s)\n",
        "Leq"
      ],
      "id": "bc557472",
      "execution_count": null,
      "outputs": []
    },
    {
      "cell_type": "code",
      "metadata": {},
      "source": [
        "eq = sympy.cos(t) *sympy.Heaviside(t -pi)\n",
        "eq"
      ],
      "id": "3b2dde3f",
      "execution_count": null,
      "outputs": []
    },
    {
      "cell_type": "code",
      "metadata": {},
      "source": [
        "Leq = laplace_transform_(eq, t, s)\n",
        "Leq"
      ],
      "id": "0d737046",
      "execution_count": null,
      "outputs": []
    },
    {
      "cell_type": "markdown",
      "metadata": {},
      "source": [
        "## Derivatives of Transforms"
      ],
      "id": "06dec3b9"
    },
    {
      "cell_type": "code",
      "metadata": {},
      "source": [
        "eq = 3 *f(t) *t**m *t**n\n",
        "eq"
      ],
      "id": "38f2ae68",
      "execution_count": null,
      "outputs": []
    },
    {
      "cell_type": "code",
      "metadata": {},
      "source": [
        "Leq = subs_(laplace_transform_(eq, t, s), Lf, F(s))\n",
        "Leq"
      ],
      "id": "826d486d",
      "execution_count": null,
      "outputs": []
    },
    {
      "cell_type": "code",
      "metadata": {},
      "source": [
        "eq =  t**n *t**m *f(t)*sympy.exp(-2*t)\n",
        "eq"
      ],
      "id": "87511b99",
      "execution_count": null,
      "outputs": []
    },
    {
      "cell_type": "code",
      "metadata": {},
      "source": [
        "Leq = subs_(laplace_transform_(eq, t, s), Lf, F(s))\n",
        "Leq"
      ],
      "id": "1c708cfe",
      "execution_count": null,
      "outputs": []
    },
    {
      "cell_type": "markdown",
      "metadata": {},
      "source": [
        "---"
      ],
      "id": "53a1715b"
    },
    {
      "cell_type": "code",
      "metadata": {},
      "source": [
        "eq = t**n *sympy.diff(f(t), t, t)\n",
        "eq"
      ],
      "id": "8e5d2ec3",
      "execution_count": null,
      "outputs": []
    },
    {
      "cell_type": "code",
      "metadata": {},
      "source": [
        "Leq = subs_(laplace_transform_(eq, t, s), Lf, F(s))\n",
        "Leq"
      ],
      "id": "89980db2",
      "execution_count": null,
      "outputs": []
    },
    {
      "cell_type": "code",
      "metadata": {},
      "source": [
        "eq = t *sympy.integrate(f(tau), (tau, 0, t))\n",
        "eq"
      ],
      "id": "181ce6e8",
      "execution_count": null,
      "outputs": []
    },
    {
      "cell_type": "code",
      "metadata": {},
      "source": [
        "Leq = subs_(laplace_transform_(eq, t, s), Lf, F(s))\n",
        "Leq.doit()"
      ],
      "id": "3d7583b6",
      "execution_count": null,
      "outputs": []
    },
    {
      "cell_type": "markdown",
      "metadata": {},
      "source": [
        "---"
      ],
      "id": "729107ad"
    },
    {
      "cell_type": "code",
      "metadata": {},
      "source": [
        "eq = t *f(t) *sympy.exp(-t)\n",
        "eq"
      ],
      "id": "aa17a6a2",
      "execution_count": null,
      "outputs": []
    },
    {
      "cell_type": "code",
      "metadata": {},
      "source": [
        "Leq = subs_(laplace_transform_(eq, t, s), Lf, F(s))\n",
        "Leq"
      ],
      "id": "9e3c7f91",
      "execution_count": null,
      "outputs": []
    },
    {
      "cell_type": "markdown",
      "metadata": {},
      "source": [
        "---"
      ],
      "id": "c86497df"
    },
    {
      "cell_type": "code",
      "metadata": {},
      "source": [
        "eq = t *sympy.diff(f(t), t) *sympy.exp(-4*t)\n",
        "eq"
      ],
      "id": "f6eae09f",
      "execution_count": null,
      "outputs": []
    },
    {
      "cell_type": "code",
      "metadata": {},
      "source": [
        "Leq = subs_(laplace_transform_(eq, t, s), Lf, F(s))\n",
        "Leq"
      ],
      "id": "92228440",
      "execution_count": null,
      "outputs": []
    },
    {
      "cell_type": "markdown",
      "metadata": {},
      "source": [
        "## Various Transform Examples"
      ],
      "id": "34d0b2fd"
    },
    {
      "cell_type": "code",
      "metadata": {},
      "source": [
        "eq = sympy.exp(-a*t) *sympy.diff(f(t), t, t)\n",
        "eq"
      ],
      "id": "72290548",
      "execution_count": null,
      "outputs": []
    },
    {
      "cell_type": "code",
      "metadata": {},
      "source": [
        "Leq = subs_(laplace_transform_(eq, t, s), Lf, F(s))\n",
        "Leq"
      ],
      "id": "cdfa7ba2",
      "execution_count": null,
      "outputs": []
    },
    {
      "cell_type": "markdown",
      "metadata": {},
      "source": [
        "---"
      ],
      "id": "8cad1b58"
    },
    {
      "cell_type": "code",
      "metadata": {},
      "source": [
        "eq = sympy.exp(-4*t) *sympy.integrate(f(tau), (tau, 0, t))\n",
        "eq"
      ],
      "id": "de1c59d9",
      "execution_count": null,
      "outputs": []
    },
    {
      "cell_type": "code",
      "metadata": {},
      "source": [
        "Leq = subs_(laplace_transform_(eq, t, s), Lf, F(s))\n",
        "Leq"
      ],
      "id": "d5681aa8",
      "execution_count": null,
      "outputs": []
    },
    {
      "cell_type": "markdown",
      "metadata": {},
      "source": [
        "---"
      ],
      "id": "393033a1"
    },
    {
      "cell_type": "code",
      "metadata": {},
      "source": [
        "eq = f(3*a*t)\n",
        "eq"
      ],
      "id": "1a03ee5a",
      "execution_count": null,
      "outputs": []
    },
    {
      "cell_type": "code",
      "metadata": {},
      "source": [
        "Leq = subs_(laplace_transform_(eq, t, s), Lf, F(s))\n",
        "Leq"
      ],
      "id": "ebe5bce5",
      "execution_count": null,
      "outputs": []
    },
    {
      "cell_type": "markdown",
      "metadata": {},
      "source": [
        "$~$\n",
        "\n",
        "## **Example 1**\n",
        "\n",
        "A technique that can be used to solve certain ODE problems is to Laplace transform the ODE, which for many problems results in an algebraic equation that is easier to solve. The solution to the algebraic equation can then be transformed back to the original domain with an inverse Laplace transform, to obtain the solution to the original problem. For example, consider the following differential equation for a driven harmonic oscillator:\n",
        "\n",
        "$$ \\frac{d^2 y}{dt^2} + 2\\frac{dy}{dt} +10 y = 2\\sin 3t $$\n",
        "\n",
        "$~$"
      ],
      "id": "b01ba128"
    },
    {
      "cell_type": "code",
      "metadata": {},
      "source": [
        "t = sympy.symbols('t', positive=True)\n",
        "y = sympy.Function('y')\n",
        "\n",
        "s = sympy.symbols('s', real=True)\n",
        "Y = sympy.Function('Y')\n",
        "\n",
        "Ly = laplace_transform_(y(t), t, s) "
      ],
      "id": "e67f28d1",
      "execution_count": null,
      "outputs": []
    },
    {
      "cell_type": "code",
      "metadata": {},
      "source": [
        "ode = y(t).diff(t, 2) +2 *y(t).diff(t) +10 *y(t) -2 *sympy.sin(3*t)\n",
        "ode"
      ],
      "id": "d5f01eed",
      "execution_count": null,
      "outputs": []
    },
    {
      "cell_type": "code",
      "metadata": {},
      "source": [
        "Lode = subs_(laplace_transform_(ode, t, s), Ly, Y(s))\n",
        "Lode"
      ],
      "id": "c272fb08",
      "execution_count": null,
      "outputs": []
    },
    {
      "cell_type": "markdown",
      "metadata": {},
      "source": [
        "* At this point, we need to specify the initial conditions for the ODE problem. Here we use \n",
        "$y(0)=1$ and $y'(0)=0$, and after creating dictionary that contains these initial conditions, we use it to substitute the values into the Laplace-transformed ODE equation:"
      ],
      "id": "a2225a29"
    },
    {
      "cell_type": "code",
      "metadata": {},
      "source": [
        "ics = {y(0): 1, y(t).diff(t).subs(t, 0): 0}\n",
        "Lode = Lode.subs(ics)\n",
        "Lode"
      ],
      "id": "a9732460",
      "execution_count": null,
      "outputs": []
    },
    {
      "cell_type": "markdown",
      "metadata": {},
      "source": [
        "* This is an algebraic equation that can be solved for $Y(s)$"
      ],
      "id": "74684707"
    },
    {
      "cell_type": "code",
      "metadata": {},
      "source": [
        "Ysol = sympy.solve(Lode, Y(s))\n",
        "Ysol[0]"
      ],
      "id": "f199732d",
      "execution_count": null,
      "outputs": []
    },
    {
      "cell_type": "markdown",
      "metadata": {},
      "source": [
        "* The result is a list of solutions, which in this case contains only one element. Performing the inverse Laplace transformation on this expression gives the solution to the original problem in the time domain:"
      ],
      "id": "5981945e"
    },
    {
      "cell_type": "code",
      "metadata": {},
      "source": [
        "Yp = sympy.apart(Ysol[0])\n",
        "Yp"
      ],
      "id": "0d7a77d5",
      "execution_count": null,
      "outputs": []
    },
    {
      "cell_type": "code",
      "metadata": {},
      "source": [
        "ysol = sympy.inverse_laplace_transform(Yp.args[0], s, t) +sympy.inverse_laplace_transform(Yp.args[1], s, t)\n",
        "ysol"
      ],
      "id": "ad54f1b2",
      "execution_count": null,
      "outputs": []
    },
    {
      "cell_type": "markdown",
      "metadata": {},
      "source": [
        "## **Example 2**\n",
        "\n",
        "In some instances, the Laplace transform can be used to solve linear differential equations with variable monomial coefficients \n",
        "\n",
        "$$ty'' + y' +ty =0, \\;\\;y(0)=1, \\;y'(0)=0$$\n",
        "\n",
        "$~$"
      ],
      "id": "1ba7d54b"
    },
    {
      "cell_type": "code",
      "metadata": {},
      "source": [
        "s, t = sympy.symbols('s, t', positive=True)\n",
        "\n",
        "y = sympy.Function('y')\n",
        "Y  = sympy.Function('Y')\n",
        "Ly = laplace_transform_(y(t), t, s)\n",
        "\n",
        "ode = t *y(t).diff(t, 2) +y(t).diff(t) +t *y(t)\n",
        "ode"
      ],
      "id": "87f906fc",
      "execution_count": null,
      "outputs": []
    },
    {
      "cell_type": "markdown",
      "metadata": {},
      "source": [
        "$~$\n",
        "\n",
        "* Reduce the given differential equation to a linear first-order DE in the transformed function $Y(s)=\\mathcal{L}_t\\left[y(t)\\right]$"
      ],
      "id": "d0f79ed1"
    },
    {
      "cell_type": "code",
      "metadata": {},
      "source": [
        "ics={y(0): 1, y(t).diff(t).subs(t, 0): 0}\n",
        "\n",
        "Lode = subs_(laplace_transform_(ode, t, s).subs(ics), Ly, Y(s))\n",
        "Lode.doit().collect(Y(s).diff(s))"
      ],
      "id": "4da67550",
      "execution_count": null,
      "outputs": []
    },
    {
      "cell_type": "markdown",
      "metadata": {},
      "source": [
        "* Solve the first-order ODE for $Y(s)$ and then find $y(t)=\\mathcal{L}_t^{-1} \\left[Y(s) \\right]$"
      ],
      "id": "48618957"
    },
    {
      "cell_type": "code",
      "metadata": {},
      "source": [
        "sol = sympy.dsolve(Lode, Y(s), hint='separable')\n",
        "sol"
      ],
      "id": "0e5facb7",
      "execution_count": null,
      "outputs": []
    },
    {
      "cell_type": "code",
      "metadata": {},
      "source": [
        "y = inverse_laplace_transform(sol.rhs, s, t)\n",
        "y"
      ],
      "id": "ede60b58",
      "execution_count": null,
      "outputs": []
    },
    {
      "cell_type": "code",
      "metadata": {},
      "source": [
        "c = sympy.Eq(y.subs(t, 0), 1)\n",
        "c"
      ],
      "id": "a296bee6",
      "execution_count": null,
      "outputs": []
    },
    {
      "cell_type": "code",
      "metadata": {},
      "source": [
        "y = y.subs(c.lhs, c.rhs)\n",
        "y"
      ],
      "id": "873af79a",
      "execution_count": null,
      "outputs": []
    }
  ],
  "metadata": {
    "kernelspec": {
      "name": "python3",
      "language": "python",
      "display_name": "Python 3 (ipykernel)",
      "path": "/opt/miniconda3/share/jupyter/kernels/python3"
    }
  },
  "nbformat": 4,
  "nbformat_minor": 5
}