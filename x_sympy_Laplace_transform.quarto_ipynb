{
  "cells": [
    {
      "cell_type": "markdown",
      "metadata": {},
      "source": [
        "---\n",
        "jupyter: python3\n",
        "---\n",
        "\n",
        "# Sympy: Laplace Transform {#sec-sympy-Laplace-transform}\n",
        "\n",
        "## Importing sympy"
      ],
      "id": "39a0aa72"
    },
    {
      "cell_type": "code",
      "metadata": {},
      "source": [
        "import sympy\n",
        "from sympy import laplace_transform, inverse_laplace_transform, pi\n",
        "sympy.init_printing()\n",
        "\n",
        "from IPython.display import display\n",
        "\n",
        "print(\"sympy: \", sympy.__version__)"
      ],
      "id": "716c8834",
      "execution_count": null,
      "outputs": []
    },
    {
      "cell_type": "markdown",
      "metadata": {},
      "source": [
        "* [_laplace_trabsform_expansion.py](_laplace_transform_expansion.py)\n",
        "\n",
        "  * `laplace_tranform_()` is the expanded version of `laplace_transform()`\n",
        "\n",
        "  * `subs_()` is the modified function of `sub()` method\n"
      ],
      "id": "fa5bed12"
    },
    {
      "cell_type": "code",
      "metadata": {},
      "source": [
        "#| echo: false\n",
        "# Process Systems Lab., SeoulTech\n",
        "# April 15, 2021 Authored by Kee-Youn Yoo\n",
        "# April 4, 2024 Modifed for sympy version 1.12\n",
        "\n",
        "import sympy\n",
        "from sympy import integrate, laplace_transform\n",
        "from functools import reduce\n",
        "\n",
        "def subs_(e, s1, s2):\n",
        "\n",
        "    if isinstance(e, sympy.LaplaceTransform):\n",
        "        s_ = e.args[2]\n",
        "        return e.subs(s_, s).subs(s1, s2).subs(s, s_)\n",
        "\n",
        "    if isinstance(e, (sympy.Add, sympy.Mul, \n",
        "                      sympy.Derivative, sympy.Integral, sympy.Subs)):\n",
        "        tp = type(e)      \n",
        "        return tp(*[subs_(arg, s1, s2) for arg in e.args])\n",
        "\n",
        "    return e\n",
        "\n",
        "\n",
        "def laplace_transform_(*e, **f):\n",
        "    \n",
        "    t_ = e[1]\n",
        "    \n",
        "    if isinstance(e[0], (int, float)):\n",
        "        return laplace_transform(*e, **f)[0]\n",
        "\n",
        "    k = len(e[0].args)\n",
        "    \n",
        "    terms = []\n",
        "    for i in range(k):\n",
        "        if  k == 1:\n",
        "            terms.append(e[0])\n",
        "        else:\n",
        "            if isinstance(e[0], (sympy.Mul, sympy.Derivative, sympy.Integral)):\n",
        "                terms.append(e[0])\n",
        "                break\n",
        "            else:\n",
        "                terms.append(e[0].args[i])\n",
        "    \n",
        "    m = len(terms)\n",
        "    if m == 0:\n",
        "        return laplace_transform(*e, **f)[0]\n",
        "    \n",
        "    Leq = sympy.Float('0')\n",
        "    for i in range(m):\n",
        "\n",
        "        flag = 0\n",
        "        l = len(terms[i].args) \n",
        "        if l == 1:\n",
        "            terms__ = terms[i]\n",
        "        else:\n",
        "            terms__ = sympy.Integer('1')\n",
        "            for j in range(l):\n",
        "                if isinstance(terms[i], (sympy.Derivative, sympy.Integral)):\n",
        "                    terms__ = terms[i]\n",
        "                    break\n",
        "                else: \n",
        "                    if isinstance(terms[i].args[j], sympy.exp):\n",
        "                        a = terms[i].args[j].args[0].args\n",
        "                        if len(a) == 2:\n",
        "                            flag = a[0]\n",
        "                        else:\n",
        "                            flag = a[0] *a[2]                                                         \n",
        "                    else:\n",
        "                        terms__ *= terms[i].args[j]\n",
        "\n",
        "        Leq_ = laplace_transform_expansion(laplace_transform(terms__, e[1], e[2], **f)[0])\n",
        "\n",
        "        if flag != 0: \n",
        "            Leq_ = Leq_.subs(e[2], e[2] -flag)\n",
        "\n",
        "        Leq += Leq_\n",
        "\n",
        "    return Leq.doit()\n",
        "\n",
        "\n",
        "def laplace_transform_expansion(e):\n",
        "    \"\"\"\n",
        "    Evaluate the laplace transforms of derivatives, integrals, and composites of functions\n",
        "    \"\"\"       \n",
        "    \n",
        "    if isinstance(e, sympy.LaplaceTransform):\n",
        "        \n",
        "        ex, t, s = e.args\n",
        "        \n",
        "        # Preliminaries --------------------------\n",
        "\n",
        "        if len(ex.args) == 1: \n",
        "           \n",
        "            c = []\n",
        "            for arg in ex.args[0].args:\n",
        "                if arg != t: c.append(arg)\n",
        "                    \n",
        "            if len(c) == 0:\n",
        "                return e\n",
        "            else:\n",
        "                d = reduce(lambda x, y: x *y, c)\n",
        "                #return (sympy.LaplaceTransform(ex.subs(d *t, t), t, s/d) /d)\n",
        "                return (sympy.LaplaceTransform(ex.subs(d *t, t), t, s))\n",
        "               \n",
        "        if isinstance(ex.args[0], sympy.Pow): \n",
        "            ex = sympy.simplify(ex)\n",
        "            \n",
        "        ex0 = ex.args[0]           \n",
        "        if not isinstance(ex, sympy.Integral):\n",
        "            ex1 = reduce(lambda x, y: x *y, ex.args[1:])\n",
        "           \n",
        "        # -----------------------------------------            \n",
        "      \n",
        "        if isinstance(ex, sympy.Derivative):\n",
        "\n",
        "            n = ex1.args[1]           \n",
        "            return ((s**n) *sympy.LaplaceTransform(ex0, t, s)\n",
        "                    -sum([s**(n -i) *sympy.diff(ex0, t, i -1).subs(t, 0) for i in range(1, n +1)]))\n",
        "        \n",
        "        elif isinstance(ex, sympy.Integral):        \n",
        "            \n",
        "            if len(ex.args[1]) == 3:\n",
        "\n",
        "                tau, t0, t = ex.args[-1]\n",
        "                if t0 != 0: return e                \n",
        "                       \n",
        "                if len(ex0.args) == 2:\n",
        "               \n",
        "                    f, g = ex0.args[0], ex0.args[1]\n",
        "                \n",
        "                    if f.args[0] == tau and g.args[0] == t -tau:           \n",
        "                        return (sympy.LaplaceTransform(f, tau, s).subs(tau, t) \n",
        "                               *sympy.LaplaceTransform(g, t -tau, s)).subs(t -tau, t)\n",
        "                    elif f.args[0] == t -tau and g.args[0] == tau:\n",
        "                        return (sympy.LaplaceTransform(f, t -tau, s).subs(t -tau, t) \n",
        "                               *sympy.LaplaceTransform(g, tau, s)).subs(tau, t)\n",
        "                    else:\n",
        "                        return e\n",
        "                    \n",
        "                else:\n",
        "                    n = len(ex.args) -2\n",
        "                    if n > 0:\n",
        "                        for i in range(n):\n",
        "                            tau_, t0_, t_ = ex.args[i +1]\n",
        "                            ex0 = integrate(ex0, (tau_, 0, t_))\n",
        "                        ex0 = ex0.subs(tau_, t).subs(t_, t)\n",
        "                    else:\n",
        "                        ex0 = ex0.subs(tau, t)\n",
        "                        \n",
        "                    return (laplace_transform_expansion(sympy.LaplaceTransform(ex0, t, s)) /s)\n",
        "            else:\n",
        "                return e\n",
        "\n",
        "        elif isinstance(ex0, sympy.exp):         \n",
        "\n",
        "            c = []\n",
        "            for arg in ex0.args[0].args:\n",
        "                if arg != t: c.append(arg)\n",
        "\n",
        "            d = reduce(lambda x, y: x *y, c)\n",
        "                       \n",
        "            if ex0 == sympy.exp(d *t):\n",
        "                return (laplace_transform_expansion(sympy.LaplaceTransform(ex1, t, s)).subs(s, s -d))\n",
        "            else:\n",
        "                return e                \n",
        "        \n",
        "        elif isinstance(ex0, sympy.Pow) or ex0 == t:  \n",
        "            \n",
        "            if ex0 == t:\n",
        "                n = 1\n",
        "            else:\n",
        "                n = ex0.args[1]\n",
        "                if not n.is_integer: return e\n",
        "                      \n",
        "            c = laplace_transform_expansion(sympy.LaplaceTransform(ex1, t, s))\n",
        "            \n",
        "            if isinstance(c, sympy.Add):\n",
        "                for i in range(len(c.args)):\n",
        "                    for j in range(len(c.args[i].args)):\n",
        "                        if isinstance(c.args[i].args[j], sympy.LaplaceTransform):\n",
        "                            d = c.args[i].args[j].args[-1]\n",
        "            elif isinstance(c, sympy.Mul):\n",
        "                for i in range(len(c.args)):\n",
        "                    if isinstance(c.args[i], sympy.LaplaceTransform):\n",
        "                        d = c.args[i].args[-1]                   \n",
        "            elif isinstance(c, sympy.LaplaceTransform):\n",
        "                d = c.args[-1]\n",
        "            # else:\n",
        "            #     return ((-1)**n *sympy.diff(c, (s, n)))\n",
        "            \n",
        "            #return ((-1)**n *sympy.diff(c.subs(d, s), (s, n)).subs(s, d))\n",
        "            s_ = sympy.Symbol('s')\n",
        "\n",
        "            return (-1)**n *sympy.diff(c.subs(d, s_), (s_, n)).subs(s_, d)\n",
        "\n",
        "        elif isinstance(ex0, (sympy.Derivative, sympy.Integral)):\n",
        "                       \n",
        "            if isinstance(ex1, sympy.exp):\n",
        "                \n",
        "                c = []\n",
        "                for arg in ex1.args[0].args:\n",
        "                    if arg != t: c.append(arg)\n",
        "\n",
        "                d = reduce(lambda x, y: x *y, c)\n",
        "\n",
        "                return (laplace_transform_expansion(sympy.LaplaceTransform(ex0, t, s).subs(s, s -d)))       \n",
        "            \n",
        "        elif isinstance(ex0, sympy.Heaviside):          \n",
        "            \n",
        "            t, m_a = ex0.args[0].args\n",
        "            \n",
        "            if ex1.args[0] == t +m_a:\n",
        "                f = ex1.subs(t +m_a, t)\n",
        "                return (sympy.exp(m_a *s) *sympy.LaplaceTransform(f, t, s))\n",
        "            elif ex1.args[0] == t:\n",
        "                f = ex1.subs(t, t -m_a)\n",
        "                return (sympy.exp(m_a *s) *sympy.LaplaceTransform(f, t, s))\n",
        "            else:\n",
        "                return e\n",
        "        \n",
        "    if isinstance(e, (sympy.Add, sympy.Mul, \n",
        "       sympy.Derivative, sympy.Integral, sympy.Subs)):\n",
        "        tp = type(e)      \n",
        "        return tp(*[laplace_transform_expansion(arg) for arg in e.args])\n",
        "\n",
        "    return e"
      ],
      "id": "2b4078ad",
      "execution_count": null,
      "outputs": []
    },
    {
      "cell_type": "markdown",
      "metadata": {},
      "source": [
        "## Symbols and Functions"
      ],
      "id": "bb31ac4d"
    },
    {
      "cell_type": "code",
      "metadata": {},
      "source": [
        "a, b = sympy.symbols(\"a, b\", positive=True, constant=True)\n",
        "n, m = sympy.symbols(\"n, m\", positive=True, constant=True, integer=True)\n",
        "\n",
        "t, tau, tau1, tau2 = sympy.symbols(\"t, tau, tau1, tau2\", positive=True)\n",
        "\n",
        "y = sympy.Function(\"y\")\n",
        "f = sympy.Function(\"f\")\n",
        "g = sympy.Function(\"g\")\n",
        "\n",
        "s = sympy.symbols(\"s\")\n",
        "\n",
        "Y = sympy.Function(\"Y\")\n",
        "F = sympy.Function(\"F\")\n",
        "G = sympy.Function(\"G\")\n",
        "\n",
        "Ly = laplace_transform_(y(t), t, s)\n",
        "Lf = laplace_transform_(f(t), t, s)\n",
        "Lg = laplace_transform_(g(t), t, s)"
      ],
      "id": "35e8d94d",
      "execution_count": null,
      "outputs": []
    },
    {
      "cell_type": "markdown",
      "metadata": {},
      "source": [
        "## Laplace transform"
      ],
      "id": "8bea9b1f"
    },
    {
      "cell_type": "code",
      "metadata": {},
      "source": [
        "eq = 1\n",
        "Leq = laplace_transform_(eq, t, s)\n",
        "Leq"
      ],
      "id": "bef737d0",
      "execution_count": null,
      "outputs": []
    },
    {
      "cell_type": "code",
      "metadata": {},
      "source": [
        "eq = t\n",
        "Leq = laplace_transform_(eq, t, s)\n",
        "Leq"
      ],
      "id": "cba02df4",
      "execution_count": null,
      "outputs": []
    },
    {
      "cell_type": "code",
      "metadata": {},
      "source": [
        "eq = sympy.exp(-3 *t)\n",
        "Leq = laplace_transform_(eq, t, s)\n",
        "Leq"
      ],
      "id": "42882952",
      "execution_count": null,
      "outputs": []
    },
    {
      "cell_type": "code",
      "metadata": {},
      "source": [
        "eq = 2 *sympy.Heaviside(t -3)\n",
        "Leq = laplace_transform_(eq, t, s)\n",
        "Leq"
      ],
      "id": "3a6f4d2f",
      "execution_count": null,
      "outputs": []
    },
    {
      "cell_type": "code",
      "metadata": {},
      "source": [
        "eq = sympy.sin(2 *t)**2\n",
        "Leq = laplace_transform_(eq, t, s)\n",
        "Leq"
      ],
      "id": "b3daa867",
      "execution_count": null,
      "outputs": []
    },
    {
      "cell_type": "markdown",
      "metadata": {},
      "source": [
        "## Inverse Laplace transform"
      ],
      "id": "2d08c5c9"
    },
    {
      "cell_type": "code",
      "metadata": {},
      "source": [
        "Leq = 1 / s**3\n",
        "eq = inverse_laplace_transform(Leq, s, t)\n",
        "eq"
      ],
      "id": "438195d8",
      "execution_count": null,
      "outputs": []
    },
    {
      "cell_type": "code",
      "metadata": {},
      "source": [
        "Leq = (-2 *s +6) / (s**2 + 4)\n",
        "eq = inverse_laplace_transform(Leq, s, t)\n",
        "eq"
      ],
      "id": "65b049a4",
      "execution_count": null,
      "outputs": []
    },
    {
      "cell_type": "markdown",
      "metadata": {},
      "source": [
        "## Laplace transform of derivatives"
      ],
      "id": "ca5b8f55"
    },
    {
      "cell_type": "code",
      "metadata": {},
      "source": [
        "eq = y(t).diff(t, 2) +2 *y(t).diff(t) +10 *y(t)\n",
        "eq"
      ],
      "id": "696db224",
      "execution_count": null,
      "outputs": []
    },
    {
      "cell_type": "code",
      "metadata": {},
      "source": [
        "Leq = subs_(laplace_transform_(eq, t, s), Ly, Y(s))\n",
        "Leq"
      ],
      "id": "2255dff2",
      "execution_count": null,
      "outputs": []
    },
    {
      "cell_type": "code",
      "metadata": {},
      "source": [
        "ics = {y(0): 1, y(t).diff(t).subs(t, 0): 1}\n",
        "\n",
        "Leq = Leq.subs(ics)\n",
        "Leq"
      ],
      "id": "c22244c6",
      "execution_count": null,
      "outputs": []
    },
    {
      "cell_type": "code",
      "metadata": {},
      "source": [
        "sol = sympy.solve(Leq, Y(s))[0]\n",
        "sol"
      ],
      "id": "fc355cc4",
      "execution_count": null,
      "outputs": []
    },
    {
      "cell_type": "markdown",
      "metadata": {},
      "source": [
        "## Laplace transform of integrals"
      ],
      "id": "17fb0c9c"
    },
    {
      "cell_type": "code",
      "metadata": {},
      "source": [
        "eq = sympy.integrate(g(tau1), (tau1, 0, t)) +sympy.integrate(sympy.integrate(f(tau2), (tau2, 0, tau1)), (tau1, 0, t))\n",
        "eq"
      ],
      "id": "d02a235d",
      "execution_count": null,
      "outputs": []
    },
    {
      "cell_type": "code",
      "metadata": {},
      "source": [
        "Leq = subs_(laplace_transform_(eq, t, s), Lf, F(s))\n",
        "Leq = subs_(Leq, Lg, G(s))\n",
        "Leq"
      ],
      "id": "45bda41a",
      "execution_count": null,
      "outputs": []
    },
    {
      "cell_type": "markdown",
      "metadata": {},
      "source": [
        "## Convolution"
      ],
      "id": "95d49ee1"
    },
    {
      "cell_type": "code",
      "metadata": {},
      "source": [
        "eq = sympy.integrate(f(tau)*g(t -tau), (tau, 0, t)) +sympy.integrate(f(t -tau)*g(tau), (tau, 0, t))\n",
        "eq"
      ],
      "id": "2bc437f3",
      "execution_count": null,
      "outputs": []
    },
    {
      "cell_type": "code",
      "metadata": {},
      "source": [
        "Leq = subs_(laplace_transform_(eq, t, s), Lf, F(s))\n",
        "Leq = subs_(Leq, Lg, G(s))\n",
        "Leq"
      ],
      "id": "10466af7",
      "execution_count": null,
      "outputs": []
    },
    {
      "cell_type": "markdown",
      "metadata": {},
      "source": [
        "## First translation theorem"
      ],
      "id": "303344e6"
    },
    {
      "cell_type": "code",
      "metadata": {},
      "source": [
        "eq = y(t) *sympy.exp(-a *t)\n",
        "eq"
      ],
      "id": "f229b93a",
      "execution_count": null,
      "outputs": []
    },
    {
      "cell_type": "code",
      "metadata": {},
      "source": [
        "Leq = subs_(laplace_transform_(eq, t, s), Ly, Y(s))\n",
        "Leq"
      ],
      "id": "88bfaf76",
      "execution_count": null,
      "outputs": []
    },
    {
      "cell_type": "markdown",
      "metadata": {},
      "source": [
        "## Second translation theorem"
      ],
      "id": "fe3bce58"
    },
    {
      "cell_type": "code",
      "metadata": {},
      "source": [
        "eq = f(t -a) *sympy.Heaviside(t -a)\n",
        "eq"
      ],
      "id": "25b72a74",
      "execution_count": null,
      "outputs": []
    },
    {
      "cell_type": "code",
      "metadata": {},
      "source": [
        "Leq = subs_(laplace_transform_(eq, t, s), Lf, F(s))\n",
        "Leq"
      ],
      "id": "91e3b2b5",
      "execution_count": null,
      "outputs": []
    },
    {
      "cell_type": "code",
      "metadata": {},
      "source": [
        "eq = g(t) *sympy.Heaviside(t -a)\n",
        "eq"
      ],
      "id": "10c429b1",
      "execution_count": null,
      "outputs": []
    },
    {
      "cell_type": "code",
      "metadata": {},
      "source": [
        "Leq = laplace_transform_(eq, t, s)\n",
        "Leq"
      ],
      "id": "8fa4e6a9",
      "execution_count": null,
      "outputs": []
    },
    {
      "cell_type": "code",
      "metadata": {},
      "source": [
        "eq = sympy.cos(t) *sympy.Heaviside(t -pi)\n",
        "eq"
      ],
      "id": "f1521045",
      "execution_count": null,
      "outputs": []
    },
    {
      "cell_type": "code",
      "metadata": {},
      "source": [
        "Leq = laplace_transform_(eq, t, s)\n",
        "Leq"
      ],
      "id": "2829d6a4",
      "execution_count": null,
      "outputs": []
    },
    {
      "cell_type": "markdown",
      "metadata": {},
      "source": [
        "## Derivatives of Transforms"
      ],
      "id": "0908d7e0"
    },
    {
      "cell_type": "code",
      "metadata": {},
      "source": [
        "eq = 3 *f(t) *t**m *t**n\n",
        "eq"
      ],
      "id": "666ce491",
      "execution_count": null,
      "outputs": []
    },
    {
      "cell_type": "code",
      "metadata": {},
      "source": [
        "Leq = subs_(laplace_transform_(eq, t, s), Lf, F(s))\n",
        "Leq"
      ],
      "id": "b251561c",
      "execution_count": null,
      "outputs": []
    },
    {
      "cell_type": "code",
      "metadata": {},
      "source": [
        "eq =  t**n *t**m *f(t)*sympy.exp(-2*t)\n",
        "eq"
      ],
      "id": "c06f2866",
      "execution_count": null,
      "outputs": []
    },
    {
      "cell_type": "code",
      "metadata": {},
      "source": [
        "Leq = subs_(laplace_transform_(eq, t, s), Lf, F(s))\n",
        "Leq"
      ],
      "id": "f50361a7",
      "execution_count": null,
      "outputs": []
    },
    {
      "cell_type": "markdown",
      "metadata": {},
      "source": [
        "---"
      ],
      "id": "57b29a90"
    },
    {
      "cell_type": "code",
      "metadata": {},
      "source": [
        "eq = t**n *sympy.diff(f(t), t, t)\n",
        "eq"
      ],
      "id": "7e8daa13",
      "execution_count": null,
      "outputs": []
    },
    {
      "cell_type": "code",
      "metadata": {},
      "source": [
        "Leq = subs_(laplace_transform_(eq, t, s), Lf, F(s))\n",
        "Leq"
      ],
      "id": "7134ea77",
      "execution_count": null,
      "outputs": []
    },
    {
      "cell_type": "code",
      "metadata": {},
      "source": [
        "eq = t *sympy.integrate(f(tau), (tau, 0, t))\n",
        "eq"
      ],
      "id": "a2628bf3",
      "execution_count": null,
      "outputs": []
    },
    {
      "cell_type": "code",
      "metadata": {},
      "source": [
        "Leq = subs_(laplace_transform_(eq, t, s), Lf, F(s))\n",
        "Leq.doit()"
      ],
      "id": "1ce70c94",
      "execution_count": null,
      "outputs": []
    },
    {
      "cell_type": "markdown",
      "metadata": {},
      "source": [
        "---"
      ],
      "id": "9efebc7e"
    },
    {
      "cell_type": "code",
      "metadata": {},
      "source": [
        "eq = t *f(t) *sympy.exp(-t)\n",
        "eq"
      ],
      "id": "bf2e4f39",
      "execution_count": null,
      "outputs": []
    },
    {
      "cell_type": "code",
      "metadata": {},
      "source": [
        "Leq = subs_(laplace_transform_(eq, t, s), Lf, F(s))\n",
        "Leq"
      ],
      "id": "bfcbdcf0",
      "execution_count": null,
      "outputs": []
    },
    {
      "cell_type": "markdown",
      "metadata": {},
      "source": [
        "---"
      ],
      "id": "b8b8146b"
    },
    {
      "cell_type": "code",
      "metadata": {},
      "source": [
        "eq = t *sympy.diff(f(t), t) *sympy.exp(-4*t)\n",
        "eq"
      ],
      "id": "80619aac",
      "execution_count": null,
      "outputs": []
    },
    {
      "cell_type": "code",
      "metadata": {},
      "source": [
        "Leq = subs_(laplace_transform_(eq, t, s), Lf, F(s))\n",
        "Leq"
      ],
      "id": "2e9e58f9",
      "execution_count": null,
      "outputs": []
    },
    {
      "cell_type": "markdown",
      "metadata": {},
      "source": [
        "## Various Transform Examples"
      ],
      "id": "8bca7ee2"
    },
    {
      "cell_type": "code",
      "metadata": {},
      "source": [
        "eq = sympy.exp(-a*t) *sympy.diff(f(t), t, t)\n",
        "eq"
      ],
      "id": "380ae088",
      "execution_count": null,
      "outputs": []
    },
    {
      "cell_type": "code",
      "metadata": {},
      "source": [
        "Leq = subs_(laplace_transform_(eq, t, s), Lf, F(s))\n",
        "Leq"
      ],
      "id": "0b5db7c4",
      "execution_count": null,
      "outputs": []
    },
    {
      "cell_type": "markdown",
      "metadata": {},
      "source": [
        "---"
      ],
      "id": "c6eb5e7b"
    },
    {
      "cell_type": "code",
      "metadata": {},
      "source": [
        "eq = sympy.exp(-4*t) *sympy.integrate(f(tau), (tau, 0, t))\n",
        "eq"
      ],
      "id": "befc0e49",
      "execution_count": null,
      "outputs": []
    },
    {
      "cell_type": "code",
      "metadata": {},
      "source": [
        "Leq = subs_(laplace_transform_(eq, t, s), Lf, F(s))\n",
        "Leq"
      ],
      "id": "c3ef0cec",
      "execution_count": null,
      "outputs": []
    },
    {
      "cell_type": "markdown",
      "metadata": {},
      "source": [
        "---"
      ],
      "id": "4bd16269"
    },
    {
      "cell_type": "code",
      "metadata": {},
      "source": [
        "eq = f(3*a*t)\n",
        "eq"
      ],
      "id": "261dc6c5",
      "execution_count": null,
      "outputs": []
    },
    {
      "cell_type": "code",
      "metadata": {},
      "source": [
        "Leq = subs_(laplace_transform_(eq, t, s), Lf, F(s))\n",
        "Leq"
      ],
      "id": "17ea3888",
      "execution_count": null,
      "outputs": []
    },
    {
      "cell_type": "markdown",
      "metadata": {},
      "source": [
        "$~$\n",
        "\n",
        "## **Example 1**\n",
        "\n",
        "A technique that can be used to solve certain ODE problems is to Laplace transform the ODE, which for many problems results in an algebraic equation that is easier to solve. The solution to the algebraic equation can then be transformed back to the original domain with an inverse Laplace transform, to obtain the solution to the original problem. For example, consider the following differential equation for a driven harmonic oscillator:\n",
        "\n",
        "$$ \\frac{d^2 y}{dt^2} + 2\\frac{dy}{dt} +10 y = 2\\sin 3t $$\n",
        "\n",
        "$~$"
      ],
      "id": "99c2af1e"
    },
    {
      "cell_type": "code",
      "metadata": {},
      "source": [
        "t = sympy.symbols('t', positive=True)\n",
        "y = sympy.Function('y')\n",
        "\n",
        "s = sympy.symbols('s', real=True)\n",
        "Y = sympy.Function('Y')\n",
        "\n",
        "Ly = laplace_transform_(y(t), t, s) "
      ],
      "id": "8b9378d2",
      "execution_count": null,
      "outputs": []
    },
    {
      "cell_type": "code",
      "metadata": {},
      "source": [
        "ode = y(t).diff(t, 2) +2 *y(t).diff(t) +10 *y(t) -2 *sympy.sin(3*t)\n",
        "ode"
      ],
      "id": "6b9f59e7",
      "execution_count": null,
      "outputs": []
    },
    {
      "cell_type": "code",
      "metadata": {},
      "source": [
        "Lode = subs_(laplace_transform_(ode, t, s), Ly, Y(s))\n",
        "Lode"
      ],
      "id": "47d56774",
      "execution_count": null,
      "outputs": []
    },
    {
      "cell_type": "markdown",
      "metadata": {},
      "source": [
        "* At this point, we need to specify the initial conditions for the ODE problem. Here we use \n",
        "$y(0)=1$ and $y'(0)=0$, and after creating dictionary that contains these initial conditions, we use it to substitute the values into the Laplace-transformed ODE equation:"
      ],
      "id": "a7ec4e53"
    },
    {
      "cell_type": "code",
      "metadata": {},
      "source": [
        "ics = {y(0): 1, y(t).diff(t).subs(t, 0): 0}\n",
        "Lode = Lode.subs(ics)\n",
        "Lode"
      ],
      "id": "cda891b3",
      "execution_count": null,
      "outputs": []
    },
    {
      "cell_type": "markdown",
      "metadata": {},
      "source": [
        "* This is an algebraic equation that can be solved for $Y(s)$"
      ],
      "id": "b1db92d6"
    },
    {
      "cell_type": "code",
      "metadata": {},
      "source": [
        "Ysol = sympy.solve(Lode, Y(s))\n",
        "Ysol[0]"
      ],
      "id": "c5e3b293",
      "execution_count": null,
      "outputs": []
    },
    {
      "cell_type": "markdown",
      "metadata": {},
      "source": [
        "* The result is a list of solutions, which in this case contains only one element. Performing the inverse Laplace transformation on this expression gives the solution to the original problem in the time domain:"
      ],
      "id": "ccf19866"
    },
    {
      "cell_type": "code",
      "metadata": {},
      "source": [
        "Yp = sympy.apart(Ysol[0])\n",
        "Yp"
      ],
      "id": "f430ed8d",
      "execution_count": null,
      "outputs": []
    },
    {
      "cell_type": "code",
      "metadata": {},
      "source": [
        "ysol = sympy.inverse_laplace_transform(Yp.args[0], s, t) +sympy.inverse_laplace_transform(Yp.args[1], s, t)\n",
        "ysol"
      ],
      "id": "1605bd02",
      "execution_count": null,
      "outputs": []
    },
    {
      "cell_type": "markdown",
      "metadata": {},
      "source": [
        "## **Example 2**\n",
        "\n",
        "In some instances, the Laplace transform can be used to solve linear differential equations with variable monomial coefficients \n",
        "\n",
        "$$ty'' + y' +ty =0, \\;\\;y(0)=1, \\;y'(0)=0$$\n",
        "\n",
        "$~$"
      ],
      "id": "23f734c4"
    },
    {
      "cell_type": "code",
      "metadata": {},
      "source": [
        "s, t = sympy.symbols('s, t', positive=True)\n",
        "\n",
        "y = sympy.Function('y')\n",
        "Y  = sympy.Function('Y')\n",
        "Ly = laplace_transform_(y(t), t, s)\n",
        "\n",
        "ode = t *y(t).diff(t, 2) +y(t).diff(t) +t *y(t)\n",
        "ode"
      ],
      "id": "e7f2344b",
      "execution_count": null,
      "outputs": []
    },
    {
      "cell_type": "markdown",
      "metadata": {},
      "source": [
        "$~$\n",
        "\n",
        "* Reduce the given differential equation to a linear first-order DE in the transformed function $Y(s)=\\mathcal{L}_t\\left[y(t)\\right]$"
      ],
      "id": "9c15de68"
    },
    {
      "cell_type": "code",
      "metadata": {},
      "source": [
        "ics={y(0): 1, y(t).diff(t).subs(t, 0): 0}\n",
        "\n",
        "Lode = subs_(laplace_transform_(ode, t, s).subs(ics), Ly, Y(s))\n",
        "Lode.doit().collect(Y(s).diff(s))"
      ],
      "id": "9bc41384",
      "execution_count": null,
      "outputs": []
    },
    {
      "cell_type": "markdown",
      "metadata": {},
      "source": [
        "* Solve the first-order ODE for $Y(s)$ and then find $y(t)=\\mathcal{L}_t^{-1} \\left[Y(s) \\right]$"
      ],
      "id": "2ca15c72"
    },
    {
      "cell_type": "code",
      "metadata": {},
      "source": [
        "sol = sympy.dsolve(Lode, Y(s), hint='separable')\n",
        "sol"
      ],
      "id": "2e221d2b",
      "execution_count": null,
      "outputs": []
    },
    {
      "cell_type": "code",
      "metadata": {},
      "source": [
        "y = inverse_laplace_transform(sol.rhs, s, t)\n",
        "y"
      ],
      "id": "2ff114a1",
      "execution_count": null,
      "outputs": []
    },
    {
      "cell_type": "code",
      "metadata": {},
      "source": [
        "c = sympy.Eq(y.subs(t, 0), 1)\n",
        "c"
      ],
      "id": "737b8579",
      "execution_count": null,
      "outputs": []
    },
    {
      "cell_type": "code",
      "metadata": {},
      "source": [
        "y = y.subs(c.lhs, c.rhs)\n",
        "y"
      ],
      "id": "83bd906c",
      "execution_count": null,
      "outputs": []
    }
  ],
  "metadata": {
    "kernelspec": {
      "name": "python3",
      "language": "python",
      "display_name": "Python 3 (ipykernel)",
      "path": "/opt/miniconda3/share/jupyter/kernels/python3"
    }
  },
  "nbformat": 4,
  "nbformat_minor": 5
}