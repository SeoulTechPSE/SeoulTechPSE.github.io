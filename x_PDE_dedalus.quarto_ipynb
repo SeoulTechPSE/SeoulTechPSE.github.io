{
  "cells": [
    {
      "cell_type": "markdown",
      "metadata": {},
      "source": [
        "---\n",
        "jupyter: dedalus3\n",
        "---\n",
        "\n",
        "# DEDALUS {#sec-dedalus}\n",
        "\n",
        "**Dedalus** solves differential equations using spectral methods.\n",
        "It's open-source, written in Python, and MPI-parallelized\n",
        "\n",
        "[![](https://dedalus-project.readthedocs.io/en/latest/_static/epic12_4_exp_2_1.25.png){width=\"40%\" fig-align=\"center\"}](https://dedalus-project.org/index.html)\n",
        "\n",
        "## Coordinates, Distributors, and Bases\n",
        "\n",
        "This tutorial walks through the basics of setting up and using coordinate, distributor, and basis objects in `Dedalus`. In `Dedalus`, we represent fields and solve PDEs using spectral discretizations. To set these up, we choose spectral bases for the spatial coordinates in the problem. Once the coordinates are defined, they are collected into a distributor object, which takes care of how fields and problems are split up and distributed in parallel"
      ],
      "id": "35538ef0"
    },
    {
      "cell_type": "code",
      "metadata": {},
      "source": [
        "import numpy as np\n",
        "import matplotlib.pyplot as plt\n",
        "import dedalus.public as d3"
      ],
      "id": "ef5e2fa1",
      "execution_count": null,
      "outputs": []
    },
    {
      "cell_type": "markdown",
      "metadata": {},
      "source": [
        "### Coordinates\n",
        "\n",
        "In `Dedalus`, the spatial coordinates of a PDE are represented by coordinate objects. For simple 1D problems, you can define a coordinate directly using the `Coordinate` class. For higher-dimensional problems, you’ll usually combine multiple coordinates into a `CoordinateSystem`.\n",
        "\n",
        "`Dedalus` currently includes several built-in coordinate systems:\n",
        "\n",
        "* `CartesianCoordinates`: works in any number of dimensions\n",
        "* `PolarCoordinates`: with azimuth and radius\n",
        "* `S2Coordinates`: with azimuth and colatitude\n",
        "* `SphericalCoordinates`: with azimuth, colatitude, and radius\n",
        "\n",
        "When you create a `CoordinateSystem`, you just provide the names you’d like to use for each coordinate, in the order shown above. For example, let’s walk through how to set up a problem in 3D Cartesian coordinates"
      ],
      "id": "993345f9"
    },
    {
      "cell_type": "code",
      "metadata": {},
      "source": [
        "coords = d3.CartesianCoordinates('x', 'y', 'z')"
      ],
      "id": "509c2e31",
      "execution_count": null,
      "outputs": []
    },
    {
      "cell_type": "markdown",
      "metadata": {},
      "source": [
        "### Distributors\n",
        "\n",
        "A distributor object handles the parallel decomposition of fields and problems. Every problem in `Dedalus` needs a distributor, even if you’re just running in serial\n",
        "\n",
        "To create a distributor, you provide the coordinate system for your PDE, specify the datatype of the fields you’ll be working with, and, if needed, supply a process mesh to control parallelization"
      ],
      "id": "fdfb1cc6"
    },
    {
      "cell_type": "code",
      "metadata": {},
      "source": [
        "# No mesh for serial / automatic parallelization\n",
        "dist = d3.Distributor(coords, dtype=np.float64) "
      ],
      "id": "572dd31c",
      "execution_count": null,
      "outputs": []
    },
    {
      "cell_type": "markdown",
      "metadata": {},
      "source": [
        "**Parallelization & process meshes**\n",
        "\n",
        "When you run `Dedalus` under `MPI`, it parallelizes computations using block-distributed domain decompositions. By default, `Dedalus` spreads the work across a 1-dimensional mesh of all available `MPI` processes—this is called a *slab decomposition*. If you want more flexibility, you can specify a custom process mesh with the `mesh` keyword when creating a domain. This allows *pencil decompositions*, where the domain is split along more than one direction. Just keep in mind that the total number of `MPI` processes must match the product of the process mesh shape you provide\n",
        "\n",
        "There’s also an important restriction: the mesh dimension can’t be larger than the number of separable coordinates in the linear part of your PDE. In practice, this usually means you can parallelize over periodic or angular coordinates. For fully separable problems—like a fully periodic box or a simulation on the sphere—the mesh dimension must be strictly less than the total dimension\n",
        "\n",
        "**Layouts**\n",
        "\n",
        "The distributor object sets up the machinery needed to allocate and transform fields in parallel. A key part of this is an ordered set of `Layout` objects, which describe how the data should be represented and distributed as it moves between coefficient space and grid space. Moving from one layout to another involves two types of operations: spectral transforms (done locally) and global transposes (which shuffle data across the process mesh to put it in the right place)\n",
        "\n",
        "The basic algorithm works like this:\n",
        "\n",
        "* We start in coefficient space (layout 0), where the last axis is local (not distributed)\n",
        "* Then we transform that last axis into grid space (layout 1)\n",
        "* If needed, we perform a global transpose so that the next axis becomes local, and transform that axis into grid space\n",
        "* This process repeats until all axes have been transformed into grid space (the final layout)\n",
        "\n",
        "Let’s take a look at the layouts for the domain we just built. Since this is a serial computation, no global transposes are required—all axes are already local. So the layout transitions are just coefficient-to-grid transforms, working backwards from the last axis"
      ],
      "id": "45ef0f5a"
    },
    {
      "cell_type": "code",
      "metadata": {},
      "source": [
        "for layout in dist.layouts:\n",
        "  print(f'Layout {layout.index}:  Grid space: {layout.grid_space}  Local: {layout.local}')"
      ],
      "id": "9b8292bb",
      "execution_count": null,
      "outputs": []
    },
    {
      "cell_type": "markdown",
      "metadata": {},
      "source": [
        "To get a sense of how things work in a distributed simulation, we’ll change the process mesh shape and rebuild the layout objects. For this example, we’ll bypass the usual internal checks on the number of available processes and related settings, just so we can see how the layouts are constructed in a parallel setup"
      ],
      "id": "67ffd0e8"
    },
    {
      "cell_type": "code",
      "metadata": {},
      "source": [
        "# Don't do this. For illustration only\n",
        "dist.mesh = np.array([4, 2])\n",
        "dist.comm_coords = np.array([0, 0])\n",
        "dist._build_layouts(dry_run=True)"
      ],
      "id": "24f38d9d",
      "execution_count": null,
      "outputs": []
    },
    {
      "cell_type": "code",
      "metadata": {},
      "source": [
        "for layout in dist.layouts:\n",
        "  print(f'Layout {layout.index}:  Grid space: {layout.grid_space}  Local: {layout.local}')"
      ],
      "id": "210c4123",
      "execution_count": null,
      "outputs": []
    },
    {
      "cell_type": "markdown",
      "metadata": {},
      "source": [
        "We can see that there are now two additional layouts, corresponding to the transposed states of the mixed-transform layouts. Two global transposes are necessary here in order for the $x$ and $y$ axes to be stored locally, which is required to perform the respective spectral transforms. Here’s a sketch of the data distribution in the different layouts:\n",
        "\n",
        "![](figures/dedalus_fig_layouts_fold.png)\n",
        "\n",
        "In most cases, you won’t need to interact with layout objects directly. However, it’s useful to understand this system, since it controls how data is distributed and transformed. Being aware of it will help when working with field objects, as we’ll see in later sections\n",
        "\n",
        "::: {.callout-tip title=\"Coefficient Space\"}\n",
        "\t\n",
        "* This is the representation of a function in terms of its spectral coefficients\n",
        "* Functions are expressed as linear combinations of basis functions (Fourier, Chebyshev, Legendre, etc.)\n",
        "\n",
        "**Examples:**\n",
        "$$ f(x) \\approx \\sum_{k=-N/2}^{N/2} \\hat{f}k e^{ikx} \\quad (\\text{Fourier})$$\n",
        " $$f(x) \\approx \\sum_{n=0}^{N} \\hat{f}_n T_n(x) \\quad (\\text{Chebyshev})$$\n",
        "\n",
        "* Here, $\\hat{f}_k$, $\\hat{f}_n$ are the data in coefficient space\n",
        "* Differentiation and integration are simple in this representation:\n",
        "  * Fourier: differentiation $\\rightarrow$ multiply coefficients by $ik$\n",
        "  * Chebyshev: differentiation $\\rightarrow$ apply a simple linear recurrence\n",
        "\n",
        "* Analytical operations are most efficient in coefficient space\n",
        ":::\n",
        "\n",
        "::: {.callout-tip title=\"Grid Space\"}\n",
        "* This is the representation of a function by its values on discrete grid points\n",
        "* It’s what you use when you want to “see the shape” of a function or set initial conditions\n",
        "\n",
        "**Examples:**\n",
        "\n",
        "* Fourier basis $\\rightarrow$ values on uniformly spaced grid points\n",
        "* Chebyshev basis $\\rightarrow$ values on non-uniform grid points (clustered near the boundaries)\n",
        "* Nonlinear operations (products, $f(u)$) are natural and efficient in grid space\n",
        ":::\n",
        "\n",
        "### Bases\n",
        "\n",
        "**Creating a basis**\n",
        "\n",
        "Each type of basis in `Dedalus` is represented by a separate class. These classes define the corresponding spectral operators as well as transforms between the *grid space* and *coefficient space* representations of functions in that basis. The most commonly used bases are:\n",
        "\n",
        "* `RealFourier` for real periodic functions on an interval using cosine & sine modes\n",
        "\n",
        "* `ComplexFourier` for complex periodic functions on an interval using complex exponentials\n",
        "\n",
        "* `Chebyshev` for functions on an interval\n",
        "* `Jacobi` for functions on an interval under a more general inner product (usually `Chebyshev` is best for performance)\n",
        "* `DiskBasis` for functions on a full disk in polar coordinates\n",
        "* `AnnulusBasis` for functions on an annulus in polar coordinates\n",
        "* `SphereBasis` for functions on the 2-sphere in S2 or spherical coordinates\n",
        "* `BallBasis` for functions on a full ball in spherical coordinates\n",
        "* `ShellBasis` for functions on a spherical shell in spherical coordinates\n",
        "\n",
        "For one-dimensional or Cartesian bases, you create a basis by specifying:\n",
        "\n",
        "* the corresponding coordinate object\n",
        "* the number of modes for the basis\n",
        "* the coordinate bounds of the basis interval\n",
        "\n",
        "For multidimensional or curvilinear bases, you provide:\n",
        "\n",
        "* the corresponding coordinate system\n",
        "* the multidimensional mode shape for the basis\n",
        "* the radial extent of the basis\n",
        "* the data type (dtype) for the problem\n",
        "\n",
        "Optionally, for any basis, you can also specify dealiasing scale factors for each axis. These factors control how much to pad the modes when transforming to grid space. For example, to properly dealias quadratic nonlinearities, you would typically use a scaling factor of 3/2"
      ],
      "id": "2d09d5d9"
    },
    {
      "cell_type": "code",
      "metadata": {},
      "source": [
        "xbasis = d3.RealFourier(coords['x'], size=32, bounds=(0,1), dealias=3/2)\n",
        "ybasis = d3.RealFourier(coords['y'], size=32, bounds=(0,1), dealias=3/2)\n",
        "zbasis = d3.Chebyshev(coords['z'], size=32, bounds=(0,1), dealias=3/2)"
      ],
      "id": "fd84aae5",
      "execution_count": null,
      "outputs": []
    },
    {
      "cell_type": "markdown",
      "metadata": {},
      "source": [
        "Some bases also accept additional arguments that let you tweak their internal behavior. For more details, check [the `basis.py` API documentation](https://dedalus-project.readthedocs.io/en/latest/autoapi/dedalus/core/basis/index.html)\n",
        "\n",
        "**Basis grids and scale factors**\n",
        "\n",
        "Each basis comes with a corresponding coordinate or collocation grid—or multiple grids for multidimensional bases. These grids are useful for tasks like initializing and plotting fields\n",
        "\n",
        "You can access the global (non-distributed) grids using the basis object’s `global_grid` method (or `global_grids` for multidimensional bases). These methods also allow you to provide scale factors, which control how many points are included in the grid relative to the number of basis modes\n",
        "\n",
        "For example, let’s take a look at Chebyshev grids with scaling factors of 1 and 3/2"
      ],
      "id": "e46cc021"
    },
    {
      "cell_type": "code",
      "metadata": {},
      "source": [
        "grid_normal = zbasis.global_grid(dist, scale=1).ravel()\n",
        "grid_dealias = zbasis.global_grid(dist, scale=3/2).ravel()\n",
        "\n",
        "plt.figure(figsize=(6, 1.5), dpi=100)\n",
        "\n",
        "plt.plot(grid_normal, 0*grid_normal +1, 'o', markersize=5)\n",
        "plt.plot(grid_dealias, 0*grid_dealias -1, 'o', markersize=5)\n",
        "\n",
        "plt.xlabel('z')\n",
        "plt.title('Chebyshev grid with scales 1 and 3/2')\n",
        "plt.ylim([-2, 2])\n",
        "plt.gca().yaxis.set_ticks([])\n",
        "plt.tight_layout()"
      ],
      "id": "748f6eb9",
      "execution_count": null,
      "outputs": []
    },
    {
      "cell_type": "markdown",
      "metadata": {},
      "source": [
        "Note that Chebyshev grids are non-equispaced: the points cluster quadratically near the ends of the interval. This behavior is especially useful for resolving sharp features, such as boundary layers\n",
        "\n",
        "**Distributed grid and element arrays**\n",
        "\n",
        "To make it easier to create field data, the distributor provides the local portions of the coordinate grids and mode numbers (wavenumbers or polynomial degrees). You can access the local grids—which are distributed according to the last layout or the full *grid space*—using the `dist.local_grid` method (or `dist.local_grids` for multidimensional bases)\n",
        "\n",
        "When calling these methods, you need to specify the basis and optionally a scale factor (which defaults to 1)"
      ],
      "id": "b36eb03d"
    },
    {
      "cell_type": "code",
      "metadata": {},
      "source": [
        "local_x = dist.local_grid(xbasis)\n",
        "local_y = dist.local_grid(ybasis)\n",
        "local_z = dist.local_grid(zbasis)\n",
        "\n",
        "print('Local x shape:', local_x.shape)\n",
        "print('Local y shape:', local_y.shape)\n",
        "print('Local z shape:', local_z.shape)"
      ],
      "id": "218483a1",
      "execution_count": null,
      "outputs": []
    },
    {
      "cell_type": "markdown",
      "metadata": {},
      "source": [
        "The local $x$ grid corresponds to the full Fourier grid for the $x$-basis and is the same on all processes, because the first axis is local in grid space\n",
        "\n",
        "The local $y$ and local $z$ grids, on the other hand, usually differ across processes. These grids contain only the local portions of the $y$ and $z$ basis grids, distributed according to the process mesh—for example, 4 blocks in $y$ and 2 blocks in $z$\n",
        "\n",
        "You can access the local modes—which are distributed according to layout 0 (the full *coefficient space*)—using the `dist.local_modes` method. When calling this method, you just need to specify the basis"
      ],
      "id": "26a14e5f"
    },
    {
      "cell_type": "code",
      "metadata": {},
      "source": [
        "local_kx = dist.local_modes(xbasis)\n",
        "local_ky = dist.local_modes(ybasis)\n",
        "local_nz = dist.local_modes(zbasis)\n",
        "\n",
        "print('Local kx shape:', local_kx.shape)\n",
        "print('Local ky shape:', local_ky.shape)\n",
        "print('Local nz shape:', local_nz.shape)"
      ],
      "id": "2f936d8b",
      "execution_count": null,
      "outputs": []
    },
    {
      "cell_type": "markdown",
      "metadata": {},
      "source": [
        "The local $k_x$ and local $k_y$ arrays now differ across processes, because they contain only the local portions of the $x$ and $y$ wavenumbers, which are distributed in coefficient space\n",
        "\n",
        "The local $n_z$ array, on the other hand, includes the full set of Chebyshev modes, which are always local in coefficient space\n",
        "\n",
        "These local arrays can be used to create parallel-safe initial conditions for fields, either in grid space or coefficient space, as we’ll explore in the next section\n",
        "\n",
        "## Fields and Operators\n",
        "\n",
        "This tutorial covers the basics of setting up and working with field and operator objects in `Dedalus`. `Dedalus` uses these abstractions to implement a symbolic algebra system, which allows us to represent mathematical expressions and PDEs in a convenient and flexible way"
      ],
      "id": "564f5d01"
    },
    {
      "cell_type": "code",
      "metadata": {},
      "source": [
        "import numpy as np\n",
        "import matplotlib.pyplot as plt\n",
        "\n",
        "import dedalus.public as d3\n",
        "from dedalus.extras.plot_tools import plot_bot_2d\n",
        "\n",
        "figkw = {'figsize': (6, 4), 'dpi': 100}"
      ],
      "id": "a8a28f20",
      "execution_count": null,
      "outputs": []
    },
    {
      "cell_type": "markdown",
      "metadata": {},
      "source": [
        "### Fields\n",
        "\n",
        "**Creating a field**\n",
        "\n",
        "In `Dedalus`, field objects represent scalar-valued fields defined over a set of bases (or a *domain*). You can create a field directly from the `Field` class by providing a distributor, a list of bases, and, optionally, a name.\n",
        "Alternatively, you can create a field using the `dist.Field` method\n",
        "\n",
        "Let’s try setting up a 2D domain and building a field"
      ],
      "id": "c9da4902"
    },
    {
      "cell_type": "code",
      "metadata": {},
      "source": [
        "coords = d3.CartesianCoordinates('x', 'y')\n",
        "dist = d3.Distributor(coords, dtype=np.float64)\n",
        "\n",
        "xbasis = d3.RealFourier(coords['x'], 64, bounds=(-np.pi, np.pi), dealias=3/2)\n",
        "ybasis = d3.Chebyshev(coords['y'], 64, bounds=(-1, 1), dealias=3/2)\n",
        "\n",
        "f = dist.Field(name='f', bases=(xbasis, ybasis))"
      ],
      "id": "5a656e83",
      "execution_count": null,
      "outputs": []
    },
    {
      "cell_type": "markdown",
      "metadata": {},
      "source": [
        "This field $f$ depends on both $x$ and $y$, since it is defined using both `xbasis` and `ybasis`. If you want to create a field that depends on only $x$ or only $y$, you can pass `bases=xbasis` or `bases=ybasis`, respectively. \n",
        "To create a spatially constant field—one that does not vary with $x$ or $y$—simply do not provide any bases\n",
        "\n",
        "**Vector and tensor fields**\n",
        "\n",
        "By default, the `Field` class creates a scalar-valued field, which can also be instantiated using the `ScalarField` constructor\n",
        "\n",
        "If you want a vector-valued field, use the `VectorField` constructor and provide the coordinate system corresponding to the components of the vector. Technically, this is specifying the vector bundle of the field to be the tangent bundle on the chosen coordinate system\n",
        "\n",
        "Similarly, you can create arbitrary-order tensor fields using the `TensorField` constructor by passing a tuple of coordinate systems. This defines the tensor bundle of the field\n",
        "\n",
        "The bases of a field describe its spatial variation, while the vector/tensor bundle describes the components of the field. For example, you could have a 2D vector with $x$ and $y$ components that varies only along the $x$ direction—so it would only need an $x$ basis\n",
        "\n",
        "Let’s go ahead and build such a vector field on our domain"
      ],
      "id": "d472217e"
    },
    {
      "cell_type": "code",
      "metadata": {},
      "source": [
        "u = dist.VectorField(coords, name='u', bases=xbasis)"
      ],
      "id": "b213b7f0",
      "execution_count": null,
      "outputs": []
    },
    {
      "cell_type": "markdown",
      "metadata": {},
      "source": [
        "**Manipulating field data**\n",
        "\n",
        "`Field` objects provide several methods for transforming their data between different layouts—this includes grid space, coefficient space, and all intermediate layouts\n",
        "\n",
        "Each field has a layout attribute, which points to the layout object describing its current transform and distribution state\n",
        "\n",
        "By default, fields are instantiated in coefficient space"
      ],
      "id": "f0f91e4a"
    },
    {
      "cell_type": "code",
      "metadata": {},
      "source": [
        "f.layout.grid_space"
      ],
      "id": "ea990a86",
      "execution_count": null,
      "outputs": []
    },
    {
      "cell_type": "markdown",
      "metadata": {},
      "source": [
        "You can assign and retrieve field data in any layout by indexing a field with that layout object. In most cases, you won’t need the mixed layouts—the full grid and full coefficient layouts are usually enough. You can also use the shortcuts `'g'` and `'c'` to access these layouts easily\n",
        "\n",
        "When working in parallel, each process only manipulates its local portion of the globally distributed data. This means that you can safely set a field’s grid data in a parallel-safe way using the local grids provided by the domain"
      ],
      "id": "e8f142b0"
    },
    {
      "cell_type": "code",
      "metadata": {},
      "source": [
        "x = dist.local_grid(xbasis)\n",
        "y = dist.local_grid(ybasis)\n",
        "\n",
        "f['g'] = np.exp((1 -y**2) *np.cos(x +np.cos(x) *y**2)) *(1 +0.05 *np.cos(10 *(x +2 *y)))  \n",
        "\n",
        "# Plot grid values\n",
        "plot_bot_2d(f, figkw=figkw, title=\"f['g']\");"
      ],
      "id": "25d32e21",
      "execution_count": null,
      "outputs": []
    },
    {
      "cell_type": "markdown",
      "metadata": {},
      "source": [
        "You can convert a field to spectral coefficients by accessing its data in coefficient space. Internally, this triggers an in-place multidimensional spectral transform on the field’s data"
      ],
      "id": "a58658d1"
    },
    {
      "cell_type": "code",
      "metadata": {},
      "source": [
        "f['c']\n",
        "\n",
        "# Plot log magnitude of spectral coefficients\n",
        "log_mag = lambda xmesh, ymesh, data: (xmesh, ymesh, np.log10(np.abs(data) +1.e-20))\n",
        "plot_bot_2d(\n",
        "  f, \n",
        "  func=log_mag, \n",
        "  clim=(-20, 0), \n",
        "  cmap='viridis', \n",
        "  title=\"log10(abs(f['c'])\", \n",
        "  figkw={'figsize': (5, 5), 'dpi': 100});"
      ],
      "id": "2bed8ea8",
      "execution_count": null,
      "outputs": []
    },
    {
      "cell_type": "markdown",
      "metadata": {},
      "source": [
        "Examining the spectral coefficients of a field is very useful, because the amplitude of the highest modes indicates the truncation errors in the spectral discretization\n",
        "\n",
        "If the amplitudes of these modes are small, as in this example, we can conclude that the field is well-resolved\n",
        "\n",
        "**Vector and tensor components**"
      ],
      "id": "4d4d5a65"
    },
    {
      "cell_type": "code",
      "metadata": {},
      "source": [
        "u['g'].shape"
      ],
      "id": "5b806f4f",
      "execution_count": null,
      "outputs": []
    },
    {
      "cell_type": "markdown",
      "metadata": {},
      "source": [
        "*Vector and Tensor Field Data Shapes*\n",
        "\n",
        "* The first axis of the data array corresponds to the field’s components\n",
        "* For example, in a 2D Cartesian vector field, this axis has size 2, representing the $x$- and $y$-components\n",
        "* The remaining axes correspond to the physical shape of the domain\n",
        "* In our example, the field is constant along the $y$-direction, since it was only defined with an $x$-basis\n",
        "\n",
        "*Grid Space vs. Coefficient Space*\n",
        "\n",
        "* In grid space, vector and tensor components align with the unit vectors of the tangent space (e.g., $\\hat{x}$, $\\hat{y}$ in Cartesian coordinates)\n",
        "* In coefficient space, the same is true for Cartesian domains\n",
        "* However, in curvilinear domains (polar, spherical, etc.), the components may be recombined during spectral transforms, making the coefficient-space data harder to interpret component-wise\n",
        "\n",
        "*Practical Tip*\n",
        "\n",
        "Because of this, it’s generally recommended to initialize vector and tensor fields in grid space, where the components correspond directly to the familiar unit vectors\n",
        "\n",
        "**Field scale factors**\n",
        "\n",
        "*Changing Field Resolution with `change_scales`*\n",
        "\n",
        "* The `change_scales` method on a field lets you modify the scaling factors used when transforming the field’s data into grid space\n",
        "* If you set field data using grid arrays, make sure that the field and grid use the same scale factors, otherwise you’ll get shape errors\n",
        "\n",
        "*Practical Uses*\n",
        "\n",
        "* Large scale factors $( > 1)$:\n",
        "  Interpolate the field data onto a higher-resolution grid\n",
        "* Small scale factors $( < 1)$:\n",
        "  View the field on a lower-resolution grid\n",
        "* But beware: if the scale factor is less than $1$, you’ll actually lose data during the transform to grid space\n",
        "\n",
        "*High-Resolution Sampling with `change_scales`*\n",
        "\n",
        "We can sample a field on a higher-resolution grid by increasing its scale factors using the `change_scales` method.\n",
        "This effectively interpolates the field data, giving us a finer view of its structure in grid space"
      ],
      "id": "24b84cb2"
    },
    {
      "cell_type": "code",
      "metadata": {},
      "source": [
        "f.change_scales(4)\n",
        "\n",
        "# Plot grid values\n",
        "f['g']\n",
        "plot_bot_2d(f, title=\"f['g']\", figkw=figkw);"
      ],
      "id": "87ff5765",
      "execution_count": null,
      "outputs": []
    },
    {
      "cell_type": "markdown",
      "metadata": {},
      "source": [
        "*Scale Factors in Data Access*\n",
        "\n",
        "Scale factors can also be passed as a second argument when setting or retrieving field data through the `__getitem__ / __setitem__` interface:\n",
        "\n",
        "* `field['g', 2]` $\\;\\rightarrow\\;$ get the grid-space data at 2× resolution\n",
        "* `field['g', 0.5]` $\\;\\rightarrow\\;$ get the grid-space data at half resolution\n",
        "* `field['g', 2] = ...` $\\;\\rightarrow\\;$ set the grid-space data at 2× resolution\n",
        "\n",
        "This provides a convenient way to work with data at different resolutions without calling `change_scales` explicitly"
      ],
      "id": "e305c247"
    },
    {
      "cell_type": "code",
      "metadata": {},
      "source": [
        "print(f['g', 1].shape)\n",
        "print(f['g', 2].shape)"
      ],
      "id": "367ad891",
      "execution_count": null,
      "outputs": []
    },
    {
      "cell_type": "markdown",
      "metadata": {},
      "source": [
        "### Operators\n",
        "\n",
        "**Arithmetic with fields**\n",
        "\n",
        "*`Operator` Classes*\n",
        "\n",
        "* In `Dedalus`, mathematical operations on fields—such as arithmetic, differentiation, integration, and interpolation—are represented by `Operator` classes\n",
        "* An operator instance corresponds to a specific mathematical expression\n",
        "* `Operator`s provide an interface for deferred evaluation, meaning the expression is stored symbolically and can be evaluated later, even if its arguments evolve over time\n",
        "\n",
        "*Arithmetic `Operator`s*\n",
        "\n",
        "* `Dedalus` lets you write arithmetic operations between fields (or between fields and scalars) using Python’s infix operators (`+`, `-`, `*`, `/`, `**`)\n",
        "* This makes expressions look natural, just like standard math notation"
      ],
      "id": "a3f48b95"
    },
    {
      "cell_type": "code",
      "metadata": {},
      "source": [
        "g_op = 1 -2 *f\n",
        "print(g_op)"
      ],
      "id": "ad91223c",
      "execution_count": null,
      "outputs": []
    },
    {
      "cell_type": "markdown",
      "metadata": {},
      "source": [
        "*`Operator` Objects and Evaluation*\n",
        "\n",
        "* When we perform arithmetic with fields, the result is not a field, but an operator object\n",
        "* For example, the expression might symbolically represent “add 1 to the product of -1, 2, and our field”\n",
        "* To actually compute the operation, we call the operator’s `.evaluate()` method\n",
        "* This returns a new field containing the numerical result\n",
        "* 💡Important: the dealiasing scale factors set when the basis was instantiated are always applied during operator evaluation"
      ],
      "id": "0b81647e"
    },
    {
      "cell_type": "code",
      "metadata": {},
      "source": [
        "g = g_op.evaluate()\n",
        "\n",
        "# Plot grid values\n",
        "g['g']\n",
        "plot_bot_2d(g, title=\"g['g']\", figkw=figkw);"
      ],
      "id": "aec54293",
      "execution_count": null,
      "outputs": []
    },
    {
      "cell_type": "markdown",
      "metadata": {},
      "source": [
        "**Building expressions**\n",
        "\n",
        "*Building Expression Trees*\n",
        "\n",
        "* `Operator` instances can themselves be passed as arguments to other operators\n",
        "* This allows us to build expression trees that represent more complicated mathematical formulas in a natural, symbolic way"
      ],
      "id": "8491f046"
    },
    {
      "cell_type": "code",
      "metadata": {},
      "source": [
        "h_op = 1 /np.cosh(g_op +2.5)\n",
        "print(h_op)"
      ],
      "id": "b12f71e4",
      "execution_count": null,
      "outputs": []
    },
    {
      "cell_type": "markdown",
      "metadata": {},
      "source": [
        "*Visualizing `Operator` Structures*\n",
        "\n",
        "* `Operator` signatures can become hard to read when expressions get complicated\n",
        "* To make this easier, `Dedalus` provides a helper in `dedalus.tools` that lets us plot the operator’s structure\n",
        "* This visualization shows the tree of operations (e.g. additions, multiplications, derivatives), making it clear how the overall expression is built"
      ],
      "id": "fd2e8ba9"
    },
    {
      "cell_type": "code",
      "metadata": {},
      "source": [
        "from dedalus.tools.plot_op import plot_operator\n",
        "\n",
        "plot_operator(h_op, figsize=6, fontsize=14, opsize=0.4)"
      ],
      "id": "28803fc0",
      "execution_count": null,
      "outputs": []
    },
    {
      "cell_type": "markdown",
      "metadata": {},
      "source": [
        "*Evaluating `Operator`s*\n",
        "\n",
        "* Once an operator is constructed (even a complex expression tree), you can evaluate it to get a field containing the result\n",
        "* This is done using the `.evaluate()` method of the operator"
      ],
      "id": "6db59106"
    },
    {
      "cell_type": "code",
      "metadata": {},
      "source": [
        "h = h_op.evaluate()\n",
        "\n",
        "# Plot grid values\n",
        "h['g']\n",
        "plot_bot_2d(h, title=\"h['g']\", figkw=figkw);"
      ],
      "id": "19256727",
      "execution_count": null,
      "outputs": []
    },
    {
      "cell_type": "markdown",
      "metadata": {},
      "source": [
        "**Deferred evaluation**\n",
        "\n",
        "*Deferred Evaluation with `Operator`s*\n",
        "\n",
        "* `Operator` objects in `Dedalus` symbolically represent an operation on their field arguments\n",
        "* They use deferred evaluation, meaning that the operation is not computed immediately\n",
        "* If the data of the field arguments changes, re-evaluating the operator with `.evaluate()` produces a new result that reflects the updated field data\n",
        "\n",
        " * 💡Key insight:\n",
        "This allows you to reuse the same operator object on different field states, which is especially useful in time-dependent simulations where fields evolve over time"
      ],
      "id": "a14e13a4"
    },
    {
      "cell_type": "code",
      "metadata": {},
      "source": [
        "# Change scales back to 1 to build new grid data\n",
        "f.change_scales(1)\n",
        "f['g'] = 3 *np.cos(1.5 *np.pi *y)**2 *np.cos(x /2)**4 +3 *np.exp(-((2 *x +2)**2 +(4 *y +4 /3)**2)) +3 *np.exp(-((2 *x +2)**2 + (4 *y -4 /3)**2))\n",
        "\n",
        "# Plot grid values\n",
        "f['g']\n",
        "plot_bot_2d(f, title=\"f['g']\", figkw=figkw);"
      ],
      "id": "8b3bd917",
      "execution_count": null,
      "outputs": []
    },
    {
      "cell_type": "code",
      "metadata": {},
      "source": [
        "h = h_op.evaluate()\n",
        "\n",
        "# Plot grid values\n",
        "h['g']\n",
        "plot_bot_2d(h, title=\"h['g']\", figkw=figkw);"
      ],
      "id": "0c118ebf",
      "execution_count": null,
      "outputs": []
    },
    {
      "cell_type": "markdown",
      "metadata": {},
      "source": [
        "**Differential operators**\n",
        "\n",
        "* In `Dedalus`, operators are also used to compute derivatives of fields\n",
        "* For one-dimensional bases, partial derivatives are implemented using the `Differentiate` operator\n",
        "* To compute a derivative, you specify the coordinate with respect to which you want to differentiate"
      ],
      "id": "e42fdaa6"
    },
    {
      "cell_type": "code",
      "metadata": {},
      "source": [
        "fx = d3.Differentiate(f, coords['x'])"
      ],
      "id": "0504e8d9",
      "execution_count": null,
      "outputs": []
    },
    {
      "cell_type": "markdown",
      "metadata": {},
      "source": [
        "**Vector Calculus `Operator`s in Dedalus**\n",
        "\n",
        "For multidimensional problems, `Dedalus` provides built-in vector calculus operators:\n",
        "\n",
        "| Operator   | Applicable Fields      | Description                                        |\n",
        "|------------|----------------------|---------------------------------------------------|\n",
        "| `Gradient` | Arbitrary fields      | Computes the gradient of a scalar or vector field |\n",
        "| `Divergence` | Vector or tensor fields | Computes the divergence                          |\n",
        "| `Curl`     | Vector fields         | Computes the curl                                |\n",
        "| `Laplacian` | Arbitrary fields      | Computes the Laplacian, defined as the divergence of the gradient |\n",
        "\n",
        "- These operators return **operator objects** that can be **evaluated** to produce fields with the computed results  \n",
        "- They provide a **high-level, symbolic interface** for common PDE operations, simplifying multidimensional derivations\n",
        "\n",
        "*Optional Arguments for Vector Calculus `Operator`s*\n",
        "\n",
        "- A **coordinate system** can optionally be specified as the **tangent bundle** for the `Gradient` and `Laplacian` operators.  \n",
        "  - If not provided, they **default to the distributor’s coordinate system**\n",
        "\n",
        "- A **tensor index** can optionally be specified for the `Divergence` operator  \n",
        "  - Defaults to `0` if not provided.  \n",
        "\n",
        "- Tensor ranks propagate naturally:  \n",
        "  - The gradient of a **rank-0 (scalar) field** is **rank-1 (vector)**\n",
        "  - The gradient of a **rank-1 (vector) field** is **rank-2 (tensor)**, and so on"
      ],
      "id": "3c75dbfa"
    },
    {
      "cell_type": "code",
      "metadata": {},
      "source": [
        "lap_f = d3.Laplacian(f).evaluate()\n",
        "grad_f = d3.Gradient(f).evaluate()\n",
        "\n",
        "print('f shape:', f['g'].shape)\n",
        "print('Grad(f) shape:', grad_f['g'].shape)\n",
        "print('Lap(f) shape:', lap_f['g'].shape)\n",
        "\n",
        "div_grad_f = d3.Divergence(d3.Gradient(f)).evaluate()\n",
        "\n",
        "print('Lap(f) is Div(Grad(f)):', np.allclose(lap_f['g'], div_grad_f['g']))"
      ],
      "id": "e6444032",
      "execution_count": null,
      "outputs": []
    },
    {
      "cell_type": "markdown",
      "metadata": {},
      "source": [
        "**`Operator`s for Tensor Field Components**\n",
        "\n",
        "`Dedalus` provides several operators specifically for manipulating **components of tensor fields**:\n",
        "\n",
        "| Operator                | Description |\n",
        "|-------------------------|------------|\n",
        "| `Trace`                 | Contracts two specified indices of a tensor (defaults to indices 0 and 1) |\n",
        "| `TransposeComponents`    | Swaps two specified indices of a tensor (defaults to indices 0 and 1) |\n",
        "| `Skew`                  | Applies a 90-degree positive rotation to 2D vector fields |"
      ],
      "id": "59abe12f"
    },
    {
      "cell_type": "code",
      "metadata": {},
      "source": [
        "grad_u = d3.Gradient(u)\n",
        "transpose_grad_u = d3.TransposeComponents(grad_u)"
      ],
      "id": "fa053e1a",
      "execution_count": null,
      "outputs": []
    },
    {
      "cell_type": "markdown",
      "metadata": {},
      "source": [
        "**Integrals and Averages**\n",
        "\n",
        "- `Dedalus` provides operators for computing **integrals** and **averages** of scalar fields:  \n",
        "\n",
        "| Operator   | Description |\n",
        "|------------|------------|\n",
        "| `Integrate` | Computes the integral of a scalar field over specified coordinates or a coordinate system |\n",
        "| `Average`   | Computes the average of a scalar field over specified coordinates or a coordinate system |"
      ],
      "id": "df5b6d81"
    },
    {
      "cell_type": "code",
      "metadata": {},
      "source": [
        "# Total integral of the field\n",
        "f_int = d3.Integrate(f, ('x', 'y'))\n",
        "print('f integral:', f_int.evaluate()['g'])\n",
        "\n",
        "# Average of the field\n",
        "f_ave = d3.Average(f, ('x', 'y'))\n",
        "print('f average:', f_ave.evaluate()['g'])"
      ],
      "id": "63c0cf4d",
      "execution_count": null,
      "outputs": []
    },
    {
      "cell_type": "markdown",
      "metadata": {},
      "source": [
        "**Interpolation**\n",
        "\n",
        "- `Dedalus` provides the **`Interpolate` operator** for interpolating field data along a coordinate\n",
        "- Interpolation can also be done using the **`__call__` method** on fields or operators, with keywords specifying the **coordinate** and **position**\n",
        "\n",
        "- For convenience, the strings `'left'`, `'right'`, and `'center'` can be used to refer to the **endpoints** and **middle** of 1D intervals"
      ],
      "id": "a882e5be"
    },
    {
      "cell_type": "code",
      "metadata": {},
      "source": [
        "f00 = f(x=0, y=0)\n",
        "print('f(0,0):', f00.evaluate()['g'])"
      ],
      "id": "43b6f04f",
      "execution_count": null,
      "outputs": []
    },
    {
      "cell_type": "markdown",
      "metadata": {},
      "source": [
        "## Problems and Solvers\n",
        "\n",
        "This tutorial covers the basics of setting up and solving problems in `Dedalus`.\n",
        "`Dedalus` can symbolically formulate and solve a wide range of problems, including:\n",
        "\n",
        "* Initial value problems (IVPs)\n",
        "* Boundary value problems (BVPs)\n",
        "* Eigenvalue problems (EVPs)"
      ],
      "id": "e5d08c2f"
    },
    {
      "cell_type": "code",
      "metadata": {},
      "source": [
        "import numpy as np\n",
        "import matplotlib.pyplot as plt\n",
        "\n",
        "import dedalus.public as d3\n",
        "from dedalus.extras.plot_tools import plot_bot_2d\n",
        "\n",
        "figkw = {'figsize':(6, 4), 'dpi':150}"
      ],
      "id": "085af6f2",
      "execution_count": null,
      "outputs": []
    },
    {
      "cell_type": "markdown",
      "metadata": {},
      "source": [
        "### Problems\n",
        "\n",
        "#### Standard Formulation of Problems in `Dedalus`\n",
        "\n",
        "`Dedalus` standardizes the formulation of all initial value problems (IVPs) by taking systems of:\n",
        "\n",
        "* Symbolically specified equations\n",
        "* Boundary conditions\n",
        "\n",
        "and rewriting them into the following generic form:\n",
        "\n",
        "$$\\mathcal{M} \\cdot \\partial_t \\mathcal{X} + \\mathcal{L} \\cdot \\mathcal{X} = \\mathcal{F}(\\mathcal{X}, t)$$\n",
        "\n",
        "where:\n",
        "\n",
        "* $\\mathcal{M}$, $\\mathcal{L}$: matrices of linear differential operators\n",
        "* $\\mathcal{X}$: state vector of the unknown fields\n",
        "* $\\mathcal{F}(\\mathcal{X}, t)$: vector of general nonlinear expressions\n",
        "\n",
        "**Interpretation**\n",
        "\n",
        "* This form encapsulates both:\n",
        "\t* Prognostic/evolution equations (contain time derivatives)\n",
        "\t*\tDiagnostic/algebraic constraints (no time derivatives)\n",
        "* These apply in both the interior of the domain and on the boundaries\n",
        "\n",
        "**Restrictions**\n",
        "\n",
        "* Left-hand side (LHS):\n",
        "\t*\tMust be first-order in temporal derivatives\n",
        "\t*\tMust be linear in the problem variables\n",
        "* Right-hand side (RHS):\n",
        "\t*\tMay contain nonlinear and time-dependent terms\n",
        "\t*\tMust not contain temporal derivatives\n",
        "\n",
        "**Other Standard Problem Types**\n",
        "\n",
        "In addition to IVPs, `Dedalus` defines similar standard forms for:\n",
        "\n",
        "* Generalized eigenvalue problems (EVPs): $\\sigma \\mathcal{M} \\cdot \\mathcal{X} + \\mathcal{L} \\cdot \\mathcal{X} = 0$\n",
        "* Linear boundary value problems (LBVPs): $\\mathcal{L} \\cdot \\mathcal{X} = \\mathcal{G}$\n",
        "* Nonlinear boundary value problems (NLBVPs): $\\mathcal{L} \\cdot \\mathcal{X} = \\mathcal{F}(\\mathcal{X})$\n",
        "\n",
        "These correspond to the `Dedalus` classes:\n",
        "\n",
        "* `IVP`\n",
        "* `EVP`\n",
        "* `LBVP`\n",
        "* `NLBVP`\n",
        "\n",
        "#### Creating a Problem Object\n",
        "\n",
        "When creating a problem object, you must provide a list of the field variables to be solved. You can also pass a dictionary via the `namespace` argument to make substitutions (operators or functions) available when parsing the equations\n",
        "\n",
        "👉 Typically, we suggest passing `locals()`, so that all script-level definitions are accessible inside the problem\n",
        "\n",
        "**The Complex Ginzburg–Landau Equation**\n",
        "\n",
        "We will solve the complex Ginzburg–Landau equation (CGLE) for a variable $u(x,t)$ on a finite interval $x \\in [0, 300]$, subject to homogeneous Dirichlet boundary conditions:\n",
        "\n",
        "$$\\partial_t u = u + (1 + i b) \\, \\partial_{xx} u - (1 + i c) |u|^2 u$$\n",
        "\n",
        "with boundary conditions:\n",
        "\n",
        "$$u(x=0) = u(x=300) = 0$$\n",
        "\n",
        "**Discretization**\n",
        "\n",
        "* Basis: We discretize $x$ using a Chebyshev basis\n",
        "* Dealiasing: We use a dealiasing factor of $2$ to correctly resolve the cubic nonlinearity\n",
        "\n",
        "**Boundary Conditions and Tau Terms**\n",
        "\n",
        "The current version of `Dedalus` requires explicitly adding tau terms as unknowns to enforce boundary conditions\n",
        "\n",
        "* Each Dirichlet boundary condition requires one tau term\n",
        "* Since this problem has two endpoint conditions, we must include two constant tau terms"
      ],
      "id": "1f7c8f0b"
    },
    {
      "cell_type": "code",
      "metadata": {},
      "source": [
        "# Bases\n",
        "xcoord = d3.Coordinate('x')\n",
        "dist = d3.Distributor(xcoord, dtype=np.complex128)\n",
        "xbasis = d3.Chebyshev(xcoord, 1024, bounds=(0, 300), dealias=2)\n",
        "\n",
        "# Fields\n",
        "u = dist.Field(name='u', bases=xbasis)\n",
        "tau1 = dist.Field(name='tau1')\n",
        "tau2 = dist.Field(name='tau2')\n",
        "\n",
        "# Problem\n",
        "problem = d3.IVP([u, tau1, tau2], namespace=locals())"
      ],
      "id": "daf85631",
      "execution_count": null,
      "outputs": []
    },
    {
      "cell_type": "markdown",
      "metadata": {},
      "source": [
        "#### Substitutions in Dedalus\n",
        "\n",
        "Substitutions allow you to use non-variable objects inside a problem. These can include:\n",
        "\n",
        "* Other fields (e.g. forcing terms or non-constant coefficients (NCCs))\n",
        "* Operator aliases (e.g. differentiation, magnitudes, helper functions)\n",
        "* Parameters or constants used in the PDE\n",
        "\n",
        "**Non-Constant Coefficients (NCCs)**\n",
        "\t \n",
        "* If an NCC appears on the LHS of an equation, it will couple the dimensions associated with its bases\n",
        "*\tTherefore, you should only use bases corresponding to the non-constant dimensions\n",
        "\n",
        "For example, consider a 3D domain with:\n",
        "\n",
        "*\tFourier basis in $x$\n",
        "*\tFourier basis in $y$\n",
        "*\tChebyshev basis in $z$\n",
        "\n",
        "We can add a simple non-constant coefficient in $z$ as:"
      ],
      "id": "969eb11f"
    },
    {
      "cell_type": "code",
      "metadata": {},
      "source": [
        "#ncc = dist.Field(bases=zbasis)\n",
        "#ncc['g'] = z**2"
      ],
      "id": "ed3056b9",
      "execution_count": null,
      "outputs": []
    },
    {
      "cell_type": "markdown",
      "metadata": {},
      "source": [
        "**Operator Aliases and Helper Substitutions**\n",
        "\n",
        "Substitutions can also define aliases for operators or helper functions to make equation entry cleaner. For example:"
      ],
      "id": "62b35f36"
    },
    {
      "cell_type": "code",
      "metadata": {},
      "source": [
        "# Substitutions\n",
        "dx = lambda A: d3.Differentiate(A, xcoord)\n",
        "magsq_u = u *np.conj(u)\n",
        "b = 0.5\n",
        "c = -1.76"
      ],
      "id": "6e9a1a61",
      "execution_count": null,
      "outputs": []
    },
    {
      "cell_type": "markdown",
      "metadata": {},
      "source": [
        "**Tau Polynomials**\n",
        "\n",
        "Tau polynomials (see the [Tau Method documentation](https://dedalus-project.readthedocs.io/en/latest/pages/tau_method.html)) can also be defined as substitutions"
      ],
      "id": "d8d5e266"
    },
    {
      "cell_type": "code",
      "metadata": {},
      "source": [
        "# Tau polynomials\n",
        "tau_basis = xbasis.derivative_basis(2)\n",
        "p1 = dist.Field(bases=tau_basis)\n",
        "p2 = dist.Field(bases=tau_basis)\n",
        "\n",
        "# Define tau modes\n",
        "p1['c'][-1] = 1\n",
        "p2['c'][-2] = 2"
      ],
      "id": "8c40b3c1",
      "execution_count": null,
      "outputs": []
    },
    {
      "cell_type": "markdown",
      "metadata": {},
      "source": [
        "Here:\n",
        "\n",
        "* `tau_basis` is a derivative basis used to enforce boundary conditions\n",
        "* `p1` and `p2` are tau polynomial fields with coefficients set explicitly\n",
        "\n",
        "#### Entering Equations in `Dedalus`\n",
        "\n",
        "`Dedalus` allows equations to be entered in two equivalent ways:\n",
        "\n",
        "**As operator pairs:**"
      ],
      "id": "b6e73338"
    },
    {
      "cell_type": "code",
      "metadata": {},
      "source": [
        "#| eval: false\n",
        "problem.add_equation((LHS, RHS))"
      ],
      "id": "5484fcf4",
      "execution_count": null,
      "outputs": []
    },
    {
      "cell_type": "markdown",
      "metadata": {},
      "source": [
        "where both `LHS` and `RHS` are symbolic operator expressions\n",
        "\n",
        "**As strings:**"
      ],
      "id": "f5f51f28"
    },
    {
      "cell_type": "code",
      "metadata": {},
      "source": [
        "#| eval: false\n",
        "problem.add_equation(\"LHS = RHS\")"
      ],
      "id": "dc4afaa6",
      "execution_count": null,
      "outputs": []
    },
    {
      "cell_type": "markdown",
      "metadata": {},
      "source": [
        "where string parsing recognizes:\n",
        "\n",
        "* Substitutions (from the `namespace` argument)\n",
        "* All built-in operators\n",
        "* Some operator abbreviations (e.g. `dt` for time derivative)\n",
        "\n",
        "We add the main PDE and enforce homogeneous Dirichlet boundary conditions:"
      ],
      "id": "ece043fa"
    },
    {
      "cell_type": "code",
      "metadata": {},
      "source": [
        "# Main PDE:\n",
        "#   ∂_t u = u + (1 + i b) ∂_xx u - (1 + i c)|u|²u\n",
        "#\n",
        "# `dt(u)`: time derivative of $u$\n",
        "# `dx(dx(u))`: second derivative in $x$\n",
        "# `tau1 *p1 +tau2 *p2`: tau terms used to enforce boundary conditions\n",
        "#\t`magsq_u`: substitution for $|u|^2$\n",
        "\n",
        "problem.add_equation(\n",
        "  \"dt(u) -u -(1 +1j*b) *dx(dx(u)) +tau1 *p1 +tau2 *p2 = - (1 +1j*c) *magsq_u *u\"\n",
        ")\n",
        "\n",
        "# Boundary conditions:\n",
        "problem.add_equation(\"u(x='left') = 0\")\n",
        "problem.add_equation(\"u(x='right') = 0\")"
      ],
      "id": "0ea64061",
      "execution_count": null,
      "outputs": []
    },
    {
      "cell_type": "markdown",
      "metadata": {},
      "source": [
        "This means `Dedalus`:\n",
        "\n",
        "* Converts the equation into symbolic operators\n",
        "* Tracks how it couples to the problem variables\n",
        "* Stores metadata for matrix assembly and solver setup\n",
        "\n",
        "### Solvers\n",
        "\n",
        "**Building a solver**\n",
        "\n",
        "Each problem type (`IVP`, `EVP`, `LBVP`, and `NLBVP`) has a corresponding solver class that carries out the solution steps for that problem. Solvers are created using the `problem.build_solver` method\n",
        "\n",
        "For `IVP`s, a time-stepping method must be chosen when building the solver. Several multistep and Runge–Kutta IMEX schemes are available (see the list in the [timesteppers module](https://dedalus-project.readthedocs.io/en/latest/autoapi/dedalus/core/timesteppers/index.html)), and they can be selected by name"
      ],
      "id": "3a67661d"
    },
    {
      "cell_type": "code",
      "metadata": {},
      "source": [
        "# Build solver\n",
        "solver = problem.build_solver(d3.RK222)"
      ],
      "id": "d30293f5",
      "execution_count": null,
      "outputs": []
    },
    {
      "cell_type": "markdown",
      "metadata": {},
      "source": [
        "For `IVP`s, the stopping criteria that halt time evolution are specified by setting the attributes `solver.stop_iteration`, `solver.stop_wall_time` (seconds since solver instantiation), and/or `solver.stop_sim_time`\n",
        "\n",
        "For example, to stop at 500 in simulation units:"
      ],
      "id": "5cdf41bc"
    },
    {
      "cell_type": "code",
      "metadata": {},
      "source": [
        "# Stopping criteria\n",
        "solver.stop_sim_time = 500"
      ],
      "id": "447fdb82",
      "execution_count": null,
      "outputs": []
    },
    {
      "cell_type": "markdown",
      "metadata": {},
      "source": [
        "For `IVP`s and nonlinear `BVP`s, the initial conditions are specified by directly modifying the state variable data before starting the simulation"
      ],
      "id": "161d0207"
    },
    {
      "cell_type": "code",
      "metadata": {},
      "source": [
        "# Setup a sine wave\n",
        "x = dist.local_grid(xbasis)\n",
        "u['g'] = 1e-3 *np.sin(5 *np.pi *x /300)"
      ],
      "id": "617a00d7",
      "execution_count": null,
      "outputs": []
    },
    {
      "cell_type": "markdown",
      "metadata": {},
      "source": [
        "**Solving/iterating a problem**\n",
        "\n",
        "`IVP`s are advanced in time using the `solver.step` method with a specified timestep. `EVP`s are solved using the `solver.solve_dense` or `solver.solve_sparse` methods. `LBVP`s are solved using the `solver.solve` method. `NLBVP`s are iterated using the `solver.newton_iteration` method\n",
        "\n",
        "The control logic for the main loop of a `Dedalus` `IVP` simulation is implemented explicitly in the simulation script. The `solver.proceed` property will automatically switch from `True` to `False` once any of the defined stopping criteria have been satisfied\n",
        "\n",
        "In the following example, we advance our problem until the halting condition is reached, saving the grid values of `u` every few iterations. We explicitly retrieve the grid values of `u` with a scale factor of `1`, since field data is internally converted to the dealiasing scales when the `RHS` operators are evaluated at each step. We also copy the grid values explicitly, because the integrator updates the field’s data in place. This run should take only a few seconds to complete"
      ],
      "id": "987c308a"
    },
    {
      "cell_type": "code",
      "metadata": {},
      "source": [
        "# Setup storage\n",
        "u_list = [u['g', 1].copy()]\n",
        "t_list = [solver.sim_time]\n",
        "\n",
        "# Main loop\n",
        "timestep = 0.05\n",
        "while solver.proceed:\n",
        "    solver.step(timestep)\n",
        "    if solver.iteration % 10 == 0:\n",
        "        u_list.append(u['g', 1].copy())\n",
        "        t_list.append(solver.sim_time)\n",
        "    if solver.iteration % 1000 == 0:\n",
        "        print(f'Completed iteration {solver.iteration}')\n",
        "\n",
        "# Convert storage lists to arrays\n",
        "u_array = np.array(u_list)\n",
        "t_array = np.array(t_list)"
      ],
      "id": "71cbd89d",
      "execution_count": null,
      "outputs": []
    },
    {
      "cell_type": "markdown",
      "metadata": {},
      "source": [
        "Next, we generate a space–time plot of the solution magnitude:"
      ],
      "id": "f033c24b"
    },
    {
      "cell_type": "code",
      "metadata": {},
      "source": [
        "# Plot solution\n",
        "plt.figure(figsize=(6, 7), dpi=100)\n",
        "\n",
        "plt.pcolormesh(x, t_array, np.abs(u_array), shading='nearest')\n",
        "\n",
        "plt.colorbar()\n",
        "plt.xlabel('x')\n",
        "plt.ylabel('t')\n",
        "plt.title('Hole-defect chaos in the CGLE: |u|')\n",
        "plt.tight_layout()"
      ],
      "id": "fc7e5eed",
      "execution_count": null,
      "outputs": []
    },
    {
      "cell_type": "markdown",
      "metadata": {},
      "source": [
        "## Analysis and Post-processing\n",
        "\n",
        "This tutorial introduces the basics of data analysis and post-processing in `Dedalus`. Analysis tasks can be defined symbolically and are automatically saved to distributed `HDF5` files"
      ],
      "id": "6bbd17de"
    },
    {
      "cell_type": "code",
      "metadata": {},
      "source": [
        "import subprocess\n",
        "import h5py\n",
        "\n",
        "import numpy as np\n",
        "import matplotlib.pyplot as plt\n",
        "\n",
        "import dedalus.public as d3"
      ],
      "id": "0de3ed80",
      "execution_count": null,
      "outputs": []
    },
    {
      "cell_type": "code",
      "metadata": {},
      "source": [
        "from pathlib import Path\n",
        "import shutil\n",
        "\n",
        "# Set the path for the analysis output folder\n",
        "analysis_dir = Path('dedalus/analysis')\n",
        "\n",
        "# 1. Safely remove the existing folder if it exists\n",
        "if analysis_dir.exists() and analysis_dir.is_dir():\n",
        "    shutil.rmtree(analysis_dir)\n",
        "    print(f\"Deleted existing folder: {analysis_dir}\")\n",
        "\n",
        "# 2. Create a new folder\n",
        "analysis_dir.mkdir(parents=True, exist_ok=True)\n",
        "print(f\"Created new folder: {analysis_dir}\")"
      ],
      "id": "8043e059",
      "execution_count": null,
      "outputs": []
    },
    {
      "cell_type": "markdown",
      "metadata": {},
      "source": [
        "### Analysis\n",
        "\n",
        "Dedalus provides a framework for defining, evaluating, and saving arbitrary analysis tasks while an initial value problem is running. To get started, let’s set up the complex Ginzburg–Landau problem from the previous tutorial"
      ],
      "id": "22a6a2b5"
    },
    {
      "cell_type": "code",
      "metadata": {},
      "source": [
        "# Basis\n",
        "xcoord = d3.Coordinate('x')\n",
        "dist = d3.Distributor(xcoord, dtype=np.complex128)\n",
        "xbasis = d3.Chebyshev(xcoord, 1024, bounds=(0, 300), dealias=2)\n",
        "\n",
        "# Fields\n",
        "u = dist.Field(name='u', bases=xbasis)\n",
        "tau1 = dist.Field(name='tau1')\n",
        "tau2 = dist.Field(name='tau2')\n",
        "\n",
        "# Substitutions\n",
        "dx = lambda A: d3.Differentiate(A, xcoord)\n",
        "magsq_u = u *np.conj(u)\n",
        "b = 0.5\n",
        "c = -1.76\n",
        "\n",
        "# Tau polynomials\n",
        "tau_basis = xbasis.derivative_basis(2)\n",
        "p1 = dist.Field(bases=tau_basis)\n",
        "p2 = dist.Field(bases=tau_basis)\n",
        "p1['c'][-1] = 1\n",
        "p2['c'][-2] = 2\n",
        "\n",
        "# Problem\n",
        "problem = d3.IVP([u, tau1, tau2], namespace=locals())\n",
        "problem.add_equation(\n",
        "  \"dt(u) -u -(1 +1j*b) *dx(dx(u)) +tau1 *p1 +tau2 *p2 = -(1 +1j *c) *magsq_u *u\"\n",
        ")\n",
        "problem.add_equation(\"u(x='left') = 0\")\n",
        "problem.add_equation(\"u(x='right') = 0\")\n",
        "\n",
        "# Solver\n",
        "solver = problem.build_solver(d3.RK222)\n",
        "solver.stop_sim_time = 500\n",
        "\n",
        "# Initial conditions\n",
        "x = dist.local_grid(xbasis)\n",
        "u['g'] = 1e-3 *np.sin(5 *np.pi *x /300)"
      ],
      "id": "38c3f442",
      "execution_count": null,
      "outputs": []
    },
    {
      "cell_type": "markdown",
      "metadata": {},
      "source": [
        "**Analysis handlers**\n",
        "\n",
        "The explicit evaluation of analysis tasks during timestepping is managed by the `solver.evaluator` object. Various handler objects can be attached to the evaluator to control when the evaluator computes their tasks and what happens to the resulting data\n",
        "\n",
        "For example, an internal `SystemHandler` directs the evaluator to compute the `RHS` expressions at every iteration and uses the resulting data for the explicit part of the timestepping algorithm\n",
        "\n",
        "For simulation analysis, the most commonly used handler is the `FileHandler`, which periodically computes tasks and writes the results to `HDF5` files. When setting up a file handler, you specify the output directory or file path, as well as the cadence at which the handler’s tasks should be evaluated. This cadence can be specified in terms of any combination of:\n",
        "\n",
        "* Simulation time, with `sim_dt`\n",
        "* Wall time, with `wall_dt`\n",
        "* Iteration number, with `iter`\n",
        "\n",
        "To limit file sizes, the output from a file handler is divided into different sets over time, each containing a limited number of writes, which can be controlled using the `max_writes` keyword when constructing the file handler\n",
        "\n",
        "For example, to evaluate a file handler every 10 iterations:"
      ],
      "id": "c8a9dc08"
    },
    {
      "cell_type": "code",
      "metadata": {},
      "source": [
        "analysis = solver.evaluator.add_file_handler(analysis_dir, iter=10, max_writes=400)"
      ],
      "id": "e7487039",
      "execution_count": null,
      "outputs": []
    },
    {
      "cell_type": "markdown",
      "metadata": {},
      "source": [
        "You can attach multiple file handlers to save different sets of tasks at different cadences and to different files\n",
        "\n",
        "**Adding analysis tasks**\n",
        "\n",
        "Analysis tasks are attached to a given handler using the `add_task` method. Tasks can be specified as operator expressions or as plain text, and are parsed using the same `namespace` as for equation entry. For each task, you can optionally set the output layout, scaling factors, and a reference name\n",
        "\n",
        "For example, to track the average magnitude of the solution:"
      ],
      "id": "969ec6bb"
    },
    {
      "cell_type": "code",
      "metadata": {},
      "source": [
        "analysis.add_task(d3.Integrate(np.sqrt(magsq_u), 'x') /300, layout='g', name='<|u|>')"
      ],
      "id": "5d6cc111",
      "execution_count": null,
      "outputs": []
    },
    {
      "cell_type": "markdown",
      "metadata": {},
      "source": [
        "For checkpointing, you can also save all state variables at once using `add_tasks`:"
      ],
      "id": "446ca5a5"
    },
    {
      "cell_type": "code",
      "metadata": {},
      "source": [
        "analysis.add_tasks(solver.state, layout='g')"
      ],
      "id": "3b0e4a31",
      "execution_count": null,
      "outputs": []
    },
    {
      "cell_type": "markdown",
      "metadata": {},
      "source": [
        "Once the tasks are added, you can run the simulation just as in the previous tutorial. You no longer need to manually save any data inside the main loop. The evaluator will automatically compute and save the specified analysis tasks at the defined cadence"
      ],
      "id": "457c89e5"
    },
    {
      "cell_type": "code",
      "metadata": {},
      "source": [
        "# Main simulation loop\n",
        "timestep = 0.05\n",
        "while solver.proceed:\n",
        "  solver.step(timestep)\n",
        "  if solver.iteration % 1000 == 0:\n",
        "    print(f'Completed iteration {solver.iteration}')"
      ],
      "id": "7c5220a5",
      "execution_count": null,
      "outputs": []
    },
    {
      "cell_type": "markdown",
      "metadata": {},
      "source": [
        "### Post-processing\n",
        "\n",
        "**File Arrangement**\n",
        "\n",
        "By default, the output files for each `FileHandler` are organized as follows:\n",
        "\t\n",
        "1.\tBase folder\n",
        "* Named according to the first argument provided when constructing the file handler, e.g., `dedalus/analysis/`\n",
        "  \n",
        "2.\tSet files\n",
        "*\tWithin the base folder, `HDF5` files are created for each output set\n",
        "* Each file has the same base name with a set number appended, e.g., `analysis_s1.h5`\n",
        "\n",
        "3.\tParallel execution\n",
        "* When running in parallel, each set may contain subfolders with individual `HDF5` files for each process, e.g., `dedalus/analysis_s1/analysis_s1_p0.h5`\n",
        "* These process files are virtually merged into the corresponding set files and generally do not need to be accessed directly\n",
        "* If relocating the data, the set folders and process files should be moved or copied along with the set files\n",
        "\n",
        "Let’s examine the output files from our example problem. Since we have a total of `1000` outputs and `max_writes=400` per file, we should see three output \n",
        "sets"
      ],
      "id": "54c743b1"
    },
    {
      "cell_type": "code",
      "metadata": {},
      "source": [
        "print(subprocess.check_output(\"find dedalus/analysis | sort\", shell=True).decode())"
      ],
      "id": "562b9432",
      "execution_count": null,
      "outputs": []
    },
    {
      "cell_type": "markdown",
      "metadata": {},
      "source": [
        "**Handling data**\n",
        "\n",
        "`Dedalus` produces `HDF5` files that can be accessed directly using `h5py` or loaded into `xarray`. Here, we first focus on directly interacting with the `HDF5` files via `h5py`\n",
        "\n",
        "Each `HDF5` file contains a `tasks` group, which includes a dataset for each task assigned to the file handler\n",
        "\n",
        "* The first dimension of each dataset corresponds to time\n",
        "* Subsequent dimensions correspond to vector/tensor components of the task (if applicable)\n",
        "* The remaining dimensions correspond to the spatial axes of the task\n",
        "\n",
        "The `HDF5` datasets are self-describing, with dimensional scales attached to each axis:\n",
        "\n",
        "* Time axis: simulation time, wall time, iteration number, and write number\n",
        "* Spatial axes: grid points or modes, depending on the task layout\n",
        "\n",
        "For more details, see the [`h5py` documentation](https://docs.h5py.org/en/latest/)\n",
        "\n",
        "Now, let’s open the first analysis set file and plot a time series of the average magnitude of the solution"
      ],
      "id": "c8c60ff2"
    },
    {
      "cell_type": "code",
      "metadata": {},
      "source": [
        "with h5py.File(analysis_dir/\"analysis_s1.h5\", mode='r') as file:\n",
        "  # Load datasets\n",
        "  mag_u = file['tasks']['<|u|>']\n",
        "  t = mag_u.dims[0]['sim_time']\n",
        "  \n",
        "  # Plot data\n",
        "  fig = plt.figure(figsize=(6, 4), dpi=100)\n",
        "  \n",
        "  plt.plot(t[:], mag_u[:].real)\n",
        "  plt.xlabel('t')\n",
        "  plt.ylabel('<|u|>')"
      ],
      "id": "2442ddf2",
      "execution_count": null,
      "outputs": []
    },
    {
      "cell_type": "markdown",
      "metadata": {},
      "source": [
        "It is also possible to load analysis tasks directly into an `xarray.DataArray`, and then utilize `xarray`’s plotting utilities for visualization"
      ],
      "id": "32344cc9"
    },
    {
      "cell_type": "code",
      "metadata": {},
      "source": [
        "tasks = d3.load_tasks_to_xarray(analysis_dir/\"analysis_s1.h5\")\n",
        "\n",
        "fig = plt.figure(figsize=(6, 4), dpi=100)\n",
        "tasks['<|u|>'].real.plot();"
      ],
      "id": "98b14eaa",
      "execution_count": null,
      "outputs": []
    },
    {
      "cell_type": "markdown",
      "metadata": {},
      "source": [
        "Now let’s examine the saved solution over space and time.\n",
        "This time, instead of plotting the amplitude, we will plot the phase of the solution"
      ],
      "id": "375b4018"
    },
    {
      "cell_type": "code",
      "metadata": {},
      "source": [
        "with h5py.File(analysis_dir/\"analysis_s1.h5\", mode='r') as file:\n",
        "  # Load datasets\n",
        "  u = file['tasks']['u']\n",
        "  t = u.dims[0]['sim_time']\n",
        "  x = u.dims[1][0]\n",
        "  \n",
        "  # Plot data\n",
        "  u_phase = np.arctan2(u[:].imag, u[:].real)\n",
        "  \n",
        "  plt.figure(figsize=(6, 7), dpi=100)\n",
        "  \n",
        "  plt.pcolormesh(x[:], t[:], u_phase, shading='nearest', cmap='twilight_shifted')\n",
        "  plt.colorbar(label='phase(u)')\n",
        "\n",
        "  plt.xlabel('x')\n",
        "  plt.ylabel('t')\n",
        "  plt.title('Hole-defect chaos in the CGLE')"
      ],
      "id": "bfae55ec",
      "execution_count": null,
      "outputs": []
    },
    {
      "cell_type": "markdown",
      "metadata": {},
      "source": [
        "Again, this process can be simplified by loading the data into `xarray` and using its plotting utilities"
      ],
      "id": "d0bbf328"
    },
    {
      "cell_type": "code",
      "metadata": {},
      "source": [
        "tasks = d3.load_tasks_to_xarray(analysis_dir/\"analysis_s1.h5\")\n",
        "u_phase = np.arctan2(tasks['u'].imag, tasks['u'].real)\n",
        "u_phase.name = \"phase(u)\"\n",
        "\n",
        "plt.figure(figsize=(6, 7), dpi=100)\n",
        "\n",
        "u_phase.plot(x='x', y='t', cmap='twilight_shifted')\n",
        "plt.title('Hole-defect chaos in the CGLE');"
      ],
      "id": "e283f5fc",
      "execution_count": null,
      "outputs": []
    }
  ],
  "metadata": {
    "kernelspec": {
      "name": "dedalus3",
      "language": "python",
      "display_name": "dedalus",
      "path": "/Users/kyyoo/Library/Jupyter/kernels/dedalus3"
    }
  },
  "nbformat": 4,
  "nbformat_minor": 5
}