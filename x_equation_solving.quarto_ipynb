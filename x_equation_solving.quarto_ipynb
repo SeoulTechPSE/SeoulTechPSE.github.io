{
  "cells": [
    {
      "cell_type": "markdown",
      "metadata": {},
      "source": [
        "---\n",
        "jupyter: python3\n",
        "---\n",
        "\n",
        "# Equation Solving {#sec-equation-solving}\n",
        "\n",
        "$~$\n",
        "\n",
        "* In this appendix, we use `sympy` for solving equations symbolically, when possible, and use the `linalg` module from the `scipy` library for numerically solving linear equation systems. For tackling nonlinear problems, we will use the root-finding functions in the `optimize` module of `scipy`\n",
        "\n",
        "## Importing modules"
      ],
      "id": "71b0f6c0"
    },
    {
      "cell_type": "code",
      "metadata": {},
      "source": [
        "import numpy as np\n",
        "import sympy\n",
        "sympy.init_printing()\n",
        "\n",
        "from scipy import linalg as la\n",
        "from scipy import optimize\n",
        "\n",
        "import matplotlib as mpl\n",
        "import matplotlib.pyplot as plt"
      ],
      "id": "82a3c083",
      "execution_count": null,
      "outputs": []
    },
    {
      "cell_type": "code",
      "metadata": {},
      "source": [
        "print('numpy: ', np.__version__)\n",
        "print('sympy: ', sympy.__version__)\n",
        "\n",
        "from scipy import __version__\n",
        "print('scipy: ', __version__)\n",
        "\n",
        "print('matplotlib: ', mpl.__version__)"
      ],
      "id": "21c37dd1",
      "execution_count": null,
      "outputs": []
    },
    {
      "cell_type": "markdown",
      "metadata": {},
      "source": [
        "## System of Linear equations\n",
        "\n",
        "$~$\n",
        "\n",
        "$$\n",
        "\\begin{pmatrix}\n",
        "    a_{11} & a_{12} & \\cdots & a_{1n} \\\\ \n",
        "    a_{21} & a_{22} & \\cdots & a_{2n} \\\\ \n",
        "    \\vdots & \\vdots & \\ddots & \\vdots \\\\ \n",
        "    a_{m1} & a_{m2} & \\cdots & a_{mn}\n",
        "\\end{pmatrix}\n",
        "\\begin{pmatrix}\n",
        "    x_1\\\\ \n",
        "    x_2\\\\ \n",
        "    \\vdots\\\\ \n",
        "    x_n\n",
        "\\end{pmatrix}=\n",
        "\\begin{pmatrix}\n",
        "    b_1\\\\ \n",
        "    b_2\\\\ \n",
        "    \\vdots\\\\ \n",
        "    b_m\n",
        "\\end{pmatrix}$$\n",
        "    \n",
        "$$\\text{or}$$\n",
        "    \n",
        "$$\\text{simply}~\\mathbf{A}\\mathbf{x}=\\mathbf{b}$$\n",
        "\n",
        "$~$\n",
        "\n",
        "### Square system\n",
        "\n",
        "$$\n",
        "\\begin{aligned}\n",
        " 2 x_1 + 3 x_2 &= 4\\\\ \n",
        " 5 x_1 + 4 x_2 &= 3\n",
        "\\end{aligned}\n",
        "$$"
      ],
      "id": "7e92bbea"
    },
    {
      "cell_type": "code",
      "metadata": {},
      "source": [
        "A = np.array([[2, 3], [5, 4]])\n",
        "b = np.array([4, 3])\n",
        "x = la.solve(A, b)\n",
        "x"
      ],
      "id": "d71ba15a",
      "execution_count": null,
      "outputs": []
    },
    {
      "cell_type": "code",
      "metadata": {},
      "source": [
        "x1 = np.linspace(-4, 2, 100)\n",
        "\n",
        "x2_1 = (4 -2 *x1) /3\n",
        "x2_2 = (3 -5 *x1) /4"
      ],
      "id": "4f945615",
      "execution_count": null,
      "outputs": []
    },
    {
      "cell_type": "code",
      "metadata": {},
      "source": [
        "fig, ax = plt.subplots(figsize=(6, 4))\n",
        "\n",
        "ax.plot(x1, x2_1, 'r', lw=2, label=r\"$2x_1+3x_2=4$\")\n",
        "ax.plot(x1, x2_2, 'b', lw=2, label=r\"$5x_1+4x_2=3$\")\n",
        "\n",
        "ax.plot(x[0], x[1], 'ko', lw=2)\n",
        "ax.annotate(\"\"\"The intersection point of\n",
        "the two lines is the solution\n",
        "of the equation system\"\"\",\n",
        "            xy=(x[0], x[1]), \n",
        "            xycoords='data',\n",
        "            xytext=(-120, -75), \n",
        "            textcoords='offset points', \n",
        "            arrowprops=dict(arrowstyle=\"->\", \n",
        "            connectionstyle=\"arc3, rad=-0.3\"))\n",
        "\n",
        "ax.set_xlim([-4, 2])\n",
        "ax.set_ylim([-2, 6])\n",
        "ax.tick_params(which='both', direction='in')\n",
        "ax.set_xlabel(r\"$x_1$\", fontsize=16)\n",
        "ax.set_ylabel(r\"$x_2$\", fontsize=16)\n",
        "ax.legend()"
      ],
      "id": "af4a067d",
      "execution_count": null,
      "outputs": []
    },
    {
      "cell_type": "markdown",
      "metadata": {},
      "source": [
        "#### Symbolic approach"
      ],
      "id": "c7b7acd2"
    },
    {
      "cell_type": "code",
      "metadata": {},
      "source": [
        "A = sympy.Matrix([[2, 3], [5, 4]])\n",
        "b = sympy.Matrix([4, 3])"
      ],
      "id": "cec94420",
      "execution_count": null,
      "outputs": []
    },
    {
      "cell_type": "code",
      "metadata": {},
      "source": [
        "A.condition_number()"
      ],
      "id": "5f164dad",
      "execution_count": null,
      "outputs": []
    },
    {
      "cell_type": "code",
      "metadata": {},
      "source": [
        "sympy.N(_)"
      ],
      "id": "da28bf44",
      "execution_count": null,
      "outputs": []
    },
    {
      "cell_type": "markdown",
      "metadata": {},
      "source": [
        "---"
      ],
      "id": "646d0331"
    },
    {
      "cell_type": "code",
      "metadata": {},
      "source": [
        "L, U, _ = A.LUdecomposition()"
      ],
      "id": "11c924b0",
      "execution_count": null,
      "outputs": []
    },
    {
      "cell_type": "code",
      "metadata": {},
      "source": [
        "L, U, L * U"
      ],
      "id": "96c8bfce",
      "execution_count": null,
      "outputs": []
    },
    {
      "cell_type": "code",
      "metadata": {},
      "source": [
        "x = A.solve(b); x  # equivalent to A.LUsolve(b)"
      ],
      "id": "d73aec43",
      "execution_count": null,
      "outputs": []
    },
    {
      "cell_type": "markdown",
      "metadata": {},
      "source": [
        "#### Numerical approach"
      ],
      "id": "d5b6376e"
    },
    {
      "cell_type": "code",
      "metadata": {},
      "source": [
        "A = np.array([[2, 3], [5, 4]])\n",
        "b = np.array([4, 3])"
      ],
      "id": "de46170d",
      "execution_count": null,
      "outputs": []
    },
    {
      "cell_type": "code",
      "metadata": {},
      "source": [
        "np.linalg.cond(A)"
      ],
      "id": "badc89c2",
      "execution_count": null,
      "outputs": []
    },
    {
      "cell_type": "code",
      "metadata": {},
      "source": [
        "P, L, U = la.lu(A)"
      ],
      "id": "18b9bde2",
      "execution_count": null,
      "outputs": []
    },
    {
      "cell_type": "code",
      "metadata": {},
      "source": [
        "P, L, U, P @ (L @ U)"
      ],
      "id": "cca6b268",
      "execution_count": null,
      "outputs": []
    },
    {
      "cell_type": "code",
      "metadata": {},
      "source": [
        "la.solve(A, b)"
      ],
      "id": "bddfb23b",
      "execution_count": null,
      "outputs": []
    },
    {
      "cell_type": "markdown",
      "metadata": {},
      "source": [
        "---\n",
        "\n",
        "* The advantage of using `sympy` is of course that we may obtain exact results and we can also include symbolic variables in the matrices. However, not all problems are solvable symbolically, or it may give exceedingly lengthy results\n",
        "\n",
        "* The advantage of using a numerical approach with `numpy/scipy`, on the other hand, is that we are guaranteed to obtain a result, although it will be an approximate solution due to floating-point errors\n",
        "\n",
        "* See the code below for an example that illustrates the differences between the symbolic and numerical approaches, and for an example that show the numerical approaches can be sensitive for equation systems with large condition numbers\n",
        "\n",
        "* In this example, we solve the equation system\n",
        "\n",
        "    $$\n",
        "    \\begin{pmatrix}\n",
        "    1 & \\sqrt{p}\\\\ \n",
        "    1 & \\frac{1}{\\sqrt{p}}\n",
        "    \\end{pmatrix}\n",
        "    \\begin{pmatrix}\n",
        "    x_1 \\\\ x_2 \n",
        "    \\end{pmatrix}=\n",
        "    \\begin{pmatrix}\n",
        "    1 \\\\ 2\n",
        "    \\end{pmatrix}\n",
        "    $$\n",
        "\n",
        "    which for $p=1$ is singular and for $p$ in the vicinity of one is ill-conditioned\n",
        "\n",
        "* A comparison between this symbolic solution and the numerical solution is shown in Figure below. Here the errors in the numerical solution are due to numerical floating-point errors, and the numerical errors are significantly larger in the vicinity of $p=1$, where the system has a large condition number. Also, if there are other sources of errors in either $\\mathbf{A}$ or $\\mathbf{b}$, the corresponding errors in $\\mathbf{x}$ can be even more severe    "
      ],
      "id": "d56d6a32"
    },
    {
      "cell_type": "code",
      "metadata": {},
      "source": [
        "# Symbolic problem specification\n",
        "p = sympy.symbols(\"p\", positive=True)\n",
        "A = sympy.Matrix([[1, sympy.sqrt(p)], [1, 1/sympy.sqrt(p)]])\n",
        "b = sympy.Matrix([1, 2])\n",
        "\n",
        "# Solve symbolically\n",
        "x_sym_sol = A.solve(b)\n",
        "x_sym_sol.simplify()\n",
        "x_sym_sol"
      ],
      "id": "c96d32c8",
      "execution_count": null,
      "outputs": []
    },
    {
      "cell_type": "code",
      "metadata": {},
      "source": [
        "Acond = A.condition_number().simplify()\n",
        "Acond"
      ],
      "id": "b7d1ec53",
      "execution_count": null,
      "outputs": []
    },
    {
      "cell_type": "code",
      "metadata": {},
      "source": [
        "# Function for solving numerically\n",
        "AA = lambda p: np.array([[1, np.sqrt(p)], [1, 1/np.sqrt(p)]])\n",
        "bb = np.array([1, 2])\n",
        "x_num_sol = lambda p: np.linalg.solve(AA(p), bb)"
      ],
      "id": "b972074f",
      "execution_count": null,
      "outputs": []
    },
    {
      "cell_type": "code",
      "metadata": {},
      "source": [
        "# Graph the difference between the symbolic (exact) \n",
        "# and numerical results.\n",
        "p_vec = np.linspace(0.9, 1.1, 200)\n",
        "\n",
        "fig, axes = plt.subplots(2, 1, figsize=(6, 8))\n",
        "\n",
        "for n in range(2):\n",
        "    x_sym = np.array([x_sym_sol[n].subs(p, pp).evalf() \n",
        "                     for pp in p_vec])\n",
        "    x_num = np.array([x_num_sol(pp)[n] for pp in p_vec])\n",
        "    axes[0].plot(p_vec, (x_num - x_sym) /x_sym, 'k')\n",
        "    \n",
        "axes[0].set_title(\"Error in solution\\n\"\n",
        "                  \"(numerical - symbolic) /symbolic\")\n",
        "# axes[0].set_xlabel(r'$p$', fontsize=12)\n",
        "axes[0].set_xlim([0.9, 1.1])\n",
        "axes[0].set_ylim([-2.0e-13, 4.0e-13])\n",
        "axes[0].tick_params(which='both', direction='in')\n",
        "axes[0].tick_params(axis='x', pad=7)\n",
        "axes[0].set_xticks(np.arange(0.9, 1.1, 0.05))\n",
        "\n",
        "axes[1].plot(p_vec, [Acond.subs(p, pp).evalf() \n",
        "                     for pp in p_vec])\n",
        "\n",
        "axes[1].set_title(\"Condition number\")\n",
        "axes[1].set_xlabel(r'$p$', fontsize=12)\n",
        "axes[1].set_xlim([0.9, 1.1])\n",
        "axes[1].set_ylim([0, 9000])\n",
        "axes[1].tick_params(which='both', direction='in')\n",
        "axes[1].tick_params(axis='x', pad=7)\n",
        "axes[1].set_xticks(np.arange(0.9, 1.1, 0.05))\n",
        "axes[1].set_yticks([3000, 6000, 9000])"
      ],
      "id": "9eaf0fda",
      "execution_count": null,
      "outputs": []
    },
    {
      "cell_type": "markdown",
      "metadata": {},
      "source": [
        "### Rectangular system\n",
        "\n",
        "#### Under-determined\n",
        "\n",
        "* Rectangular systems, with $m \\times n$, can be either under-determined or over-determined\n",
        "\n",
        "* Under-determined systems have more variables than equations, so the solution cannot be fully determined. Therefore, for such a system, the solution must be given in terms of the remaining free variables. This makes it difficult to treat this type of problem numerically, but a symbolic approach can often be used instead. For example, consider the underdetermined linear equation system\n",
        "\n",
        "  $$ \n",
        "    \\begin{pmatrix}\n",
        "    1 & 2 & 3\\\\ \n",
        "    4 & 5 & 6\n",
        "    \\end{pmatrix}\n",
        "    \\begin{pmatrix}\n",
        "    x_1 \\\\ x_2 \\\\ x_3\n",
        "    \\end{pmatrix}=\n",
        "    \\begin{pmatrix}\n",
        "    7 \\\\ 8\n",
        "    \\end{pmatrix}\n",
        "  $$"
      ],
      "id": "b30061e0"
    },
    {
      "cell_type": "code",
      "metadata": {},
      "source": [
        "x_vars = sympy.symbols(\"x_1, x_2, x_3\")\n",
        "x = sympy.Matrix(x_vars)\n",
        "A = sympy.Matrix([[1, 2, 3], [4, 5, 6]])\n",
        "b = sympy.Matrix([7, 8])\n",
        "sympy.solve(A*x - b, x_vars)"
      ],
      "id": "f6b6c3bf",
      "execution_count": null,
      "outputs": []
    },
    {
      "cell_type": "markdown",
      "metadata": {},
      "source": [
        "#### Over-determined: Least squares\n",
        "\n",
        "* It is often interesting to find an approximate solution to an over-determined system. An example of when this situation arises is data fitting: Say we have a model where a variable $y$ is a quadratic polynomial in the variable $x$, so that $y = a_0 +a_1 x +a_2 x^2$, and that we would like to fit this model to experimental data\n",
        "\n",
        "* Here $y$ is nonlinear in $x$, but $y$ is linear in the three unknown coefficients $a_0$, \n",
        " $a_1$ and $a_2$, and this fact can be used to write the model as a linear equation system. If we collect data for $m$ pairs $\\{ x_i, y_i \\}_{i=1}^m$ \n",
        " of the variables $x$ and $y$, we can write the model as an $m \\times 3$ equation system:\n",
        " \n",
        "  $$\n",
        "    \\begin{pmatrix}\n",
        "    1 & x_1 & x_1^2\\\\\n",
        "    \\vdots & \\vdots & \\vdots \\\\ \n",
        "    1 & x_m & x_m^2\n",
        "    \\end{pmatrix}\n",
        "    \\begin{pmatrix}\n",
        "    a_0 \\\\[4pt] a_1 \\\\[4pt] a_3\n",
        "    \\end{pmatrix}=\n",
        "    \\begin{pmatrix}\n",
        "    y_1 \\\\ \\vdots \\\\ y_m\n",
        "    \\end{pmatrix}\n",
        "  $$\n",
        "\n",
        "* For $m > 3$, there is in general no exact solution, and we need to introduce an approximate solution that give a best fit for the over-determined system\n",
        "\n",
        "* A natural definition of best fit for the over-determined system $\\mathbf{Ax} \\approx \\mathbf{b}$, is to minimize the sum of square error,\n",
        "\n",
        "  $$ \\min_x \\sum_{i=1}^m r_i^2 $$\n",
        "\n",
        "  where $\\mathbf{r} = \\mathbf{b} -\\mathbf{Ax}$ is the residual vector. This leads to the least square solution of the problem $\\mathbf{Ax} \\approx \\mathbf{b}$, which minimizes the distances between the data points\n",
        "\n",
        "* In `sympy`, we can solve for the least square solution of an over-determined system using the `solve_least_squares` method, and for numerical problems we can use the `scipy` function `la.lstsq`"
      ],
      "id": "9e7580b4"
    },
    {
      "cell_type": "code",
      "metadata": {},
      "source": [
        "np.random.seed(1234)\n",
        "\n",
        "# define true model parameters\n",
        "m = 100\n",
        "x = np.linspace(-1, 1, m)\n",
        "a, b, c = 1, 2, 3\n",
        "y_exact = a +b*x +c*x**2\n",
        "\n",
        "# simulate noisy data points\n",
        "X = 1 -2*np.random.rand(m)\n",
        "Y = a +b*X +c*X**2 +np.random.randn(m)\n",
        "\n",
        "# fit the data to the model using linear least square\n",
        "# see np.vander for alternative\n",
        "A = np.vstack([X**0, X**1, X**2])  \n",
        "sol, r, rank, sv = la.lstsq(A.T, Y)\n",
        "y_fit = sol[0] +sol[1] *x +sol[2] *x**2"
      ],
      "id": "c6e3a12e",
      "execution_count": null,
      "outputs": []
    },
    {
      "cell_type": "code",
      "metadata": {},
      "source": [
        "fig, ax = plt.subplots(figsize=(6, 4))\n",
        "\n",
        "ax.plot(X, Y, 'go', alpha=0.5, \n",
        "        label='Simulated data')\n",
        "ax.plot(x, y_exact, 'r', lw=2, \n",
        "        label='True value $y = 1 + 2x + 3x^2$')\n",
        "ax.plot(x, y_fit, 'b', lw=2, \n",
        "        label='Least square fit')\n",
        "ax.set_xlabel(r\"$x$\", fontsize=12)\n",
        "ax.set_ylabel(r\"$y$\", fontsize=12)\n",
        "ax.legend(loc=2)"
      ],
      "id": "a33e14b3",
      "execution_count": null,
      "outputs": []
    },
    {
      "cell_type": "code",
      "metadata": {},
      "source": [
        "# fit the data to the model using linear least square: \n",
        "\n",
        "# 1st order polynomial\n",
        "A = np.vstack([X**n for n in range(2)])\n",
        "sol, r, rank, sv = la.lstsq(A.T, Y)\n",
        "y_fit1 = sum([s*x**n for n, s in enumerate(sol)])\n",
        "\n",
        "# 15th order polynomial\n",
        "A = np.vstack([X**n for n in range(16)])\n",
        "sol, r, rank, sv = la.lstsq(A.T, Y)\n",
        "y_fit15 = sum([s*x**n for n, s in enumerate(sol)])"
      ],
      "id": "28ee6c4d",
      "execution_count": null,
      "outputs": []
    },
    {
      "cell_type": "code",
      "metadata": {},
      "source": [
        "fig, ax = plt.subplots(figsize=(6, 4))\n",
        "\n",
        "ax.plot(X, Y, 'go', alpha=0.5, \n",
        "        label='Simulated data')\n",
        "ax.plot(x, y_exact, 'r', lw=2, \n",
        "        label='True value $y = 1 + 2x + 3x^2$')\n",
        "ax.plot(x, y_fit1, 'b', lw=2, \n",
        "        label='Least square fit [1st order]')\n",
        "ax.plot(x, y_fit15, 'm', lw=2, \n",
        "        label='Least square fit [15th order]')\n",
        "ax.set_xlabel(r\"$x$\", fontsize=12)\n",
        "ax.set_ylabel(r\"$y$\", fontsize=12)\n",
        "ax.legend(loc=2)"
      ],
      "id": "0e19f578",
      "execution_count": null,
      "outputs": []
    },
    {
      "cell_type": "markdown",
      "metadata": {},
      "source": [
        "## Eigenvalue problems"
      ],
      "id": "9395d060"
    },
    {
      "cell_type": "code",
      "metadata": {},
      "source": [
        "eps, delta = sympy.symbols(\"epsilon, Delta\")\n",
        "H = sympy.Matrix([[eps, delta], [delta, -eps]])\n",
        "H "
      ],
      "id": "1bfe3957",
      "execution_count": null,
      "outputs": []
    },
    {
      "cell_type": "code",
      "metadata": {},
      "source": [
        "H.eigenvals()"
      ],
      "id": "b39a645e",
      "execution_count": null,
      "outputs": []
    },
    {
      "cell_type": "code",
      "metadata": {},
      "source": [
        "H.eigenvects()[0]"
      ],
      "id": "8304dea7",
      "execution_count": null,
      "outputs": []
    },
    {
      "cell_type": "code",
      "metadata": {},
      "source": [
        "H.eigenvects()[1]"
      ],
      "id": "c120ebd3",
      "execution_count": null,
      "outputs": []
    },
    {
      "cell_type": "code",
      "metadata": {},
      "source": [
        "(_, _, evec1), (_, _, evec2) = H.eigenvects()"
      ],
      "id": "a45b0887",
      "execution_count": null,
      "outputs": []
    },
    {
      "cell_type": "code",
      "metadata": {},
      "source": [
        "sympy.simplify(evec1[0].T*evec2[0])"
      ],
      "id": "f54b1f14",
      "execution_count": null,
      "outputs": []
    },
    {
      "cell_type": "markdown",
      "metadata": {},
      "source": [
        "* Obtaining analytical expressions for eigenvalues and eigenvectors using these methods is often very desirable indeed, but unfortunately it only works for small matrices\n",
        "\n",
        "* Thus, for larger systems we must resort to a fully numerical approach. For this, we can use the `la.eigvals` and `la.eig` functions in the `scipy` linear algebra package\n",
        "\n",
        "* Matrices that are either Hermitian or real symmetric have real-valued eigenvalues, and for such matrices, it is advantageous to instead use the functions `la.eigvalsh` and `la.eigh`, which guarantees that the eigenvalues returned by the function is stored in a `numpy` array with real values"
      ],
      "id": "41594ae1"
    },
    {
      "cell_type": "code",
      "metadata": {},
      "source": [
        "A = np.array([[1, 3, 5], [3, 5, 3], [5, 3, 9]])\n",
        "A"
      ],
      "id": "2b80fe3a",
      "execution_count": null,
      "outputs": []
    },
    {
      "cell_type": "code",
      "metadata": {},
      "source": [
        "la.eigvals(A)"
      ],
      "id": "57f15f78",
      "execution_count": null,
      "outputs": []
    },
    {
      "cell_type": "code",
      "metadata": {},
      "source": [
        "evals, evecs = la.eig(A)"
      ],
      "id": "65a6f3c5",
      "execution_count": null,
      "outputs": []
    },
    {
      "cell_type": "code",
      "metadata": {},
      "source": [
        "evecs"
      ],
      "id": "068f6296",
      "execution_count": null,
      "outputs": []
    },
    {
      "cell_type": "code",
      "metadata": {},
      "source": [
        "la.eigvalsh(A)"
      ],
      "id": "9959802a",
      "execution_count": null,
      "outputs": []
    },
    {
      "cell_type": "code",
      "metadata": {},
      "source": [
        "evals, evecs = la.eigh(A)"
      ],
      "id": "79bdf781",
      "execution_count": null,
      "outputs": []
    },
    {
      "cell_type": "code",
      "metadata": {},
      "source": [
        "evecs"
      ],
      "id": "61ce384d",
      "execution_count": null,
      "outputs": []
    },
    {
      "cell_type": "markdown",
      "metadata": {},
      "source": [
        "## Nonlinear equation\n",
        "\n",
        "* A nonlinear equation can always be written on the form $f(x)=0$, where $f(x)$ is a nonlinear function and we seek the value of $x$ (which can be a scalar or a vector) such that $f(x)$ is zero. This $x$ is called the root of $f(x)=0$, and equation solving is therefore often referred to as root finding\n",
        "\n",
        "### Univariate equation\n",
        "\n",
        "* In `sympy`, we can solve many analytically solvable univariate and nonlinear equations using the `sympy.solve` function. For example,"
      ],
      "id": "e55d7f53"
    },
    {
      "cell_type": "code",
      "metadata": {},
      "source": [
        "x, a, b, c = sympy.symbols(\"x, a, b, c\")"
      ],
      "id": "fb891c82",
      "execution_count": null,
      "outputs": []
    },
    {
      "cell_type": "code",
      "metadata": {},
      "source": [
        "sympy.solve(a + b*x + c*x**2, x)"
      ],
      "id": "09c7ec14",
      "execution_count": null,
      "outputs": []
    },
    {
      "cell_type": "code",
      "metadata": {},
      "source": [
        "sympy.solve(a*sympy.cos(x) - b*sympy.sin(x), x)"
      ],
      "id": "94633f64",
      "execution_count": null,
      "outputs": []
    },
    {
      "cell_type": "markdown",
      "metadata": {},
      "source": [
        "````\n",
        "```{{python}}\n",
        "sympy.solve(sympy.sin(x)-x, x)\n",
        "```\n",
        "\n",
        "NotImplementedError: multiple generators [x, sin(x)]\n",
        "No algorithms are implemented to solve equation -x + sin(x)\n",
        "````\n",
        "\n",
        "* In this type of situation, we need to resort to various numerical techniques. As a first step, it is often very useful to graph the function. This can give important clues about the number of solutions to the equation, and their approximate locations"
      ],
      "id": "fa25984f"
    },
    {
      "cell_type": "code",
      "metadata": {},
      "source": [
        "x = np.linspace(-2, 2, 400)\n",
        "\n",
        "# four examples of nonlinear functions\n",
        "f1 = x**2 -x -1\n",
        "f2 = x**3 -3*np.sin(x)\n",
        "f3 = np.exp(x) -2\n",
        "f4 = 1 -x**2 +np.sin(50 /(1 +x**2))"
      ],
      "id": "b22bd133",
      "execution_count": null,
      "outputs": []
    },
    {
      "cell_type": "code",
      "metadata": {},
      "source": [
        "# plot each function\n",
        "fig, axes = plt.subplots(4, 1, figsize=(4, 12), sharex=True)\n",
        "\n",
        "for n, f in enumerate([f1, f2, f3, f4]):\n",
        "    axes[n].plot(x, f, lw=1.5)\n",
        "    axes[n].axhline(0, ls=':', color='k')\n",
        "    axes[n].set_xlim(-2, 2)\n",
        "    axes[n].set_ylim(-5, 5)\n",
        "    axes[n].set_xticks([-2, -1, 0, 1, 2])\n",
        "    axes[n].tick_params(which='both', direction='in')\n",
        "    axes[n].set_ylabel(r'$f(x)$', fontsize=12)\n",
        "    \n",
        "axes[0].set_xlabel(r'$x$', fontsize=12)\n",
        "\n",
        "titles = [r'$f(x) = x^2 -x -1$', \n",
        "          r'$f(x) = x^3 -3 \\sin(x)$',\n",
        "          r'$f(x) = \\exp(x) -2$', \n",
        "          r'$f(x) = \\sin\\left( 50/(1 +x^2) \\right) +1 -x^2$']\n",
        "for n, title in enumerate(titles):\n",
        "    axes[n].set_title(title)\n",
        "    \n",
        "fig.tight_layout()"
      ],
      "id": "d51ab18c",
      "execution_count": null,
      "outputs": []
    },
    {
      "cell_type": "markdown",
      "metadata": {},
      "source": [
        "### Bisection method"
      ],
      "id": "9bb9b6b4"
    },
    {
      "cell_type": "code",
      "metadata": {},
      "source": [
        "# define a function, desired tolerance \n",
        "# and starting interval [a, b]\n",
        "x = np.linspace(-2.1, 2.1, 1000)\n",
        "f = lambda x: np.exp(x) - 2\n",
        "tol = 0.1\n",
        "a, b = -2, 2"
      ],
      "id": "bd22d16a",
      "execution_count": null,
      "outputs": []
    },
    {
      "cell_type": "code",
      "metadata": {},
      "source": [
        "# graph the function f\n",
        "fig, ax = plt.subplots(1, 1, figsize=(6.8, 4))\n",
        "\n",
        "ax.plot(x, f(x), lw=1.5)\n",
        "ax.axhline(0, ls=':', color='k')\n",
        "ax.set_xlabel(r'$x$', fontsize=12)\n",
        "ax.set_ylabel(r'$f(x)$', fontsize=12)\n",
        "ax.set_ylim(-3, 7)\n",
        "ax.set_xticks([-2, -1, 0, 1, 2])\n",
        "ax.tick_params(which='both', direction='in')\n",
        "\n",
        "# find the root using the bisection method and visualize\n",
        "# the steps in the method in the graph\n",
        "fa, fb = f(a), f(b)\n",
        "\n",
        "ax.plot(a, fa, 'ko'), ax.vlines(a, 0, fa, ls=':')\n",
        "ax.plot(b, fb, 'ko'), ax.vlines(b, 0, fb, ls=':')\n",
        "ax.text(a, fa - 0.8, r\"$a$\", ha='center', fontsize=12)\n",
        "ax.text(b, fb + 0.5, r\"$b$\", ha='center', fontsize=12)\n",
        "\n",
        "n = 1\n",
        "while b - a > tol:\n",
        "    m = a + (b - a)/2\n",
        "    fm = f(m)\n",
        "\n",
        "    ax.plot(m, fm, 'ko')\n",
        "    ax.plot([m, m], [0, fm], color='g', ls=':')\n",
        "    ax.text(m, fm -0.5, rf\"$m_{n}$\", ha='center', fontsize=8)\n",
        "    n += 1\n",
        "    \n",
        "    if np.sign(fa) == np.sign(fm):\n",
        "        a, fa = m, fm\n",
        "    else:\n",
        "        b, fb = m, fm\n",
        "\n",
        "ax.plot(m, fm, 'r*', markersize=10)\n",
        "ax.annotate(f\"Root approximately at {m: .3f}\",\n",
        "            fontsize=12, \n",
        "            family=\"serif\",\n",
        "            xy=(a, fm), \n",
        "            xycoords='data',\n",
        "            xytext=(-150, +50), \n",
        "            textcoords='offset points', \n",
        "            arrowprops=dict(arrowstyle=\"->\", \n",
        "            connectionstyle=\"arc3, rad=-.5\"))\n",
        "\n",
        "ax.set_title(\"Bisection method\")\n",
        "plt.show()"
      ],
      "id": "95678ff2",
      "execution_count": null,
      "outputs": []
    },
    {
      "cell_type": "markdown",
      "metadata": {},
      "source": [
        "### Newton's method"
      ],
      "id": "41a7e660"
    },
    {
      "cell_type": "code",
      "metadata": {},
      "source": [
        "s_x = sympy.symbols(\"x\")\n",
        "s_f = sympy.exp(s_x) -2\n",
        "\n",
        "f = lambda x: sympy.lambdify(s_x, s_f, 'numpy')(x)\n",
        "fp = lambda x: sympy.lambdify(s_x, sympy.diff(s_f, s_x), 'numpy')(x)\n",
        "\n",
        "x = np.linspace(-1.9, 2.1, 1000)\n",
        "\n",
        "# define a function, desired tolerance and starting point xk\n",
        "tol = 0.01\n",
        "xk = 2"
      ],
      "id": "e43524b3",
      "execution_count": null,
      "outputs": []
    },
    {
      "cell_type": "code",
      "metadata": {},
      "source": [
        "# setup a graph for visualizing the root finding steps\n",
        "fig, ax = plt.subplots(1, 1, figsize=(6.8, 4))\n",
        "\n",
        "ax.plot(x, f(x))\n",
        "ax.axhline(0, ls=':', color='k')\n",
        "ax.set_xticks([-2, -1, 0, 1, 2])\n",
        "ax.set_ylim(-3, 7)\n",
        "ax.set_xlabel(r'$x$', fontsize=12)\n",
        "ax.set_ylabel(r'$f(x)$', fontsize=12)\n",
        "ax.tick_params(which='both', direction='in')\n",
        "\n",
        "# repeat Newton's method \n",
        "# until convergence to the desired tolerance has been reached\n",
        "\n",
        "n = 0\n",
        "while f(xk) > tol:\n",
        "    xk_new = xk -f(xk) /fp(xk)\n",
        "\n",
        "    ax.plot([xk, xk], [0, f(xk)], color='k', ls=':')\n",
        "    ax.plot(xk, f(xk), 'ko')\n",
        "    ax.text(xk, -.5, rf'$x_{n}$', ha='center')\n",
        "    ax.plot([xk, xk_new], [f(xk), 0], 'g:')\n",
        "\n",
        "    xk = xk_new\n",
        "    n += 1\n",
        "\n",
        "ax.plot(xk, f(xk), 'ro', markersize=10)\n",
        "ax.annotate(f\"Root approximately at {xk: .3f}\",\n",
        "            fontsize=12, \n",
        "            family=\"serif\",\n",
        "            xy=(xk, f(xk)), \n",
        "            xycoords='data',\n",
        "            xytext=(-150, +50), \n",
        "            textcoords='offset points', \n",
        "            arrowprops=dict(arrowstyle=\"->\", \n",
        "            connectionstyle=\"arc3, rad=-.5\"))\n",
        "\n",
        "ax.set_title(\"Newton's method\")\n",
        "plt.show()"
      ],
      "id": "d81c7fde",
      "execution_count": null,
      "outputs": []
    },
    {
      "cell_type": "markdown",
      "metadata": {},
      "source": [
        "* The `scipy optimize` module provides multiple functions for numerical root finding. The `optimize.bisect` and `optimize.newton` functions implement variants of bisection and Newton methods"
      ],
      "id": "cd18bd3f"
    },
    {
      "cell_type": "code",
      "metadata": {},
      "source": [
        "f = lambda x: np.exp(x) -2"
      ],
      "id": "7dd1f6ee",
      "execution_count": null,
      "outputs": []
    },
    {
      "cell_type": "code",
      "metadata": {},
      "source": [
        "optimize.bisect(f, -2, 2)"
      ],
      "id": "81aba754",
      "execution_count": null,
      "outputs": []
    },
    {
      "cell_type": "code",
      "metadata": {},
      "source": [
        "x_root_guess = 2\n",
        "fprime = lambda x: np.exp(x)"
      ],
      "id": "dea87ca0",
      "execution_count": null,
      "outputs": []
    },
    {
      "cell_type": "code",
      "metadata": {},
      "source": [
        "optimize.newton(f, x_root_guess)"
      ],
      "id": "4eede508",
      "execution_count": null,
      "outputs": []
    },
    {
      "cell_type": "code",
      "metadata": {},
      "source": [
        "optimize.newton(f, x_root_guess, fprime=fprime)"
      ],
      "id": "d716f3f2",
      "execution_count": null,
      "outputs": []
    },
    {
      "cell_type": "markdown",
      "metadata": {},
      "source": [
        "* The `scipy` `optimize` module provides additional functions for root finding. In particular, the `optimize.brentq` and `optimize.brenth` functions, which are variants of the bisection method, and also work on an interval where the function changes sign"
      ],
      "id": "4321ab63"
    },
    {
      "cell_type": "code",
      "metadata": {},
      "source": [
        "optimize.brentq(f, -2, 2)"
      ],
      "id": "fd464a30",
      "execution_count": null,
      "outputs": []
    },
    {
      "cell_type": "code",
      "metadata": {},
      "source": [
        "optimize.brenth(f, -2, 2)"
      ],
      "id": "3fd762bc",
      "execution_count": null,
      "outputs": []
    },
    {
      "cell_type": "code",
      "metadata": {},
      "source": [
        "optimize.ridder(f, -2, 2)"
      ],
      "id": "e93206e0",
      "execution_count": null,
      "outputs": []
    },
    {
      "cell_type": "markdown",
      "metadata": {},
      "source": [
        "## System of nonlinear equations\n",
        "\n",
        "* For example, consider the following system of two multivariate and nonlinear equations:\n",
        "\n",
        "  $$\n",
        "    \\begin{aligned}\n",
        "    y - x^3 -2x^2 +1 &= 0\\\\ \n",
        "    y + x^2 -1 &= 0 \n",
        "    \\end{aligned}\n",
        "  $$"
      ],
      "id": "228093a9"
    },
    {
      "cell_type": "code",
      "metadata": {},
      "source": [
        "def f(x):\n",
        "  return [x[1] -x[0]**3 -2*x[0]**2 +1, x[1] +x[0]**2 -1]"
      ],
      "id": "a46be15d",
      "execution_count": null,
      "outputs": []
    },
    {
      "cell_type": "code",
      "metadata": {},
      "source": [
        "optimize.fsolve(f, [1, 1])"
      ],
      "id": "da8bff31",
      "execution_count": null,
      "outputs": []
    },
    {
      "cell_type": "code",
      "metadata": {},
      "source": [
        "optimize.broyden1(f, [1, 1])"
      ],
      "id": "59486ca4",
      "execution_count": null,
      "outputs": []
    },
    {
      "cell_type": "code",
      "metadata": {},
      "source": [
        "optimize.broyden2(f, [1, 1])"
      ],
      "id": "f41f3f69",
      "execution_count": null,
      "outputs": []
    },
    {
      "cell_type": "markdown",
      "metadata": {},
      "source": [
        "---"
      ],
      "id": "1f65283c"
    },
    {
      "cell_type": "code",
      "metadata": {},
      "source": [
        "x, y = sympy.symbols(\"x, y\")\n",
        "f_mat = sympy.Matrix([y - x**3 -2*x**2 + 1, y + x**2 - 1])\n",
        "f_mat.jacobian(sympy.Matrix([x, y]))"
      ],
      "id": "f532251e",
      "execution_count": null,
      "outputs": []
    },
    {
      "cell_type": "code",
      "metadata": {},
      "source": [
        "def f_jacobian(x):\n",
        "  return [[-3*x[0]**2 - 4*x[0], 1], [2*x[0], 1]]"
      ],
      "id": "12902cdb",
      "execution_count": null,
      "outputs": []
    },
    {
      "cell_type": "code",
      "metadata": {},
      "source": [
        "optimize.fsolve(f, [1, 1], fprime=f_jacobian)"
      ],
      "id": "edab6f49",
      "execution_count": null,
      "outputs": []
    },
    {
      "cell_type": "markdown",
      "metadata": {},
      "source": [
        "---"
      ],
      "id": "ac7fbc4f"
    },
    {
      "cell_type": "code",
      "metadata": {},
      "source": [
        "#def f(x):\n",
        "#  return [x[1] -x[0]**3 -2*x[0]**2 +1, x[1] +x[0]**2 -1]\n",
        "\n",
        "x = np.linspace(-3, 2, 5000)\n",
        "y1 = x**3 +2*x**2 -1\n",
        "y2 = -x**2 +1\n",
        " \n",
        "fig, ax = plt.subplots(figsize=(6, 4))\n",
        "\n",
        "ax.plot(x, y1, 'b', lw=1.5, label=r'$y = x^3 +2x^2 -1$')\n",
        "ax.plot(x, y2, 'g', lw=1.5, label=r'$y =-x^2 +1$')\n",
        "\n",
        "x_guesses = [[-2, 2], [1, -1], [-2, -5]]\n",
        "for x_guess in x_guesses:\n",
        "    sol = optimize.fsolve(f, x_guess)\n",
        "    ax.plot(sol[0], sol[1], 'r*', markersize=10)\n",
        "\n",
        "    ax.plot(x_guess[0], x_guess[1], 'ko')\n",
        "    ax.annotate(\"\", \n",
        "                xy=(sol[0], sol[1]), \n",
        "                xytext=(x_guess[0], x_guess[1]),\n",
        "                arrowprops=dict(arrowstyle=\"->\", \n",
        "                linewidth=1.5, linestyle=':'))\n",
        "    \n",
        "ax.legend(loc=0)\n",
        "ax.set_xlabel(r'$x$', fontsize=12)\n",
        "ax.set_ylabel(r'$y$', fontsize=12)\n",
        "\n",
        "plt.show()"
      ],
      "id": "4af45504",
      "execution_count": null,
      "outputs": []
    },
    {
      "cell_type": "code",
      "metadata": {},
      "source": [
        "import warnings\n",
        "warnings.filterwarnings(\"error\")\n",
        "\n",
        "#def f(x):\n",
        "#    return [x[1] -x[0]**3 -2*x[0]**2 +1, x[1] +x[0]**2 -1]\n",
        "\n",
        "fig, ax = plt.subplots(figsize=(6, 4))\n",
        "\n",
        "ax.plot(x, y1, 'k', lw=1.5, label=r'$y = x^3 +2x^2 -1$')\n",
        "ax.plot(x, y2, 'k', lw=1.5, label=r'$y = -x^2 +1$')\n",
        "\n",
        "sol1 = optimize.fsolve(f, [-2,  2])\n",
        "sol2 = optimize.fsolve(f, [ 1, -1])\n",
        "sol3 = optimize.fsolve(f, [-2, -5])\n",
        "\n",
        "colors = ['r', 'b', 'g']\n",
        "for m in np.linspace(-4, 3, 80):\n",
        "    for n in np.linspace(-15, 15, 40):\n",
        "        x_guess = [m, n]\n",
        "\n",
        "        try: \n",
        "            sol = optimize.fsolve(f, x_guess)\n",
        "\n",
        "            for idx, s in enumerate([sol1, sol2, sol3]):\n",
        "                if abs(s -sol).max() < 1e-8:\n",
        "                    ax.plot(sol[0], sol[1], \n",
        "                            colors[idx]+'*', markersize=10)\n",
        "                    ax.plot(x_guess[0], x_guess[1], \n",
        "                            colors[idx]+'.')\n",
        "        except:\n",
        "            pass\n",
        "\n",
        "\n",
        "ax.set_xlim(-4, 3)\n",
        "ax.set_ylim(-15, 15)\n",
        "ax.set_xlabel(r'$x$', fontsize=12)\n",
        "ax.set_ylabel(r'$y$', fontsize=12)\n",
        "\n",
        "plt.show()"
      ],
      "id": "876c3e5c",
      "execution_count": null,
      "outputs": []
    }
  ],
  "metadata": {
    "kernelspec": {
      "name": "python3",
      "language": "python",
      "display_name": "Python 3 (ipykernel)",
      "path": "/opt/miniconda3/share/jupyter/kernels/python3"
    }
  },
  "nbformat": 4,
  "nbformat_minor": 5
}