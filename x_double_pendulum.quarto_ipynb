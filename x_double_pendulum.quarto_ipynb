{
  "cells": [
    {
      "cell_type": "markdown",
      "metadata": {},
      "source": [
        "---\n",
        "jupyter: python3\n",
        "---\n",
        "\n",
        "# Double Pendulum {#sec-double-pendulum}\n",
        "\n",
        "$~$\n",
        "\n",
        "* Consider the rather complicated system of <font color=\"blue\">two coupled 2^nd^-order nonlinear ODEs</font> for a double pendulum\n",
        "\n",
        "  ![](figures/ch04_figure03.png \"Double Pendulum\"){height=\"40%\" fig-align=\"center\"}\n",
        "\n",
        "* <font color=\"blue\">Nonlinear governing equations</font>\n",
        "\n",
        "  $$\\scriptsize\n",
        "  \\begin{aligned}\n",
        "     (m_1+m_2) l_1\\color{red}{\\ddot{\\theta_1}} + m_2l_2\\color{red}{\\ddot{\\theta_2}\\cos(\\theta_1-\\theta_2)} &  \n",
        "      + m_2l_2\\color{red}{\\left(\\dot{\\theta_2}\\right)^2\\sin(\\theta_1-\\theta_2)}+g(m_1+m_2)\\color{red}{\\sin(\\theta_1)} = 0\\\\ \n",
        "     m_2l_2\\color{red}{\\ddot{\\theta_2}} + m_2l_1\\color{red}{\\ddot{\\theta_1}\\cos(\\theta_1-\\theta_2)} &  \n",
        "    - m_2l_1 \\color{red}{\\left(\\dot{\\theta_1}\\right)^2 \\sin(\\theta_1-\\theta_2)} +m_2g\\color{red}{\\sin(\\theta_2)} = 0\n",
        "  \\end{aligned}$$\n",
        "\n",
        "$~$"
      ],
      "id": "632a978f"
    },
    {
      "cell_type": "code",
      "metadata": {},
      "source": [
        "import numpy as np\n",
        "from scipy import integrate\n",
        "\n",
        "import sympy\n",
        "from sympy import init_printing\n",
        "init_printing()\n",
        "\n",
        "import matplotlib.pyplot as plt\n",
        "from matplotlib.animation import FuncAnimation\n",
        "from IPython.display import HTML"
      ],
      "id": "351a7600",
      "execution_count": null,
      "outputs": []
    },
    {
      "cell_type": "code",
      "metadata": {},
      "source": [
        "th1, th2 = sympy.symbols(\"theta_1, theta_2\", cls=sympy.Function)\n",
        "t, g, m1, l1, m2, l2 = sympy.symbols(\"t, g, m_1, l_1, m_2, l_2\")\n",
        "\n",
        "ode1 = sympy.Eq((m1 +m2) *l1 *th1(t).diff(t, t) +\n",
        "                m2 *l2 *th2(t).diff(t, t) *sympy.cos(th1(t) -th2(t)) +\n",
        "                m2 *l2 *th2(t).diff(t)**2 *sympy.sin(th1(t) -th2(t)) + \n",
        "                g *(m1 +m2) *sympy.sin(th1(t)), 0)\n",
        "\n",
        "ode2 = sympy.Eq(m2 *l2 *th2(t).diff(t, t) +\n",
        "                m2 *l1 *th1(t).diff(t, t) *sympy.cos(th1(t) -th2(t)) -\n",
        "                m2 *l1 *th1(t).diff(t)**2 *sympy.sin(th1(t) -th2(t)) +\n",
        "                m2 *g *sympy.sin(th2(t)), 0)"
      ],
      "id": "9783b9dc",
      "execution_count": null,
      "outputs": []
    },
    {
      "cell_type": "markdown",
      "metadata": {},
      "source": [
        "$~$\n",
        "\n",
        "* We first have <font color='red'>to write the system of two 2^nd^-order ODEs as a system of $\\,$four 1^st^-order ODEs on standard form</font>. $\\,$To this end, $\\,$we need to introduce new functions\n",
        "\n",
        "  $$\n",
        "  \\begin{aligned}\n",
        "   y_1(t) &= \\theta_1(t) \\\\\n",
        "   y_2(t) &= \\dot{\\theta_1}(t) \\\\\n",
        "   y_3(t) &= \\theta_2(t) \\\\\n",
        "   y_4(t) &=\\dot{\\theta_2}(t)\n",
        "  \\end{aligned}$$\n",
        "\n",
        "  and rewrite the ODEs in terms of these functions\n",
        "\n",
        "$~$"
      ],
      "id": "0c9250dd"
    },
    {
      "cell_type": "code",
      "metadata": {},
      "source": [
        "y1, y2, y3, y4 = sympy.symbols(\"y_1, y_2, y_3, y_4\", cls=sympy.Function)\n",
        "\n",
        "varchange = {th1(t): y1(t),\n",
        "             th1(t).diff(t, t): y2(t).diff(t),\n",
        "             th2(t): y3(t),\n",
        "             th2(t).diff(t, t): y4(t).diff(t)}\n",
        "\n",
        "ode1_vc = ode1.subs(varchange)\n",
        "ode2_vc = ode2.subs(varchange)\n",
        "ode3 = sympy.Eq(y1(t).diff(t) -y2(t), 0)\n",
        "ode4 = sympy.Eq(y3(t).diff(t) -y4(t), 0)"
      ],
      "id": "9feaa26c",
      "execution_count": null,
      "outputs": []
    },
    {
      "cell_type": "markdown",
      "metadata": {},
      "source": [
        "$~$\n",
        "\n",
        "* At this point, $\\,$we have <font color=\"blue\">four coupled 1^st^-order ODEs for the functions $\\,y_1\\,$ to $\\,y_4$</font>. $\\,$It only remains to solve for the derivatives of these functions to obtain the ODEs <font color=\"blue\">in standard form</font>\n",
        "\n",
        "$~$"
      ],
      "id": "f1a7f3ed"
    },
    {
      "cell_type": "code",
      "metadata": {},
      "source": [
        "y = sympy.Matrix([y1(t), y2(t), y3(t), y4(t)])\n",
        "vcsol = sympy.solve((ode1_vc, ode2_vc, ode3, ode4), y.diff(t), dict=True)\n",
        "\n",
        "f = y.diff(t).subs(vcsol[0])\n",
        "f"
      ],
      "id": "bc1326b3",
      "execution_count": null,
      "outputs": []
    },
    {
      "cell_type": "code",
      "metadata": {},
      "source": [
        "jac = sympy.Matrix([[f_i.diff(y_j) for y_j in y] for f_i in f])\n",
        "\n",
        "jac[:, 0]"
      ],
      "id": "91936bad",
      "execution_count": null,
      "outputs": []
    },
    {
      "cell_type": "code",
      "metadata": {},
      "source": [
        "jac[:, 1]"
      ],
      "id": "8d2af70d",
      "execution_count": null,
      "outputs": []
    },
    {
      "cell_type": "code",
      "metadata": {},
      "source": [
        "jac[:, 2]"
      ],
      "id": "a7b7895f",
      "execution_count": null,
      "outputs": []
    },
    {
      "cell_type": "code",
      "metadata": {},
      "source": [
        "jac[:, 3]"
      ],
      "id": "5c78c8ff",
      "execution_count": null,
      "outputs": []
    },
    {
      "cell_type": "code",
      "metadata": {},
      "source": [
        "params = {m1: 5.0, l1: 2.0, m2: 5.0, l2: 1.0, g: 9.8}\n",
        "\n",
        "f_np = sympy.lambdify((t, y), f.subs(params), 'numpy')\n",
        "jac_np = sympy.lambdify((t, y), jac.subs(params), 'numpy')"
      ],
      "id": "4e658164",
      "execution_count": null,
      "outputs": []
    },
    {
      "cell_type": "code",
      "metadata": {},
      "source": [
        "y0 = [2.0, 0.0, 0.0, 0.0]\n",
        "\n",
        "t = np.linspace(0, 20, 1000)\n",
        "r = integrate.ode(f_np, jac_np).set_initial_value(y0, t[0])"
      ],
      "id": "6514c761",
      "execution_count": null,
      "outputs": []
    },
    {
      "cell_type": "code",
      "metadata": {},
      "source": [
        "dt = t[1] - t[0]\n",
        "y = np.zeros((len(t), len(y0)))\n",
        "idx = 0\n",
        "while r.successful() and r.t < t[-1]:\n",
        "    y[idx, :] = r.y\n",
        "    r.integrate(r.t + dt)\n",
        "    idx += 1"
      ],
      "id": "28e82601",
      "execution_count": null,
      "outputs": []
    },
    {
      "cell_type": "markdown",
      "metadata": {},
      "source": [
        "$~$\n",
        "\n",
        "* When visualizing this solution, $\\,$it is more intuitive <font color=\"blue\">to animate the positions of the pendulums in the $\\,x–y\\,$ plane</font> rather than their angular deflections\n",
        "\n",
        "$~$"
      ],
      "id": "6086d3fe"
    },
    {
      "cell_type": "code",
      "metadata": {},
      "source": [
        "th1_np, th2_np = y[:, 0], y[:, 2]\n",
        "\n",
        "x1 = params[l1] *np.sin(th1_np)\n",
        "y1 = -params[l1] *np.cos(th1_np)\n",
        "x2 = x1 +params[l2] *np.sin(th2_np)\n",
        "y2 = y1 -params[l2] *np.cos(th2_np)"
      ],
      "id": "b51072b5",
      "execution_count": null,
      "outputs": []
    },
    {
      "cell_type": "code",
      "metadata": {},
      "source": [
        "fig, ax = plt.subplots(figsize=(6, 6))\n",
        "\n",
        "ax.set_xlabel('$x$', fontsize=16)\n",
        "ax.set_ylabel('$y$', fontsize=16)\n",
        "ax.set_xticks([-4, -2, 0, 2, 4])\n",
        "ax.set_yticks([-4, -2, 0, 2, 4])\n",
        "ax.set_xticklabels([-4, -2, 0, 2, 4], fontsize=14)\n",
        "ax.set_yticklabels([-4, -2, 0, 2, 4], fontsize=14)\n",
        "ax.set_xlim(-4, 4)\n",
        "ax.set_ylim(-4, 4)\n",
        "ax.tick_params(which='both', direction='in')\n",
        "\n",
        "plt.close()"
      ],
      "id": "04453f29",
      "execution_count": null,
      "outputs": []
    },
    {
      "cell_type": "code",
      "metadata": {
        "fig-label": "fig-double-pendulum-animation"
      },
      "source": [
        "#| fig-cap: <center><font size=\"5px\"> Double Pendulum Animation </font></center>\n",
        "\n",
        "line1, = ax.plot([], [], 'o-', color='r', markersize=4.0, lw=2)\n",
        "line2, = ax.plot([], [], 'o-', color='b', markersize=20.0, lw=2)\n",
        "\n",
        "time_text = ax.text(0.05, 0.9, '', fontsize=18, transform=ax.transAxes)\n",
        "\n",
        "\n",
        "def init():\n",
        "    line1.set_data([], [])\n",
        "    line2.set_data([], [])\n",
        "    time_text.set_text('')\n",
        "\n",
        "    return line1, line2, time_text\n",
        "\n",
        "\n",
        "def animate(i):\n",
        "    t_x1 = [0, x1[i]]\n",
        "    t_y1 = [0, y1[i]]\n",
        "    t_x2 = [x1[i], x2[i]]\n",
        "    t_y2 = [y1[i], y2[i]]\n",
        "\n",
        "    line1.set_data(t_x1, t_y1)\n",
        "    line2.set_data(t_x2, t_y2)\n",
        "    time_text.set_text(f'time = {i*dt:.1f}s')\n",
        "\n",
        "    return line1, line2, time_text\n",
        "\n",
        "\n",
        "anim = FuncAnimation(fig, animate, range(1, len(y)),\n",
        "        interval=dt*1000, blit=True, init_func=init)\n",
        "HTML('<center>' + anim.to_html5_video() + '</center>')"
      ],
      "id": "1d07626a",
      "execution_count": null,
      "outputs": []
    }
  ],
  "metadata": {
    "kernelspec": {
      "name": "python3",
      "language": "python",
      "display_name": "Python 3 (ipykernel)",
      "path": "/opt/miniconda3/share/jupyter/kernels/python3"
    }
  },
  "nbformat": 4,
  "nbformat_minor": 5
}