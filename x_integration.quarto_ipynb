{
  "cells": [
    {
      "cell_type": "markdown",
      "metadata": {},
      "source": [
        "---\n",
        "jupyter: python3\n",
        "---\n",
        "\n",
        "# Integration {#sec-integration}\n",
        "\n",
        "$~$\n",
        "\n",
        "## Importing modules"
      ],
      "id": "8d85fd7f"
    },
    {
      "cell_type": "code",
      "metadata": {},
      "source": [
        "import numpy as np\n",
        "\n",
        "from scipy import integrate\n",
        "import sympy\n",
        "sympy.init_printing()\n",
        "\n",
        "import matplotlib.pyplot as plt\n",
        "import matplotlib as mpl"
      ],
      "id": "0df1aa0f",
      "execution_count": null,
      "outputs": []
    },
    {
      "cell_type": "code",
      "metadata": {},
      "source": [
        "from scipy import __version__\n",
        "print(\"numpy: \", np.__version__)\n",
        "print(\"sympy: \", sympy.__version__)\n",
        "print(\"scipy: \", __version__)"
      ],
      "id": "a1b03dd4",
      "execution_count": null,
      "outputs": []
    },
    {
      "cell_type": "markdown",
      "metadata": {},
      "source": [
        "## Numerical integration methods\n",
        "\n",
        "* Here we are concerned with evaluating definite integrals on the form\n",
        "\n",
        "  $$I(f) = \\int_a^b \\,f(x)\\, dx$$\n",
        "\n",
        "  with given integration limits $a$ and $b$. The interval $[a,b]$ can be finite, semi-infinite (where either $a=-\\infty$ or $b=\\infty$), or infinite (where $a=-\\infty$ and $b=\\infty$)\n",
        "\n",
        "  $$ I(f) \\approx \\sum_{i=0}^{n-1} \\omega_i f(x_i) +r_n$$\n",
        "\n",
        "* Quadrature rules can be derived from interpolations of $f(x)$ on the interval $[a,b]$. If the points $x_i$ are evenly spaced in the interval $[a,b]$, and a polynomial interpolation is used, then the resulting quadrature rule is known as a *Newton-Cotes quadrature rule*\n",
        "\n",
        "* For instance, approximating $f(x)$ with a zeroth order polynomial (constant value) using the midpoint value $x_0 = (a +b) /2$, $\\,$we obtain\n",
        "\n",
        "  $$ I(f) \\approx f \\left( \\frac{b -a}{2} \\right)  \\int_a^b dx = (b -a) f \\left( \\frac{b -a}{2} \\right) $$\n",
        "\n",
        "  This is known as the *midpoint rule*, and it integrates polynomials up to order one (linear functions) exactly, and it is therefore said to be of polynomial degree one\n",
        "\n",
        "* Approximating $f(x)$ by a polynomial of degree one, evaluated at the endpoints of the interval, results in\n",
        "\n",
        "  $$ I(f) \\approx \\frac{b -a}{2} \\left[ f(a) +f(b) \\right] $$\n",
        "\n",
        "  This is known as the *trapezoidal rule*, and it is also of polynomial degree one\n",
        "\n",
        "* Using an interpolation polynomial of second order results in *Simpson’s rule*,\n",
        "\n",
        "  $$ I(f) \\approx \\frac{b -a}{6} \\left[ f(a) +4 f \\left( \\frac{a +b}{2} \\right) +f(b) \\right] $$\n",
        "\n",
        "  which uses function evaluations at the endpoints and the midpoint. This method is of polynomial degree three, meaning that it integrates exactly polynomials up to order three"
      ],
      "id": "0bf0eb62"
    },
    {
      "cell_type": "code",
      "metadata": {},
      "source": [
        "a, b, X = sympy.symbols(\"a, b, x\")\n",
        "f = sympy.Function(\"f\")\n",
        "\n",
        "x = a, (a +b)/2, b # for Simpson's rule\n",
        "w = [sympy.symbols(f\"w_{i}\") for i in range(len(x))]\n",
        "\n",
        "q_rule = sum([w[i] *f(x[i]) for i in range(len(x))])\n",
        "q_rule"
      ],
      "id": "95670a43",
      "execution_count": null,
      "outputs": []
    },
    {
      "cell_type": "markdown",
      "metadata": {},
      "source": [
        "* To compute the appropriate values of the weight factors $w_i$, we choose the polynomial basis functions $\\{ \\phi_n(x) = x^n \\}_{n=0}^2$ for the interpolation of $f(x)$"
      ],
      "id": "3372211c"
    },
    {
      "cell_type": "code",
      "metadata": {},
      "source": [
        "phi = [sympy.Lambda(X, X**n) for n in range(len(x))]\n",
        "phi"
      ],
      "id": "8168b4c5",
      "execution_count": null,
      "outputs": []
    },
    {
      "cell_type": "code",
      "metadata": {},
      "source": [
        "eqs = [q_rule.subs(f, phi[n]) \n",
        "        -sympy.integrate(phi[n](X), (X, a, b)) \n",
        "          for n in range(len(phi))]\n",
        "eqs"
      ],
      "id": "12b40457",
      "execution_count": null,
      "outputs": []
    },
    {
      "cell_type": "code",
      "metadata": {},
      "source": [
        "w_sol = sympy.solve(eqs, w)\n",
        "w_sol"
      ],
      "id": "ccd5e568",
      "execution_count": null,
      "outputs": []
    },
    {
      "cell_type": "code",
      "metadata": {},
      "source": [
        "q_rule.subs(w_sol).simplify()"
      ],
      "id": "4515bcb3",
      "execution_count": null,
      "outputs": []
    },
    {
      "cell_type": "markdown",
      "metadata": {},
      "source": [
        "* We recognize this result as Simpson's quadrature rule given above. Choosing different sample points (the $x$ tuple in this code), results in different quadrature rules\n",
        "\n",
        "* Higher-order quadrature rules can similarly be derived using higher-order polynomial interpolation (more sample points in the $[a,b]$). However, high-order polynomial interpolation can have undesirable behavior between the sample points\n",
        "\n",
        "* Rather than using higher-order quadrature rules, it is therefore often better to divide the integration interval $[a,b]$ into subintervals $[a=x_0, x_1], [x_1, x_2], \\cdots, [x_{n-1},x_n = b]$ and use a low-order quadrature rule in each of these sub-intervals. Such methods are known as *composite quadrature rules*\n",
        "\n",
        "* An important parameter that characterize composite quadrature rules is the sub-interval length $h=(b-a)/N$. Estimates for the errors in an approximate quadrature rule, and the scaling of the error with respect to $h$, can be obtained from Taylor series expansions of the integrand and the analytical integration of the term in the resulting series\n",
        "\n",
        "* We have seen that the Newton-Cotes quadrature rules uses evenly spaced sample points of the integrand $f(x)$. However, this is not necessarily the most efficient choice of quadrature nodes, and then it can be advantageous to use quadrature rules that do not use evenly spaced sample points\n",
        "\n",
        "* An example of such a method is a *Gaussian quadrature*, which also uses polynomial interpolation to determine the values of the weight factors in the quadrature rule, but where the quadrature nodes $x_i$ are chosen to maximize the order of polynomials that can be integrated exactly (the polynomial degree) given a fixed number of quadrature points\n",
        "\n",
        "\n",
        "## Numerical integration with Scipy\n",
        "\n",
        "* The numerical quadrature routines in the `scipy` `integrate` module can be categorized into two types: routines that take the integrand as a python function, and routines that take arrays with samples of the integrand at given points\n",
        "\n",
        "* The functions of the first type use Gaussian quadrature (`quad`, `quadrature`, `fixed_quad`), while functions of the second type use Newton-Cotes methods (`trapz`, `simps`, and `romb`)\n",
        "\n",
        "* As a concrete example, consider the numerical evaluation of the integral\n",
        "\n",
        "  $$ \\int_{-1}^1 \\, e^{-x^2}\\, dx$$"
      ],
      "id": "c0b69ca0"
    },
    {
      "cell_type": "code",
      "metadata": {},
      "source": [
        "def f(x):\n",
        "  return np.exp(-x**2)\n",
        "\n",
        "val, err = integrate.quad(f, -1, 1)"
      ],
      "id": "5217b2df",
      "execution_count": null,
      "outputs": []
    },
    {
      "cell_type": "code",
      "metadata": {},
      "source": [
        "val, err"
      ],
      "id": "6e9a0891",
      "execution_count": null,
      "outputs": []
    },
    {
      "cell_type": "markdown",
      "metadata": {},
      "source": [
        "### Extra arguments\n",
        "\n",
        "* We wish to evaluate\n",
        "\n",
        "  $$ \\int_{-1}^1 \\, a e^{-(x -b)^2/c^2} \\,dx $$\n",
        "\n",
        "  for the specific values of the parameters $a=1$, $b=2$, and $c=3$"
      ],
      "id": "6f2dfde3"
    },
    {
      "cell_type": "code",
      "metadata": {},
      "source": [
        "def f(x, a, b, c):\n",
        "  return a *np.exp(-((x -b)/c)**2)\n",
        "\n",
        "val, err = integrate.quad(f, -1, 1, args=(1, 2, 3))"
      ],
      "id": "6c650148",
      "execution_count": null,
      "outputs": []
    },
    {
      "cell_type": "code",
      "metadata": {},
      "source": [
        "val, err"
      ],
      "id": "e5b0a726",
      "execution_count": null,
      "outputs": []
    },
    {
      "cell_type": "markdown",
      "metadata": {},
      "source": [
        "### Reshuffle arguments\n",
        "\n",
        "* We wish to compute the integral\n",
        "\n",
        "  $$\\int_{0}^5 J_0(x) \\,dx$$\n",
        "\n",
        "  where the integrand $J_0(x)$ is the zero-th order Bessel function of the first kind,"
      ],
      "id": "af410dc1"
    },
    {
      "cell_type": "code",
      "metadata": {},
      "source": [
        "from scipy.special import jv\n",
        "\n",
        "f = lambda x: jv(0, x)\n",
        "\n",
        "val, err = integrate.quad(f, 0, 5)"
      ],
      "id": "4889cac2",
      "execution_count": null,
      "outputs": []
    },
    {
      "cell_type": "code",
      "metadata": {},
      "source": [
        "val, err"
      ],
      "id": "75428cd2",
      "execution_count": null,
      "outputs": []
    },
    {
      "cell_type": "markdown",
      "metadata": {},
      "source": [
        "### Infinite limits\n",
        "\n",
        "* Consider the integral $$ \\int_{-\\infty}^\\infty e^{-x^2} \\,dx $$"
      ],
      "id": "b96a9f9b"
    },
    {
      "cell_type": "code",
      "metadata": {},
      "source": [
        "f = lambda x: np.exp(-x**2)\n",
        "\n",
        "val, err = integrate.quad(f, -np.inf, np.inf, epsabs=1.49e-14, epsrel=1.49e-14)"
      ],
      "id": "1b22e0e4",
      "execution_count": null,
      "outputs": []
    },
    {
      "cell_type": "code",
      "metadata": {},
      "source": [
        "val, err"
      ],
      "id": "67330f38",
      "execution_count": null,
      "outputs": []
    },
    {
      "cell_type": "markdown",
      "metadata": {},
      "source": [
        "### Singularity\n",
        "\n",
        "* Consider the integral $$ \\int_{-1}^1 \\frac{1}{\\sqrt{|x|}} \\,dx $$\n",
        "\n",
        "* The integrand diverges at $x=0$, but the value of the integral does not diverge, and its value is $4$. Naively trying to compute this integral using `quad` may fail because of the diverging integrand:\n"
      ],
      "id": "c71d606e"
    },
    {
      "cell_type": "code",
      "metadata": {},
      "source": [
        "import warnings\n",
        "warnings.filterwarnings(\"error\")\n",
        "\n",
        "f = lambda x: 1/np.sqrt(abs(x))\n",
        "\n",
        "a, b = -1, 1\n",
        "\n",
        "try:\n",
        "  integrate.quad(f, a, b)\n",
        "except Exception as e:\n",
        "  print(e)"
      ],
      "id": "d1063962",
      "execution_count": null,
      "outputs": []
    },
    {
      "cell_type": "code",
      "metadata": {},
      "source": [
        "#| fig-align: center\n",
        "x = np.linspace(a, b, 10000)\n",
        "\n",
        "fig, ax = plt.subplots(figsize=(6, 4))\n",
        "\n",
        "ax.plot(x, f(x), lw=2)\n",
        "ax.fill_between(x, f(x), color='green', alpha=0.5)\n",
        "ax.set_xlabel(\"$x$\", fontsize=12)\n",
        "ax.set_ylabel(\"$f(x)$\", fontsize=12)\n",
        "ax.set_xlim(-1, 1)\n",
        "ax.set_ylim(0, 25)\n",
        "ax.tick_params(which='both', direction='in')"
      ],
      "id": "a7e839f2",
      "execution_count": null,
      "outputs": []
    },
    {
      "cell_type": "markdown",
      "metadata": {},
      "source": [
        "* In this case, the evaluation of the integral fails because the integrand diverges exactly at one of the sample points in the Gaussian quadrature rule (the midpoint). We can guide the `quad` routine by specifying a list of points that should be avoided using the `points` keyword arguments, and using `points=[0]` in the current example allows quad to correctly evaluate the integral:"
      ],
      "id": "385e97f5"
    },
    {
      "cell_type": "code",
      "metadata": {},
      "source": [
        "val, err = integrate.quad(f, a, b, points=[0])"
      ],
      "id": "9685cf13",
      "execution_count": null,
      "outputs": []
    },
    {
      "cell_type": "code",
      "metadata": {},
      "source": [
        "val, err"
      ],
      "id": "6cbb0682",
      "execution_count": null,
      "outputs": []
    },
    {
      "cell_type": "markdown",
      "metadata": {},
      "source": [
        "### Tabulated integrand\n",
        "\n",
        "* Let’s evaluate the integral $\\displaystyle\\int_0^2 \\sqrt{x}\\, dx$ by taking $25$ samples of the integrand in the integration interval $[0, 2]$,"
      ],
      "id": "4fd20314"
    },
    {
      "cell_type": "code",
      "metadata": {},
      "source": [
        "#| fig-align: center\n",
        "f = lambda x: np.sqrt(x)\n",
        "\n",
        "a, b = 0, 2\n",
        "x = np.linspace(a, b, 25)\n",
        "y = f(x)\n",
        "\n",
        "#----------------\n",
        "\n",
        "fig, ax = plt.subplots(figsize=(6, 4))\n",
        "\n",
        "ax.plot(x, y, 'bo')\n",
        "\n",
        "xx = np.linspace(a, b, 500)\n",
        "ax.plot(xx, f(xx), 'b-')\n",
        "ax.fill_between(xx, f(xx), color='green', alpha=0.5)\n",
        "\n",
        "ax.set_xlim(0, 2)\n",
        "ax.set_ylim(0, 1.6)\n",
        "ax.set_xlabel(r\"$x$\", fontsize=12)\n",
        "ax.set_ylabel(r\"$f(x)$\", fontsize=12)\n",
        "ax.tick_params(which='both', direction='in')"
      ],
      "id": "0d7a9cbc",
      "execution_count": null,
      "outputs": []
    },
    {
      "cell_type": "code",
      "metadata": {},
      "source": [
        "val_trapz = integrate.trapezoid(y, x)\n",
        "val_trapz"
      ],
      "id": "17cb1ef8",
      "execution_count": null,
      "outputs": []
    },
    {
      "cell_type": "code",
      "metadata": {},
      "source": [
        "val_simps = integrate.simpson(y, x)\n",
        "val_simps"
      ],
      "id": "36d2d654",
      "execution_count": null,
      "outputs": []
    },
    {
      "cell_type": "code",
      "metadata": {},
      "source": [
        "val_exact = 2.0/3.0 *(b-a)**(3.0/2.0)\n",
        "val_exact"
      ],
      "id": "db5b53b7",
      "execution_count": null,
      "outputs": []
    },
    {
      "cell_type": "code",
      "metadata": {},
      "source": [
        "val_exact -val_trapz"
      ],
      "id": "378ab98e",
      "execution_count": null,
      "outputs": []
    },
    {
      "cell_type": "code",
      "metadata": {},
      "source": [
        "val_exact -val_simps"
      ],
      "id": "92492744",
      "execution_count": null,
      "outputs": []
    },
    {
      "cell_type": "markdown",
      "metadata": {},
      "source": [
        "---"
      ],
      "id": "86b7c74b"
    },
    {
      "cell_type": "code",
      "metadata": {},
      "source": [
        "x = np.linspace(a, b, 1 +2**6)\n",
        "y = f(x)\n",
        "dx = x[1] -x[0]\n",
        "\n",
        "val_exact -integrate.romb(y, dx=dx)"
      ],
      "id": "575ad425",
      "execution_count": null,
      "outputs": []
    },
    {
      "cell_type": "code",
      "metadata": {},
      "source": [
        "val_exact -integrate.simpson(y, dx=dx)"
      ],
      "id": "fe1fb303",
      "execution_count": null,
      "outputs": []
    },
    {
      "cell_type": "markdown",
      "metadata": {},
      "source": [
        "## Multiple integration\n",
        "\n",
        "* The double integral routine `dblquad` can evaluate integrals on the form\n",
        "\n",
        "  $$\\int_a^b \\int_{g(y)}^{h(y)} f(x,y)\\, dxdy $$\n",
        "\n",
        "  and it has the function signature `dblquad(f, a, b, g, h)`, $~$where `f` is a python function for the integrand,\n",
        "`a` and `b` are constant integration limits along the $y$ dimension, and `g` and `h` are python functions (taking $y$ as argument) that specify the integration limits along the $x$ dimension\n",
        "\n",
        "* Consider the integral $\\displaystyle\\int_0^1 \\int_0^1 e^{-(x^2+y^2)}\\,dxdy$,"
      ],
      "id": "10c9d4b3"
    },
    {
      "cell_type": "code",
      "metadata": {},
      "source": [
        "def f(x, y):\n",
        "  return np.exp(-x**2 -y**2)\n",
        "\n",
        "a, b = 0, 1\n",
        "g = lambda y: 0\n",
        "h = lambda y: 1"
      ],
      "id": "04c7aed8",
      "execution_count": null,
      "outputs": []
    },
    {
      "cell_type": "code",
      "metadata": {},
      "source": [
        "integrate.dblquad(f, a, b, g, h)"
      ],
      "id": "dc83a48d",
      "execution_count": null,
      "outputs": []
    },
    {
      "cell_type": "markdown",
      "metadata": {},
      "source": [
        "* The `tplquad` function can compute integrals on the form\n",
        "\n",
        "  $$ \\int_a^b \\int_{g(z)}^{h(z)} \\int_{q(y, z)}^{r(y, z)} f(x,y,z)\\,dxdydz $$\n",
        "\n",
        "* Consider the generalization of the previous integral to three variables: \n",
        "\n",
        "  $$\\int_0^1 \\int_0^1 \\int_0^1 e^{-(x^2+y^2+z^2)}\\,dxdydz$$"
      ],
      "id": "4317e9a2"
    },
    {
      "cell_type": "code",
      "metadata": {},
      "source": [
        "def f(x, y, z):\n",
        "  return np.exp(-x**2 -y**2 -z**2)\n",
        "\n",
        "a, b = 0, 1\n",
        "g, h = lambda z: 0, lambda z: 1\n",
        "q, r = lambda y, z: 0, lambda y, z: 1\n",
        "\n",
        "integrate.tplquad(f, 0, 1, g, h, q, r)"
      ],
      "id": "a58c25fb",
      "execution_count": null,
      "outputs": []
    },
    {
      "cell_type": "markdown",
      "metadata": {},
      "source": [
        "* For arbitrary number of integrations, we can use the `nquad` function"
      ],
      "id": "c61dec0a"
    },
    {
      "cell_type": "code",
      "metadata": {},
      "source": [
        "integrate.nquad(f, [(0, 1), (0, 1), (0, 1)])"
      ],
      "id": "d67b3031",
      "execution_count": null,
      "outputs": []
    },
    {
      "cell_type": "markdown",
      "metadata": {},
      "source": [
        "---"
      ],
      "id": "9cdd4b63"
    },
    {
      "cell_type": "code",
      "metadata": {},
      "source": [
        "def f(*args):\n",
        "  return np.exp(-np.sum(np.array(args)**2))"
      ],
      "id": "a08aea7c",
      "execution_count": null,
      "outputs": []
    },
    {
      "cell_type": "code",
      "metadata": {},
      "source": [
        "%time integrate.nquad(f, [(0, 1)] *1)"
      ],
      "id": "557759e2",
      "execution_count": null,
      "outputs": []
    },
    {
      "cell_type": "code",
      "metadata": {},
      "source": [
        "%time integrate.nquad(f, [(0, 1)] *2)"
      ],
      "id": "c30fb226",
      "execution_count": null,
      "outputs": []
    },
    {
      "cell_type": "code",
      "metadata": {},
      "source": [
        "%time integrate.nquad(f, [(0, 1)] *3)"
      ],
      "id": "a0543220",
      "execution_count": null,
      "outputs": []
    },
    {
      "cell_type": "code",
      "metadata": {},
      "source": [
        "%time integrate.nquad(f, [(0, 1)] *4)"
      ],
      "id": "a4e90df5",
      "execution_count": null,
      "outputs": []
    },
    {
      "cell_type": "markdown",
      "metadata": {},
      "source": [
        "## Symbolic and arbitrary-precision integration\n",
        "\n",
        "* For example, to compute the integral $\\displaystyle\\int_{-1}^{1} 2\\sqrt{1-x^2}\\,dx$, $~$we first create a symbol for $x$, and define expressions for the integrand and the integration"
      ],
      "id": "1c1cbc5c"
    },
    {
      "cell_type": "code",
      "metadata": {},
      "source": [
        "x = sympy.symbols(\"x\")\n",
        "f = 2 *sympy.sqrt(1 -x**2)\n",
        "\n",
        "a, b = -1, 1\n",
        "val_sym = sympy.integrate(f, (x, a, b))\n",
        "val_sym"
      ],
      "id": "7dc57334",
      "execution_count": null,
      "outputs": []
    },
    {
      "cell_type": "markdown",
      "metadata": {},
      "source": [
        "* As pointed out earlier, this situation is the exception, and in general we will not be able to find an analytical closed-form expression. We then need to resort to numerical quadrature, for example, using scipy's `integrate.quad`\n",
        "\n",
        "* However, the `mpmath` library, which comes bundled with sympy, $~$provides an alternative implementation of numerical quadrature, using multiple-precision computations. With this library, we can evaluate an integral to arbitrary precision, without being restricted to the limitations of floating-point numbers\n",
        "\n",
        "* For example, if we require 75 accurate decimal places, we set:"
      ],
      "id": "787e1855"
    },
    {
      "cell_type": "code",
      "metadata": {},
      "source": [
        "import mpmath"
      ],
      "id": "10323012",
      "execution_count": null,
      "outputs": []
    },
    {
      "cell_type": "code",
      "metadata": {},
      "source": [
        "mpmath.mp.dps = 75\n",
        "f_mpmath = sympy.lambdify(x, f, 'mpmath')"
      ],
      "id": "e0e85d52",
      "execution_count": null,
      "outputs": []
    },
    {
      "cell_type": "code",
      "metadata": {},
      "source": [
        "val = mpmath.quad(f_mpmath, (a, b))\n",
        "sympy.sympify(val)"
      ],
      "id": "1d1e0611",
      "execution_count": null,
      "outputs": []
    },
    {
      "cell_type": "code",
      "metadata": {},
      "source": [
        "sympy.N(val_sym, mpmath.mp.dps +1) -val"
      ],
      "id": "62974464",
      "execution_count": null,
      "outputs": []
    },
    {
      "cell_type": "markdown",
      "metadata": {},
      "source": [
        "---"
      ],
      "id": "177468ef"
    },
    {
      "cell_type": "code",
      "metadata": {},
      "source": [
        "%time mpmath.quad(f_mpmath, [a, b])"
      ],
      "id": "9b978466",
      "execution_count": null,
      "outputs": []
    },
    {
      "cell_type": "code",
      "metadata": {},
      "source": [
        "f_numpy = sympy.lambdify(x, f, 'numpy')\n",
        "%time integrate.quad(f_numpy, a, b)"
      ],
      "id": "5ee1b582",
      "execution_count": null,
      "outputs": []
    },
    {
      "cell_type": "markdown",
      "metadata": {},
      "source": [
        "### Double and triple integrals\n",
        "\n",
        "* The `mpmath` library's `quad` function can also be used to evaluate double and triple integrals. \n",
        "\n",
        "  For example, to compute the double integral:\n",
        "\n",
        "  $$ \\int_0^1 \\int_0^1 \\cos(x) \\cos(y)\\, e^{-(x^2+y^2)}\\, dxdy $$\n",
        "\n",
        "  and the triple integral:\n",
        "\n",
        "  $$ \\int_0^1 \\int_0^1 \\int_0^1 \\cos(x) \\cos(y) \\cos(z)\\, e^{-(x^2+y^2+z^2)}\\, dx dy dz $$\n",
        "\n",
        "  to 30 significant decimals (this example cannot be solved symbolically with `sympy`)"
      ],
      "id": "ad90ec47"
    },
    {
      "cell_type": "code",
      "metadata": {},
      "source": [
        "x, y, z = sympy.symbols('x, y, z')"
      ],
      "id": "f9250960",
      "execution_count": null,
      "outputs": []
    },
    {
      "cell_type": "code",
      "metadata": {},
      "source": [
        "f2 = sympy.cos(x) *sympy.cos(y) *sympy.exp(-x**2 -y**2)\n",
        "f3 = sympy.cos(x) *sympy.cos(y) *sympy.cos(z) *sympy.exp(-x**2 -y**2 -z**2)\n",
        "\n",
        "f2_mpmath = sympy.lambdify((x, y), f2, 'mpmath')\n",
        "f3_mpmath = sympy.lambdify((x, y, z), f3, 'mpmath')"
      ],
      "id": "59d7e6ec",
      "execution_count": null,
      "outputs": []
    },
    {
      "cell_type": "code",
      "metadata": {},
      "source": [
        "mpmath.mp.dps = 30\n",
        "\n",
        "res2 = mpmath.quad(f2_mpmath, (0, 1), (0, 1))\n",
        "res3 = mpmath.quad(f3_mpmath, (0, 1), (0, 1), (0, 1))"
      ],
      "id": "10fb2eba",
      "execution_count": null,
      "outputs": []
    },
    {
      "cell_type": "code",
      "metadata": {},
      "source": [
        "sympy.sympify(res2), sympy.sympify(res3)"
      ],
      "id": "4df57ecb",
      "execution_count": null,
      "outputs": []
    },
    {
      "cell_type": "markdown",
      "metadata": {},
      "source": [
        "## Integral transforms\n",
        "\n",
        "* In general, an integral transform of a function $f(t)$ can be written as\n",
        "\n",
        "  $$ T_f(u) = \\int_{t_1}^{t_2} \\, K(t, u) f(t) \\,dt$$\n",
        "\n",
        "  where $T_f(u)$ is the transformed function. The choice of the kernel $K(t, u)$ and the integration limits\n",
        "determines the type of integral transform. The inverse of the integral transform is given by\n",
        "\n",
        "  $$ f(t)=\\int_{u_1}^{u_2} K^{-1}(u, t) \\, T_f(u) \\, du$$\n",
        "\n",
        "  where $K^{-1} (u,t)$ is the kernel of the inverse transform\n",
        "\n",
        "* `Sympy` provides functions for several types of integral transform, but here we focus on the Laplace transform\n",
        "\n",
        "  $$ L_f(s) = \\int_0^{\\infty} e^{-st} f(t) \\,dt $$\n",
        "\n",
        "  with the inverse transform\n",
        "\n",
        "  $$ f(t) = \\frac{1}{2\\pi i} \\int_{\\gamma -i\\infty}^{\\gamma +i \\infty} e^{st} L_f(s)\\,ds$$\n",
        "\n",
        "  and the Fourier transform\n",
        "\n",
        "  $$ F_f(\\omega) = \\frac{1}{\\sqrt{2\\pi}} \\int_{-\\infty}^{\\infty} e^{-i\\omega t} f(t)\\,dt$$\n",
        "\n",
        "  with the inverse transform\n",
        "\n",
        "  $$ f(t) = \\frac{1}{\\sqrt{2\\pi}} \\int_{-\\infty}^{\\infty} e^{i\\omega t} F_f(\\omega)\\,d\\omega$$\n",
        "\n",
        "* With `sympy`, we can perform these transforms with the \n",
        "\n",
        "  > `sympy.laplace_transform` and\n",
        "  > `sympy.fourier_transform`, respectively, \n",
        "\n",
        "  and the corresponding inverse transforms can be computed with\n",
        "the \n",
        "\n",
        "  >`sympy.inverse_laplace_transform` and \n",
        "  >`sympy.inverse_fourier_transform`"
      ],
      "id": "ad8821f0"
    },
    {
      "cell_type": "code",
      "metadata": {},
      "source": [
        "s = sympy.symbols('s')\n",
        "a, t = sympy.symbols('a, t', positive=True)\n",
        "\n",
        "f = sympy.sin(a*t)\n",
        "sympy.laplace_transform(f, t, s)"
      ],
      "id": "ecae4600",
      "execution_count": null,
      "outputs": []
    },
    {
      "cell_type": "code",
      "metadata": {},
      "source": [
        "F = sympy.laplace_transform(f, t, s, noconds=True)\n",
        "F"
      ],
      "id": "0a5ba499",
      "execution_count": null,
      "outputs": []
    },
    {
      "cell_type": "code",
      "metadata": {},
      "source": [
        "sympy.inverse_laplace_transform(F, s, t, noconds=True)"
      ],
      "id": "48641fbd",
      "execution_count": null,
      "outputs": []
    },
    {
      "cell_type": "markdown",
      "metadata": {},
      "source": [
        "---"
      ],
      "id": "a798a36c"
    },
    {
      "cell_type": "code",
      "metadata": {},
      "source": [
        "[sympy.laplace_transform(f, t, s, noconds=True) for f in [t, t**2, t**3, t**4]]"
      ],
      "id": "add4cca9",
      "execution_count": null,
      "outputs": []
    },
    {
      "cell_type": "code",
      "metadata": {},
      "source": [
        "a = sympy.symbols('a', positive=True)\n",
        "sympy.laplace_transform(t**a, t, s, noconds=True)"
      ],
      "id": "1a6aac10",
      "execution_count": null,
      "outputs": []
    },
    {
      "cell_type": "code",
      "metadata": {},
      "source": [
        "sympy.laplace_transform((1 -a*t) *sympy.exp(-a*t), t, s, noconds=True)"
      ],
      "id": "6c3b2d15",
      "execution_count": null,
      "outputs": []
    },
    {
      "cell_type": "markdown",
      "metadata": {},
      "source": [
        "---"
      ],
      "id": "9a704841"
    },
    {
      "cell_type": "code",
      "metadata": {},
      "source": [
        "x, w = sympy.symbols(\"x, omega\")\n",
        "f = sympy.exp(-x**2)\n",
        "\n",
        "F = sympy.fourier_transform(f, x, w)\n",
        "F"
      ],
      "id": "260e970b",
      "execution_count": null,
      "outputs": []
    },
    {
      "cell_type": "code",
      "metadata": {},
      "source": [
        "sympy.inverse_fourier_transform(F, w, x)"
      ],
      "id": "bc3402a6",
      "execution_count": null,
      "outputs": []
    }
  ],
  "metadata": {
    "kernelspec": {
      "name": "python3",
      "language": "python",
      "display_name": "Python 3 (ipykernel)",
      "path": "/opt/miniconda3/share/jupyter/kernels/python3"
    }
  },
  "nbformat": 4,
  "nbformat_minor": 5
}