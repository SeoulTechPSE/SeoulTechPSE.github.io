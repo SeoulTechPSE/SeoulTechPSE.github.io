{
  "cells": [
    {
      "cell_type": "markdown",
      "metadata": {},
      "source": [
        "---\n",
        "jupyter: python3\n",
        "---\n",
        "\n",
        "# Interpolation {#sec-interpolation}\n",
        "\n",
        "$~$\n",
        "\n",
        "Interpolation is a mathematical method for constructing a function from a discrete set of data points. To perform interpolation in python, we use the `polynomial` module from `numpy` and the `interpolate` module from `scipy`\n",
        "\n",
        "## Importing modules"
      ],
      "id": "555a6c42"
    },
    {
      "cell_type": "code",
      "metadata": {},
      "source": [
        "import numpy as np\n",
        "from numpy import polynomial as P\n",
        "from scipy import interpolate\n",
        "from scipy import linalg\n",
        "\n",
        "import matplotlib as mpl\n",
        "import matplotlib.pyplot as plt"
      ],
      "id": "a297dae9",
      "execution_count": null,
      "outputs": []
    },
    {
      "cell_type": "markdown",
      "metadata": {},
      "source": [
        "## Interpolation\n",
        "\n",
        "* One-dimensional interpolation can be formulated as follows:\n",
        "\n",
        "  For a given set of $n$ data point $\\{ (x_i, y_i) \\}_{i=1}^n$, find a function $f(x)$ such that $f(x_i) = y_i$ for $i \\in [1, n]$. The function $f(x)$ is known as the interpolant, and it is not unique\n",
        "\n",
        "* In fact, there are an infinite number of functions that satisfy the interpolation criteria. Typically we can write the interpolant as a linear combination of some basis functions $\\phi_j(x)$, such that\n",
        "\n",
        "  $$ f(x) = \\sum_{j=1}^n c_j \\phi_j(x) $$\n",
        "\n",
        "  where $c_j$ are unknown coefficients\n",
        "\n",
        "* Substituting the given data points into this linear combination results in a linear equation system for the unknown coefficients: $\\sum_{j=1}^n c_j \\phi_j(x_i) = y_i$\n",
        "\n",
        "  $$\n",
        "    \\begin{pmatrix}\n",
        "    \\phi_1(x_1) & \\phi_2(x_1) & \\cdots & \\phi_n(x_1) \\\\ \n",
        "    \\phi_1(x_2) & \\phi_2(x_2) & \\cdots & \\phi_n(x_2) \\\\ \n",
        "    \\vdots & \\vdots & \\ddots & \\vdots\\\\ \n",
        "    \\phi_1(x_n) & \\phi_2(x_n) & \\cdots & \\phi_n(x_n) \\\\ \n",
        "    \\end{pmatrix}\n",
        "    \\begin{pmatrix}\n",
        "    c_1 \\\\ c_2 \\\\ \\vdots \\\\c_n \n",
        "    \\end{pmatrix} =\n",
        "    \\begin{pmatrix}\n",
        "    y_1 \\\\ y_2 \\\\ \\vdots \\\\y_n \n",
        "    \\end{pmatrix}\n",
        "  $$\n",
        "\n",
        "  or in a more compact implicit matrix form as $\\Phi(\\mathbf{x}) \\mathbf{c} = \\mathbf{y}$, where the elements of the matrix $\\Phi(\\mathbf{x})$ are $\\Phi(\\mathbf{x})_{ij} = \\phi_j(x_i)$\n",
        "\n",
        "* Common choices of basis functions for interpolation are various types of polynomials, for example, the power basis $\\phi_j(x_i) = x_i^{j-1}$, or orthogonal polynomials such as Legendre polynomials $\\phi_j(x_i) = P_{j-1}(x_i)$, Chebyshev polynomials $\\phi_j(x_i) = T_{j-1}(x_i)$, or piecewise polynomials\n",
        "\n",
        "* Note that in general $f(x)$ is not unique, but for $n$ data points there is a unique interpolating polynomial of order $n-1$, regardless of which polynomial basis we use. The structure of the matrix $\\Phi(\\mathbf{x})$ is different for different polynomial bases, and its condition number and the computational cost of solving the interpolation problem varies correspondingly\n",
        "\n",
        "## Polynomials\n",
        "\n",
        "* The `numpy` library contains the submodule `polynomial` (here imported as `P`), which provides functions and classes for working with polynomials. In particular, it provides implementations of many standard orthogonal polynomials\n",
        "\n",
        "* For example, we can create a representation of the polynomial \n",
        "  \n",
        "  $$1 +2x +3x^2$$ \n",
        "  \n",
        "  by passing the list `[1, 2, 3]` to the `Polynomial` class:\n"
      ],
      "id": "6cc61cfb"
    },
    {
      "cell_type": "code",
      "metadata": {},
      "source": [
        "p1 = P.Polynomial([1,2,3])\n",
        "p1"
      ],
      "id": "b855f8ff",
      "execution_count": null,
      "outputs": []
    },
    {
      "cell_type": "markdown",
      "metadata": {},
      "source": [
        "* In the examples above, the first of the lists `coef` is the coefficient array and the second and third lists are the `domain` and `window` attributes"
      ],
      "id": "0f89a070"
    },
    {
      "cell_type": "code",
      "metadata": {},
      "source": [
        "p1.coef, p1.domain, p1.window"
      ],
      "id": "02a53483",
      "execution_count": null,
      "outputs": []
    },
    {
      "cell_type": "markdown",
      "metadata": {},
      "source": [
        "* Alternatively, we can also initialize a polynomial by specifying its roots using the class method `P.Polynomial.fromroots`. The polynomial with roots at $x=-1$ and $x=1$, for example, can be created using:"
      ],
      "id": "f6bb0311"
    },
    {
      "cell_type": "code",
      "metadata": {},
      "source": [
        "p2 = P.Polynomial.fromroots([-1, 1])\n",
        "p2"
      ],
      "id": "bad164d9",
      "execution_count": null,
      "outputs": []
    },
    {
      "cell_type": "markdown",
      "metadata": {},
      "source": [
        "---\n",
        "\n",
        "* The roots of a polynomial can be computed using the `roots` method"
      ],
      "id": "e0f018da"
    },
    {
      "cell_type": "code",
      "metadata": {},
      "source": [
        "p1.roots()"
      ],
      "id": "5dd02706",
      "execution_count": null,
      "outputs": []
    },
    {
      "cell_type": "code",
      "metadata": {},
      "source": [
        "p2.roots()"
      ],
      "id": "d17d6350",
      "execution_count": null,
      "outputs": []
    },
    {
      "cell_type": "markdown",
      "metadata": {},
      "source": [
        "* To evaluate the polynomial `p1` at the points $x=[1.5, 2.5, 3.5]$, we simply call the `p1` class instance with a list of $x$ values as this argument:"
      ],
      "id": "6558605c"
    },
    {
      "cell_type": "code",
      "metadata": {},
      "source": [
        "p1(np.array([1.5, 2.5, 3.5]))"
      ],
      "id": "1fff4626",
      "execution_count": null,
      "outputs": []
    },
    {
      "cell_type": "markdown",
      "metadata": {},
      "source": [
        "* Consider addition, subtraction, multiplication, and division of the polynomial $p_1(x) = (x -3)(x -2)(x -1)$ with the polynomial $p_2(x) = (x -2)$ "
      ],
      "id": "65e2e5a5"
    },
    {
      "cell_type": "code",
      "metadata": {},
      "source": [
        "p1 = P.Polynomial.fromroots([1, 2, 3])\n",
        "p2 = P.Polynomial.fromroots([2])"
      ],
      "id": "cf685863",
      "execution_count": null,
      "outputs": []
    },
    {
      "cell_type": "code",
      "metadata": {},
      "source": [
        "p3 = p1 + p2\n",
        "p3"
      ],
      "id": "221f036b",
      "execution_count": null,
      "outputs": []
    },
    {
      "cell_type": "code",
      "metadata": {},
      "source": [
        "p4 = p1 - p2\n",
        "p4"
      ],
      "id": "f883c291",
      "execution_count": null,
      "outputs": []
    },
    {
      "cell_type": "code",
      "metadata": {},
      "source": [
        "p5 = p1 * p2\n",
        "p5"
      ],
      "id": "cbc3df23",
      "execution_count": null,
      "outputs": []
    },
    {
      "cell_type": "code",
      "metadata": {},
      "source": [
        "p6 = p1 // p2\n",
        "p6"
      ],
      "id": "d2425037",
      "execution_count": null,
      "outputs": []
    },
    {
      "cell_type": "code",
      "metadata": {},
      "source": [
        "p6.roots()"
      ],
      "id": "7ec78885",
      "execution_count": null,
      "outputs": []
    },
    {
      "cell_type": "markdown",
      "metadata": {},
      "source": [
        "* In addition to the `Polynomial` class for polynomials in the standard power basis, the `polynomial` module also has classes for representing polynomials in Chebyshev, Legendre, Laguerre and Hermite bases, with the names `Chebyshev`, `Legendre`, `Laguerre`, `Hermite` (Physicists') and `HermiteE` (Probabilists'), respectively\n",
        "\n",
        "* For example, the Chebyshev polynomial with coefficient list `[1, 2, 3]`, that is, the polynomial\n",
        "\n",
        "  $$ T_0(x) +2T_1(x) +3T_2(x) $$\n",
        "\n",
        "  where $T_i(x)$ is the Chebyshev polynomial of order $i$, can be created using:"
      ],
      "id": "3295e142"
    },
    {
      "cell_type": "code",
      "metadata": {},
      "source": [
        "c1 = P.Chebyshev([1, 2, 3])\n",
        "c1"
      ],
      "id": "2a840021",
      "execution_count": null,
      "outputs": []
    },
    {
      "cell_type": "code",
      "metadata": {},
      "source": [
        "c1.roots()"
      ],
      "id": "43e99c8a",
      "execution_count": null,
      "outputs": []
    },
    {
      "cell_type": "markdown",
      "metadata": {},
      "source": [
        "---"
      ],
      "id": "f2a9d857"
    },
    {
      "cell_type": "code",
      "metadata": {},
      "source": [
        "c1 = P.Chebyshev.fromroots([-1, 1])\n",
        "c1"
      ],
      "id": "e6adc236",
      "execution_count": null,
      "outputs": []
    },
    {
      "cell_type": "code",
      "metadata": {},
      "source": [
        "l1 = P.Legendre.fromroots([-1, 1])\n",
        "l1"
      ],
      "id": "fa7d7829",
      "execution_count": null,
      "outputs": []
    },
    {
      "cell_type": "code",
      "metadata": {},
      "source": [
        "c1(np.array([-0.5, 0, 1]))"
      ],
      "id": "128d3689",
      "execution_count": null,
      "outputs": []
    },
    {
      "cell_type": "code",
      "metadata": {},
      "source": [
        "l1(np.array([-0.5, 0, 1]))"
      ],
      "id": "f65f655a",
      "execution_count": null,
      "outputs": []
    },
    {
      "cell_type": "markdown",
      "metadata": {},
      "source": [
        "## Polynomial interpolation\n",
        "\n",
        "* To solve the interpolation problem, we need to first evaluate the matrix $\\Phi(\\mathbf{x})$ for a given basis, and then solve the resulting linear equation system $\\Phi(\\mathbf{x}) \\mathbf{c} = \\mathbf{y}$. Each of the polynomial classes in polynomial provides a function for computing the (generalized) Vandermonde matrix for the corresponding basis\n",
        "\n",
        "* For example, consider the data points $(1,1)$, $(2,3)$, $(3,5)$ and $(4,4)$"
      ],
      "id": "74516e5b"
    },
    {
      "cell_type": "code",
      "metadata": {},
      "source": [
        "x = np.array([1, 2, 3, 4])\n",
        "y = np.array([1, 3, 5, 4])"
      ],
      "id": "c687b9cf",
      "execution_count": null,
      "outputs": []
    },
    {
      "cell_type": "markdown",
      "metadata": {},
      "source": [
        "* To interpolate a polynomial through these points, we need to use a polynomial of third degree (number of data points minus one)\n",
        "\n",
        "* For interpolation in the power basis, we seek the coefficients $c_i$'s such that\n",
        "\n",
        "  $$ f(x) = c_1 +c_2 x +c_3 x^2 +c_4 x^3 $$\n",
        "\n",
        "  and to find these coefficients, we evaluate the Vandermonde matrix and solve the interpolation equation system"
      ],
      "id": "4e99fecf"
    },
    {
      "cell_type": "code",
      "metadata": {},
      "source": [
        "deg = len(x) -1\n",
        "A = P.polynomial.polyvander(x, deg)\n",
        "A"
      ],
      "id": "eb822d39",
      "execution_count": null,
      "outputs": []
    },
    {
      "cell_type": "code",
      "metadata": {},
      "source": [
        "c = linalg.solve(A, y)\n",
        "c"
      ],
      "id": "5a9c5a3b",
      "execution_count": null,
      "outputs": []
    },
    {
      "cell_type": "markdown",
      "metadata": {},
      "source": [
        "* The interpolation polynomial is thus $f(x) = 2 -3.5x + 3x^2 -0.5x^3$"
      ],
      "id": "9816c3df"
    },
    {
      "cell_type": "code",
      "metadata": {},
      "source": [
        "f1 = P.Polynomial(c)"
      ],
      "id": "0bb37273",
      "execution_count": null,
      "outputs": []
    },
    {
      "cell_type": "code",
      "metadata": {},
      "source": [
        "f1(2.5)"
      ],
      "id": "29673600",
      "execution_count": null,
      "outputs": []
    },
    {
      "cell_type": "markdown",
      "metadata": {},
      "source": [
        "---\n",
        "\n",
        "* To perform this polynomial interpolation in another polynomial basis, all that we need to change is the name of the function that was used to generate the Vandermonde matrix $\\mathbf{A}$ in the previous example"
      ],
      "id": "72823397"
    },
    {
      "cell_type": "code",
      "metadata": {},
      "source": [
        "A = P.chebyshev.chebvander(x, deg)\n",
        "A"
      ],
      "id": "dbb0c771",
      "execution_count": null,
      "outputs": []
    },
    {
      "cell_type": "code",
      "metadata": {},
      "source": [
        "c = linalg.solve(A, y)\n",
        "c"
      ],
      "id": "fe30e919",
      "execution_count": null,
      "outputs": []
    },
    {
      "cell_type": "markdown",
      "metadata": {},
      "source": [
        "* The interpolation polynomial in the Chebyshev basis is\n",
        " \n",
        "  $$ f(x) = 3.5 T_0(x) -3.875 T_1(x) +1.5 T_2(x) -0.125 T_3(x) $$"
      ],
      "id": "6b653bfb"
    },
    {
      "cell_type": "code",
      "metadata": {},
      "source": [
        "f2 = P.Chebyshev(c)"
      ],
      "id": "33d5175b",
      "execution_count": null,
      "outputs": []
    },
    {
      "cell_type": "code",
      "metadata": {},
      "source": [
        "f2(2.5)"
      ],
      "id": "5304bd18",
      "execution_count": null,
      "outputs": []
    },
    {
      "cell_type": "code",
      "metadata": {},
      "source": [
        "#| fig-align: center\n",
        "xx = np.linspace(x.min(), x.max(), 100)\n",
        "\n",
        "fig, ax = plt.subplots(1, 1, figsize=(6, 4))\n",
        "\n",
        "ax.plot(xx, f1(xx), 'b', lw=2, label='Power basis interp.')\n",
        "ax.plot(xx, f2(xx), 'r--', lw=2, label='Chebyshev basis interp.')\n",
        "ax.scatter(x, y, label='data points')\n",
        "\n",
        "ax.legend(loc=4)\n",
        "ax.tick_params(which='both', direction='in')\n",
        "ax.set_xlim(0.5, 4.5)\n",
        "ax.set_ylim(0, 6)\n",
        "ax.set_xticks(x)\n",
        "ax.set_ylabel(r\"$y$\", fontsize=12)\n",
        "ax.set_xlabel(r\"$x$\", fontsize=12)\n",
        "\n",
        "plt.show()"
      ],
      "id": "4f9f584f",
      "execution_count": null,
      "outputs": []
    },
    {
      "cell_type": "code",
      "metadata": {},
      "source": [
        "f1b = P.Polynomial.fit(x, y, deg)\n",
        "f1b"
      ],
      "id": "6633ba17",
      "execution_count": null,
      "outputs": []
    },
    {
      "cell_type": "code",
      "metadata": {},
      "source": [
        "f2b = P.Chebyshev.fit(x, y, deg)\n",
        "f2b"
      ],
      "id": "fdb2513b",
      "execution_count": null,
      "outputs": []
    },
    {
      "cell_type": "markdown",
      "metadata": {},
      "source": [
        "$~$\n",
        "\n",
        "* Mapping the interpolation data into the range that is most suitable for a specific basis can significantly improve the numerical stability of the interpolation. For example, using the Chebyshev basis with $x$ values that are scaled such that $x \\in [-1, 1]$, rather than the original $x$ values in the previous example, reduces the condition number from almost $4660$ to about $1.85$:"
      ],
      "id": "01d8b3eb"
    },
    {
      "cell_type": "code",
      "metadata": {},
      "source": [
        "np.linalg.cond(P.chebyshev.chebvander(x, deg))"
      ],
      "id": "d206c4f1",
      "execution_count": null,
      "outputs": []
    },
    {
      "cell_type": "code",
      "metadata": {},
      "source": [
        "np.linalg.cond(P.chebyshev.chebvander((2*x -5)/3.0, deg))"
      ],
      "id": "4b83fee5",
      "execution_count": null,
      "outputs": []
    },
    {
      "cell_type": "markdown",
      "metadata": {},
      "source": [
        "* Note that with `fit` method, the domain attribute of the resulting instances are automatically set to the appropriate $x$ values of the data points (in this example, the input range is `[1, 4]`), and the coefficients are adjusted accordingly. To illustrate the problem, the values of the Chebyshev polynomials up to degree `5` are plotted below"
      ],
      "id": "066c7902"
    },
    {
      "cell_type": "code",
      "metadata": {},
      "source": [
        "#| fig-align: center\n",
        "x = np.linspace(-1, 1, 100)\n",
        "\n",
        "fig = plt.figure(figsize=(5.5, 4))\n",
        "for i in range(6): \n",
        "    ax = plt.plot(x, P.Chebyshev.basis(i)(x), lw=2, \n",
        "                  label=f'$T_{i}$')\n",
        "plt.legend(bbox_to_anchor=(1.01, 1.0), loc=2)\n",
        "plt.xlim(-1, 1)\n",
        "plt.ylim(-1, 1)\n",
        "plt.show()"
      ],
      "id": "390f4bd1",
      "execution_count": null,
      "outputs": []
    },
    {
      "cell_type": "markdown",
      "metadata": {},
      "source": [
        "* In the range $-1 \\geq x \\geq 1$, they are nice, equiripple functions. The same plots over the range $-2 \\geq x \\geq 2$ look very different:"
      ],
      "id": "eb092ead"
    },
    {
      "cell_type": "code",
      "metadata": {},
      "source": [
        "#| fig-align: center\n",
        "x = np.linspace(-2, 2, 100)\n",
        "\n",
        "fig = plt.figure(figsize=(5.5, 4))\n",
        "for i in range(6): \n",
        "    ax = plt.plot(x, P.Chebyshev.basis(i)(x), lw=2, \n",
        "                  label=f'$T_{i}$')\n",
        "plt.legend(bbox_to_anchor=(1.01, 1.0), loc=2)\n",
        "plt.xlim(-2, 2)\n",
        "plt.ylim(-400, 400)\n",
        "plt.show()"
      ],
      "id": "33b67927",
      "execution_count": null,
      "outputs": []
    },
    {
      "cell_type": "markdown",
      "metadata": {},
      "source": [
        "---\n",
        "\n",
        "* High-order polynomial interpolation can have undesirable behavior between the interpolation points. Although the interpolation is exact at the given data points, a high-order polynomial can vary wildly between the specified points\n",
        "\n",
        "* This is famously illustrated by polynomial interpolation of Runge's function \n",
        "\n",
        "  $$f(x) = \\frac{1}{1 + 25x^2}$$ \n",
        "  \n",
        "  using evenly spaced sample points in the interval $[-1, 1]$. The result is an interpolant that nearly diverges between the data points near the end of the interval"
      ],
      "id": "e707a5ca"
    },
    {
      "cell_type": "code",
      "metadata": {},
      "source": [
        "def runge(x):\n",
        "  return 1/(1 + 25*x**2)\n",
        "\n",
        "def runge_interpolate(n):\n",
        "  x = np.linspace(-1, 1, n +1)\n",
        "  p = P.Polynomial.fit(x, runge(x), deg=n)\n",
        "  return x, p"
      ],
      "id": "311ee32a",
      "execution_count": null,
      "outputs": []
    },
    {
      "cell_type": "code",
      "metadata": {},
      "source": [
        "#| fig-align: center\n",
        "xx = np.linspace(-1, 1, 250)\n",
        "\n",
        "fig, ax = plt.subplots(1, 1, figsize=(6, 4))\n",
        "\n",
        "ax.plot(xx, runge(xx), 'k', lw=2, label=\"Runge's function\")\n",
        "\n",
        "# 13th order interpolation of the Runge function\n",
        "n = 13\n",
        "x, p = runge_interpolate(n)\n",
        "ax.plot(x, runge(x), 'ro')\n",
        "ax.plot(xx, p(xx), 'r', label=f'interp. order {n}')\n",
        "\n",
        "# 14th order interpolation of the Runge function\n",
        "n = 14\n",
        "x, p = runge_interpolate(n)\n",
        "ax.plot(x, runge(x), 'go')\n",
        "ax.plot(xx, p(xx), 'g', label=f'interp. order {n}')\n",
        "\n",
        "ax.legend(loc=8)\n",
        "ax.set_xlim(-1.1, 1.1)\n",
        "ax.set_ylim(-1, 2)\n",
        "ax.set_xticks([-1, -0.5, 0, 0.5, 1])\n",
        "ax.set_xlabel(r\"$x$\", fontsize=12)\n",
        "ax.set_ylabel(r\"$y$\", fontsize=12)\n",
        "\n",
        "ax.tick_params(which='both', direction='in')"
      ],
      "id": "b4d92bcd",
      "execution_count": null,
      "outputs": []
    },
    {
      "cell_type": "markdown",
      "metadata": {},
      "source": [
        "## Spline interpolation\n",
        "\n",
        "* For a set of $n$ data points $\\{ x_i, y_i\\}$, there are $n-1$ subintervals $[x_i, x_{i+1}]$ in the full range of the data $[x_0, x_n]$. To interpolate the $n$ data points using **piecewise polynomials of degree** $k$ on each of the subintervals, we must determine $(k+1)(n-1)$ unknown parameters. The values at the knots give $2(n-1)$ equations. Additional equations can be obtained by requiring also that derivatives and higher-order derivatives are continuous at the knots\n",
        "\n",
        "* **A spline is a special type of piecewise polynomial interpolant: a piecewise polynomial of degree $k$ is a spline if it is continuously differentiable $k-1$ times**. The most popular choice is the third-order spline, $k=3$, which requires $4(n-1)$ parameters\n",
        "\n",
        "* For this case, the continuity of two derivatives at the $n-2$ knots gives $2(n-2)$ additional equations, bringing the total number of equations to $2(n-1) +2(n-2) = 4(n-1) -2$\n",
        "\n",
        "* There are therefore two remaining undetermined parameters, which must be determined by other means. A common approach is to additionally require that the second order derivatives at the end points are zero (resulting in the natural spline). This gives two more equations, which closes the equation system"
      ],
      "id": "3870870a"
    },
    {
      "cell_type": "code",
      "metadata": {},
      "source": [
        "#| fig-align: center\n",
        "x = np.linspace(-1, 1, 11)\n",
        "xx = np.linspace(-1, 1, 100)\n",
        "y = runge(x)\n",
        "f_i = interpolate.interp1d(x, y, kind=3)\n",
        "\n",
        "fig, ax = plt.subplots(figsize=(6, 4))\n",
        "\n",
        "ax.plot(x, y, 'ro', label='Sample points')\n",
        "ax.plot(xx, runge(xx), 'k', lw=1, label=\"Runge's function\")\n",
        "ax.plot(xx, f_i(xx), 'r--', lw=2, label='Spline order 3')\n",
        "ax.legend()\n",
        "\n",
        "ax.set_xlim(-1, 1)\n",
        "ax.set_ylim(0, 1.2)\n",
        "ax.set_xticks([-1, -0.5, 0, 0.5, 1])\n",
        "ax.set_xlabel(r\"$x$\", fontsize=12)\n",
        "ax.set_ylabel(r\"$y$\", fontsize=12)\n",
        "ax.tick_params(which='both', direction='in')\n",
        "\n",
        "plt.show()"
      ],
      "id": "e4494aa9",
      "execution_count": null,
      "outputs": []
    },
    {
      "cell_type": "markdown",
      "metadata": {},
      "source": [
        "* To illustrate the effect of the order of a spline interpolation, consider the problem of interpolating the data\n",
        "\n",
        "  $$ (0,3), (1,4), (2,3.5), (3,2), (4,1), (5,1.5), (6,1.25) \\text{ and } (7,0.7) $$\n",
        "\n",
        "  with splines of increasing order"
      ],
      "id": "dadc6ec9"
    },
    {
      "cell_type": "code",
      "metadata": {},
      "source": [
        "#| fig-align: center\n",
        "x = np.array([0, 1, 2, 3, 4, 5, 6, 7])\n",
        "y = np.array([3, 4, 3.5, 2, 1, 1.5, 1.25, 0.7])\n",
        "\n",
        "xx = np.linspace(x.min(), x.max(), 100)\n",
        "\n",
        "fig, ax = plt.subplots(figsize=(6, 4))\n",
        "\n",
        "ax.scatter(x, y)\n",
        "for n in [1, 2, 3, 7]:\n",
        "    f = interpolate.interp1d(x, y, kind=n)\n",
        "    ax.plot(xx, f(xx), label='order %d' % n)\n",
        "    \n",
        "ax.legend()\n",
        "ax.set_xlabel(r\"$x$\", fontsize=12)\n",
        "ax.set_ylabel(r\"$y$\", fontsize=12)\n",
        "\n",
        "ax.tick_params(which='both', direction='in')"
      ],
      "id": "8a946c53",
      "execution_count": null,
      "outputs": []
    },
    {
      "cell_type": "markdown",
      "metadata": {},
      "source": [
        "## Multivariate interpolation"
      ],
      "id": "b94b24ed"
    },
    {
      "cell_type": "code",
      "metadata": {},
      "source": [
        "def f(x, y):\n",
        "  return (np.exp(-(x +0.5)**2 -2*(y +0.5)**2) \n",
        "         -np.exp(-(x -0.5)**2 -2*(y -0.5)**2))\n",
        "\n",
        "x = y = np.linspace(-2, 2, 20)\n",
        "X, Y = np.meshgrid(x, y)\n",
        "\n",
        "# simulate noisy data at fixed grid points X, Y\n",
        "Z = f(X, Y) +0.01 *np.random.randn(*X.shape)\n",
        "\n",
        "f_i = interpolate.RectBivariateSpline(x, y, Z)\n",
        "\n",
        "xx = yy = np.linspace(x.min(), x.max(), 100)\n",
        "XX, YY = np.meshgrid(xx, yy)\n",
        "\n",
        "ZZi = f_i(xx, yy)"
      ],
      "id": "8c82f96f",
      "execution_count": null,
      "outputs": []
    },
    {
      "cell_type": "code",
      "metadata": {},
      "source": [
        "#| fig-align: center\n",
        "fig, axes = plt.subplots(2, 1, figsize=(6, 10), sharex=True)\n",
        "\n",
        "c = axes[0].contourf(XX, YY, f(XX, YY), 10, cmap=plt.cm.RdBu)\n",
        "axes[0].set_ylabel(r\"$y$\", fontsize=12)\n",
        "axes[0].set_title(\"Exact/High sampling\")\n",
        "cb = fig.colorbar(c, ax=axes[0])\n",
        "cb.set_label(r\"$z$\", fontsize=12)\n",
        "\n",
        "c = axes[1].contourf(XX, YY, ZZi, 10, cmap=plt.cm.RdBu)\n",
        "axes[1].set_ylim(-2, 2)\n",
        "axes[1].set_xlim(-2, 2)\n",
        "axes[1].set_xlabel(r\"$x$\", fontsize=12)\n",
        "axes[1].set_ylabel(r\"$y$\", fontsize=12)\n",
        "axes[1].set_title(\"Interpolation of noisy data/Low sampling\")\n",
        "cb = fig.colorbar(c, ax=axes[1])\n",
        "cb.set_label(r\"$z$\", fontsize=12)"
      ],
      "id": "86e7ecc8",
      "execution_count": null,
      "outputs": []
    },
    {
      "cell_type": "markdown",
      "metadata": {},
      "source": [
        "* For higher-dimensional problems, there is a function `interpolate.interpnd`, which is a generalization to $n$-dimensional problems\n",
        "\n",
        "* Another typical situation that requires multivariate interpolation occurs when sampled data is given on an irregular coordinate grid. To be able to easily plot and analyze such data with existing tools, it may be desirable to interpolate it onto a regular coordinate grid. In `scipy`, we can use the `interpolate.griddata` for exactly this task"
      ],
      "id": "d9bab48c"
    },
    {
      "cell_type": "code",
      "metadata": {},
      "source": [
        "def f(x, y):\n",
        "  return np.exp(-x**2 -y**2) *np.cos(4*x) *np.sin(6*y)\n",
        "\n",
        "x = y = np.linspace(-1, 1, 100)\n",
        "X, Y = np.meshgrid(x, y)\n",
        "Z = f(X, Y)\n",
        "\n",
        "np.random.seed(115925231)\n",
        "N = 500\n",
        "xdata = np.random.uniform(-1, 1, N)\n",
        "ydata = np.random.uniform(-1, 1, N)\n",
        "zdata = f(xdata, ydata)"
      ],
      "id": "f608bf0f",
      "execution_count": null,
      "outputs": []
    },
    {
      "cell_type": "code",
      "metadata": {},
      "source": [
        "#| fig-align: center\n",
        "fig, ax = plt.subplots(figsize=(6, 5))\n",
        "\n",
        "c = ax.contourf(X, Y, Z, 15, cmap=plt.cm.RdBu);\n",
        "ax.scatter(xdata, ydata, marker='.')\n",
        "ax.set_ylim(-1, 1)\n",
        "ax.set_xlim(-1, 1)\n",
        "ax.set_xlabel(r\"$x$\", fontsize=12)\n",
        "ax.set_ylabel(r\"$y$\", fontsize=12)\n",
        "\n",
        "cb = fig.colorbar(c, ax=ax)\n",
        "cb.set_label(r\"$z$\", fontsize=12)"
      ],
      "id": "36ca6a16",
      "execution_count": null,
      "outputs": []
    },
    {
      "cell_type": "code",
      "metadata": {},
      "source": [
        "#| fig-align: center\n",
        "def z_interpolate(xdata, ydata, zdata):\n",
        "    Zi_0 = interpolate.griddata((xdata, ydata), \n",
        "                        zdata, (X, Y), method='nearest')\n",
        "    Zi_1 = interpolate.griddata((xdata, ydata), \n",
        "                        zdata, (X, Y), method='linear')\n",
        "    Zi_3 = interpolate.griddata((xdata, ydata), \n",
        "                        zdata, (X, Y), method='cubic')\n",
        "    return Zi_0, Zi_1, Zi_3\n",
        "\n",
        "fig, axes = plt.subplots(3, 3, figsize=(6, 6), \n",
        "                         sharex=True, sharey=True)\n",
        "\n",
        "n_vec = [50, 150, 500]\n",
        "\n",
        "for idx, n in enumerate(n_vec):\n",
        "    Zi_0, Zi_1, Zi_3 = z_interpolate(xdata[:n], \n",
        "                                     ydata[:n], \n",
        "                                     zdata[:n])\n",
        "    axes[idx, 0].contourf(X, Y, Zi_0, 15, cmap=plt.cm.RdBu)\n",
        "    axes[idx, 0].set_ylabel(f'{n} data points\\ny', fontsize=10)\n",
        "    axes[idx, 0].set_title(\"nearest\", fontsize=10)\n",
        "    axes[idx, 1].contourf(X, Y, Zi_1, 15, cmap=plt.cm.RdBu)\n",
        "    axes[idx, 1].set_title(\"linear\", fontsize=10)\n",
        "    axes[idx, 2].contourf(X, Y, Zi_3, 15, cmap=plt.cm.RdBu)\n",
        "    axes[idx, 2].set_title(\"cubic\", fontsize=10)\n",
        "\n",
        "for m in range(len(n_vec)):\n",
        "    axes[idx, m].set_xlabel(\"x\", fontsize=10)"
      ],
      "id": "4a6e422b",
      "execution_count": null,
      "outputs": []
    }
  ],
  "metadata": {
    "kernelspec": {
      "name": "python3",
      "language": "python",
      "display_name": "Python 3 (ipykernel)",
      "path": "/opt/miniconda3/share/jupyter/kernels/python3"
    }
  },
  "nbformat": 4,
  "nbformat_minor": 5
}