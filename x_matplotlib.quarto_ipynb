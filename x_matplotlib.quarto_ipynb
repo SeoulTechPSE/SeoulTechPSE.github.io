{
  "cells": [
    {
      "cell_type": "markdown",
      "metadata": {},
      "source": [
        "---\n",
        "jupyter: python3\n",
        "---\n",
        "\n",
        "# Matplotlib: Plotting and Visualization {#sec-matplotlib}\n",
        "\n",
        "[![](figures/matplotlib_logo.png){width=\"40%\" fig-align=\"center\"}](https://matplotlib.org/)\n",
        "\n",
        "* `Matplotlib` is a Python library for publication-quality 2D and 3D graphics, with support for a variety of different output formats\n",
        "\n",
        "* More information about `matplotlib` is available at the project’s web site [https://matplotlib.org](https://matplotlib.org)\n",
        "\n",
        "* This gallery is a great source of inspiration for visualization ideas, and I highly recommend exploring `matplotlib` by browsing [this gallery](https://matplotlib.org/stable/gallery/index.html)\n",
        "\n",
        "## Importing matplotlib"
      ],
      "id": "f8c44f36"
    },
    {
      "cell_type": "code",
      "metadata": {},
      "source": [
        "import numpy as np\n",
        "import sympy\n",
        "\n",
        "import matplotlib as mpl\n",
        "import matplotlib.pyplot as plt\n",
        "mpl.rcParams['font.size'] = 12.0"
      ],
      "id": "48b302bb",
      "execution_count": null,
      "outputs": []
    },
    {
      "cell_type": "code",
      "metadata": {},
      "source": [
        "print('matplotlib:', mpl.__version__)\n",
        "print('numpy:     ', np.__version__)\n",
        "print('sympy:     ', sympy.__version__)"
      ],
      "id": "7cd46930",
      "execution_count": null,
      "outputs": []
    },
    {
      "cell_type": "markdown",
      "metadata": {},
      "source": [
        "## Getting started"
      ],
      "id": "fe92de00"
    },
    {
      "cell_type": "code",
      "metadata": {},
      "source": [
        "# | echo: False\n",
        "#| fig-align: center\n",
        "fig = plt.figure()\n",
        "\n",
        "ax = fig.add_axes([0.05, 0.05, 0.86, 0.88])\n",
        "ax.set_xticks([])\n",
        "ax.set_yticks([])\n",
        "ax.text(0.001, 0.01, \"(0,0)\")\n",
        "ax.text(1.001, 0.01, \"(1,0)\")\n",
        "ax.text(0.001, 1.01, \"(0,1)\")\n",
        "ax.text(1.001, 1.01, \"(1,1)\")\n",
        "ax.text(0.12, 0.06, \"(0.15, 0.15)\")\n",
        "ax.text(0.02, 0.92, \"Figure\", fontsize=18)\n",
        "\n",
        "ax = fig.add_axes([0.15, 0.15, 0.66, 0.68])\n",
        "ax.set_xticks([])\n",
        "ax.set_yticks([])\n",
        "ax.text(0.03, 0.88, \"Axes\", fontsize=18)\n",
        "\n",
        "plt.show()"
      ],
      "id": "d192fe36",
      "execution_count": null,
      "outputs": []
    },
    {
      "cell_type": "code",
      "metadata": {},
      "source": [
        "#| fig-align: center\n",
        "x = np.linspace(-5, 2, 100)\n",
        "\n",
        "y1 = x**3 +5*x**2 +10\n",
        "y2 = 3*x**2 +10*x\n",
        "y3 = 6*x +10\n",
        "\n",
        "#---------------------------------------\n",
        "\n",
        "fig, ax = plt.subplots(figsize=(6, 4))\n",
        "\n",
        "ax.plot(x, y1, color=\"blue\", label=\"$y(x)$\")\n",
        "ax.plot(x, y2, color=\"red\", label=\"$y'(x)$\")\n",
        "ax.plot(x, y3, color=\"green\", label=\"$y''(x)$\")\n",
        "\n",
        "ax.set_xlabel(\"$x$\")\n",
        "ax.set_ylabel(\"$y$\")\n",
        "ax.legend()\n",
        "\n",
        "plt.show()"
      ],
      "id": "07144c09",
      "execution_count": null,
      "outputs": []
    },
    {
      "cell_type": "markdown",
      "metadata": {},
      "source": [
        "---"
      ],
      "id": "c6bc8048"
    },
    {
      "cell_type": "code",
      "metadata": {},
      "source": [
        "#| fig-align: center\n",
        "fig, ax = plt.subplots(figsize=(6, 4))\n",
        "\n",
        "ax.plot(x, y1, lw=1.5, color=\"blue\", label=r\"$y(x)$\")\n",
        "ax.plot(x, y2, lw=1.5, color=\"red\", label=r\"$y'(x)$\")\n",
        "ax.plot(x, y3, lw=1.5, color=\"green\", label=r\"$y''(x)$\")\n",
        "\n",
        "ax.plot(x, np.zeros_like(x), lw=0.5, color=\"black\")\n",
        "ax.plot([-3.33], [(-3.33)**3 + 5*(-3.33)**2 + 10], \n",
        "        lw=0.5, marker='o', color=\"blue\")\n",
        "ax.plot([0], [10], lw=0.5, marker='o', color=\"blue\")\n",
        "ax.plot([-3.33, -3.33], [0, (-3.33)**3 + 5*(-3.33)**2 + 10], \n",
        "        ls='--', lw=0.5, color=\"black\")\n",
        "ax.plot([0, 0], [0, 10], ls='--', lw=0.5, color=\"black\")\n",
        "\n",
        "ax.set_xlim([-5, 2.5])\n",
        "ax.set_xticks([-5, -2.5, 0, 2.5])\n",
        "ax.set_ylim(-20, 40)\n",
        "ax.set_yticks([-20, -10, 0, 10, 20, 30, 40])\n",
        "\n",
        "ax.set_xlabel(\"$x$\", fontsize=14)\n",
        "ax.set_ylabel(\"$y$\", fontsize=14)\n",
        "\n",
        "ax.legend(loc=2, ncol=3, fontsize=14, frameon=False)\n",
        "\n",
        "plt.show()"
      ],
      "id": "1f6d6842",
      "execution_count": null,
      "outputs": []
    },
    {
      "cell_type": "markdown",
      "metadata": {},
      "source": [
        "## Figure"
      ],
      "id": "ce607f53"
    },
    {
      "cell_type": "code",
      "metadata": {},
      "source": [
        "#| fig-align: center\n",
        "x = np.linspace(-2, 2, 1000)\n",
        "\n",
        "y1 = np.cos(40*x)\n",
        "y2 = np.exp(-x**2)\n",
        "\n",
        "#---------------------------------------\n",
        "\n",
        "# the width and height of the figure canvas in inches\n",
        "fig = plt.figure(figsize=(6, 3), facecolor=\"#f1f1f1\") \n",
        "\n",
        "# axes coordinates as fractions of \n",
        "# the canvas width and height\n",
        "left, bottom, width, height = 0.1, 0.1, 0.8, 0.8\n",
        "ax = fig.add_axes((left, bottom, width, height), \n",
        "                    facecolor=\"#e1e1e1\")\n",
        "\n",
        "ax.plot(x, y1 *y2)\n",
        "ax.plot(x, y2, 'g')\n",
        "ax.plot(x,-y2, 'g')\n",
        "\n",
        "ax.set_xlabel(\"x\")\n",
        "ax.set_ylabel(\"y\")\n",
        "\n",
        "plt.show()"
      ],
      "id": "fa726466",
      "execution_count": null,
      "outputs": []
    },
    {
      "cell_type": "code",
      "metadata": {},
      "source": [
        "fig.savefig(\"./figures/matplotlib_savefig.png\", dpi=100, facecolor=\"#f1f1f1\")\n",
        "fig.savefig(\"./figures/matplotlib_savefig.pdf\", dpi=300, facecolor=\"#f1f1f1\")"
      ],
      "id": "04fb2ed0",
      "execution_count": null,
      "outputs": []
    },
    {
      "cell_type": "markdown",
      "metadata": {},
      "source": [
        "## Axes\n",
        "\n",
        "* `Matplotlib` provides several different `Axes` layout managers, which create and place `Axes` instances within a `figure` canvas following different strategies\n",
        "\n",
        "* To facilitate the forthcoming examples, $\\,$we here briefly look at one of these layout\n",
        "managers: \n",
        "\n",
        "  ```python  \n",
        "     plt.subplots\n",
        "  ```  \n",
        "  Earlier in this appendix, $\\,$we already used this function to conveniently\n",
        "generate new `Figure` and `Axes` objects <font color='green'>in one function call</font>\n",
        "\n",
        "* However, $\\,$the `plt.subplots` function is also\n",
        "capable of filling a figure with a grid of `Axes` instances, which is specified using the first and the second arguments, or alternatively with the `nrows` and `ncols` arguments, which, as the names implies, creates a grid of `Axes` objects, $\\,$with the given number of rows and columns\n",
        "\n",
        "  ```python\n",
        "     fig, axes = plt.subplots(nrows=3, ncols=2)\n",
        "  ```\n",
        "\n",
        "* Here, the function `plt.subplots` returns a tuple `(fig, axes)`, where `fig` is a `figure` and `axes` is a `numpy` array of size `(ncols, nrows)`, $\\,$in which each element is an `Axes` instance that has been appropriately placed in the corresponding `figure` canvas. $\\,$At this point we can also specify that columns and/or rows should share x and y axes, using the `sharex` and `sharey` arguments, which can be set to `True` or `False`\n",
        "\n",
        "* The `plt.subplots` function also takes two special keyword arguments `fig_kw` and `subplot_kw`, which\n",
        "are dictionaries with keyword arguments that are used when creating the `Figure` and `Axes` instances,\n",
        "respectively. This allows us to set and retain full control of the properties of the `Figure` and `Axes` objects with `plt.subplots`, $\\,$a similar way is possible when directly using `plt.figure` and the `add_axes` method\n",
        "\n",
        "## Plot types\n",
        "\n",
        "* `Matplotlib` implements many types of plotting techniques as methods of the `Axes` object\n",
        "\n",
        "  ![](figures/matplotlib_plot_types_1.png){width=\"70%\" fig-align=\"center\"}\n",
        "\n",
        "  For details, see [Matplotlib's plot types](https://matplotlib.org/stable/plot_types/index.html)"
      ],
      "id": "1cd7bbdd"
    },
    {
      "cell_type": "code",
      "metadata": {},
      "source": [
        "def hide_labels(fig, ax, fignum):\n",
        "       \n",
        "  ax.set_xticks([])\n",
        "  ax.set_yticks([])\n",
        "\n",
        "  ax.xaxis.set_ticks_position('none')\n",
        "  ax.yaxis.set_ticks_position('none')\n",
        "\n",
        "  ax.axis('tight')\n",
        "\n",
        "  fignum += 1\n",
        "  #fig.savefig(f\"./figures/plot_types_{fignum}.pdf\")"
      ],
      "id": "e94d7ead",
      "execution_count": null,
      "outputs": []
    },
    {
      "cell_type": "code",
      "metadata": {},
      "source": [
        "x = np.linspace(-3, 3, 25)\n",
        "y1 = x**3 +3*x**2 +10\n",
        "y2 = -1.5*x**3 +10*x**2 -15"
      ],
      "id": "99e04fed",
      "execution_count": null,
      "outputs": []
    },
    {
      "cell_type": "code",
      "metadata": {},
      "source": [
        "#| fig-align: center\n",
        "fig, ax = plt.subplots(figsize=(6, 4))\n",
        "\n",
        "ax.plot(x, y1)\n",
        "ax.plot(x, y2)\n",
        "\n",
        "hide_labels(fig, ax, 1)"
      ],
      "id": "5895778b",
      "execution_count": null,
      "outputs": []
    },
    {
      "cell_type": "code",
      "metadata": {},
      "source": [
        "#| fig-align: center\n",
        "fig, ax = plt.subplots(figsize=(6, 4))\n",
        "\n",
        "ax.step(x, y1)\n",
        "ax.step(x, y2)\n",
        "\n",
        "hide_labels(fig, ax, 2)"
      ],
      "id": "f1618efc",
      "execution_count": null,
      "outputs": []
    },
    {
      "cell_type": "code",
      "metadata": {},
      "source": [
        "#| fig-align: center\n",
        "fig, ax = plt.subplots(figsize=(6, 4))\n",
        "\n",
        "width = 6/50\n",
        "\n",
        "ax.bar(x - width/2, y1, width=width, color=\"blue\")\n",
        "ax.bar(x + width/2, y2, width=width, color=\"green\")\n",
        "\n",
        "hide_labels(fig, ax, 3)"
      ],
      "id": "679cad4e",
      "execution_count": null,
      "outputs": []
    },
    {
      "cell_type": "code",
      "metadata": {},
      "source": [
        "#| fig-align: center\n",
        "fig, ax = plt.subplots(figsize=(6, 4))\n",
        "\n",
        "ax.hist(y2, bins=15, edgecolor=\"black\")\n",
        "ax.hist(y1, bins=15, edgecolor=\"black\")\n",
        "\n",
        "hide_labels(fig, ax, 4)"
      ],
      "id": "ad23549d",
      "execution_count": null,
      "outputs": []
    },
    {
      "cell_type": "code",
      "metadata": {},
      "source": [
        "#| fig-align: center\n",
        "fig, ax = plt.subplots(figsize=(6, 4))\n",
        "\n",
        "ax.errorbar(x, y2, yerr=y1, lw=0.6, fmt='--o', capsize=5)\n",
        "\n",
        "hide_labels(fig, ax, 5)"
      ],
      "id": "18d2c269",
      "execution_count": null,
      "outputs": []
    },
    {
      "cell_type": "code",
      "metadata": {},
      "source": [
        "#| fig-align: center\n",
        "fig, ax = plt.subplots(figsize=(6, 4))\n",
        "\n",
        "ax.fill_between(x, y1, y2, edgecolor=\"black\")\n",
        "\n",
        "hide_labels(fig, ax, 6)"
      ],
      "id": "35bde115",
      "execution_count": null,
      "outputs": []
    },
    {
      "cell_type": "code",
      "metadata": {},
      "source": [
        "#| fig-align: center\n",
        "fig, ax = plt.subplots(figsize=(6, 4))\n",
        "\n",
        "ax.stem(x, y1, linefmt='b', markerfmt='bs')\n",
        "ax.stem(x, y2, linefmt='r', markerfmt='ro')\n",
        "\n",
        "hide_labels(fig, ax, 7)"
      ],
      "id": "4b46eb60",
      "execution_count": null,
      "outputs": []
    },
    {
      "cell_type": "code",
      "metadata": {},
      "source": [
        "#| fig-align: center\n",
        "fig, ax = plt.subplots(figsize=(6, 4))\n",
        "\n",
        "x = np.linspace(0, 5, 50)\n",
        "\n",
        "ax.scatter(x, -1 +x +0.25*x**2 +2*np.random.rand(len(x)))\n",
        "ax.scatter(x, np.sqrt(x) +2*np.random.rand(len(x)), color=\"green\")\n",
        "\n",
        "hide_labels(fig, ax, 8)"
      ],
      "id": "9f6594b4",
      "execution_count": null,
      "outputs": []
    },
    {
      "cell_type": "markdown",
      "metadata": {},
      "source": [
        "---"
      ],
      "id": "91da3b04"
    },
    {
      "cell_type": "code",
      "metadata": {},
      "source": [
        "#| fig-align: center\n",
        "x = y = np.linspace(-np.pi, np.pi, 16)\n",
        "X, Y = np.meshgrid(x, y)\n",
        "U = np.sin(X)\n",
        "V = np.cos(Y)\n",
        "\n",
        "fig, ax = plt.subplots(figsize=(5, 5))\n",
        "\n",
        "ax.quiver(X, Y, U, V)\n",
        "hide_labels(fig, ax, 9)"
      ],
      "id": "7962c864",
      "execution_count": null,
      "outputs": []
    },
    {
      "cell_type": "code",
      "metadata": {},
      "source": [
        "#| fig-align: center\n",
        "fig, ax = plt.subplots(figsize=(5, 5))\n",
        "\n",
        "ax.streamplot(X, Y, U, V)\n",
        "hide_labels(fig, ax, 9)"
      ],
      "id": "66fe4c3a",
      "execution_count": null,
      "outputs": []
    },
    {
      "cell_type": "code",
      "metadata": {},
      "source": [
        "#| fig-align: center\n",
        "plt.style.use('_mpl-gallery')\n",
        "\n",
        "# make data:\n",
        "np.random.seed(10)\n",
        "D = np.random.normal((3, 5, 4), (1.25, 1.00, 1.25), (100, 3))\n",
        "\n",
        "# plot\n",
        "fig, ax = plt.subplots(figsize=(5, 5))\n",
        "VP = ax.boxplot(D, \n",
        "                positions=[2, 4, 6], \n",
        "                widths=1.5, \n",
        "                patch_artist=True,\n",
        "                showmeans=False, \n",
        "                showfliers=False,\n",
        "                medianprops={\"color\": \"white\", \"linewidth\": 0.5},\n",
        "                boxprops={\"facecolor\": \"C0\", \"edgecolor\": \"white\",\n",
        "                          \"linewidth\": 0.5},\n",
        "                whiskerprops={\"color\": \"C0\", \"linewidth\": 1.5},\n",
        "                capprops={\"color\": \"C0\", \"linewidth\": 1.5})\n",
        "\n",
        "ax.set(xlim=(0, 8), xticks=[],\n",
        "       ylim=(0, 8), yticks=[])\n",
        "\n",
        "plt.show()"
      ],
      "id": "f7a74d13",
      "execution_count": null,
      "outputs": []
    },
    {
      "cell_type": "code",
      "metadata": {},
      "source": [
        "#| fig-align: center\n",
        "plt.style.use('_mpl-gallery-nogrid')\n",
        "\n",
        "# make data\n",
        "x = [1, 2, 3, 4]\n",
        "colors = plt.get_cmap('Blues')(np.linspace(0.2, 0.7, len(x)))\n",
        "\n",
        "# plot\n",
        "fig, ax = plt.subplots(figsize=(5, 5))\n",
        "ax.pie(x, colors=colors, radius=3, center=(4, 4),\n",
        "       wedgeprops={\"linewidth\": 1, \"edgecolor\": \"white\"}, frame=True)\n",
        "\n",
        "ax.set(xlim=(0, 8), xticks=[],\n",
        "       ylim=(0, 8), yticks=[])\n",
        "\n",
        "plt.show()"
      ],
      "id": "840b2704",
      "execution_count": null,
      "outputs": []
    },
    {
      "cell_type": "markdown",
      "metadata": {},
      "source": [
        "## Line properties\n",
        "\n",
        "* In `matplotlib`, $\\,$we set the line properties with keyword arguments to the `plot` methods, such as for example `plot`, `step`, `bar`"
      ],
      "id": "253c46e1"
    },
    {
      "cell_type": "code",
      "metadata": {},
      "source": [
        "def axes_settings(fig, ax, title, ymax):\n",
        "     \n",
        "  ax.set_title(title)\n",
        "  ax.set_ylim(0, ymax +1)\n",
        "  ax.set_xticks([])\n",
        "  ax.set_yticks([])\n",
        "    \n",
        "x = np.linspace(-5, 5, 5)\n",
        "y = np.ones_like(x)"
      ],
      "id": "b208e5fa",
      "execution_count": null,
      "outputs": []
    },
    {
      "cell_type": "code",
      "metadata": {},
      "source": [
        "#| fig-align: center\n",
        "fig, ax = plt.subplots(figsize=(6, 4))\n",
        "\n",
        "# Line width\n",
        "linewidths = [0.5, 1.0, 2.0, 4.0]\n",
        "for n, linewidth in enumerate(linewidths):\n",
        "  ax.plot(x, y + n, color=\"blue\", linewidth=linewidth)\n",
        "    \n",
        "axes_settings(fig, ax, \"linewidth\", len(linewidths))"
      ],
      "id": "0667ad43",
      "execution_count": null,
      "outputs": []
    },
    {
      "cell_type": "code",
      "metadata": {},
      "source": [
        "#| fig-align: center\n",
        "fig, ax = plt.subplots(figsize=(6, 4))  \n",
        "\n",
        "# Line style\n",
        "linestyles = ['-', '--', '-.', ':']\n",
        "for n, linestyle in enumerate(linestyles):\n",
        "  ax.plot(x, y + n, color=\"blue\", linestyle=linestyle)\n",
        "\n",
        "# Custom dash style\n",
        "line, = ax.plot(x, y + len(linestyles), color=\"red\", lw=2)\n",
        "length1, gap1, length2, gap2 = 5, 2, 10, 2\n",
        "line.set_dashes([length1, gap1, length2, gap2])\n",
        "    \n",
        "axes_settings(fig, ax, \"linestyle\", len(linestyles) + 1)"
      ],
      "id": "c152141b",
      "execution_count": null,
      "outputs": []
    },
    {
      "cell_type": "code",
      "metadata": {},
      "source": [
        "#| fig-align: center\n",
        "fig, ax = plt.subplots(figsize=(6, 4))\n",
        " \n",
        "# Marker types\n",
        "markers = ['+', 'o', '*', 's', '.', '1', '2', '3', '4']\n",
        "for n, marker in enumerate(markers):\n",
        "  \n",
        "  ax.plot(x, y + n, color=\"blue\", lw=0, marker=marker)\n",
        "    \n",
        "axes_settings(fig, ax, \"markers\", len(markers))"
      ],
      "id": "64a27521",
      "execution_count": null,
      "outputs": []
    },
    {
      "cell_type": "code",
      "metadata": {},
      "source": [
        "#| fig-align: center\n",
        "fig, ax = plt.subplots(figsize=(6, 4))\n",
        "\n",
        "# Marker size and color\n",
        "markersizeandcolors = [(4, \"white\"), (8, \"red\"), (12, \"yellow\"), (16, \"lightgreen\")]\n",
        "for n, (markersize, markercolor) in enumerate(markersizeandcolors):\n",
        "  ax.plot(x, y + n, color=\"blue\", lw=1, ls='-', \n",
        "          marker='o',\n",
        "          markersize=markersize,\n",
        "          markerfacecolor=markercolor, \n",
        "          markeredgewidth=2)\n",
        "    \n",
        "axes_settings(fig, ax, \"marker size/color\", len(markersizeandcolors))"
      ],
      "id": "cbd4bd6e",
      "execution_count": null,
      "outputs": []
    },
    {
      "cell_type": "markdown",
      "metadata": {},
      "source": [
        "---"
      ],
      "id": "1115aff7"
    },
    {
      "cell_type": "code",
      "metadata": {},
      "source": [
        "# a symboloc variable for x, and a numerical array with specific values of x\n",
        "sym_x = sympy.Symbol(\"x\")\n",
        "x = np.linspace(-2*np.pi, 2*np.pi, 100)\n",
        "\n",
        "def sin_expansion(x, n):\n",
        "  \"\"\"\n",
        "  Evaluate the n-th order Taylor series expansion of sin(x)\n",
        "  for numerical values in the numpy array x\n",
        "  \"\"\"\n",
        "    \n",
        "  return sympy.lambdify(sym_x, sympy.sin(sym_x).series(n=n).removeO(), 'numpy')(x)"
      ],
      "id": "c145f440",
      "execution_count": null,
      "outputs": []
    },
    {
      "cell_type": "code",
      "metadata": {},
      "source": [
        "#| fig-align: center\n",
        "fig, ax = plt.subplots(figsize=(6, 4))\n",
        "\n",
        "ax.plot(x, np.sin(x), lw=4, color=\"red\", label='exact')\n",
        "\n",
        "colors = [\"blue\", \"black\"]\n",
        "linestyles =[':', '-.', '--']\n",
        "\n",
        "for idx, n in enumerate(range(2, 13, 2)):\n",
        "    \n",
        "  ax.plot(x, sin_expansion(x, n), \n",
        "          color=colors[idx //3], \n",
        "          ls=linestyles[idx %3], \n",
        "          lw=3, \n",
        "          label=f'O({n})')\n",
        "    \n",
        "ax.set_xlim(-1.5*np.pi, 1.5*np.pi)\n",
        "ax.set_ylim(-1.25, 1.25) \n",
        "\n",
        "# place a legend outside of the Axes\n",
        "ax.legend(bbox_to_anchor=(1.02, 1), loc=2, borderaxespad=0.0)"
      ],
      "id": "72530290",
      "execution_count": null,
      "outputs": []
    },
    {
      "cell_type": "code",
      "metadata": {},
      "source": [
        "#| fig-align: center\n",
        "data1 = np.random.randn(200, 2) *np.array([3, 1])\n",
        "data2 = np.random.randn(200, 2) *np.array([1, 3])\n",
        "\n",
        "fig, axes = plt.subplots(2, 1, figsize=(6, 8), sharey=True)\n",
        "\n",
        "axes[0].scatter(data1[:, 0], data1[:, 1], color=\"g\", marker=\"s\", s=30, alpha=0.5)\n",
        "axes[0].scatter(data2[:, 0], data2[:, 1], color=\"b\", marker=\"o\", s=30, alpha=0.5)\n",
        "\n",
        "axes[1].hist([data1[:, 1], data2[:, 1]], \n",
        "    bins=15, \n",
        "    color=[\"g\", \"b\"], \n",
        "    alpha=0.5, \n",
        "    orientation='horizontal')\n",
        "\n",
        "plt.show()"
      ],
      "id": "d2974621",
      "execution_count": null,
      "outputs": []
    },
    {
      "cell_type": "markdown",
      "metadata": {},
      "source": [
        "## Legends\n",
        "\n",
        "* See `help(plt.legend)` for details. $\\,$The `loc` argument allows us to specify where in the `Axes` area the `legend` is to be added: `loc=1` for upper right corner, `loc=2` for\n",
        "upper left corner, `loc=3` for the lower-left corner, and `loc=4` for lower right corner\n",
        "\n",
        "* In the example of the previous section, $\\,$we used the `bbox_to_anchor`, $\\,$which helps the `legend` be\n",
        "placed at an arbitrary location within the `figure` canvas. The `bbox_to_anchor` argument takes the value of a\n",
        "tuple on the form `(x, y)`, $~$where `x` and `y` are the canvas coordinates within the `Axes` object. That is, $\\,$the point `(0, 0)` corresponds to the lower-left corner, and `(1, 1)` corresponds to the upper right corner. $\\,$Note that `x` and `y` can be smaller than `0` and larger than `1`, in this case, which indicates that the `legend` is to be placed outside the `Axes` area, $\\,$as was used in the previous section\n",
        "\n",
        "* By default, all lines in the `legend` are shown in a vertical arrangement. Using the `ncols` argument, it is\n",
        "possible to split the `legend` labels into multiple columns"
      ],
      "id": "d7e7a931"
    },
    {
      "cell_type": "code",
      "metadata": {},
      "source": [
        "#| fig-align: center\n",
        "x = np.linspace(0, 1, 100)\n",
        "\n",
        "fig, axes = plt.subplots(4, 1, figsize=(6, 12), sharex=True)\n",
        "\n",
        "for n in range(4):\n",
        "  axes[n].plot(x, x, label=\"$y(x) = x$\")\n",
        "  axes[n].plot(x, x +x**2, label=\"$y(x) = x + x^2$\")\n",
        "  axes[n].legend(loc=n + 1)\n",
        "  axes[n].set_title(f'legend: loc={n + 1}')"
      ],
      "id": "4100e632",
      "execution_count": null,
      "outputs": []
    },
    {
      "cell_type": "code",
      "metadata": {},
      "source": [
        "#| fig-align: center\n",
        "x = np.linspace(-1, 1, 100)\n",
        "\n",
        "def linear_eqn(x, slope):\n",
        "  return slope *x\n",
        "\n",
        "fig, ax = plt.subplots(figsize=(6, 3))\n",
        "\n",
        "colors = ['blue', 'green', 'red', 'cyan',\n",
        "          'magenta', 'yellow', 'black', 'orange']\n",
        "\n",
        "for slope in range(1, 9):\n",
        "  ax.plot(x, \n",
        "          linear_eqn(x, slope), \n",
        "          color=colors[slope -1],\n",
        "          label=f\"$y(x)={slope:d}x$\")\n",
        "    \n",
        "ax.set_xlim(-1, 1)\n",
        "ax.set_ylim(-8, 8)\n",
        "\n",
        "ax.tick_params(axis='x', pad=10)\n",
        "    \n",
        "ax.legend(bbox_to_anchor=(-0.01, 1.05), ncol=4, loc=3, borderaxespad=0.0)"
      ],
      "id": "17ab55a7",
      "execution_count": null,
      "outputs": []
    },
    {
      "cell_type": "markdown",
      "metadata": {},
      "source": [
        "## Text formatting and annotations\n",
        "\n",
        "* `Matplotlib` provides several ways of configuring fonts properties. $\\,$The default values can be set in the `matplotlib` resource file. $\\,$To display where the currently active `matplotlib` file is loaded from, $\\,$one can do the following: \n",
        "\n",
        "    ```python\n",
        "    mpl.matplotlib_fname()\n",
        "    ```\n",
        "\n",
        "* And session-wide configuration can be set in the `mpl.rcParams` dictionary: $~$for example,\n",
        "\n",
        "    ```python\n",
        "    mpl.rcParams['font.size'] = 12.0\n",
        "    ```\n",
        "    \n",
        "* Try `print(mpl.rcParams)` to get a list of possible configuration parameters and their current values\n",
        "\n",
        "* `Matplotlib` provides excellent support for LaTeX markup within its text labels: Any text label in `matplotlib` can include LaTeX math by enclosing it within `$` signs: $\\,$ for example `'Regular text: $f(x)=1-x^2$'`\n",
        "\n",
        "* By default, $\\,$ `matplotlib` uses an internal LaTeX rendering, $\\,$which\n",
        "supports a subset of LaTeX language. However, by setting the configuration parameter `mpl.rcParams['text.usetex']=True`, $~$it is also possible to use an external full-featured LaTeX engine\n",
        "\n",
        "* When embedding LaTeX code in strings there is a common stumbling block: Python uses\n",
        "`\\` as escape character, $\\,$while in LaTeX it is used to denote the start of commands. $\\,$To prevent the Python interpreter from escaping characters in strings containing LaTeX expressions, $\\,$it is convenient to use raw strings, $\\,$which are literal string expressions that are prepended with an `r`, $\\,$for example: `r\"$\\int f(x) dx$\"` and `r'$x_{\\rm A}$'`"
      ],
      "id": "3b5f44dc"
    },
    {
      "cell_type": "code",
      "metadata": {},
      "source": [
        "#| fig-align: center\n",
        "x = np.linspace(-20, 20, 100)\n",
        "y = np.sin(x) /x\n",
        "\n",
        "fig, ax = plt.subplots(figsize=(6, 4))\n",
        "\n",
        "ax.plot(x, y)\n",
        "\n",
        "ax.set_xlabel(\"x label\")\n",
        "ax.set_ylabel(\"y label\")\n",
        "\n",
        "for label in ax.get_xticklabels() +ax.get_yticklabels():\n",
        "  label.set_rotation(45)"
      ],
      "id": "00be65fb",
      "execution_count": null,
      "outputs": []
    },
    {
      "cell_type": "code",
      "metadata": {},
      "source": [
        "#| fig-align: center\n",
        "fig, ax = plt.subplots(figsize=(6, 3))\n",
        "\n",
        "ax.set_xticks([])\n",
        "ax.set_yticks([])\n",
        "ax.set_xlim(-0.50, 3.50)\n",
        "ax.set_ylim(-0.05, 0.25)\n",
        "ax.axhline(0)\n",
        "\n",
        "# text label\n",
        "ax.text(0, 0.1, \"Text label\", fontsize=14, family=\"serif\")\n",
        "\n",
        "# annotation\n",
        "ax.plot(1, 0, \"o\")\n",
        "ax.annotate(\"Annotation\", fontsize=14, family=\"serif\",\n",
        "            xy=(1, 0), \n",
        "            xycoords=\"data\",\n",
        "            xytext=(20, 50), \n",
        "            textcoords=\"offset points\",\n",
        "            arrowprops=dict(arrowstyle=\"->\", connectionstyle=\"arc3, rad=.5\"))\n",
        "\n",
        "# equation\n",
        "ax.text(2, 0.1, \n",
        "        r\"Equation: $i\\hbar\\partial_t \\Psi = \\hat{H}\\Psi$\", \n",
        "        fontsize=14, family=\"serif\")\n",
        "\n",
        "plt.show()"
      ],
      "id": "a9b14705",
      "execution_count": null,
      "outputs": []
    },
    {
      "cell_type": "code",
      "metadata": {},
      "source": [
        "mpl.rc('font', family='NanumGothic')\n",
        "mpl.rcParams['axes.unicode_minus'] = False"
      ],
      "id": "ae9758fb",
      "execution_count": null,
      "outputs": []
    },
    {
      "cell_type": "code",
      "metadata": {},
      "source": [
        "#| fig-align: center\n",
        "data = 1000 +np.random.randint(-100, 100, 50).cumsum()\n",
        "\n",
        "fig, ax = plt.subplots(figsize=(6, 4))\n",
        "\n",
        "ax.plot(range(50), data, 'r')\n",
        "\n",
        "ax.set_title('시간대별 가격 추이')\n",
        "ax.set_ylabel('주식 가격, [원]')\n",
        "ax.set_xlabel('시간, [분]')\n",
        "plt.show()"
      ],
      "id": "9b95cfa2",
      "execution_count": null,
      "outputs": []
    },
    {
      "cell_type": "code",
      "metadata": {},
      "source": [
        "mpl.rc('font', family='serif')\n",
        "mpl.rcParams['axes.unicode_minus'] = True"
      ],
      "id": "2f0a877b",
      "execution_count": null,
      "outputs": []
    },
    {
      "cell_type": "markdown",
      "metadata": {},
      "source": [
        "## Axis properties\n",
        "\n",
        "### Axis labels and titles"
      ],
      "id": "001c85aa"
    },
    {
      "cell_type": "code",
      "metadata": {},
      "source": [
        "#| fig-align: center\n",
        "x = np.linspace(0, 50, 500)\n",
        "y = np.sin(x) *np.exp(-x /10)\n",
        "\n",
        "fig, ax = plt.subplots(figsize=(6, 2), subplot_kw={'facecolor': \"#ebf5ff\"})\n",
        "\n",
        "ax.plot(x, y, lw=2)\n",
        "\n",
        "ax.set_xlim([0, 50])\n",
        "ax.set_ylim([-1.0, 1.0])\n",
        "\n",
        "ax.set_xlabel(\"x\", labelpad=5, fontsize=14, fontname='serif', color='blue')\n",
        "ax.set_ylabel(\"f(x)\", labelpad=5, fontsize=14, fontname='serif', color='blue')\n",
        "\n",
        "ax.set_title(\"Axis labels and Title example\", \n",
        "             fontsize=14, fontname='serif', color='blue', loc='center')\n",
        "\n",
        "plt.show()"
      ],
      "id": "35e2b126",
      "execution_count": null,
      "outputs": []
    },
    {
      "cell_type": "markdown",
      "metadata": {},
      "source": [
        "### Axis range"
      ],
      "id": "4c60b8dc"
    },
    {
      "cell_type": "code",
      "metadata": {},
      "source": [
        "#| fig-align: center\n",
        "x = np.linspace(0, 30, 500)\n",
        "y = np.sin(x) *np.exp(-x /10)\n",
        "\n",
        "fig, axes = plt.subplots(4, 1, figsize=(6, 12), \n",
        "                         subplot_kw={'facecolor': '#ebf5ff'})\n",
        "\n",
        "axes[0].plot(x, y, lw=2)\n",
        "axes[0].set_xlim(-5, 35)\n",
        "axes[0].set_ylim(-1, 1)\n",
        "axes[0].set_title(\"set_[x/y]lim\")\n",
        "\n",
        "axes[1].plot(x, y, lw=2)\n",
        "axes[1].axis('tight')\n",
        "axes[1].set_title(\"axis('tight')\")\n",
        "\n",
        "axes[2].plot(x, y, lw=2)\n",
        "axes[2].axis('equal')\n",
        "axes[2].set_title(\"axis('equal')\")\n",
        "\n",
        "axes[3].plot(x, y, lw=2)\n",
        "axes[3].autoscale(True)\n",
        "axes[3].set_title(\"autoscale(True)\")\n",
        "\n",
        "plt.show()"
      ],
      "id": "f7056f48",
      "execution_count": null,
      "outputs": []
    },
    {
      "cell_type": "markdown",
      "metadata": {},
      "source": [
        "### Axis ticks, tick labels, and grids\n",
        "\n",
        "$~$"
      ],
      "id": "d255999b"
    },
    {
      "cell_type": "code",
      "metadata": {},
      "source": [
        "# | echo: False\n",
        "# | fig-align: center\n",
        "fig = plt.figure(figsize=(8, 5))\n",
        "\n",
        "ax = fig.add_axes([0.15, 0.15, 0.68, 0.68])\n",
        "\n",
        "ax.set_xlim(1, 3)\n",
        "ax.set_ylim(1, 3)\n",
        "\n",
        "ax.tick_params(which='both', direction='in')\n",
        "\n",
        "ax.set_xticks([1, 2, 3])\n",
        "ax.set_yticks([1, 2, 3])\n",
        "\n",
        "ax.xaxis.set_minor_locator(mpl.ticker.MultipleLocator(0.25))\n",
        "ax.yaxis.set_minor_locator(mpl.ticker.MultipleLocator(0.25))\n",
        "\n",
        "ax.set_xlabel(\"x axis\", fontsize=18)\n",
        "ax.set_ylabel(\"y axis\", fontsize=18)\n",
        "\n",
        "ax.annotate(\"Major Tick\", fontsize=16,\n",
        "            xy=(1, 2), xycoords='data',\n",
        "            xytext=(35, 30), textcoords='offset points',\n",
        "            arrowprops=dict(arrowstyle=\"->\", connectionstyle=\"arc3, rad=-0.2\"))\n",
        "\n",
        "ax.annotate(\"Minor Tick\", fontsize=16,\n",
        "            xy=(1, 1.5), xycoords='data',\n",
        "            xytext=(35, 30), textcoords='offset points',\n",
        "            arrowprops=dict(arrowstyle=\"->\", connectionstyle=\"arc3, rad=-0.2\"))\n",
        "\n",
        "plt.show()"
      ],
      "id": "322852fd",
      "execution_count": null,
      "outputs": []
    },
    {
      "cell_type": "code",
      "metadata": {},
      "source": [
        "# | fig-align: center\n",
        "x = np.linspace(-2*np.pi, 2*np.pi, 500)\n",
        "y = np.sin(x) *np.exp(-x**2/20)\n",
        "\n",
        "fig, axes = plt.subplots(2, 1, figsize=(6, 8))\n",
        "\n",
        "axes[0].plot(x, y, lw=2)\n",
        "axes[0].set_title(\"default ticks\")\n",
        "axes[0].tick_params(which='both', direction='in')\n",
        "\n",
        "axes[1].plot(x, y, lw=2)\n",
        "axes[1].set_title(\"set_[x/y]ticks\")\n",
        "axes[1].set_xticks([-5, 0, 5])\n",
        "axes[1].set_yticks([-1, 0, 1])\n",
        "axes[1].tick_params(which='both', direction='in')"
      ],
      "id": "068d4686",
      "execution_count": null,
      "outputs": []
    },
    {
      "cell_type": "code",
      "metadata": {},
      "source": [
        "# | fig-align: center\n",
        "fig, axes = plt.subplots(2, 1, figsize=(6, 8))\n",
        "\n",
        "axes[0].plot(x, y, lw=2)\n",
        "axes[0].set_title(\"set_major/minor_locator\")\n",
        "axes[0].xaxis.set_major_locator(mpl.ticker.MaxNLocator(4))\n",
        "axes[0].xaxis.set_minor_locator(mpl.ticker.MaxNLocator(8))\n",
        "axes[0].yaxis.set_major_locator(mpl.ticker.MaxNLocator(4))\n",
        "axes[0].yaxis.set_minor_locator(mpl.ticker.MaxNLocator(8))\n",
        "axes[0].tick_params(which='both', direction='in')\n",
        "\n",
        "axes[1].plot(x, y, lw=2)\n",
        "axes[1].set_title(\"set_[x/y]ticklabels\")\n",
        "axes[1].set_xticks([-2*np.pi, -np.pi, 0, np.pi, 2*np.pi])\n",
        "axes[1].set_xticklabels(['$-2\\pi$', '$-\\pi$', '$0$', '$\\pi$', '$2\\pi$'])\n",
        "axes[1].xaxis.set_minor_locator(\n",
        "  mpl.ticker.FixedLocator([-3*np.pi/2, -np.pi/2, 0, np.pi/2, 3*np.pi/2]))\n",
        "axes[1].set_yticks([-1, 0, 1])\n",
        "axes[1].yaxis.set_minor_locator(mpl.ticker.MaxNLocator(8))\n",
        "axes[1].tick_params(which='both', direction='in')"
      ],
      "id": "ca243956",
      "execution_count": null,
      "outputs": []
    },
    {
      "cell_type": "code",
      "metadata": {},
      "source": [
        "# | fig-align: center\n",
        "fig, axes = plt.subplots(3, 1, figsize=(6, 12))\n",
        "\n",
        "for ax in axes:\n",
        "  ax.plot(x, y, lw=2)\n",
        "  ax.xaxis.set_major_locator(mpl.ticker.MultipleLocator(4))\n",
        "  ax.xaxis.set_minor_locator(mpl.ticker.MultipleLocator(0.5))\n",
        "  ax.yaxis.set_major_locator(mpl.ticker.MultipleLocator(1))\n",
        "  ax.yaxis.set_minor_locator(mpl.ticker.MultipleLocator(0.25))\n",
        "    \n",
        "axes[0].set_title(\"default grid\")\n",
        "axes[0].grid()\n",
        "\n",
        "axes[1].set_title(\"major/minor grid\")\n",
        "axes[1].grid(color=\"blue\", which=\"both\", ls=':', lw=0.5)\n",
        "\n",
        "axes[2].set_title(\"individual x/y major/minor grid\")\n",
        "axes[2].grid(color=\"gray\", which=\"major\", axis='x', ls='-', lw=0.5)\n",
        "axes[2].grid(color=\"gray\", which=\"minor\", axis='x', ls=':', lw=0.25)\n",
        "axes[2].grid(color=\"gray\", which=\"major\", axis='y', ls='-', lw=0.5)"
      ],
      "id": "feedc9f5",
      "execution_count": null,
      "outputs": []
    },
    {
      "cell_type": "code",
      "metadata": {},
      "source": [
        "# | fig-align: center\n",
        "x = np.linspace(0, 1e5, 100)\n",
        "y = x**2\n",
        "\n",
        "fig, axes = plt.subplots(2, 1, figsize=(6, 8))\n",
        "\n",
        "axes[0].plot(x, y, 'b.')\n",
        "axes[0].set_title(\"default labels\", loc='right')\n",
        "\n",
        "axes[1].plot(x, y, 'b')\n",
        "axes[1].set_title(\"scientific notation labels\", loc='right')\n",
        "\n",
        "formatter = mpl.ticker.ScalarFormatter(useMathText=True)\n",
        "formatter.set_powerlimits((-1, 2))\n",
        "\n",
        "axes[1].xaxis.set_major_formatter(formatter)\n",
        "axes[1].yaxis.set_major_formatter(formatter)"
      ],
      "id": "1e190f64",
      "execution_count": null,
      "outputs": []
    },
    {
      "cell_type": "markdown",
      "metadata": {},
      "source": [
        "### Log lots"
      ],
      "id": "4535b897"
    },
    {
      "cell_type": "code",
      "metadata": {},
      "source": [
        "# | fig-align: center\n",
        "x = np.linspace(0, 1e3, 100)\n",
        "y1, y2 = x**3, x**4\n",
        "\n",
        "fig, axes = plt.subplots(3, 1, figsize=(6, 12))\n",
        "\n",
        "axes[0].set_title('loglog')\n",
        "axes[0].loglog(x, y1, 'b', x, y2, 'r')\n",
        "\n",
        "axes[1].set_title('semilogy')\n",
        "axes[1].semilogy(x, y1, 'b', x, y2, 'r')\n",
        "\n",
        "axes[2].set_title('plot set_[x/y]scale')\n",
        "axes[2].plot(x, y1, 'b', x, y2, 'r')\n",
        "axes[2].set_xscale('log')\n",
        "axes[2].set_yscale('log')"
      ],
      "id": "40b8d8be",
      "execution_count": null,
      "outputs": []
    },
    {
      "cell_type": "markdown",
      "metadata": {},
      "source": [
        "### Twin axes"
      ],
      "id": "6f1351f4"
    },
    {
      "cell_type": "code",
      "metadata": {},
      "source": [
        "radius = np.linspace(0, 5, 100)\n",
        "area = 4 *np.pi *radius**2         # area\n",
        "volume = (4 *np.pi /3) *radius**3  # volume"
      ],
      "id": "2d639771",
      "execution_count": null,
      "outputs": []
    },
    {
      "cell_type": "code",
      "metadata": {},
      "source": [
        "# | fig-align: center\n",
        "ig, ax1 = plt.subplots(figsize=(6, 4))\n",
        "\n",
        "ax1.set_title(\"Surface area and Volume of a sphere\", fontsize=16)\n",
        "ax1.set_xlabel(\"radius, [m]\", fontsize=16)\n",
        "\n",
        "ax1.plot(radius, area, lw=2, color=\"blue\")\n",
        "ax1.set_ylabel(r\"Surface area, [$m^2$]\", fontsize=16, color=\"blue\")\n",
        "ax1.set_xlim(0, 5)\n",
        "ax1.set_ylim(0, 350)\n",
        "\n",
        "for label in ax1.get_yticklabels():\n",
        "  label.set_color(\"blue\")\n",
        "    \n",
        "ax2 = ax1.twinx()\n",
        "ax2.plot(radius, volume, lw=2, color=\"red\")\n",
        "ax2.set_ylabel(r\"Volume, [$m^3$]\", fontsize=16, color=\"red\")\n",
        "ax2.set_ylim(0, 600)\n",
        "for label in ax2.get_yticklabels():\n",
        "  label.set_color(\"red\")"
      ],
      "id": "f4c1a406",
      "execution_count": null,
      "outputs": []
    },
    {
      "cell_type": "markdown",
      "metadata": {},
      "source": [
        "### Spines"
      ],
      "id": "f7491c7e"
    },
    {
      "cell_type": "code",
      "metadata": {},
      "source": [
        "# | fig-align: center\n",
        "x = np.linspace(-10, 10, 500)\n",
        "y = np.sin(x) /x\n",
        "\n",
        "fig, ax = plt.subplots(figsize=(6, 4))\n",
        "\n",
        "ax.plot(x, y, lw=2)\n",
        "\n",
        "ax.set_xticks([-10, -5, 5, 10])\n",
        "ax.set_yticks([0.5, 1])\n",
        "\n",
        "# remove top and right spines\n",
        "ax.spines['top'].set_color('none')\n",
        "ax.spines['right'].set_color('none')\n",
        "\n",
        "# set only bottom and left spine ticks\n",
        "ax.xaxis.set_ticks_position('bottom')\n",
        "ax.yaxis.set_ticks_position('left')\n",
        "\n",
        "# move bottom and left spines to x = 0 and y = 0\n",
        "ax.spines['bottom'].set_position(('data', 0))\n",
        "ax.spines['left'].set_position(('data', 0))"
      ],
      "id": "9191b96a",
      "execution_count": null,
      "outputs": []
    },
    {
      "cell_type": "markdown",
      "metadata": {},
      "source": [
        "## Advanced axes layouts\n",
        "\n",
        "### Insets"
      ],
      "id": "4b9c09e7"
    },
    {
      "cell_type": "code",
      "metadata": {},
      "source": [
        "def f(x):\n",
        "  return 1 /(1 +x**2) +0.1 /(1 +((3 -x) /0.1)**2)\n",
        "\n",
        "def plot_and_format_axes(ax, x, f, fontsize):\n",
        "  ax.plot(x, f(x), lw=2)\n",
        "  ax.xaxis.set_major_locator(mpl.ticker.MaxNLocator(5))\n",
        "  ax.yaxis.set_major_locator(mpl.ticker.MaxNLocator(4))\n",
        "\n",
        "  ax.set_xlabel(\"$x$\", fontsize=fontsize)\n",
        "  ax.set_ylabel(\"$f(x)$\", fontsize=fontsize)\n",
        "\n",
        "  for label in ax.get_xticklabels() +ax.get_yticklabels():\n",
        "    label.set_fontsize(fontsize)\n",
        "\n",
        "  ax.tick_params(which='both', direction='in')"
      ],
      "id": "21c537c4",
      "execution_count": null,
      "outputs": []
    },
    {
      "cell_type": "code",
      "metadata": {},
      "source": [
        "# | fig-align: center\n",
        "x = np.linspace(-4, 14, 1000)    \n",
        "    \n",
        "fig = plt.figure(figsize=(6.5, 4))    \n",
        "\n",
        "# main graph\n",
        "ax = fig.add_axes([0.1, 0.15, 0.8, 0.8], facecolor=\"#f5f5f5\")\n",
        "plot_and_format_axes(ax, x, f, 12)\n",
        "\n",
        "x0, x1 = 2.5, 3.5\n",
        "x = np.linspace(x0, x1, 1000)\n",
        "\n",
        "ax.axvline(x0, ymax=0.3, color=\"gray\", ls=':')\n",
        "ax.axvline(x1, ymax=0.3, color=\"gray\", ls=':')\n",
        "\n",
        "# inset\n",
        "ax1 = fig.add_axes([0.5, 0.5, 0.38, 0.42], facecolor='none') \n",
        "plot_and_format_axes(ax1, x, f, 10)"
      ],
      "id": "158785b9",
      "execution_count": null,
      "outputs": []
    },
    {
      "cell_type": "markdown",
      "metadata": {},
      "source": [
        "### Subplots"
      ],
      "id": "f294b1ff"
    },
    {
      "cell_type": "code",
      "metadata": {},
      "source": [
        "# | fig-align: center\n",
        "x1 = np.random.randn(100)\n",
        "x2 = np.random.randn(100)\n",
        "\n",
        "# squeeze=False, the axes is always a two-dimensional array\n",
        "fig, axes = plt.subplots(2, 2, figsize=(7, 7), \n",
        "                        sharex=True, \n",
        "                        sharey=True, \n",
        "                        squeeze=False) \n",
        "\n",
        "axes[0, 0].set_title(\"Uncorrelated\", fontsize=12)             \n",
        "axes[0, 0].scatter(x1, x2)\n",
        "\n",
        "axes[0, 1].set_title(\"Weakly positively correlated\", fontsize=12)\n",
        "axes[0, 1].scatter(x1, x1 +x2)\n",
        "\n",
        "axes[1, 0].set_title(\"Weakly negatively correlated\", fontsize=12)\n",
        "axes[1, 0].scatter(x1,-x1 +x2)\n",
        "\n",
        "axes[1, 1].set_title(\"Strongly correlated\", fontsize=12)\n",
        "axes[1, 1].scatter(x1, x1 +0.15*x2)\n",
        "\n",
        "axes[1, 1].set_xlabel(\"x\")\n",
        "axes[1, 0].set_xlabel(\"x\")\n",
        "axes[0, 0].set_ylabel(\"y\")\n",
        "axes[1, 0].set_ylabel(\"y\")\n",
        "\n",
        "plt.subplots_adjust(left=0.1, \n",
        "                    right=0.95, \n",
        "                    bottom=0.1, \n",
        "                    top=0.95, \n",
        "                    wspace=0.1, \n",
        "                    hspace=0.2)"
      ],
      "id": "1db730a5",
      "execution_count": null,
      "outputs": []
    },
    {
      "cell_type": "markdown",
      "metadata": {},
      "source": [
        "### Subplot2grid"
      ],
      "id": "cf081b70"
    },
    {
      "cell_type": "code",
      "metadata": {},
      "source": [
        "def plot_and_format_axes(ax, ax_number):\n",
        "  ax.set_xlim(0, 6)\n",
        "  ax.set_ylim(0, 6)    \n",
        "  \n",
        "  ax.xaxis.set_major_locator(mpl.ticker.MaxNLocator(6))\n",
        "  ax.yaxis.set_major_locator(mpl.ticker.MaxNLocator(6))\n",
        "  \n",
        "  ax.tick_params(which='both', direction='in', top=True, right=True)\n",
        "  ax.set_xticklabels([])\n",
        "  ax.set_yticklabels([])\n",
        "  ax.text(3, 3, f'ax{ax_number}', \n",
        "    horizontalalignment='center', \n",
        "    verticalalignment='center')"
      ],
      "id": "eb55b21c",
      "execution_count": null,
      "outputs": []
    },
    {
      "cell_type": "code",
      "metadata": {},
      "source": [
        "# | fig-align: center\n",
        "plt.figure(figsize=(6, 6))\n",
        "\n",
        "ax0 = plt.subplot2grid((3, 3), (0, 0))\n",
        "ax1 = plt.subplot2grid((3, 3), (0, 1))\n",
        "ax2 = plt.subplot2grid((3, 3), (1, 0), colspan=2)\n",
        "ax3 = plt.subplot2grid((3, 3), (2, 0), colspan=3)\n",
        "ax4 = plt.subplot2grid((3, 3), (0, 2), rowspan=2)\n",
        "\n",
        "axes = [ax0, ax1, ax2, ax3, ax4]\n",
        "\n",
        "for i in range(5):\n",
        "  plot_and_format_axes(axes[i], i)"
      ],
      "id": "e8015b6c",
      "execution_count": null,
      "outputs": []
    },
    {
      "cell_type": "markdown",
      "metadata": {},
      "source": [
        "### GridSpec"
      ],
      "id": "bce88987"
    },
    {
      "cell_type": "code",
      "metadata": {},
      "source": [
        "# | fig-align: center\n",
        "fig = plt.figure(figsize=(6, 6))\n",
        "\n",
        "gs = mpl.gridspec.GridSpec(4, 4)\n",
        "\n",
        "ax0, ax1 = fig.add_subplot(gs[0, 0]),  fig.add_subplot(gs[1, 1])\n",
        "ax2, ax3 = fig.add_subplot(gs[2, 2]),  fig.add_subplot(gs[3, 3])\n",
        "ax4, ax5 = fig.add_subplot(gs[0, 1:]), fig.add_subplot(gs[1:, 0])\n",
        "ax6, ax7 = fig.add_subplot(gs[1, 2:]), fig.add_subplot(gs[2:, 1])\n",
        "ax8, ax9 = fig.add_subplot(gs[2, 3]),  fig.add_subplot(gs[3, 2])\n",
        "\n",
        "axes = [ax0, ax1, ax2, ax3, ax4, ax5, ax6, ax7, ax8, ax9]\n",
        "\n",
        "for i in range(10):\n",
        "  plot_and_format_axes(axes[i], i)"
      ],
      "id": "c2f28c81",
      "execution_count": null,
      "outputs": []
    },
    {
      "cell_type": "code",
      "metadata": {},
      "source": [
        "# | fig-align: center\n",
        "fig = plt.figure(figsize=(6, 6))\n",
        "\n",
        "gs = mpl.gridspec.GridSpec(2, 2, \n",
        "                    width_ratios=[4, 1], \n",
        "                    height_ratios=[1, 4],\n",
        "                    wspace=0.05, \n",
        "                    hspace=0.05)\n",
        "\n",
        "ax0 = fig.add_subplot(gs[1, 0])\n",
        "ax1 = fig.add_subplot(gs[0, 0])\n",
        "ax2 = fig.add_subplot(gs[1, 1])\n",
        "\n",
        "axes = [ax0, ax1, ax2]\n",
        "\n",
        "for i in range(3):\n",
        "  plot_and_format_axes(axes[i], i)"
      ],
      "id": "4ca6721d",
      "execution_count": null,
      "outputs": []
    },
    {
      "cell_type": "markdown",
      "metadata": {},
      "source": [
        "## Colormap plots"
      ],
      "id": "010aa3ad"
    },
    {
      "cell_type": "code",
      "metadata": {},
      "source": [
        "x = y = np.linspace(-2, 2, 150)\n",
        "X, Y = np.meshgrid(x, y)\n",
        "\n",
        "R1 = np.sqrt((X +0.5)**2 +(Y +0.5)**2)\n",
        "R2 = np.sqrt((X +0.5)**2 +(Y -0.5)**2)\n",
        "R3 = np.sqrt((X -0.5)**2 +(Y +0.5)**2)\n",
        "R4 = np.sqrt((X -0.5)**2 +(Y -0.5)**2)"
      ],
      "id": "0c020043",
      "execution_count": null,
      "outputs": []
    },
    {
      "cell_type": "code",
      "metadata": {},
      "source": [
        "# | fig-align: center\n",
        "fig, ax = plt.subplots(figsize=(7, 6))\n",
        "\n",
        "Z = np.sin(10 *R1) /(10 *R1) +np.sin(20 *R4) /(20 *R4)\n",
        "Z = Z[:-1, :-1]\n",
        "\n",
        "p = ax.pcolor(X, Y, Z, cmap='seismic', vmin=-abs(Z).max(), vmax=abs(Z).max())\n",
        "\n",
        "ax.axis('tight')\n",
        "\n",
        "ax.set_xlabel('x')\n",
        "ax.set_ylabel('y')\n",
        "ax.set_title('pcolor')\n",
        "\n",
        "ax.xaxis.set_major_locator(mpl.ticker.MaxNLocator(4))\n",
        "ax.yaxis.set_major_locator(mpl.ticker.MaxNLocator(4))\n",
        "\n",
        "cb = fig.colorbar(p, ax=ax)\n",
        "cb.set_label('z')\n",
        "cb.set_ticks([-1, -.5, 0, .5, 1])"
      ],
      "id": "56d4a6bc",
      "execution_count": null,
      "outputs": []
    },
    {
      "cell_type": "code",
      "metadata": {},
      "source": [
        "# | fig-align: center\n",
        "fig, ax = plt.subplots(figsize=(7, 6))\n",
        "\n",
        "Z = 1/R1 -1/R2 -1/R3 +1/R4\n",
        "\n",
        "im = ax.imshow(Z, vmin=-1, vmax=1, cmap=mpl.cm.bwr,\n",
        "               extent=[x.min(), x.max(), y.min(), y.max()])\n",
        "im.set_interpolation('bilinear')\n",
        "\n",
        "ax.axis('tight')\n",
        "\n",
        "ax.set_xlabel('x')\n",
        "ax.set_ylabel('y')\n",
        "ax.set_title('imshow')\n",
        "\n",
        "ax.xaxis.set_major_locator(mpl.ticker.MaxNLocator(4))\n",
        "ax.yaxis.set_major_locator(mpl.ticker.MaxNLocator(4))\n",
        "\n",
        "cb = fig.colorbar(im, ax=ax)\n",
        "cb.set_label('z')\n",
        "cb.set_ticks([-1, -.5, 0, .5, 1])"
      ],
      "id": "3d269f7f",
      "execution_count": null,
      "outputs": []
    },
    {
      "cell_type": "markdown",
      "metadata": {},
      "source": [
        "---"
      ],
      "id": "7de961ff"
    },
    {
      "cell_type": "code",
      "metadata": {},
      "source": [
        "x = y = np.linspace(0, 1, 75)\n",
        "X, Y = np.meshgrid(x, y)\n",
        "Z = (-2 *np.cos(2 *np.pi *X) *np.cos(2 *np.pi *Y) \n",
        "     -0.7 *np.cos(np.pi -4 *np.pi *X))"
      ],
      "id": "17f23dfd",
      "execution_count": null,
      "outputs": []
    },
    {
      "cell_type": "code",
      "metadata": {},
      "source": [
        "# | fig-align: center\n",
        "fig, ax = plt.subplots(figsize=(6, 6))\n",
        "\n",
        "c = ax.contour(X, Y, Z, 15, cmap=mpl.cm.RdBu, vmin=-1, vmax=1)\n",
        "\n",
        "ax.axis('tight')\n",
        "\n",
        "ax.set_xlabel('x')\n",
        "ax.set_ylabel('y')\n",
        "ax.set_title(\"contour\")\n",
        "\n",
        "ax.xaxis.set_major_locator(mpl.ticker.MaxNLocator(4))\n",
        "ax.yaxis.set_major_locator(mpl.ticker.MaxNLocator(4))"
      ],
      "id": "21750e78",
      "execution_count": null,
      "outputs": []
    },
    {
      "cell_type": "code",
      "metadata": {},
      "source": [
        "# | fig-align: center\n",
        "fig, ax = plt.subplots(figsize=(6, 6))\n",
        "\n",
        "c = ax.contourf(X, Y, Z, 15, cmap=mpl.cm.RdBu, vmin=-1, vmax=1)\n",
        "\n",
        "ax.axis('tight')\n",
        "\n",
        "ax.set_xlabel('x')\n",
        "ax.set_ylabel('y')\n",
        "ax.set_title(\"contourf\")\n",
        "\n",
        "ax.xaxis.set_major_locator(mpl.ticker.MaxNLocator(4))\n",
        "ax.yaxis.set_major_locator(mpl.ticker.MaxNLocator(4))\n",
        "\n",
        "fig.tight_layout()"
      ],
      "id": "d4f64b2f",
      "execution_count": null,
      "outputs": []
    },
    {
      "cell_type": "markdown",
      "metadata": {},
      "source": [
        "---"
      ],
      "id": "463afa0b"
    },
    {
      "cell_type": "code",
      "metadata": {},
      "source": [
        "x = y = np.linspace(-10, 10, 150)\n",
        "\n",
        "X, Y = np.meshgrid(x, y)\n",
        "Z = np.cos(X) *np.cos(Y) *np.exp(-(X/5)**2 -(Y/5)**2)\n",
        "P = Z[:-1, :-1]\n",
        "\n",
        "norm = mpl.colors.Normalize(-abs(Z).max(), abs(Z).max())\n",
        "\n",
        "def plot_and_format_axes(fig, ax, p):\n",
        "  ax.axis('tight')\n",
        "  ax.set_xlabel(r\"$x$\", fontsize=12)\n",
        "  ax.set_ylabel(r\"$y$\", fontsize=12)\n",
        "\n",
        "  ax.xaxis.set_major_locator(mpl.ticker.MaxNLocator(4))\n",
        "  ax.yaxis.set_major_locator(mpl.ticker.MaxNLocator(4))\n",
        "    \n",
        "  ax.tick_params(which='both', direction='in', top=True, right=True)\n",
        "\n",
        "  cb0 = fig.colorbar(p, ax=ax)\n",
        "  cb0.set_label(r\"$z$\", fontsize=14)\n",
        "  cb0.set_ticks([-1, -0.5, 0, 0.5, 1])"
      ],
      "id": "cc94088f",
      "execution_count": null,
      "outputs": []
    },
    {
      "cell_type": "code",
      "metadata": {},
      "source": [
        "# | fig-align: center\n",
        "fig, axes = plt.subplots(2, 1, figsize=(7, 12))\n",
        "\n",
        "p = axes[0].pcolor(X, Y, P, norm=norm, cmap=mpl.cm.bwr)\n",
        "plot_and_format_axes(fig, axes[0], p)\n",
        "\n",
        "axes[1].contour(X, Y, Z, np.linspace(-1.0, 1.0, 20), norm=norm, cmap=mpl.cm.bwr)\n",
        "plot_and_format_axes(fig, axes[1], p)\n",
        "\n",
        "plt.subplots_adjust(hspace=0.15)"
      ],
      "id": "f8c5862c",
      "execution_count": null,
      "outputs": []
    },
    {
      "cell_type": "markdown",
      "metadata": {},
      "source": [
        "---"
      ],
      "id": "d4a59ffe"
    },
    {
      "cell_type": "code",
      "metadata": {},
      "source": [
        "# | fig-align: center\n",
        "X, Y = np.meshgrid(np.linspace(-2, 2, 100), np.linspace(-2, 2, 100))\n",
        "\n",
        "# A low hump with a spike coming out\n",
        "# needs to have z/colour axis on a log scale so we see both hump and spike\n",
        "\n",
        "Z1 = np.exp(-X**2 -Y**2)\n",
        "Z2 = np.exp(-(10 *X)**2 -(10 *Y)**2)\n",
        "Z = Z1 +50 *Z2\n",
        "\n",
        "fig, axes = plt.subplots(2, 1, figsize=(7, 12))\n",
        "\n",
        "c = axes[0].pcolor(X, Y, Z, \n",
        "      norm=mpl.colors.LogNorm(vmin=Z.min(), vmax=Z.max()), cmap='PuBu_r')\n",
        "fig.colorbar(c, ax=axes[0])\n",
        "\n",
        "# linear scale only shows the spike\n",
        "c = axes[1].pcolor(X, Y, Z, cmap='PuBu_r') \n",
        "fig.colorbar(c, ax=axes[1])\n",
        "\n",
        "plt.subplots_adjust(hspace=0.1)"
      ],
      "id": "ff97b335",
      "execution_count": null,
      "outputs": []
    },
    {
      "cell_type": "markdown",
      "metadata": {},
      "source": [
        "* `Matplotlib` has a number of built-in colormaps accessible via [`matplotlib.colormaps`](https://matplotlib.org/stable/users/explain/colors/colormaps.html). To get a list of all registered colormaps, you can do:\n",
        "\n",
        "  ```python\n",
        "     from matplotlib import colormaps\n",
        "     list(colormaps)\n",
        "  ```\n",
        "\n",
        "## 3D plots\n",
        "\n",
        "* In `matplotlib`, $\\,$drawing 3D graphs requires using a different axes object, namely the `Axes3D` object that is available from the `mpl_toolkits.mplot3d.axes3d` module. $\\,$We can create a 3D-ware axes instance explicitly using the constructor of the `Axes3D` class, $\\,$by passing a `Figure` instance as argument: \n",
        "\n",
        "  ```python\n",
        "     ax = Axes3D(fig)\n",
        "  ```\n",
        "\n",
        "* Alternatively, $\\,$we can use the `add_subplot` function with the `projection='3d'` argument:\n",
        "\n",
        "  ```python\n",
        "     ax = fig.add_subplot(1, 1, 1, projection='3d')\n",
        "   ```\n",
        "\n",
        "* or use `plt.subplots` with the `subplot_kw={'projection':'3d'}` argument:\n",
        "\n",
        "  ```python\n",
        "     fig, ax = plt.subplots(1, 1, \n",
        "                   figsize=(6, 6), subplot_kw={'projection':'3d'})\n",
        "  ```"
      ],
      "id": "5ad00cff"
    },
    {
      "cell_type": "code",
      "metadata": {},
      "source": [
        "from mpl_toolkits.mplot3d.axes3d import Axes3D\n",
        "\n",
        "x = y = np.linspace(-3, 3, 74)\n",
        "X, Y = np.meshgrid(x, y)\n",
        "R = np.sqrt(X**2 +Y**2)\n",
        "Z = np.sin(4 *R) /R\n",
        "\n",
        "norm = mpl.colors.Normalize(-abs(Z).max(), abs(Z).max())\n",
        "\n",
        "def title_and_labels(ax, title):\n",
        "  ax.set_title(title)\n",
        "  \n",
        "  ax.set_xlabel(\"$x$\", labelpad=0.05, fontsize=12)\n",
        "  ax.set_ylabel(\"$y$\", labelpad=0.05, fontsize=12)\n",
        "  ax.set_zlabel(\"$z$\", labelpad=0.05, fontsize=12)\n",
        "  ax.set_box_aspect(None, zoom=0.85)\n",
        "  ax.tick_params(axis='both', pad=0.01)  "
      ],
      "id": "4e8bffed",
      "execution_count": null,
      "outputs": []
    },
    {
      "cell_type": "code",
      "metadata": {},
      "source": [
        "# | fig-align: center\n",
        "fig, axes = plt.subplots(3, 1, figsize=(6, 16), subplot_kw={'projection': '3d'})\n",
        "\n",
        "p = axes[0].plot_surface(X, Y, Z, rstride=1, cstride=1, lw=0, \n",
        "                  antialiased=False, norm=norm, cmap=mpl.cm.Blues)\n",
        "title_and_labels(axes[0], \"plot_surface\") \n",
        "\n",
        "axes[1].plot_wireframe(X, Y, Z, rstride=3, cstride=3, color=\"darkgrey\")\n",
        "title_and_labels(axes[1], \"plot_wireframe\")\n",
        "\n",
        "axes[2].contour(X, Y, Z, zdir='z', offset=0, norm=norm, cmap=mpl.cm.Blues)\n",
        "axes[2].contour(X, Y, Z, zdir='y', offset=3, norm=norm, cmap=mpl.cm.Blues)\n",
        "title_and_labels(axes[2], \"contour\") \n",
        "\n",
        "plt.subplots_adjust(left=0.05, right=0.95, bottom=0.1, top=0.95, hspace=0.1) "
      ],
      "id": "849cc881",
      "execution_count": null,
      "outputs": []
    },
    {
      "cell_type": "code",
      "metadata": {},
      "source": [
        "# | fig-align: center\n",
        "fig, axes = plt.subplots(3, 1, figsize=(6, 16), subplot_kw={'projection': '3d'})\n",
        "\n",
        "r = np.linspace(0, 10, 100)\n",
        "\n",
        "p = axes[0].plot(np.cos(r), np.sin(r), 6 -r)\n",
        "title_and_labels(axes[0], \"plot\")\n",
        "\n",
        "p = axes[1].scatter(np.cos(r), np.sin(r), 6 -r)\n",
        "title_and_labels(axes[1], \"scatter\")\n",
        "\n",
        "r = np.linspace(0, 6, 30)\n",
        "\n",
        "p = axes[2].bar3d(np.cos(r), np.sin(r), np.zeros_like(r), \n",
        "                  0.05*np.ones_like(r), 0.05*np.ones_like(r), 6 -r)\n",
        "title_and_labels(axes[2], \"bar3d\")\n",
        "\n",
        "plt.subplots_adjust(left=0.05, right=0.95, bottom=0.1, top=0.95, hspace=0.1)"
      ],
      "id": "5569cccd",
      "execution_count": null,
      "outputs": []
    },
    {
      "cell_type": "markdown",
      "metadata": {},
      "source": [
        "## [CheatSheets and Handouts](https://matplotlib.org/cheatsheets)"
      ],
      "id": "560857b5"
    }
  ],
  "metadata": {
    "kernelspec": {
      "name": "python3",
      "language": "python",
      "display_name": "Python 3 (ipykernel)",
      "path": "/opt/miniconda3/share/jupyter/kernels/python3"
    }
  },
  "nbformat": 4,
  "nbformat_minor": 5
}