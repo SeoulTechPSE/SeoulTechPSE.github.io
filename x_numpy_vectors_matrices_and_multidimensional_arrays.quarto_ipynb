{
  "cells": [
    {
      "cell_type": "markdown",
      "metadata": {},
      "source": [
        "---\n",
        "jupyter: python3\n",
        "---\n",
        "\n",
        "# Numpy: Vectors, Matrices, and Multidimensional Arrays {#sec-numpy}\n",
        "\n",
        "$~$\n",
        "\n",
        "[![](./figures/numpy_logo.png){width=\"30%\" fig-align=\"center\"}](https://numpy.org/doc/stable/)\n",
        "\n",
        "$~$\n",
        "\n",
        "## Importing numpy"
      ],
      "id": "fd052387"
    },
    {
      "cell_type": "code",
      "metadata": {},
      "source": [
        "import numpy as np\n",
        "\n",
        "print(\"numpy: \", np.__version__)"
      ],
      "id": "43a5f8b5",
      "execution_count": null,
      "outputs": []
    },
    {
      "cell_type": "markdown",
      "metadata": {},
      "source": [
        "* [_show_array.py](_show_array.py)\n",
        "* `show_array()`\n",
        "* `show_array_aggregation()`"
      ],
      "id": "e25d5883"
    },
    {
      "cell_type": "code",
      "metadata": {},
      "source": [
        "#| echo: false\n",
        "import numpy as np\n",
        "\n",
        "import matplotlib as mpl\n",
        "import matplotlib.pyplot as plt\n",
        "\n",
        "def show_array(shape, sel, filename=None):\n",
        "    \"\"\"\n",
        "    Visualize indexing of arrays\n",
        "    \"\"\"\n",
        "    \n",
        "    data = np.zeros(shape)\n",
        "    exec(f'data[{sel}] = 1')\n",
        "    \n",
        "    fig, ax = plt.subplots(1, 1, figsize=shape)\n",
        "    ax.set_frame_on(False)\n",
        "\n",
        "    ax.patch.set_facecolor('white')\n",
        "    ax.xaxis.set_major_locator(plt.NullLocator())\n",
        "    ax.yaxis.set_major_locator(plt.NullLocator())\n",
        "    \n",
        "    size = 0.96\n",
        "    for (m, n), w in np.ndenumerate(data):\n",
        "        color = '#1199ff' if w > 0 else '#eeeeee'\n",
        "        rect = plt.Rectangle([n -size/2, m -size/2], \n",
        "                             size, size, \n",
        "                             facecolor=color,\n",
        "                             edgecolor=color)\n",
        "        ax.add_patch(rect)\n",
        "        ax.text(n, m, f'({m}, {n})', ha='center',\n",
        "                                     va='center',\n",
        "                                     fontsize=12)\n",
        "    ax.autoscale_view()\n",
        "    ax.invert_yaxis()\n",
        "    \n",
        "    if sel ==':, :':\n",
        "        ax.set_title('data\\n', fontsize=12)\n",
        "    else:\n",
        "        ax.set_title(f'data[{sel}]\\n', fontsize=12)\n",
        "        \n",
        "    if filename:\n",
        "        fig.savefig(filename + \".png\", dpi=200)\n",
        "        fig.savefig(filename + \".svg\")\n",
        "        fig.savefig(filename + \".pdf\")\n",
        "\n",
        "\n",
        "def show_array_broadcasting(a, b, filename=None):\n",
        "    \"\"\"\n",
        "    Visualize broadcasting of arrays\n",
        "    \"\"\"\n",
        " \n",
        "    colors = ['#1199ff', '#eeeeee']\n",
        "    \n",
        "    fig, axes = plt.subplots(1, 3, figsize=(8, 2.7))\n",
        "\n",
        "    # -- a --\n",
        "    data = a\n",
        "    \n",
        "    ax = axes[0]\n",
        "    ax.set_frame_on(False)    \n",
        "    ax.patch.set_facecolor('white')\n",
        "    ax.xaxis.set_major_locator(plt.NullLocator())\n",
        "    ax.yaxis.set_major_locator(plt.NullLocator())\n",
        "\n",
        "    size = 0.96\n",
        "    color = colors[0]\n",
        "    for (m, n), w in np.ndenumerate(data):\n",
        "\n",
        "        rect = plt.Rectangle([n -size/2, m -size/2],\n",
        "                             size, size,\n",
        "                             facecolor=color,\n",
        "                             edgecolor=color)\n",
        "        ax.add_patch(rect)\n",
        "        ax.text(n, m, f'{data[m, n]}', ha='center', va='center', fontsize=14)        \n",
        "\n",
        "    ax.text(3, 1, \"+\", ha='center', va='center', fontsize=22)        \n",
        "    ax.autoscale_view()\n",
        "    ax.invert_yaxis()\n",
        "\n",
        "    # -- b --\n",
        "    data = np.zeros_like(a) + b\n",
        "\n",
        "    ax = axes[1]\n",
        "    ax.set_frame_on(False)     \n",
        "    ax.patch.set_facecolor('white')\n",
        "    ax.xaxis.set_major_locator(plt.NullLocator())\n",
        "    ax.yaxis.set_major_locator(plt.NullLocator())\n",
        "    \n",
        "    size = 0.96\n",
        "    for (m, n), w in np.ndenumerate(data):\n",
        "        \n",
        "        if (np.argmax(b.T.shape) == 0 and m == 0) or (np.argmax(b.T.shape) == 1 and n == 0):\n",
        "            color = colors[0]\n",
        "        else:\n",
        "            color = colors[1]\n",
        "            \n",
        "        rect = plt.Rectangle([n -size/2, m -size/2],\n",
        "                             size, size,\n",
        "                             facecolor=color,\n",
        "                             edgecolor=color)\n",
        "        ax.add_patch(rect)\n",
        "\n",
        "        ax.text(m, n, f'{data[n, m]}', ha='center', va='center', fontsize=14)        \n",
        "\n",
        "    ax.text(3, 1, \"=\", ha='center', va='center', fontsize=22)        \n",
        "    ax.autoscale_view()\n",
        "    ax.invert_yaxis()\n",
        "\n",
        "    # -- c --\n",
        "    data = a + b\n",
        "    \n",
        "    ax = axes[2]\n",
        "    ax.set_frame_on(False) \n",
        "    ax.patch.set_facecolor('white')\n",
        "    ax.xaxis.set_major_locator(plt.NullLocator())\n",
        "    ax.yaxis.set_major_locator(plt.NullLocator())\n",
        "  \n",
        "    size = 0.96\n",
        "    color = colors[0]\n",
        "    for (m, n), w in np.ndenumerate(data):\n",
        "\n",
        "        rect = plt.Rectangle([n -size/2, m -size/2],\n",
        "                             size, size,\n",
        "                             facecolor=color,\n",
        "                             edgecolor=color)\n",
        "        ax.add_patch(rect)\n",
        "        \n",
        "        ax.text(m, n, f'{data[n, m]}', ha='center', va='center', fontsize=14)        \n",
        "\n",
        "    ax.autoscale_view()\n",
        "    ax.invert_yaxis()\n",
        "    \n",
        "    #fig.tight_layout()\n",
        "        \n",
        "    if filename:\n",
        "        fig.savefig(filename + \".png\", dpi=200)\n",
        "        fig.savefig(filename + \".svg\")\n",
        "        fig.savefig(filename + \".pdf\")        \n",
        "\n",
        "\n",
        "\n",
        "def show_array_aggregation(data, axis, filename=None):\n",
        "    \"\"\"\n",
        "    Visualize aggregation of arrays\n",
        "    \"\"\"\n",
        "\n",
        "    colors = ['#1199ff', '#ee3311', '#66ff22']\n",
        "    \n",
        "    fig, axes = plt.subplots(2, 1, figsize=(3, 6))\n",
        "    \n",
        "    # -- data --\n",
        "    ax = axes[0]\n",
        "    ax.set_frame_on(False)\n",
        "    ax.patch.set_facecolor('white')\n",
        "    ax.xaxis.set_major_locator(plt.NullLocator())\n",
        "    ax.yaxis.set_major_locator(plt.NullLocator())\n",
        "       \n",
        "    size = 0.96\n",
        "    for (m, n), w in np.ndenumerate(data):\n",
        "\n",
        "        if axis is None:\n",
        "            color = colors[0]\n",
        "        elif axis == 1:\n",
        "            color = colors[m]\n",
        "        else:\n",
        "            color = colors[n]\n",
        "            \n",
        "        rect = plt.Rectangle([n -size/2, m -size/2],\n",
        "                             size, size,\n",
        "                             facecolor=color,\n",
        "                             edgecolor=color)\n",
        "        ax.add_patch(rect)\n",
        "\n",
        "        ax.text(n, m, f'{data[m, n]}', ha='center', va='center', fontsize=14)\n",
        "        \n",
        "    ax.autoscale_view()\n",
        "    ax.invert_yaxis()\n",
        "    ax.set_title(\"data\", fontsize=12)\n",
        "\n",
        "    # -- data aggregation -- \n",
        "    \n",
        "    if axis is None:\n",
        "        adata = np.atleast_2d(data.sum())\n",
        "    elif axis == 0:\n",
        "        adata = data.sum(axis=axis)[:, np.newaxis]\n",
        "    else:\n",
        "        adata = data.sum(axis=axis)[:, np.newaxis]     \n",
        "   \n",
        "    ax = axes[1]\n",
        "    ax.set_frame_on(False)\n",
        "    ax.patch.set_facecolor('white')\n",
        "    ax.xaxis.set_major_locator(plt.NullLocator())\n",
        "    ax.yaxis.set_major_locator(plt.NullLocator())\n",
        "    \n",
        "    size = 1.0\n",
        "    for (m, n), w in np.ndenumerate(data):\n",
        "        color = 'white'\n",
        "        rect = plt.Rectangle([n -size/2, m -size/2],\n",
        "                         size, size,\n",
        "                         facecolor=color,\n",
        "                         edgecolor=color)\n",
        "        ax.add_patch(rect)        \n",
        "    \n",
        "    size = 0.96\n",
        "    for (m, n), w in np.ndenumerate(adata):\n",
        "\n",
        "        if axis is None:\n",
        "            color = colors[0] \n",
        "            rect = plt.Rectangle([1 +m -size/2, n -size/2],\n",
        "                         size, size,\n",
        "                         facecolor=color,\n",
        "                         edgecolor=color)\n",
        "            ax.add_patch(rect)\n",
        "            \n",
        "            ax.text(1 +m, n, f'{adata[m, n]}', ha='center', va='center', fontsize=14)\n",
        "            \n",
        "        if axis == 0:\n",
        "            color = colors[m]\n",
        "            rect = plt.Rectangle([m -size/2, n -size/2],\n",
        "                                 size, size,\n",
        "                                 facecolor=color,\n",
        "                                 edgecolor=color)\n",
        "            ax.add_patch(rect)\n",
        "     \n",
        "            ax.text(m, n, f'{adata[m, n]}', ha='center', va='center', fontsize=14)\n",
        "        \n",
        "        if axis == 1:\n",
        "            color = colors[m]\n",
        "            rect = plt.Rectangle([1 +n -size/2, m -size/2],\n",
        "                                 size, size,\n",
        "                                 facecolor=color,\n",
        "                                 edgecolor=color)\n",
        "            ax.add_patch(rect)\n",
        "     \n",
        "            ax.text(1 +n, m, f'{adata[m, n]}', ha='center', va='center', fontsize=14)        \n",
        "\n",
        "    ax.autoscale_view()\n",
        "    ax.invert_yaxis()\n",
        "    \n",
        "    if axis is not None:\n",
        "        ax.set_title(f'data.sum(axis={axis})', fontsize=12)\n",
        "    else:\n",
        "        ax.set_title('data.sum()', fontsize=12)\n",
        "    \n",
        "    #fig.tight_layout()\n",
        "    \n",
        "    if filename:\n",
        "        fig.savefig(filename + \".png\", dpi=200)\n",
        "        fig.savefig(filename + \".svg\")\n",
        "        fig.savefig(filename + \".pdf\")"
      ],
      "id": "b896f43a",
      "execution_count": null,
      "outputs": []
    },
    {
      "cell_type": "markdown",
      "metadata": {},
      "source": [
        "## The Numpy array object"
      ],
      "id": "3eee5dc9"
    },
    {
      "cell_type": "code",
      "metadata": {},
      "source": [
        "data = np.array([[1, 2], [3, 4], [5, 6]])\n",
        "data"
      ],
      "id": "639fcd7f",
      "execution_count": null,
      "outputs": []
    },
    {
      "cell_type": "code",
      "metadata": {},
      "source": [
        "type(data)"
      ],
      "id": "803d31fa",
      "execution_count": null,
      "outputs": []
    },
    {
      "cell_type": "code",
      "metadata": {},
      "source": [
        "data.ndim"
      ],
      "id": "5c55eb1a",
      "execution_count": null,
      "outputs": []
    },
    {
      "cell_type": "code",
      "metadata": {},
      "source": [
        "data.shape"
      ],
      "id": "5e2c1a71",
      "execution_count": null,
      "outputs": []
    },
    {
      "cell_type": "code",
      "metadata": {},
      "source": [
        "data.size"
      ],
      "id": "6378f452",
      "execution_count": null,
      "outputs": []
    },
    {
      "cell_type": "code",
      "metadata": {},
      "source": [
        "data.dtype"
      ],
      "id": "2a33a49a",
      "execution_count": null,
      "outputs": []
    },
    {
      "cell_type": "code",
      "metadata": {},
      "source": [
        "data.nbytes"
      ],
      "id": "bb8950c0",
      "execution_count": null,
      "outputs": []
    },
    {
      "cell_type": "markdown",
      "metadata": {},
      "source": [
        "## Data types"
      ],
      "id": "21d87b5b"
    },
    {
      "cell_type": "code",
      "metadata": {},
      "source": [
        "d0 = np.array([1, 2, 3], dtype=int)\n",
        "d0"
      ],
      "id": "ee0a8f01",
      "execution_count": null,
      "outputs": []
    },
    {
      "cell_type": "code",
      "metadata": {},
      "source": [
        "d1 = np.array([1, 2, 3], dtype=float)\n",
        "d1"
      ],
      "id": "62c3993d",
      "execution_count": null,
      "outputs": []
    },
    {
      "cell_type": "code",
      "metadata": {},
      "source": [
        "d2 = np.array([1, 2, 3], dtype=complex)\n",
        "d2"
      ],
      "id": "460f575c",
      "execution_count": null,
      "outputs": []
    },
    {
      "cell_type": "markdown",
      "metadata": {},
      "source": [
        "### Type casting"
      ],
      "id": "b7692589"
    },
    {
      "cell_type": "code",
      "metadata": {},
      "source": [
        "data = np.array([1, 2, 3], dtype=float)\n",
        "data"
      ],
      "id": "37d6d795",
      "execution_count": null,
      "outputs": []
    },
    {
      "cell_type": "code",
      "metadata": {},
      "source": [
        "data = np.array(data, dtype=int)\n",
        "data"
      ],
      "id": "065b1b93",
      "execution_count": null,
      "outputs": []
    },
    {
      "cell_type": "code",
      "metadata": {},
      "source": [
        "data = np.array([1.6, 2, 3], dtype=float)\n",
        "data.astype(int)"
      ],
      "id": "e8b50f7d",
      "execution_count": null,
      "outputs": []
    },
    {
      "cell_type": "markdown",
      "metadata": {},
      "source": [
        "### Type promotion"
      ],
      "id": "aa3678ee"
    },
    {
      "cell_type": "code",
      "metadata": {},
      "source": [
        "d1 = np.array([1, 2, 3], dtype=float)\n",
        "d2 = np.array([1, 2, 3], dtype=complex)"
      ],
      "id": "9d89603d",
      "execution_count": null,
      "outputs": []
    },
    {
      "cell_type": "code",
      "metadata": {},
      "source": [
        "d1 + d2"
      ],
      "id": "4ab18b72",
      "execution_count": null,
      "outputs": []
    },
    {
      "cell_type": "code",
      "metadata": {},
      "source": [
        "(d1 + d2).dtype"
      ],
      "id": "0b94d700",
      "execution_count": null,
      "outputs": []
    },
    {
      "cell_type": "markdown",
      "metadata": {},
      "source": [
        "### Type-depending operation"
      ],
      "id": "3dbcee05"
    },
    {
      "cell_type": "code",
      "metadata": {},
      "source": [
        "np.sqrt(np.array([-1, 0, 1]))"
      ],
      "id": "d06bec54",
      "execution_count": null,
      "outputs": []
    },
    {
      "cell_type": "code",
      "metadata": {},
      "source": [
        "np.sqrt(np.array([-1, 0, 1], dtype=complex))"
      ],
      "id": "06634244",
      "execution_count": null,
      "outputs": []
    },
    {
      "cell_type": "markdown",
      "metadata": {},
      "source": [
        "### Real and imaginary parts"
      ],
      "id": "2d85587d"
    },
    {
      "cell_type": "code",
      "metadata": {},
      "source": [
        "data = np.array([1, 2, 3], dtype=complex)\n",
        "data"
      ],
      "id": "7ddb8767",
      "execution_count": null,
      "outputs": []
    },
    {
      "cell_type": "code",
      "metadata": {},
      "source": [
        "data.real"
      ],
      "id": "8df13af2",
      "execution_count": null,
      "outputs": []
    },
    {
      "cell_type": "code",
      "metadata": {},
      "source": [
        "data.imag"
      ],
      "id": "fcd5ffc7",
      "execution_count": null,
      "outputs": []
    },
    {
      "cell_type": "code",
      "metadata": {},
      "source": [
        "np.real(data)"
      ],
      "id": "490d0db7",
      "execution_count": null,
      "outputs": []
    },
    {
      "cell_type": "code",
      "metadata": {},
      "source": [
        "np.imag(data)"
      ],
      "id": "a6f39387",
      "execution_count": null,
      "outputs": []
    },
    {
      "cell_type": "markdown",
      "metadata": {},
      "source": [
        "### Order of array data in memory\n",
        "\n",
        "* <font color=\"red\">Multidimensional arrays are stored as contiguous data in memory</font>. $~$Consider the case of a two-dimensional array, $~$containing rows and columns: $~$One possible way to store this array as a consecutive sequence of values is to store the rows after each other, and another equally valid approach is to store the columns one after another\n",
        "\n",
        "* The former is called <font color=\"green\">row-major format</font> and the latter is <font color=\"green\">column-major format</font>. Whether to use row-major or column-major is a matter of conventions, and the **row-major format** is used for example in the **C** programming language, and **Fortran** uses the **column-major format**\n",
        "\n",
        "* A `numpy` array can be specified to be stored in row-major format, using the keyword argument `order='C'`, and column-major format, using the keyword argument `order='F'`, when the array is created or reshaped. <font color=\"blue\">The default format is *row-major*</font> \n",
        "\n",
        "* In general, the `numpy` array attribute `ndarray.strides` defines exactly how this mapping is done. The `strides` attribute is a tuple of the same length as the number of axes (dimensions) of the array. Each value in `strides` is the factor by which the index for the corresponding axis is multiplied when calculating the *memory offset (in bytes)* for a given index expression\n"
      ],
      "id": "5505aa67"
    },
    {
      "cell_type": "code",
      "metadata": {},
      "source": [
        "data = np.array([[1, 2, 3], [4, 5, 6]], dtype=np.int32)\n",
        "data"
      ],
      "id": "3f6fe5b4",
      "execution_count": null,
      "outputs": []
    },
    {
      "cell_type": "code",
      "metadata": {},
      "source": [
        "data.strides"
      ],
      "id": "eada5be7",
      "execution_count": null,
      "outputs": []
    },
    {
      "cell_type": "code",
      "metadata": {},
      "source": [
        "data = np.array([[1, 2, 3], [4, 5, 6]], dtype=np.int32, order='F')\n",
        "data"
      ],
      "id": "dac5dc0a",
      "execution_count": null,
      "outputs": []
    },
    {
      "cell_type": "code",
      "metadata": {},
      "source": [
        "data.strides"
      ],
      "id": "abad2421",
      "execution_count": null,
      "outputs": []
    },
    {
      "cell_type": "markdown",
      "metadata": {},
      "source": [
        "## Creating arrays\n",
        "\n",
        "### Arrays created from lists and other array-like objects"
      ],
      "id": "afc98e75"
    },
    {
      "cell_type": "code",
      "metadata": {},
      "source": [
        "data = np.array([1, 2, 3, 4])\n",
        "data.ndim, data.shape"
      ],
      "id": "7e1201b3",
      "execution_count": null,
      "outputs": []
    },
    {
      "cell_type": "code",
      "metadata": {},
      "source": [
        "data = np.array(((1, 2), (3, 4)))\n",
        "data.ndim, data.shape"
      ],
      "id": "fa697ba2",
      "execution_count": null,
      "outputs": []
    },
    {
      "cell_type": "markdown",
      "metadata": {},
      "source": [
        "### Arrays filled with constant values"
      ],
      "id": "015a6741"
    },
    {
      "cell_type": "code",
      "metadata": {},
      "source": [
        "np.zeros((2, 3))"
      ],
      "id": "5b038aeb",
      "execution_count": null,
      "outputs": []
    },
    {
      "cell_type": "code",
      "metadata": {},
      "source": [
        "data = np.ones(4)\n",
        "data, data.dtype"
      ],
      "id": "68cdd6c3",
      "execution_count": null,
      "outputs": []
    },
    {
      "cell_type": "code",
      "metadata": {},
      "source": [
        "5.4 * np.ones(10)"
      ],
      "id": "4d734e45",
      "execution_count": null,
      "outputs": []
    },
    {
      "cell_type": "code",
      "metadata": {},
      "source": [
        "np.full(10, 5.4) # slightly more efficient"
      ],
      "id": "f3cf9dce",
      "execution_count": null,
      "outputs": []
    },
    {
      "cell_type": "code",
      "metadata": {},
      "source": [
        "x1 = np.empty(5)\n",
        "x1.fill(3.0)\n",
        "x1"
      ],
      "id": "161dfa3a",
      "execution_count": null,
      "outputs": []
    },
    {
      "cell_type": "markdown",
      "metadata": {},
      "source": [
        "### Arrays filled with incremental sequences"
      ],
      "id": "b96c247c"
    },
    {
      "cell_type": "code",
      "metadata": {},
      "source": [
        "np.arange(0, 11, 1)"
      ],
      "id": "c44fecc1",
      "execution_count": null,
      "outputs": []
    },
    {
      "cell_type": "code",
      "metadata": {},
      "source": [
        "np.linspace(0, 10, 11)  # generally recommended"
      ],
      "id": "299e2251",
      "execution_count": null,
      "outputs": []
    },
    {
      "cell_type": "markdown",
      "metadata": {},
      "source": [
        "### Arrays filled with logarithmic sequences"
      ],
      "id": "8cc5c39b"
    },
    {
      "cell_type": "code",
      "metadata": {},
      "source": [
        "np.logspace(0, 2, 10)  # 5 data points between 10**0=1 to 10**2=100"
      ],
      "id": "15066621",
      "execution_count": null,
      "outputs": []
    },
    {
      "cell_type": "markdown",
      "metadata": {},
      "source": [
        "### Mesh grid arrays"
      ],
      "id": "9e073ac4"
    },
    {
      "cell_type": "code",
      "metadata": {},
      "source": [
        "x = np.array([-1, 0, 1])\n",
        "y = np.array([-2, 0, 2])\n",
        "\n",
        "X, Y = np.meshgrid(x, y)"
      ],
      "id": "4fd5c357",
      "execution_count": null,
      "outputs": []
    },
    {
      "cell_type": "code",
      "metadata": {},
      "source": [
        "X"
      ],
      "id": "81a6156b",
      "execution_count": null,
      "outputs": []
    },
    {
      "cell_type": "code",
      "metadata": {},
      "source": [
        "Y"
      ],
      "id": "48a8f4fa",
      "execution_count": null,
      "outputs": []
    },
    {
      "cell_type": "code",
      "metadata": {},
      "source": [
        "Z = (X + Y)**2\n",
        "Z"
      ],
      "id": "2d8555f0",
      "execution_count": null,
      "outputs": []
    },
    {
      "cell_type": "markdown",
      "metadata": {},
      "source": [
        "### Creating uninitialized arrays"
      ],
      "id": "053ed0f5"
    },
    {
      "cell_type": "code",
      "metadata": {},
      "source": [
        "np.empty(3, dtype=float)"
      ],
      "id": "6f4247b4",
      "execution_count": null,
      "outputs": []
    },
    {
      "cell_type": "markdown",
      "metadata": {},
      "source": [
        "### Creating arrays with properties of other arrays"
      ],
      "id": "3f0611a5"
    },
    {
      "cell_type": "code",
      "metadata": {},
      "source": [
        "def f(x):    \n",
        "    y = np.ones_like(x)    # compute with x and y    \n",
        "    return y\n",
        "\n",
        "x = np.array([[1, 2, 3], [4, 5, 6]])\n",
        "y = f(x)\n",
        "y"
      ],
      "id": "fa8757b8",
      "execution_count": null,
      "outputs": []
    },
    {
      "cell_type": "markdown",
      "metadata": {},
      "source": [
        "### Creating matrix arrays"
      ],
      "id": "80329089"
    },
    {
      "cell_type": "code",
      "metadata": {},
      "source": [
        "np.identity(4)"
      ],
      "id": "ffe70993",
      "execution_count": null,
      "outputs": []
    },
    {
      "cell_type": "code",
      "metadata": {},
      "source": [
        "np.eye(4, k=1)"
      ],
      "id": "71593039",
      "execution_count": null,
      "outputs": []
    },
    {
      "cell_type": "code",
      "metadata": {},
      "source": [
        "np.eye(4, k=-1)"
      ],
      "id": "22b789ea",
      "execution_count": null,
      "outputs": []
    },
    {
      "cell_type": "code",
      "metadata": {},
      "source": [
        "np.diag(np.arange(0, 20, 5))"
      ],
      "id": "aef1911a",
      "execution_count": null,
      "outputs": []
    },
    {
      "cell_type": "markdown",
      "metadata": {},
      "source": [
        "## Indexing and slicing\n",
        "\n",
        "### One-dimensional arrays"
      ],
      "id": "7799863a"
    },
    {
      "cell_type": "code",
      "metadata": {},
      "source": [
        "a = np.arange(0, 11)\n",
        "a"
      ],
      "id": "e540c7db",
      "execution_count": null,
      "outputs": []
    },
    {
      "cell_type": "code",
      "metadata": {},
      "source": [
        "a[0]"
      ],
      "id": "5fb2b293",
      "execution_count": null,
      "outputs": []
    },
    {
      "cell_type": "code",
      "metadata": {},
      "source": [
        "a[-1]"
      ],
      "id": "8489300a",
      "execution_count": null,
      "outputs": []
    },
    {
      "cell_type": "code",
      "metadata": {},
      "source": [
        "a[4]"
      ],
      "id": "8ee12507",
      "execution_count": null,
      "outputs": []
    },
    {
      "cell_type": "markdown",
      "metadata": {},
      "source": [
        "---"
      ],
      "id": "2d9bea39"
    },
    {
      "cell_type": "code",
      "metadata": {},
      "source": [
        "a[1:-1]"
      ],
      "id": "8c9f5463",
      "execution_count": null,
      "outputs": []
    },
    {
      "cell_type": "code",
      "metadata": {},
      "source": [
        "a[1:-1:2]"
      ],
      "id": "6845e20a",
      "execution_count": null,
      "outputs": []
    },
    {
      "cell_type": "markdown",
      "metadata": {},
      "source": [
        "---"
      ],
      "id": "35ab303d"
    },
    {
      "cell_type": "code",
      "metadata": {},
      "source": [
        "a[:5]"
      ],
      "id": "873442d7",
      "execution_count": null,
      "outputs": []
    },
    {
      "cell_type": "code",
      "metadata": {},
      "source": [
        "a[-5:]"
      ],
      "id": "2b4b13bc",
      "execution_count": null,
      "outputs": []
    },
    {
      "cell_type": "code",
      "metadata": {},
      "source": [
        "a[::-2]"
      ],
      "id": "44aa1fe4",
      "execution_count": null,
      "outputs": []
    },
    {
      "cell_type": "markdown",
      "metadata": {},
      "source": [
        "### Multidimensional arrays"
      ],
      "id": "a14c5b55"
    },
    {
      "cell_type": "code",
      "metadata": {},
      "source": [
        "f = lambda m, n: n + 10*m"
      ],
      "id": "e8310ed1",
      "execution_count": null,
      "outputs": []
    },
    {
      "cell_type": "code",
      "metadata": {},
      "source": [
        "# please search for numpy.fromfunction at google\n",
        "A = np.fromfunction(f, (6, 6), dtype=int)\n",
        "A  "
      ],
      "id": "2a9bae78",
      "execution_count": null,
      "outputs": []
    },
    {
      "cell_type": "code",
      "metadata": {},
      "source": [
        "A[:, 1]  # the second column"
      ],
      "id": "59531f31",
      "execution_count": null,
      "outputs": []
    },
    {
      "cell_type": "code",
      "metadata": {},
      "source": [
        "A[1, :]  # the second row"
      ],
      "id": "2f924dd6",
      "execution_count": null,
      "outputs": []
    },
    {
      "cell_type": "code",
      "metadata": {},
      "source": [
        "A[:3, :3]"
      ],
      "id": "afd1174f",
      "execution_count": null,
      "outputs": []
    },
    {
      "cell_type": "code",
      "metadata": {},
      "source": [
        "A[3:, :3]"
      ],
      "id": "c5940ce3",
      "execution_count": null,
      "outputs": []
    },
    {
      "cell_type": "code",
      "metadata": {},
      "source": [
        "A[::2, ::2]"
      ],
      "id": "82aa6641",
      "execution_count": null,
      "outputs": []
    },
    {
      "cell_type": "code",
      "metadata": {},
      "source": [
        "A[1::2, 1::3]"
      ],
      "id": "841d48a8",
      "execution_count": null,
      "outputs": []
    },
    {
      "cell_type": "markdown",
      "metadata": {},
      "source": [
        "### Views\n",
        "\n",
        "* Subarrays that are extracted from arrays using slice operations are **alternative views** of the same underlying array data. That is, $~$they are arrays that refer to the same data in memory as the original array, $~$but with a different `strides` configuration\n",
        "\n",
        "* When elements in a view are assigned new values, $~$the values of the original\n",
        "array are therefore also updated. For example,"
      ],
      "id": "eb10c228"
    },
    {
      "cell_type": "code",
      "metadata": {},
      "source": [
        "B = A[1:5, 1:5]\n",
        "B"
      ],
      "id": "6478b294",
      "execution_count": null,
      "outputs": []
    },
    {
      "cell_type": "code",
      "metadata": {},
      "source": [
        "B[:, :] = 0\n",
        "A"
      ],
      "id": "635f97ab",
      "execution_count": null,
      "outputs": []
    },
    {
      "cell_type": "markdown",
      "metadata": {},
      "source": [
        "* When a copy rather than a view is needed, the view can be copied explicitly by using the `copy` method of the `ndarray` instance"
      ],
      "id": "5d0954fc"
    },
    {
      "cell_type": "code",
      "metadata": {},
      "source": [
        "C = B[1:3, 1:3].copy()\n",
        "C"
      ],
      "id": "4ee70869",
      "execution_count": null,
      "outputs": []
    },
    {
      "cell_type": "code",
      "metadata": {},
      "source": [
        "C[:, :] = 1\n",
        "C"
      ],
      "id": "ed94a2ca",
      "execution_count": null,
      "outputs": []
    },
    {
      "cell_type": "code",
      "metadata": {},
      "source": [
        "B"
      ],
      "id": "a31aafe2",
      "execution_count": null,
      "outputs": []
    },
    {
      "cell_type": "markdown",
      "metadata": {},
      "source": [
        "### Fancy indexing and boolean-valued indexing"
      ],
      "id": "92111bfb"
    },
    {
      "cell_type": "code",
      "metadata": {},
      "source": [
        "A = np.linspace(0, 1, 11)\n",
        "A"
      ],
      "id": "d26bdc61",
      "execution_count": null,
      "outputs": []
    },
    {
      "cell_type": "code",
      "metadata": {},
      "source": [
        "A[np.array([0, 2, 4])]"
      ],
      "id": "021ec70b",
      "execution_count": null,
      "outputs": []
    },
    {
      "cell_type": "code",
      "metadata": {},
      "source": [
        "A[[0, 2, 4]]"
      ],
      "id": "0fabb2cd",
      "execution_count": null,
      "outputs": []
    },
    {
      "cell_type": "markdown",
      "metadata": {},
      "source": [
        "---"
      ],
      "id": "d6c22e2d"
    },
    {
      "cell_type": "code",
      "metadata": {},
      "source": [
        "A > 0.5"
      ],
      "id": "d86d7bdb",
      "execution_count": null,
      "outputs": []
    },
    {
      "cell_type": "code",
      "metadata": {},
      "source": [
        "A[A > 0.5]"
      ],
      "id": "d8f7327e",
      "execution_count": null,
      "outputs": []
    },
    {
      "cell_type": "markdown",
      "metadata": {},
      "source": [
        "* Unlike arrays created by using slices, $~$**the arrays returned using fancy indexing and Boolean-valued\n",
        "indexing are not views**, $~$but rather new independent arrays"
      ],
      "id": "fcb5c2f7"
    },
    {
      "cell_type": "code",
      "metadata": {},
      "source": [
        "A = np.arange(10)\n",
        "indices = [2, 4, 6]"
      ],
      "id": "03eeabbf",
      "execution_count": null,
      "outputs": []
    },
    {
      "cell_type": "code",
      "metadata": {},
      "source": [
        "B = A[indices]"
      ],
      "id": "ef661d09",
      "execution_count": null,
      "outputs": []
    },
    {
      "cell_type": "code",
      "metadata": {},
      "source": [
        "B[0] = -1\n",
        "A"
      ],
      "id": "6b5f1500",
      "execution_count": null,
      "outputs": []
    },
    {
      "cell_type": "code",
      "metadata": {},
      "source": [
        "A[indices] = -1\n",
        "A"
      ],
      "id": "176979fc",
      "execution_count": null,
      "outputs": []
    },
    {
      "cell_type": "markdown",
      "metadata": {},
      "source": [
        "---"
      ],
      "id": "648c4c1f"
    },
    {
      "cell_type": "code",
      "metadata": {},
      "source": [
        "A = np.arange(10)"
      ],
      "id": "cf6f85e7",
      "execution_count": null,
      "outputs": []
    },
    {
      "cell_type": "code",
      "metadata": {},
      "source": [
        "B = A[A > 5]"
      ],
      "id": "1c6453f0",
      "execution_count": null,
      "outputs": []
    },
    {
      "cell_type": "code",
      "metadata": {},
      "source": [
        "B[0] = -1\n",
        "A"
      ],
      "id": "c6043228",
      "execution_count": null,
      "outputs": []
    },
    {
      "cell_type": "code",
      "metadata": {},
      "source": [
        "A[A > 5] = -1\n",
        "A"
      ],
      "id": "262139c2",
      "execution_count": null,
      "outputs": []
    },
    {
      "cell_type": "markdown",
      "metadata": {},
      "source": [
        "### Summery"
      ],
      "id": "ad6f5579"
    },
    {
      "cell_type": "code",
      "metadata": {},
      "source": [
        "show_array((4, 4), ':, :')"
      ],
      "id": "caa6c1ec",
      "execution_count": null,
      "outputs": []
    },
    {
      "cell_type": "code",
      "metadata": {},
      "source": [
        "show_array((4, 4), '0')"
      ],
      "id": "895d9ce5",
      "execution_count": null,
      "outputs": []
    },
    {
      "cell_type": "code",
      "metadata": {},
      "source": [
        "show_array((4, 4), '1, :')"
      ],
      "id": "ecdab3d7",
      "execution_count": null,
      "outputs": []
    },
    {
      "cell_type": "code",
      "metadata": {},
      "source": [
        "show_array((4, 4), ':, 2')"
      ],
      "id": "63ed8ae4",
      "execution_count": null,
      "outputs": []
    },
    {
      "cell_type": "markdown",
      "metadata": {},
      "source": [
        "---"
      ],
      "id": "f19c5b94"
    },
    {
      "cell_type": "code",
      "metadata": {},
      "source": [
        "show_array((4, 4), '0:2, 0:2')"
      ],
      "id": "36fb724d",
      "execution_count": null,
      "outputs": []
    },
    {
      "cell_type": "code",
      "metadata": {},
      "source": [
        "show_array((4, 4), '0:2, 2:4')"
      ],
      "id": "08041679",
      "execution_count": null,
      "outputs": []
    },
    {
      "cell_type": "code",
      "metadata": {},
      "source": [
        "show_array((4, 4), '::2, ::2')"
      ],
      "id": "0f981b3c",
      "execution_count": null,
      "outputs": []
    },
    {
      "cell_type": "code",
      "metadata": {},
      "source": [
        "show_array((4, 4), '1::2, 1::2')"
      ],
      "id": "abaeab82",
      "execution_count": null,
      "outputs": []
    },
    {
      "cell_type": "code",
      "metadata": {},
      "source": [
        "show_array((4, 4), ':, [0, 3]')"
      ],
      "id": "d9382fcd",
      "execution_count": null,
      "outputs": []
    },
    {
      "cell_type": "code",
      "metadata": {},
      "source": [
        "show_array((4, 4), '[1, 3], [0, 3]')"
      ],
      "id": "e6a8aef5",
      "execution_count": null,
      "outputs": []
    },
    {
      "cell_type": "code",
      "metadata": {},
      "source": [
        "show_array((4, 4), ':, [False, True, True, False]')"
      ],
      "id": "ce4ef2cc",
      "execution_count": null,
      "outputs": []
    },
    {
      "cell_type": "code",
      "metadata": {},
      "source": [
        "show_array((4, 4), '1:3, [False, True, True, False]')"
      ],
      "id": "395743e1",
      "execution_count": null,
      "outputs": []
    },
    {
      "cell_type": "markdown",
      "metadata": {},
      "source": [
        "## Reshaping and resizing\n",
        "\n",
        "* Reshaping an array does not require modifying the underlying array data; it only changes in how the data is interpreted, by redefining the array’s strides attribute"
      ],
      "id": "0e4ad8d2"
    },
    {
      "cell_type": "code",
      "metadata": {},
      "source": [
        "data = np.array([[1, 2], [3, 4]])\n",
        "data1 = np.reshape(data, (1, 4))\n",
        "data1"
      ],
      "id": "866ebda4",
      "execution_count": null,
      "outputs": []
    },
    {
      "cell_type": "code",
      "metadata": {},
      "source": [
        "data1[0, 1] = -1\n",
        "data"
      ],
      "id": "a7b1b396",
      "execution_count": null,
      "outputs": []
    },
    {
      "cell_type": "code",
      "metadata": {},
      "source": [
        "data2 = data.reshape(4)\n",
        "data2"
      ],
      "id": "eaa20b68",
      "execution_count": null,
      "outputs": []
    },
    {
      "cell_type": "code",
      "metadata": {},
      "source": [
        "data2[1] = -2\n",
        "data"
      ],
      "id": "9ea9690d",
      "execution_count": null,
      "outputs": []
    },
    {
      "cell_type": "markdown",
      "metadata": {},
      "source": [
        "---"
      ],
      "id": "b857fb07"
    },
    {
      "cell_type": "code",
      "metadata": {},
      "source": [
        "data = np.array([[1, 2], [3, 4]])\n",
        "data1 = np.ravel(data)\n",
        "data1"
      ],
      "id": "62a11d99",
      "execution_count": null,
      "outputs": []
    },
    {
      "cell_type": "code",
      "metadata": {},
      "source": [
        "data1[0] = -1\n",
        "data"
      ],
      "id": "b2d3d9e2",
      "execution_count": null,
      "outputs": []
    },
    {
      "cell_type": "markdown",
      "metadata": {},
      "source": [
        "* The `ndarray` method `flatten` perform the same function, $~$but\n",
        "returns a **copy** instead of a view"
      ],
      "id": "b7890376"
    },
    {
      "cell_type": "code",
      "metadata": {},
      "source": [
        "data2 = data.flatten()\n",
        "data2"
      ],
      "id": "aa49735c",
      "execution_count": null,
      "outputs": []
    },
    {
      "cell_type": "code",
      "metadata": {},
      "source": [
        "data2[0] = -2\n",
        "data"
      ],
      "id": "76b62f0b",
      "execution_count": null,
      "outputs": []
    },
    {
      "cell_type": "markdown",
      "metadata": {},
      "source": [
        "---"
      ],
      "id": "8726b824"
    },
    {
      "cell_type": "code",
      "metadata": {},
      "source": [
        "data = np.arange(0, 5)\n",
        "data.shape"
      ],
      "id": "c4f28824",
      "execution_count": null,
      "outputs": []
    },
    {
      "cell_type": "code",
      "metadata": {},
      "source": [
        "column = data[:, np.newaxis]\n",
        "column"
      ],
      "id": "bd434956",
      "execution_count": null,
      "outputs": []
    },
    {
      "cell_type": "code",
      "metadata": {},
      "source": [
        "column.shape"
      ],
      "id": "fdbc010b",
      "execution_count": null,
      "outputs": []
    },
    {
      "cell_type": "code",
      "metadata": {},
      "source": [
        "row = data[np.newaxis, :]\n",
        "row"
      ],
      "id": "4903debe",
      "execution_count": null,
      "outputs": []
    },
    {
      "cell_type": "code",
      "metadata": {},
      "source": [
        "row.shape"
      ],
      "id": "92e58fe7",
      "execution_count": null,
      "outputs": []
    },
    {
      "cell_type": "code",
      "metadata": {},
      "source": [
        "row[0, 0] = -1\n",
        "data"
      ],
      "id": "a430ba6b",
      "execution_count": null,
      "outputs": []
    },
    {
      "cell_type": "markdown",
      "metadata": {},
      "source": [
        "---"
      ],
      "id": "71e8c6b2"
    },
    {
      "cell_type": "code",
      "metadata": {},
      "source": [
        "np.expand_dims(data, axis=1) "
      ],
      "id": "678c6326",
      "execution_count": null,
      "outputs": []
    },
    {
      "cell_type": "code",
      "metadata": {},
      "source": [
        "row = np.expand_dims(data, axis=0)\n",
        "row"
      ],
      "id": "443a5d2f",
      "execution_count": null,
      "outputs": []
    },
    {
      "cell_type": "code",
      "metadata": {},
      "source": [
        "row[0, 0] = 0\n",
        "data"
      ],
      "id": "485ab7b7",
      "execution_count": null,
      "outputs": []
    },
    {
      "cell_type": "markdown",
      "metadata": {},
      "source": [
        "---"
      ],
      "id": "8ec5c9cf"
    },
    {
      "cell_type": "code",
      "metadata": {},
      "source": [
        "data = np.arange(5)\n",
        "data"
      ],
      "id": "e989b74e",
      "execution_count": null,
      "outputs": []
    },
    {
      "cell_type": "code",
      "metadata": {},
      "source": [
        "np.vstack((data, data, data))"
      ],
      "id": "ca75fa48",
      "execution_count": null,
      "outputs": []
    },
    {
      "cell_type": "code",
      "metadata": {},
      "source": [
        "np.hstack((data, data, data))"
      ],
      "id": "2b38ee09",
      "execution_count": null,
      "outputs": []
    },
    {
      "cell_type": "code",
      "metadata": {},
      "source": [
        "data = data[:, np.newaxis]\n",
        "data.shape"
      ],
      "id": "c7e2db48",
      "execution_count": null,
      "outputs": []
    },
    {
      "cell_type": "code",
      "metadata": {},
      "source": [
        "np.hstack((data, data, data))"
      ],
      "id": "6aef3449",
      "execution_count": null,
      "outputs": []
    },
    {
      "cell_type": "code",
      "metadata": {},
      "source": [
        "data1 = np.array([[1, 2], [3, 4]])\n",
        "data2 = np.array([[5, 6]])"
      ],
      "id": "0c6834b2",
      "execution_count": null,
      "outputs": []
    },
    {
      "cell_type": "code",
      "metadata": {},
      "source": [
        "np.concatenate((data1, data2), axis=0)"
      ],
      "id": "8abed1f3",
      "execution_count": null,
      "outputs": []
    },
    {
      "cell_type": "code",
      "metadata": {},
      "source": [
        "np.concatenate((data1, data2.T), axis=1)"
      ],
      "id": "c287ccc9",
      "execution_count": null,
      "outputs": []
    },
    {
      "cell_type": "markdown",
      "metadata": {},
      "source": [
        "## Vectorized expressions\n",
        "\n",
        "### Arithmetic operations"
      ],
      "id": "55f21d29"
    },
    {
      "cell_type": "code",
      "metadata": {},
      "source": [
        "x = np.array([[1, 2], [3, 4]])\n",
        "y = np.array([[5, 6], [7, 8]])"
      ],
      "id": "adcbba45",
      "execution_count": null,
      "outputs": []
    },
    {
      "cell_type": "code",
      "metadata": {},
      "source": [
        "x + y"
      ],
      "id": "5259afa0",
      "execution_count": null,
      "outputs": []
    },
    {
      "cell_type": "code",
      "metadata": {},
      "source": [
        "y - x"
      ],
      "id": "6b782f42",
      "execution_count": null,
      "outputs": []
    },
    {
      "cell_type": "code",
      "metadata": {},
      "source": [
        "x * y"
      ],
      "id": "82025e01",
      "execution_count": null,
      "outputs": []
    },
    {
      "cell_type": "code",
      "metadata": {},
      "source": [
        "y / x"
      ],
      "id": "32b6ed78",
      "execution_count": null,
      "outputs": []
    },
    {
      "cell_type": "markdown",
      "metadata": {},
      "source": [
        "---"
      ],
      "id": "3e6a6ae6"
    },
    {
      "cell_type": "code",
      "metadata": {},
      "source": [
        "x * 2"
      ],
      "id": "8aab5a80",
      "execution_count": null,
      "outputs": []
    },
    {
      "cell_type": "code",
      "metadata": {},
      "source": [
        "2**x"
      ],
      "id": "68a75044",
      "execution_count": null,
      "outputs": []
    },
    {
      "cell_type": "code",
      "metadata": {},
      "source": [
        "y / 2"
      ],
      "id": "34744eb4",
      "execution_count": null,
      "outputs": []
    },
    {
      "cell_type": "code",
      "metadata": {},
      "source": [
        "(y / 2).dtype"
      ],
      "id": "f9c7d7e8",
      "execution_count": null,
      "outputs": []
    },
    {
      "cell_type": "markdown",
      "metadata": {},
      "source": [
        "### Broadcasting"
      ],
      "id": "f0ee2aad"
    },
    {
      "cell_type": "code",
      "metadata": {},
      "source": [
        "a = np.array([[11, 12, 13], [21, 22, 23], [31, 32, 33]])\n",
        "b = np.array([[1, 2, 3]])"
      ],
      "id": "bac4c1a4",
      "execution_count": null,
      "outputs": []
    },
    {
      "cell_type": "code",
      "metadata": {},
      "source": [
        "a + b"
      ],
      "id": "a6f93fd4",
      "execution_count": null,
      "outputs": []
    },
    {
      "cell_type": "code",
      "metadata": {},
      "source": [
        "show_array_broadcasting(a, b)"
      ],
      "id": "b7601932",
      "execution_count": null,
      "outputs": []
    },
    {
      "cell_type": "code",
      "metadata": {},
      "source": [
        "a + b.T"
      ],
      "id": "1c49cc0b",
      "execution_count": null,
      "outputs": []
    },
    {
      "cell_type": "code",
      "metadata": {},
      "source": [
        "show_array_broadcasting(a, b.T)"
      ],
      "id": "e8397a79",
      "execution_count": null,
      "outputs": []
    },
    {
      "cell_type": "markdown",
      "metadata": {},
      "source": [
        "---"
      ],
      "id": "d2e67f8b"
    },
    {
      "cell_type": "code",
      "metadata": {},
      "source": [
        "x = np.array([1, 2, 3, 4]).reshape(2, 2)\n",
        "x.shape"
      ],
      "id": "a6ed12c3",
      "execution_count": null,
      "outputs": []
    },
    {
      "cell_type": "code",
      "metadata": {},
      "source": [
        "z = np.array([[2, 4]])\n",
        "z.shape"
      ],
      "id": "38ccde15",
      "execution_count": null,
      "outputs": []
    },
    {
      "cell_type": "code",
      "metadata": {},
      "source": [
        "x / z"
      ],
      "id": "11987611",
      "execution_count": null,
      "outputs": []
    },
    {
      "cell_type": "code",
      "metadata": {},
      "source": [
        "zz = np.vstack((z, z))\n",
        "zz"
      ],
      "id": "b69a8838",
      "execution_count": null,
      "outputs": []
    },
    {
      "cell_type": "code",
      "metadata": {},
      "source": [
        "x / zz"
      ],
      "id": "daa07616",
      "execution_count": null,
      "outputs": []
    },
    {
      "cell_type": "markdown",
      "metadata": {},
      "source": [
        "---"
      ],
      "id": "6e4982c6"
    },
    {
      "cell_type": "code",
      "metadata": {},
      "source": [
        "z = np.array([[2], [4]])\n",
        "z.shape"
      ],
      "id": "da4a6121",
      "execution_count": null,
      "outputs": []
    },
    {
      "cell_type": "code",
      "metadata": {},
      "source": [
        "x / z"
      ],
      "id": "7b8796a6",
      "execution_count": null,
      "outputs": []
    },
    {
      "cell_type": "code",
      "metadata": {},
      "source": [
        "zz = np.concatenate([z, z], axis=1)\n",
        "zz"
      ],
      "id": "a969681d",
      "execution_count": null,
      "outputs": []
    },
    {
      "cell_type": "code",
      "metadata": {},
      "source": [
        "x / zz"
      ],
      "id": "6130ea16",
      "execution_count": null,
      "outputs": []
    },
    {
      "cell_type": "markdown",
      "metadata": {},
      "source": [
        "---"
      ],
      "id": "3a5736b6"
    },
    {
      "cell_type": "code",
      "metadata": {},
      "source": [
        "x = z = np.array([1, 2, 3, 4])\n",
        "y = np.array([5, 6, 7, 8])\n",
        "x = x + y  # x is reassigned to a new array"
      ],
      "id": "10776419",
      "execution_count": null,
      "outputs": []
    },
    {
      "cell_type": "code",
      "metadata": {},
      "source": [
        "x, z"
      ],
      "id": "00735254",
      "execution_count": null,
      "outputs": []
    },
    {
      "cell_type": "code",
      "metadata": {},
      "source": [
        "x = z = np.array([1, 2, 3, 4])\n",
        "y = np.array([5, 6, 7, 8])\n",
        "x += y  # the values of array x are updated in place"
      ],
      "id": "e7242313",
      "execution_count": null,
      "outputs": []
    },
    {
      "cell_type": "code",
      "metadata": {},
      "source": [
        "x, z"
      ],
      "id": "7158b274",
      "execution_count": null,
      "outputs": []
    },
    {
      "cell_type": "markdown",
      "metadata": {},
      "source": [
        "### Elementwise functions"
      ],
      "id": "a8708b0c"
    },
    {
      "cell_type": "code",
      "metadata": {},
      "source": [
        "x = np.linspace(-1, 1, 11)\n",
        "x"
      ],
      "id": "509c6562",
      "execution_count": null,
      "outputs": []
    },
    {
      "cell_type": "code",
      "metadata": {},
      "source": [
        "y = np.sin(np.pi * x)"
      ],
      "id": "f06a654d",
      "execution_count": null,
      "outputs": []
    },
    {
      "cell_type": "code",
      "metadata": {},
      "source": [
        "np.round(y, decimals=4)"
      ],
      "id": "08b192b7",
      "execution_count": null,
      "outputs": []
    },
    {
      "cell_type": "code",
      "metadata": {},
      "source": [
        "np.add(np.sin(x)**2, np.cos(x)**2)"
      ],
      "id": "db0d3154",
      "execution_count": null,
      "outputs": []
    },
    {
      "cell_type": "code",
      "metadata": {},
      "source": [
        "np.sin(x)**2 + np.cos(x)**2"
      ],
      "id": "3b5d0f56",
      "execution_count": null,
      "outputs": []
    },
    {
      "cell_type": "markdown",
      "metadata": {},
      "source": [
        "---"
      ],
      "id": "d2b28a42"
    },
    {
      "cell_type": "code",
      "metadata": {},
      "source": [
        "def heaviside(x):\n",
        "    return 1 if x > 0 else 0"
      ],
      "id": "ebfa9f74",
      "execution_count": null,
      "outputs": []
    },
    {
      "cell_type": "code",
      "metadata": {},
      "source": [
        "heaviside(-1)"
      ],
      "id": "9083e055",
      "execution_count": null,
      "outputs": []
    },
    {
      "cell_type": "code",
      "metadata": {},
      "source": [
        "heaviside(1.5)"
      ],
      "id": "8b19f88f",
      "execution_count": null,
      "outputs": []
    },
    {
      "cell_type": "markdown",
      "metadata": {},
      "source": [
        "````\n",
        "```{{python}}\n",
        "x = np.linspace(-5, 5, 11)\n",
        "heaviside(x)\n",
        "```\n",
        "\n",
        "ValueError \n",
        "      1 x = np.linspace(-5, 5, 11)\n",
        "----> 2 heaviside(x)\n",
        "\n",
        "      1 def heaviside(x):\n",
        "----> 2     return 1 if x > 0 else 0\n",
        "\n",
        "ValueError: The truth value of an array with more than \n",
        "one element is ambiguous. Use a.any() or a.all()\n",
        "\n",
        "````"
      ],
      "id": "4b878432"
    },
    {
      "cell_type": "code",
      "metadata": {},
      "source": [
        "heaviside = np.vectorize(heaviside)\n",
        "heaviside(x)"
      ],
      "id": "781012ec",
      "execution_count": null,
      "outputs": []
    },
    {
      "cell_type": "code",
      "metadata": {},
      "source": [
        "def heaviside(x):  # much better way\n",
        "    return 1 * (x > 0)\n",
        "\n",
        "heaviside(x)"
      ],
      "id": "6644dd5b",
      "execution_count": null,
      "outputs": []
    },
    {
      "cell_type": "markdown",
      "metadata": {},
      "source": [
        "### Aggregation"
      ],
      "id": "086f82f6"
    },
    {
      "cell_type": "code",
      "metadata": {},
      "source": [
        "data = np.random.normal(size=(15, 15)) "
      ],
      "id": "6d99018d",
      "execution_count": null,
      "outputs": []
    },
    {
      "cell_type": "code",
      "metadata": {},
      "source": [
        "np.mean(data)"
      ],
      "id": "78839cf1",
      "execution_count": null,
      "outputs": []
    },
    {
      "cell_type": "code",
      "metadata": {},
      "source": [
        "data.mean()"
      ],
      "id": "57ee4efd",
      "execution_count": null,
      "outputs": []
    },
    {
      "cell_type": "markdown",
      "metadata": {},
      "source": [
        "---"
      ],
      "id": "aa50a9f6"
    },
    {
      "cell_type": "code",
      "metadata": {},
      "source": [
        "data = np.random.normal(size=(5, 10, 15))"
      ],
      "id": "eadd212d",
      "execution_count": null,
      "outputs": []
    },
    {
      "cell_type": "code",
      "metadata": {},
      "source": [
        "data.sum(axis=0).shape"
      ],
      "id": "bbb0aa38",
      "execution_count": null,
      "outputs": []
    },
    {
      "cell_type": "code",
      "metadata": {},
      "source": [
        "data.sum(axis=(0, 2)).shape"
      ],
      "id": "b56a3a01",
      "execution_count": null,
      "outputs": []
    },
    {
      "cell_type": "code",
      "metadata": {},
      "source": [
        "data.sum()"
      ],
      "id": "e9d5a39f",
      "execution_count": null,
      "outputs": []
    },
    {
      "cell_type": "markdown",
      "metadata": {},
      "source": [
        "---\n"
      ],
      "id": "48cf6841"
    },
    {
      "cell_type": "code",
      "metadata": {},
      "source": [
        "data = np.arange(9).reshape(3, 3)\n",
        "data"
      ],
      "id": "ea18162d",
      "execution_count": null,
      "outputs": []
    },
    {
      "cell_type": "code",
      "metadata": {},
      "source": [
        "data.sum()"
      ],
      "id": "046366ae",
      "execution_count": null,
      "outputs": []
    },
    {
      "cell_type": "code",
      "metadata": {},
      "source": [
        "show_array_aggregation(data, None)"
      ],
      "id": "3f380c89",
      "execution_count": null,
      "outputs": []
    },
    {
      "cell_type": "code",
      "metadata": {},
      "source": [
        "data.sum(axis=0)"
      ],
      "id": "f107cb26",
      "execution_count": null,
      "outputs": []
    },
    {
      "cell_type": "code",
      "metadata": {},
      "source": [
        "show_array_aggregation(data, 0)"
      ],
      "id": "64e14d7f",
      "execution_count": null,
      "outputs": []
    },
    {
      "cell_type": "code",
      "metadata": {},
      "source": [
        "data.sum(axis=1)"
      ],
      "id": "8e0443f5",
      "execution_count": null,
      "outputs": []
    },
    {
      "cell_type": "code",
      "metadata": {},
      "source": [
        "show_array_aggregation(data, 1)"
      ],
      "id": "4458baa1",
      "execution_count": null,
      "outputs": []
    },
    {
      "cell_type": "markdown",
      "metadata": {},
      "source": [
        "### Boolean arrays and conditional expressions"
      ],
      "id": "c4f826fa"
    },
    {
      "cell_type": "code",
      "metadata": {},
      "source": [
        "a = np.array([1, 2, 3, 4])\n",
        "b = np.array([4, 3, 2, 1])"
      ],
      "id": "37c9aa0d",
      "execution_count": null,
      "outputs": []
    },
    {
      "cell_type": "code",
      "metadata": {},
      "source": [
        "a < b"
      ],
      "id": "520ee16b",
      "execution_count": null,
      "outputs": []
    },
    {
      "cell_type": "code",
      "metadata": {},
      "source": [
        "np.all(a < b)"
      ],
      "id": "746ec860",
      "execution_count": null,
      "outputs": []
    },
    {
      "cell_type": "code",
      "metadata": {},
      "source": [
        "np.any(a < b)"
      ],
      "id": "857155c7",
      "execution_count": null,
      "outputs": []
    },
    {
      "cell_type": "markdown",
      "metadata": {},
      "source": [
        "---"
      ],
      "id": "f0752c79"
    },
    {
      "cell_type": "code",
      "metadata": {},
      "source": [
        "x = np.array([-2, -1, 0, 1, 2])"
      ],
      "id": "0c1cfc83",
      "execution_count": null,
      "outputs": []
    },
    {
      "cell_type": "code",
      "metadata": {},
      "source": [
        "x > 0"
      ],
      "id": "1ae76822",
      "execution_count": null,
      "outputs": []
    },
    {
      "cell_type": "code",
      "metadata": {},
      "source": [
        "1 * (x > 0)"
      ],
      "id": "331da812",
      "execution_count": null,
      "outputs": []
    },
    {
      "cell_type": "code",
      "metadata": {},
      "source": [
        "x * (x > 0)"
      ],
      "id": "fcfd3b62",
      "execution_count": null,
      "outputs": []
    },
    {
      "cell_type": "markdown",
      "metadata": {},
      "source": [
        "---"
      ],
      "id": "ac266126"
    },
    {
      "cell_type": "code",
      "metadata": {},
      "source": [
        "def pulse(x, position, height, width):\n",
        "    return height * (x >= position) * (x <= (position + width))  "
      ],
      "id": "9dc28cd7",
      "execution_count": null,
      "outputs": []
    },
    {
      "cell_type": "code",
      "metadata": {},
      "source": [
        "x = np.linspace(-5, 5, 31)"
      ],
      "id": "7f3763c8",
      "execution_count": null,
      "outputs": []
    },
    {
      "cell_type": "code",
      "metadata": {},
      "source": [
        "pulse(x, position=-2, height=1, width=5)"
      ],
      "id": "166cfa32",
      "execution_count": null,
      "outputs": []
    },
    {
      "cell_type": "code",
      "metadata": {},
      "source": [
        "pulse(x, position=1, height=2, width=2)"
      ],
      "id": "c1c2b40b",
      "execution_count": null,
      "outputs": []
    },
    {
      "cell_type": "markdown",
      "metadata": {},
      "source": [
        "---"
      ],
      "id": "b325cde4"
    },
    {
      "cell_type": "code",
      "metadata": {},
      "source": [
        "x = np.linspace(-4, 4, 9)\n",
        "x"
      ],
      "id": "5b7c359e",
      "execution_count": null,
      "outputs": []
    },
    {
      "cell_type": "code",
      "metadata": {},
      "source": [
        "np.where(x < 0, x**2, x**3)"
      ],
      "id": "25aff40a",
      "execution_count": null,
      "outputs": []
    },
    {
      "cell_type": "code",
      "metadata": {},
      "source": [
        "np.select([x < -1, x < 2, x>= 2], [x**2, x**3, x**4])"
      ],
      "id": "687bd348",
      "execution_count": null,
      "outputs": []
    },
    {
      "cell_type": "code",
      "metadata": {},
      "source": [
        "np.choose([0, 0, 0, 1, 1, 1, 2, 2, 2], [x**2, x**3, x**4])"
      ],
      "id": "34bb2124",
      "execution_count": null,
      "outputs": []
    },
    {
      "cell_type": "code",
      "metadata": {},
      "source": [
        "x[np.abs(x) > 2]"
      ],
      "id": "c053aed9",
      "execution_count": null,
      "outputs": []
    },
    {
      "cell_type": "markdown",
      "metadata": {},
      "source": [
        "### Set operations"
      ],
      "id": "40b6a585"
    },
    {
      "cell_type": "code",
      "metadata": {},
      "source": [
        "a = np.unique([1, 2, 3, 3])\n",
        "a"
      ],
      "id": "31413dbd",
      "execution_count": null,
      "outputs": []
    },
    {
      "cell_type": "code",
      "metadata": {},
      "source": [
        "b = np.unique([2, 3, 4, 4, 5, 6, 5])\n",
        "b"
      ],
      "id": "d30ca322",
      "execution_count": null,
      "outputs": []
    },
    {
      "cell_type": "code",
      "metadata": {},
      "source": [
        "np.in1d(a, b)"
      ],
      "id": "4a216fd4",
      "execution_count": null,
      "outputs": []
    },
    {
      "cell_type": "code",
      "metadata": {},
      "source": [
        "1 in a, 1 in b"
      ],
      "id": "aa98799e",
      "execution_count": null,
      "outputs": []
    },
    {
      "cell_type": "code",
      "metadata": {},
      "source": [
        "np.all(np.in1d(a, b))  # to test if a is a subset of b"
      ],
      "id": "6f0bea1a",
      "execution_count": null,
      "outputs": []
    },
    {
      "cell_type": "markdown",
      "metadata": {},
      "source": [
        "---"
      ],
      "id": "24ff033f"
    },
    {
      "cell_type": "code",
      "metadata": {},
      "source": [
        "np.union1d(a, b)"
      ],
      "id": "dde6b4f9",
      "execution_count": null,
      "outputs": []
    },
    {
      "cell_type": "code",
      "metadata": {},
      "source": [
        "np.intersect1d(a, b)"
      ],
      "id": "aed0e531",
      "execution_count": null,
      "outputs": []
    },
    {
      "cell_type": "code",
      "metadata": {},
      "source": [
        "np.setdiff1d(a, b)"
      ],
      "id": "2e0f92c5",
      "execution_count": null,
      "outputs": []
    },
    {
      "cell_type": "code",
      "metadata": {},
      "source": [
        "np.setdiff1d(b, a)"
      ],
      "id": "ad59a13c",
      "execution_count": null,
      "outputs": []
    },
    {
      "cell_type": "markdown",
      "metadata": {},
      "source": [
        "### Operations on arrays"
      ],
      "id": "b836db2f"
    },
    {
      "cell_type": "code",
      "metadata": {},
      "source": [
        "data = np.arange(9).reshape(3, 3)\n",
        "data"
      ],
      "id": "256d8232",
      "execution_count": null,
      "outputs": []
    },
    {
      "cell_type": "code",
      "metadata": {},
      "source": [
        "np.transpose(data)"
      ],
      "id": "fe29d48f",
      "execution_count": null,
      "outputs": []
    },
    {
      "cell_type": "markdown",
      "metadata": {},
      "source": [
        "---"
      ],
      "id": "fa97e2d1"
    },
    {
      "cell_type": "code",
      "metadata": {},
      "source": [
        "data = np.random.randn(1, 2, 3, 4, 5)"
      ],
      "id": "6ba497c7",
      "execution_count": null,
      "outputs": []
    },
    {
      "cell_type": "code",
      "metadata": {},
      "source": [
        "data.shape"
      ],
      "id": "e3096ac2",
      "execution_count": null,
      "outputs": []
    },
    {
      "cell_type": "code",
      "metadata": {},
      "source": [
        "data.T.shape"
      ],
      "id": "786d8a4a",
      "execution_count": null,
      "outputs": []
    },
    {
      "cell_type": "markdown",
      "metadata": {},
      "source": [
        "## Matrix and vector operations"
      ],
      "id": "75f59f56"
    },
    {
      "cell_type": "code",
      "metadata": {},
      "source": [
        "A = np.arange(1, 7).reshape(2, 3)\n",
        "A"
      ],
      "id": "0e3c33ae",
      "execution_count": null,
      "outputs": []
    },
    {
      "cell_type": "code",
      "metadata": {},
      "source": [
        "B = np.arange(1, 7).reshape(3, 2)\n",
        "B"
      ],
      "id": "f958600c",
      "execution_count": null,
      "outputs": []
    },
    {
      "cell_type": "code",
      "metadata": {},
      "source": [
        "np.dot(A, B)"
      ],
      "id": "cab9533b",
      "execution_count": null,
      "outputs": []
    },
    {
      "cell_type": "code",
      "metadata": {},
      "source": [
        "np.dot(B, A)"
      ],
      "id": "dd1fcfcb",
      "execution_count": null,
      "outputs": []
    },
    {
      "cell_type": "code",
      "metadata": {},
      "source": [
        "A @ B  # python 3.5 above"
      ],
      "id": "95aba50c",
      "execution_count": null,
      "outputs": []
    },
    {
      "cell_type": "code",
      "metadata": {},
      "source": [
        "B @ A"
      ],
      "id": "efad5c30",
      "execution_count": null,
      "outputs": []
    },
    {
      "cell_type": "markdown",
      "metadata": {},
      "source": [
        "---"
      ],
      "id": "9c2d8324"
    },
    {
      "cell_type": "code",
      "metadata": {},
      "source": [
        "A = np.arange(9).reshape(3, 3)\n",
        "A"
      ],
      "id": "75bdac84",
      "execution_count": null,
      "outputs": []
    },
    {
      "cell_type": "code",
      "metadata": {},
      "source": [
        "x = np.arange(3)\n",
        "x"
      ],
      "id": "6a1f62fc",
      "execution_count": null,
      "outputs": []
    },
    {
      "cell_type": "code",
      "metadata": {},
      "source": [
        "np.dot(A, x)"
      ],
      "id": "28c47412",
      "execution_count": null,
      "outputs": []
    },
    {
      "cell_type": "code",
      "metadata": {},
      "source": [
        "A.dot(x)"
      ],
      "id": "4a7abb8b",
      "execution_count": null,
      "outputs": []
    },
    {
      "cell_type": "code",
      "metadata": {},
      "source": [
        "A @ x"
      ],
      "id": "2c69139f",
      "execution_count": null,
      "outputs": []
    },
    {
      "cell_type": "markdown",
      "metadata": {},
      "source": [
        "---"
      ],
      "id": "b01aa8b4"
    },
    {
      "cell_type": "code",
      "metadata": {},
      "source": [
        "A = np.random.rand(3, 3)\n",
        "B = np.random.rand(3, 3)"
      ],
      "id": "3cedbfcf",
      "execution_count": null,
      "outputs": []
    },
    {
      "cell_type": "code",
      "metadata": {},
      "source": [
        "Ap = np.dot(B, np.dot(A, np.linalg.inv(B)))"
      ],
      "id": "5293294a",
      "execution_count": null,
      "outputs": []
    },
    {
      "cell_type": "code",
      "metadata": {},
      "source": [
        "Ap = B.dot(A.dot(np.linalg.inv(B)))"
      ],
      "id": "2d9eda1e",
      "execution_count": null,
      "outputs": []
    },
    {
      "cell_type": "code",
      "metadata": {},
      "source": [
        "B @ A @ np.linalg.inv(B)"
      ],
      "id": "b7b308c1",
      "execution_count": null,
      "outputs": []
    },
    {
      "cell_type": "markdown",
      "metadata": {},
      "source": [
        "---"
      ],
      "id": "7906c49c"
    },
    {
      "cell_type": "code",
      "metadata": {},
      "source": [
        "np.inner(x, x)"
      ],
      "id": "1025f225",
      "execution_count": null,
      "outputs": []
    },
    {
      "cell_type": "code",
      "metadata": {},
      "source": [
        "np.dot(x, x)"
      ],
      "id": "c1ae8ff9",
      "execution_count": null,
      "outputs": []
    },
    {
      "cell_type": "code",
      "metadata": {},
      "source": [
        "y = x[:, np.newaxis]\n",
        "y"
      ],
      "id": "6e9695a5",
      "execution_count": null,
      "outputs": []
    },
    {
      "cell_type": "code",
      "metadata": {},
      "source": [
        "np.dot(y.T, y)"
      ],
      "id": "eade63f6",
      "execution_count": null,
      "outputs": []
    },
    {
      "cell_type": "markdown",
      "metadata": {},
      "source": [
        "---\n",
        "\n",
        "* Given two vectors, $\\mathbf{a} = [a_0, a_1, ..., a_M]~$ and $~\\mathbf{b} = [b_0, b_1, ..., b_N]$, $~$the outer product is $\\mathbf{a}^T\\mathbf{b}$\n",
        "\n",
        "$$\\begin{pmatrix}\n",
        " a_0 b_0 & a_0b_1 & \\cdots & a_0 b_N \\\\\n",
        " a_1 b_0 & \\cdots & \\cdots & a_1 b_N \\\\\n",
        " \\vdots  & \\ddots &        & \\vdots  \\\\\n",
        " a_M b_0 &        & \\ddots & a_M b_N \\\\\n",
        " \\end{pmatrix}\n",
        "$$\n"
      ],
      "id": "e5acabfb"
    },
    {
      "cell_type": "code",
      "metadata": {},
      "source": [
        "x = np.array([1, 2, 3])"
      ],
      "id": "6260b139",
      "execution_count": null,
      "outputs": []
    },
    {
      "cell_type": "code",
      "metadata": {},
      "source": [
        "np.outer(x, x)"
      ],
      "id": "5ebe89d5",
      "execution_count": null,
      "outputs": []
    },
    {
      "cell_type": "code",
      "metadata": {},
      "source": [
        "np.kron(x, x)"
      ],
      "id": "e9b9f5a0",
      "execution_count": null,
      "outputs": []
    },
    {
      "cell_type": "code",
      "metadata": {},
      "source": [
        "np.kron(x[:, np.newaxis], x[np.newaxis, :])"
      ],
      "id": "8209612e",
      "execution_count": null,
      "outputs": []
    },
    {
      "cell_type": "code",
      "metadata": {},
      "source": [
        "np.kron(np.ones((2, 2)), np.identity(2))"
      ],
      "id": "4ccc87fd",
      "execution_count": null,
      "outputs": []
    },
    {
      "cell_type": "code",
      "metadata": {},
      "source": [
        "np.kron(np.identity(2), np.ones((2, 2)))"
      ],
      "id": "e9d709b4",
      "execution_count": null,
      "outputs": []
    },
    {
      "cell_type": "markdown",
      "metadata": {},
      "source": [
        "---"
      ],
      "id": "15293207"
    },
    {
      "cell_type": "code",
      "metadata": {},
      "source": [
        "x = np.array([1, 2, 3, 4])\n",
        "y = np.array([5, 6, 7, 8])"
      ],
      "id": "d7680168",
      "execution_count": null,
      "outputs": []
    },
    {
      "cell_type": "code",
      "metadata": {},
      "source": [
        "np.einsum(\"n,n\", x, y)"
      ],
      "id": "f48bc4b6",
      "execution_count": null,
      "outputs": []
    },
    {
      "cell_type": "code",
      "metadata": {},
      "source": [
        "np.inner(x, y)"
      ],
      "id": "4714cdd8",
      "execution_count": null,
      "outputs": []
    },
    {
      "cell_type": "code",
      "metadata": {},
      "source": [
        "A = np.arange(9).reshape(3, 3)\n",
        "B = A.T"
      ],
      "id": "a0dc5a7d",
      "execution_count": null,
      "outputs": []
    },
    {
      "cell_type": "code",
      "metadata": {},
      "source": [
        "np.einsum(\"mk,kn\", A, B)"
      ],
      "id": "ec1fdb52",
      "execution_count": null,
      "outputs": []
    },
    {
      "cell_type": "code",
      "metadata": {},
      "source": [
        "np.all(np.einsum(\"mk,kn\", A, B) == np.dot(A, B))"
      ],
      "id": "3de1918a",
      "execution_count": null,
      "outputs": []
    }
  ],
  "metadata": {
    "kernelspec": {
      "name": "python3",
      "language": "python",
      "display_name": "Python 3 (ipykernel)",
      "path": "/opt/miniconda3/share/jupyter/kernels/python3"
    }
  },
  "nbformat": 4,
  "nbformat_minor": 5
}