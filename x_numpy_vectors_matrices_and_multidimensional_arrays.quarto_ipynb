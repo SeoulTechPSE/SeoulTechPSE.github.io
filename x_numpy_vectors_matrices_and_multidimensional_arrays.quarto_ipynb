{
  "cells": [
    {
      "cell_type": "markdown",
      "metadata": {},
      "source": [
        "---\n",
        "jupyter: python3\n",
        "---\n",
        "\n",
        "# Numpy: Vectors, Matrices, and Multidimensional Arrays {#sec-numpy}\n",
        "\n",
        "$~$\n",
        "\n",
        "[![](./figures/numpy_logo.png){width=\"30%\" fig-align=\"center\"}](https://numpy.org/doc/stable/)\n",
        "\n",
        "$~$\n",
        "\n",
        "## Importing numpy"
      ],
      "id": "c6c86673"
    },
    {
      "cell_type": "code",
      "metadata": {},
      "source": [
        "import numpy as np\n",
        "\n",
        "print(\"numpy: \", np.__version__)"
      ],
      "id": "e4dd6ee8",
      "execution_count": null,
      "outputs": []
    },
    {
      "cell_type": "markdown",
      "metadata": {},
      "source": [
        "* [_show_array.py](_show_array.py)\n",
        "* `show_array()`\n",
        "* `show_array_aggregation()`"
      ],
      "id": "88817d13"
    },
    {
      "cell_type": "code",
      "metadata": {},
      "source": [
        "#| echo: false\n",
        "import numpy as np\n",
        "\n",
        "import matplotlib as mpl\n",
        "import matplotlib.pyplot as plt\n",
        "\n",
        "def show_array(shape, sel, filename=None):\n",
        "    \"\"\"\n",
        "    Visualize indexing of arrays\n",
        "    \"\"\"\n",
        "    \n",
        "    data = np.zeros(shape)\n",
        "    exec(f'data[{sel}] = 1')\n",
        "    \n",
        "    fig, ax = plt.subplots(1, 1, figsize=shape)\n",
        "    ax.set_frame_on(False)\n",
        "\n",
        "    ax.patch.set_facecolor('white')\n",
        "    ax.xaxis.set_major_locator(plt.NullLocator())\n",
        "    ax.yaxis.set_major_locator(plt.NullLocator())\n",
        "    \n",
        "    size = 0.96\n",
        "    for (m, n), w in np.ndenumerate(data):\n",
        "        color = '#1199ff' if w > 0 else '#eeeeee'\n",
        "        rect = plt.Rectangle([n -size/2, m -size/2], \n",
        "                             size, size, \n",
        "                             facecolor=color,\n",
        "                             edgecolor=color)\n",
        "        ax.add_patch(rect)\n",
        "        ax.text(n, m, f'({m}, {n})', ha='center',\n",
        "                                     va='center',\n",
        "                                     fontsize=12)\n",
        "    ax.autoscale_view()\n",
        "    ax.invert_yaxis()\n",
        "    \n",
        "    if sel ==':, :':\n",
        "        ax.set_title('data\\n', fontsize=12)\n",
        "    else:\n",
        "        ax.set_title(f'data[{sel}]\\n', fontsize=12)\n",
        "        \n",
        "    if filename:\n",
        "        fig.savefig(filename + \".png\", dpi=200)\n",
        "        fig.savefig(filename + \".svg\")\n",
        "        fig.savefig(filename + \".pdf\")\n",
        "\n",
        "\n",
        "def show_array_broadcasting(a, b, filename=None):\n",
        "    \"\"\"\n",
        "    Visualize broadcasting of arrays\n",
        "    \"\"\"\n",
        " \n",
        "    colors = ['#1199ff', '#eeeeee']\n",
        "    \n",
        "    fig, axes = plt.subplots(1, 3, figsize=(8, 2.7))\n",
        "\n",
        "    # -- a --\n",
        "    data = a\n",
        "    \n",
        "    ax = axes[0]\n",
        "    ax.set_frame_on(False)    \n",
        "    ax.patch.set_facecolor('white')\n",
        "    ax.xaxis.set_major_locator(plt.NullLocator())\n",
        "    ax.yaxis.set_major_locator(plt.NullLocator())\n",
        "\n",
        "    size = 0.96\n",
        "    color = colors[0]\n",
        "    for (m, n), w in np.ndenumerate(data):\n",
        "\n",
        "        rect = plt.Rectangle([n -size/2, m -size/2],\n",
        "                             size, size,\n",
        "                             facecolor=color,\n",
        "                             edgecolor=color)\n",
        "        ax.add_patch(rect)\n",
        "        ax.text(n, m, f'{data[m, n]}', ha='center', va='center', fontsize=14)        \n",
        "\n",
        "    ax.text(3, 1, \"+\", ha='center', va='center', fontsize=22)        \n",
        "    ax.autoscale_view()\n",
        "    ax.invert_yaxis()\n",
        "\n",
        "    # -- b --\n",
        "    data = np.zeros_like(a) + b\n",
        "\n",
        "    ax = axes[1]\n",
        "    ax.set_frame_on(False)     \n",
        "    ax.patch.set_facecolor('white')\n",
        "    ax.xaxis.set_major_locator(plt.NullLocator())\n",
        "    ax.yaxis.set_major_locator(plt.NullLocator())\n",
        "    \n",
        "    size = 0.96\n",
        "    for (m, n), w in np.ndenumerate(data):\n",
        "        \n",
        "        if (np.argmax(b.T.shape) == 0 and m == 0) or (np.argmax(b.T.shape) == 1 and n == 0):\n",
        "            color = colors[0]\n",
        "        else:\n",
        "            color = colors[1]\n",
        "            \n",
        "        rect = plt.Rectangle([n -size/2, m -size/2],\n",
        "                             size, size,\n",
        "                             facecolor=color,\n",
        "                             edgecolor=color)\n",
        "        ax.add_patch(rect)\n",
        "\n",
        "        ax.text(m, n, f'{data[n, m]}', ha='center', va='center', fontsize=14)        \n",
        "\n",
        "    ax.text(3, 1, \"=\", ha='center', va='center', fontsize=22)        \n",
        "    ax.autoscale_view()\n",
        "    ax.invert_yaxis()\n",
        "\n",
        "    # -- c --\n",
        "    data = a + b\n",
        "    \n",
        "    ax = axes[2]\n",
        "    ax.set_frame_on(False) \n",
        "    ax.patch.set_facecolor('white')\n",
        "    ax.xaxis.set_major_locator(plt.NullLocator())\n",
        "    ax.yaxis.set_major_locator(plt.NullLocator())\n",
        "  \n",
        "    size = 0.96\n",
        "    color = colors[0]\n",
        "    for (m, n), w in np.ndenumerate(data):\n",
        "\n",
        "        rect = plt.Rectangle([n -size/2, m -size/2],\n",
        "                             size, size,\n",
        "                             facecolor=color,\n",
        "                             edgecolor=color)\n",
        "        ax.add_patch(rect)\n",
        "        \n",
        "        ax.text(m, n, f'{data[n, m]}', ha='center', va='center', fontsize=14)        \n",
        "\n",
        "    ax.autoscale_view()\n",
        "    ax.invert_yaxis()\n",
        "    \n",
        "    #fig.tight_layout()\n",
        "        \n",
        "    if filename:\n",
        "        fig.savefig(filename + \".png\", dpi=200)\n",
        "        fig.savefig(filename + \".svg\")\n",
        "        fig.savefig(filename + \".pdf\")        \n",
        "\n",
        "\n",
        "\n",
        "def show_array_aggregation(data, axis, filename=None):\n",
        "    \"\"\"\n",
        "    Visualize aggregation of arrays\n",
        "    \"\"\"\n",
        "\n",
        "    colors = ['#1199ff', '#ee3311', '#66ff22']\n",
        "    \n",
        "    fig, axes = plt.subplots(2, 1, figsize=(3, 6))\n",
        "    \n",
        "    # -- data --\n",
        "    ax = axes[0]\n",
        "    ax.set_frame_on(False)\n",
        "    ax.patch.set_facecolor('white')\n",
        "    ax.xaxis.set_major_locator(plt.NullLocator())\n",
        "    ax.yaxis.set_major_locator(plt.NullLocator())\n",
        "       \n",
        "    size = 0.96\n",
        "    for (m, n), w in np.ndenumerate(data):\n",
        "\n",
        "        if axis is None:\n",
        "            color = colors[0]\n",
        "        elif axis == 1:\n",
        "            color = colors[m]\n",
        "        else:\n",
        "            color = colors[n]\n",
        "            \n",
        "        rect = plt.Rectangle([n -size/2, m -size/2],\n",
        "                             size, size,\n",
        "                             facecolor=color,\n",
        "                             edgecolor=color)\n",
        "        ax.add_patch(rect)\n",
        "\n",
        "        ax.text(n, m, f'{data[m, n]}', ha='center', va='center', fontsize=14)\n",
        "        \n",
        "    ax.autoscale_view()\n",
        "    ax.invert_yaxis()\n",
        "    ax.set_title(\"data\", fontsize=12)\n",
        "\n",
        "    # -- data aggregation -- \n",
        "    \n",
        "    if axis is None:\n",
        "        adata = np.atleast_2d(data.sum())\n",
        "    elif axis == 0:\n",
        "        adata = data.sum(axis=axis)[:, np.newaxis]\n",
        "    else:\n",
        "        adata = data.sum(axis=axis)[:, np.newaxis]     \n",
        "   \n",
        "    ax = axes[1]\n",
        "    ax.set_frame_on(False)\n",
        "    ax.patch.set_facecolor('white')\n",
        "    ax.xaxis.set_major_locator(plt.NullLocator())\n",
        "    ax.yaxis.set_major_locator(plt.NullLocator())\n",
        "    \n",
        "    size = 1.0\n",
        "    for (m, n), w in np.ndenumerate(data):\n",
        "        color = 'white'\n",
        "        rect = plt.Rectangle([n -size/2, m -size/2],\n",
        "                         size, size,\n",
        "                         facecolor=color,\n",
        "                         edgecolor=color)\n",
        "        ax.add_patch(rect)        \n",
        "    \n",
        "    size = 0.96\n",
        "    for (m, n), w in np.ndenumerate(adata):\n",
        "\n",
        "        if axis is None:\n",
        "            color = colors[0] \n",
        "            rect = plt.Rectangle([1 +m -size/2, n -size/2],\n",
        "                         size, size,\n",
        "                         facecolor=color,\n",
        "                         edgecolor=color)\n",
        "            ax.add_patch(rect)\n",
        "            \n",
        "            ax.text(1 +m, n, f'{adata[m, n]}', ha='center', va='center', fontsize=14)\n",
        "            \n",
        "        if axis == 0:\n",
        "            color = colors[m]\n",
        "            rect = plt.Rectangle([m -size/2, n -size/2],\n",
        "                                 size, size,\n",
        "                                 facecolor=color,\n",
        "                                 edgecolor=color)\n",
        "            ax.add_patch(rect)\n",
        "     \n",
        "            ax.text(m, n, f'{adata[m, n]}', ha='center', va='center', fontsize=14)\n",
        "        \n",
        "        if axis == 1:\n",
        "            color = colors[m]\n",
        "            rect = plt.Rectangle([1 +n -size/2, m -size/2],\n",
        "                                 size, size,\n",
        "                                 facecolor=color,\n",
        "                                 edgecolor=color)\n",
        "            ax.add_patch(rect)\n",
        "     \n",
        "            ax.text(1 +n, m, f'{adata[m, n]}', ha='center', va='center', fontsize=14)        \n",
        "\n",
        "    ax.autoscale_view()\n",
        "    ax.invert_yaxis()\n",
        "    \n",
        "    if axis is not None:\n",
        "        ax.set_title(f'data.sum(axis={axis})', fontsize=12)\n",
        "    else:\n",
        "        ax.set_title('data.sum()', fontsize=12)\n",
        "    \n",
        "    #fig.tight_layout()\n",
        "    \n",
        "    if filename:\n",
        "        fig.savefig(filename + \".png\", dpi=200)\n",
        "        fig.savefig(filename + \".svg\")\n",
        "        fig.savefig(filename + \".pdf\")"
      ],
      "id": "dba0c1b8",
      "execution_count": null,
      "outputs": []
    },
    {
      "cell_type": "markdown",
      "metadata": {},
      "source": [
        "## The Numpy array object"
      ],
      "id": "2417443f"
    },
    {
      "cell_type": "code",
      "metadata": {},
      "source": [
        "data = np.array([[1, 2], [3, 4], [5, 6]])\n",
        "data"
      ],
      "id": "93fc6dc6",
      "execution_count": null,
      "outputs": []
    },
    {
      "cell_type": "code",
      "metadata": {},
      "source": [
        "type(data)"
      ],
      "id": "de528bff",
      "execution_count": null,
      "outputs": []
    },
    {
      "cell_type": "code",
      "metadata": {},
      "source": [
        "data.ndim"
      ],
      "id": "30f94e05",
      "execution_count": null,
      "outputs": []
    },
    {
      "cell_type": "code",
      "metadata": {},
      "source": [
        "data.shape"
      ],
      "id": "2b2c94ee",
      "execution_count": null,
      "outputs": []
    },
    {
      "cell_type": "code",
      "metadata": {},
      "source": [
        "data.size"
      ],
      "id": "63ed9bd6",
      "execution_count": null,
      "outputs": []
    },
    {
      "cell_type": "code",
      "metadata": {},
      "source": [
        "data.dtype"
      ],
      "id": "8005b03a",
      "execution_count": null,
      "outputs": []
    },
    {
      "cell_type": "code",
      "metadata": {},
      "source": [
        "data.nbytes"
      ],
      "id": "61654222",
      "execution_count": null,
      "outputs": []
    },
    {
      "cell_type": "markdown",
      "metadata": {},
      "source": [
        "## Data types"
      ],
      "id": "1d34eb84"
    },
    {
      "cell_type": "code",
      "metadata": {},
      "source": [
        "d0 = np.array([1, 2, 3], dtype=int)\n",
        "d0"
      ],
      "id": "17096e65",
      "execution_count": null,
      "outputs": []
    },
    {
      "cell_type": "code",
      "metadata": {},
      "source": [
        "d1 = np.array([1, 2, 3], dtype=float)\n",
        "d1"
      ],
      "id": "3c4608a7",
      "execution_count": null,
      "outputs": []
    },
    {
      "cell_type": "code",
      "metadata": {},
      "source": [
        "d2 = np.array([1, 2, 3], dtype=complex)\n",
        "d2"
      ],
      "id": "c35d8094",
      "execution_count": null,
      "outputs": []
    },
    {
      "cell_type": "markdown",
      "metadata": {},
      "source": [
        "### Type casting"
      ],
      "id": "879136cd"
    },
    {
      "cell_type": "code",
      "metadata": {},
      "source": [
        "data = np.array([1, 2, 3], dtype=float)\n",
        "data"
      ],
      "id": "2b4bbb62",
      "execution_count": null,
      "outputs": []
    },
    {
      "cell_type": "code",
      "metadata": {},
      "source": [
        "data = np.array(data, dtype=int)\n",
        "data"
      ],
      "id": "c7c65cd8",
      "execution_count": null,
      "outputs": []
    },
    {
      "cell_type": "code",
      "metadata": {},
      "source": [
        "data = np.array([1.6, 2, 3], dtype=float)\n",
        "data.astype(int)"
      ],
      "id": "40ab8348",
      "execution_count": null,
      "outputs": []
    },
    {
      "cell_type": "markdown",
      "metadata": {},
      "source": [
        "### Type promotion"
      ],
      "id": "1046369d"
    },
    {
      "cell_type": "code",
      "metadata": {},
      "source": [
        "d1 = np.array([1, 2, 3], dtype=float)\n",
        "d2 = np.array([1, 2, 3], dtype=complex)"
      ],
      "id": "77408382",
      "execution_count": null,
      "outputs": []
    },
    {
      "cell_type": "code",
      "metadata": {},
      "source": [
        "d1 + d2"
      ],
      "id": "e7438356",
      "execution_count": null,
      "outputs": []
    },
    {
      "cell_type": "code",
      "metadata": {},
      "source": [
        "(d1 + d2).dtype"
      ],
      "id": "d4cc0d64",
      "execution_count": null,
      "outputs": []
    },
    {
      "cell_type": "markdown",
      "metadata": {},
      "source": [
        "### Type-depending operation"
      ],
      "id": "3b53b64a"
    },
    {
      "cell_type": "code",
      "metadata": {},
      "source": [
        "np.sqrt(np.array([-1, 0, 1]))"
      ],
      "id": "e72a1831",
      "execution_count": null,
      "outputs": []
    },
    {
      "cell_type": "code",
      "metadata": {},
      "source": [
        "np.sqrt(np.array([-1, 0, 1], dtype=complex))"
      ],
      "id": "735ee8d5",
      "execution_count": null,
      "outputs": []
    },
    {
      "cell_type": "markdown",
      "metadata": {},
      "source": [
        "### Real and imaginary parts"
      ],
      "id": "5a12927d"
    },
    {
      "cell_type": "code",
      "metadata": {},
      "source": [
        "data = np.array([1, 2, 3], dtype=complex)\n",
        "data"
      ],
      "id": "0ffa7cb0",
      "execution_count": null,
      "outputs": []
    },
    {
      "cell_type": "code",
      "metadata": {},
      "source": [
        "data.real"
      ],
      "id": "9efe2e8a",
      "execution_count": null,
      "outputs": []
    },
    {
      "cell_type": "code",
      "metadata": {},
      "source": [
        "data.imag"
      ],
      "id": "7cbcd634",
      "execution_count": null,
      "outputs": []
    },
    {
      "cell_type": "code",
      "metadata": {},
      "source": [
        "np.real(data)"
      ],
      "id": "fdc4e1ca",
      "execution_count": null,
      "outputs": []
    },
    {
      "cell_type": "code",
      "metadata": {},
      "source": [
        "np.imag(data)"
      ],
      "id": "4b112430",
      "execution_count": null,
      "outputs": []
    },
    {
      "cell_type": "markdown",
      "metadata": {},
      "source": [
        "### Order of array data in memory\n",
        "\n",
        "* <font color=\"red\">Multidimensional arrays are stored as contiguous data in memory</font>. $~$Consider the case of a two-dimensional array, $~$containing rows and columns: $~$One possible way to store this array as a consecutive sequence of values is to store the rows after each other, and another equally valid approach is to store the columns one after another\n",
        "\n",
        "* The former is called <font color=\"green\">row-major format</font> and the latter is <font color=\"green\">column-major format</font>. Whether to use row-major or column-major is a matter of conventions, and the **row-major format** is used for example in the **C** programming language, and **Fortran** uses the **column-major format**\n",
        "\n",
        "* A `numpy` array can be specified to be stored in row-major format, using the keyword argument `order='C'`, and column-major format, using the keyword argument `order='F'`, when the array is created or reshaped. <font color=\"blue\">The default format is *row-major*</font> \n",
        "\n",
        "* In general, the `numpy` array attribute `ndarray.strides` defines exactly how this mapping is done. The `strides` attribute is a tuple of the same length as the number of axes (dimensions) of the array. Each value in `strides` is the factor by which the index for the corresponding axis is multiplied when calculating the *memory offset (in bytes)* for a given index expression\n"
      ],
      "id": "89329b99"
    },
    {
      "cell_type": "code",
      "metadata": {},
      "source": [
        "data = np.array([[1, 2, 3], [4, 5, 6]], dtype=np.int32)\n",
        "data"
      ],
      "id": "182a2a07",
      "execution_count": null,
      "outputs": []
    },
    {
      "cell_type": "code",
      "metadata": {},
      "source": [
        "data.strides"
      ],
      "id": "834eb31b",
      "execution_count": null,
      "outputs": []
    },
    {
      "cell_type": "code",
      "metadata": {},
      "source": [
        "data = np.array([[1, 2, 3], [4, 5, 6]], dtype=np.int32, order='F')\n",
        "data"
      ],
      "id": "6cc71174",
      "execution_count": null,
      "outputs": []
    },
    {
      "cell_type": "code",
      "metadata": {},
      "source": [
        "data.strides"
      ],
      "id": "b4b67830",
      "execution_count": null,
      "outputs": []
    },
    {
      "cell_type": "markdown",
      "metadata": {},
      "source": [
        "## Creating arrays\n",
        "\n",
        "### Arrays created from lists and other array-like objects"
      ],
      "id": "fd94b2a4"
    },
    {
      "cell_type": "code",
      "metadata": {},
      "source": [
        "data = np.array([1, 2, 3, 4])\n",
        "data.ndim, data.shape"
      ],
      "id": "1dd2052b",
      "execution_count": null,
      "outputs": []
    },
    {
      "cell_type": "code",
      "metadata": {},
      "source": [
        "data = np.array(((1, 2), (3, 4)))\n",
        "data.ndim, data.shape"
      ],
      "id": "76a7c502",
      "execution_count": null,
      "outputs": []
    },
    {
      "cell_type": "markdown",
      "metadata": {},
      "source": [
        "### Arrays filled with constant values"
      ],
      "id": "0c0051d1"
    },
    {
      "cell_type": "code",
      "metadata": {},
      "source": [
        "np.zeros((2, 3))"
      ],
      "id": "1af05ca2",
      "execution_count": null,
      "outputs": []
    },
    {
      "cell_type": "code",
      "metadata": {},
      "source": [
        "data = np.ones(4)\n",
        "data, data.dtype"
      ],
      "id": "0a555a46",
      "execution_count": null,
      "outputs": []
    },
    {
      "cell_type": "code",
      "metadata": {},
      "source": [
        "5.4 * np.ones(10)"
      ],
      "id": "76464bfe",
      "execution_count": null,
      "outputs": []
    },
    {
      "cell_type": "code",
      "metadata": {},
      "source": [
        "np.full(10, 5.4) # slightly more efficient"
      ],
      "id": "71deb5f1",
      "execution_count": null,
      "outputs": []
    },
    {
      "cell_type": "code",
      "metadata": {},
      "source": [
        "x1 = np.empty(5)\n",
        "x1.fill(3.0)\n",
        "x1"
      ],
      "id": "6aacabc2",
      "execution_count": null,
      "outputs": []
    },
    {
      "cell_type": "markdown",
      "metadata": {},
      "source": [
        "### Arrays filled with incremental sequences"
      ],
      "id": "c3937120"
    },
    {
      "cell_type": "code",
      "metadata": {},
      "source": [
        "np.arange(0, 11, 1)"
      ],
      "id": "bcb69904",
      "execution_count": null,
      "outputs": []
    },
    {
      "cell_type": "code",
      "metadata": {},
      "source": [
        "np.linspace(0, 10, 11)  # generally recommended"
      ],
      "id": "03584cb0",
      "execution_count": null,
      "outputs": []
    },
    {
      "cell_type": "markdown",
      "metadata": {},
      "source": [
        "### Arrays filled with logarithmic sequences"
      ],
      "id": "a71c82a2"
    },
    {
      "cell_type": "code",
      "metadata": {},
      "source": [
        "np.logspace(0, 2, 10)  # 5 data points between 10**0=1 to 10**2=100"
      ],
      "id": "a6042fd4",
      "execution_count": null,
      "outputs": []
    },
    {
      "cell_type": "markdown",
      "metadata": {},
      "source": [
        "### Mesh grid arrays"
      ],
      "id": "a254d52f"
    },
    {
      "cell_type": "code",
      "metadata": {},
      "source": [
        "x = np.array([-1, 0, 1])\n",
        "y = np.array([-2, 0, 2])\n",
        "\n",
        "X, Y = np.meshgrid(x, y)"
      ],
      "id": "493eaa82",
      "execution_count": null,
      "outputs": []
    },
    {
      "cell_type": "code",
      "metadata": {},
      "source": [
        "X"
      ],
      "id": "64170bef",
      "execution_count": null,
      "outputs": []
    },
    {
      "cell_type": "code",
      "metadata": {},
      "source": [
        "Y"
      ],
      "id": "7f23aec9",
      "execution_count": null,
      "outputs": []
    },
    {
      "cell_type": "code",
      "metadata": {},
      "source": [
        "Z = (X + Y)**2\n",
        "Z"
      ],
      "id": "fcd98d44",
      "execution_count": null,
      "outputs": []
    },
    {
      "cell_type": "markdown",
      "metadata": {},
      "source": [
        "### Creating uninitialized arrays"
      ],
      "id": "bfa73e1e"
    },
    {
      "cell_type": "code",
      "metadata": {},
      "source": [
        "np.empty(3, dtype=float)"
      ],
      "id": "8e301415",
      "execution_count": null,
      "outputs": []
    },
    {
      "cell_type": "markdown",
      "metadata": {},
      "source": [
        "### Creating arrays with properties of other arrays"
      ],
      "id": "9337d882"
    },
    {
      "cell_type": "code",
      "metadata": {},
      "source": [
        "def f(x):    \n",
        "    y = np.ones_like(x)    # compute with x and y    \n",
        "    return y\n",
        "\n",
        "x = np.array([[1, 2, 3], [4, 5, 6]])\n",
        "y = f(x)\n",
        "y"
      ],
      "id": "9d704eed",
      "execution_count": null,
      "outputs": []
    },
    {
      "cell_type": "markdown",
      "metadata": {},
      "source": [
        "### Creating matrix arrays"
      ],
      "id": "69386ead"
    },
    {
      "cell_type": "code",
      "metadata": {},
      "source": [
        "np.identity(4)"
      ],
      "id": "a19298d8",
      "execution_count": null,
      "outputs": []
    },
    {
      "cell_type": "code",
      "metadata": {},
      "source": [
        "np.eye(4, k=1)"
      ],
      "id": "c85dd8c5",
      "execution_count": null,
      "outputs": []
    },
    {
      "cell_type": "code",
      "metadata": {},
      "source": [
        "np.eye(4, k=-1)"
      ],
      "id": "61d70733",
      "execution_count": null,
      "outputs": []
    },
    {
      "cell_type": "code",
      "metadata": {},
      "source": [
        "np.diag(np.arange(0, 20, 5))"
      ],
      "id": "2f8819c2",
      "execution_count": null,
      "outputs": []
    },
    {
      "cell_type": "markdown",
      "metadata": {},
      "source": [
        "## Indexing and slicing\n",
        "\n",
        "### One-dimensional arrays"
      ],
      "id": "3ba9b494"
    },
    {
      "cell_type": "code",
      "metadata": {},
      "source": [
        "a = np.arange(0, 11)\n",
        "a"
      ],
      "id": "f16ec134",
      "execution_count": null,
      "outputs": []
    },
    {
      "cell_type": "code",
      "metadata": {},
      "source": [
        "a[0]"
      ],
      "id": "b8c6498a",
      "execution_count": null,
      "outputs": []
    },
    {
      "cell_type": "code",
      "metadata": {},
      "source": [
        "a[-1]"
      ],
      "id": "fe31c3b4",
      "execution_count": null,
      "outputs": []
    },
    {
      "cell_type": "code",
      "metadata": {},
      "source": [
        "a[4]"
      ],
      "id": "b82a161e",
      "execution_count": null,
      "outputs": []
    },
    {
      "cell_type": "markdown",
      "metadata": {},
      "source": [
        "---"
      ],
      "id": "3418f573"
    },
    {
      "cell_type": "code",
      "metadata": {},
      "source": [
        "a[1:-1]"
      ],
      "id": "e18946b1",
      "execution_count": null,
      "outputs": []
    },
    {
      "cell_type": "code",
      "metadata": {},
      "source": [
        "a[1:-1:2]"
      ],
      "id": "efea3c77",
      "execution_count": null,
      "outputs": []
    },
    {
      "cell_type": "markdown",
      "metadata": {},
      "source": [
        "---"
      ],
      "id": "ea625436"
    },
    {
      "cell_type": "code",
      "metadata": {},
      "source": [
        "a[:5]"
      ],
      "id": "6e1e943d",
      "execution_count": null,
      "outputs": []
    },
    {
      "cell_type": "code",
      "metadata": {},
      "source": [
        "a[-5:]"
      ],
      "id": "d1881743",
      "execution_count": null,
      "outputs": []
    },
    {
      "cell_type": "code",
      "metadata": {},
      "source": [
        "a[::-2]"
      ],
      "id": "46119fe6",
      "execution_count": null,
      "outputs": []
    },
    {
      "cell_type": "markdown",
      "metadata": {},
      "source": [
        "### Multidimensional arrays"
      ],
      "id": "d52ec767"
    },
    {
      "cell_type": "code",
      "metadata": {},
      "source": [
        "f = lambda m, n: n + 10*m"
      ],
      "id": "fdd5bc99",
      "execution_count": null,
      "outputs": []
    },
    {
      "cell_type": "code",
      "metadata": {},
      "source": [
        "# please search for numpy.fromfunction at google\n",
        "A = np.fromfunction(f, (6, 6), dtype=int)\n",
        "A  "
      ],
      "id": "92236a5a",
      "execution_count": null,
      "outputs": []
    },
    {
      "cell_type": "code",
      "metadata": {},
      "source": [
        "A[:, 1]  # the second column"
      ],
      "id": "d60dc001",
      "execution_count": null,
      "outputs": []
    },
    {
      "cell_type": "code",
      "metadata": {},
      "source": [
        "A[1, :]  # the second row"
      ],
      "id": "68941962",
      "execution_count": null,
      "outputs": []
    },
    {
      "cell_type": "code",
      "metadata": {},
      "source": [
        "A[:3, :3]"
      ],
      "id": "22b6c98b",
      "execution_count": null,
      "outputs": []
    },
    {
      "cell_type": "code",
      "metadata": {},
      "source": [
        "A[3:, :3]"
      ],
      "id": "59dbbd7c",
      "execution_count": null,
      "outputs": []
    },
    {
      "cell_type": "code",
      "metadata": {},
      "source": [
        "A[::2, ::2]"
      ],
      "id": "904381ad",
      "execution_count": null,
      "outputs": []
    },
    {
      "cell_type": "code",
      "metadata": {},
      "source": [
        "A[1::2, 1::3]"
      ],
      "id": "73fefd19",
      "execution_count": null,
      "outputs": []
    },
    {
      "cell_type": "markdown",
      "metadata": {},
      "source": [
        "### Views\n",
        "\n",
        "* Subarrays that are extracted from arrays using slice operations are **alternative views** of the same underlying array data. That is, $~$they are arrays that refer to the same data in memory as the original array, $~$but with a different `strides` configuration\n",
        "\n",
        "* When elements in a view are assigned new values, $~$the values of the original\n",
        "array are therefore also updated. For example,"
      ],
      "id": "d9038fa2"
    },
    {
      "cell_type": "code",
      "metadata": {},
      "source": [
        "B = A[1:5, 1:5]\n",
        "B"
      ],
      "id": "543b4bfb",
      "execution_count": null,
      "outputs": []
    },
    {
      "cell_type": "code",
      "metadata": {},
      "source": [
        "B[:, :] = 0\n",
        "A"
      ],
      "id": "881aa507",
      "execution_count": null,
      "outputs": []
    },
    {
      "cell_type": "markdown",
      "metadata": {},
      "source": [
        "* When a copy rather than a view is needed, the view can be copied explicitly by using the `copy` method of the `ndarray` instance"
      ],
      "id": "38859f98"
    },
    {
      "cell_type": "code",
      "metadata": {},
      "source": [
        "C = B[1:3, 1:3].copy()\n",
        "C"
      ],
      "id": "df42354b",
      "execution_count": null,
      "outputs": []
    },
    {
      "cell_type": "code",
      "metadata": {},
      "source": [
        "C[:, :] = 1\n",
        "C"
      ],
      "id": "5e02f0db",
      "execution_count": null,
      "outputs": []
    },
    {
      "cell_type": "code",
      "metadata": {},
      "source": [
        "B"
      ],
      "id": "ab72c1e9",
      "execution_count": null,
      "outputs": []
    },
    {
      "cell_type": "markdown",
      "metadata": {},
      "source": [
        "### Fancy indexing and boolean-valued indexing"
      ],
      "id": "76acca00"
    },
    {
      "cell_type": "code",
      "metadata": {},
      "source": [
        "A = np.linspace(0, 1, 11)\n",
        "A"
      ],
      "id": "432da2b4",
      "execution_count": null,
      "outputs": []
    },
    {
      "cell_type": "code",
      "metadata": {},
      "source": [
        "A[np.array([0, 2, 4])]"
      ],
      "id": "b20f03d6",
      "execution_count": null,
      "outputs": []
    },
    {
      "cell_type": "code",
      "metadata": {},
      "source": [
        "A[[0, 2, 4]]"
      ],
      "id": "22bcb66c",
      "execution_count": null,
      "outputs": []
    },
    {
      "cell_type": "markdown",
      "metadata": {},
      "source": [
        "---"
      ],
      "id": "69ec1c06"
    },
    {
      "cell_type": "code",
      "metadata": {},
      "source": [
        "A > 0.5"
      ],
      "id": "e2b10d08",
      "execution_count": null,
      "outputs": []
    },
    {
      "cell_type": "code",
      "metadata": {},
      "source": [
        "A[A > 0.5]"
      ],
      "id": "2781547d",
      "execution_count": null,
      "outputs": []
    },
    {
      "cell_type": "markdown",
      "metadata": {},
      "source": [
        "* Unlike arrays created by using slices, $~$**the arrays returned using fancy indexing and Boolean-valued\n",
        "indexing are not views**, $~$but rather new independent arrays"
      ],
      "id": "1c0bee7d"
    },
    {
      "cell_type": "code",
      "metadata": {},
      "source": [
        "A = np.arange(10)\n",
        "indices = [2, 4, 6]"
      ],
      "id": "43e03d60",
      "execution_count": null,
      "outputs": []
    },
    {
      "cell_type": "code",
      "metadata": {},
      "source": [
        "B = A[indices]"
      ],
      "id": "486bf69a",
      "execution_count": null,
      "outputs": []
    },
    {
      "cell_type": "code",
      "metadata": {},
      "source": [
        "B[0] = -1\n",
        "A"
      ],
      "id": "419a3df8",
      "execution_count": null,
      "outputs": []
    },
    {
      "cell_type": "code",
      "metadata": {},
      "source": [
        "A[indices] = -1\n",
        "A"
      ],
      "id": "610bd6c1",
      "execution_count": null,
      "outputs": []
    },
    {
      "cell_type": "markdown",
      "metadata": {},
      "source": [
        "---"
      ],
      "id": "8b5f70d3"
    },
    {
      "cell_type": "code",
      "metadata": {},
      "source": [
        "A = np.arange(10)"
      ],
      "id": "3a772de1",
      "execution_count": null,
      "outputs": []
    },
    {
      "cell_type": "code",
      "metadata": {},
      "source": [
        "B = A[A > 5]"
      ],
      "id": "81f17364",
      "execution_count": null,
      "outputs": []
    },
    {
      "cell_type": "code",
      "metadata": {},
      "source": [
        "B[0] = -1\n",
        "A"
      ],
      "id": "665c50aa",
      "execution_count": null,
      "outputs": []
    },
    {
      "cell_type": "code",
      "metadata": {},
      "source": [
        "A[A > 5] = -1\n",
        "A"
      ],
      "id": "e7dfea5a",
      "execution_count": null,
      "outputs": []
    },
    {
      "cell_type": "markdown",
      "metadata": {},
      "source": [
        "### Summery"
      ],
      "id": "86f19601"
    },
    {
      "cell_type": "code",
      "metadata": {},
      "source": [
        "show_array((4, 4), ':, :')"
      ],
      "id": "66dee9cb",
      "execution_count": null,
      "outputs": []
    },
    {
      "cell_type": "code",
      "metadata": {},
      "source": [
        "show_array((4, 4), '0')"
      ],
      "id": "ed1b21e7",
      "execution_count": null,
      "outputs": []
    },
    {
      "cell_type": "code",
      "metadata": {},
      "source": [
        "show_array((4, 4), '1, :')"
      ],
      "id": "2598605b",
      "execution_count": null,
      "outputs": []
    },
    {
      "cell_type": "code",
      "metadata": {},
      "source": [
        "show_array((4, 4), ':, 2')"
      ],
      "id": "2974d213",
      "execution_count": null,
      "outputs": []
    },
    {
      "cell_type": "markdown",
      "metadata": {},
      "source": [
        "---"
      ],
      "id": "2d3f2aef"
    },
    {
      "cell_type": "code",
      "metadata": {},
      "source": [
        "show_array((4, 4), '0:2, 0:2')"
      ],
      "id": "0fcd5e3a",
      "execution_count": null,
      "outputs": []
    },
    {
      "cell_type": "code",
      "metadata": {},
      "source": [
        "show_array((4, 4), '0:2, 2:4')"
      ],
      "id": "799169a9",
      "execution_count": null,
      "outputs": []
    },
    {
      "cell_type": "code",
      "metadata": {},
      "source": [
        "show_array((4, 4), '::2, ::2')"
      ],
      "id": "7ae01460",
      "execution_count": null,
      "outputs": []
    },
    {
      "cell_type": "code",
      "metadata": {},
      "source": [
        "show_array((4, 4), '1::2, 1::2')"
      ],
      "id": "9799a20e",
      "execution_count": null,
      "outputs": []
    },
    {
      "cell_type": "code",
      "metadata": {},
      "source": [
        "show_array((4, 4), ':, [0, 3]')"
      ],
      "id": "5ef31988",
      "execution_count": null,
      "outputs": []
    },
    {
      "cell_type": "code",
      "metadata": {},
      "source": [
        "show_array((4, 4), '[1, 3], [0, 3]')"
      ],
      "id": "86bb312c",
      "execution_count": null,
      "outputs": []
    },
    {
      "cell_type": "code",
      "metadata": {},
      "source": [
        "show_array((4, 4), ':, [False, True, True, False]')"
      ],
      "id": "67c0425f",
      "execution_count": null,
      "outputs": []
    },
    {
      "cell_type": "code",
      "metadata": {},
      "source": [
        "show_array((4, 4), '1:3, [False, True, True, False]')"
      ],
      "id": "53464fc0",
      "execution_count": null,
      "outputs": []
    },
    {
      "cell_type": "markdown",
      "metadata": {},
      "source": [
        "## Reshaping and resizing\n",
        "\n",
        "* Reshaping an array does not require modifying the underlying array data; it only changes in how the data is interpreted, by redefining the array’s strides attribute"
      ],
      "id": "bef2bdd4"
    },
    {
      "cell_type": "code",
      "metadata": {},
      "source": [
        "data = np.array([[1, 2], [3, 4]])\n",
        "data1 = np.reshape(data, (1, 4))\n",
        "data1"
      ],
      "id": "9e58087d",
      "execution_count": null,
      "outputs": []
    },
    {
      "cell_type": "code",
      "metadata": {},
      "source": [
        "data1[0, 1] = -1\n",
        "data"
      ],
      "id": "1fc0fec6",
      "execution_count": null,
      "outputs": []
    },
    {
      "cell_type": "code",
      "metadata": {},
      "source": [
        "data2 = data.reshape(4)\n",
        "data2"
      ],
      "id": "01299517",
      "execution_count": null,
      "outputs": []
    },
    {
      "cell_type": "code",
      "metadata": {},
      "source": [
        "data2[1] = -2\n",
        "data"
      ],
      "id": "4aba6a21",
      "execution_count": null,
      "outputs": []
    },
    {
      "cell_type": "markdown",
      "metadata": {},
      "source": [
        "---"
      ],
      "id": "bb8ae694"
    },
    {
      "cell_type": "code",
      "metadata": {},
      "source": [
        "data = np.array([[1, 2], [3, 4]])\n",
        "data1 = np.ravel(data)\n",
        "data1"
      ],
      "id": "12e9980a",
      "execution_count": null,
      "outputs": []
    },
    {
      "cell_type": "code",
      "metadata": {},
      "source": [
        "data1[0] = -1\n",
        "data"
      ],
      "id": "772c094a",
      "execution_count": null,
      "outputs": []
    },
    {
      "cell_type": "markdown",
      "metadata": {},
      "source": [
        "* The `ndarray` method `flatten` perform the same function, $~$but\n",
        "returns a **copy** instead of a view"
      ],
      "id": "8981faa4"
    },
    {
      "cell_type": "code",
      "metadata": {},
      "source": [
        "data2 = data.flatten()\n",
        "data2"
      ],
      "id": "a557edca",
      "execution_count": null,
      "outputs": []
    },
    {
      "cell_type": "code",
      "metadata": {},
      "source": [
        "data2[0] = -2\n",
        "data"
      ],
      "id": "a48de0fc",
      "execution_count": null,
      "outputs": []
    },
    {
      "cell_type": "markdown",
      "metadata": {},
      "source": [
        "---"
      ],
      "id": "8f876cff"
    },
    {
      "cell_type": "code",
      "metadata": {},
      "source": [
        "data = np.arange(0, 5)\n",
        "data.shape"
      ],
      "id": "60a5f1dd",
      "execution_count": null,
      "outputs": []
    },
    {
      "cell_type": "code",
      "metadata": {},
      "source": [
        "column = data[:, np.newaxis]\n",
        "column"
      ],
      "id": "0f013279",
      "execution_count": null,
      "outputs": []
    },
    {
      "cell_type": "code",
      "metadata": {},
      "source": [
        "column.shape"
      ],
      "id": "4727111e",
      "execution_count": null,
      "outputs": []
    },
    {
      "cell_type": "code",
      "metadata": {},
      "source": [
        "row = data[np.newaxis, :]\n",
        "row"
      ],
      "id": "b1314293",
      "execution_count": null,
      "outputs": []
    },
    {
      "cell_type": "code",
      "metadata": {},
      "source": [
        "row.shape"
      ],
      "id": "de63d3f2",
      "execution_count": null,
      "outputs": []
    },
    {
      "cell_type": "code",
      "metadata": {},
      "source": [
        "row[0, 0] = -1\n",
        "data"
      ],
      "id": "f9f8843d",
      "execution_count": null,
      "outputs": []
    },
    {
      "cell_type": "markdown",
      "metadata": {},
      "source": [
        "---"
      ],
      "id": "91220ea7"
    },
    {
      "cell_type": "code",
      "metadata": {},
      "source": [
        "np.expand_dims(data, axis=1) "
      ],
      "id": "c1272b37",
      "execution_count": null,
      "outputs": []
    },
    {
      "cell_type": "code",
      "metadata": {},
      "source": [
        "row = np.expand_dims(data, axis=0)\n",
        "row"
      ],
      "id": "d091bad5",
      "execution_count": null,
      "outputs": []
    },
    {
      "cell_type": "code",
      "metadata": {},
      "source": [
        "row[0, 0] = 0\n",
        "data"
      ],
      "id": "5c23e487",
      "execution_count": null,
      "outputs": []
    },
    {
      "cell_type": "markdown",
      "metadata": {},
      "source": [
        "---"
      ],
      "id": "8476107f"
    },
    {
      "cell_type": "code",
      "metadata": {},
      "source": [
        "data = np.arange(5)\n",
        "data"
      ],
      "id": "b118912b",
      "execution_count": null,
      "outputs": []
    },
    {
      "cell_type": "code",
      "metadata": {},
      "source": [
        "np.vstack((data, data, data))"
      ],
      "id": "fb08519b",
      "execution_count": null,
      "outputs": []
    },
    {
      "cell_type": "code",
      "metadata": {},
      "source": [
        "np.hstack((data, data, data))"
      ],
      "id": "620b21fc",
      "execution_count": null,
      "outputs": []
    },
    {
      "cell_type": "code",
      "metadata": {},
      "source": [
        "data = data[:, np.newaxis]\n",
        "data.shape"
      ],
      "id": "581d9ece",
      "execution_count": null,
      "outputs": []
    },
    {
      "cell_type": "code",
      "metadata": {},
      "source": [
        "np.hstack((data, data, data))"
      ],
      "id": "d2894132",
      "execution_count": null,
      "outputs": []
    },
    {
      "cell_type": "code",
      "metadata": {},
      "source": [
        "data1 = np.array([[1, 2], [3, 4]])\n",
        "data2 = np.array([[5, 6]])"
      ],
      "id": "17e8ebc9",
      "execution_count": null,
      "outputs": []
    },
    {
      "cell_type": "code",
      "metadata": {},
      "source": [
        "np.concatenate((data1, data2), axis=0)"
      ],
      "id": "0376349d",
      "execution_count": null,
      "outputs": []
    },
    {
      "cell_type": "code",
      "metadata": {},
      "source": [
        "np.concatenate((data1, data2.T), axis=1)"
      ],
      "id": "62d6d2dc",
      "execution_count": null,
      "outputs": []
    },
    {
      "cell_type": "markdown",
      "metadata": {},
      "source": [
        "## Vectorized expressions\n",
        "\n",
        "### Arithmetic operations"
      ],
      "id": "98130d6c"
    },
    {
      "cell_type": "code",
      "metadata": {},
      "source": [
        "x = np.array([[1, 2], [3, 4]])\n",
        "y = np.array([[5, 6], [7, 8]])"
      ],
      "id": "d4eb2ccf",
      "execution_count": null,
      "outputs": []
    },
    {
      "cell_type": "code",
      "metadata": {},
      "source": [
        "x + y"
      ],
      "id": "af312be2",
      "execution_count": null,
      "outputs": []
    },
    {
      "cell_type": "code",
      "metadata": {},
      "source": [
        "y - x"
      ],
      "id": "515e0286",
      "execution_count": null,
      "outputs": []
    },
    {
      "cell_type": "code",
      "metadata": {},
      "source": [
        "x * y"
      ],
      "id": "002090e2",
      "execution_count": null,
      "outputs": []
    },
    {
      "cell_type": "code",
      "metadata": {},
      "source": [
        "y / x"
      ],
      "id": "022908f1",
      "execution_count": null,
      "outputs": []
    },
    {
      "cell_type": "markdown",
      "metadata": {},
      "source": [
        "---"
      ],
      "id": "99442a9a"
    },
    {
      "cell_type": "code",
      "metadata": {},
      "source": [
        "x * 2"
      ],
      "id": "71769a71",
      "execution_count": null,
      "outputs": []
    },
    {
      "cell_type": "code",
      "metadata": {},
      "source": [
        "2**x"
      ],
      "id": "c95311a7",
      "execution_count": null,
      "outputs": []
    },
    {
      "cell_type": "code",
      "metadata": {},
      "source": [
        "y / 2"
      ],
      "id": "561c1ca6",
      "execution_count": null,
      "outputs": []
    },
    {
      "cell_type": "code",
      "metadata": {},
      "source": [
        "(y / 2).dtype"
      ],
      "id": "2101a818",
      "execution_count": null,
      "outputs": []
    },
    {
      "cell_type": "markdown",
      "metadata": {},
      "source": [
        "### Broadcasting"
      ],
      "id": "6a303a66"
    },
    {
      "cell_type": "code",
      "metadata": {},
      "source": [
        "a = np.array([[11, 12, 13], [21, 22, 23], [31, 32, 33]])\n",
        "b = np.array([[1, 2, 3]])"
      ],
      "id": "7f38693c",
      "execution_count": null,
      "outputs": []
    },
    {
      "cell_type": "code",
      "metadata": {},
      "source": [
        "a + b"
      ],
      "id": "573d9649",
      "execution_count": null,
      "outputs": []
    },
    {
      "cell_type": "code",
      "metadata": {},
      "source": [
        "show_array_broadcasting(a, b)"
      ],
      "id": "2710294b",
      "execution_count": null,
      "outputs": []
    },
    {
      "cell_type": "code",
      "metadata": {},
      "source": [
        "a + b.T"
      ],
      "id": "e914a9a9",
      "execution_count": null,
      "outputs": []
    },
    {
      "cell_type": "code",
      "metadata": {},
      "source": [
        "show_array_broadcasting(a, b.T)"
      ],
      "id": "be2ed50c",
      "execution_count": null,
      "outputs": []
    },
    {
      "cell_type": "markdown",
      "metadata": {},
      "source": [
        "---"
      ],
      "id": "b9d93209"
    },
    {
      "cell_type": "code",
      "metadata": {},
      "source": [
        "x = np.array([1, 2, 3, 4]).reshape(2, 2)\n",
        "x.shape"
      ],
      "id": "401c7960",
      "execution_count": null,
      "outputs": []
    },
    {
      "cell_type": "code",
      "metadata": {},
      "source": [
        "z = np.array([[2, 4]])\n",
        "z.shape"
      ],
      "id": "d781dc2c",
      "execution_count": null,
      "outputs": []
    },
    {
      "cell_type": "code",
      "metadata": {},
      "source": [
        "x / z"
      ],
      "id": "3ec737f4",
      "execution_count": null,
      "outputs": []
    },
    {
      "cell_type": "code",
      "metadata": {},
      "source": [
        "zz = np.vstack((z, z))\n",
        "zz"
      ],
      "id": "f22e2a6f",
      "execution_count": null,
      "outputs": []
    },
    {
      "cell_type": "code",
      "metadata": {},
      "source": [
        "x / zz"
      ],
      "id": "f76e5d20",
      "execution_count": null,
      "outputs": []
    },
    {
      "cell_type": "markdown",
      "metadata": {},
      "source": [
        "---"
      ],
      "id": "79aa9292"
    },
    {
      "cell_type": "code",
      "metadata": {},
      "source": [
        "z = np.array([[2], [4]])\n",
        "z.shape"
      ],
      "id": "6cd83a1e",
      "execution_count": null,
      "outputs": []
    },
    {
      "cell_type": "code",
      "metadata": {},
      "source": [
        "x / z"
      ],
      "id": "791cc759",
      "execution_count": null,
      "outputs": []
    },
    {
      "cell_type": "code",
      "metadata": {},
      "source": [
        "zz = np.concatenate([z, z], axis=1)\n",
        "zz"
      ],
      "id": "869f8331",
      "execution_count": null,
      "outputs": []
    },
    {
      "cell_type": "code",
      "metadata": {},
      "source": [
        "x / zz"
      ],
      "id": "7c49e131",
      "execution_count": null,
      "outputs": []
    },
    {
      "cell_type": "markdown",
      "metadata": {},
      "source": [
        "---"
      ],
      "id": "d5b12d0f"
    },
    {
      "cell_type": "code",
      "metadata": {},
      "source": [
        "x = z = np.array([1, 2, 3, 4])\n",
        "y = np.array([5, 6, 7, 8])\n",
        "x = x + y  # x is reassigned to a new array"
      ],
      "id": "ab24c1a2",
      "execution_count": null,
      "outputs": []
    },
    {
      "cell_type": "code",
      "metadata": {},
      "source": [
        "x, z"
      ],
      "id": "bee2248c",
      "execution_count": null,
      "outputs": []
    },
    {
      "cell_type": "code",
      "metadata": {},
      "source": [
        "x = z = np.array([1, 2, 3, 4])\n",
        "y = np.array([5, 6, 7, 8])\n",
        "x += y  # the values of array x are updated in place"
      ],
      "id": "bd7855d1",
      "execution_count": null,
      "outputs": []
    },
    {
      "cell_type": "code",
      "metadata": {},
      "source": [
        "x, z"
      ],
      "id": "829c4bba",
      "execution_count": null,
      "outputs": []
    },
    {
      "cell_type": "markdown",
      "metadata": {},
      "source": [
        "### Elementwise functions"
      ],
      "id": "46631e64"
    },
    {
      "cell_type": "code",
      "metadata": {},
      "source": [
        "x = np.linspace(-1, 1, 11)\n",
        "x"
      ],
      "id": "76da3861",
      "execution_count": null,
      "outputs": []
    },
    {
      "cell_type": "code",
      "metadata": {},
      "source": [
        "y = np.sin(np.pi * x)"
      ],
      "id": "35869c5e",
      "execution_count": null,
      "outputs": []
    },
    {
      "cell_type": "code",
      "metadata": {},
      "source": [
        "np.round(y, decimals=4)"
      ],
      "id": "c6f63e86",
      "execution_count": null,
      "outputs": []
    },
    {
      "cell_type": "code",
      "metadata": {},
      "source": [
        "np.add(np.sin(x)**2, np.cos(x)**2)"
      ],
      "id": "45958460",
      "execution_count": null,
      "outputs": []
    },
    {
      "cell_type": "code",
      "metadata": {},
      "source": [
        "np.sin(x)**2 + np.cos(x)**2"
      ],
      "id": "4e5e8c47",
      "execution_count": null,
      "outputs": []
    },
    {
      "cell_type": "markdown",
      "metadata": {},
      "source": [
        "---"
      ],
      "id": "bab358e5"
    },
    {
      "cell_type": "code",
      "metadata": {},
      "source": [
        "def heaviside(x):\n",
        "    return 1 if x > 0 else 0"
      ],
      "id": "d3c37fe9",
      "execution_count": null,
      "outputs": []
    },
    {
      "cell_type": "code",
      "metadata": {},
      "source": [
        "heaviside(-1)"
      ],
      "id": "1915482f",
      "execution_count": null,
      "outputs": []
    },
    {
      "cell_type": "code",
      "metadata": {},
      "source": [
        "heaviside(1.5)"
      ],
      "id": "1ec5f75f",
      "execution_count": null,
      "outputs": []
    },
    {
      "cell_type": "markdown",
      "metadata": {},
      "source": [
        "````\n",
        "```{{python}}\n",
        "x = np.linspace(-5, 5, 11)\n",
        "heaviside(x)\n",
        "```\n",
        "\n",
        "ValueError \n",
        "      1 x = np.linspace(-5, 5, 11)\n",
        "----> 2 heaviside(x)\n",
        "\n",
        "      1 def heaviside(x):\n",
        "----> 2     return 1 if x > 0 else 0\n",
        "\n",
        "ValueError: The truth value of an array with more than \n",
        "one element is ambiguous. Use a.any() or a.all()\n",
        "\n",
        "````"
      ],
      "id": "76e4e8ad"
    },
    {
      "cell_type": "code",
      "metadata": {},
      "source": [
        "heaviside = np.vectorize(heaviside)\n",
        "heaviside(x)"
      ],
      "id": "909c7c55",
      "execution_count": null,
      "outputs": []
    },
    {
      "cell_type": "code",
      "metadata": {},
      "source": [
        "def heaviside(x):  # much better way\n",
        "    return 1 * (x > 0)\n",
        "\n",
        "heaviside(x)"
      ],
      "id": "08c9827c",
      "execution_count": null,
      "outputs": []
    },
    {
      "cell_type": "markdown",
      "metadata": {},
      "source": [
        "### Aggregation"
      ],
      "id": "c1016162"
    },
    {
      "cell_type": "code",
      "metadata": {},
      "source": [
        "data = np.random.normal(size=(15, 15)) "
      ],
      "id": "d09fb46a",
      "execution_count": null,
      "outputs": []
    },
    {
      "cell_type": "code",
      "metadata": {},
      "source": [
        "np.mean(data)"
      ],
      "id": "692ac7a6",
      "execution_count": null,
      "outputs": []
    },
    {
      "cell_type": "code",
      "metadata": {},
      "source": [
        "data.mean()"
      ],
      "id": "6168f297",
      "execution_count": null,
      "outputs": []
    },
    {
      "cell_type": "markdown",
      "metadata": {},
      "source": [
        "---"
      ],
      "id": "b430041c"
    },
    {
      "cell_type": "code",
      "metadata": {},
      "source": [
        "data = np.random.normal(size=(5, 10, 15))"
      ],
      "id": "476b008c",
      "execution_count": null,
      "outputs": []
    },
    {
      "cell_type": "code",
      "metadata": {},
      "source": [
        "data.sum(axis=0).shape"
      ],
      "id": "eda423d4",
      "execution_count": null,
      "outputs": []
    },
    {
      "cell_type": "code",
      "metadata": {},
      "source": [
        "data.sum(axis=(0, 2)).shape"
      ],
      "id": "5b275f6b",
      "execution_count": null,
      "outputs": []
    },
    {
      "cell_type": "code",
      "metadata": {},
      "source": [
        "data.sum()"
      ],
      "id": "b49f63ec",
      "execution_count": null,
      "outputs": []
    },
    {
      "cell_type": "markdown",
      "metadata": {},
      "source": [
        "---\n"
      ],
      "id": "108f8438"
    },
    {
      "cell_type": "code",
      "metadata": {},
      "source": [
        "data = np.arange(9).reshape(3, 3)\n",
        "data"
      ],
      "id": "e34fb664",
      "execution_count": null,
      "outputs": []
    },
    {
      "cell_type": "code",
      "metadata": {},
      "source": [
        "data.sum()"
      ],
      "id": "d5e3c4c8",
      "execution_count": null,
      "outputs": []
    },
    {
      "cell_type": "code",
      "metadata": {},
      "source": [
        "show_array_aggregation(data, None)"
      ],
      "id": "b27c88c0",
      "execution_count": null,
      "outputs": []
    },
    {
      "cell_type": "code",
      "metadata": {},
      "source": [
        "data.sum(axis=0)"
      ],
      "id": "008ae202",
      "execution_count": null,
      "outputs": []
    },
    {
      "cell_type": "code",
      "metadata": {},
      "source": [
        "show_array_aggregation(data, 0)"
      ],
      "id": "f0f9e4e8",
      "execution_count": null,
      "outputs": []
    },
    {
      "cell_type": "code",
      "metadata": {},
      "source": [
        "data.sum(axis=1)"
      ],
      "id": "f00ee83b",
      "execution_count": null,
      "outputs": []
    },
    {
      "cell_type": "code",
      "metadata": {},
      "source": [
        "show_array_aggregation(data, 1)"
      ],
      "id": "08c9a0c4",
      "execution_count": null,
      "outputs": []
    },
    {
      "cell_type": "markdown",
      "metadata": {},
      "source": [
        "### Boolean arrays and conditional expressions"
      ],
      "id": "10cc009d"
    },
    {
      "cell_type": "code",
      "metadata": {},
      "source": [
        "a = np.array([1, 2, 3, 4])\n",
        "b = np.array([4, 3, 2, 1])"
      ],
      "id": "6e253974",
      "execution_count": null,
      "outputs": []
    },
    {
      "cell_type": "code",
      "metadata": {},
      "source": [
        "a < b"
      ],
      "id": "71a26da3",
      "execution_count": null,
      "outputs": []
    },
    {
      "cell_type": "code",
      "metadata": {},
      "source": [
        "np.all(a < b)"
      ],
      "id": "698510de",
      "execution_count": null,
      "outputs": []
    },
    {
      "cell_type": "code",
      "metadata": {},
      "source": [
        "np.any(a < b)"
      ],
      "id": "b6424914",
      "execution_count": null,
      "outputs": []
    },
    {
      "cell_type": "markdown",
      "metadata": {},
      "source": [
        "---"
      ],
      "id": "14a240e7"
    },
    {
      "cell_type": "code",
      "metadata": {},
      "source": [
        "x = np.array([-2, -1, 0, 1, 2])"
      ],
      "id": "7385ce46",
      "execution_count": null,
      "outputs": []
    },
    {
      "cell_type": "code",
      "metadata": {},
      "source": [
        "x > 0"
      ],
      "id": "1dd0aa8f",
      "execution_count": null,
      "outputs": []
    },
    {
      "cell_type": "code",
      "metadata": {},
      "source": [
        "1 * (x > 0)"
      ],
      "id": "f49392c7",
      "execution_count": null,
      "outputs": []
    },
    {
      "cell_type": "code",
      "metadata": {},
      "source": [
        "x * (x > 0)"
      ],
      "id": "2c968219",
      "execution_count": null,
      "outputs": []
    },
    {
      "cell_type": "markdown",
      "metadata": {},
      "source": [
        "---"
      ],
      "id": "8c898782"
    },
    {
      "cell_type": "code",
      "metadata": {},
      "source": [
        "def pulse(x, position, height, width):\n",
        "    return height * (x >= position) * (x <= (position + width))  "
      ],
      "id": "26d10a52",
      "execution_count": null,
      "outputs": []
    },
    {
      "cell_type": "code",
      "metadata": {},
      "source": [
        "x = np.linspace(-5, 5, 31)"
      ],
      "id": "7dbd26ed",
      "execution_count": null,
      "outputs": []
    },
    {
      "cell_type": "code",
      "metadata": {},
      "source": [
        "pulse(x, position=-2, height=1, width=5)"
      ],
      "id": "c8233e06",
      "execution_count": null,
      "outputs": []
    },
    {
      "cell_type": "code",
      "metadata": {},
      "source": [
        "pulse(x, position=1, height=2, width=2)"
      ],
      "id": "d165c056",
      "execution_count": null,
      "outputs": []
    },
    {
      "cell_type": "markdown",
      "metadata": {},
      "source": [
        "---"
      ],
      "id": "cea2b3a9"
    },
    {
      "cell_type": "code",
      "metadata": {},
      "source": [
        "x = np.linspace(-4, 4, 9)\n",
        "x"
      ],
      "id": "273b6854",
      "execution_count": null,
      "outputs": []
    },
    {
      "cell_type": "code",
      "metadata": {},
      "source": [
        "np.where(x < 0, x**2, x**3)"
      ],
      "id": "c482ae68",
      "execution_count": null,
      "outputs": []
    },
    {
      "cell_type": "code",
      "metadata": {},
      "source": [
        "np.select([x < -1, x < 2, x>= 2], [x**2, x**3, x**4])"
      ],
      "id": "d2d641f0",
      "execution_count": null,
      "outputs": []
    },
    {
      "cell_type": "code",
      "metadata": {},
      "source": [
        "np.choose([0, 0, 0, 1, 1, 1, 2, 2, 2], [x**2, x**3, x**4])"
      ],
      "id": "b5017f30",
      "execution_count": null,
      "outputs": []
    },
    {
      "cell_type": "code",
      "metadata": {},
      "source": [
        "x[np.abs(x) > 2]"
      ],
      "id": "5f85f389",
      "execution_count": null,
      "outputs": []
    },
    {
      "cell_type": "markdown",
      "metadata": {},
      "source": [
        "### Set operations"
      ],
      "id": "d7405336"
    },
    {
      "cell_type": "code",
      "metadata": {},
      "source": [
        "a = np.unique([1, 2, 3, 3])\n",
        "a"
      ],
      "id": "20249d8d",
      "execution_count": null,
      "outputs": []
    },
    {
      "cell_type": "code",
      "metadata": {},
      "source": [
        "b = np.unique([2, 3, 4, 4, 5, 6, 5])\n",
        "b"
      ],
      "id": "c3852c99",
      "execution_count": null,
      "outputs": []
    },
    {
      "cell_type": "code",
      "metadata": {},
      "source": [
        "np.in1d(a, b)"
      ],
      "id": "61532982",
      "execution_count": null,
      "outputs": []
    },
    {
      "cell_type": "code",
      "metadata": {},
      "source": [
        "1 in a, 1 in b"
      ],
      "id": "e09f2da8",
      "execution_count": null,
      "outputs": []
    },
    {
      "cell_type": "code",
      "metadata": {},
      "source": [
        "np.all(np.in1d(a, b))  # to test if a is a subset of b"
      ],
      "id": "44b4e632",
      "execution_count": null,
      "outputs": []
    },
    {
      "cell_type": "markdown",
      "metadata": {},
      "source": [
        "---"
      ],
      "id": "751b34c1"
    },
    {
      "cell_type": "code",
      "metadata": {},
      "source": [
        "np.union1d(a, b)"
      ],
      "id": "70e040de",
      "execution_count": null,
      "outputs": []
    },
    {
      "cell_type": "code",
      "metadata": {},
      "source": [
        "np.intersect1d(a, b)"
      ],
      "id": "7bc88bac",
      "execution_count": null,
      "outputs": []
    },
    {
      "cell_type": "code",
      "metadata": {},
      "source": [
        "np.setdiff1d(a, b)"
      ],
      "id": "aa760d4e",
      "execution_count": null,
      "outputs": []
    },
    {
      "cell_type": "code",
      "metadata": {},
      "source": [
        "np.setdiff1d(b, a)"
      ],
      "id": "2e2c6758",
      "execution_count": null,
      "outputs": []
    },
    {
      "cell_type": "markdown",
      "metadata": {},
      "source": [
        "### Operations on arrays"
      ],
      "id": "04cf2891"
    },
    {
      "cell_type": "code",
      "metadata": {},
      "source": [
        "data = np.arange(9).reshape(3, 3)\n",
        "data"
      ],
      "id": "ed7085c5",
      "execution_count": null,
      "outputs": []
    },
    {
      "cell_type": "code",
      "metadata": {},
      "source": [
        "np.transpose(data)"
      ],
      "id": "7240973d",
      "execution_count": null,
      "outputs": []
    },
    {
      "cell_type": "markdown",
      "metadata": {},
      "source": [
        "---"
      ],
      "id": "3fede06d"
    },
    {
      "cell_type": "code",
      "metadata": {},
      "source": [
        "data = np.random.randn(1, 2, 3, 4, 5)"
      ],
      "id": "9e691627",
      "execution_count": null,
      "outputs": []
    },
    {
      "cell_type": "code",
      "metadata": {},
      "source": [
        "data.shape"
      ],
      "id": "3fc9ac75",
      "execution_count": null,
      "outputs": []
    },
    {
      "cell_type": "code",
      "metadata": {},
      "source": [
        "data.T.shape"
      ],
      "id": "a763a9da",
      "execution_count": null,
      "outputs": []
    },
    {
      "cell_type": "markdown",
      "metadata": {},
      "source": [
        "## Matrix and vector operations"
      ],
      "id": "ebf6754d"
    },
    {
      "cell_type": "code",
      "metadata": {},
      "source": [
        "A = np.arange(1, 7).reshape(2, 3)\n",
        "A"
      ],
      "id": "08f5e348",
      "execution_count": null,
      "outputs": []
    },
    {
      "cell_type": "code",
      "metadata": {},
      "source": [
        "B = np.arange(1, 7).reshape(3, 2)\n",
        "B"
      ],
      "id": "ebe8bb6b",
      "execution_count": null,
      "outputs": []
    },
    {
      "cell_type": "code",
      "metadata": {},
      "source": [
        "np.dot(A, B)"
      ],
      "id": "5c24df0c",
      "execution_count": null,
      "outputs": []
    },
    {
      "cell_type": "code",
      "metadata": {},
      "source": [
        "np.dot(B, A)"
      ],
      "id": "3bfd89e2",
      "execution_count": null,
      "outputs": []
    },
    {
      "cell_type": "code",
      "metadata": {},
      "source": [
        "A @ B  # python 3.5 above"
      ],
      "id": "b7912d7a",
      "execution_count": null,
      "outputs": []
    },
    {
      "cell_type": "code",
      "metadata": {},
      "source": [
        "B @ A"
      ],
      "id": "b56312b3",
      "execution_count": null,
      "outputs": []
    },
    {
      "cell_type": "markdown",
      "metadata": {},
      "source": [
        "---"
      ],
      "id": "3a163cc8"
    },
    {
      "cell_type": "code",
      "metadata": {},
      "source": [
        "A = np.arange(9).reshape(3, 3)\n",
        "A"
      ],
      "id": "a0944f5d",
      "execution_count": null,
      "outputs": []
    },
    {
      "cell_type": "code",
      "metadata": {},
      "source": [
        "x = np.arange(3)\n",
        "x"
      ],
      "id": "889a6aca",
      "execution_count": null,
      "outputs": []
    },
    {
      "cell_type": "code",
      "metadata": {},
      "source": [
        "np.dot(A, x)"
      ],
      "id": "28abd57c",
      "execution_count": null,
      "outputs": []
    },
    {
      "cell_type": "code",
      "metadata": {},
      "source": [
        "A.dot(x)"
      ],
      "id": "2ecf0434",
      "execution_count": null,
      "outputs": []
    },
    {
      "cell_type": "code",
      "metadata": {},
      "source": [
        "A @ x"
      ],
      "id": "a4ae967c",
      "execution_count": null,
      "outputs": []
    },
    {
      "cell_type": "markdown",
      "metadata": {},
      "source": [
        "---"
      ],
      "id": "068a877a"
    },
    {
      "cell_type": "code",
      "metadata": {},
      "source": [
        "A = np.random.rand(3, 3)\n",
        "B = np.random.rand(3, 3)"
      ],
      "id": "91d909db",
      "execution_count": null,
      "outputs": []
    },
    {
      "cell_type": "code",
      "metadata": {},
      "source": [
        "Ap = np.dot(B, np.dot(A, np.linalg.inv(B)))"
      ],
      "id": "4e8c2b74",
      "execution_count": null,
      "outputs": []
    },
    {
      "cell_type": "code",
      "metadata": {},
      "source": [
        "Ap = B.dot(A.dot(np.linalg.inv(B)))"
      ],
      "id": "afdaa154",
      "execution_count": null,
      "outputs": []
    },
    {
      "cell_type": "code",
      "metadata": {},
      "source": [
        "B @ A @ np.linalg.inv(B)"
      ],
      "id": "e986779e",
      "execution_count": null,
      "outputs": []
    },
    {
      "cell_type": "markdown",
      "metadata": {},
      "source": [
        "---"
      ],
      "id": "aaa3b1d5"
    },
    {
      "cell_type": "code",
      "metadata": {},
      "source": [
        "np.inner(x, x)"
      ],
      "id": "fa2b8363",
      "execution_count": null,
      "outputs": []
    },
    {
      "cell_type": "code",
      "metadata": {},
      "source": [
        "np.dot(x, x)"
      ],
      "id": "0f8362bf",
      "execution_count": null,
      "outputs": []
    },
    {
      "cell_type": "code",
      "metadata": {},
      "source": [
        "y = x[:, np.newaxis]\n",
        "y"
      ],
      "id": "2b01c410",
      "execution_count": null,
      "outputs": []
    },
    {
      "cell_type": "code",
      "metadata": {},
      "source": [
        "np.dot(y.T, y)"
      ],
      "id": "f9565580",
      "execution_count": null,
      "outputs": []
    },
    {
      "cell_type": "markdown",
      "metadata": {},
      "source": [
        "---\n",
        "\n",
        "* Given two vectors, $\\mathbf{a} = [a_0, a_1, ..., a_M]~$ and $~\\mathbf{b} = [b_0, b_1, ..., b_N]$, $~$the outer product is $\\mathbf{a}^T\\mathbf{b}$\n",
        "\n",
        "$$\\begin{pmatrix}\n",
        " a_0 b_0 & a_0b_1 & \\cdots & a_0 b_N \\\\\n",
        " a_1 b_0 & \\cdots & \\cdots & a_1 b_N \\\\\n",
        " \\vdots  & \\ddots &        & \\vdots  \\\\\n",
        " a_M b_0 &        & \\ddots & a_M b_N \\\\\n",
        " \\end{pmatrix}\n",
        "$$\n"
      ],
      "id": "b299dada"
    },
    {
      "cell_type": "code",
      "metadata": {},
      "source": [
        "x = np.array([1, 2, 3])"
      ],
      "id": "74fb27cb",
      "execution_count": null,
      "outputs": []
    },
    {
      "cell_type": "code",
      "metadata": {},
      "source": [
        "np.outer(x, x)"
      ],
      "id": "6b2f344d",
      "execution_count": null,
      "outputs": []
    },
    {
      "cell_type": "code",
      "metadata": {},
      "source": [
        "np.kron(x, x)"
      ],
      "id": "82ab386f",
      "execution_count": null,
      "outputs": []
    },
    {
      "cell_type": "code",
      "metadata": {},
      "source": [
        "np.kron(x[:, np.newaxis], x[np.newaxis, :])"
      ],
      "id": "ce911105",
      "execution_count": null,
      "outputs": []
    },
    {
      "cell_type": "code",
      "metadata": {},
      "source": [
        "np.kron(np.ones((2, 2)), np.identity(2))"
      ],
      "id": "094b16e5",
      "execution_count": null,
      "outputs": []
    },
    {
      "cell_type": "code",
      "metadata": {},
      "source": [
        "np.kron(np.identity(2), np.ones((2, 2)))"
      ],
      "id": "1cafdb9a",
      "execution_count": null,
      "outputs": []
    },
    {
      "cell_type": "markdown",
      "metadata": {},
      "source": [
        "---"
      ],
      "id": "674b61ba"
    },
    {
      "cell_type": "code",
      "metadata": {},
      "source": [
        "x = np.array([1, 2, 3, 4])\n",
        "y = np.array([5, 6, 7, 8])"
      ],
      "id": "5615117c",
      "execution_count": null,
      "outputs": []
    },
    {
      "cell_type": "code",
      "metadata": {},
      "source": [
        "np.einsum(\"n,n\", x, y)"
      ],
      "id": "bf68d457",
      "execution_count": null,
      "outputs": []
    },
    {
      "cell_type": "code",
      "metadata": {},
      "source": [
        "np.inner(x, y)"
      ],
      "id": "1852b353",
      "execution_count": null,
      "outputs": []
    },
    {
      "cell_type": "code",
      "metadata": {},
      "source": [
        "A = np.arange(9).reshape(3, 3)\n",
        "B = A.T"
      ],
      "id": "58b0e06a",
      "execution_count": null,
      "outputs": []
    },
    {
      "cell_type": "code",
      "metadata": {},
      "source": [
        "np.einsum(\"mk,kn\", A, B)"
      ],
      "id": "65b26fbf",
      "execution_count": null,
      "outputs": []
    },
    {
      "cell_type": "code",
      "metadata": {},
      "source": [
        "np.all(np.einsum(\"mk,kn\", A, B) == np.dot(A, B))"
      ],
      "id": "c0ef57cc",
      "execution_count": null,
      "outputs": []
    }
  ],
  "metadata": {
    "kernelspec": {
      "name": "python3",
      "language": "python",
      "display_name": "Python 3 (ipykernel)",
      "path": "/opt/miniconda3/share/jupyter/kernels/python3"
    }
  },
  "nbformat": 4,
  "nbformat_minor": 5
}