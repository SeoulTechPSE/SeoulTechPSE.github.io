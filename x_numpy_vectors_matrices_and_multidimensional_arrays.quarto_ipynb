{
  "cells": [
    {
      "cell_type": "markdown",
      "metadata": {},
      "source": [
        "---\n",
        "jupyter: python3\n",
        "---\n",
        "\n",
        "# Numpy: Vectors, Matrices, and Multidimensional Arrays {#sec-numpy}\n",
        "\n",
        "$~$\n",
        "\n",
        "[![](./figures/numpy_logo.png){width=\"30%\" fig-align=\"center\"}](https://numpy.org/doc/stable/)\n",
        "\n",
        "$~$\n",
        "\n",
        "## Importing numpy"
      ],
      "id": "3342ccf4"
    },
    {
      "cell_type": "code",
      "metadata": {},
      "source": [
        "import numpy as np\n",
        "\n",
        "print(\"numpy: \", np.__version__)"
      ],
      "id": "5a128d85",
      "execution_count": null,
      "outputs": []
    },
    {
      "cell_type": "markdown",
      "metadata": {},
      "source": [
        "* [_show_array.py](_show_array.py)\n",
        "* `show_array()`\n",
        "* `show_array_aggregation()`"
      ],
      "id": "9d86f363"
    },
    {
      "cell_type": "code",
      "metadata": {},
      "source": [
        "#| echo: false\n",
        "import numpy as np\n",
        "\n",
        "import matplotlib as mpl\n",
        "import matplotlib.pyplot as plt\n",
        "\n",
        "def show_array(shape, sel, filename=None):\n",
        "    \"\"\"\n",
        "    Visualize indexing of arrays\n",
        "    \"\"\"\n",
        "    \n",
        "    data = np.zeros(shape)\n",
        "    exec(f'data[{sel}] = 1')\n",
        "    \n",
        "    fig, ax = plt.subplots(1, 1, figsize=shape)\n",
        "    ax.set_frame_on(False)\n",
        "\n",
        "    ax.patch.set_facecolor('white')\n",
        "    ax.xaxis.set_major_locator(plt.NullLocator())\n",
        "    ax.yaxis.set_major_locator(plt.NullLocator())\n",
        "    \n",
        "    size = 0.96\n",
        "    for (m, n), w in np.ndenumerate(data):\n",
        "        color = '#1199ff' if w > 0 else '#eeeeee'\n",
        "        rect = plt.Rectangle([n -size/2, m -size/2], \n",
        "                             size, size, \n",
        "                             facecolor=color,\n",
        "                             edgecolor=color)\n",
        "        ax.add_patch(rect)\n",
        "        ax.text(n, m, f'({m}, {n})', ha='center',\n",
        "                                     va='center',\n",
        "                                     fontsize=12)\n",
        "    ax.autoscale_view()\n",
        "    ax.invert_yaxis()\n",
        "    \n",
        "    if sel ==':, :':\n",
        "        ax.set_title('data\\n', fontsize=12)\n",
        "    else:\n",
        "        ax.set_title(f'data[{sel}]\\n', fontsize=12)\n",
        "        \n",
        "    if filename:\n",
        "        fig.savefig(filename + \".png\", dpi=200)\n",
        "        fig.savefig(filename + \".svg\")\n",
        "        fig.savefig(filename + \".pdf\")\n",
        "\n",
        "\n",
        "def show_array_broadcasting(a, b, filename=None):\n",
        "    \"\"\"\n",
        "    Visualize broadcasting of arrays\n",
        "    \"\"\"\n",
        " \n",
        "    colors = ['#1199ff', '#eeeeee']\n",
        "    \n",
        "    fig, axes = plt.subplots(1, 3, figsize=(8, 2.7))\n",
        "\n",
        "    # -- a --\n",
        "    data = a\n",
        "    \n",
        "    ax = axes[0]\n",
        "    ax.set_frame_on(False)    \n",
        "    ax.patch.set_facecolor('white')\n",
        "    ax.xaxis.set_major_locator(plt.NullLocator())\n",
        "    ax.yaxis.set_major_locator(plt.NullLocator())\n",
        "\n",
        "    size = 0.96\n",
        "    color = colors[0]\n",
        "    for (m, n), w in np.ndenumerate(data):\n",
        "\n",
        "        rect = plt.Rectangle([n -size/2, m -size/2],\n",
        "                             size, size,\n",
        "                             facecolor=color,\n",
        "                             edgecolor=color)\n",
        "        ax.add_patch(rect)\n",
        "        ax.text(n, m, f'{data[m, n]}', ha='center', va='center', fontsize=14)        \n",
        "\n",
        "    ax.text(3, 1, \"+\", ha='center', va='center', fontsize=22)        \n",
        "    ax.autoscale_view()\n",
        "    ax.invert_yaxis()\n",
        "\n",
        "    # -- b --\n",
        "    data = np.zeros_like(a) + b\n",
        "\n",
        "    ax = axes[1]\n",
        "    ax.set_frame_on(False)     \n",
        "    ax.patch.set_facecolor('white')\n",
        "    ax.xaxis.set_major_locator(plt.NullLocator())\n",
        "    ax.yaxis.set_major_locator(plt.NullLocator())\n",
        "    \n",
        "    size = 0.96\n",
        "    for (m, n), w in np.ndenumerate(data):\n",
        "        \n",
        "        if (np.argmax(b.T.shape) == 0 and m == 0) or (np.argmax(b.T.shape) == 1 and n == 0):\n",
        "            color = colors[0]\n",
        "        else:\n",
        "            color = colors[1]\n",
        "            \n",
        "        rect = plt.Rectangle([n -size/2, m -size/2],\n",
        "                             size, size,\n",
        "                             facecolor=color,\n",
        "                             edgecolor=color)\n",
        "        ax.add_patch(rect)\n",
        "\n",
        "        ax.text(m, n, f'{data[n, m]}', ha='center', va='center', fontsize=14)        \n",
        "\n",
        "    ax.text(3, 1, \"=\", ha='center', va='center', fontsize=22)        \n",
        "    ax.autoscale_view()\n",
        "    ax.invert_yaxis()\n",
        "\n",
        "    # -- c --\n",
        "    data = a + b\n",
        "    \n",
        "    ax = axes[2]\n",
        "    ax.set_frame_on(False) \n",
        "    ax.patch.set_facecolor('white')\n",
        "    ax.xaxis.set_major_locator(plt.NullLocator())\n",
        "    ax.yaxis.set_major_locator(plt.NullLocator())\n",
        "  \n",
        "    size = 0.96\n",
        "    color = colors[0]\n",
        "    for (m, n), w in np.ndenumerate(data):\n",
        "\n",
        "        rect = plt.Rectangle([n -size/2, m -size/2],\n",
        "                             size, size,\n",
        "                             facecolor=color,\n",
        "                             edgecolor=color)\n",
        "        ax.add_patch(rect)\n",
        "        \n",
        "        ax.text(m, n, f'{data[n, m]}', ha='center', va='center', fontsize=14)        \n",
        "\n",
        "    ax.autoscale_view()\n",
        "    ax.invert_yaxis()\n",
        "    \n",
        "    #fig.tight_layout()\n",
        "        \n",
        "    if filename:\n",
        "        fig.savefig(filename + \".png\", dpi=200)\n",
        "        fig.savefig(filename + \".svg\")\n",
        "        fig.savefig(filename + \".pdf\")        \n",
        "\n",
        "\n",
        "\n",
        "def show_array_aggregation(data, axis, filename=None):\n",
        "    \"\"\"\n",
        "    Visualize aggregation of arrays\n",
        "    \"\"\"\n",
        "\n",
        "    colors = ['#1199ff', '#ee3311', '#66ff22']\n",
        "    \n",
        "    fig, axes = plt.subplots(2, 1, figsize=(3, 6))\n",
        "    \n",
        "    # -- data --\n",
        "    ax = axes[0]\n",
        "    ax.set_frame_on(False)\n",
        "    ax.patch.set_facecolor('white')\n",
        "    ax.xaxis.set_major_locator(plt.NullLocator())\n",
        "    ax.yaxis.set_major_locator(plt.NullLocator())\n",
        "       \n",
        "    size = 0.96\n",
        "    for (m, n), w in np.ndenumerate(data):\n",
        "\n",
        "        if axis is None:\n",
        "            color = colors[0]\n",
        "        elif axis == 1:\n",
        "            color = colors[m]\n",
        "        else:\n",
        "            color = colors[n]\n",
        "            \n",
        "        rect = plt.Rectangle([n -size/2, m -size/2],\n",
        "                             size, size,\n",
        "                             facecolor=color,\n",
        "                             edgecolor=color)\n",
        "        ax.add_patch(rect)\n",
        "\n",
        "        ax.text(n, m, f'{data[m, n]}', ha='center', va='center', fontsize=14)\n",
        "        \n",
        "    ax.autoscale_view()\n",
        "    ax.invert_yaxis()\n",
        "    ax.set_title(\"data\", fontsize=12)\n",
        "\n",
        "    # -- data aggregation -- \n",
        "    \n",
        "    if axis is None:\n",
        "        adata = np.atleast_2d(data.sum())\n",
        "    elif axis == 0:\n",
        "        adata = data.sum(axis=axis)[:, np.newaxis]\n",
        "    else:\n",
        "        adata = data.sum(axis=axis)[:, np.newaxis]     \n",
        "   \n",
        "    ax = axes[1]\n",
        "    ax.set_frame_on(False)\n",
        "    ax.patch.set_facecolor('white')\n",
        "    ax.xaxis.set_major_locator(plt.NullLocator())\n",
        "    ax.yaxis.set_major_locator(plt.NullLocator())\n",
        "    \n",
        "    size = 1.0\n",
        "    for (m, n), w in np.ndenumerate(data):\n",
        "        color = 'white'\n",
        "        rect = plt.Rectangle([n -size/2, m -size/2],\n",
        "                         size, size,\n",
        "                         facecolor=color,\n",
        "                         edgecolor=color)\n",
        "        ax.add_patch(rect)        \n",
        "    \n",
        "    size = 0.96\n",
        "    for (m, n), w in np.ndenumerate(adata):\n",
        "\n",
        "        if axis is None:\n",
        "            color = colors[0] \n",
        "            rect = plt.Rectangle([1 +m -size/2, n -size/2],\n",
        "                         size, size,\n",
        "                         facecolor=color,\n",
        "                         edgecolor=color)\n",
        "            ax.add_patch(rect)\n",
        "            \n",
        "            ax.text(1 +m, n, f'{adata[m, n]}', ha='center', va='center', fontsize=14)\n",
        "            \n",
        "        if axis == 0:\n",
        "            color = colors[m]\n",
        "            rect = plt.Rectangle([m -size/2, n -size/2],\n",
        "                                 size, size,\n",
        "                                 facecolor=color,\n",
        "                                 edgecolor=color)\n",
        "            ax.add_patch(rect)\n",
        "     \n",
        "            ax.text(m, n, f'{adata[m, n]}', ha='center', va='center', fontsize=14)\n",
        "        \n",
        "        if axis == 1:\n",
        "            color = colors[m]\n",
        "            rect = plt.Rectangle([1 +n -size/2, m -size/2],\n",
        "                                 size, size,\n",
        "                                 facecolor=color,\n",
        "                                 edgecolor=color)\n",
        "            ax.add_patch(rect)\n",
        "     \n",
        "            ax.text(1 +n, m, f'{adata[m, n]}', ha='center', va='center', fontsize=14)        \n",
        "\n",
        "    ax.autoscale_view()\n",
        "    ax.invert_yaxis()\n",
        "    \n",
        "    if axis is not None:\n",
        "        ax.set_title(f'data.sum(axis={axis})', fontsize=12)\n",
        "    else:\n",
        "        ax.set_title('data.sum()', fontsize=12)\n",
        "    \n",
        "    #fig.tight_layout()\n",
        "    \n",
        "    if filename:\n",
        "        fig.savefig(filename + \".png\", dpi=200)\n",
        "        fig.savefig(filename + \".svg\")\n",
        "        fig.savefig(filename + \".pdf\")"
      ],
      "id": "5171089e",
      "execution_count": null,
      "outputs": []
    },
    {
      "cell_type": "markdown",
      "metadata": {},
      "source": [
        "## The Numpy array object"
      ],
      "id": "7eefe987"
    },
    {
      "cell_type": "code",
      "metadata": {},
      "source": [
        "data = np.array([[1, 2], [3, 4], [5, 6]])\n",
        "data"
      ],
      "id": "4e03c730",
      "execution_count": null,
      "outputs": []
    },
    {
      "cell_type": "code",
      "metadata": {},
      "source": [
        "type(data)"
      ],
      "id": "df475750",
      "execution_count": null,
      "outputs": []
    },
    {
      "cell_type": "code",
      "metadata": {},
      "source": [
        "data.ndim"
      ],
      "id": "69d2a4ed",
      "execution_count": null,
      "outputs": []
    },
    {
      "cell_type": "code",
      "metadata": {},
      "source": [
        "data.shape"
      ],
      "id": "e3f2170c",
      "execution_count": null,
      "outputs": []
    },
    {
      "cell_type": "code",
      "metadata": {},
      "source": [
        "data.size"
      ],
      "id": "addbfff7",
      "execution_count": null,
      "outputs": []
    },
    {
      "cell_type": "code",
      "metadata": {},
      "source": [
        "data.dtype"
      ],
      "id": "fa522528",
      "execution_count": null,
      "outputs": []
    },
    {
      "cell_type": "code",
      "metadata": {},
      "source": [
        "data.nbytes"
      ],
      "id": "7bac0571",
      "execution_count": null,
      "outputs": []
    },
    {
      "cell_type": "markdown",
      "metadata": {},
      "source": [
        "## Data types"
      ],
      "id": "b5f04b28"
    },
    {
      "cell_type": "code",
      "metadata": {},
      "source": [
        "d0 = np.array([1, 2, 3], dtype=int)\n",
        "d0"
      ],
      "id": "cf439215",
      "execution_count": null,
      "outputs": []
    },
    {
      "cell_type": "code",
      "metadata": {},
      "source": [
        "d1 = np.array([1, 2, 3], dtype=float)\n",
        "d1"
      ],
      "id": "c5b16586",
      "execution_count": null,
      "outputs": []
    },
    {
      "cell_type": "code",
      "metadata": {},
      "source": [
        "d2 = np.array([1, 2, 3], dtype=complex)\n",
        "d2"
      ],
      "id": "79451970",
      "execution_count": null,
      "outputs": []
    },
    {
      "cell_type": "markdown",
      "metadata": {},
      "source": [
        "### Type casting"
      ],
      "id": "9e469d77"
    },
    {
      "cell_type": "code",
      "metadata": {},
      "source": [
        "data = np.array([1, 2, 3], dtype=float)\n",
        "data"
      ],
      "id": "c7b0fb23",
      "execution_count": null,
      "outputs": []
    },
    {
      "cell_type": "code",
      "metadata": {},
      "source": [
        "data = np.array(data, dtype=int)\n",
        "data"
      ],
      "id": "dc3156ee",
      "execution_count": null,
      "outputs": []
    },
    {
      "cell_type": "code",
      "metadata": {},
      "source": [
        "data = np.array([1.6, 2, 3], dtype=float)\n",
        "data.astype(int)"
      ],
      "id": "117e72ea",
      "execution_count": null,
      "outputs": []
    },
    {
      "cell_type": "markdown",
      "metadata": {},
      "source": [
        "### Type promotion"
      ],
      "id": "774ebb32"
    },
    {
      "cell_type": "code",
      "metadata": {},
      "source": [
        "d1 = np.array([1, 2, 3], dtype=float)\n",
        "d2 = np.array([1, 2, 3], dtype=complex)"
      ],
      "id": "8778ae1b",
      "execution_count": null,
      "outputs": []
    },
    {
      "cell_type": "code",
      "metadata": {},
      "source": [
        "d1 + d2"
      ],
      "id": "78db7588",
      "execution_count": null,
      "outputs": []
    },
    {
      "cell_type": "code",
      "metadata": {},
      "source": [
        "(d1 + d2).dtype"
      ],
      "id": "6ff81c91",
      "execution_count": null,
      "outputs": []
    },
    {
      "cell_type": "markdown",
      "metadata": {},
      "source": [
        "### Type-depending operation"
      ],
      "id": "297c1e68"
    },
    {
      "cell_type": "code",
      "metadata": {},
      "source": [
        "np.sqrt(np.array([-1, 0, 1]))"
      ],
      "id": "0cb6d6a3",
      "execution_count": null,
      "outputs": []
    },
    {
      "cell_type": "code",
      "metadata": {},
      "source": [
        "np.sqrt(np.array([-1, 0, 1], dtype=complex))"
      ],
      "id": "63110eba",
      "execution_count": null,
      "outputs": []
    },
    {
      "cell_type": "markdown",
      "metadata": {},
      "source": [
        "### Real and imaginary parts"
      ],
      "id": "a858d983"
    },
    {
      "cell_type": "code",
      "metadata": {},
      "source": [
        "data = np.array([1, 2, 3], dtype=complex)\n",
        "data"
      ],
      "id": "4b3d1652",
      "execution_count": null,
      "outputs": []
    },
    {
      "cell_type": "code",
      "metadata": {},
      "source": [
        "data.real"
      ],
      "id": "da0699ff",
      "execution_count": null,
      "outputs": []
    },
    {
      "cell_type": "code",
      "metadata": {},
      "source": [
        "data.imag"
      ],
      "id": "5a5d39fb",
      "execution_count": null,
      "outputs": []
    },
    {
      "cell_type": "code",
      "metadata": {},
      "source": [
        "np.real(data)"
      ],
      "id": "ff3557be",
      "execution_count": null,
      "outputs": []
    },
    {
      "cell_type": "code",
      "metadata": {},
      "source": [
        "np.imag(data)"
      ],
      "id": "6bf54b89",
      "execution_count": null,
      "outputs": []
    },
    {
      "cell_type": "markdown",
      "metadata": {},
      "source": [
        "### Order of array data in memory\n",
        "\n",
        "* <font color=\"red\">Multidimensional arrays are stored as contiguous data in memory</font>. $~$Consider the case of a two-dimensional array, $~$containing rows and columns: $~$One possible way to store this array as a consecutive sequence of values is to store the rows after each other, and another equally valid approach is to store the columns one after another\n",
        "\n",
        "* The former is called <font color=\"green\">row-major format</font> and the latter is <font color=\"green\">column-major format</font>. Whether to use row-major or column-major is a matter of conventions, and the **row-major format** is used for example in the **C** programming language, and **Fortran** uses the **column-major format**\n",
        "\n",
        "* A `numpy` array can be specified to be stored in row-major format, using the keyword argument `order='C'`, and column-major format, using the keyword argument `order='F'`, when the array is created or reshaped. <font color=\"blue\">The default format is *row-major*</font> \n",
        "\n",
        "* In general, the `numpy` array attribute `ndarray.strides` defines exactly how this mapping is done. The `strides` attribute is a tuple of the same length as the number of axes (dimensions) of the array. Each value in `strides` is the factor by which the index for the corresponding axis is multiplied when calculating the *memory offset (in bytes)* for a given index expression\n"
      ],
      "id": "e588b381"
    },
    {
      "cell_type": "code",
      "metadata": {},
      "source": [
        "data = np.array([[1, 2, 3], [4, 5, 6]], dtype=np.int32)\n",
        "data"
      ],
      "id": "7e8e9cbb",
      "execution_count": null,
      "outputs": []
    },
    {
      "cell_type": "code",
      "metadata": {},
      "source": [
        "data.strides"
      ],
      "id": "78f06e6f",
      "execution_count": null,
      "outputs": []
    },
    {
      "cell_type": "code",
      "metadata": {},
      "source": [
        "data = np.array([[1, 2, 3], [4, 5, 6]], dtype=np.int32, order='F')\n",
        "data"
      ],
      "id": "422abea8",
      "execution_count": null,
      "outputs": []
    },
    {
      "cell_type": "code",
      "metadata": {},
      "source": [
        "data.strides"
      ],
      "id": "b73ea0b2",
      "execution_count": null,
      "outputs": []
    },
    {
      "cell_type": "markdown",
      "metadata": {},
      "source": [
        "## Creating arrays\n",
        "\n",
        "### Arrays created from lists and other array-like objects"
      ],
      "id": "1c9f2f48"
    },
    {
      "cell_type": "code",
      "metadata": {},
      "source": [
        "data = np.array([1, 2, 3, 4])\n",
        "data.ndim, data.shape"
      ],
      "id": "8023b1a8",
      "execution_count": null,
      "outputs": []
    },
    {
      "cell_type": "code",
      "metadata": {},
      "source": [
        "data = np.array(((1, 2), (3, 4)))\n",
        "data.ndim, data.shape"
      ],
      "id": "f3e7c4ff",
      "execution_count": null,
      "outputs": []
    },
    {
      "cell_type": "markdown",
      "metadata": {},
      "source": [
        "### Arrays filled with constant values"
      ],
      "id": "22ce1646"
    },
    {
      "cell_type": "code",
      "metadata": {},
      "source": [
        "np.zeros((2, 3))"
      ],
      "id": "991dc902",
      "execution_count": null,
      "outputs": []
    },
    {
      "cell_type": "code",
      "metadata": {},
      "source": [
        "data = np.ones(4)\n",
        "data, data.dtype"
      ],
      "id": "a5aa7560",
      "execution_count": null,
      "outputs": []
    },
    {
      "cell_type": "code",
      "metadata": {},
      "source": [
        "5.4 * np.ones(10)"
      ],
      "id": "c21d33ff",
      "execution_count": null,
      "outputs": []
    },
    {
      "cell_type": "code",
      "metadata": {},
      "source": [
        "np.full(10, 5.4) # slightly more efficient"
      ],
      "id": "dd9837a0",
      "execution_count": null,
      "outputs": []
    },
    {
      "cell_type": "code",
      "metadata": {},
      "source": [
        "x1 = np.empty(5)\n",
        "x1.fill(3.0)\n",
        "x1"
      ],
      "id": "bfee5c90",
      "execution_count": null,
      "outputs": []
    },
    {
      "cell_type": "markdown",
      "metadata": {},
      "source": [
        "### Arrays filled with incremental sequences"
      ],
      "id": "fc1cee9e"
    },
    {
      "cell_type": "code",
      "metadata": {},
      "source": [
        "np.arange(0, 11, 1)"
      ],
      "id": "46d201bf",
      "execution_count": null,
      "outputs": []
    },
    {
      "cell_type": "code",
      "metadata": {},
      "source": [
        "np.linspace(0, 10, 11)  # generally recommended"
      ],
      "id": "2434202a",
      "execution_count": null,
      "outputs": []
    },
    {
      "cell_type": "markdown",
      "metadata": {},
      "source": [
        "### Arrays filled with logarithmic sequences"
      ],
      "id": "6abe118c"
    },
    {
      "cell_type": "code",
      "metadata": {},
      "source": [
        "np.logspace(0, 2, 10)  # 5 data points between 10**0=1 to 10**2=100"
      ],
      "id": "6ed40fba",
      "execution_count": null,
      "outputs": []
    },
    {
      "cell_type": "markdown",
      "metadata": {},
      "source": [
        "### Mesh grid arrays"
      ],
      "id": "f336cadb"
    },
    {
      "cell_type": "code",
      "metadata": {},
      "source": [
        "x = np.array([-1, 0, 1])\n",
        "y = np.array([-2, 0, 2])\n",
        "\n",
        "X, Y = np.meshgrid(x, y)"
      ],
      "id": "c75484e3",
      "execution_count": null,
      "outputs": []
    },
    {
      "cell_type": "code",
      "metadata": {},
      "source": [
        "X"
      ],
      "id": "0a88e7b5",
      "execution_count": null,
      "outputs": []
    },
    {
      "cell_type": "code",
      "metadata": {},
      "source": [
        "Y"
      ],
      "id": "c8b2cc77",
      "execution_count": null,
      "outputs": []
    },
    {
      "cell_type": "code",
      "metadata": {},
      "source": [
        "Z = (X + Y)**2\n",
        "Z"
      ],
      "id": "09432115",
      "execution_count": null,
      "outputs": []
    },
    {
      "cell_type": "markdown",
      "metadata": {},
      "source": [
        "### Creating uninitialized arrays"
      ],
      "id": "d4339f9f"
    },
    {
      "cell_type": "code",
      "metadata": {},
      "source": [
        "np.empty(3, dtype=float)"
      ],
      "id": "5f531f75",
      "execution_count": null,
      "outputs": []
    },
    {
      "cell_type": "markdown",
      "metadata": {},
      "source": [
        "### Creating arrays with properties of other arrays"
      ],
      "id": "fb980650"
    },
    {
      "cell_type": "code",
      "metadata": {},
      "source": [
        "def f(x):    \n",
        "    y = np.ones_like(x)    # compute with x and y    \n",
        "    return y\n",
        "\n",
        "x = np.array([[1, 2, 3], [4, 5, 6]])\n",
        "y = f(x)\n",
        "y"
      ],
      "id": "e21fb86f",
      "execution_count": null,
      "outputs": []
    },
    {
      "cell_type": "markdown",
      "metadata": {},
      "source": [
        "### Creating matrix arrays"
      ],
      "id": "529d222f"
    },
    {
      "cell_type": "code",
      "metadata": {},
      "source": [
        "np.identity(4)"
      ],
      "id": "83446a80",
      "execution_count": null,
      "outputs": []
    },
    {
      "cell_type": "code",
      "metadata": {},
      "source": [
        "np.eye(4, k=1)"
      ],
      "id": "0af84f83",
      "execution_count": null,
      "outputs": []
    },
    {
      "cell_type": "code",
      "metadata": {},
      "source": [
        "np.eye(4, k=-1)"
      ],
      "id": "056f05f3",
      "execution_count": null,
      "outputs": []
    },
    {
      "cell_type": "code",
      "metadata": {},
      "source": [
        "np.diag(np.arange(0, 20, 5))"
      ],
      "id": "4643d3c4",
      "execution_count": null,
      "outputs": []
    },
    {
      "cell_type": "markdown",
      "metadata": {},
      "source": [
        "## Indexing and slicing\n",
        "\n",
        "### One-dimensional arrays"
      ],
      "id": "589d627c"
    },
    {
      "cell_type": "code",
      "metadata": {},
      "source": [
        "a = np.arange(0, 11)\n",
        "a"
      ],
      "id": "7a2ee924",
      "execution_count": null,
      "outputs": []
    },
    {
      "cell_type": "code",
      "metadata": {},
      "source": [
        "a[0]"
      ],
      "id": "f82ff0ac",
      "execution_count": null,
      "outputs": []
    },
    {
      "cell_type": "code",
      "metadata": {},
      "source": [
        "a[-1]"
      ],
      "id": "078be02b",
      "execution_count": null,
      "outputs": []
    },
    {
      "cell_type": "code",
      "metadata": {},
      "source": [
        "a[4]"
      ],
      "id": "5ae9d8f5",
      "execution_count": null,
      "outputs": []
    },
    {
      "cell_type": "markdown",
      "metadata": {},
      "source": [
        "---"
      ],
      "id": "12ff19cb"
    },
    {
      "cell_type": "code",
      "metadata": {},
      "source": [
        "a[1:-1]"
      ],
      "id": "04a0ca28",
      "execution_count": null,
      "outputs": []
    },
    {
      "cell_type": "code",
      "metadata": {},
      "source": [
        "a[1:-1:2]"
      ],
      "id": "5d22c145",
      "execution_count": null,
      "outputs": []
    },
    {
      "cell_type": "markdown",
      "metadata": {},
      "source": [
        "---"
      ],
      "id": "a0744574"
    },
    {
      "cell_type": "code",
      "metadata": {},
      "source": [
        "a[:5]"
      ],
      "id": "3341829f",
      "execution_count": null,
      "outputs": []
    },
    {
      "cell_type": "code",
      "metadata": {},
      "source": [
        "a[-5:]"
      ],
      "id": "261d178f",
      "execution_count": null,
      "outputs": []
    },
    {
      "cell_type": "code",
      "metadata": {},
      "source": [
        "a[::-2]"
      ],
      "id": "d38f7edd",
      "execution_count": null,
      "outputs": []
    },
    {
      "cell_type": "markdown",
      "metadata": {},
      "source": [
        "### Multidimensional arrays"
      ],
      "id": "5f0016a0"
    },
    {
      "cell_type": "code",
      "metadata": {},
      "source": [
        "f = lambda m, n: n + 10*m"
      ],
      "id": "78f6b4d0",
      "execution_count": null,
      "outputs": []
    },
    {
      "cell_type": "code",
      "metadata": {},
      "source": [
        "# please search for numpy.fromfunction at google\n",
        "A = np.fromfunction(f, (6, 6), dtype=int)\n",
        "A  "
      ],
      "id": "8d578929",
      "execution_count": null,
      "outputs": []
    },
    {
      "cell_type": "code",
      "metadata": {},
      "source": [
        "A[:, 1]  # the second column"
      ],
      "id": "2567556e",
      "execution_count": null,
      "outputs": []
    },
    {
      "cell_type": "code",
      "metadata": {},
      "source": [
        "A[1, :]  # the second row"
      ],
      "id": "11506728",
      "execution_count": null,
      "outputs": []
    },
    {
      "cell_type": "code",
      "metadata": {},
      "source": [
        "A[:3, :3]"
      ],
      "id": "c406bea2",
      "execution_count": null,
      "outputs": []
    },
    {
      "cell_type": "code",
      "metadata": {},
      "source": [
        "A[3:, :3]"
      ],
      "id": "1e8ce82e",
      "execution_count": null,
      "outputs": []
    },
    {
      "cell_type": "code",
      "metadata": {},
      "source": [
        "A[::2, ::2]"
      ],
      "id": "e04d79ad",
      "execution_count": null,
      "outputs": []
    },
    {
      "cell_type": "code",
      "metadata": {},
      "source": [
        "A[1::2, 1::3]"
      ],
      "id": "2783f858",
      "execution_count": null,
      "outputs": []
    },
    {
      "cell_type": "markdown",
      "metadata": {},
      "source": [
        "### Views\n",
        "\n",
        "* Subarrays that are extracted from arrays using slice operations are **alternative views** of the same underlying array data. That is, $~$they are arrays that refer to the same data in memory as the original array, $~$but with a different `strides` configuration\n",
        "\n",
        "* When elements in a view are assigned new values, $~$the values of the original\n",
        "array are therefore also updated. For example,"
      ],
      "id": "481cb36b"
    },
    {
      "cell_type": "code",
      "metadata": {},
      "source": [
        "B = A[1:5, 1:5]\n",
        "B"
      ],
      "id": "1ceec450",
      "execution_count": null,
      "outputs": []
    },
    {
      "cell_type": "code",
      "metadata": {},
      "source": [
        "B[:, :] = 0\n",
        "A"
      ],
      "id": "ccc67388",
      "execution_count": null,
      "outputs": []
    },
    {
      "cell_type": "markdown",
      "metadata": {},
      "source": [
        "* When a copy rather than a view is needed, the view can be copied explicitly by using the `copy` method of the `ndarray` instance"
      ],
      "id": "e3c3dc39"
    },
    {
      "cell_type": "code",
      "metadata": {},
      "source": [
        "C = B[1:3, 1:3].copy()\n",
        "C"
      ],
      "id": "6dc85bfc",
      "execution_count": null,
      "outputs": []
    },
    {
      "cell_type": "code",
      "metadata": {},
      "source": [
        "C[:, :] = 1\n",
        "C"
      ],
      "id": "fd86f25a",
      "execution_count": null,
      "outputs": []
    },
    {
      "cell_type": "code",
      "metadata": {},
      "source": [
        "B"
      ],
      "id": "66218e26",
      "execution_count": null,
      "outputs": []
    },
    {
      "cell_type": "markdown",
      "metadata": {},
      "source": [
        "### Fancy indexing and boolean-valued indexing"
      ],
      "id": "e0b7f9eb"
    },
    {
      "cell_type": "code",
      "metadata": {},
      "source": [
        "A = np.linspace(0, 1, 11)\n",
        "A"
      ],
      "id": "52be2a9f",
      "execution_count": null,
      "outputs": []
    },
    {
      "cell_type": "code",
      "metadata": {},
      "source": [
        "A[np.array([0, 2, 4])]"
      ],
      "id": "f69d4925",
      "execution_count": null,
      "outputs": []
    },
    {
      "cell_type": "code",
      "metadata": {},
      "source": [
        "A[[0, 2, 4]]"
      ],
      "id": "067421f7",
      "execution_count": null,
      "outputs": []
    },
    {
      "cell_type": "markdown",
      "metadata": {},
      "source": [
        "---"
      ],
      "id": "4c2b1721"
    },
    {
      "cell_type": "code",
      "metadata": {},
      "source": [
        "A > 0.5"
      ],
      "id": "626a4db9",
      "execution_count": null,
      "outputs": []
    },
    {
      "cell_type": "code",
      "metadata": {},
      "source": [
        "A[A > 0.5]"
      ],
      "id": "2a905c39",
      "execution_count": null,
      "outputs": []
    },
    {
      "cell_type": "markdown",
      "metadata": {},
      "source": [
        "* Unlike arrays created by using slices, $~$**the arrays returned using fancy indexing and Boolean-valued\n",
        "indexing are not views**, $~$but rather new independent arrays"
      ],
      "id": "d88356d7"
    },
    {
      "cell_type": "code",
      "metadata": {},
      "source": [
        "A = np.arange(10)\n",
        "indices = [2, 4, 6]"
      ],
      "id": "73ad3312",
      "execution_count": null,
      "outputs": []
    },
    {
      "cell_type": "code",
      "metadata": {},
      "source": [
        "B = A[indices]"
      ],
      "id": "c04506b3",
      "execution_count": null,
      "outputs": []
    },
    {
      "cell_type": "code",
      "metadata": {},
      "source": [
        "B[0] = -1\n",
        "A"
      ],
      "id": "306d7ced",
      "execution_count": null,
      "outputs": []
    },
    {
      "cell_type": "code",
      "metadata": {},
      "source": [
        "A[indices] = -1\n",
        "A"
      ],
      "id": "34e90241",
      "execution_count": null,
      "outputs": []
    },
    {
      "cell_type": "markdown",
      "metadata": {},
      "source": [
        "---"
      ],
      "id": "209f3f2e"
    },
    {
      "cell_type": "code",
      "metadata": {},
      "source": [
        "A = np.arange(10)"
      ],
      "id": "4b7983cc",
      "execution_count": null,
      "outputs": []
    },
    {
      "cell_type": "code",
      "metadata": {},
      "source": [
        "B = A[A > 5]"
      ],
      "id": "06d98427",
      "execution_count": null,
      "outputs": []
    },
    {
      "cell_type": "code",
      "metadata": {},
      "source": [
        "B[0] = -1\n",
        "A"
      ],
      "id": "85b18b1f",
      "execution_count": null,
      "outputs": []
    },
    {
      "cell_type": "code",
      "metadata": {},
      "source": [
        "A[A > 5] = -1\n",
        "A"
      ],
      "id": "cad0800b",
      "execution_count": null,
      "outputs": []
    },
    {
      "cell_type": "markdown",
      "metadata": {},
      "source": [
        "### Summery"
      ],
      "id": "4e35e3c0"
    },
    {
      "cell_type": "code",
      "metadata": {},
      "source": [
        "show_array((4, 4), ':, :')"
      ],
      "id": "dea637d3",
      "execution_count": null,
      "outputs": []
    },
    {
      "cell_type": "code",
      "metadata": {},
      "source": [
        "show_array((4, 4), '0')"
      ],
      "id": "65862413",
      "execution_count": null,
      "outputs": []
    },
    {
      "cell_type": "code",
      "metadata": {},
      "source": [
        "show_array((4, 4), '1, :')"
      ],
      "id": "16fa714c",
      "execution_count": null,
      "outputs": []
    },
    {
      "cell_type": "code",
      "metadata": {},
      "source": [
        "show_array((4, 4), ':, 2')"
      ],
      "id": "05c81fdc",
      "execution_count": null,
      "outputs": []
    },
    {
      "cell_type": "markdown",
      "metadata": {},
      "source": [
        "---"
      ],
      "id": "c1decae2"
    },
    {
      "cell_type": "code",
      "metadata": {},
      "source": [
        "show_array((4, 4), '0:2, 0:2')"
      ],
      "id": "f5516ab3",
      "execution_count": null,
      "outputs": []
    },
    {
      "cell_type": "code",
      "metadata": {},
      "source": [
        "show_array((4, 4), '0:2, 2:4')"
      ],
      "id": "60908ff6",
      "execution_count": null,
      "outputs": []
    },
    {
      "cell_type": "code",
      "metadata": {},
      "source": [
        "show_array((4, 4), '::2, ::2')"
      ],
      "id": "ecb4d316",
      "execution_count": null,
      "outputs": []
    },
    {
      "cell_type": "code",
      "metadata": {},
      "source": [
        "show_array((4, 4), '1::2, 1::2')"
      ],
      "id": "22d9b395",
      "execution_count": null,
      "outputs": []
    },
    {
      "cell_type": "code",
      "metadata": {},
      "source": [
        "show_array((4, 4), ':, [0, 3]')"
      ],
      "id": "fa2d5401",
      "execution_count": null,
      "outputs": []
    },
    {
      "cell_type": "code",
      "metadata": {},
      "source": [
        "show_array((4, 4), '[1, 3], [0, 3]')"
      ],
      "id": "bd1be3d3",
      "execution_count": null,
      "outputs": []
    },
    {
      "cell_type": "code",
      "metadata": {},
      "source": [
        "show_array((4, 4), ':, [False, True, True, False]')"
      ],
      "id": "f6c0b7a7",
      "execution_count": null,
      "outputs": []
    },
    {
      "cell_type": "code",
      "metadata": {},
      "source": [
        "show_array((4, 4), '1:3, [False, True, True, False]')"
      ],
      "id": "5e6b3ee5",
      "execution_count": null,
      "outputs": []
    },
    {
      "cell_type": "markdown",
      "metadata": {},
      "source": [
        "## Reshaping and resizing\n",
        "\n",
        "* Reshaping an array does not require modifying the underlying array data; it only changes in how the data is interpreted, by redefining the array’s strides attribute"
      ],
      "id": "e36a33f1"
    },
    {
      "cell_type": "code",
      "metadata": {},
      "source": [
        "data = np.array([[1, 2], [3, 4]])\n",
        "data1 = np.reshape(data, (1, 4))\n",
        "data1"
      ],
      "id": "b9ada1b5",
      "execution_count": null,
      "outputs": []
    },
    {
      "cell_type": "code",
      "metadata": {},
      "source": [
        "data1[0, 1] = -1\n",
        "data"
      ],
      "id": "23444061",
      "execution_count": null,
      "outputs": []
    },
    {
      "cell_type": "code",
      "metadata": {},
      "source": [
        "data2 = data.reshape(4)\n",
        "data2"
      ],
      "id": "c0579ffe",
      "execution_count": null,
      "outputs": []
    },
    {
      "cell_type": "code",
      "metadata": {},
      "source": [
        "data2[1] = -2\n",
        "data"
      ],
      "id": "fcd18cf2",
      "execution_count": null,
      "outputs": []
    },
    {
      "cell_type": "markdown",
      "metadata": {},
      "source": [
        "---"
      ],
      "id": "e62cde24"
    },
    {
      "cell_type": "code",
      "metadata": {},
      "source": [
        "data = np.array([[1, 2], [3, 4]])\n",
        "data1 = np.ravel(data)\n",
        "data1"
      ],
      "id": "3bb6b25a",
      "execution_count": null,
      "outputs": []
    },
    {
      "cell_type": "code",
      "metadata": {},
      "source": [
        "data1[0] = -1\n",
        "data"
      ],
      "id": "aa76b4b5",
      "execution_count": null,
      "outputs": []
    },
    {
      "cell_type": "markdown",
      "metadata": {},
      "source": [
        "* The `ndarray` method `flatten` perform the same function, $~$but\n",
        "returns a **copy** instead of a view"
      ],
      "id": "dd45d8b4"
    },
    {
      "cell_type": "code",
      "metadata": {},
      "source": [
        "data2 = data.flatten()\n",
        "data2"
      ],
      "id": "830509f9",
      "execution_count": null,
      "outputs": []
    },
    {
      "cell_type": "code",
      "metadata": {},
      "source": [
        "data2[0] = -2\n",
        "data"
      ],
      "id": "d777235c",
      "execution_count": null,
      "outputs": []
    },
    {
      "cell_type": "markdown",
      "metadata": {},
      "source": [
        "---"
      ],
      "id": "d71a7169"
    },
    {
      "cell_type": "code",
      "metadata": {},
      "source": [
        "data = np.arange(0, 5)\n",
        "data.shape"
      ],
      "id": "488aa545",
      "execution_count": null,
      "outputs": []
    },
    {
      "cell_type": "code",
      "metadata": {},
      "source": [
        "column = data[:, np.newaxis]\n",
        "column"
      ],
      "id": "b6ee3027",
      "execution_count": null,
      "outputs": []
    },
    {
      "cell_type": "code",
      "metadata": {},
      "source": [
        "column.shape"
      ],
      "id": "5a4c2d03",
      "execution_count": null,
      "outputs": []
    },
    {
      "cell_type": "code",
      "metadata": {},
      "source": [
        "row = data[np.newaxis, :]\n",
        "row"
      ],
      "id": "52eb545a",
      "execution_count": null,
      "outputs": []
    },
    {
      "cell_type": "code",
      "metadata": {},
      "source": [
        "row.shape"
      ],
      "id": "0aaf722e",
      "execution_count": null,
      "outputs": []
    },
    {
      "cell_type": "code",
      "metadata": {},
      "source": [
        "row[0, 0] = -1\n",
        "data"
      ],
      "id": "efbd3e35",
      "execution_count": null,
      "outputs": []
    },
    {
      "cell_type": "markdown",
      "metadata": {},
      "source": [
        "---"
      ],
      "id": "00c2f9e0"
    },
    {
      "cell_type": "code",
      "metadata": {},
      "source": [
        "np.expand_dims(data, axis=1) "
      ],
      "id": "2ba875ea",
      "execution_count": null,
      "outputs": []
    },
    {
      "cell_type": "code",
      "metadata": {},
      "source": [
        "row = np.expand_dims(data, axis=0)\n",
        "row"
      ],
      "id": "48a32b89",
      "execution_count": null,
      "outputs": []
    },
    {
      "cell_type": "code",
      "metadata": {},
      "source": [
        "row[0, 0] = 0\n",
        "data"
      ],
      "id": "1352211f",
      "execution_count": null,
      "outputs": []
    },
    {
      "cell_type": "markdown",
      "metadata": {},
      "source": [
        "---"
      ],
      "id": "05fde897"
    },
    {
      "cell_type": "code",
      "metadata": {},
      "source": [
        "data = np.arange(5)\n",
        "data"
      ],
      "id": "43cd654f",
      "execution_count": null,
      "outputs": []
    },
    {
      "cell_type": "code",
      "metadata": {},
      "source": [
        "np.vstack((data, data, data))"
      ],
      "id": "f02ac031",
      "execution_count": null,
      "outputs": []
    },
    {
      "cell_type": "code",
      "metadata": {},
      "source": [
        "np.hstack((data, data, data))"
      ],
      "id": "6a90926e",
      "execution_count": null,
      "outputs": []
    },
    {
      "cell_type": "code",
      "metadata": {},
      "source": [
        "data = data[:, np.newaxis]\n",
        "data.shape"
      ],
      "id": "bfe64b7c",
      "execution_count": null,
      "outputs": []
    },
    {
      "cell_type": "code",
      "metadata": {},
      "source": [
        "np.hstack((data, data, data))"
      ],
      "id": "93bbbbf4",
      "execution_count": null,
      "outputs": []
    },
    {
      "cell_type": "code",
      "metadata": {},
      "source": [
        "data1 = np.array([[1, 2], [3, 4]])\n",
        "data2 = np.array([[5, 6]])"
      ],
      "id": "b7e2a9b9",
      "execution_count": null,
      "outputs": []
    },
    {
      "cell_type": "code",
      "metadata": {},
      "source": [
        "np.concatenate((data1, data2), axis=0)"
      ],
      "id": "61d0451a",
      "execution_count": null,
      "outputs": []
    },
    {
      "cell_type": "code",
      "metadata": {},
      "source": [
        "np.concatenate((data1, data2.T), axis=1)"
      ],
      "id": "c603a36f",
      "execution_count": null,
      "outputs": []
    },
    {
      "cell_type": "markdown",
      "metadata": {},
      "source": [
        "## Vectorized expressions\n",
        "\n",
        "### Arithmetic operations"
      ],
      "id": "5d797601"
    },
    {
      "cell_type": "code",
      "metadata": {},
      "source": [
        "x = np.array([[1, 2], [3, 4]])\n",
        "y = np.array([[5, 6], [7, 8]])"
      ],
      "id": "c645f5b4",
      "execution_count": null,
      "outputs": []
    },
    {
      "cell_type": "code",
      "metadata": {},
      "source": [
        "x + y"
      ],
      "id": "5ff680e4",
      "execution_count": null,
      "outputs": []
    },
    {
      "cell_type": "code",
      "metadata": {},
      "source": [
        "y - x"
      ],
      "id": "369a6c74",
      "execution_count": null,
      "outputs": []
    },
    {
      "cell_type": "code",
      "metadata": {},
      "source": [
        "x * y"
      ],
      "id": "b7b08ab5",
      "execution_count": null,
      "outputs": []
    },
    {
      "cell_type": "code",
      "metadata": {},
      "source": [
        "y / x"
      ],
      "id": "296fa02b",
      "execution_count": null,
      "outputs": []
    },
    {
      "cell_type": "markdown",
      "metadata": {},
      "source": [
        "---"
      ],
      "id": "0b2a0bfa"
    },
    {
      "cell_type": "code",
      "metadata": {},
      "source": [
        "x * 2"
      ],
      "id": "181e4b38",
      "execution_count": null,
      "outputs": []
    },
    {
      "cell_type": "code",
      "metadata": {},
      "source": [
        "2**x"
      ],
      "id": "a906e92b",
      "execution_count": null,
      "outputs": []
    },
    {
      "cell_type": "code",
      "metadata": {},
      "source": [
        "y / 2"
      ],
      "id": "9016c139",
      "execution_count": null,
      "outputs": []
    },
    {
      "cell_type": "code",
      "metadata": {},
      "source": [
        "(y / 2).dtype"
      ],
      "id": "75662402",
      "execution_count": null,
      "outputs": []
    },
    {
      "cell_type": "markdown",
      "metadata": {},
      "source": [
        "### Broadcasting"
      ],
      "id": "729fa836"
    },
    {
      "cell_type": "code",
      "metadata": {},
      "source": [
        "a = np.array([[11, 12, 13], [21, 22, 23], [31, 32, 33]])\n",
        "b = np.array([[1, 2, 3]])"
      ],
      "id": "8a57c299",
      "execution_count": null,
      "outputs": []
    },
    {
      "cell_type": "code",
      "metadata": {},
      "source": [
        "a + b"
      ],
      "id": "309c279b",
      "execution_count": null,
      "outputs": []
    },
    {
      "cell_type": "code",
      "metadata": {},
      "source": [
        "show_array_broadcasting(a, b)"
      ],
      "id": "cdb6ced3",
      "execution_count": null,
      "outputs": []
    },
    {
      "cell_type": "code",
      "metadata": {},
      "source": [
        "a + b.T"
      ],
      "id": "be556f4d",
      "execution_count": null,
      "outputs": []
    },
    {
      "cell_type": "code",
      "metadata": {},
      "source": [
        "show_array_broadcasting(a, b.T)"
      ],
      "id": "61f6a153",
      "execution_count": null,
      "outputs": []
    },
    {
      "cell_type": "markdown",
      "metadata": {},
      "source": [
        "---"
      ],
      "id": "cee8ddc9"
    },
    {
      "cell_type": "code",
      "metadata": {},
      "source": [
        "x = np.array([1, 2, 3, 4]).reshape(2, 2)\n",
        "x.shape"
      ],
      "id": "d4423ee3",
      "execution_count": null,
      "outputs": []
    },
    {
      "cell_type": "code",
      "metadata": {},
      "source": [
        "z = np.array([[2, 4]])\n",
        "z.shape"
      ],
      "id": "2ab47f8b",
      "execution_count": null,
      "outputs": []
    },
    {
      "cell_type": "code",
      "metadata": {},
      "source": [
        "x / z"
      ],
      "id": "16616a6b",
      "execution_count": null,
      "outputs": []
    },
    {
      "cell_type": "code",
      "metadata": {},
      "source": [
        "zz = np.vstack((z, z))\n",
        "zz"
      ],
      "id": "b1243790",
      "execution_count": null,
      "outputs": []
    },
    {
      "cell_type": "code",
      "metadata": {},
      "source": [
        "x / zz"
      ],
      "id": "ee1a4249",
      "execution_count": null,
      "outputs": []
    },
    {
      "cell_type": "markdown",
      "metadata": {},
      "source": [
        "---"
      ],
      "id": "1b413b5b"
    },
    {
      "cell_type": "code",
      "metadata": {},
      "source": [
        "z = np.array([[2], [4]])\n",
        "z.shape"
      ],
      "id": "7631a3f3",
      "execution_count": null,
      "outputs": []
    },
    {
      "cell_type": "code",
      "metadata": {},
      "source": [
        "x / z"
      ],
      "id": "3f8ee432",
      "execution_count": null,
      "outputs": []
    },
    {
      "cell_type": "code",
      "metadata": {},
      "source": [
        "zz = np.concatenate([z, z], axis=1)\n",
        "zz"
      ],
      "id": "6f2d0805",
      "execution_count": null,
      "outputs": []
    },
    {
      "cell_type": "code",
      "metadata": {},
      "source": [
        "x / zz"
      ],
      "id": "b6b61fc2",
      "execution_count": null,
      "outputs": []
    },
    {
      "cell_type": "markdown",
      "metadata": {},
      "source": [
        "---"
      ],
      "id": "f34fde15"
    },
    {
      "cell_type": "code",
      "metadata": {},
      "source": [
        "x = z = np.array([1, 2, 3, 4])\n",
        "y = np.array([5, 6, 7, 8])\n",
        "x = x + y  # x is reassigned to a new array"
      ],
      "id": "c8cc8d86",
      "execution_count": null,
      "outputs": []
    },
    {
      "cell_type": "code",
      "metadata": {},
      "source": [
        "x, z"
      ],
      "id": "bcf78923",
      "execution_count": null,
      "outputs": []
    },
    {
      "cell_type": "code",
      "metadata": {},
      "source": [
        "x = z = np.array([1, 2, 3, 4])\n",
        "y = np.array([5, 6, 7, 8])\n",
        "x += y  # the values of array x are updated in place"
      ],
      "id": "2bb23bcb",
      "execution_count": null,
      "outputs": []
    },
    {
      "cell_type": "code",
      "metadata": {},
      "source": [
        "x, z"
      ],
      "id": "17edc331",
      "execution_count": null,
      "outputs": []
    },
    {
      "cell_type": "markdown",
      "metadata": {},
      "source": [
        "### Elementwise functions"
      ],
      "id": "cf979caa"
    },
    {
      "cell_type": "code",
      "metadata": {},
      "source": [
        "x = np.linspace(-1, 1, 11)\n",
        "x"
      ],
      "id": "9a974525",
      "execution_count": null,
      "outputs": []
    },
    {
      "cell_type": "code",
      "metadata": {},
      "source": [
        "y = np.sin(np.pi * x)"
      ],
      "id": "4c787557",
      "execution_count": null,
      "outputs": []
    },
    {
      "cell_type": "code",
      "metadata": {},
      "source": [
        "np.round(y, decimals=4)"
      ],
      "id": "586bcd0a",
      "execution_count": null,
      "outputs": []
    },
    {
      "cell_type": "code",
      "metadata": {},
      "source": [
        "np.add(np.sin(x)**2, np.cos(x)**2)"
      ],
      "id": "2a42ca34",
      "execution_count": null,
      "outputs": []
    },
    {
      "cell_type": "code",
      "metadata": {},
      "source": [
        "np.sin(x)**2 + np.cos(x)**2"
      ],
      "id": "5041276b",
      "execution_count": null,
      "outputs": []
    },
    {
      "cell_type": "markdown",
      "metadata": {},
      "source": [
        "---"
      ],
      "id": "6088bdaa"
    },
    {
      "cell_type": "code",
      "metadata": {},
      "source": [
        "def heaviside(x):\n",
        "    return 1 if x > 0 else 0"
      ],
      "id": "df1296e4",
      "execution_count": null,
      "outputs": []
    },
    {
      "cell_type": "code",
      "metadata": {},
      "source": [
        "heaviside(-1)"
      ],
      "id": "aa271b26",
      "execution_count": null,
      "outputs": []
    },
    {
      "cell_type": "code",
      "metadata": {},
      "source": [
        "heaviside(1.5)"
      ],
      "id": "9be5741b",
      "execution_count": null,
      "outputs": []
    },
    {
      "cell_type": "markdown",
      "metadata": {},
      "source": [
        "````\n",
        "```{{python}}\n",
        "x = np.linspace(-5, 5, 11)\n",
        "heaviside(x)\n",
        "```\n",
        "\n",
        "ValueError \n",
        "      1 x = np.linspace(-5, 5, 11)\n",
        "----> 2 heaviside(x)\n",
        "\n",
        "      1 def heaviside(x):\n",
        "----> 2     return 1 if x > 0 else 0\n",
        "\n",
        "ValueError: The truth value of an array with more than \n",
        "one element is ambiguous. Use a.any() or a.all()\n",
        "\n",
        "````"
      ],
      "id": "47bc1e86"
    },
    {
      "cell_type": "code",
      "metadata": {},
      "source": [
        "heaviside = np.vectorize(heaviside)\n",
        "heaviside(x)"
      ],
      "id": "2a7394ab",
      "execution_count": null,
      "outputs": []
    },
    {
      "cell_type": "code",
      "metadata": {},
      "source": [
        "def heaviside(x):  # much better way\n",
        "    return 1 * (x > 0)\n",
        "\n",
        "heaviside(x)"
      ],
      "id": "7096d982",
      "execution_count": null,
      "outputs": []
    },
    {
      "cell_type": "markdown",
      "metadata": {},
      "source": [
        "### Aggregation"
      ],
      "id": "c68e8851"
    },
    {
      "cell_type": "code",
      "metadata": {},
      "source": [
        "data = np.random.normal(size=(15, 15)) "
      ],
      "id": "53275244",
      "execution_count": null,
      "outputs": []
    },
    {
      "cell_type": "code",
      "metadata": {},
      "source": [
        "np.mean(data)"
      ],
      "id": "1768aa71",
      "execution_count": null,
      "outputs": []
    },
    {
      "cell_type": "code",
      "metadata": {},
      "source": [
        "data.mean()"
      ],
      "id": "61601cf6",
      "execution_count": null,
      "outputs": []
    },
    {
      "cell_type": "markdown",
      "metadata": {},
      "source": [
        "---"
      ],
      "id": "ce9d2548"
    },
    {
      "cell_type": "code",
      "metadata": {},
      "source": [
        "data = np.random.normal(size=(5, 10, 15))"
      ],
      "id": "8516067d",
      "execution_count": null,
      "outputs": []
    },
    {
      "cell_type": "code",
      "metadata": {},
      "source": [
        "data.sum(axis=0).shape"
      ],
      "id": "c96e88f5",
      "execution_count": null,
      "outputs": []
    },
    {
      "cell_type": "code",
      "metadata": {},
      "source": [
        "data.sum(axis=(0, 2)).shape"
      ],
      "id": "ec96aacf",
      "execution_count": null,
      "outputs": []
    },
    {
      "cell_type": "code",
      "metadata": {},
      "source": [
        "data.sum()"
      ],
      "id": "c541ebcd",
      "execution_count": null,
      "outputs": []
    },
    {
      "cell_type": "markdown",
      "metadata": {},
      "source": [
        "---\n"
      ],
      "id": "0bc971b2"
    },
    {
      "cell_type": "code",
      "metadata": {},
      "source": [
        "data = np.arange(9).reshape(3, 3)\n",
        "data"
      ],
      "id": "4be1f9b6",
      "execution_count": null,
      "outputs": []
    },
    {
      "cell_type": "code",
      "metadata": {},
      "source": [
        "data.sum()"
      ],
      "id": "b46195eb",
      "execution_count": null,
      "outputs": []
    },
    {
      "cell_type": "code",
      "metadata": {},
      "source": [
        "show_array_aggregation(data, None)"
      ],
      "id": "443e1820",
      "execution_count": null,
      "outputs": []
    },
    {
      "cell_type": "code",
      "metadata": {},
      "source": [
        "data.sum(axis=0)"
      ],
      "id": "aeafdae5",
      "execution_count": null,
      "outputs": []
    },
    {
      "cell_type": "code",
      "metadata": {},
      "source": [
        "show_array_aggregation(data, 0)"
      ],
      "id": "aa7723ae",
      "execution_count": null,
      "outputs": []
    },
    {
      "cell_type": "code",
      "metadata": {},
      "source": [
        "data.sum(axis=1)"
      ],
      "id": "a5a0868f",
      "execution_count": null,
      "outputs": []
    },
    {
      "cell_type": "code",
      "metadata": {},
      "source": [
        "show_array_aggregation(data, 1)"
      ],
      "id": "59b55ecd",
      "execution_count": null,
      "outputs": []
    },
    {
      "cell_type": "markdown",
      "metadata": {},
      "source": [
        "### Boolean arrays and conditional expressions"
      ],
      "id": "d0637a5a"
    },
    {
      "cell_type": "code",
      "metadata": {},
      "source": [
        "a = np.array([1, 2, 3, 4])\n",
        "b = np.array([4, 3, 2, 1])"
      ],
      "id": "4b9c5975",
      "execution_count": null,
      "outputs": []
    },
    {
      "cell_type": "code",
      "metadata": {},
      "source": [
        "a < b"
      ],
      "id": "2aae0412",
      "execution_count": null,
      "outputs": []
    },
    {
      "cell_type": "code",
      "metadata": {},
      "source": [
        "np.all(a < b)"
      ],
      "id": "8b96b629",
      "execution_count": null,
      "outputs": []
    },
    {
      "cell_type": "code",
      "metadata": {},
      "source": [
        "np.any(a < b)"
      ],
      "id": "fb2c2a96",
      "execution_count": null,
      "outputs": []
    },
    {
      "cell_type": "markdown",
      "metadata": {},
      "source": [
        "---"
      ],
      "id": "f38d5ffe"
    },
    {
      "cell_type": "code",
      "metadata": {},
      "source": [
        "x = np.array([-2, -1, 0, 1, 2])"
      ],
      "id": "64c61fa8",
      "execution_count": null,
      "outputs": []
    },
    {
      "cell_type": "code",
      "metadata": {},
      "source": [
        "x > 0"
      ],
      "id": "ccd750c1",
      "execution_count": null,
      "outputs": []
    },
    {
      "cell_type": "code",
      "metadata": {},
      "source": [
        "1 * (x > 0)"
      ],
      "id": "22f377ad",
      "execution_count": null,
      "outputs": []
    },
    {
      "cell_type": "code",
      "metadata": {},
      "source": [
        "x * (x > 0)"
      ],
      "id": "868a10c5",
      "execution_count": null,
      "outputs": []
    },
    {
      "cell_type": "markdown",
      "metadata": {},
      "source": [
        "---"
      ],
      "id": "73b0b6e2"
    },
    {
      "cell_type": "code",
      "metadata": {},
      "source": [
        "def pulse(x, position, height, width):\n",
        "    return height * (x >= position) * (x <= (position + width))  "
      ],
      "id": "d174e3fd",
      "execution_count": null,
      "outputs": []
    },
    {
      "cell_type": "code",
      "metadata": {},
      "source": [
        "x = np.linspace(-5, 5, 31)"
      ],
      "id": "85b4d943",
      "execution_count": null,
      "outputs": []
    },
    {
      "cell_type": "code",
      "metadata": {},
      "source": [
        "pulse(x, position=-2, height=1, width=5)"
      ],
      "id": "127e262d",
      "execution_count": null,
      "outputs": []
    },
    {
      "cell_type": "code",
      "metadata": {},
      "source": [
        "pulse(x, position=1, height=2, width=2)"
      ],
      "id": "cb4cd8c7",
      "execution_count": null,
      "outputs": []
    },
    {
      "cell_type": "markdown",
      "metadata": {},
      "source": [
        "---"
      ],
      "id": "96808c57"
    },
    {
      "cell_type": "code",
      "metadata": {},
      "source": [
        "x = np.linspace(-4, 4, 9)\n",
        "x"
      ],
      "id": "8f30732c",
      "execution_count": null,
      "outputs": []
    },
    {
      "cell_type": "code",
      "metadata": {},
      "source": [
        "np.where(x < 0, x**2, x**3)"
      ],
      "id": "2ac2ddef",
      "execution_count": null,
      "outputs": []
    },
    {
      "cell_type": "code",
      "metadata": {},
      "source": [
        "np.select([x < -1, x < 2, x>= 2], [x**2, x**3, x**4])"
      ],
      "id": "22adfa17",
      "execution_count": null,
      "outputs": []
    },
    {
      "cell_type": "code",
      "metadata": {},
      "source": [
        "np.choose([0, 0, 0, 1, 1, 1, 2, 2, 2], [x**2, x**3, x**4])"
      ],
      "id": "1abc1d9c",
      "execution_count": null,
      "outputs": []
    },
    {
      "cell_type": "code",
      "metadata": {},
      "source": [
        "x[np.abs(x) > 2]"
      ],
      "id": "b430cffc",
      "execution_count": null,
      "outputs": []
    },
    {
      "cell_type": "markdown",
      "metadata": {},
      "source": [
        "### Set operations"
      ],
      "id": "608491dc"
    },
    {
      "cell_type": "code",
      "metadata": {},
      "source": [
        "a = np.unique([1, 2, 3, 3])\n",
        "a"
      ],
      "id": "9f2c5b40",
      "execution_count": null,
      "outputs": []
    },
    {
      "cell_type": "code",
      "metadata": {},
      "source": [
        "b = np.unique([2, 3, 4, 4, 5, 6, 5])\n",
        "b"
      ],
      "id": "039842d1",
      "execution_count": null,
      "outputs": []
    },
    {
      "cell_type": "code",
      "metadata": {},
      "source": [
        "np.in1d(a, b)"
      ],
      "id": "c693e7a3",
      "execution_count": null,
      "outputs": []
    },
    {
      "cell_type": "code",
      "metadata": {},
      "source": [
        "1 in a, 1 in b"
      ],
      "id": "a3bd6816",
      "execution_count": null,
      "outputs": []
    },
    {
      "cell_type": "code",
      "metadata": {},
      "source": [
        "np.all(np.in1d(a, b))  # to test if a is a subset of b"
      ],
      "id": "0cd18846",
      "execution_count": null,
      "outputs": []
    },
    {
      "cell_type": "markdown",
      "metadata": {},
      "source": [
        "---"
      ],
      "id": "af752cac"
    },
    {
      "cell_type": "code",
      "metadata": {},
      "source": [
        "np.union1d(a, b)"
      ],
      "id": "36d017f9",
      "execution_count": null,
      "outputs": []
    },
    {
      "cell_type": "code",
      "metadata": {},
      "source": [
        "np.intersect1d(a, b)"
      ],
      "id": "70ba09be",
      "execution_count": null,
      "outputs": []
    },
    {
      "cell_type": "code",
      "metadata": {},
      "source": [
        "np.setdiff1d(a, b)"
      ],
      "id": "2f9fc5b6",
      "execution_count": null,
      "outputs": []
    },
    {
      "cell_type": "code",
      "metadata": {},
      "source": [
        "np.setdiff1d(b, a)"
      ],
      "id": "faf60001",
      "execution_count": null,
      "outputs": []
    },
    {
      "cell_type": "markdown",
      "metadata": {},
      "source": [
        "### Operations on arrays"
      ],
      "id": "96079702"
    },
    {
      "cell_type": "code",
      "metadata": {},
      "source": [
        "data = np.arange(9).reshape(3, 3)\n",
        "data"
      ],
      "id": "75648d24",
      "execution_count": null,
      "outputs": []
    },
    {
      "cell_type": "code",
      "metadata": {},
      "source": [
        "np.transpose(data)"
      ],
      "id": "1ddf5b49",
      "execution_count": null,
      "outputs": []
    },
    {
      "cell_type": "markdown",
      "metadata": {},
      "source": [
        "---"
      ],
      "id": "64f05d14"
    },
    {
      "cell_type": "code",
      "metadata": {},
      "source": [
        "data = np.random.randn(1, 2, 3, 4, 5)"
      ],
      "id": "a1f5193a",
      "execution_count": null,
      "outputs": []
    },
    {
      "cell_type": "code",
      "metadata": {},
      "source": [
        "data.shape"
      ],
      "id": "85d43df3",
      "execution_count": null,
      "outputs": []
    },
    {
      "cell_type": "code",
      "metadata": {},
      "source": [
        "data.T.shape"
      ],
      "id": "d8d46ed8",
      "execution_count": null,
      "outputs": []
    },
    {
      "cell_type": "markdown",
      "metadata": {},
      "source": [
        "## Matrix and vector operations"
      ],
      "id": "b34b3b90"
    },
    {
      "cell_type": "code",
      "metadata": {},
      "source": [
        "A = np.arange(1, 7).reshape(2, 3)\n",
        "A"
      ],
      "id": "b457331a",
      "execution_count": null,
      "outputs": []
    },
    {
      "cell_type": "code",
      "metadata": {},
      "source": [
        "B = np.arange(1, 7).reshape(3, 2)\n",
        "B"
      ],
      "id": "b79af4c9",
      "execution_count": null,
      "outputs": []
    },
    {
      "cell_type": "code",
      "metadata": {},
      "source": [
        "np.dot(A, B)"
      ],
      "id": "10cb508f",
      "execution_count": null,
      "outputs": []
    },
    {
      "cell_type": "code",
      "metadata": {},
      "source": [
        "np.dot(B, A)"
      ],
      "id": "9839527d",
      "execution_count": null,
      "outputs": []
    },
    {
      "cell_type": "code",
      "metadata": {},
      "source": [
        "A @ B  # python 3.5 above"
      ],
      "id": "ece5bc74",
      "execution_count": null,
      "outputs": []
    },
    {
      "cell_type": "code",
      "metadata": {},
      "source": [
        "B @ A"
      ],
      "id": "bb24ae99",
      "execution_count": null,
      "outputs": []
    },
    {
      "cell_type": "markdown",
      "metadata": {},
      "source": [
        "---"
      ],
      "id": "f6248343"
    },
    {
      "cell_type": "code",
      "metadata": {},
      "source": [
        "A = np.arange(9).reshape(3, 3)\n",
        "A"
      ],
      "id": "fce9d737",
      "execution_count": null,
      "outputs": []
    },
    {
      "cell_type": "code",
      "metadata": {},
      "source": [
        "x = np.arange(3)\n",
        "x"
      ],
      "id": "7e5cfe55",
      "execution_count": null,
      "outputs": []
    },
    {
      "cell_type": "code",
      "metadata": {},
      "source": [
        "np.dot(A, x)"
      ],
      "id": "4ff84f7e",
      "execution_count": null,
      "outputs": []
    },
    {
      "cell_type": "code",
      "metadata": {},
      "source": [
        "A.dot(x)"
      ],
      "id": "1829629b",
      "execution_count": null,
      "outputs": []
    },
    {
      "cell_type": "code",
      "metadata": {},
      "source": [
        "A @ x"
      ],
      "id": "84da7bbd",
      "execution_count": null,
      "outputs": []
    },
    {
      "cell_type": "markdown",
      "metadata": {},
      "source": [
        "---"
      ],
      "id": "c7523a5a"
    },
    {
      "cell_type": "code",
      "metadata": {},
      "source": [
        "A = np.random.rand(3, 3)\n",
        "B = np.random.rand(3, 3)"
      ],
      "id": "1b875c28",
      "execution_count": null,
      "outputs": []
    },
    {
      "cell_type": "code",
      "metadata": {},
      "source": [
        "Ap = np.dot(B, np.dot(A, np.linalg.inv(B)))"
      ],
      "id": "ba67c2b9",
      "execution_count": null,
      "outputs": []
    },
    {
      "cell_type": "code",
      "metadata": {},
      "source": [
        "Ap = B.dot(A.dot(np.linalg.inv(B)))"
      ],
      "id": "8e75935f",
      "execution_count": null,
      "outputs": []
    },
    {
      "cell_type": "code",
      "metadata": {},
      "source": [
        "B @ A @ np.linalg.inv(B)"
      ],
      "id": "a57d1712",
      "execution_count": null,
      "outputs": []
    },
    {
      "cell_type": "markdown",
      "metadata": {},
      "source": [
        "---"
      ],
      "id": "c7b2d92d"
    },
    {
      "cell_type": "code",
      "metadata": {},
      "source": [
        "np.inner(x, x)"
      ],
      "id": "313d8c9d",
      "execution_count": null,
      "outputs": []
    },
    {
      "cell_type": "code",
      "metadata": {},
      "source": [
        "np.dot(x, x)"
      ],
      "id": "a5f4eaaf",
      "execution_count": null,
      "outputs": []
    },
    {
      "cell_type": "code",
      "metadata": {},
      "source": [
        "y = x[:, np.newaxis]\n",
        "y"
      ],
      "id": "849666d2",
      "execution_count": null,
      "outputs": []
    },
    {
      "cell_type": "code",
      "metadata": {},
      "source": [
        "np.dot(y.T, y)"
      ],
      "id": "f9218a4a",
      "execution_count": null,
      "outputs": []
    },
    {
      "cell_type": "markdown",
      "metadata": {},
      "source": [
        "---\n",
        "\n",
        "* Given two vectors, $\\mathbf{a} = [a_0, a_1, ..., a_M]~$ and $~\\mathbf{b} = [b_0, b_1, ..., b_N]$, $~$the outer product is $\\mathbf{a}^T\\mathbf{b}$\n",
        "\n",
        "$$\\begin{pmatrix}\n",
        " a_0 b_0 & a_0b_1 & \\cdots & a_0 b_N \\\\\n",
        " a_1 b_0 & \\cdots & \\cdots & a_1 b_N \\\\\n",
        " \\vdots  & \\ddots &        & \\vdots  \\\\\n",
        " a_M b_0 &        & \\ddots & a_M b_N \\\\\n",
        " \\end{pmatrix}\n",
        "$$\n"
      ],
      "id": "7846f089"
    },
    {
      "cell_type": "code",
      "metadata": {},
      "source": [
        "x = np.array([1, 2, 3])"
      ],
      "id": "75d625f3",
      "execution_count": null,
      "outputs": []
    },
    {
      "cell_type": "code",
      "metadata": {},
      "source": [
        "np.outer(x, x)"
      ],
      "id": "2e5d6fca",
      "execution_count": null,
      "outputs": []
    },
    {
      "cell_type": "code",
      "metadata": {},
      "source": [
        "np.kron(x, x)"
      ],
      "id": "6a204c4a",
      "execution_count": null,
      "outputs": []
    },
    {
      "cell_type": "code",
      "metadata": {},
      "source": [
        "np.kron(x[:, np.newaxis], x[np.newaxis, :])"
      ],
      "id": "3a1ad6ea",
      "execution_count": null,
      "outputs": []
    },
    {
      "cell_type": "code",
      "metadata": {},
      "source": [
        "np.kron(np.ones((2, 2)), np.identity(2))"
      ],
      "id": "3fa6fddd",
      "execution_count": null,
      "outputs": []
    },
    {
      "cell_type": "code",
      "metadata": {},
      "source": [
        "np.kron(np.identity(2), np.ones((2, 2)))"
      ],
      "id": "065dd0bc",
      "execution_count": null,
      "outputs": []
    },
    {
      "cell_type": "markdown",
      "metadata": {},
      "source": [
        "---"
      ],
      "id": "972ad2e5"
    },
    {
      "cell_type": "code",
      "metadata": {},
      "source": [
        "x = np.array([1, 2, 3, 4])\n",
        "y = np.array([5, 6, 7, 8])"
      ],
      "id": "4200299e",
      "execution_count": null,
      "outputs": []
    },
    {
      "cell_type": "code",
      "metadata": {},
      "source": [
        "np.einsum(\"n,n\", x, y)"
      ],
      "id": "0d8516d2",
      "execution_count": null,
      "outputs": []
    },
    {
      "cell_type": "code",
      "metadata": {},
      "source": [
        "np.inner(x, y)"
      ],
      "id": "2ef1332c",
      "execution_count": null,
      "outputs": []
    },
    {
      "cell_type": "code",
      "metadata": {},
      "source": [
        "A = np.arange(9).reshape(3, 3)\n",
        "B = A.T"
      ],
      "id": "60c8fcfc",
      "execution_count": null,
      "outputs": []
    },
    {
      "cell_type": "code",
      "metadata": {},
      "source": [
        "np.einsum(\"mk,kn\", A, B)"
      ],
      "id": "9beefd77",
      "execution_count": null,
      "outputs": []
    },
    {
      "cell_type": "code",
      "metadata": {},
      "source": [
        "np.all(np.einsum(\"mk,kn\", A, B) == np.dot(A, B))"
      ],
      "id": "e6445bc9",
      "execution_count": null,
      "outputs": []
    }
  ],
  "metadata": {
    "kernelspec": {
      "name": "python3",
      "language": "python",
      "display_name": "Python 3 (ipykernel)",
      "path": "/opt/miniconda3/share/jupyter/kernels/python3"
    }
  },
  "nbformat": 4,
  "nbformat_minor": 5
}