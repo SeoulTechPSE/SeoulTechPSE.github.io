{
  "cells": [
    {
      "cell_type": "markdown",
      "metadata": {},
      "source": [
        "---\n",
        "jupyter: python3\n",
        "---\n",
        "\n",
        "# Numpy: Vectors, Matrices, and Multidimensional Arrays {#sec-numpy}\n",
        "\n",
        "$~$\n",
        "\n",
        "[![](./figures/numpy_logo.png){width=\"30%\" fig-align=\"center\"}](https://numpy.org/doc/stable/)\n",
        "\n",
        "$~$\n",
        "\n",
        "## Importing numpy"
      ],
      "id": "722c907f"
    },
    {
      "cell_type": "code",
      "metadata": {},
      "source": [
        "import numpy as np\n",
        "\n",
        "print(\"numpy: \", np.__version__)"
      ],
      "id": "e4d37076",
      "execution_count": null,
      "outputs": []
    },
    {
      "cell_type": "markdown",
      "metadata": {},
      "source": [
        "* [_show_array.py](_show_array.py)\n",
        "* `show_array()`\n",
        "* `show_array_aggregation()`"
      ],
      "id": "72dc031d"
    },
    {
      "cell_type": "code",
      "metadata": {},
      "source": [
        "#| echo: false\n",
        "import numpy as np\n",
        "\n",
        "import matplotlib as mpl\n",
        "import matplotlib.pyplot as plt\n",
        "\n",
        "def show_array(shape, sel, filename=None):\n",
        "    \"\"\"\n",
        "    Visualize indexing of arrays\n",
        "    \"\"\"\n",
        "    \n",
        "    data = np.zeros(shape)\n",
        "    exec(f'data[{sel}] = 1')\n",
        "    \n",
        "    fig, ax = plt.subplots(1, 1, figsize=shape)\n",
        "    ax.set_frame_on(False)\n",
        "\n",
        "    ax.patch.set_facecolor('white')\n",
        "    ax.xaxis.set_major_locator(plt.NullLocator())\n",
        "    ax.yaxis.set_major_locator(plt.NullLocator())\n",
        "    \n",
        "    size = 0.96\n",
        "    for (m, n), w in np.ndenumerate(data):\n",
        "        color = '#1199ff' if w > 0 else '#eeeeee'\n",
        "        rect = plt.Rectangle([n -size/2, m -size/2], \n",
        "                             size, size, \n",
        "                             facecolor=color,\n",
        "                             edgecolor=color)\n",
        "        ax.add_patch(rect)\n",
        "        ax.text(n, m, f'({m}, {n})', ha='center',\n",
        "                                     va='center',\n",
        "                                     fontsize=12)\n",
        "    ax.autoscale_view()\n",
        "    ax.invert_yaxis()\n",
        "    \n",
        "    if sel ==':, :':\n",
        "        ax.set_title('data\\n', fontsize=12)\n",
        "    else:\n",
        "        ax.set_title(f'data[{sel}]\\n', fontsize=12)\n",
        "        \n",
        "    if filename:\n",
        "        fig.savefig(filename + \".png\", dpi=200)\n",
        "        fig.savefig(filename + \".svg\")\n",
        "        fig.savefig(filename + \".pdf\")\n",
        "\n",
        "\n",
        "def show_array_broadcasting(a, b, filename=None):\n",
        "    \"\"\"\n",
        "    Visualize broadcasting of arrays\n",
        "    \"\"\"\n",
        " \n",
        "    colors = ['#1199ff', '#eeeeee']\n",
        "    \n",
        "    fig, axes = plt.subplots(1, 3, figsize=(8, 2.7))\n",
        "\n",
        "    # -- a --\n",
        "    data = a\n",
        "    \n",
        "    ax = axes[0]\n",
        "    ax.set_frame_on(False)    \n",
        "    ax.patch.set_facecolor('white')\n",
        "    ax.xaxis.set_major_locator(plt.NullLocator())\n",
        "    ax.yaxis.set_major_locator(plt.NullLocator())\n",
        "\n",
        "    size = 0.96\n",
        "    color = colors[0]\n",
        "    for (m, n), w in np.ndenumerate(data):\n",
        "\n",
        "        rect = plt.Rectangle([n -size/2, m -size/2],\n",
        "                             size, size,\n",
        "                             facecolor=color,\n",
        "                             edgecolor=color)\n",
        "        ax.add_patch(rect)\n",
        "        ax.text(n, m, f'{data[m, n]}', ha='center', va='center', fontsize=14)        \n",
        "\n",
        "    ax.text(3, 1, \"+\", ha='center', va='center', fontsize=22)        \n",
        "    ax.autoscale_view()\n",
        "    ax.invert_yaxis()\n",
        "\n",
        "    # -- b --\n",
        "    data = np.zeros_like(a) + b\n",
        "\n",
        "    ax = axes[1]\n",
        "    ax.set_frame_on(False)     \n",
        "    ax.patch.set_facecolor('white')\n",
        "    ax.xaxis.set_major_locator(plt.NullLocator())\n",
        "    ax.yaxis.set_major_locator(plt.NullLocator())\n",
        "    \n",
        "    size = 0.96\n",
        "    for (m, n), w in np.ndenumerate(data):\n",
        "        \n",
        "        if (np.argmax(b.T.shape) == 0 and m == 0) or (np.argmax(b.T.shape) == 1 and n == 0):\n",
        "            color = colors[0]\n",
        "        else:\n",
        "            color = colors[1]\n",
        "            \n",
        "        rect = plt.Rectangle([n -size/2, m -size/2],\n",
        "                             size, size,\n",
        "                             facecolor=color,\n",
        "                             edgecolor=color)\n",
        "        ax.add_patch(rect)\n",
        "\n",
        "        ax.text(m, n, f'{data[n, m]}', ha='center', va='center', fontsize=14)        \n",
        "\n",
        "    ax.text(3, 1, \"=\", ha='center', va='center', fontsize=22)        \n",
        "    ax.autoscale_view()\n",
        "    ax.invert_yaxis()\n",
        "\n",
        "    # -- c --\n",
        "    data = a + b\n",
        "    \n",
        "    ax = axes[2]\n",
        "    ax.set_frame_on(False) \n",
        "    ax.patch.set_facecolor('white')\n",
        "    ax.xaxis.set_major_locator(plt.NullLocator())\n",
        "    ax.yaxis.set_major_locator(plt.NullLocator())\n",
        "  \n",
        "    size = 0.96\n",
        "    color = colors[0]\n",
        "    for (m, n), w in np.ndenumerate(data):\n",
        "\n",
        "        rect = plt.Rectangle([n -size/2, m -size/2],\n",
        "                             size, size,\n",
        "                             facecolor=color,\n",
        "                             edgecolor=color)\n",
        "        ax.add_patch(rect)\n",
        "        \n",
        "        ax.text(m, n, f'{data[n, m]}', ha='center', va='center', fontsize=14)        \n",
        "\n",
        "    ax.autoscale_view()\n",
        "    ax.invert_yaxis()\n",
        "    \n",
        "    #fig.tight_layout()\n",
        "        \n",
        "    if filename:\n",
        "        fig.savefig(filename + \".png\", dpi=200)\n",
        "        fig.savefig(filename + \".svg\")\n",
        "        fig.savefig(filename + \".pdf\")        \n",
        "\n",
        "\n",
        "\n",
        "def show_array_aggregation(data, axis, filename=None):\n",
        "    \"\"\"\n",
        "    Visualize aggregation of arrays\n",
        "    \"\"\"\n",
        "\n",
        "    colors = ['#1199ff', '#ee3311', '#66ff22']\n",
        "    \n",
        "    fig, axes = plt.subplots(2, 1, figsize=(3, 6))\n",
        "    \n",
        "    # -- data --\n",
        "    ax = axes[0]\n",
        "    ax.set_frame_on(False)\n",
        "    ax.patch.set_facecolor('white')\n",
        "    ax.xaxis.set_major_locator(plt.NullLocator())\n",
        "    ax.yaxis.set_major_locator(plt.NullLocator())\n",
        "       \n",
        "    size = 0.96\n",
        "    for (m, n), w in np.ndenumerate(data):\n",
        "\n",
        "        if axis is None:\n",
        "            color = colors[0]\n",
        "        elif axis == 1:\n",
        "            color = colors[m]\n",
        "        else:\n",
        "            color = colors[n]\n",
        "            \n",
        "        rect = plt.Rectangle([n -size/2, m -size/2],\n",
        "                             size, size,\n",
        "                             facecolor=color,\n",
        "                             edgecolor=color)\n",
        "        ax.add_patch(rect)\n",
        "\n",
        "        ax.text(n, m, f'{data[m, n]}', ha='center', va='center', fontsize=14)\n",
        "        \n",
        "    ax.autoscale_view()\n",
        "    ax.invert_yaxis()\n",
        "    ax.set_title(\"data\", fontsize=12)\n",
        "\n",
        "    # -- data aggregation -- \n",
        "    \n",
        "    if axis is None:\n",
        "        adata = np.atleast_2d(data.sum())\n",
        "    elif axis == 0:\n",
        "        adata = data.sum(axis=axis)[:, np.newaxis]\n",
        "    else:\n",
        "        adata = data.sum(axis=axis)[:, np.newaxis]     \n",
        "   \n",
        "    ax = axes[1]\n",
        "    ax.set_frame_on(False)\n",
        "    ax.patch.set_facecolor('white')\n",
        "    ax.xaxis.set_major_locator(plt.NullLocator())\n",
        "    ax.yaxis.set_major_locator(plt.NullLocator())\n",
        "    \n",
        "    size = 1.0\n",
        "    for (m, n), w in np.ndenumerate(data):\n",
        "        color = 'white'\n",
        "        rect = plt.Rectangle([n -size/2, m -size/2],\n",
        "                         size, size,\n",
        "                         facecolor=color,\n",
        "                         edgecolor=color)\n",
        "        ax.add_patch(rect)        \n",
        "    \n",
        "    size = 0.96\n",
        "    for (m, n), w in np.ndenumerate(adata):\n",
        "\n",
        "        if axis is None:\n",
        "            color = colors[0] \n",
        "            rect = plt.Rectangle([1 +m -size/2, n -size/2],\n",
        "                         size, size,\n",
        "                         facecolor=color,\n",
        "                         edgecolor=color)\n",
        "            ax.add_patch(rect)\n",
        "            \n",
        "            ax.text(1 +m, n, f'{adata[m, n]}', ha='center', va='center', fontsize=14)\n",
        "            \n",
        "        if axis == 0:\n",
        "            color = colors[m]\n",
        "            rect = plt.Rectangle([m -size/2, n -size/2],\n",
        "                                 size, size,\n",
        "                                 facecolor=color,\n",
        "                                 edgecolor=color)\n",
        "            ax.add_patch(rect)\n",
        "     \n",
        "            ax.text(m, n, f'{adata[m, n]}', ha='center', va='center', fontsize=14)\n",
        "        \n",
        "        if axis == 1:\n",
        "            color = colors[m]\n",
        "            rect = plt.Rectangle([1 +n -size/2, m -size/2],\n",
        "                                 size, size,\n",
        "                                 facecolor=color,\n",
        "                                 edgecolor=color)\n",
        "            ax.add_patch(rect)\n",
        "     \n",
        "            ax.text(1 +n, m, f'{adata[m, n]}', ha='center', va='center', fontsize=14)        \n",
        "\n",
        "    ax.autoscale_view()\n",
        "    ax.invert_yaxis()\n",
        "    \n",
        "    if axis is not None:\n",
        "        ax.set_title(f'data.sum(axis={axis})', fontsize=12)\n",
        "    else:\n",
        "        ax.set_title('data.sum()', fontsize=12)\n",
        "    \n",
        "    #fig.tight_layout()\n",
        "    \n",
        "    if filename:\n",
        "        fig.savefig(filename + \".png\", dpi=200)\n",
        "        fig.savefig(filename + \".svg\")\n",
        "        fig.savefig(filename + \".pdf\")"
      ],
      "id": "b6e5bcc9",
      "execution_count": null,
      "outputs": []
    },
    {
      "cell_type": "markdown",
      "metadata": {},
      "source": [
        "## The Numpy array object"
      ],
      "id": "985e2785"
    },
    {
      "cell_type": "code",
      "metadata": {},
      "source": [
        "data = np.array([[1, 2], [3, 4], [5, 6]])\n",
        "data"
      ],
      "id": "49adab70",
      "execution_count": null,
      "outputs": []
    },
    {
      "cell_type": "code",
      "metadata": {},
      "source": [
        "type(data)"
      ],
      "id": "0ff0e81d",
      "execution_count": null,
      "outputs": []
    },
    {
      "cell_type": "code",
      "metadata": {},
      "source": [
        "data.ndim"
      ],
      "id": "13a800d0",
      "execution_count": null,
      "outputs": []
    },
    {
      "cell_type": "code",
      "metadata": {},
      "source": [
        "data.shape"
      ],
      "id": "b9a7100e",
      "execution_count": null,
      "outputs": []
    },
    {
      "cell_type": "code",
      "metadata": {},
      "source": [
        "data.size"
      ],
      "id": "316fec9f",
      "execution_count": null,
      "outputs": []
    },
    {
      "cell_type": "code",
      "metadata": {},
      "source": [
        "data.dtype"
      ],
      "id": "59c854fb",
      "execution_count": null,
      "outputs": []
    },
    {
      "cell_type": "code",
      "metadata": {},
      "source": [
        "data.nbytes"
      ],
      "id": "4b1ee479",
      "execution_count": null,
      "outputs": []
    },
    {
      "cell_type": "markdown",
      "metadata": {},
      "source": [
        "## Data types"
      ],
      "id": "90641bb2"
    },
    {
      "cell_type": "code",
      "metadata": {},
      "source": [
        "d0 = np.array([1, 2, 3], dtype=int)\n",
        "d0"
      ],
      "id": "7935490a",
      "execution_count": null,
      "outputs": []
    },
    {
      "cell_type": "code",
      "metadata": {},
      "source": [
        "d1 = np.array([1, 2, 3], dtype=float)\n",
        "d1"
      ],
      "id": "db113534",
      "execution_count": null,
      "outputs": []
    },
    {
      "cell_type": "code",
      "metadata": {},
      "source": [
        "d2 = np.array([1, 2, 3], dtype=complex)\n",
        "d2"
      ],
      "id": "aff38548",
      "execution_count": null,
      "outputs": []
    },
    {
      "cell_type": "markdown",
      "metadata": {},
      "source": [
        "### Type casting"
      ],
      "id": "8c6e2337"
    },
    {
      "cell_type": "code",
      "metadata": {},
      "source": [
        "data = np.array([1, 2, 3], dtype=float)\n",
        "data"
      ],
      "id": "38d03fc8",
      "execution_count": null,
      "outputs": []
    },
    {
      "cell_type": "code",
      "metadata": {},
      "source": [
        "data = np.array(data, dtype=int)\n",
        "data"
      ],
      "id": "dcaaf300",
      "execution_count": null,
      "outputs": []
    },
    {
      "cell_type": "code",
      "metadata": {},
      "source": [
        "data = np.array([1.6, 2, 3], dtype=float)\n",
        "data.astype(int)"
      ],
      "id": "13eae318",
      "execution_count": null,
      "outputs": []
    },
    {
      "cell_type": "markdown",
      "metadata": {},
      "source": [
        "### Type promotion"
      ],
      "id": "aa94137c"
    },
    {
      "cell_type": "code",
      "metadata": {},
      "source": [
        "d1 = np.array([1, 2, 3], dtype=float)\n",
        "d2 = np.array([1, 2, 3], dtype=complex)"
      ],
      "id": "a80981da",
      "execution_count": null,
      "outputs": []
    },
    {
      "cell_type": "code",
      "metadata": {},
      "source": [
        "d1 + d2"
      ],
      "id": "7c6720e1",
      "execution_count": null,
      "outputs": []
    },
    {
      "cell_type": "code",
      "metadata": {},
      "source": [
        "(d1 + d2).dtype"
      ],
      "id": "1a743f7c",
      "execution_count": null,
      "outputs": []
    },
    {
      "cell_type": "markdown",
      "metadata": {},
      "source": [
        "### Type-depending operation"
      ],
      "id": "c7f2845f"
    },
    {
      "cell_type": "code",
      "metadata": {},
      "source": [
        "np.sqrt(np.array([-1, 0, 1]))"
      ],
      "id": "e1b24ad3",
      "execution_count": null,
      "outputs": []
    },
    {
      "cell_type": "code",
      "metadata": {},
      "source": [
        "np.sqrt(np.array([-1, 0, 1], dtype=complex))"
      ],
      "id": "41f3a120",
      "execution_count": null,
      "outputs": []
    },
    {
      "cell_type": "markdown",
      "metadata": {},
      "source": [
        "### Real and imaginary parts"
      ],
      "id": "a45c81a5"
    },
    {
      "cell_type": "code",
      "metadata": {},
      "source": [
        "data = np.array([1, 2, 3], dtype=complex)\n",
        "data"
      ],
      "id": "01f87b89",
      "execution_count": null,
      "outputs": []
    },
    {
      "cell_type": "code",
      "metadata": {},
      "source": [
        "data.real"
      ],
      "id": "6cb18f5e",
      "execution_count": null,
      "outputs": []
    },
    {
      "cell_type": "code",
      "metadata": {},
      "source": [
        "data.imag"
      ],
      "id": "d7aa6068",
      "execution_count": null,
      "outputs": []
    },
    {
      "cell_type": "code",
      "metadata": {},
      "source": [
        "np.real(data)"
      ],
      "id": "66b6a16d",
      "execution_count": null,
      "outputs": []
    },
    {
      "cell_type": "code",
      "metadata": {},
      "source": [
        "np.imag(data)"
      ],
      "id": "2c1adbfb",
      "execution_count": null,
      "outputs": []
    },
    {
      "cell_type": "markdown",
      "metadata": {},
      "source": [
        "### Order of array data in memory\n",
        "\n",
        "* <font color=\"red\">Multidimensional arrays are stored as contiguous data in memory</font>. $~$Consider the case of a two-dimensional array, $~$containing rows and columns: $~$One possible way to store this array as a consecutive sequence of values is to store the rows after each other, and another equally valid approach is to store the columns one after another\n",
        "\n",
        "* The former is called <font color=\"green\">row-major format</font> and the latter is <font color=\"green\">column-major format</font>. Whether to use row-major or column-major is a matter of conventions, and the **row-major format** is used for example in the **C** programming language, and **Fortran** uses the **column-major format**\n",
        "\n",
        "* A `numpy` array can be specified to be stored in row-major format, using the keyword argument `order='C'`, and column-major format, using the keyword argument `order='F'`, when the array is created or reshaped. <font color=\"blue\">The default format is *row-major*</font> \n",
        "\n",
        "* In general, the `numpy` array attribute `ndarray.strides` defines exactly how this mapping is done. The `strides` attribute is a tuple of the same length as the number of axes (dimensions) of the array. Each value in `strides` is the factor by which the index for the corresponding axis is multiplied when calculating the *memory offset (in bytes)* for a given index expression\n"
      ],
      "id": "c2f2c134"
    },
    {
      "cell_type": "code",
      "metadata": {},
      "source": [
        "data = np.array([[1, 2, 3], [4, 5, 6]], dtype=np.int32)\n",
        "data"
      ],
      "id": "722ac855",
      "execution_count": null,
      "outputs": []
    },
    {
      "cell_type": "code",
      "metadata": {},
      "source": [
        "data.strides"
      ],
      "id": "8f25fe5d",
      "execution_count": null,
      "outputs": []
    },
    {
      "cell_type": "code",
      "metadata": {},
      "source": [
        "data = np.array([[1, 2, 3], [4, 5, 6]], dtype=np.int32, order='F')\n",
        "data"
      ],
      "id": "e8964c3f",
      "execution_count": null,
      "outputs": []
    },
    {
      "cell_type": "code",
      "metadata": {},
      "source": [
        "data.strides"
      ],
      "id": "c3a6d40d",
      "execution_count": null,
      "outputs": []
    },
    {
      "cell_type": "markdown",
      "metadata": {},
      "source": [
        "## Creating arrays\n",
        "\n",
        "### Arrays created from lists and other array-like objects"
      ],
      "id": "fdd4b018"
    },
    {
      "cell_type": "code",
      "metadata": {},
      "source": [
        "data = np.array([1, 2, 3, 4])\n",
        "data.ndim, data.shape"
      ],
      "id": "c2d3c09f",
      "execution_count": null,
      "outputs": []
    },
    {
      "cell_type": "code",
      "metadata": {},
      "source": [
        "data = np.array(((1, 2), (3, 4)))\n",
        "data.ndim, data.shape"
      ],
      "id": "7c57926f",
      "execution_count": null,
      "outputs": []
    },
    {
      "cell_type": "markdown",
      "metadata": {},
      "source": [
        "### Arrays filled with constant values"
      ],
      "id": "5d9febc4"
    },
    {
      "cell_type": "code",
      "metadata": {},
      "source": [
        "np.zeros((2, 3))"
      ],
      "id": "bd4c2ce5",
      "execution_count": null,
      "outputs": []
    },
    {
      "cell_type": "code",
      "metadata": {},
      "source": [
        "data = np.ones(4)\n",
        "data, data.dtype"
      ],
      "id": "1f5c67d3",
      "execution_count": null,
      "outputs": []
    },
    {
      "cell_type": "code",
      "metadata": {},
      "source": [
        "5.4 * np.ones(10)"
      ],
      "id": "8590c77f",
      "execution_count": null,
      "outputs": []
    },
    {
      "cell_type": "code",
      "metadata": {},
      "source": [
        "np.full(10, 5.4) # slightly more efficient"
      ],
      "id": "f48cbd17",
      "execution_count": null,
      "outputs": []
    },
    {
      "cell_type": "code",
      "metadata": {},
      "source": [
        "x1 = np.empty(5)\n",
        "x1.fill(3.0)\n",
        "x1"
      ],
      "id": "963ddc0e",
      "execution_count": null,
      "outputs": []
    },
    {
      "cell_type": "markdown",
      "metadata": {},
      "source": [
        "### Arrays filled with incremental sequences"
      ],
      "id": "057fda32"
    },
    {
      "cell_type": "code",
      "metadata": {},
      "source": [
        "np.arange(0, 11, 1)"
      ],
      "id": "95a0cddf",
      "execution_count": null,
      "outputs": []
    },
    {
      "cell_type": "code",
      "metadata": {},
      "source": [
        "np.linspace(0, 10, 11)  # generally recommended"
      ],
      "id": "dfc6839b",
      "execution_count": null,
      "outputs": []
    },
    {
      "cell_type": "markdown",
      "metadata": {},
      "source": [
        "### Arrays filled with logarithmic sequences"
      ],
      "id": "3117c2e9"
    },
    {
      "cell_type": "code",
      "metadata": {},
      "source": [
        "np.logspace(0, 2, 10)  # 5 data points between 10**0=1 to 10**2=100"
      ],
      "id": "0cabe475",
      "execution_count": null,
      "outputs": []
    },
    {
      "cell_type": "markdown",
      "metadata": {},
      "source": [
        "### Mesh grid arrays"
      ],
      "id": "534aeec7"
    },
    {
      "cell_type": "code",
      "metadata": {},
      "source": [
        "x = np.array([-1, 0, 1])\n",
        "y = np.array([-2, 0, 2])\n",
        "\n",
        "X, Y = np.meshgrid(x, y)"
      ],
      "id": "3f501ec5",
      "execution_count": null,
      "outputs": []
    },
    {
      "cell_type": "code",
      "metadata": {},
      "source": [
        "X"
      ],
      "id": "bd47556a",
      "execution_count": null,
      "outputs": []
    },
    {
      "cell_type": "code",
      "metadata": {},
      "source": [
        "Y"
      ],
      "id": "5c930cd6",
      "execution_count": null,
      "outputs": []
    },
    {
      "cell_type": "code",
      "metadata": {},
      "source": [
        "Z = (X + Y)**2\n",
        "Z"
      ],
      "id": "27b48a17",
      "execution_count": null,
      "outputs": []
    },
    {
      "cell_type": "markdown",
      "metadata": {},
      "source": [
        "### Creating uninitialized arrays"
      ],
      "id": "01cc99a0"
    },
    {
      "cell_type": "code",
      "metadata": {},
      "source": [
        "np.empty(3, dtype=float)"
      ],
      "id": "ca1b7478",
      "execution_count": null,
      "outputs": []
    },
    {
      "cell_type": "markdown",
      "metadata": {},
      "source": [
        "### Creating arrays with properties of other arrays"
      ],
      "id": "dbd3162f"
    },
    {
      "cell_type": "code",
      "metadata": {},
      "source": [
        "def f(x):    \n",
        "    y = np.ones_like(x)    # compute with x and y    \n",
        "    return y\n",
        "\n",
        "x = np.array([[1, 2, 3], [4, 5, 6]])\n",
        "y = f(x)\n",
        "y"
      ],
      "id": "3c097e41",
      "execution_count": null,
      "outputs": []
    },
    {
      "cell_type": "markdown",
      "metadata": {},
      "source": [
        "### Creating matrix arrays"
      ],
      "id": "38e90712"
    },
    {
      "cell_type": "code",
      "metadata": {},
      "source": [
        "np.identity(4)"
      ],
      "id": "1ce6f5d4",
      "execution_count": null,
      "outputs": []
    },
    {
      "cell_type": "code",
      "metadata": {},
      "source": [
        "np.eye(4, k=1)"
      ],
      "id": "6222c8fe",
      "execution_count": null,
      "outputs": []
    },
    {
      "cell_type": "code",
      "metadata": {},
      "source": [
        "np.eye(4, k=-1)"
      ],
      "id": "e669deb9",
      "execution_count": null,
      "outputs": []
    },
    {
      "cell_type": "code",
      "metadata": {},
      "source": [
        "np.diag(np.arange(0, 20, 5))"
      ],
      "id": "8b152e75",
      "execution_count": null,
      "outputs": []
    },
    {
      "cell_type": "markdown",
      "metadata": {},
      "source": [
        "## Indexing and slicing\n",
        "\n",
        "### One-dimensional arrays"
      ],
      "id": "5f61050e"
    },
    {
      "cell_type": "code",
      "metadata": {},
      "source": [
        "a = np.arange(0, 11)\n",
        "a"
      ],
      "id": "ecc6bb1b",
      "execution_count": null,
      "outputs": []
    },
    {
      "cell_type": "code",
      "metadata": {},
      "source": [
        "a[0]"
      ],
      "id": "e6101045",
      "execution_count": null,
      "outputs": []
    },
    {
      "cell_type": "code",
      "metadata": {},
      "source": [
        "a[-1]"
      ],
      "id": "8cc4b16a",
      "execution_count": null,
      "outputs": []
    },
    {
      "cell_type": "code",
      "metadata": {},
      "source": [
        "a[4]"
      ],
      "id": "4db4f163",
      "execution_count": null,
      "outputs": []
    },
    {
      "cell_type": "markdown",
      "metadata": {},
      "source": [
        "---"
      ],
      "id": "fc728bea"
    },
    {
      "cell_type": "code",
      "metadata": {},
      "source": [
        "a[1:-1]"
      ],
      "id": "9ccf20be",
      "execution_count": null,
      "outputs": []
    },
    {
      "cell_type": "code",
      "metadata": {},
      "source": [
        "a[1:-1:2]"
      ],
      "id": "82b9791a",
      "execution_count": null,
      "outputs": []
    },
    {
      "cell_type": "markdown",
      "metadata": {},
      "source": [
        "---"
      ],
      "id": "f6a9b3b6"
    },
    {
      "cell_type": "code",
      "metadata": {},
      "source": [
        "a[:5]"
      ],
      "id": "c051a123",
      "execution_count": null,
      "outputs": []
    },
    {
      "cell_type": "code",
      "metadata": {},
      "source": [
        "a[-5:]"
      ],
      "id": "66cd3f9b",
      "execution_count": null,
      "outputs": []
    },
    {
      "cell_type": "code",
      "metadata": {},
      "source": [
        "a[::-2]"
      ],
      "id": "60279201",
      "execution_count": null,
      "outputs": []
    },
    {
      "cell_type": "markdown",
      "metadata": {},
      "source": [
        "### Multidimensional arrays"
      ],
      "id": "6d5326a4"
    },
    {
      "cell_type": "code",
      "metadata": {},
      "source": [
        "f = lambda m, n: n + 10*m"
      ],
      "id": "18daebfe",
      "execution_count": null,
      "outputs": []
    },
    {
      "cell_type": "code",
      "metadata": {},
      "source": [
        "# please search for numpy.fromfunction at google\n",
        "A = np.fromfunction(f, (6, 6), dtype=int)\n",
        "A  "
      ],
      "id": "ee352d09",
      "execution_count": null,
      "outputs": []
    },
    {
      "cell_type": "code",
      "metadata": {},
      "source": [
        "A[:, 1]  # the second column"
      ],
      "id": "b0d8c5fe",
      "execution_count": null,
      "outputs": []
    },
    {
      "cell_type": "code",
      "metadata": {},
      "source": [
        "A[1, :]  # the second row"
      ],
      "id": "8f6a1490",
      "execution_count": null,
      "outputs": []
    },
    {
      "cell_type": "code",
      "metadata": {},
      "source": [
        "A[:3, :3]"
      ],
      "id": "b651f4ac",
      "execution_count": null,
      "outputs": []
    },
    {
      "cell_type": "code",
      "metadata": {},
      "source": [
        "A[3:, :3]"
      ],
      "id": "47a98432",
      "execution_count": null,
      "outputs": []
    },
    {
      "cell_type": "code",
      "metadata": {},
      "source": [
        "A[::2, ::2]"
      ],
      "id": "2daa812c",
      "execution_count": null,
      "outputs": []
    },
    {
      "cell_type": "code",
      "metadata": {},
      "source": [
        "A[1::2, 1::3]"
      ],
      "id": "eb9b171d",
      "execution_count": null,
      "outputs": []
    },
    {
      "cell_type": "markdown",
      "metadata": {},
      "source": [
        "### Views\n",
        "\n",
        "* Subarrays that are extracted from arrays using slice operations are **alternative views** of the same underlying array data. That is, $~$they are arrays that refer to the same data in memory as the original array, $~$but with a different `strides` configuration\n",
        "\n",
        "* When elements in a view are assigned new values, $~$the values of the original\n",
        "array are therefore also updated. For example,"
      ],
      "id": "435a57e3"
    },
    {
      "cell_type": "code",
      "metadata": {},
      "source": [
        "B = A[1:5, 1:5]\n",
        "B"
      ],
      "id": "baca04a6",
      "execution_count": null,
      "outputs": []
    },
    {
      "cell_type": "code",
      "metadata": {},
      "source": [
        "B[:, :] = 0\n",
        "A"
      ],
      "id": "a9d31a37",
      "execution_count": null,
      "outputs": []
    },
    {
      "cell_type": "markdown",
      "metadata": {},
      "source": [
        "* When a copy rather than a view is needed, the view can be copied explicitly by using the `copy` method of the `ndarray` instance"
      ],
      "id": "0a94bda2"
    },
    {
      "cell_type": "code",
      "metadata": {},
      "source": [
        "C = B[1:3, 1:3].copy()\n",
        "C"
      ],
      "id": "066a0018",
      "execution_count": null,
      "outputs": []
    },
    {
      "cell_type": "code",
      "metadata": {},
      "source": [
        "C[:, :] = 1\n",
        "C"
      ],
      "id": "543024ef",
      "execution_count": null,
      "outputs": []
    },
    {
      "cell_type": "code",
      "metadata": {},
      "source": [
        "B"
      ],
      "id": "2dab3cd1",
      "execution_count": null,
      "outputs": []
    },
    {
      "cell_type": "markdown",
      "metadata": {},
      "source": [
        "### Fancy indexing and boolean-valued indexing"
      ],
      "id": "1928e2da"
    },
    {
      "cell_type": "code",
      "metadata": {},
      "source": [
        "A = np.linspace(0, 1, 11)\n",
        "A"
      ],
      "id": "08bf77cf",
      "execution_count": null,
      "outputs": []
    },
    {
      "cell_type": "code",
      "metadata": {},
      "source": [
        "A[np.array([0, 2, 4])]"
      ],
      "id": "9fe702c9",
      "execution_count": null,
      "outputs": []
    },
    {
      "cell_type": "code",
      "metadata": {},
      "source": [
        "A[[0, 2, 4]]"
      ],
      "id": "4cff47de",
      "execution_count": null,
      "outputs": []
    },
    {
      "cell_type": "markdown",
      "metadata": {},
      "source": [
        "---"
      ],
      "id": "61299194"
    },
    {
      "cell_type": "code",
      "metadata": {},
      "source": [
        "A > 0.5"
      ],
      "id": "e98761e8",
      "execution_count": null,
      "outputs": []
    },
    {
      "cell_type": "code",
      "metadata": {},
      "source": [
        "A[A > 0.5]"
      ],
      "id": "49c0825d",
      "execution_count": null,
      "outputs": []
    },
    {
      "cell_type": "markdown",
      "metadata": {},
      "source": [
        "* Unlike arrays created by using slices, $~$**the arrays returned using fancy indexing and Boolean-valued\n",
        "indexing are not views**, $~$but rather new independent arrays"
      ],
      "id": "15a3de33"
    },
    {
      "cell_type": "code",
      "metadata": {},
      "source": [
        "A = np.arange(10)\n",
        "indices = [2, 4, 6]"
      ],
      "id": "df1e312a",
      "execution_count": null,
      "outputs": []
    },
    {
      "cell_type": "code",
      "metadata": {},
      "source": [
        "B = A[indices]"
      ],
      "id": "c66cf92f",
      "execution_count": null,
      "outputs": []
    },
    {
      "cell_type": "code",
      "metadata": {},
      "source": [
        "B[0] = -1\n",
        "A"
      ],
      "id": "439cae22",
      "execution_count": null,
      "outputs": []
    },
    {
      "cell_type": "code",
      "metadata": {},
      "source": [
        "A[indices] = -1\n",
        "A"
      ],
      "id": "93daef2f",
      "execution_count": null,
      "outputs": []
    },
    {
      "cell_type": "markdown",
      "metadata": {},
      "source": [
        "---"
      ],
      "id": "9544a946"
    },
    {
      "cell_type": "code",
      "metadata": {},
      "source": [
        "A = np.arange(10)"
      ],
      "id": "7f6b57ef",
      "execution_count": null,
      "outputs": []
    },
    {
      "cell_type": "code",
      "metadata": {},
      "source": [
        "B = A[A > 5]"
      ],
      "id": "3d709fd4",
      "execution_count": null,
      "outputs": []
    },
    {
      "cell_type": "code",
      "metadata": {},
      "source": [
        "B[0] = -1\n",
        "A"
      ],
      "id": "1cae44bd",
      "execution_count": null,
      "outputs": []
    },
    {
      "cell_type": "code",
      "metadata": {},
      "source": [
        "A[A > 5] = -1\n",
        "A"
      ],
      "id": "1b406778",
      "execution_count": null,
      "outputs": []
    },
    {
      "cell_type": "markdown",
      "metadata": {},
      "source": [
        "### Summery"
      ],
      "id": "43519996"
    },
    {
      "cell_type": "code",
      "metadata": {},
      "source": [
        "show_array((4, 4), ':, :')"
      ],
      "id": "1654b6b7",
      "execution_count": null,
      "outputs": []
    },
    {
      "cell_type": "code",
      "metadata": {},
      "source": [
        "show_array((4, 4), '0')"
      ],
      "id": "e1de30e1",
      "execution_count": null,
      "outputs": []
    },
    {
      "cell_type": "code",
      "metadata": {},
      "source": [
        "show_array((4, 4), '1, :')"
      ],
      "id": "1a798cbc",
      "execution_count": null,
      "outputs": []
    },
    {
      "cell_type": "code",
      "metadata": {},
      "source": [
        "show_array((4, 4), ':, 2')"
      ],
      "id": "68e20d9e",
      "execution_count": null,
      "outputs": []
    },
    {
      "cell_type": "markdown",
      "metadata": {},
      "source": [
        "---"
      ],
      "id": "d71b89d7"
    },
    {
      "cell_type": "code",
      "metadata": {},
      "source": [
        "show_array((4, 4), '0:2, 0:2')"
      ],
      "id": "be7bbd00",
      "execution_count": null,
      "outputs": []
    },
    {
      "cell_type": "code",
      "metadata": {},
      "source": [
        "show_array((4, 4), '0:2, 2:4')"
      ],
      "id": "b09e2e66",
      "execution_count": null,
      "outputs": []
    },
    {
      "cell_type": "code",
      "metadata": {},
      "source": [
        "show_array((4, 4), '::2, ::2')"
      ],
      "id": "7458c5bc",
      "execution_count": null,
      "outputs": []
    },
    {
      "cell_type": "code",
      "metadata": {},
      "source": [
        "show_array((4, 4), '1::2, 1::2')"
      ],
      "id": "83e69603",
      "execution_count": null,
      "outputs": []
    },
    {
      "cell_type": "code",
      "metadata": {},
      "source": [
        "show_array((4, 4), ':, [0, 3]')"
      ],
      "id": "e7a633e6",
      "execution_count": null,
      "outputs": []
    },
    {
      "cell_type": "code",
      "metadata": {},
      "source": [
        "show_array((4, 4), '[1, 3], [0, 3]')"
      ],
      "id": "15fab18c",
      "execution_count": null,
      "outputs": []
    },
    {
      "cell_type": "code",
      "metadata": {},
      "source": [
        "show_array((4, 4), ':, [False, True, True, False]')"
      ],
      "id": "eb86e872",
      "execution_count": null,
      "outputs": []
    },
    {
      "cell_type": "code",
      "metadata": {},
      "source": [
        "show_array((4, 4), '1:3, [False, True, True, False]')"
      ],
      "id": "8b453d9c",
      "execution_count": null,
      "outputs": []
    },
    {
      "cell_type": "markdown",
      "metadata": {},
      "source": [
        "## Reshaping and resizing\n",
        "\n",
        "* Reshaping an array does not require modifying the underlying array data; it only changes in how the data is interpreted, by redefining the array’s strides attribute"
      ],
      "id": "78efcd78"
    },
    {
      "cell_type": "code",
      "metadata": {},
      "source": [
        "data = np.array([[1, 2], [3, 4]])\n",
        "data1 = np.reshape(data, (1, 4))\n",
        "data1"
      ],
      "id": "d255dfe7",
      "execution_count": null,
      "outputs": []
    },
    {
      "cell_type": "code",
      "metadata": {},
      "source": [
        "data1[0, 1] = -1\n",
        "data"
      ],
      "id": "0ab56cfd",
      "execution_count": null,
      "outputs": []
    },
    {
      "cell_type": "code",
      "metadata": {},
      "source": [
        "data2 = data.reshape(4)\n",
        "data2"
      ],
      "id": "3f557e2f",
      "execution_count": null,
      "outputs": []
    },
    {
      "cell_type": "code",
      "metadata": {},
      "source": [
        "data2[1] = -2\n",
        "data"
      ],
      "id": "12394dfd",
      "execution_count": null,
      "outputs": []
    },
    {
      "cell_type": "markdown",
      "metadata": {},
      "source": [
        "---"
      ],
      "id": "06d62bf4"
    },
    {
      "cell_type": "code",
      "metadata": {},
      "source": [
        "data = np.array([[1, 2], [3, 4]])\n",
        "data1 = np.ravel(data)\n",
        "data1"
      ],
      "id": "98a75dc9",
      "execution_count": null,
      "outputs": []
    },
    {
      "cell_type": "code",
      "metadata": {},
      "source": [
        "data1[0] = -1\n",
        "data"
      ],
      "id": "36912a00",
      "execution_count": null,
      "outputs": []
    },
    {
      "cell_type": "markdown",
      "metadata": {},
      "source": [
        "* The `ndarray` method `flatten` perform the same function, $~$but\n",
        "returns a **copy** instead of a view"
      ],
      "id": "74c649cf"
    },
    {
      "cell_type": "code",
      "metadata": {},
      "source": [
        "data2 = data.flatten()\n",
        "data2"
      ],
      "id": "12fb3ccb",
      "execution_count": null,
      "outputs": []
    },
    {
      "cell_type": "code",
      "metadata": {},
      "source": [
        "data2[0] = -2\n",
        "data"
      ],
      "id": "00289d46",
      "execution_count": null,
      "outputs": []
    },
    {
      "cell_type": "markdown",
      "metadata": {},
      "source": [
        "---"
      ],
      "id": "859b878b"
    },
    {
      "cell_type": "code",
      "metadata": {},
      "source": [
        "data = np.arange(0, 5)\n",
        "data.shape"
      ],
      "id": "17ea8706",
      "execution_count": null,
      "outputs": []
    },
    {
      "cell_type": "code",
      "metadata": {},
      "source": [
        "column = data[:, np.newaxis]\n",
        "column"
      ],
      "id": "17ffe64f",
      "execution_count": null,
      "outputs": []
    },
    {
      "cell_type": "code",
      "metadata": {},
      "source": [
        "column.shape"
      ],
      "id": "b852428a",
      "execution_count": null,
      "outputs": []
    },
    {
      "cell_type": "code",
      "metadata": {},
      "source": [
        "row = data[np.newaxis, :]\n",
        "row"
      ],
      "id": "cf3926ec",
      "execution_count": null,
      "outputs": []
    },
    {
      "cell_type": "code",
      "metadata": {},
      "source": [
        "row.shape"
      ],
      "id": "5b6d1312",
      "execution_count": null,
      "outputs": []
    },
    {
      "cell_type": "code",
      "metadata": {},
      "source": [
        "row[0, 0] = -1\n",
        "data"
      ],
      "id": "114cf1a8",
      "execution_count": null,
      "outputs": []
    },
    {
      "cell_type": "markdown",
      "metadata": {},
      "source": [
        "---"
      ],
      "id": "41c047b5"
    },
    {
      "cell_type": "code",
      "metadata": {},
      "source": [
        "np.expand_dims(data, axis=1) "
      ],
      "id": "1c78dbae",
      "execution_count": null,
      "outputs": []
    },
    {
      "cell_type": "code",
      "metadata": {},
      "source": [
        "row = np.expand_dims(data, axis=0)\n",
        "row"
      ],
      "id": "f7779dde",
      "execution_count": null,
      "outputs": []
    },
    {
      "cell_type": "code",
      "metadata": {},
      "source": [
        "row[0, 0] = 0\n",
        "data"
      ],
      "id": "1d72c5eb",
      "execution_count": null,
      "outputs": []
    },
    {
      "cell_type": "markdown",
      "metadata": {},
      "source": [
        "---"
      ],
      "id": "35f13955"
    },
    {
      "cell_type": "code",
      "metadata": {},
      "source": [
        "data = np.arange(5)\n",
        "data"
      ],
      "id": "a6d449e5",
      "execution_count": null,
      "outputs": []
    },
    {
      "cell_type": "code",
      "metadata": {},
      "source": [
        "np.vstack((data, data, data))"
      ],
      "id": "dc4e8987",
      "execution_count": null,
      "outputs": []
    },
    {
      "cell_type": "code",
      "metadata": {},
      "source": [
        "np.hstack((data, data, data))"
      ],
      "id": "06f28e2c",
      "execution_count": null,
      "outputs": []
    },
    {
      "cell_type": "code",
      "metadata": {},
      "source": [
        "data = data[:, np.newaxis]\n",
        "data.shape"
      ],
      "id": "ad6c6c4c",
      "execution_count": null,
      "outputs": []
    },
    {
      "cell_type": "code",
      "metadata": {},
      "source": [
        "np.hstack((data, data, data))"
      ],
      "id": "a9a97fba",
      "execution_count": null,
      "outputs": []
    },
    {
      "cell_type": "code",
      "metadata": {},
      "source": [
        "data1 = np.array([[1, 2], [3, 4]])\n",
        "data2 = np.array([[5, 6]])"
      ],
      "id": "03a59dfa",
      "execution_count": null,
      "outputs": []
    },
    {
      "cell_type": "code",
      "metadata": {},
      "source": [
        "np.concatenate((data1, data2), axis=0)"
      ],
      "id": "80163602",
      "execution_count": null,
      "outputs": []
    },
    {
      "cell_type": "code",
      "metadata": {},
      "source": [
        "np.concatenate((data1, data2.T), axis=1)"
      ],
      "id": "7926d232",
      "execution_count": null,
      "outputs": []
    },
    {
      "cell_type": "markdown",
      "metadata": {},
      "source": [
        "## Vectorized expressions\n",
        "\n",
        "### Arithmetic operations"
      ],
      "id": "161312d6"
    },
    {
      "cell_type": "code",
      "metadata": {},
      "source": [
        "x = np.array([[1, 2], [3, 4]])\n",
        "y = np.array([[5, 6], [7, 8]])"
      ],
      "id": "31b92dc3",
      "execution_count": null,
      "outputs": []
    },
    {
      "cell_type": "code",
      "metadata": {},
      "source": [
        "x + y"
      ],
      "id": "83b79624",
      "execution_count": null,
      "outputs": []
    },
    {
      "cell_type": "code",
      "metadata": {},
      "source": [
        "y - x"
      ],
      "id": "dc0e1416",
      "execution_count": null,
      "outputs": []
    },
    {
      "cell_type": "code",
      "metadata": {},
      "source": [
        "x * y"
      ],
      "id": "2f71fbc8",
      "execution_count": null,
      "outputs": []
    },
    {
      "cell_type": "code",
      "metadata": {},
      "source": [
        "y / x"
      ],
      "id": "f9458b5b",
      "execution_count": null,
      "outputs": []
    },
    {
      "cell_type": "markdown",
      "metadata": {},
      "source": [
        "---"
      ],
      "id": "d25fffb0"
    },
    {
      "cell_type": "code",
      "metadata": {},
      "source": [
        "x * 2"
      ],
      "id": "26756c86",
      "execution_count": null,
      "outputs": []
    },
    {
      "cell_type": "code",
      "metadata": {},
      "source": [
        "2**x"
      ],
      "id": "88d2b71a",
      "execution_count": null,
      "outputs": []
    },
    {
      "cell_type": "code",
      "metadata": {},
      "source": [
        "y / 2"
      ],
      "id": "d71db46f",
      "execution_count": null,
      "outputs": []
    },
    {
      "cell_type": "code",
      "metadata": {},
      "source": [
        "(y / 2).dtype"
      ],
      "id": "99400443",
      "execution_count": null,
      "outputs": []
    },
    {
      "cell_type": "markdown",
      "metadata": {},
      "source": [
        "### Broadcasting"
      ],
      "id": "0782e528"
    },
    {
      "cell_type": "code",
      "metadata": {},
      "source": [
        "a = np.array([[11, 12, 13], [21, 22, 23], [31, 32, 33]])\n",
        "b = np.array([[1, 2, 3]])"
      ],
      "id": "637c0ce7",
      "execution_count": null,
      "outputs": []
    },
    {
      "cell_type": "code",
      "metadata": {},
      "source": [
        "a + b"
      ],
      "id": "08e1391c",
      "execution_count": null,
      "outputs": []
    },
    {
      "cell_type": "code",
      "metadata": {},
      "source": [
        "show_array_broadcasting(a, b)"
      ],
      "id": "2b6952c5",
      "execution_count": null,
      "outputs": []
    },
    {
      "cell_type": "code",
      "metadata": {},
      "source": [
        "a + b.T"
      ],
      "id": "29c0c58e",
      "execution_count": null,
      "outputs": []
    },
    {
      "cell_type": "code",
      "metadata": {},
      "source": [
        "show_array_broadcasting(a, b.T)"
      ],
      "id": "58dff45e",
      "execution_count": null,
      "outputs": []
    },
    {
      "cell_type": "markdown",
      "metadata": {},
      "source": [
        "---"
      ],
      "id": "bb1cafbf"
    },
    {
      "cell_type": "code",
      "metadata": {},
      "source": [
        "x = np.array([1, 2, 3, 4]).reshape(2, 2)\n",
        "x.shape"
      ],
      "id": "eade02ac",
      "execution_count": null,
      "outputs": []
    },
    {
      "cell_type": "code",
      "metadata": {},
      "source": [
        "z = np.array([[2, 4]])\n",
        "z.shape"
      ],
      "id": "985456c6",
      "execution_count": null,
      "outputs": []
    },
    {
      "cell_type": "code",
      "metadata": {},
      "source": [
        "x / z"
      ],
      "id": "b9bacf85",
      "execution_count": null,
      "outputs": []
    },
    {
      "cell_type": "code",
      "metadata": {},
      "source": [
        "zz = np.vstack((z, z))\n",
        "zz"
      ],
      "id": "62003a18",
      "execution_count": null,
      "outputs": []
    },
    {
      "cell_type": "code",
      "metadata": {},
      "source": [
        "x / zz"
      ],
      "id": "7544471f",
      "execution_count": null,
      "outputs": []
    },
    {
      "cell_type": "markdown",
      "metadata": {},
      "source": [
        "---"
      ],
      "id": "a7f49c75"
    },
    {
      "cell_type": "code",
      "metadata": {},
      "source": [
        "z = np.array([[2], [4]])\n",
        "z.shape"
      ],
      "id": "fbed1df4",
      "execution_count": null,
      "outputs": []
    },
    {
      "cell_type": "code",
      "metadata": {},
      "source": [
        "x / z"
      ],
      "id": "51b659cd",
      "execution_count": null,
      "outputs": []
    },
    {
      "cell_type": "code",
      "metadata": {},
      "source": [
        "zz = np.concatenate([z, z], axis=1)\n",
        "zz"
      ],
      "id": "c6f05e25",
      "execution_count": null,
      "outputs": []
    },
    {
      "cell_type": "code",
      "metadata": {},
      "source": [
        "x / zz"
      ],
      "id": "f048dde4",
      "execution_count": null,
      "outputs": []
    },
    {
      "cell_type": "markdown",
      "metadata": {},
      "source": [
        "---"
      ],
      "id": "69ccafee"
    },
    {
      "cell_type": "code",
      "metadata": {},
      "source": [
        "x = z = np.array([1, 2, 3, 4])\n",
        "y = np.array([5, 6, 7, 8])\n",
        "x = x + y  # x is reassigned to a new array"
      ],
      "id": "52f04372",
      "execution_count": null,
      "outputs": []
    },
    {
      "cell_type": "code",
      "metadata": {},
      "source": [
        "x, z"
      ],
      "id": "6ef50cee",
      "execution_count": null,
      "outputs": []
    },
    {
      "cell_type": "code",
      "metadata": {},
      "source": [
        "x = z = np.array([1, 2, 3, 4])\n",
        "y = np.array([5, 6, 7, 8])\n",
        "x += y  # the values of array x are updated in place"
      ],
      "id": "2c265981",
      "execution_count": null,
      "outputs": []
    },
    {
      "cell_type": "code",
      "metadata": {},
      "source": [
        "x, z"
      ],
      "id": "6a94f9a5",
      "execution_count": null,
      "outputs": []
    },
    {
      "cell_type": "markdown",
      "metadata": {},
      "source": [
        "### Elementwise functions"
      ],
      "id": "1d3e9777"
    },
    {
      "cell_type": "code",
      "metadata": {},
      "source": [
        "x = np.linspace(-1, 1, 11)\n",
        "x"
      ],
      "id": "c5c4bac2",
      "execution_count": null,
      "outputs": []
    },
    {
      "cell_type": "code",
      "metadata": {},
      "source": [
        "y = np.sin(np.pi * x)"
      ],
      "id": "40e9ae88",
      "execution_count": null,
      "outputs": []
    },
    {
      "cell_type": "code",
      "metadata": {},
      "source": [
        "np.round(y, decimals=4)"
      ],
      "id": "db73094b",
      "execution_count": null,
      "outputs": []
    },
    {
      "cell_type": "code",
      "metadata": {},
      "source": [
        "np.add(np.sin(x)**2, np.cos(x)**2)"
      ],
      "id": "bd0eae7d",
      "execution_count": null,
      "outputs": []
    },
    {
      "cell_type": "code",
      "metadata": {},
      "source": [
        "np.sin(x)**2 + np.cos(x)**2"
      ],
      "id": "ddfd9515",
      "execution_count": null,
      "outputs": []
    },
    {
      "cell_type": "markdown",
      "metadata": {},
      "source": [
        "---"
      ],
      "id": "d9751666"
    },
    {
      "cell_type": "code",
      "metadata": {},
      "source": [
        "def heaviside(x):\n",
        "    return 1 if x > 0 else 0"
      ],
      "id": "051ba0bc",
      "execution_count": null,
      "outputs": []
    },
    {
      "cell_type": "code",
      "metadata": {},
      "source": [
        "heaviside(-1)"
      ],
      "id": "5e23acb7",
      "execution_count": null,
      "outputs": []
    },
    {
      "cell_type": "code",
      "metadata": {},
      "source": [
        "heaviside(1.5)"
      ],
      "id": "3c63c9cf",
      "execution_count": null,
      "outputs": []
    },
    {
      "cell_type": "markdown",
      "metadata": {},
      "source": [
        "````\n",
        "```{{python}}\n",
        "x = np.linspace(-5, 5, 11)\n",
        "heaviside(x)\n",
        "```\n",
        "\n",
        "ValueError \n",
        "      1 x = np.linspace(-5, 5, 11)\n",
        "----> 2 heaviside(x)\n",
        "\n",
        "      1 def heaviside(x):\n",
        "----> 2     return 1 if x > 0 else 0\n",
        "\n",
        "ValueError: The truth value of an array with more than \n",
        "one element is ambiguous. Use a.any() or a.all()\n",
        "\n",
        "````"
      ],
      "id": "057ee0a6"
    },
    {
      "cell_type": "code",
      "metadata": {},
      "source": [
        "heaviside = np.vectorize(heaviside)\n",
        "heaviside(x)"
      ],
      "id": "c2510b20",
      "execution_count": null,
      "outputs": []
    },
    {
      "cell_type": "code",
      "metadata": {},
      "source": [
        "def heaviside(x):  # much better way\n",
        "    return 1 * (x > 0)\n",
        "\n",
        "heaviside(x)"
      ],
      "id": "f9ca9ca8",
      "execution_count": null,
      "outputs": []
    },
    {
      "cell_type": "markdown",
      "metadata": {},
      "source": [
        "### Aggregation"
      ],
      "id": "d76ac62f"
    },
    {
      "cell_type": "code",
      "metadata": {},
      "source": [
        "data = np.random.normal(size=(15, 15)) "
      ],
      "id": "bcaf738e",
      "execution_count": null,
      "outputs": []
    },
    {
      "cell_type": "code",
      "metadata": {},
      "source": [
        "np.mean(data)"
      ],
      "id": "95ffdf0a",
      "execution_count": null,
      "outputs": []
    },
    {
      "cell_type": "code",
      "metadata": {},
      "source": [
        "data.mean()"
      ],
      "id": "fe50960e",
      "execution_count": null,
      "outputs": []
    },
    {
      "cell_type": "markdown",
      "metadata": {},
      "source": [
        "---"
      ],
      "id": "392a4d92"
    },
    {
      "cell_type": "code",
      "metadata": {},
      "source": [
        "data = np.random.normal(size=(5, 10, 15))"
      ],
      "id": "708b37da",
      "execution_count": null,
      "outputs": []
    },
    {
      "cell_type": "code",
      "metadata": {},
      "source": [
        "data.sum(axis=0).shape"
      ],
      "id": "41fd9387",
      "execution_count": null,
      "outputs": []
    },
    {
      "cell_type": "code",
      "metadata": {},
      "source": [
        "data.sum(axis=(0, 2)).shape"
      ],
      "id": "0702a909",
      "execution_count": null,
      "outputs": []
    },
    {
      "cell_type": "code",
      "metadata": {},
      "source": [
        "data.sum()"
      ],
      "id": "6a63809c",
      "execution_count": null,
      "outputs": []
    },
    {
      "cell_type": "markdown",
      "metadata": {},
      "source": [
        "---\n"
      ],
      "id": "1e1049af"
    },
    {
      "cell_type": "code",
      "metadata": {},
      "source": [
        "data = np.arange(9).reshape(3, 3)\n",
        "data"
      ],
      "id": "2b01389d",
      "execution_count": null,
      "outputs": []
    },
    {
      "cell_type": "code",
      "metadata": {},
      "source": [
        "data.sum()"
      ],
      "id": "4fd0ad46",
      "execution_count": null,
      "outputs": []
    },
    {
      "cell_type": "code",
      "metadata": {},
      "source": [
        "show_array_aggregation(data, None)"
      ],
      "id": "e9b22e4d",
      "execution_count": null,
      "outputs": []
    },
    {
      "cell_type": "code",
      "metadata": {},
      "source": [
        "data.sum(axis=0)"
      ],
      "id": "fc93851b",
      "execution_count": null,
      "outputs": []
    },
    {
      "cell_type": "code",
      "metadata": {},
      "source": [
        "show_array_aggregation(data, 0)"
      ],
      "id": "659c5875",
      "execution_count": null,
      "outputs": []
    },
    {
      "cell_type": "code",
      "metadata": {},
      "source": [
        "data.sum(axis=1)"
      ],
      "id": "444437c7",
      "execution_count": null,
      "outputs": []
    },
    {
      "cell_type": "code",
      "metadata": {},
      "source": [
        "show_array_aggregation(data, 1)"
      ],
      "id": "16f17f17",
      "execution_count": null,
      "outputs": []
    },
    {
      "cell_type": "markdown",
      "metadata": {},
      "source": [
        "### Boolean arrays and conditional expressions"
      ],
      "id": "db190cc5"
    },
    {
      "cell_type": "code",
      "metadata": {},
      "source": [
        "a = np.array([1, 2, 3, 4])\n",
        "b = np.array([4, 3, 2, 1])"
      ],
      "id": "3dec2c13",
      "execution_count": null,
      "outputs": []
    },
    {
      "cell_type": "code",
      "metadata": {},
      "source": [
        "a < b"
      ],
      "id": "59275547",
      "execution_count": null,
      "outputs": []
    },
    {
      "cell_type": "code",
      "metadata": {},
      "source": [
        "np.all(a < b)"
      ],
      "id": "a4f5004e",
      "execution_count": null,
      "outputs": []
    },
    {
      "cell_type": "code",
      "metadata": {},
      "source": [
        "np.any(a < b)"
      ],
      "id": "70bbba0d",
      "execution_count": null,
      "outputs": []
    },
    {
      "cell_type": "markdown",
      "metadata": {},
      "source": [
        "---"
      ],
      "id": "fb5eb5d5"
    },
    {
      "cell_type": "code",
      "metadata": {},
      "source": [
        "x = np.array([-2, -1, 0, 1, 2])"
      ],
      "id": "5d8bd544",
      "execution_count": null,
      "outputs": []
    },
    {
      "cell_type": "code",
      "metadata": {},
      "source": [
        "x > 0"
      ],
      "id": "b465619d",
      "execution_count": null,
      "outputs": []
    },
    {
      "cell_type": "code",
      "metadata": {},
      "source": [
        "1 * (x > 0)"
      ],
      "id": "2b5d87c1",
      "execution_count": null,
      "outputs": []
    },
    {
      "cell_type": "code",
      "metadata": {},
      "source": [
        "x * (x > 0)"
      ],
      "id": "25d0ccab",
      "execution_count": null,
      "outputs": []
    },
    {
      "cell_type": "markdown",
      "metadata": {},
      "source": [
        "---"
      ],
      "id": "ee8d7e64"
    },
    {
      "cell_type": "code",
      "metadata": {},
      "source": [
        "def pulse(x, position, height, width):\n",
        "    return height * (x >= position) * (x <= (position + width))  "
      ],
      "id": "67e1d867",
      "execution_count": null,
      "outputs": []
    },
    {
      "cell_type": "code",
      "metadata": {},
      "source": [
        "x = np.linspace(-5, 5, 31)"
      ],
      "id": "33e72984",
      "execution_count": null,
      "outputs": []
    },
    {
      "cell_type": "code",
      "metadata": {},
      "source": [
        "pulse(x, position=-2, height=1, width=5)"
      ],
      "id": "61ac09ae",
      "execution_count": null,
      "outputs": []
    },
    {
      "cell_type": "code",
      "metadata": {},
      "source": [
        "pulse(x, position=1, height=2, width=2)"
      ],
      "id": "920d29a8",
      "execution_count": null,
      "outputs": []
    },
    {
      "cell_type": "markdown",
      "metadata": {},
      "source": [
        "---"
      ],
      "id": "c0c87b6a"
    },
    {
      "cell_type": "code",
      "metadata": {},
      "source": [
        "x = np.linspace(-4, 4, 9)\n",
        "x"
      ],
      "id": "e6c5ebf2",
      "execution_count": null,
      "outputs": []
    },
    {
      "cell_type": "code",
      "metadata": {},
      "source": [
        "np.where(x < 0, x**2, x**3)"
      ],
      "id": "ea6b28dd",
      "execution_count": null,
      "outputs": []
    },
    {
      "cell_type": "code",
      "metadata": {},
      "source": [
        "np.select([x < -1, x < 2, x>= 2], [x**2, x**3, x**4])"
      ],
      "id": "4099e9df",
      "execution_count": null,
      "outputs": []
    },
    {
      "cell_type": "code",
      "metadata": {},
      "source": [
        "np.choose([0, 0, 0, 1, 1, 1, 2, 2, 2], [x**2, x**3, x**4])"
      ],
      "id": "5de65e42",
      "execution_count": null,
      "outputs": []
    },
    {
      "cell_type": "code",
      "metadata": {},
      "source": [
        "x[np.abs(x) > 2]"
      ],
      "id": "96a33237",
      "execution_count": null,
      "outputs": []
    },
    {
      "cell_type": "markdown",
      "metadata": {},
      "source": [
        "### Set operations"
      ],
      "id": "931d8364"
    },
    {
      "cell_type": "code",
      "metadata": {},
      "source": [
        "a = np.unique([1, 2, 3, 3])\n",
        "a"
      ],
      "id": "2ed295fb",
      "execution_count": null,
      "outputs": []
    },
    {
      "cell_type": "code",
      "metadata": {},
      "source": [
        "b = np.unique([2, 3, 4, 4, 5, 6, 5])\n",
        "b"
      ],
      "id": "5a2ecbb2",
      "execution_count": null,
      "outputs": []
    },
    {
      "cell_type": "code",
      "metadata": {},
      "source": [
        "np.in1d(a, b)"
      ],
      "id": "0a4e650d",
      "execution_count": null,
      "outputs": []
    },
    {
      "cell_type": "code",
      "metadata": {},
      "source": [
        "1 in a, 1 in b"
      ],
      "id": "b678aa25",
      "execution_count": null,
      "outputs": []
    },
    {
      "cell_type": "code",
      "metadata": {},
      "source": [
        "np.all(np.in1d(a, b))  # to test if a is a subset of b"
      ],
      "id": "68a538d8",
      "execution_count": null,
      "outputs": []
    },
    {
      "cell_type": "markdown",
      "metadata": {},
      "source": [
        "---"
      ],
      "id": "25f62e80"
    },
    {
      "cell_type": "code",
      "metadata": {},
      "source": [
        "np.union1d(a, b)"
      ],
      "id": "be8c2298",
      "execution_count": null,
      "outputs": []
    },
    {
      "cell_type": "code",
      "metadata": {},
      "source": [
        "np.intersect1d(a, b)"
      ],
      "id": "013db228",
      "execution_count": null,
      "outputs": []
    },
    {
      "cell_type": "code",
      "metadata": {},
      "source": [
        "np.setdiff1d(a, b)"
      ],
      "id": "cd25d4ef",
      "execution_count": null,
      "outputs": []
    },
    {
      "cell_type": "code",
      "metadata": {},
      "source": [
        "np.setdiff1d(b, a)"
      ],
      "id": "dcc521e6",
      "execution_count": null,
      "outputs": []
    },
    {
      "cell_type": "markdown",
      "metadata": {},
      "source": [
        "### Operations on arrays"
      ],
      "id": "834b6bee"
    },
    {
      "cell_type": "code",
      "metadata": {},
      "source": [
        "data = np.arange(9).reshape(3, 3)\n",
        "data"
      ],
      "id": "e0e5af56",
      "execution_count": null,
      "outputs": []
    },
    {
      "cell_type": "code",
      "metadata": {},
      "source": [
        "np.transpose(data)"
      ],
      "id": "ce318cce",
      "execution_count": null,
      "outputs": []
    },
    {
      "cell_type": "markdown",
      "metadata": {},
      "source": [
        "---"
      ],
      "id": "444f4647"
    },
    {
      "cell_type": "code",
      "metadata": {},
      "source": [
        "data = np.random.randn(1, 2, 3, 4, 5)"
      ],
      "id": "3b9ed6f3",
      "execution_count": null,
      "outputs": []
    },
    {
      "cell_type": "code",
      "metadata": {},
      "source": [
        "data.shape"
      ],
      "id": "b0cb1d7d",
      "execution_count": null,
      "outputs": []
    },
    {
      "cell_type": "code",
      "metadata": {},
      "source": [
        "data.T.shape"
      ],
      "id": "a72162b6",
      "execution_count": null,
      "outputs": []
    },
    {
      "cell_type": "markdown",
      "metadata": {},
      "source": [
        "## Matrix and vector operations"
      ],
      "id": "6e68790b"
    },
    {
      "cell_type": "code",
      "metadata": {},
      "source": [
        "A = np.arange(1, 7).reshape(2, 3)\n",
        "A"
      ],
      "id": "d549c056",
      "execution_count": null,
      "outputs": []
    },
    {
      "cell_type": "code",
      "metadata": {},
      "source": [
        "B = np.arange(1, 7).reshape(3, 2)\n",
        "B"
      ],
      "id": "a6d13bb9",
      "execution_count": null,
      "outputs": []
    },
    {
      "cell_type": "code",
      "metadata": {},
      "source": [
        "np.dot(A, B)"
      ],
      "id": "f1b356a2",
      "execution_count": null,
      "outputs": []
    },
    {
      "cell_type": "code",
      "metadata": {},
      "source": [
        "np.dot(B, A)"
      ],
      "id": "1e218cee",
      "execution_count": null,
      "outputs": []
    },
    {
      "cell_type": "code",
      "metadata": {},
      "source": [
        "A @ B  # python 3.5 above"
      ],
      "id": "920fe0a3",
      "execution_count": null,
      "outputs": []
    },
    {
      "cell_type": "code",
      "metadata": {},
      "source": [
        "B @ A"
      ],
      "id": "2705af4e",
      "execution_count": null,
      "outputs": []
    },
    {
      "cell_type": "markdown",
      "metadata": {},
      "source": [
        "---"
      ],
      "id": "bf58a3a7"
    },
    {
      "cell_type": "code",
      "metadata": {},
      "source": [
        "A = np.arange(9).reshape(3, 3)\n",
        "A"
      ],
      "id": "4a75269d",
      "execution_count": null,
      "outputs": []
    },
    {
      "cell_type": "code",
      "metadata": {},
      "source": [
        "x = np.arange(3)\n",
        "x"
      ],
      "id": "eec27925",
      "execution_count": null,
      "outputs": []
    },
    {
      "cell_type": "code",
      "metadata": {},
      "source": [
        "np.dot(A, x)"
      ],
      "id": "423d6a0c",
      "execution_count": null,
      "outputs": []
    },
    {
      "cell_type": "code",
      "metadata": {},
      "source": [
        "A.dot(x)"
      ],
      "id": "24759426",
      "execution_count": null,
      "outputs": []
    },
    {
      "cell_type": "code",
      "metadata": {},
      "source": [
        "A @ x"
      ],
      "id": "40d30258",
      "execution_count": null,
      "outputs": []
    },
    {
      "cell_type": "markdown",
      "metadata": {},
      "source": [
        "---"
      ],
      "id": "2a6a253e"
    },
    {
      "cell_type": "code",
      "metadata": {},
      "source": [
        "A = np.random.rand(3, 3)\n",
        "B = np.random.rand(3, 3)"
      ],
      "id": "3d3ad80d",
      "execution_count": null,
      "outputs": []
    },
    {
      "cell_type": "code",
      "metadata": {},
      "source": [
        "Ap = np.dot(B, np.dot(A, np.linalg.inv(B)))"
      ],
      "id": "97c8a272",
      "execution_count": null,
      "outputs": []
    },
    {
      "cell_type": "code",
      "metadata": {},
      "source": [
        "Ap = B.dot(A.dot(np.linalg.inv(B)))"
      ],
      "id": "5e1a3e3b",
      "execution_count": null,
      "outputs": []
    },
    {
      "cell_type": "code",
      "metadata": {},
      "source": [
        "B @ A @ np.linalg.inv(B)"
      ],
      "id": "5f29eeb8",
      "execution_count": null,
      "outputs": []
    },
    {
      "cell_type": "markdown",
      "metadata": {},
      "source": [
        "---"
      ],
      "id": "98af3d92"
    },
    {
      "cell_type": "code",
      "metadata": {},
      "source": [
        "np.inner(x, x)"
      ],
      "id": "e3a3fd6d",
      "execution_count": null,
      "outputs": []
    },
    {
      "cell_type": "code",
      "metadata": {},
      "source": [
        "np.dot(x, x)"
      ],
      "id": "01e6ba8f",
      "execution_count": null,
      "outputs": []
    },
    {
      "cell_type": "code",
      "metadata": {},
      "source": [
        "y = x[:, np.newaxis]\n",
        "y"
      ],
      "id": "c8ee036d",
      "execution_count": null,
      "outputs": []
    },
    {
      "cell_type": "code",
      "metadata": {},
      "source": [
        "np.dot(y.T, y)"
      ],
      "id": "7058da06",
      "execution_count": null,
      "outputs": []
    },
    {
      "cell_type": "markdown",
      "metadata": {},
      "source": [
        "---\n",
        "\n",
        "* Given two vectors, $\\mathbf{a} = [a_0, a_1, ..., a_M]~$ and $~\\mathbf{b} = [b_0, b_1, ..., b_N]$, $~$the outer product is $\\mathbf{a}^T\\mathbf{b}$\n",
        "\n",
        "$$\\begin{pmatrix}\n",
        " a_0 b_0 & a_0b_1 & \\cdots & a_0 b_N \\\\\n",
        " a_1 b_0 & \\cdots & \\cdots & a_1 b_N \\\\\n",
        " \\vdots  & \\ddots &        & \\vdots  \\\\\n",
        " a_M b_0 &        & \\ddots & a_M b_N \\\\\n",
        " \\end{pmatrix}\n",
        "$$\n"
      ],
      "id": "3e15717e"
    },
    {
      "cell_type": "code",
      "metadata": {},
      "source": [
        "x = np.array([1, 2, 3])"
      ],
      "id": "01583b5d",
      "execution_count": null,
      "outputs": []
    },
    {
      "cell_type": "code",
      "metadata": {},
      "source": [
        "np.outer(x, x)"
      ],
      "id": "eb006e3a",
      "execution_count": null,
      "outputs": []
    },
    {
      "cell_type": "code",
      "metadata": {},
      "source": [
        "np.kron(x, x)"
      ],
      "id": "cb8d0cce",
      "execution_count": null,
      "outputs": []
    },
    {
      "cell_type": "code",
      "metadata": {},
      "source": [
        "np.kron(x[:, np.newaxis], x[np.newaxis, :])"
      ],
      "id": "e2962566",
      "execution_count": null,
      "outputs": []
    },
    {
      "cell_type": "code",
      "metadata": {},
      "source": [
        "np.kron(np.ones((2, 2)), np.identity(2))"
      ],
      "id": "4b2a0fb6",
      "execution_count": null,
      "outputs": []
    },
    {
      "cell_type": "code",
      "metadata": {},
      "source": [
        "np.kron(np.identity(2), np.ones((2, 2)))"
      ],
      "id": "3a77be99",
      "execution_count": null,
      "outputs": []
    },
    {
      "cell_type": "markdown",
      "metadata": {},
      "source": [
        "---"
      ],
      "id": "a6f1e005"
    },
    {
      "cell_type": "code",
      "metadata": {},
      "source": [
        "x = np.array([1, 2, 3, 4])\n",
        "y = np.array([5, 6, 7, 8])"
      ],
      "id": "ab5c643a",
      "execution_count": null,
      "outputs": []
    },
    {
      "cell_type": "code",
      "metadata": {},
      "source": [
        "np.einsum(\"n,n\", x, y)"
      ],
      "id": "839ebcf0",
      "execution_count": null,
      "outputs": []
    },
    {
      "cell_type": "code",
      "metadata": {},
      "source": [
        "np.inner(x, y)"
      ],
      "id": "a48d5f12",
      "execution_count": null,
      "outputs": []
    },
    {
      "cell_type": "code",
      "metadata": {},
      "source": [
        "A = np.arange(9).reshape(3, 3)\n",
        "B = A.T"
      ],
      "id": "ff1957ea",
      "execution_count": null,
      "outputs": []
    },
    {
      "cell_type": "code",
      "metadata": {},
      "source": [
        "np.einsum(\"mk,kn\", A, B)"
      ],
      "id": "af77b353",
      "execution_count": null,
      "outputs": []
    },
    {
      "cell_type": "code",
      "metadata": {},
      "source": [
        "np.all(np.einsum(\"mk,kn\", A, B) == np.dot(A, B))"
      ],
      "id": "df8be18f",
      "execution_count": null,
      "outputs": []
    }
  ],
  "metadata": {
    "kernelspec": {
      "name": "python3",
      "language": "python",
      "display_name": "Python 3 (ipykernel)",
      "path": "/opt/miniconda3/share/jupyter/kernels/python3"
    }
  },
  "nbformat": 4,
  "nbformat_minor": 5
}