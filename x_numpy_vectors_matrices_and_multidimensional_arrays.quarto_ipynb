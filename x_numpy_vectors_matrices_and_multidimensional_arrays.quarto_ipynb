{
  "cells": [
    {
      "cell_type": "markdown",
      "metadata": {},
      "source": [
        "---\n",
        "jupyter: python3\n",
        "---\n",
        "\n",
        "# Numpy: Vectors, Matrices, and Multidimensional Arrays {#sec-numpy}\n",
        "\n",
        "$~$\n",
        "\n",
        "[![](./figures/numpy_logo.png){width=\"30%\" fig-align=\"center\"}](https://numpy.org/doc/stable/)\n",
        "\n",
        "$~$\n",
        "\n",
        "## Importing numpy"
      ],
      "id": "b5215baa"
    },
    {
      "cell_type": "code",
      "metadata": {},
      "source": [
        "import numpy as np\n",
        "\n",
        "print(\"numpy: \", np.__version__)"
      ],
      "id": "48d5864f",
      "execution_count": null,
      "outputs": []
    },
    {
      "cell_type": "markdown",
      "metadata": {},
      "source": [
        "* [_show_array.py](_show_array.py)\n",
        "* `show_array()`\n",
        "* `show_array_aggregation()`"
      ],
      "id": "37912013"
    },
    {
      "cell_type": "code",
      "metadata": {},
      "source": [
        "#| echo: false\n",
        "import numpy as np\n",
        "\n",
        "import matplotlib as mpl\n",
        "import matplotlib.pyplot as plt\n",
        "\n",
        "def show_array(shape, sel, filename=None):\n",
        "    \"\"\"\n",
        "    Visualize indexing of arrays\n",
        "    \"\"\"\n",
        "    \n",
        "    data = np.zeros(shape)\n",
        "    exec(f'data[{sel}] = 1')\n",
        "    \n",
        "    fig, ax = plt.subplots(1, 1, figsize=shape)\n",
        "    ax.set_frame_on(False)\n",
        "\n",
        "    ax.patch.set_facecolor('white')\n",
        "    ax.xaxis.set_major_locator(plt.NullLocator())\n",
        "    ax.yaxis.set_major_locator(plt.NullLocator())\n",
        "    \n",
        "    size = 0.96\n",
        "    for (m, n), w in np.ndenumerate(data):\n",
        "        color = '#1199ff' if w > 0 else '#eeeeee'\n",
        "        rect = plt.Rectangle([n -size/2, m -size/2], \n",
        "                             size, size, \n",
        "                             facecolor=color,\n",
        "                             edgecolor=color)\n",
        "        ax.add_patch(rect)\n",
        "        ax.text(n, m, f'({m}, {n})', ha='center',\n",
        "                                     va='center',\n",
        "                                     fontsize=12)\n",
        "    ax.autoscale_view()\n",
        "    ax.invert_yaxis()\n",
        "    \n",
        "    if sel ==':, :':\n",
        "        ax.set_title('data\\n', fontsize=12)\n",
        "    else:\n",
        "        ax.set_title(f'data[{sel}]\\n', fontsize=12)\n",
        "        \n",
        "    if filename:\n",
        "        fig.savefig(filename + \".png\", dpi=200)\n",
        "        fig.savefig(filename + \".svg\")\n",
        "        fig.savefig(filename + \".pdf\")\n",
        "\n",
        "\n",
        "def show_array_broadcasting(a, b, filename=None):\n",
        "    \"\"\"\n",
        "    Visualize broadcasting of arrays\n",
        "    \"\"\"\n",
        " \n",
        "    colors = ['#1199ff', '#eeeeee']\n",
        "    \n",
        "    fig, axes = plt.subplots(1, 3, figsize=(8, 2.7))\n",
        "\n",
        "    # -- a --\n",
        "    data = a\n",
        "    \n",
        "    ax = axes[0]\n",
        "    ax.set_frame_on(False)    \n",
        "    ax.patch.set_facecolor('white')\n",
        "    ax.xaxis.set_major_locator(plt.NullLocator())\n",
        "    ax.yaxis.set_major_locator(plt.NullLocator())\n",
        "\n",
        "    size = 0.96\n",
        "    color = colors[0]\n",
        "    for (m, n), w in np.ndenumerate(data):\n",
        "\n",
        "        rect = plt.Rectangle([n -size/2, m -size/2],\n",
        "                             size, size,\n",
        "                             facecolor=color,\n",
        "                             edgecolor=color)\n",
        "        ax.add_patch(rect)\n",
        "        ax.text(n, m, f'{data[m, n]}', ha='center', va='center', fontsize=14)        \n",
        "\n",
        "    ax.text(3, 1, \"+\", ha='center', va='center', fontsize=22)        \n",
        "    ax.autoscale_view()\n",
        "    ax.invert_yaxis()\n",
        "\n",
        "    # -- b --\n",
        "    data = np.zeros_like(a) + b\n",
        "\n",
        "    ax = axes[1]\n",
        "    ax.set_frame_on(False)     \n",
        "    ax.patch.set_facecolor('white')\n",
        "    ax.xaxis.set_major_locator(plt.NullLocator())\n",
        "    ax.yaxis.set_major_locator(plt.NullLocator())\n",
        "    \n",
        "    size = 0.96\n",
        "    for (m, n), w in np.ndenumerate(data):\n",
        "        \n",
        "        if (np.argmax(b.T.shape) == 0 and m == 0) or (np.argmax(b.T.shape) == 1 and n == 0):\n",
        "            color = colors[0]\n",
        "        else:\n",
        "            color = colors[1]\n",
        "            \n",
        "        rect = plt.Rectangle([n -size/2, m -size/2],\n",
        "                             size, size,\n",
        "                             facecolor=color,\n",
        "                             edgecolor=color)\n",
        "        ax.add_patch(rect)\n",
        "\n",
        "        ax.text(m, n, f'{data[n, m]}', ha='center', va='center', fontsize=14)        \n",
        "\n",
        "    ax.text(3, 1, \"=\", ha='center', va='center', fontsize=22)        \n",
        "    ax.autoscale_view()\n",
        "    ax.invert_yaxis()\n",
        "\n",
        "    # -- c --\n",
        "    data = a + b\n",
        "    \n",
        "    ax = axes[2]\n",
        "    ax.set_frame_on(False) \n",
        "    ax.patch.set_facecolor('white')\n",
        "    ax.xaxis.set_major_locator(plt.NullLocator())\n",
        "    ax.yaxis.set_major_locator(plt.NullLocator())\n",
        "  \n",
        "    size = 0.96\n",
        "    color = colors[0]\n",
        "    for (m, n), w in np.ndenumerate(data):\n",
        "\n",
        "        rect = plt.Rectangle([n -size/2, m -size/2],\n",
        "                             size, size,\n",
        "                             facecolor=color,\n",
        "                             edgecolor=color)\n",
        "        ax.add_patch(rect)\n",
        "        \n",
        "        ax.text(m, n, f'{data[n, m]}', ha='center', va='center', fontsize=14)        \n",
        "\n",
        "    ax.autoscale_view()\n",
        "    ax.invert_yaxis()\n",
        "    \n",
        "    #fig.tight_layout()\n",
        "        \n",
        "    if filename:\n",
        "        fig.savefig(filename + \".png\", dpi=200)\n",
        "        fig.savefig(filename + \".svg\")\n",
        "        fig.savefig(filename + \".pdf\")        \n",
        "\n",
        "\n",
        "\n",
        "def show_array_aggregation(data, axis, filename=None):\n",
        "    \"\"\"\n",
        "    Visualize aggregation of arrays\n",
        "    \"\"\"\n",
        "\n",
        "    colors = ['#1199ff', '#ee3311', '#66ff22']\n",
        "    \n",
        "    fig, axes = plt.subplots(2, 1, figsize=(3, 6))\n",
        "    \n",
        "    # -- data --\n",
        "    ax = axes[0]\n",
        "    ax.set_frame_on(False)\n",
        "    ax.patch.set_facecolor('white')\n",
        "    ax.xaxis.set_major_locator(plt.NullLocator())\n",
        "    ax.yaxis.set_major_locator(plt.NullLocator())\n",
        "       \n",
        "    size = 0.96\n",
        "    for (m, n), w in np.ndenumerate(data):\n",
        "\n",
        "        if axis is None:\n",
        "            color = colors[0]\n",
        "        elif axis == 1:\n",
        "            color = colors[m]\n",
        "        else:\n",
        "            color = colors[n]\n",
        "            \n",
        "        rect = plt.Rectangle([n -size/2, m -size/2],\n",
        "                             size, size,\n",
        "                             facecolor=color,\n",
        "                             edgecolor=color)\n",
        "        ax.add_patch(rect)\n",
        "\n",
        "        ax.text(n, m, f'{data[m, n]}', ha='center', va='center', fontsize=14)\n",
        "        \n",
        "    ax.autoscale_view()\n",
        "    ax.invert_yaxis()\n",
        "    ax.set_title(\"data\", fontsize=12)\n",
        "\n",
        "    # -- data aggregation -- \n",
        "    \n",
        "    if axis is None:\n",
        "        adata = np.atleast_2d(data.sum())\n",
        "    elif axis == 0:\n",
        "        adata = data.sum(axis=axis)[:, np.newaxis]\n",
        "    else:\n",
        "        adata = data.sum(axis=axis)[:, np.newaxis]     \n",
        "   \n",
        "    ax = axes[1]\n",
        "    ax.set_frame_on(False)\n",
        "    ax.patch.set_facecolor('white')\n",
        "    ax.xaxis.set_major_locator(plt.NullLocator())\n",
        "    ax.yaxis.set_major_locator(plt.NullLocator())\n",
        "    \n",
        "    size = 1.0\n",
        "    for (m, n), w in np.ndenumerate(data):\n",
        "        color = 'white'\n",
        "        rect = plt.Rectangle([n -size/2, m -size/2],\n",
        "                         size, size,\n",
        "                         facecolor=color,\n",
        "                         edgecolor=color)\n",
        "        ax.add_patch(rect)        \n",
        "    \n",
        "    size = 0.96\n",
        "    for (m, n), w in np.ndenumerate(adata):\n",
        "\n",
        "        if axis is None:\n",
        "            color = colors[0] \n",
        "            rect = plt.Rectangle([1 +m -size/2, n -size/2],\n",
        "                         size, size,\n",
        "                         facecolor=color,\n",
        "                         edgecolor=color)\n",
        "            ax.add_patch(rect)\n",
        "            \n",
        "            ax.text(1 +m, n, f'{adata[m, n]}', ha='center', va='center', fontsize=14)\n",
        "            \n",
        "        if axis == 0:\n",
        "            color = colors[m]\n",
        "            rect = plt.Rectangle([m -size/2, n -size/2],\n",
        "                                 size, size,\n",
        "                                 facecolor=color,\n",
        "                                 edgecolor=color)\n",
        "            ax.add_patch(rect)\n",
        "     \n",
        "            ax.text(m, n, f'{adata[m, n]}', ha='center', va='center', fontsize=14)\n",
        "        \n",
        "        if axis == 1:\n",
        "            color = colors[m]\n",
        "            rect = plt.Rectangle([1 +n -size/2, m -size/2],\n",
        "                                 size, size,\n",
        "                                 facecolor=color,\n",
        "                                 edgecolor=color)\n",
        "            ax.add_patch(rect)\n",
        "     \n",
        "            ax.text(1 +n, m, f'{adata[m, n]}', ha='center', va='center', fontsize=14)        \n",
        "\n",
        "    ax.autoscale_view()\n",
        "    ax.invert_yaxis()\n",
        "    \n",
        "    if axis is not None:\n",
        "        ax.set_title(f'data.sum(axis={axis})', fontsize=12)\n",
        "    else:\n",
        "        ax.set_title('data.sum()', fontsize=12)\n",
        "    \n",
        "    #fig.tight_layout()\n",
        "    \n",
        "    if filename:\n",
        "        fig.savefig(filename + \".png\", dpi=200)\n",
        "        fig.savefig(filename + \".svg\")\n",
        "        fig.savefig(filename + \".pdf\")"
      ],
      "id": "ff81481e",
      "execution_count": null,
      "outputs": []
    },
    {
      "cell_type": "markdown",
      "metadata": {},
      "source": [
        "## The Numpy array object"
      ],
      "id": "96f395f7"
    },
    {
      "cell_type": "code",
      "metadata": {},
      "source": [
        "data = np.array([[1, 2], [3, 4], [5, 6]])\n",
        "data"
      ],
      "id": "a68547cd",
      "execution_count": null,
      "outputs": []
    },
    {
      "cell_type": "code",
      "metadata": {},
      "source": [
        "type(data)"
      ],
      "id": "f63419d5",
      "execution_count": null,
      "outputs": []
    },
    {
      "cell_type": "code",
      "metadata": {},
      "source": [
        "data.ndim"
      ],
      "id": "f4e4b87f",
      "execution_count": null,
      "outputs": []
    },
    {
      "cell_type": "code",
      "metadata": {},
      "source": [
        "data.shape"
      ],
      "id": "483c84a1",
      "execution_count": null,
      "outputs": []
    },
    {
      "cell_type": "code",
      "metadata": {},
      "source": [
        "data.size"
      ],
      "id": "174c70a5",
      "execution_count": null,
      "outputs": []
    },
    {
      "cell_type": "code",
      "metadata": {},
      "source": [
        "data.dtype"
      ],
      "id": "321aa536",
      "execution_count": null,
      "outputs": []
    },
    {
      "cell_type": "code",
      "metadata": {},
      "source": [
        "data.nbytes"
      ],
      "id": "a158518f",
      "execution_count": null,
      "outputs": []
    },
    {
      "cell_type": "markdown",
      "metadata": {},
      "source": [
        "## Data types"
      ],
      "id": "aa01822b"
    },
    {
      "cell_type": "code",
      "metadata": {},
      "source": [
        "d0 = np.array([1, 2, 3], dtype=int)\n",
        "d0"
      ],
      "id": "0e8ac97f",
      "execution_count": null,
      "outputs": []
    },
    {
      "cell_type": "code",
      "metadata": {},
      "source": [
        "d1 = np.array([1, 2, 3], dtype=float)\n",
        "d1"
      ],
      "id": "18cb5a88",
      "execution_count": null,
      "outputs": []
    },
    {
      "cell_type": "code",
      "metadata": {},
      "source": [
        "d2 = np.array([1, 2, 3], dtype=complex)\n",
        "d2"
      ],
      "id": "09272ab9",
      "execution_count": null,
      "outputs": []
    },
    {
      "cell_type": "markdown",
      "metadata": {},
      "source": [
        "### Type casting"
      ],
      "id": "49be2689"
    },
    {
      "cell_type": "code",
      "metadata": {},
      "source": [
        "data = np.array([1, 2, 3], dtype=float)\n",
        "data"
      ],
      "id": "1078b482",
      "execution_count": null,
      "outputs": []
    },
    {
      "cell_type": "code",
      "metadata": {},
      "source": [
        "data = np.array(data, dtype=int)\n",
        "data"
      ],
      "id": "8b8fca12",
      "execution_count": null,
      "outputs": []
    },
    {
      "cell_type": "code",
      "metadata": {},
      "source": [
        "data = np.array([1.6, 2, 3], dtype=float)\n",
        "data.astype(int)"
      ],
      "id": "e59c2da6",
      "execution_count": null,
      "outputs": []
    },
    {
      "cell_type": "markdown",
      "metadata": {},
      "source": [
        "### Type promotion"
      ],
      "id": "4531813a"
    },
    {
      "cell_type": "code",
      "metadata": {},
      "source": [
        "d1 = np.array([1, 2, 3], dtype=float)\n",
        "d2 = np.array([1, 2, 3], dtype=complex)"
      ],
      "id": "7dd1fe4c",
      "execution_count": null,
      "outputs": []
    },
    {
      "cell_type": "code",
      "metadata": {},
      "source": [
        "d1 + d2"
      ],
      "id": "4a1d704b",
      "execution_count": null,
      "outputs": []
    },
    {
      "cell_type": "code",
      "metadata": {},
      "source": [
        "(d1 + d2).dtype"
      ],
      "id": "26aab125",
      "execution_count": null,
      "outputs": []
    },
    {
      "cell_type": "markdown",
      "metadata": {},
      "source": [
        "### Type-depending operation"
      ],
      "id": "3804138e"
    },
    {
      "cell_type": "code",
      "metadata": {},
      "source": [
        "np.sqrt(np.array([-1, 0, 1]))"
      ],
      "id": "f091750f",
      "execution_count": null,
      "outputs": []
    },
    {
      "cell_type": "code",
      "metadata": {},
      "source": [
        "np.sqrt(np.array([-1, 0, 1], dtype=complex))"
      ],
      "id": "9f5147c4",
      "execution_count": null,
      "outputs": []
    },
    {
      "cell_type": "markdown",
      "metadata": {},
      "source": [
        "### Real and imaginary parts"
      ],
      "id": "1aa07041"
    },
    {
      "cell_type": "code",
      "metadata": {},
      "source": [
        "data = np.array([1, 2, 3], dtype=complex)\n",
        "data"
      ],
      "id": "c2473c7b",
      "execution_count": null,
      "outputs": []
    },
    {
      "cell_type": "code",
      "metadata": {},
      "source": [
        "data.real"
      ],
      "id": "6509adce",
      "execution_count": null,
      "outputs": []
    },
    {
      "cell_type": "code",
      "metadata": {},
      "source": [
        "data.imag"
      ],
      "id": "2b4f346e",
      "execution_count": null,
      "outputs": []
    },
    {
      "cell_type": "code",
      "metadata": {},
      "source": [
        "np.real(data)"
      ],
      "id": "3cab8c64",
      "execution_count": null,
      "outputs": []
    },
    {
      "cell_type": "code",
      "metadata": {},
      "source": [
        "np.imag(data)"
      ],
      "id": "9f7faff8",
      "execution_count": null,
      "outputs": []
    },
    {
      "cell_type": "markdown",
      "metadata": {},
      "source": [
        "### Order of array data in memory\n",
        "\n",
        "* <font color=\"red\">Multidimensional arrays are stored as contiguous data in memory</font>. $~$Consider the case of a two-dimensional array, $~$containing rows and columns: $~$One possible way to store this array as a consecutive sequence of values is to store the rows after each other, and another equally valid approach is to store the columns one after another\n",
        "\n",
        "* The former is called <font color=\"green\">row-major format</font> and the latter is <font color=\"green\">column-major format</font>. Whether to use row-major or column-major is a matter of conventions, and the **row-major format** is used for example in the **C** programming language, and **Fortran** uses the **column-major format**\n",
        "\n",
        "* A `numpy` array can be specified to be stored in row-major format, using the keyword argument `order='C'`, and column-major format, using the keyword argument `order='F'`, when the array is created or reshaped. <font color=\"blue\">The default format is *row-major*</font> \n",
        "\n",
        "* In general, the `numpy` array attribute `ndarray.strides` defines exactly how this mapping is done. The `strides` attribute is a tuple of the same length as the number of axes (dimensions) of the array. Each value in `strides` is the factor by which the index for the corresponding axis is multiplied when calculating the *memory offset (in bytes)* for a given index expression\n"
      ],
      "id": "b48c1af6"
    },
    {
      "cell_type": "code",
      "metadata": {},
      "source": [
        "data = np.array([[1, 2, 3], [4, 5, 6]], dtype=np.int32)\n",
        "data"
      ],
      "id": "8d6312fb",
      "execution_count": null,
      "outputs": []
    },
    {
      "cell_type": "code",
      "metadata": {},
      "source": [
        "data.strides"
      ],
      "id": "fd2c076a",
      "execution_count": null,
      "outputs": []
    },
    {
      "cell_type": "code",
      "metadata": {},
      "source": [
        "data = np.array([[1, 2, 3], [4, 5, 6]], dtype=np.int32, order='F')\n",
        "data"
      ],
      "id": "58c7c8f7",
      "execution_count": null,
      "outputs": []
    },
    {
      "cell_type": "code",
      "metadata": {},
      "source": [
        "data.strides"
      ],
      "id": "c72b2046",
      "execution_count": null,
      "outputs": []
    },
    {
      "cell_type": "markdown",
      "metadata": {},
      "source": [
        "## Creating arrays\n",
        "\n",
        "### Arrays created from lists and other array-like objects"
      ],
      "id": "2574bdc8"
    },
    {
      "cell_type": "code",
      "metadata": {},
      "source": [
        "data = np.array([1, 2, 3, 4])\n",
        "data.ndim, data.shape"
      ],
      "id": "c4d0b43e",
      "execution_count": null,
      "outputs": []
    },
    {
      "cell_type": "code",
      "metadata": {},
      "source": [
        "data = np.array(((1, 2), (3, 4)))\n",
        "data.ndim, data.shape"
      ],
      "id": "cbb575a7",
      "execution_count": null,
      "outputs": []
    },
    {
      "cell_type": "markdown",
      "metadata": {},
      "source": [
        "### Arrays filled with constant values"
      ],
      "id": "6b59d634"
    },
    {
      "cell_type": "code",
      "metadata": {},
      "source": [
        "np.zeros((2, 3))"
      ],
      "id": "eea510d5",
      "execution_count": null,
      "outputs": []
    },
    {
      "cell_type": "code",
      "metadata": {},
      "source": [
        "data = np.ones(4)\n",
        "data, data.dtype"
      ],
      "id": "ebd90c30",
      "execution_count": null,
      "outputs": []
    },
    {
      "cell_type": "code",
      "metadata": {},
      "source": [
        "5.4 * np.ones(10)"
      ],
      "id": "f88c8ca0",
      "execution_count": null,
      "outputs": []
    },
    {
      "cell_type": "code",
      "metadata": {},
      "source": [
        "np.full(10, 5.4) # slightly more efficient"
      ],
      "id": "1b5793fa",
      "execution_count": null,
      "outputs": []
    },
    {
      "cell_type": "code",
      "metadata": {},
      "source": [
        "x1 = np.empty(5)\n",
        "x1.fill(3.0)\n",
        "x1"
      ],
      "id": "9deaba20",
      "execution_count": null,
      "outputs": []
    },
    {
      "cell_type": "markdown",
      "metadata": {},
      "source": [
        "### Arrays filled with incremental sequences"
      ],
      "id": "bd577ad0"
    },
    {
      "cell_type": "code",
      "metadata": {},
      "source": [
        "np.arange(0, 11, 1)"
      ],
      "id": "a5acd05b",
      "execution_count": null,
      "outputs": []
    },
    {
      "cell_type": "code",
      "metadata": {},
      "source": [
        "np.linspace(0, 10, 11)  # generally recommended"
      ],
      "id": "8abef14d",
      "execution_count": null,
      "outputs": []
    },
    {
      "cell_type": "markdown",
      "metadata": {},
      "source": [
        "### Arrays filled with logarithmic sequences"
      ],
      "id": "f60bff5d"
    },
    {
      "cell_type": "code",
      "metadata": {},
      "source": [
        "np.logspace(0, 2, 10)  # 5 data points between 10**0=1 to 10**2=100"
      ],
      "id": "77a73262",
      "execution_count": null,
      "outputs": []
    },
    {
      "cell_type": "markdown",
      "metadata": {},
      "source": [
        "### Mesh grid arrays"
      ],
      "id": "e747314a"
    },
    {
      "cell_type": "code",
      "metadata": {},
      "source": [
        "x = np.array([-1, 0, 1])\n",
        "y = np.array([-2, 0, 2])\n",
        "\n",
        "X, Y = np.meshgrid(x, y)"
      ],
      "id": "6372d72e",
      "execution_count": null,
      "outputs": []
    },
    {
      "cell_type": "code",
      "metadata": {},
      "source": [
        "X"
      ],
      "id": "0f008e45",
      "execution_count": null,
      "outputs": []
    },
    {
      "cell_type": "code",
      "metadata": {},
      "source": [
        "Y"
      ],
      "id": "16d9df2a",
      "execution_count": null,
      "outputs": []
    },
    {
      "cell_type": "code",
      "metadata": {},
      "source": [
        "Z = (X + Y)**2\n",
        "Z"
      ],
      "id": "38db7ebc",
      "execution_count": null,
      "outputs": []
    },
    {
      "cell_type": "markdown",
      "metadata": {},
      "source": [
        "### Creating uninitialized arrays"
      ],
      "id": "ed9591cf"
    },
    {
      "cell_type": "code",
      "metadata": {},
      "source": [
        "np.empty(3, dtype=float)"
      ],
      "id": "0b4ece46",
      "execution_count": null,
      "outputs": []
    },
    {
      "cell_type": "markdown",
      "metadata": {},
      "source": [
        "### Creating arrays with properties of other arrays"
      ],
      "id": "001ecacd"
    },
    {
      "cell_type": "code",
      "metadata": {},
      "source": [
        "def f(x):    \n",
        "    y = np.ones_like(x)    # compute with x and y    \n",
        "    return y\n",
        "\n",
        "x = np.array([[1, 2, 3], [4, 5, 6]])\n",
        "y = f(x)\n",
        "y"
      ],
      "id": "26db363f",
      "execution_count": null,
      "outputs": []
    },
    {
      "cell_type": "markdown",
      "metadata": {},
      "source": [
        "### Creating matrix arrays"
      ],
      "id": "70f181e3"
    },
    {
      "cell_type": "code",
      "metadata": {},
      "source": [
        "np.identity(4)"
      ],
      "id": "85e6ddf0",
      "execution_count": null,
      "outputs": []
    },
    {
      "cell_type": "code",
      "metadata": {},
      "source": [
        "np.eye(4, k=1)"
      ],
      "id": "c7364375",
      "execution_count": null,
      "outputs": []
    },
    {
      "cell_type": "code",
      "metadata": {},
      "source": [
        "np.eye(4, k=-1)"
      ],
      "id": "25d66bfe",
      "execution_count": null,
      "outputs": []
    },
    {
      "cell_type": "code",
      "metadata": {},
      "source": [
        "np.diag(np.arange(0, 20, 5))"
      ],
      "id": "0d002335",
      "execution_count": null,
      "outputs": []
    },
    {
      "cell_type": "markdown",
      "metadata": {},
      "source": [
        "## Indexing and slicing\n",
        "\n",
        "### One-dimensional arrays"
      ],
      "id": "434e48ec"
    },
    {
      "cell_type": "code",
      "metadata": {},
      "source": [
        "a = np.arange(0, 11)\n",
        "a"
      ],
      "id": "a0f6d47f",
      "execution_count": null,
      "outputs": []
    },
    {
      "cell_type": "code",
      "metadata": {},
      "source": [
        "a[0]"
      ],
      "id": "8d28be66",
      "execution_count": null,
      "outputs": []
    },
    {
      "cell_type": "code",
      "metadata": {},
      "source": [
        "a[-1]"
      ],
      "id": "7b3cee25",
      "execution_count": null,
      "outputs": []
    },
    {
      "cell_type": "code",
      "metadata": {},
      "source": [
        "a[4]"
      ],
      "id": "1f8192b3",
      "execution_count": null,
      "outputs": []
    },
    {
      "cell_type": "markdown",
      "metadata": {},
      "source": [
        "---"
      ],
      "id": "4f2c7fde"
    },
    {
      "cell_type": "code",
      "metadata": {},
      "source": [
        "a[1:-1]"
      ],
      "id": "84c3c5b6",
      "execution_count": null,
      "outputs": []
    },
    {
      "cell_type": "code",
      "metadata": {},
      "source": [
        "a[1:-1:2]"
      ],
      "id": "ac2a92ce",
      "execution_count": null,
      "outputs": []
    },
    {
      "cell_type": "markdown",
      "metadata": {},
      "source": [
        "---"
      ],
      "id": "e02651ee"
    },
    {
      "cell_type": "code",
      "metadata": {},
      "source": [
        "a[:5]"
      ],
      "id": "c8e66189",
      "execution_count": null,
      "outputs": []
    },
    {
      "cell_type": "code",
      "metadata": {},
      "source": [
        "a[-5:]"
      ],
      "id": "ed4b7ac7",
      "execution_count": null,
      "outputs": []
    },
    {
      "cell_type": "code",
      "metadata": {},
      "source": [
        "a[::-2]"
      ],
      "id": "b5148de1",
      "execution_count": null,
      "outputs": []
    },
    {
      "cell_type": "markdown",
      "metadata": {},
      "source": [
        "### Multidimensional arrays"
      ],
      "id": "960f3906"
    },
    {
      "cell_type": "code",
      "metadata": {},
      "source": [
        "f = lambda m, n: n + 10*m"
      ],
      "id": "6a0a7ab2",
      "execution_count": null,
      "outputs": []
    },
    {
      "cell_type": "code",
      "metadata": {},
      "source": [
        "# please search for numpy.fromfunction at google\n",
        "A = np.fromfunction(f, (6, 6), dtype=int)\n",
        "A  "
      ],
      "id": "90e59f7b",
      "execution_count": null,
      "outputs": []
    },
    {
      "cell_type": "code",
      "metadata": {},
      "source": [
        "A[:, 1]  # the second column"
      ],
      "id": "5cfd2673",
      "execution_count": null,
      "outputs": []
    },
    {
      "cell_type": "code",
      "metadata": {},
      "source": [
        "A[1, :]  # the second row"
      ],
      "id": "d5ef5e1a",
      "execution_count": null,
      "outputs": []
    },
    {
      "cell_type": "code",
      "metadata": {},
      "source": [
        "A[:3, :3]"
      ],
      "id": "91426fe6",
      "execution_count": null,
      "outputs": []
    },
    {
      "cell_type": "code",
      "metadata": {},
      "source": [
        "A[3:, :3]"
      ],
      "id": "938c8975",
      "execution_count": null,
      "outputs": []
    },
    {
      "cell_type": "code",
      "metadata": {},
      "source": [
        "A[::2, ::2]"
      ],
      "id": "0e669a6c",
      "execution_count": null,
      "outputs": []
    },
    {
      "cell_type": "code",
      "metadata": {},
      "source": [
        "A[1::2, 1::3]"
      ],
      "id": "55fc842b",
      "execution_count": null,
      "outputs": []
    },
    {
      "cell_type": "markdown",
      "metadata": {},
      "source": [
        "### Views\n",
        "\n",
        "* Subarrays that are extracted from arrays using slice operations are **alternative views** of the same underlying array data. That is, $~$they are arrays that refer to the same data in memory as the original array, $~$but with a different `strides` configuration\n",
        "\n",
        "* When elements in a view are assigned new values, $~$the values of the original\n",
        "array are therefore also updated. For example,"
      ],
      "id": "666c087b"
    },
    {
      "cell_type": "code",
      "metadata": {},
      "source": [
        "B = A[1:5, 1:5]\n",
        "B"
      ],
      "id": "fee8ef70",
      "execution_count": null,
      "outputs": []
    },
    {
      "cell_type": "code",
      "metadata": {},
      "source": [
        "B[:, :] = 0\n",
        "A"
      ],
      "id": "5a28f9c8",
      "execution_count": null,
      "outputs": []
    },
    {
      "cell_type": "markdown",
      "metadata": {},
      "source": [
        "* When a copy rather than a view is needed, the view can be copied explicitly by using the `copy` method of the `ndarray` instance"
      ],
      "id": "8216c84a"
    },
    {
      "cell_type": "code",
      "metadata": {},
      "source": [
        "C = B[1:3, 1:3].copy()\n",
        "C"
      ],
      "id": "25334d29",
      "execution_count": null,
      "outputs": []
    },
    {
      "cell_type": "code",
      "metadata": {},
      "source": [
        "C[:, :] = 1\n",
        "C"
      ],
      "id": "e5eb3ede",
      "execution_count": null,
      "outputs": []
    },
    {
      "cell_type": "code",
      "metadata": {},
      "source": [
        "B"
      ],
      "id": "f6827953",
      "execution_count": null,
      "outputs": []
    },
    {
      "cell_type": "markdown",
      "metadata": {},
      "source": [
        "### Fancy indexing and boolean-valued indexing"
      ],
      "id": "997f8da9"
    },
    {
      "cell_type": "code",
      "metadata": {},
      "source": [
        "A = np.linspace(0, 1, 11)\n",
        "A"
      ],
      "id": "177fa807",
      "execution_count": null,
      "outputs": []
    },
    {
      "cell_type": "code",
      "metadata": {},
      "source": [
        "A[np.array([0, 2, 4])]"
      ],
      "id": "bc0011db",
      "execution_count": null,
      "outputs": []
    },
    {
      "cell_type": "code",
      "metadata": {},
      "source": [
        "A[[0, 2, 4]]"
      ],
      "id": "c57b5c72",
      "execution_count": null,
      "outputs": []
    },
    {
      "cell_type": "markdown",
      "metadata": {},
      "source": [
        "---"
      ],
      "id": "60afe23f"
    },
    {
      "cell_type": "code",
      "metadata": {},
      "source": [
        "A > 0.5"
      ],
      "id": "7e246cf9",
      "execution_count": null,
      "outputs": []
    },
    {
      "cell_type": "code",
      "metadata": {},
      "source": [
        "A[A > 0.5]"
      ],
      "id": "89ca78d4",
      "execution_count": null,
      "outputs": []
    },
    {
      "cell_type": "markdown",
      "metadata": {},
      "source": [
        "* Unlike arrays created by using slices, $~$**the arrays returned using fancy indexing and Boolean-valued\n",
        "indexing are not views**, $~$but rather new independent arrays"
      ],
      "id": "011a8c55"
    },
    {
      "cell_type": "code",
      "metadata": {},
      "source": [
        "A = np.arange(10)\n",
        "indices = [2, 4, 6]"
      ],
      "id": "e96246c9",
      "execution_count": null,
      "outputs": []
    },
    {
      "cell_type": "code",
      "metadata": {},
      "source": [
        "B = A[indices]"
      ],
      "id": "7f3103d4",
      "execution_count": null,
      "outputs": []
    },
    {
      "cell_type": "code",
      "metadata": {},
      "source": [
        "B[0] = -1\n",
        "A"
      ],
      "id": "ffe870f0",
      "execution_count": null,
      "outputs": []
    },
    {
      "cell_type": "code",
      "metadata": {},
      "source": [
        "A[indices] = -1\n",
        "A"
      ],
      "id": "a31392fd",
      "execution_count": null,
      "outputs": []
    },
    {
      "cell_type": "markdown",
      "metadata": {},
      "source": [
        "---"
      ],
      "id": "899b728a"
    },
    {
      "cell_type": "code",
      "metadata": {},
      "source": [
        "A = np.arange(10)"
      ],
      "id": "eff0e708",
      "execution_count": null,
      "outputs": []
    },
    {
      "cell_type": "code",
      "metadata": {},
      "source": [
        "B = A[A > 5]"
      ],
      "id": "29d0d040",
      "execution_count": null,
      "outputs": []
    },
    {
      "cell_type": "code",
      "metadata": {},
      "source": [
        "B[0] = -1\n",
        "A"
      ],
      "id": "569758d5",
      "execution_count": null,
      "outputs": []
    },
    {
      "cell_type": "code",
      "metadata": {},
      "source": [
        "A[A > 5] = -1\n",
        "A"
      ],
      "id": "12ebbe33",
      "execution_count": null,
      "outputs": []
    },
    {
      "cell_type": "markdown",
      "metadata": {},
      "source": [
        "### Summery"
      ],
      "id": "0a01c9cb"
    },
    {
      "cell_type": "code",
      "metadata": {},
      "source": [
        "show_array((4, 4), ':, :')"
      ],
      "id": "21a2e610",
      "execution_count": null,
      "outputs": []
    },
    {
      "cell_type": "code",
      "metadata": {},
      "source": [
        "show_array((4, 4), '0')"
      ],
      "id": "38e05f2d",
      "execution_count": null,
      "outputs": []
    },
    {
      "cell_type": "code",
      "metadata": {},
      "source": [
        "show_array((4, 4), '1, :')"
      ],
      "id": "96d09345",
      "execution_count": null,
      "outputs": []
    },
    {
      "cell_type": "code",
      "metadata": {},
      "source": [
        "show_array((4, 4), ':, 2')"
      ],
      "id": "b232617f",
      "execution_count": null,
      "outputs": []
    },
    {
      "cell_type": "markdown",
      "metadata": {},
      "source": [
        "---"
      ],
      "id": "86a4b9b2"
    },
    {
      "cell_type": "code",
      "metadata": {},
      "source": [
        "show_array((4, 4), '0:2, 0:2')"
      ],
      "id": "1ee0312e",
      "execution_count": null,
      "outputs": []
    },
    {
      "cell_type": "code",
      "metadata": {},
      "source": [
        "show_array((4, 4), '0:2, 2:4')"
      ],
      "id": "34b56d00",
      "execution_count": null,
      "outputs": []
    },
    {
      "cell_type": "code",
      "metadata": {},
      "source": [
        "show_array((4, 4), '::2, ::2')"
      ],
      "id": "d0b272d3",
      "execution_count": null,
      "outputs": []
    },
    {
      "cell_type": "code",
      "metadata": {},
      "source": [
        "show_array((4, 4), '1::2, 1::2')"
      ],
      "id": "4c056053",
      "execution_count": null,
      "outputs": []
    },
    {
      "cell_type": "code",
      "metadata": {},
      "source": [
        "show_array((4, 4), ':, [0, 3]')"
      ],
      "id": "703a536b",
      "execution_count": null,
      "outputs": []
    },
    {
      "cell_type": "code",
      "metadata": {},
      "source": [
        "show_array((4, 4), '[1, 3], [0, 3]')"
      ],
      "id": "1e2138f1",
      "execution_count": null,
      "outputs": []
    },
    {
      "cell_type": "code",
      "metadata": {},
      "source": [
        "show_array((4, 4), ':, [False, True, True, False]')"
      ],
      "id": "8b23c4ff",
      "execution_count": null,
      "outputs": []
    },
    {
      "cell_type": "code",
      "metadata": {},
      "source": [
        "show_array((4, 4), '1:3, [False, True, True, False]')"
      ],
      "id": "32f98c1f",
      "execution_count": null,
      "outputs": []
    },
    {
      "cell_type": "markdown",
      "metadata": {},
      "source": [
        "## Reshaping and resizing\n",
        "\n",
        "* Reshaping an array does not require modifying the underlying array data; it only changes in how the data is interpreted, by redefining the array’s strides attribute"
      ],
      "id": "c0ba9dbb"
    },
    {
      "cell_type": "code",
      "metadata": {},
      "source": [
        "data = np.array([[1, 2], [3, 4]])\n",
        "data1 = np.reshape(data, (1, 4))\n",
        "data1"
      ],
      "id": "5837c154",
      "execution_count": null,
      "outputs": []
    },
    {
      "cell_type": "code",
      "metadata": {},
      "source": [
        "data1[0, 1] = -1\n",
        "data"
      ],
      "id": "f54ab8e7",
      "execution_count": null,
      "outputs": []
    },
    {
      "cell_type": "code",
      "metadata": {},
      "source": [
        "data2 = data.reshape(4)\n",
        "data2"
      ],
      "id": "44beb34e",
      "execution_count": null,
      "outputs": []
    },
    {
      "cell_type": "code",
      "metadata": {},
      "source": [
        "data2[1] = -2\n",
        "data"
      ],
      "id": "71e041e4",
      "execution_count": null,
      "outputs": []
    },
    {
      "cell_type": "markdown",
      "metadata": {},
      "source": [
        "---"
      ],
      "id": "d983b150"
    },
    {
      "cell_type": "code",
      "metadata": {},
      "source": [
        "data = np.array([[1, 2], [3, 4]])\n",
        "data1 = np.ravel(data)\n",
        "data1"
      ],
      "id": "530a79a5",
      "execution_count": null,
      "outputs": []
    },
    {
      "cell_type": "code",
      "metadata": {},
      "source": [
        "data1[0] = -1\n",
        "data"
      ],
      "id": "b367dc06",
      "execution_count": null,
      "outputs": []
    },
    {
      "cell_type": "markdown",
      "metadata": {},
      "source": [
        "* The `ndarray` method `flatten` perform the same function, $~$but\n",
        "returns a **copy** instead of a view"
      ],
      "id": "a8ed930a"
    },
    {
      "cell_type": "code",
      "metadata": {},
      "source": [
        "data2 = data.flatten()\n",
        "data2"
      ],
      "id": "1a9057fe",
      "execution_count": null,
      "outputs": []
    },
    {
      "cell_type": "code",
      "metadata": {},
      "source": [
        "data2[0] = -2\n",
        "data"
      ],
      "id": "8b554382",
      "execution_count": null,
      "outputs": []
    },
    {
      "cell_type": "markdown",
      "metadata": {},
      "source": [
        "---"
      ],
      "id": "d89a0e26"
    },
    {
      "cell_type": "code",
      "metadata": {},
      "source": [
        "data = np.arange(0, 5)\n",
        "data.shape"
      ],
      "id": "9b241363",
      "execution_count": null,
      "outputs": []
    },
    {
      "cell_type": "code",
      "metadata": {},
      "source": [
        "column = data[:, np.newaxis]\n",
        "column"
      ],
      "id": "33a9a5ca",
      "execution_count": null,
      "outputs": []
    },
    {
      "cell_type": "code",
      "metadata": {},
      "source": [
        "column.shape"
      ],
      "id": "4f0f33ca",
      "execution_count": null,
      "outputs": []
    },
    {
      "cell_type": "code",
      "metadata": {},
      "source": [
        "row = data[np.newaxis, :]\n",
        "row"
      ],
      "id": "cfcd45f6",
      "execution_count": null,
      "outputs": []
    },
    {
      "cell_type": "code",
      "metadata": {},
      "source": [
        "row.shape"
      ],
      "id": "bcc8e40b",
      "execution_count": null,
      "outputs": []
    },
    {
      "cell_type": "code",
      "metadata": {},
      "source": [
        "row[0, 0] = -1\n",
        "data"
      ],
      "id": "8cd2e02c",
      "execution_count": null,
      "outputs": []
    },
    {
      "cell_type": "markdown",
      "metadata": {},
      "source": [
        "---"
      ],
      "id": "cbe6e6a4"
    },
    {
      "cell_type": "code",
      "metadata": {},
      "source": [
        "np.expand_dims(data, axis=1) "
      ],
      "id": "fa2c4943",
      "execution_count": null,
      "outputs": []
    },
    {
      "cell_type": "code",
      "metadata": {},
      "source": [
        "row = np.expand_dims(data, axis=0)\n",
        "row"
      ],
      "id": "24e89640",
      "execution_count": null,
      "outputs": []
    },
    {
      "cell_type": "code",
      "metadata": {},
      "source": [
        "row[0, 0] = 0\n",
        "data"
      ],
      "id": "37c1a712",
      "execution_count": null,
      "outputs": []
    },
    {
      "cell_type": "markdown",
      "metadata": {},
      "source": [
        "---"
      ],
      "id": "bbd4c891"
    },
    {
      "cell_type": "code",
      "metadata": {},
      "source": [
        "data = np.arange(5)\n",
        "data"
      ],
      "id": "67dd2c55",
      "execution_count": null,
      "outputs": []
    },
    {
      "cell_type": "code",
      "metadata": {},
      "source": [
        "np.vstack((data, data, data))"
      ],
      "id": "13b56b45",
      "execution_count": null,
      "outputs": []
    },
    {
      "cell_type": "code",
      "metadata": {},
      "source": [
        "np.hstack((data, data, data))"
      ],
      "id": "d94d49ce",
      "execution_count": null,
      "outputs": []
    },
    {
      "cell_type": "code",
      "metadata": {},
      "source": [
        "data = data[:, np.newaxis]\n",
        "data.shape"
      ],
      "id": "94e6ab21",
      "execution_count": null,
      "outputs": []
    },
    {
      "cell_type": "code",
      "metadata": {},
      "source": [
        "np.hstack((data, data, data))"
      ],
      "id": "772e6872",
      "execution_count": null,
      "outputs": []
    },
    {
      "cell_type": "code",
      "metadata": {},
      "source": [
        "data1 = np.array([[1, 2], [3, 4]])\n",
        "data2 = np.array([[5, 6]])"
      ],
      "id": "d1ea935e",
      "execution_count": null,
      "outputs": []
    },
    {
      "cell_type": "code",
      "metadata": {},
      "source": [
        "np.concatenate((data1, data2), axis=0)"
      ],
      "id": "2e9fab1f",
      "execution_count": null,
      "outputs": []
    },
    {
      "cell_type": "code",
      "metadata": {},
      "source": [
        "np.concatenate((data1, data2.T), axis=1)"
      ],
      "id": "dfd5270d",
      "execution_count": null,
      "outputs": []
    },
    {
      "cell_type": "markdown",
      "metadata": {},
      "source": [
        "## Vectorized expressions\n",
        "\n",
        "### Arithmetic operations"
      ],
      "id": "e50ebe51"
    },
    {
      "cell_type": "code",
      "metadata": {},
      "source": [
        "x = np.array([[1, 2], [3, 4]])\n",
        "y = np.array([[5, 6], [7, 8]])"
      ],
      "id": "a1981eec",
      "execution_count": null,
      "outputs": []
    },
    {
      "cell_type": "code",
      "metadata": {},
      "source": [
        "x + y"
      ],
      "id": "55905a0d",
      "execution_count": null,
      "outputs": []
    },
    {
      "cell_type": "code",
      "metadata": {},
      "source": [
        "y - x"
      ],
      "id": "265cff42",
      "execution_count": null,
      "outputs": []
    },
    {
      "cell_type": "code",
      "metadata": {},
      "source": [
        "x * y"
      ],
      "id": "a67e2f21",
      "execution_count": null,
      "outputs": []
    },
    {
      "cell_type": "code",
      "metadata": {},
      "source": [
        "y / x"
      ],
      "id": "59cd792e",
      "execution_count": null,
      "outputs": []
    },
    {
      "cell_type": "markdown",
      "metadata": {},
      "source": [
        "---"
      ],
      "id": "6cbc347e"
    },
    {
      "cell_type": "code",
      "metadata": {},
      "source": [
        "x * 2"
      ],
      "id": "7743d913",
      "execution_count": null,
      "outputs": []
    },
    {
      "cell_type": "code",
      "metadata": {},
      "source": [
        "2**x"
      ],
      "id": "896a1a74",
      "execution_count": null,
      "outputs": []
    },
    {
      "cell_type": "code",
      "metadata": {},
      "source": [
        "y / 2"
      ],
      "id": "b6b4ecf4",
      "execution_count": null,
      "outputs": []
    },
    {
      "cell_type": "code",
      "metadata": {},
      "source": [
        "(y / 2).dtype"
      ],
      "id": "6dffc1b6",
      "execution_count": null,
      "outputs": []
    },
    {
      "cell_type": "markdown",
      "metadata": {},
      "source": [
        "### Broadcasting"
      ],
      "id": "0e858980"
    },
    {
      "cell_type": "code",
      "metadata": {},
      "source": [
        "a = np.array([[11, 12, 13], [21, 22, 23], [31, 32, 33]])\n",
        "b = np.array([[1, 2, 3]])"
      ],
      "id": "2752123e",
      "execution_count": null,
      "outputs": []
    },
    {
      "cell_type": "code",
      "metadata": {},
      "source": [
        "a + b"
      ],
      "id": "dbfaf511",
      "execution_count": null,
      "outputs": []
    },
    {
      "cell_type": "code",
      "metadata": {},
      "source": [
        "show_array_broadcasting(a, b)"
      ],
      "id": "c5862d92",
      "execution_count": null,
      "outputs": []
    },
    {
      "cell_type": "code",
      "metadata": {},
      "source": [
        "a + b.T"
      ],
      "id": "f221fb32",
      "execution_count": null,
      "outputs": []
    },
    {
      "cell_type": "code",
      "metadata": {},
      "source": [
        "show_array_broadcasting(a, b.T)"
      ],
      "id": "2f3e547e",
      "execution_count": null,
      "outputs": []
    },
    {
      "cell_type": "markdown",
      "metadata": {},
      "source": [
        "---"
      ],
      "id": "3cdbe350"
    },
    {
      "cell_type": "code",
      "metadata": {},
      "source": [
        "x = np.array([1, 2, 3, 4]).reshape(2, 2)\n",
        "x.shape"
      ],
      "id": "d4c26562",
      "execution_count": null,
      "outputs": []
    },
    {
      "cell_type": "code",
      "metadata": {},
      "source": [
        "z = np.array([[2, 4]])\n",
        "z.shape"
      ],
      "id": "4c63ab67",
      "execution_count": null,
      "outputs": []
    },
    {
      "cell_type": "code",
      "metadata": {},
      "source": [
        "x / z"
      ],
      "id": "336b87c6",
      "execution_count": null,
      "outputs": []
    },
    {
      "cell_type": "code",
      "metadata": {},
      "source": [
        "zz = np.vstack((z, z))\n",
        "zz"
      ],
      "id": "a474ab6a",
      "execution_count": null,
      "outputs": []
    },
    {
      "cell_type": "code",
      "metadata": {},
      "source": [
        "x / zz"
      ],
      "id": "a14a8efb",
      "execution_count": null,
      "outputs": []
    },
    {
      "cell_type": "markdown",
      "metadata": {},
      "source": [
        "---"
      ],
      "id": "54048cf8"
    },
    {
      "cell_type": "code",
      "metadata": {},
      "source": [
        "z = np.array([[2], [4]])\n",
        "z.shape"
      ],
      "id": "a56168de",
      "execution_count": null,
      "outputs": []
    },
    {
      "cell_type": "code",
      "metadata": {},
      "source": [
        "x / z"
      ],
      "id": "e03e473f",
      "execution_count": null,
      "outputs": []
    },
    {
      "cell_type": "code",
      "metadata": {},
      "source": [
        "zz = np.concatenate([z, z], axis=1)\n",
        "zz"
      ],
      "id": "032c5da6",
      "execution_count": null,
      "outputs": []
    },
    {
      "cell_type": "code",
      "metadata": {},
      "source": [
        "x / zz"
      ],
      "id": "bdf16ade",
      "execution_count": null,
      "outputs": []
    },
    {
      "cell_type": "markdown",
      "metadata": {},
      "source": [
        "---"
      ],
      "id": "4ebf23a2"
    },
    {
      "cell_type": "code",
      "metadata": {},
      "source": [
        "x = z = np.array([1, 2, 3, 4])\n",
        "y = np.array([5, 6, 7, 8])\n",
        "x = x + y  # x is reassigned to a new array"
      ],
      "id": "26c602a4",
      "execution_count": null,
      "outputs": []
    },
    {
      "cell_type": "code",
      "metadata": {},
      "source": [
        "x, z"
      ],
      "id": "2c865f17",
      "execution_count": null,
      "outputs": []
    },
    {
      "cell_type": "code",
      "metadata": {},
      "source": [
        "x = z = np.array([1, 2, 3, 4])\n",
        "y = np.array([5, 6, 7, 8])\n",
        "x += y  # the values of array x are updated in place"
      ],
      "id": "5d1216e2",
      "execution_count": null,
      "outputs": []
    },
    {
      "cell_type": "code",
      "metadata": {},
      "source": [
        "x, z"
      ],
      "id": "a8598fc1",
      "execution_count": null,
      "outputs": []
    },
    {
      "cell_type": "markdown",
      "metadata": {},
      "source": [
        "### Elementwise functions"
      ],
      "id": "5504e95d"
    },
    {
      "cell_type": "code",
      "metadata": {},
      "source": [
        "x = np.linspace(-1, 1, 11)\n",
        "x"
      ],
      "id": "5f1489d3",
      "execution_count": null,
      "outputs": []
    },
    {
      "cell_type": "code",
      "metadata": {},
      "source": [
        "y = np.sin(np.pi * x)"
      ],
      "id": "0528d26a",
      "execution_count": null,
      "outputs": []
    },
    {
      "cell_type": "code",
      "metadata": {},
      "source": [
        "np.round(y, decimals=4)"
      ],
      "id": "1b74ed56",
      "execution_count": null,
      "outputs": []
    },
    {
      "cell_type": "code",
      "metadata": {},
      "source": [
        "np.add(np.sin(x)**2, np.cos(x)**2)"
      ],
      "id": "831d08df",
      "execution_count": null,
      "outputs": []
    },
    {
      "cell_type": "code",
      "metadata": {},
      "source": [
        "np.sin(x)**2 + np.cos(x)**2"
      ],
      "id": "058e828e",
      "execution_count": null,
      "outputs": []
    },
    {
      "cell_type": "markdown",
      "metadata": {},
      "source": [
        "---"
      ],
      "id": "72266865"
    },
    {
      "cell_type": "code",
      "metadata": {},
      "source": [
        "def heaviside(x):\n",
        "    return 1 if x > 0 else 0"
      ],
      "id": "e363857d",
      "execution_count": null,
      "outputs": []
    },
    {
      "cell_type": "code",
      "metadata": {},
      "source": [
        "heaviside(-1)"
      ],
      "id": "9f095022",
      "execution_count": null,
      "outputs": []
    },
    {
      "cell_type": "code",
      "metadata": {},
      "source": [
        "heaviside(1.5)"
      ],
      "id": "44ce0e71",
      "execution_count": null,
      "outputs": []
    },
    {
      "cell_type": "markdown",
      "metadata": {},
      "source": [
        "````\n",
        "```{{python}}\n",
        "x = np.linspace(-5, 5, 11)\n",
        "heaviside(x)\n",
        "```\n",
        "\n",
        "ValueError \n",
        "      1 x = np.linspace(-5, 5, 11)\n",
        "----> 2 heaviside(x)\n",
        "\n",
        "      1 def heaviside(x):\n",
        "----> 2     return 1 if x > 0 else 0\n",
        "\n",
        "ValueError: The truth value of an array with more than \n",
        "one element is ambiguous. Use a.any() or a.all()\n",
        "\n",
        "````"
      ],
      "id": "ee707754"
    },
    {
      "cell_type": "code",
      "metadata": {},
      "source": [
        "heaviside = np.vectorize(heaviside)\n",
        "heaviside(x)"
      ],
      "id": "5ec89040",
      "execution_count": null,
      "outputs": []
    },
    {
      "cell_type": "code",
      "metadata": {},
      "source": [
        "def heaviside(x):  # much better way\n",
        "    return 1 * (x > 0)\n",
        "\n",
        "heaviside(x)"
      ],
      "id": "2083b15f",
      "execution_count": null,
      "outputs": []
    },
    {
      "cell_type": "markdown",
      "metadata": {},
      "source": [
        "### Aggregation"
      ],
      "id": "0fc25bd1"
    },
    {
      "cell_type": "code",
      "metadata": {},
      "source": [
        "data = np.random.normal(size=(15, 15)) "
      ],
      "id": "483b70ab",
      "execution_count": null,
      "outputs": []
    },
    {
      "cell_type": "code",
      "metadata": {},
      "source": [
        "np.mean(data)"
      ],
      "id": "9fda09e2",
      "execution_count": null,
      "outputs": []
    },
    {
      "cell_type": "code",
      "metadata": {},
      "source": [
        "data.mean()"
      ],
      "id": "103b6119",
      "execution_count": null,
      "outputs": []
    },
    {
      "cell_type": "markdown",
      "metadata": {},
      "source": [
        "---"
      ],
      "id": "dfcddf75"
    },
    {
      "cell_type": "code",
      "metadata": {},
      "source": [
        "data = np.random.normal(size=(5, 10, 15))"
      ],
      "id": "199348f9",
      "execution_count": null,
      "outputs": []
    },
    {
      "cell_type": "code",
      "metadata": {},
      "source": [
        "data.sum(axis=0).shape"
      ],
      "id": "b8df9a0c",
      "execution_count": null,
      "outputs": []
    },
    {
      "cell_type": "code",
      "metadata": {},
      "source": [
        "data.sum(axis=(0, 2)).shape"
      ],
      "id": "66add608",
      "execution_count": null,
      "outputs": []
    },
    {
      "cell_type": "code",
      "metadata": {},
      "source": [
        "data.sum()"
      ],
      "id": "c9dd4799",
      "execution_count": null,
      "outputs": []
    },
    {
      "cell_type": "markdown",
      "metadata": {},
      "source": [
        "---\n"
      ],
      "id": "3df659d5"
    },
    {
      "cell_type": "code",
      "metadata": {},
      "source": [
        "data = np.arange(9).reshape(3, 3)\n",
        "data"
      ],
      "id": "c2c7927b",
      "execution_count": null,
      "outputs": []
    },
    {
      "cell_type": "code",
      "metadata": {},
      "source": [
        "data.sum()"
      ],
      "id": "d0cf6129",
      "execution_count": null,
      "outputs": []
    },
    {
      "cell_type": "code",
      "metadata": {},
      "source": [
        "show_array_aggregation(data, None)"
      ],
      "id": "f0c9b421",
      "execution_count": null,
      "outputs": []
    },
    {
      "cell_type": "code",
      "metadata": {},
      "source": [
        "data.sum(axis=0)"
      ],
      "id": "4a478512",
      "execution_count": null,
      "outputs": []
    },
    {
      "cell_type": "code",
      "metadata": {},
      "source": [
        "show_array_aggregation(data, 0)"
      ],
      "id": "e00a1e68",
      "execution_count": null,
      "outputs": []
    },
    {
      "cell_type": "code",
      "metadata": {},
      "source": [
        "data.sum(axis=1)"
      ],
      "id": "2113bf21",
      "execution_count": null,
      "outputs": []
    },
    {
      "cell_type": "code",
      "metadata": {},
      "source": [
        "show_array_aggregation(data, 1)"
      ],
      "id": "cc5267bb",
      "execution_count": null,
      "outputs": []
    },
    {
      "cell_type": "markdown",
      "metadata": {},
      "source": [
        "### Boolean arrays and conditional expressions"
      ],
      "id": "3c2f12a6"
    },
    {
      "cell_type": "code",
      "metadata": {},
      "source": [
        "a = np.array([1, 2, 3, 4])\n",
        "b = np.array([4, 3, 2, 1])"
      ],
      "id": "3058aeca",
      "execution_count": null,
      "outputs": []
    },
    {
      "cell_type": "code",
      "metadata": {},
      "source": [
        "a < b"
      ],
      "id": "ed4912b6",
      "execution_count": null,
      "outputs": []
    },
    {
      "cell_type": "code",
      "metadata": {},
      "source": [
        "np.all(a < b)"
      ],
      "id": "708feb6c",
      "execution_count": null,
      "outputs": []
    },
    {
      "cell_type": "code",
      "metadata": {},
      "source": [
        "np.any(a < b)"
      ],
      "id": "6188ea7a",
      "execution_count": null,
      "outputs": []
    },
    {
      "cell_type": "markdown",
      "metadata": {},
      "source": [
        "---"
      ],
      "id": "a9b64ca8"
    },
    {
      "cell_type": "code",
      "metadata": {},
      "source": [
        "x = np.array([-2, -1, 0, 1, 2])"
      ],
      "id": "7146fe75",
      "execution_count": null,
      "outputs": []
    },
    {
      "cell_type": "code",
      "metadata": {},
      "source": [
        "x > 0"
      ],
      "id": "f3302864",
      "execution_count": null,
      "outputs": []
    },
    {
      "cell_type": "code",
      "metadata": {},
      "source": [
        "1 * (x > 0)"
      ],
      "id": "8809deff",
      "execution_count": null,
      "outputs": []
    },
    {
      "cell_type": "code",
      "metadata": {},
      "source": [
        "x * (x > 0)"
      ],
      "id": "aebcba5f",
      "execution_count": null,
      "outputs": []
    },
    {
      "cell_type": "markdown",
      "metadata": {},
      "source": [
        "---"
      ],
      "id": "e8a2a241"
    },
    {
      "cell_type": "code",
      "metadata": {},
      "source": [
        "def pulse(x, position, height, width):\n",
        "    return height * (x >= position) * (x <= (position + width))  "
      ],
      "id": "4644e62f",
      "execution_count": null,
      "outputs": []
    },
    {
      "cell_type": "code",
      "metadata": {},
      "source": [
        "x = np.linspace(-5, 5, 31)"
      ],
      "id": "c2e2deaf",
      "execution_count": null,
      "outputs": []
    },
    {
      "cell_type": "code",
      "metadata": {},
      "source": [
        "pulse(x, position=-2, height=1, width=5)"
      ],
      "id": "60b78e27",
      "execution_count": null,
      "outputs": []
    },
    {
      "cell_type": "code",
      "metadata": {},
      "source": [
        "pulse(x, position=1, height=2, width=2)"
      ],
      "id": "ae0b31ac",
      "execution_count": null,
      "outputs": []
    },
    {
      "cell_type": "markdown",
      "metadata": {},
      "source": [
        "---"
      ],
      "id": "678be308"
    },
    {
      "cell_type": "code",
      "metadata": {},
      "source": [
        "x = np.linspace(-4, 4, 9)\n",
        "x"
      ],
      "id": "2a5a1977",
      "execution_count": null,
      "outputs": []
    },
    {
      "cell_type": "code",
      "metadata": {},
      "source": [
        "np.where(x < 0, x**2, x**3)"
      ],
      "id": "059c3fd6",
      "execution_count": null,
      "outputs": []
    },
    {
      "cell_type": "code",
      "metadata": {},
      "source": [
        "np.select([x < -1, x < 2, x>= 2], [x**2, x**3, x**4])"
      ],
      "id": "f2341fa1",
      "execution_count": null,
      "outputs": []
    },
    {
      "cell_type": "code",
      "metadata": {},
      "source": [
        "np.choose([0, 0, 0, 1, 1, 1, 2, 2, 2], [x**2, x**3, x**4])"
      ],
      "id": "15c24cfb",
      "execution_count": null,
      "outputs": []
    },
    {
      "cell_type": "code",
      "metadata": {},
      "source": [
        "x[np.abs(x) > 2]"
      ],
      "id": "5b5b8556",
      "execution_count": null,
      "outputs": []
    },
    {
      "cell_type": "markdown",
      "metadata": {},
      "source": [
        "### Set operations"
      ],
      "id": "d6e6d973"
    },
    {
      "cell_type": "code",
      "metadata": {},
      "source": [
        "a = np.unique([1, 2, 3, 3])\n",
        "a"
      ],
      "id": "33b19b93",
      "execution_count": null,
      "outputs": []
    },
    {
      "cell_type": "code",
      "metadata": {},
      "source": [
        "b = np.unique([2, 3, 4, 4, 5, 6, 5])\n",
        "b"
      ],
      "id": "4f95665f",
      "execution_count": null,
      "outputs": []
    },
    {
      "cell_type": "code",
      "metadata": {},
      "source": [
        "np.in1d(a, b)"
      ],
      "id": "c4560965",
      "execution_count": null,
      "outputs": []
    },
    {
      "cell_type": "code",
      "metadata": {},
      "source": [
        "1 in a, 1 in b"
      ],
      "id": "5567ed48",
      "execution_count": null,
      "outputs": []
    },
    {
      "cell_type": "code",
      "metadata": {},
      "source": [
        "np.all(np.in1d(a, b))  # to test if a is a subset of b"
      ],
      "id": "81f00f34",
      "execution_count": null,
      "outputs": []
    },
    {
      "cell_type": "markdown",
      "metadata": {},
      "source": [
        "---"
      ],
      "id": "9feb51d8"
    },
    {
      "cell_type": "code",
      "metadata": {},
      "source": [
        "np.union1d(a, b)"
      ],
      "id": "192217ad",
      "execution_count": null,
      "outputs": []
    },
    {
      "cell_type": "code",
      "metadata": {},
      "source": [
        "np.intersect1d(a, b)"
      ],
      "id": "c1aa4bac",
      "execution_count": null,
      "outputs": []
    },
    {
      "cell_type": "code",
      "metadata": {},
      "source": [
        "np.setdiff1d(a, b)"
      ],
      "id": "d493d4c9",
      "execution_count": null,
      "outputs": []
    },
    {
      "cell_type": "code",
      "metadata": {},
      "source": [
        "np.setdiff1d(b, a)"
      ],
      "id": "cc7ab7a6",
      "execution_count": null,
      "outputs": []
    },
    {
      "cell_type": "markdown",
      "metadata": {},
      "source": [
        "### Operations on arrays"
      ],
      "id": "deb947b8"
    },
    {
      "cell_type": "code",
      "metadata": {},
      "source": [
        "data = np.arange(9).reshape(3, 3)\n",
        "data"
      ],
      "id": "3b179896",
      "execution_count": null,
      "outputs": []
    },
    {
      "cell_type": "code",
      "metadata": {},
      "source": [
        "np.transpose(data)"
      ],
      "id": "c147992a",
      "execution_count": null,
      "outputs": []
    },
    {
      "cell_type": "markdown",
      "metadata": {},
      "source": [
        "---"
      ],
      "id": "34f0829a"
    },
    {
      "cell_type": "code",
      "metadata": {},
      "source": [
        "data = np.random.randn(1, 2, 3, 4, 5)"
      ],
      "id": "6b97999e",
      "execution_count": null,
      "outputs": []
    },
    {
      "cell_type": "code",
      "metadata": {},
      "source": [
        "data.shape"
      ],
      "id": "54ea80e9",
      "execution_count": null,
      "outputs": []
    },
    {
      "cell_type": "code",
      "metadata": {},
      "source": [
        "data.T.shape"
      ],
      "id": "ae888b60",
      "execution_count": null,
      "outputs": []
    },
    {
      "cell_type": "markdown",
      "metadata": {},
      "source": [
        "## Matrix and vector operations"
      ],
      "id": "febf8445"
    },
    {
      "cell_type": "code",
      "metadata": {},
      "source": [
        "A = np.arange(1, 7).reshape(2, 3)\n",
        "A"
      ],
      "id": "72057a38",
      "execution_count": null,
      "outputs": []
    },
    {
      "cell_type": "code",
      "metadata": {},
      "source": [
        "B = np.arange(1, 7).reshape(3, 2)\n",
        "B"
      ],
      "id": "560f5f27",
      "execution_count": null,
      "outputs": []
    },
    {
      "cell_type": "code",
      "metadata": {},
      "source": [
        "np.dot(A, B)"
      ],
      "id": "85bd6e0d",
      "execution_count": null,
      "outputs": []
    },
    {
      "cell_type": "code",
      "metadata": {},
      "source": [
        "np.dot(B, A)"
      ],
      "id": "a17feb0b",
      "execution_count": null,
      "outputs": []
    },
    {
      "cell_type": "code",
      "metadata": {},
      "source": [
        "A @ B  # python 3.5 above"
      ],
      "id": "f93e7d0f",
      "execution_count": null,
      "outputs": []
    },
    {
      "cell_type": "code",
      "metadata": {},
      "source": [
        "B @ A"
      ],
      "id": "441e31a5",
      "execution_count": null,
      "outputs": []
    },
    {
      "cell_type": "markdown",
      "metadata": {},
      "source": [
        "---"
      ],
      "id": "afb37ea2"
    },
    {
      "cell_type": "code",
      "metadata": {},
      "source": [
        "A = np.arange(9).reshape(3, 3)\n",
        "A"
      ],
      "id": "599204b2",
      "execution_count": null,
      "outputs": []
    },
    {
      "cell_type": "code",
      "metadata": {},
      "source": [
        "x = np.arange(3)\n",
        "x"
      ],
      "id": "623b71bf",
      "execution_count": null,
      "outputs": []
    },
    {
      "cell_type": "code",
      "metadata": {},
      "source": [
        "np.dot(A, x)"
      ],
      "id": "71b9ee37",
      "execution_count": null,
      "outputs": []
    },
    {
      "cell_type": "code",
      "metadata": {},
      "source": [
        "A.dot(x)"
      ],
      "id": "37885099",
      "execution_count": null,
      "outputs": []
    },
    {
      "cell_type": "code",
      "metadata": {},
      "source": [
        "A @ x"
      ],
      "id": "d3497ad0",
      "execution_count": null,
      "outputs": []
    },
    {
      "cell_type": "markdown",
      "metadata": {},
      "source": [
        "---"
      ],
      "id": "d4e40f0e"
    },
    {
      "cell_type": "code",
      "metadata": {},
      "source": [
        "A = np.random.rand(3, 3)\n",
        "B = np.random.rand(3, 3)"
      ],
      "id": "cd4f456f",
      "execution_count": null,
      "outputs": []
    },
    {
      "cell_type": "code",
      "metadata": {},
      "source": [
        "Ap = np.dot(B, np.dot(A, np.linalg.inv(B)))"
      ],
      "id": "c1248260",
      "execution_count": null,
      "outputs": []
    },
    {
      "cell_type": "code",
      "metadata": {},
      "source": [
        "Ap = B.dot(A.dot(np.linalg.inv(B)))"
      ],
      "id": "cd26c0e7",
      "execution_count": null,
      "outputs": []
    },
    {
      "cell_type": "code",
      "metadata": {},
      "source": [
        "B @ A @ np.linalg.inv(B)"
      ],
      "id": "787f7a66",
      "execution_count": null,
      "outputs": []
    },
    {
      "cell_type": "markdown",
      "metadata": {},
      "source": [
        "---"
      ],
      "id": "7f5b07e3"
    },
    {
      "cell_type": "code",
      "metadata": {},
      "source": [
        "np.inner(x, x)"
      ],
      "id": "29c2726b",
      "execution_count": null,
      "outputs": []
    },
    {
      "cell_type": "code",
      "metadata": {},
      "source": [
        "np.dot(x, x)"
      ],
      "id": "8756d561",
      "execution_count": null,
      "outputs": []
    },
    {
      "cell_type": "code",
      "metadata": {},
      "source": [
        "y = x[:, np.newaxis]\n",
        "y"
      ],
      "id": "4b08de2c",
      "execution_count": null,
      "outputs": []
    },
    {
      "cell_type": "code",
      "metadata": {},
      "source": [
        "np.dot(y.T, y)"
      ],
      "id": "a8ec78d0",
      "execution_count": null,
      "outputs": []
    },
    {
      "cell_type": "markdown",
      "metadata": {},
      "source": [
        "---\n",
        "\n",
        "* Given two vectors, $\\mathbf{a} = [a_0, a_1, ..., a_M]~$ and $~\\mathbf{b} = [b_0, b_1, ..., b_N]$, $~$the outer product is $\\mathbf{a}^T\\mathbf{b}$\n",
        "\n",
        "$$\\begin{pmatrix}\n",
        " a_0 b_0 & a_0b_1 & \\cdots & a_0 b_N \\\\\n",
        " a_1 b_0 & \\cdots & \\cdots & a_1 b_N \\\\\n",
        " \\vdots  & \\ddots &        & \\vdots  \\\\\n",
        " a_M b_0 &        & \\ddots & a_M b_N \\\\\n",
        " \\end{pmatrix}\n",
        "$$\n"
      ],
      "id": "0b636938"
    },
    {
      "cell_type": "code",
      "metadata": {},
      "source": [
        "x = np.array([1, 2, 3])"
      ],
      "id": "3c8c1775",
      "execution_count": null,
      "outputs": []
    },
    {
      "cell_type": "code",
      "metadata": {},
      "source": [
        "np.outer(x, x)"
      ],
      "id": "474c6079",
      "execution_count": null,
      "outputs": []
    },
    {
      "cell_type": "code",
      "metadata": {},
      "source": [
        "np.kron(x, x)"
      ],
      "id": "60d5d30c",
      "execution_count": null,
      "outputs": []
    },
    {
      "cell_type": "code",
      "metadata": {},
      "source": [
        "np.kron(x[:, np.newaxis], x[np.newaxis, :])"
      ],
      "id": "00f16a5e",
      "execution_count": null,
      "outputs": []
    },
    {
      "cell_type": "code",
      "metadata": {},
      "source": [
        "np.kron(np.ones((2, 2)), np.identity(2))"
      ],
      "id": "128e0a47",
      "execution_count": null,
      "outputs": []
    },
    {
      "cell_type": "code",
      "metadata": {},
      "source": [
        "np.kron(np.identity(2), np.ones((2, 2)))"
      ],
      "id": "b0f7976d",
      "execution_count": null,
      "outputs": []
    },
    {
      "cell_type": "markdown",
      "metadata": {},
      "source": [
        "---"
      ],
      "id": "6f1196f8"
    },
    {
      "cell_type": "code",
      "metadata": {},
      "source": [
        "x = np.array([1, 2, 3, 4])\n",
        "y = np.array([5, 6, 7, 8])"
      ],
      "id": "c724d9bd",
      "execution_count": null,
      "outputs": []
    },
    {
      "cell_type": "code",
      "metadata": {},
      "source": [
        "np.einsum(\"n,n\", x, y)"
      ],
      "id": "da61a4e0",
      "execution_count": null,
      "outputs": []
    },
    {
      "cell_type": "code",
      "metadata": {},
      "source": [
        "np.inner(x, y)"
      ],
      "id": "06db75e7",
      "execution_count": null,
      "outputs": []
    },
    {
      "cell_type": "code",
      "metadata": {},
      "source": [
        "A = np.arange(9).reshape(3, 3)\n",
        "B = A.T"
      ],
      "id": "21efad83",
      "execution_count": null,
      "outputs": []
    },
    {
      "cell_type": "code",
      "metadata": {},
      "source": [
        "np.einsum(\"mk,kn\", A, B)"
      ],
      "id": "08e66113",
      "execution_count": null,
      "outputs": []
    },
    {
      "cell_type": "code",
      "metadata": {},
      "source": [
        "np.all(np.einsum(\"mk,kn\", A, B) == np.dot(A, B))"
      ],
      "id": "64edfe99",
      "execution_count": null,
      "outputs": []
    }
  ],
  "metadata": {
    "kernelspec": {
      "name": "python3",
      "language": "python",
      "display_name": "Python 3 (ipykernel)",
      "path": "/opt/miniconda3/share/jupyter/kernels/python3"
    }
  },
  "nbformat": 4,
  "nbformat_minor": 5
}