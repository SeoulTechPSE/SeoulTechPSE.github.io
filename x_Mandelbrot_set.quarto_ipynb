{
  "cells": [
    {
      "cell_type": "markdown",
      "metadata": {},
      "source": [
        "---\n",
        "jupyter: python3\n",
        "---\n",
        "\n",
        "# Mandelbrot Set in Python {#sec-Mandelbrot}\n",
        "\n",
        "$~$\n",
        "\n",
        "Original Author: [Bartosz Zaczyński](https://realpython.com/mandelbrot-set-python/)\n",
        "\n",
        "$~$\n",
        "\n",
        "## The Boundary of Iterative Stability\n",
        "\n",
        "* Formally, $\\,$the <font color='red'> Mandelbrot set</font> is the set of complex numbers, $\\color{red}{c}$, for which an infinite sequence of numbers, $z_0$, $z_1$, $\\cdots$, $z_n$, $\\cdots$, remains bounded\n",
        "\n",
        "$$\\begin{aligned}\n",
        " z_0 &= 0\\\\ \n",
        " z_{n+1} &= z_n^2 + c \n",
        "\\end{aligned}$$\n",
        "\n",
        "* The entire Mandelbrot set fits in a circle with a radius of two when depicted on the complex plane. This is a handy fact that’ll let you skip many unnecessary calculations for points that certainly don’t belong to the set"
      ],
      "id": "93d83e51"
    },
    {
      "cell_type": "code",
      "metadata": {},
      "source": [
        "def sequence(c):\n",
        "  z = 0\n",
        "  while True:\n",
        "    yield z\n",
        "    z = z**2 +c"
      ],
      "id": "2926ceb2",
      "execution_count": null,
      "outputs": []
    },
    {
      "cell_type": "code",
      "metadata": {},
      "source": [
        "for n, z in enumerate(sequence(c=1)):\n",
        "  print(f'z({n}) = {z}')\n",
        "  if n >= 9:\n",
        "    break"
      ],
      "id": "5a509145",
      "execution_count": null,
      "outputs": []
    },
    {
      "cell_type": "markdown",
      "metadata": {},
      "source": [
        "* Most numbers will make this sequence diverge to infinity. $\\,$However, $\\,$some will keep it **stable** by either converging the sequence to a single value or staying within a bounded range. Others will make the sequence **periodically stable** by cycling back and forth between the same few values. <font color='blue'>Stable and periodically stable values make up the Mandelbrot set</font>"
      ],
      "id": "b807455b"
    },
    {
      "cell_type": "code",
      "metadata": {},
      "source": [
        "for n, z in enumerate(sequence(c=0)):\n",
        "  print(f'z({n}) = {z}')\n",
        "  if n >= 9:\n",
        "    break"
      ],
      "id": "51d258fe",
      "execution_count": null,
      "outputs": []
    },
    {
      "cell_type": "code",
      "metadata": {},
      "source": [
        "for n, z in enumerate(sequence(c=-1)):\n",
        "  print(f'z({n}) = {z}')\n",
        "  if n >= 9:\n",
        "    break"
      ],
      "id": "8b248909",
      "execution_count": null,
      "outputs": []
    },
    {
      "cell_type": "markdown",
      "metadata": {},
      "source": [
        "* It’s not obvious which numbers are stable and which aren’t, $\\,$because the formula is sensitive to even the smallest change of the tested value, $c$\n",
        "\n",
        "* The <font color='red'>fractal</font> corresponding to the Mandelbrot set has a finite area estimated at `1.506484` square units. Mathematicians haven’t pinpointed the exact number yet and don’t know whether it’s rational or not. On the other hand, the perimeter of the Mandelbrot set is infinite\n",
        "\n",
        "## Plotting the Mandelbrot Set Using Python’s `Matplotlib`\n",
        "\n",
        "* To generate the initial set of candidate values, $~$you can take advantage of `np.linspace()`, $\\,$which creates evenly spaced numbers in a given range:"
      ],
      "id": "e4ddc3ee"
    },
    {
      "cell_type": "code",
      "metadata": {},
      "source": [
        "import numpy as np\n",
        "#np.warnings.filterwarnings('ignore')\n",
        "\n",
        "def complex_matrix(xmin, xmax, ymin, ymax, pixel_density):\n",
        "    \n",
        "  re = np.linspace(xmin, xmax, int((xmax -xmin) *pixel_density))\n",
        "  im = np.linspace(ymin, ymax, int((ymax -ymin) *pixel_density))\n",
        "\n",
        "  return re[np.newaxis, :] + im[:, np.newaxis] *1j"
      ],
      "id": "506da806",
      "execution_count": null,
      "outputs": []
    },
    {
      "cell_type": "code",
      "metadata": {},
      "source": [
        "def is_stable(c, num_iterations):\n",
        "  z = 0\n",
        "  for _ in range(num_iterations):\n",
        "    z = z**2 +c\n",
        "  return abs(z) <= 2"
      ],
      "id": "c67e1bab",
      "execution_count": null,
      "outputs": []
    },
    {
      "cell_type": "markdown",
      "metadata": {},
      "source": [
        "### Low-Resolution Scatter Plot"
      ],
      "id": "43d18bc8"
    },
    {
      "cell_type": "code",
      "metadata": {},
      "source": [
        "import matplotlib.pyplot as plt\n",
        "\n",
        "c = complex_matrix(-2, 0.5, -1.5, 1.5, pixel_density=21)\n",
        "members = c[is_stable(c, num_iterations=20)]\n",
        "\n",
        "def plot_low_resolution_scatter():\n",
        "\n",
        "  plt.figure(figsize=(6, 8))\n",
        "  plt.scatter(members.real, members.imag, color='black', marker='x', s=1)\n",
        "    \n",
        "  plt.gca().set_aspect('equal')\n",
        "  plt.axis('off')\n",
        "  plt.tight_layout()\n",
        "\n",
        "  plt.show()"
      ],
      "id": "99152a57",
      "execution_count": null,
      "outputs": []
    },
    {
      "cell_type": "code",
      "metadata": {},
      "source": [
        "#| fig-align: center\n",
        "plot_low_resolution_scatter()"
      ],
      "id": "c46ccfa5",
      "execution_count": null,
      "outputs": []
    },
    {
      "cell_type": "markdown",
      "metadata": {},
      "source": [
        "### High-Resolution Black-and-White Visualization"
      ],
      "id": "44f481dd"
    },
    {
      "cell_type": "code",
      "metadata": {},
      "source": [
        "c = complex_matrix(-2, 0.5, -1.5, 1.5, pixel_density=512)\n",
        "\n",
        "def plot_high_resolution_black_and_white():\n",
        "  \n",
        "  plt.figure(figsize=(6, 8))\n",
        "  plt.imshow(is_stable(c, num_iterations=20), cmap='binary')\n",
        "  \n",
        "  plt.gca().set_aspect('equal')\n",
        "  plt.axis('off')\n",
        "  plt.tight_layout()\n",
        "\n",
        "  plt.show()"
      ],
      "id": "4c7cb6dd",
      "execution_count": null,
      "outputs": []
    },
    {
      "cell_type": "code",
      "metadata": {},
      "source": [
        "#| fig-align: center\n",
        "plot_high_resolution_black_and_white()"
      ],
      "id": "9400f694",
      "execution_count": null,
      "outputs": []
    },
    {
      "cell_type": "markdown",
      "metadata": {},
      "source": [
        "## Drawing the Mandelbrot Set With Pillow\n",
        "\n",
        "* By replacing Matplotlib’s `plt.imshow()` with a very similar call to `Pillow`’s factory method:\n",
        "\n",
        "  ```python\n",
        "     image = Image.fromarray(~is_stable(c, num_iterations=20))\n",
        "     # image.show()  # for console\n",
        "     display(image)  # for jupyter notebook\n",
        "  ```\n",
        "\n",
        "  Notice the use of the bitwise not operator (`~`) in front of your stability matrix, $\\,$which inverts all of the Boolean values. $\\,$This is so that the Mandelbrot set appears in black on a white background since `Pillow` assumes a black background by default\n",
        "\n",
        "### Finding Convergent Elements of the Set"
      ],
      "id": "441e4fbf"
    },
    {
      "cell_type": "code",
      "metadata": {},
      "source": [
        "from dataclasses import dataclass\n",
        "\n",
        "@dataclass\n",
        "class MandelbrotSet:\n",
        "  \n",
        "  max_iterations: int\n",
        "\n",
        "  def __contains__(self, c: complex) -> bool:\n",
        "    z = 0\n",
        "    for _ in range(self.max_iterations):\n",
        "      z = z**2 +c\n",
        "      if abs(z) > 2:\n",
        "        return False     \n",
        "    return True"
      ],
      "id": "f07a9b48",
      "execution_count": null,
      "outputs": []
    },
    {
      "cell_type": "code",
      "metadata": {},
      "source": [
        "mandelbrot_set = MandelbrotSet(max_iterations=30)"
      ],
      "id": "0203e81e",
      "execution_count": null,
      "outputs": []
    },
    {
      "cell_type": "code",
      "metadata": {},
      "source": [
        "0.26 in mandelbrot_set"
      ],
      "id": "1d3f10f1",
      "execution_count": null,
      "outputs": []
    },
    {
      "cell_type": "code",
      "metadata": {},
      "source": [
        "0.25 in mandelbrot_set"
      ],
      "id": "2f72830d",
      "execution_count": null,
      "outputs": []
    },
    {
      "cell_type": "markdown",
      "metadata": {},
      "source": [
        "---"
      ],
      "id": "ee59e42e"
    },
    {
      "cell_type": "code",
      "metadata": {},
      "source": [
        "from PIL import Image\n",
        "\n",
        "width, height = 512, 512\n",
        "scale = 0.0055\n",
        "BLACK_AND_WHITE = '1'\n",
        "\n",
        "image = Image.new(mode=BLACK_AND_WHITE, size=(width, height))\n",
        "\n",
        "for y in range(height):\n",
        "  for x in range(width):\n",
        "    c = scale *complex(x -width /1.35, height /2 -y)\n",
        "    image.putpixel((x, y), c not in mandelbrot_set)"
      ],
      "id": "be052d05",
      "execution_count": null,
      "outputs": []
    },
    {
      "cell_type": "code",
      "metadata": {},
      "source": [
        "#| fig-align: center\n",
        "display(image)"
      ],
      "id": "75901cf8",
      "execution_count": null,
      "outputs": []
    },
    {
      "cell_type": "markdown",
      "metadata": {},
      "source": [
        "### Measuring Divergence With the Escape Count\n",
        "\n",
        "* The number of iterations it takes to detect divergence is known as the <font color='green'>escape count</font>. $\\,$We can use the escape count to introduce <font color='green'>multiple levels of gray</font>\n",
        "\n",
        "* However, $\\,$it’s usually more convenient to deal with <font color='green'>normalized escape counts</font> so that their values are on a scale from zero to one regardless of the maximum number of iterations"
      ],
      "id": "c7c514e4"
    },
    {
      "cell_type": "code",
      "metadata": {},
      "source": [
        "@dataclass\n",
        "class MandelbrotSet:\n",
        "\n",
        "  max_iterations: int\n",
        "\n",
        "  def __contains__(self, c: complex) -> bool:\n",
        "    return self.stability(c) == 1\n",
        "\n",
        "  def stability(self, c: complex) -> float:\n",
        "    return self.escape_count(c) /self.max_iterations\n",
        "\n",
        "  def escape_count(self, c: complex) -> int:\n",
        "    z = 0\n",
        "    for iteration in range(self.max_iterations):\n",
        "      z = z**2 +c\n",
        "      if abs(z) > 2:\n",
        "        return iteration\n",
        "    return self.max_iterations"
      ],
      "id": "a6dc2331",
      "execution_count": null,
      "outputs": []
    },
    {
      "cell_type": "code",
      "metadata": {},
      "source": [
        "mandelbrot_set = MandelbrotSet(max_iterations=30)"
      ],
      "id": "cff98ba5",
      "execution_count": null,
      "outputs": []
    },
    {
      "cell_type": "code",
      "metadata": {},
      "source": [
        "mandelbrot_set.escape_count(0.25)"
      ],
      "id": "6bd74ca2",
      "execution_count": null,
      "outputs": []
    },
    {
      "cell_type": "code",
      "metadata": {},
      "source": [
        "mandelbrot_set.stability(0.25)"
      ],
      "id": "b796f40c",
      "execution_count": null,
      "outputs": []
    },
    {
      "cell_type": "code",
      "metadata": {},
      "source": [
        "0.25 in mandelbrot_set"
      ],
      "id": "184cb1e6",
      "execution_count": null,
      "outputs": []
    },
    {
      "cell_type": "code",
      "metadata": {},
      "source": [
        "mandelbrot_set.escape_count(0.26)"
      ],
      "id": "7dfd0dec",
      "execution_count": null,
      "outputs": []
    },
    {
      "cell_type": "code",
      "metadata": {},
      "source": [
        "mandelbrot_set.stability(0.26)"
      ],
      "id": "1c8caf36",
      "execution_count": null,
      "outputs": []
    },
    {
      "cell_type": "code",
      "metadata": {},
      "source": [
        "0.26 in mandelbrot_set"
      ],
      "id": "1cbf9166",
      "execution_count": null,
      "outputs": []
    },
    {
      "cell_type": "markdown",
      "metadata": {},
      "source": [
        "* The updated implementation of the `MandelbrotSet` class allows for a grayscale visualization, which ties pixel intensity with stability \n",
        "\n",
        "* But you’ll need to change the pixel mode to `L`, $\\,$which stands for *luminance*. $\\,$In this mode, $\\,$each pixel takes an integer value between `0` and `255`, $\\,$so you’ll also need to scale the fractional stability appropriately:"
      ],
      "id": "e2af2c8e"
    },
    {
      "cell_type": "code",
      "metadata": {},
      "source": [
        "width, height = 512, 512\n",
        "scale = 0.0055\n",
        "GRAYSCALE = 'L'\n",
        "\n",
        "image = Image.new(mode=GRAYSCALE, size=(width, height))\n",
        "\n",
        "for y in range(height):\n",
        "  for x in range(width):\n",
        "    c = scale *complex(x -width /1.35, height /2 -y)\n",
        "    instability = 1 -mandelbrot_set.stability(c)\n",
        "    image.putpixel((x, y), int(instability *255))"
      ],
      "id": "bbd45804",
      "execution_count": null,
      "outputs": []
    },
    {
      "cell_type": "code",
      "metadata": {},
      "source": [
        "#| fig-align: center\n",
        "display(image)"
      ],
      "id": "c436e80c",
      "execution_count": null,
      "outputs": []
    },
    {
      "cell_type": "markdown",
      "metadata": {},
      "source": [
        "### Smoothing Out the Banding Artifacts\n",
        "\n",
        "* Getting rid of *color banding* from the Mandelbrot set’s exterior boils down to using <font color='green'>fractional escape counts</font>.\n",
        "\n",
        "* One way to interpolate their intermediate values is to use [logarithms](https://linas.org/art-gallery/escape/smooth.html)"
      ],
      "id": "ad5aed6f"
    },
    {
      "cell_type": "code",
      "metadata": {},
      "source": [
        "from math import log\n",
        "\n",
        "@dataclass\n",
        "class MandelbrotSet:\n",
        "  \n",
        "  max_iterations: int\n",
        "  escape_radius: float = 2.0\n",
        "\n",
        "  def __contains__(self, c: complex) -> bool:\n",
        "    return self.stability(c) == 1\n",
        "    \n",
        "  def stability(self, c: complex, smooth=False, clamp=True) -> float:\n",
        "    value = self.escape_count(c, smooth) /self.max_iterations\n",
        "    return max(0.0, min(value, 1.0)) if clamp else value    \n",
        "\n",
        "  def escape_count(self, c: complex, smooth=False) -> int or float:\n",
        "    z = 0\n",
        "    for iteration in range(self.max_iterations):\n",
        "      z = z**2 +c\n",
        "      if abs(z) > self.escape_radius:\n",
        "        if smooth:\n",
        "          return iteration +1 -log(log(abs(z))) /log(2)\n",
        "        return iteration\n",
        "    return self.max_iterations"
      ],
      "id": "b2bd7e86",
      "execution_count": null,
      "outputs": []
    },
    {
      "cell_type": "code",
      "metadata": {},
      "source": [
        "mandelbrot_set = MandelbrotSet(max_iterations=20, escape_radius=1000.0)\n",
        "\n",
        "width, height = 512, 512\n",
        "scale = 0.0055\n",
        "GRAYSCALE = 'L'\n",
        "\n",
        "image = Image.new(mode=GRAYSCALE, size=(width, height))\n",
        "for y in range(height):\n",
        "  for x in range(width):\n",
        "    c = scale *complex(x -width /1.35, height /2 -y)\n",
        "    instability = 1 -mandelbrot_set.stability(c, smooth=True)\n",
        "    image.putpixel((x, y), int(instability *255))"
      ],
      "id": "bf45dd27",
      "execution_count": null,
      "outputs": []
    },
    {
      "cell_type": "code",
      "metadata": {},
      "source": [
        "#| fig-align: center\n",
        "display(image)"
      ],
      "id": "18d44f42",
      "execution_count": null,
      "outputs": []
    },
    {
      "cell_type": "markdown",
      "metadata": {},
      "source": [
        "### Translating Between Set Elements and Pixels\n",
        "\n",
        "* Unlike the logarithms before, $\\,$the math for scaling and translating the image isn’t terribly difficult. However, $\\,$it adds a bit of code complexity\n",
        "\n",
        "* You can build a smart pixel data type that’ll encapsulate the conversion between the coordinate systems, account for scaling, and handle the colors"
      ],
      "id": "8a2c1510"
    },
    {
      "cell_type": "code",
      "metadata": {},
      "source": [
        "@dataclass\n",
        "class Viewport:\n",
        "  \n",
        "  image: Image.Image\n",
        "  center: complex\n",
        "  width: float\n",
        "        \n",
        "  @property\n",
        "  def scale(self):\n",
        "    return self.width /self.image.width        \n",
        "\n",
        "  @property\n",
        "  def height(self):\n",
        "    return self.scale *self.image.height\n",
        "\n",
        "  @property\n",
        "  def offset(self):\n",
        "    return self.center +complex(-self.width, self.height) /2\n",
        "\n",
        "  def __iter__(self):\n",
        "    for y in range(self.image.height):\n",
        "      for x in range(self.image.width):\n",
        "        yield Pixel(self, x, y)"
      ],
      "id": "246ee651",
      "execution_count": null,
      "outputs": []
    },
    {
      "cell_type": "code",
      "metadata": {},
      "source": [
        "@dataclass\n",
        "class Pixel:\n",
        "\n",
        "  viewport: Viewport\n",
        "  x: int\n",
        "  y: int\n",
        "\n",
        "  @property\n",
        "  def color(self):\n",
        "    return self.viewport.image.getpixel((self.x, self.y))\n",
        "\n",
        "  @color.setter\n",
        "  def color(self, value):\n",
        "    self.viewport.image.putpixel((self.x, self.y), value)\n",
        "\n",
        "  def __complex__(self):\n",
        "    return complex(self.x, -self.y) *self.viewport.scale +self.viewport.offset"
      ],
      "id": "33e92d70",
      "execution_count": null,
      "outputs": []
    },
    {
      "cell_type": "code",
      "metadata": {},
      "source": [
        "mandelbrot_set = MandelbrotSet(max_iterations=256, escape_radius=1000.0)\n",
        "\n",
        "image = Image.new(mode='L', size=(512, 512))\n",
        "for pixel in Viewport(image, center=-0.7435 +0.1314j, width=0.002):\n",
        "  c = complex(pixel)\n",
        "  instability = 1 -mandelbrot_set.stability(c, smooth=True)\n",
        "  pixel.color = int(instability *255)"
      ],
      "id": "70389889",
      "execution_count": null,
      "outputs": []
    },
    {
      "cell_type": "markdown",
      "metadata": {},
      "source": [
        "* The `viewport` spans `0.002` world units and is centered at `-0.7435 +0.1314j`, $\\,$which is close to <font color='red'>a Misiurewicz point</font> that produces a beautiful spiral"
      ],
      "id": "986ff6e1"
    },
    {
      "cell_type": "code",
      "metadata": {},
      "source": [
        "#| fig-align: center\n",
        "display(image)"
      ],
      "id": "a472912d",
      "execution_count": null,
      "outputs": []
    },
    {
      "cell_type": "code",
      "metadata": {},
      "source": [
        "#| fig-align: center\n",
        "from PIL import ImageEnhance\n",
        "\n",
        "enhancer = ImageEnhance.Brightness(image)\n",
        "display(enhancer.enhance(1.4))"
      ],
      "id": "af85b9f3",
      "execution_count": null,
      "outputs": []
    },
    {
      "cell_type": "markdown",
      "metadata": {},
      "source": [
        "* We can find many more unique points producing such spectacular results. $\\,$Wikipedia hosts an entire [image gallery](https://en.wikipedia.org/wiki/Mandelbrot_set#Image_gallery_of_a_zoom_sequence) of various details of the Mandelbrot set that are worth exploring"
      ],
      "id": "cf27f344"
    },
    {
      "cell_type": "code",
      "metadata": {},
      "source": [
        "mandelbrot_set = MandelbrotSet(max_iterations=256, escape_radius=1000.0)\n",
        "\n",
        "image = Image.new(mode='L', size=(512, 512))\n",
        "for pixel in Viewport(image, center=-0.74364990 +0.13188204j, width=0.00073801):\n",
        "  c = complex(pixel)\n",
        "  instability = 1 -mandelbrot_set.stability(c, smooth=True)\n",
        "  pixel.color = int(instability *255)"
      ],
      "id": "ea012699",
      "execution_count": null,
      "outputs": []
    },
    {
      "cell_type": "code",
      "metadata": {},
      "source": [
        "#| fig-align: center\n",
        "enhancer = ImageEnhance.Brightness(image)\n",
        "display(enhancer.enhance(1.4))"
      ],
      "id": "3fea631b",
      "execution_count": null,
      "outputs": []
    },
    {
      "cell_type": "markdown",
      "metadata": {},
      "source": [
        "## Making an Artistic Representation of the Mandelbrot Set\n",
        "\n",
        "* While there are [many algorithms for plotting the Mandelbrot set in aesthetically pleasing ways](https://en.wikipedia.org/wiki/Plotting_algorithms_for_the_Mandelbrot_set), $\\,$our imagination is the only limit!\n",
        "\n",
        "### Color Palette\n",
        "\n",
        "* To use more colors, $\\,$you’ll need to create your image in the RGB mode first, $\\,$which will allocate 24 bits per pixel:\n",
        "\n",
        "  ```python\n",
        "     image = Image.new(mode='RGB', size=(width, height))\n",
        "  ```\n",
        "\n",
        "* From now on, $\\,$`Pillow` will represent every pixel as a tuple comprised of the red, green, and blue (RGB) color channels\n",
        "\n",
        "* `Matplotlib` library includes [several colormaps](https://matplotlib.org/3.5.0/tutorials/colors/colormaps.html) with normalized color channels. $\\,$Some colormaps are fixed lists of colors, $\\,$while others are able to interpolate values given as a parameter"
      ],
      "id": "e714f104"
    },
    {
      "cell_type": "code",
      "metadata": {},
      "source": [
        "import matplotlib as mpl\n",
        "\n",
        "cmap = mpl.colormaps['twilight']\n",
        "colormap = cmap(np.linspace(0, 1, 256))\n",
        "colormap[:5]"
      ],
      "id": "72a72919",
      "execution_count": null,
      "outputs": []
    },
    {
      "cell_type": "markdown",
      "metadata": {},
      "source": [
        "* `Pillow` only understands integers in the range of `0` through `255` for the color channels. $\\,$We need another function that’ll reverse the normalization process to make the Pillow library happy:"
      ],
      "id": "9dc21c09"
    },
    {
      "cell_type": "code",
      "metadata": {},
      "source": [
        "def denormalize(colormap):\n",
        "  return [tuple(int(channel *255) for channel in color) for color in colormap]\n",
        "\n",
        "palette = denormalize(colormap)\n",
        "palette[:5] "
      ],
      "id": "39d5630e",
      "execution_count": null,
      "outputs": []
    },
    {
      "cell_type": "markdown",
      "metadata": {},
      "source": [
        "* The `twilight` colormap is a list of 510 colors. $\\,$After calling `denormalize()` on it, $\\,$you’ll get a color palette suitable for your painting function\n",
        "\n",
        "* If you’d like to test out a couple of different palettes, $\\,$then it might be convenient to introduce a helper function to avoid retyping the same commands over and over again:"
      ],
      "id": "8a9f8bc6"
    },
    {
      "cell_type": "code",
      "metadata": {},
      "source": [
        "def paint(mandelbrot_set, viewport, palette, smooth):\n",
        "  for pixel in viewport:\n",
        "    stability = mandelbrot_set.stability(complex(pixel), smooth)\n",
        "    index = int(min(stability *len(palette), len(palette) -1))\n",
        "    pixel.color = palette[index % len(palette)]"
      ],
      "id": "e9e857a0",
      "execution_count": null,
      "outputs": []
    },
    {
      "cell_type": "markdown",
      "metadata": {},
      "source": [
        "* The number of colors in your palette doesn’t necessarily have to equal the maximum number of iterations. $\\,$After all, it’s unknown how many stability values there’ll be until we run the recursive formula. $\\,$When we enable smoothing, $\\,$the number of fractional escape counts can be greater than the number of iterations!"
      ],
      "id": "abc39b38"
    },
    {
      "cell_type": "code",
      "metadata": {},
      "source": [
        "#| fig-align: center\n",
        "mandelbrot_set = MandelbrotSet(max_iterations=512, escape_radius=1000.0)\n",
        "image = Image.new(mode='RGB', size=(512, 512))\n",
        "viewport = Viewport(image, center=-0.7435 +0.1314j, width=0.002)\n",
        "paint(mandelbrot_set, viewport, palette, smooth=True)\n",
        "\n",
        "display(image)"
      ],
      "id": "bd570a1b",
      "execution_count": null,
      "outputs": []
    },
    {
      "cell_type": "markdown",
      "metadata": {},
      "source": [
        "* Feel free to try other color palettes included in `Matplotlib` or one of the third-party libraries that they mention in the documentation. $\\,$Additionally, $\\,$`Matplotlib` lets you reverse the color order by appending the `_r` suffix to a colormap’s name"
      ],
      "id": "77937a7e"
    },
    {
      "cell_type": "code",
      "metadata": {},
      "source": [
        "#| fig-align: center\n",
        "\n",
        "cmap = mpl.colormaps['twilight_r']\n",
        "colormap = cmap(np.linspace(0, 1, 256))\n",
        "\n",
        "palette = denormalize(colormap)\n",
        "paint(mandelbrot_set, viewport, palette, smooth=True)\n",
        "\n",
        "display(image)"
      ],
      "id": "3a84becc",
      "execution_count": null,
      "outputs": []
    },
    {
      "cell_type": "code",
      "metadata": {},
      "source": [
        "#| fig-align: center\n",
        "image = Image.new(mode='RGB', size=(768, 768))\n",
        "viewport = Viewport(image, center=-0.743643135 +0.131825963j, width= 0.000014628)\n",
        "\n",
        "cmap = mpl.colormaps['plasma']\n",
        "colormap = cmap(np.linspace(0, 1, 256))\n",
        "\n",
        "palette = denormalize(colormap)\n",
        "paint(mandelbrot_set, viewport, palette, smooth=True)\n",
        "\n",
        "display(image)"
      ],
      "id": "a6e252c2",
      "execution_count": null,
      "outputs": []
    },
    {
      "cell_type": "markdown",
      "metadata": {},
      "source": [
        "* Suppose you wanted to emphasize the fractal’s edge. In such a case, you can divide the fractal into three parts and assign different colors to each:"
      ],
      "id": "a0d039a2"
    },
    {
      "cell_type": "code",
      "metadata": {},
      "source": [
        "#| fig-align: center\n",
        "exterior = [(1, 1, 1)] *50\n",
        "interior = [(1, 1, 1)] *5\n",
        "gray_area = [(1 - i /44,) *3 for i in range(45)]\n",
        "palette = denormalize(exterior +gray_area +interior)\n",
        "\n",
        "mandelbrot_set = MandelbrotSet(max_iterations=20, escape_radius=1000.0)\n",
        "viewport = Viewport(image, center=-0.75, width=2.5)\n",
        "\n",
        "paint(mandelbrot_set, viewport, palette, smooth=True)\n",
        "\n",
        "display(image)"
      ],
      "id": "c8b5edf5",
      "execution_count": null,
      "outputs": []
    },
    {
      "cell_type": "markdown",
      "metadata": {},
      "source": [
        "### Color Gradient"
      ],
      "id": "7d5e8365"
    },
    {
      "cell_type": "code",
      "metadata": {},
      "source": [
        "import numpy as np\n",
        "from scipy.interpolate import interp1d\n",
        "\n",
        "def make_gradient(colors, interpolation='linear'):\n",
        "\n",
        "  X = [i /(len(colors) -1) for i in range(len(colors))]\n",
        "  Y = [[color[i] for color in colors] for i in range(3)]\n",
        "  channels = [interp1d(X, y, kind=interpolation) for y in Y]\n",
        "  \n",
        "  return lambda x: [np.clip(channel(x), 0, 1) for channel in channels]"
      ],
      "id": "9566b9bd",
      "execution_count": null,
      "outputs": []
    },
    {
      "cell_type": "code",
      "metadata": {},
      "source": [
        "black  = (0, 0, 0)\n",
        "blue   = (0, 0, 1)\n",
        "maroon = (0.5, 0, 0)\n",
        "navy   = (0, 0, 0.5)\n",
        "red    = (1, 0, 0)\n",
        "\n",
        "colors = [black, navy, blue, maroon, red, black]\n",
        "gradient = make_gradient(colors, interpolation='cubic')"
      ],
      "id": "37ae7c54",
      "execution_count": null,
      "outputs": []
    },
    {
      "cell_type": "code",
      "metadata": {},
      "source": [
        "num_colors = 256\n",
        "palette = denormalize([gradient(i /num_colors) for i in range(num_colors)])"
      ],
      "id": "e14d3213",
      "execution_count": null,
      "outputs": []
    },
    {
      "cell_type": "code",
      "metadata": {},
      "source": [
        "#| fig-align: center\n",
        "image = Image.new(mode='RGB', size=(768, 768))\n",
        "mandelbrot_set = MandelbrotSet(max_iterations=20, escape_radius=1000)\n",
        "viewport = Viewport(image, center=-0.75, width=2.5)\n",
        "\n",
        "paint(mandelbrot_set, viewport, palette, smooth=True)\n",
        "\n",
        "display(image)"
      ],
      "id": "c19f0301",
      "execution_count": null,
      "outputs": []
    },
    {
      "cell_type": "markdown",
      "metadata": {},
      "source": [
        "### Color Model\n",
        "\n",
        "* There are alternative color models that let you express the same concept. $\\,$One is the Hue, Saturation, Brightness (HSB) color model, also known as Hue, Saturation, Value (HSV)\n",
        "\n",
        "![Hue Saturation Brightness Cylinder](https://files.realpython.com/media/hsb_256.67b909e67a4e.png)\n",
        "\n",
        "* The three HSB coordinates are:\n",
        "\n",
        "  * **Hue**: The angle measured counterclockwise between `0°` and `360°`\n",
        "  * **Saturation**: The radius of the cylinder between `0%` and `100%`\n",
        "  * **Brightness**: The height of the cylinder between `0%` and `100%`\n",
        "\n",
        "  To use such coordinates in `Pillow`, $~$we must translate them to a tuple of RGB values in the familiar range of `0` to `255`:"
      ],
      "id": "f7f2e46f"
    },
    {
      "cell_type": "code",
      "metadata": {},
      "source": [
        "#| fig-align: center\n",
        "from PIL.ImageColor import getrgb\n",
        "\n",
        "def hsb(hue_degrees: int, saturation: float, brightness: float):\n",
        "  return getrgb( \n",
        "    f\"hsv({hue_degrees % 360},\"\n",
        "    f\"{saturation *100}%,\"\n",
        "    f\"{brightness *100}%)\"\n",
        "  )\n",
        "\n",
        "image = Image.new(mode='RGB', size=(768, 768))\n",
        "mandelbrot_set = MandelbrotSet(max_iterations=20, escape_radius=1000.0)\n",
        "\n",
        "for pixel in Viewport(image, center=-0.75, width=2.5):\n",
        "  stability = mandelbrot_set.stability(complex(pixel), smooth=True)\n",
        "  pixel.color = (0, 0, 0) if stability == 1 else hsb(\n",
        "    hue_degrees=int((1 - stability) * 360),\n",
        "    saturation=1 - stability,\n",
        "    brightness=1,\n",
        "  )\n",
        "\n",
        "display(image) "
      ],
      "id": "ff9d07a3",
      "execution_count": null,
      "outputs": []
    },
    {
      "cell_type": "markdown",
      "metadata": {},
      "source": [
        "## Conclusions\n",
        "\n",
        "* **In this appendix, $\\,$we learned how to:**\n",
        "\n",
        "  * Apply complex numbers to a practical problem\n",
        "  * Find members of the Mandelbrot set\n",
        "  * Draw these sets as fractals using `Matplotlib` and `Pillow`\n",
        "  * Make a colorful artistic representation of the fractals\n",
        "\n",
        "  Now we know how to use Python to plot and draw the famous fractal discovered by Benoît Mandelbrot"
      ],
      "id": "34cf90a5"
    }
  ],
  "metadata": {
    "kernelspec": {
      "name": "python3",
      "language": "python",
      "display_name": "Python 3 (ipykernel)",
      "path": "/opt/miniconda3/share/jupyter/kernels/python3"
    }
  },
  "nbformat": 4,
  "nbformat_minor": 5
}